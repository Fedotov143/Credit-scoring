{
 "cells": [
  {
   "cell_type": "markdown",
   "metadata": {
    "toc": true
   },
   "source": [
    "<h1>Содержание<span class=\"tocSkip\"></span></h1>\n",
    "<div class=\"toc\"><ul class=\"toc-item\"><li><span><a href=\"#Шаг.-Грузим-данные-и-готовим-их-к-анализу.\" data-toc-modified-id=\"Шаг.-Грузим-данные-и-готовим-их-к-анализу.-1\"><span class=\"toc-item-num\">1&nbsp;&nbsp;</span>Шаг. Грузим данные и готовим их к анализу.</a></span></li><li><span><a href=\"#Шаг.-Анализ-данных\" data-toc-modified-id=\"Шаг.-Анализ-данных-2\"><span class=\"toc-item-num\">2&nbsp;&nbsp;</span>Шаг. Анализ данных</a></span><ul class=\"toc-item\"><li><span><a href=\"#Исследовать-соотношение-видов-объектов-общественного-питания-по-количеству.-Построить-график.\" data-toc-modified-id=\"Исследовать-соотношение-видов-объектов-общественного-питания-по-количеству.-Построить-график.-2.1\"><span class=\"toc-item-num\">2.1&nbsp;&nbsp;</span>Исследовать соотношение видов объектов общественного питания по количеству. Построить график.</a></span></li><li><span><a href=\"#Исследовать-соотношение-сетевых-и-несетевых-заведений-по-количеству.-Построить-график.\" data-toc-modified-id=\"Исследовать-соотношение-сетевых-и-несетевых-заведений-по-количеству.-Построить-график.-2.2\"><span class=\"toc-item-num\">2.2&nbsp;&nbsp;</span>Исследовать соотношение сетевых и несетевых заведений по количеству. Построить график.</a></span></li><li><span><a href=\"#Для-какого-вида-объекта-общественного-питания-характерно-сетевое-распространение?\" data-toc-modified-id=\"Для-какого-вида-объекта-общественного-питания-характерно-сетевое-распространение?-2.3\"><span class=\"toc-item-num\">2.3&nbsp;&nbsp;</span>Для какого вида объекта общественного питания характерно сетевое распространение?</a></span></li><li><span><a href=\"#Что-характерно-для-сетевых-заведений:-много-заведений-с-небольшим-числом-посадочных-мест-в-каждом-или-мало-заведений-с-большим-количеством-посадочных-мест?\" data-toc-modified-id=\"Что-характерно-для-сетевых-заведений:-много-заведений-с-небольшим-числом-посадочных-мест-в-каждом-или-мало-заведений-с-большим-количеством-посадочных-мест?-2.4\"><span class=\"toc-item-num\">2.4&nbsp;&nbsp;</span>Что характерно для сетевых заведений: много заведений с небольшим числом посадочных мест в каждом или мало заведений с большим количеством посадочных мест?</a></span></li><li><span><a href=\"#Для-каждого-вида-объекта-общественного-питания-опишите-среднее-количество-посадочных-мест.-Какой-вид-предоставляет-в-среднем-самое-большое-количество-посадочных-мест?-Постройте-графики.\" data-toc-modified-id=\"Для-каждого-вида-объекта-общественного-питания-опишите-среднее-количество-посадочных-мест.-Какой-вид-предоставляет-в-среднем-самое-большое-количество-посадочных-мест?-Постройте-графики.-2.5\"><span class=\"toc-item-num\">2.5&nbsp;&nbsp;</span>Для каждого вида объекта общественного питания опишите среднее количество посадочных мест. Какой вид предоставляет в среднем самое большое количество посадочных мест? Постройте графики.</a></span></li><li><span><a href=\"#Выделить-в-отдельный-столбец-информацию-об-улице-из-столбца-address-.\" data-toc-modified-id=\"Выделить-в-отдельный-столбец-информацию-об-улице-из-столбца-address-.-2.6\"><span class=\"toc-item-num\">2.6&nbsp;&nbsp;</span>Выделить в отдельный столбец информацию об улице из столбца address .</a></span></li><li><span><a href=\"#Построить-график-топ-10-улиц-по-количеству-объектов-общественного-питания.-Воспользоваться-внешней-информацией-и-ответьте-на-вопрос-—-в-каких-районах-Москвы-находятся-эти-улицы?\" data-toc-modified-id=\"Построить-график-топ-10-улиц-по-количеству-объектов-общественного-питания.-Воспользоваться-внешней-информацией-и-ответьте-на-вопрос-—-в-каких-районах-Москвы-находятся-эти-улицы?-2.7\"><span class=\"toc-item-num\">2.7&nbsp;&nbsp;</span>Построить график топ-10 улиц по количеству объектов общественного питания. Воспользоваться внешней информацией и ответьте на вопрос — в каких районах Москвы находятся эти улицы?</a></span></li><li><span><a href=\"#Найти-число-улиц-с-одним-объектом-общественного-питания.-Воспользоваться-внешней-информацией-и-ответьте-на-вопрос-—-в-каких-районах-Москвы-находятся-эти-улицы?\" data-toc-modified-id=\"Найти-число-улиц-с-одним-объектом-общественного-питания.-Воспользоваться-внешней-информацией-и-ответьте-на-вопрос-—-в-каких-районах-Москвы-находятся-эти-улицы?-2.8\"><span class=\"toc-item-num\">2.8&nbsp;&nbsp;</span>Найти число улиц с одним объектом общественного питания. Воспользоваться внешней информацией и ответьте на вопрос — в каких районах Москвы находятся эти улицы?</a></span></li><li><span><a href=\"#Посмотреть-на-распределение-количества-посадочных-мест-для-улиц-с-большим-количеством-объектов-общественного-питания.-Какие-закономерности-можно-выявить?\" data-toc-modified-id=\"Посмотреть-на-распределение-количества-посадочных-мест-для-улиц-с-большим-количеством-объектов-общественного-питания.-Какие-закономерности-можно-выявить?-2.9\"><span class=\"toc-item-num\">2.9&nbsp;&nbsp;</span>Посмотреть на распределение количества посадочных мест для улиц с большим количеством объектов общественного питания. Какие закономерности можно выявить?</a></span></li></ul></li><li><span><a href=\"#Шаг.-Подготовить-презентацию.\" data-toc-modified-id=\"Шаг.-Подготовить-презентацию.-3\"><span class=\"toc-item-num\">3&nbsp;&nbsp;</span>Шаг. Подготовить презентацию.</a></span></li></ul></div>"
   ]
  },
  {
   "cell_type": "markdown",
   "metadata": {},
   "source": [
    "# Рынок заведения общественного питания."
   ]
  },
  {
   "cell_type": "markdown",
   "metadata": {},
   "source": [
    "В Москве планируется открытие нового кафе с интересной идеей - клиентов должны обслуживать роботы. Для его осуществеления необходимо обратиться к инвесторам. Их интересует актуальное положение дел на рынке - сможет ли проект оставаться популярным в долгосрочной перпективе. Требуется подготовить аналитику рынка на основании открытых данных о заведениях общественного питания в Москве."
   ]
  },
  {
   "cell_type": "markdown",
   "metadata": {},
   "source": [
    "# Шаг 1. Загрузить данные и подготовить их к анализу."
   ]
  },
  {
   "cell_type": "markdown",
   "metadata": {},
   "source": [
    "# Шаг 2. Анализ данных"
   ]
  },
  {
   "cell_type": "markdown",
   "metadata": {},
   "source": [
    "- Исследовать соотношение видов объектов общественного питания по количеству. Построить график.\n",
    "\n",
    "\n",
    "- Исследовать соотношение сетевых и несетевых заведений по количеству. Построить график.\n",
    "\n",
    "\n",
    "- Для какого вида объекта общественного питания характерно сетевое распространение?\n",
    "\n",
    "\n",
    "- Что характерно для сетевых заведений: много заведений с небольшим числом посадочных мест в каждом или мало заведений с большим количеством посадочных мест?\n",
    "\n",
    "\n",
    "- Для каждого вида объекта общественного питания опишите среднее количество посадочных мест. Какой вид предоставляет в среднем самое большое количество посадочных мест? Постройте графики.\n",
    "\n",
    "\n",
    "- Выделить в отдельный столбец информацию об улице из столбца address .\n",
    "\n",
    "\n",
    "- Построить график топ-10 улиц по количеству объектов общественного питания. Воспользоваться внешней информацией и ответьте на вопрос — в каких районах Москвы находятся эти улицы?\n",
    "\n",
    "\n",
    "- Найти число улиц с одним объектом общественного питания. Воспользоваться внешней информацией и ответьте на вопрос — в каких районах Москвы находятся эти улицы?\n",
    "\n",
    "\n",
    "- Посмотреть на распределение количества посадочных мест для улиц с большим количеством объектов общественного питания. Какие закономерности можно выявить?"
   ]
  },
  {
   "cell_type": "markdown",
   "metadata": {},
   "source": [
    "# Шаг 3. Подготовить презентацию."
   ]
  },
  {
   "cell_type": "markdown",
   "metadata": {},
   "source": [
    "## Шаг. Грузим данные и готовим их к анализу."
   ]
  },
  {
   "cell_type": "code",
   "execution_count": 1,
   "metadata": {},
   "outputs": [],
   "source": [
    "import pandas as pd\n",
    "import numpy as np\n",
    "import matplotlib.pyplot as plt\n",
    "import seaborn as sns\n",
    "import pylab\n",
    "from plotly import graph_objects as go\n",
    "from plotly.offline import download_plotlyjs, init_notebook_mode, plot, iplot\n",
    "import requests\n",
    "import re\n",
    "import json"
   ]
  },
  {
   "cell_type": "code",
   "execution_count": 2,
   "metadata": {},
   "outputs": [],
   "source": [
    "df = pd.read_csv('/datasets/rest_data.csv')"
   ]
  },
  {
   "cell_type": "code",
   "execution_count": 3,
   "metadata": {},
   "outputs": [
    {
     "name": "stdout",
     "output_type": "stream",
     "text": [
      "<class 'pandas.core.frame.DataFrame'>\n",
      "RangeIndex: 15366 entries, 0 to 15365\n",
      "Data columns (total 6 columns):\n",
      "id             15366 non-null int64\n",
      "object_name    15366 non-null object\n",
      "chain          15366 non-null object\n",
      "object_type    15366 non-null object\n",
      "address        15366 non-null object\n",
      "number         15366 non-null int64\n",
      "dtypes: int64(2), object(4)\n",
      "memory usage: 720.4+ KB\n"
     ]
    }
   ],
   "source": [
    "df.info()"
   ]
  },
  {
   "cell_type": "code",
   "execution_count": 4,
   "metadata": {},
   "outputs": [
    {
     "data": {
      "text/html": [
       "<div>\n",
       "<style scoped>\n",
       "    .dataframe tbody tr th:only-of-type {\n",
       "        vertical-align: middle;\n",
       "    }\n",
       "\n",
       "    .dataframe tbody tr th {\n",
       "        vertical-align: top;\n",
       "    }\n",
       "\n",
       "    .dataframe thead th {\n",
       "        text-align: right;\n",
       "    }\n",
       "</style>\n",
       "<table border=\"1\" class=\"dataframe\">\n",
       "  <thead>\n",
       "    <tr style=\"text-align: right;\">\n",
       "      <th></th>\n",
       "      <th>id</th>\n",
       "      <th>object_name</th>\n",
       "      <th>chain</th>\n",
       "      <th>object_type</th>\n",
       "      <th>address</th>\n",
       "      <th>number</th>\n",
       "    </tr>\n",
       "  </thead>\n",
       "  <tbody>\n",
       "    <tr>\n",
       "      <td>0</td>\n",
       "      <td>151635</td>\n",
       "      <td>СМЕТАНА</td>\n",
       "      <td>нет</td>\n",
       "      <td>кафе</td>\n",
       "      <td>город Москва, улица Егора Абакумова, дом 9</td>\n",
       "      <td>48</td>\n",
       "    </tr>\n",
       "    <tr>\n",
       "      <td>1</td>\n",
       "      <td>77874</td>\n",
       "      <td>Родник</td>\n",
       "      <td>нет</td>\n",
       "      <td>кафе</td>\n",
       "      <td>город Москва, улица Талалихина, дом 2/1, корпус 1</td>\n",
       "      <td>35</td>\n",
       "    </tr>\n",
       "    <tr>\n",
       "      <td>2</td>\n",
       "      <td>24309</td>\n",
       "      <td>Кафе «Академия»</td>\n",
       "      <td>нет</td>\n",
       "      <td>кафе</td>\n",
       "      <td>город Москва, Абельмановская улица, дом 6</td>\n",
       "      <td>95</td>\n",
       "    </tr>\n",
       "    <tr>\n",
       "      <td>3</td>\n",
       "      <td>21894</td>\n",
       "      <td>ПИЦЦЕТОРИЯ</td>\n",
       "      <td>да</td>\n",
       "      <td>кафе</td>\n",
       "      <td>город Москва, Абрамцевская улица, дом 1</td>\n",
       "      <td>40</td>\n",
       "    </tr>\n",
       "    <tr>\n",
       "      <td>4</td>\n",
       "      <td>119365</td>\n",
       "      <td>Кафе «Вишневая метель»</td>\n",
       "      <td>нет</td>\n",
       "      <td>кафе</td>\n",
       "      <td>город Москва, Абрамцевская улица, дом 9, корпус 1</td>\n",
       "      <td>50</td>\n",
       "    </tr>\n",
       "    <tr>\n",
       "      <td>...</td>\n",
       "      <td>...</td>\n",
       "      <td>...</td>\n",
       "      <td>...</td>\n",
       "      <td>...</td>\n",
       "      <td>...</td>\n",
       "      <td>...</td>\n",
       "    </tr>\n",
       "    <tr>\n",
       "      <td>15361</td>\n",
       "      <td>208537</td>\n",
       "      <td>Шоколадница</td>\n",
       "      <td>да</td>\n",
       "      <td>кафе</td>\n",
       "      <td>город Москва, 3-й Крутицкий переулок, дом 18</td>\n",
       "      <td>50</td>\n",
       "    </tr>\n",
       "    <tr>\n",
       "      <td>15362</td>\n",
       "      <td>209264</td>\n",
       "      <td>Шоколадница</td>\n",
       "      <td>да</td>\n",
       "      <td>кафе</td>\n",
       "      <td>город Москва, улица Земляной Вал, дом 33</td>\n",
       "      <td>10</td>\n",
       "    </tr>\n",
       "    <tr>\n",
       "      <td>15363</td>\n",
       "      <td>209186</td>\n",
       "      <td>Шоколадница</td>\n",
       "      <td>да</td>\n",
       "      <td>кафе</td>\n",
       "      <td>город Москва, улица Земляной Вал, дом 33</td>\n",
       "      <td>20</td>\n",
       "    </tr>\n",
       "    <tr>\n",
       "      <td>15364</td>\n",
       "      <td>221900</td>\n",
       "      <td>Шоколадница</td>\n",
       "      <td>да</td>\n",
       "      <td>кафе</td>\n",
       "      <td>город Москва, поселение Московский, Киевское ш...</td>\n",
       "      <td>36</td>\n",
       "    </tr>\n",
       "    <tr>\n",
       "      <td>15365</td>\n",
       "      <td>222535</td>\n",
       "      <td>Шоколадница</td>\n",
       "      <td>да</td>\n",
       "      <td>кафе</td>\n",
       "      <td>город Москва, Ходынский бульвар, дом 4</td>\n",
       "      <td>10</td>\n",
       "    </tr>\n",
       "  </tbody>\n",
       "</table>\n",
       "<p>15366 rows × 6 columns</p>\n",
       "</div>"
      ],
      "text/plain": [
       "           id             object_name chain object_type  \\\n",
       "0      151635                 СМЕТАНА   нет        кафе   \n",
       "1       77874                  Родник   нет        кафе   \n",
       "2       24309         Кафе «Академия»   нет        кафе   \n",
       "3       21894              ПИЦЦЕТОРИЯ    да        кафе   \n",
       "4      119365  Кафе «Вишневая метель»   нет        кафе   \n",
       "...       ...                     ...   ...         ...   \n",
       "15361  208537             Шоколадница    да        кафе   \n",
       "15362  209264             Шоколадница    да        кафе   \n",
       "15363  209186             Шоколадница    да        кафе   \n",
       "15364  221900             Шоколадница    да        кафе   \n",
       "15365  222535             Шоколадница    да        кафе   \n",
       "\n",
       "                                                 address  number  \n",
       "0             город Москва, улица Егора Абакумова, дом 9      48  \n",
       "1      город Москва, улица Талалихина, дом 2/1, корпус 1      35  \n",
       "2              город Москва, Абельмановская улица, дом 6      95  \n",
       "3                город Москва, Абрамцевская улица, дом 1      40  \n",
       "4      город Москва, Абрамцевская улица, дом 9, корпус 1      50  \n",
       "...                                                  ...     ...  \n",
       "15361       город Москва, 3-й Крутицкий переулок, дом 18      50  \n",
       "15362           город Москва, улица Земляной Вал, дом 33      10  \n",
       "15363           город Москва, улица Земляной Вал, дом 33      20  \n",
       "15364  город Москва, поселение Московский, Киевское ш...      36  \n",
       "15365             город Москва, Ходынский бульвар, дом 4      10  \n",
       "\n",
       "[15366 rows x 6 columns]"
      ]
     },
     "metadata": {},
     "output_type": "display_data"
    }
   ],
   "source": [
    "display(df)"
   ]
  },
  {
   "cell_type": "markdown",
   "metadata": {},
   "source": [
    "Приведем к нижнему регистру низвания заведений и адреса."
   ]
  },
  {
   "cell_type": "code",
   "execution_count": 5,
   "metadata": {},
   "outputs": [],
   "source": [
    "df['object_name'] = df['object_name'].str.lower()\n",
    "df['address'] = df['address'].str.lower()"
   ]
  },
  {
   "cell_type": "markdown",
   "metadata": {},
   "source": [
    "Проверим на дубликаты."
   ]
  },
  {
   "cell_type": "code",
   "execution_count": 6,
   "metadata": {},
   "outputs": [
    {
     "data": {
      "text/plain": [
       "0"
      ]
     },
     "execution_count": 6,
     "metadata": {},
     "output_type": "execute_result"
    }
   ],
   "source": [
    "df.duplicated().sum()"
   ]
  },
  {
   "cell_type": "code",
   "execution_count": 7,
   "metadata": {},
   "outputs": [
    {
     "data": {
      "text/html": [
       "<div>\n",
       "<style scoped>\n",
       "    .dataframe tbody tr th:only-of-type {\n",
       "        vertical-align: middle;\n",
       "    }\n",
       "\n",
       "    .dataframe tbody tr th {\n",
       "        vertical-align: top;\n",
       "    }\n",
       "\n",
       "    .dataframe thead th {\n",
       "        text-align: right;\n",
       "    }\n",
       "</style>\n",
       "<table border=\"1\" class=\"dataframe\">\n",
       "  <thead>\n",
       "    <tr style=\"text-align: right;\">\n",
       "      <th></th>\n",
       "      <th>id</th>\n",
       "      <th>object_name</th>\n",
       "      <th>chain</th>\n",
       "      <th>object_type</th>\n",
       "      <th>address</th>\n",
       "      <th>number</th>\n",
       "    </tr>\n",
       "  </thead>\n",
       "  <tbody>\n",
       "    <tr>\n",
       "      <td>0</td>\n",
       "      <td>151635</td>\n",
       "      <td>сметана</td>\n",
       "      <td>нет</td>\n",
       "      <td>кафе</td>\n",
       "      <td>город москва, улица егора абакумова, дом 9</td>\n",
       "      <td>48</td>\n",
       "    </tr>\n",
       "    <tr>\n",
       "      <td>1</td>\n",
       "      <td>77874</td>\n",
       "      <td>родник</td>\n",
       "      <td>нет</td>\n",
       "      <td>кафе</td>\n",
       "      <td>город москва, улица талалихина, дом 2/1, корпус 1</td>\n",
       "      <td>35</td>\n",
       "    </tr>\n",
       "    <tr>\n",
       "      <td>2</td>\n",
       "      <td>24309</td>\n",
       "      <td>кафе «академия»</td>\n",
       "      <td>нет</td>\n",
       "      <td>кафе</td>\n",
       "      <td>город москва, абельмановская улица, дом 6</td>\n",
       "      <td>95</td>\n",
       "    </tr>\n",
       "    <tr>\n",
       "      <td>3</td>\n",
       "      <td>21894</td>\n",
       "      <td>пиццетория</td>\n",
       "      <td>да</td>\n",
       "      <td>кафе</td>\n",
       "      <td>город москва, абрамцевская улица, дом 1</td>\n",
       "      <td>40</td>\n",
       "    </tr>\n",
       "    <tr>\n",
       "      <td>4</td>\n",
       "      <td>119365</td>\n",
       "      <td>кафе «вишневая метель»</td>\n",
       "      <td>нет</td>\n",
       "      <td>кафе</td>\n",
       "      <td>город москва, абрамцевская улица, дом 9, корпус 1</td>\n",
       "      <td>50</td>\n",
       "    </tr>\n",
       "    <tr>\n",
       "      <td>...</td>\n",
       "      <td>...</td>\n",
       "      <td>...</td>\n",
       "      <td>...</td>\n",
       "      <td>...</td>\n",
       "      <td>...</td>\n",
       "      <td>...</td>\n",
       "    </tr>\n",
       "    <tr>\n",
       "      <td>15361</td>\n",
       "      <td>208537</td>\n",
       "      <td>шоколадница</td>\n",
       "      <td>да</td>\n",
       "      <td>кафе</td>\n",
       "      <td>город москва, 3-й крутицкий переулок, дом 18</td>\n",
       "      <td>50</td>\n",
       "    </tr>\n",
       "    <tr>\n",
       "      <td>15362</td>\n",
       "      <td>209264</td>\n",
       "      <td>шоколадница</td>\n",
       "      <td>да</td>\n",
       "      <td>кафе</td>\n",
       "      <td>город москва, улица земляной вал, дом 33</td>\n",
       "      <td>10</td>\n",
       "    </tr>\n",
       "    <tr>\n",
       "      <td>15363</td>\n",
       "      <td>209186</td>\n",
       "      <td>шоколадница</td>\n",
       "      <td>да</td>\n",
       "      <td>кафе</td>\n",
       "      <td>город москва, улица земляной вал, дом 33</td>\n",
       "      <td>20</td>\n",
       "    </tr>\n",
       "    <tr>\n",
       "      <td>15364</td>\n",
       "      <td>221900</td>\n",
       "      <td>шоколадница</td>\n",
       "      <td>да</td>\n",
       "      <td>кафе</td>\n",
       "      <td>город москва, поселение московский, киевское ш...</td>\n",
       "      <td>36</td>\n",
       "    </tr>\n",
       "    <tr>\n",
       "      <td>15365</td>\n",
       "      <td>222535</td>\n",
       "      <td>шоколадница</td>\n",
       "      <td>да</td>\n",
       "      <td>кафе</td>\n",
       "      <td>город москва, ходынский бульвар, дом 4</td>\n",
       "      <td>10</td>\n",
       "    </tr>\n",
       "  </tbody>\n",
       "</table>\n",
       "<p>15281 rows × 6 columns</p>\n",
       "</div>"
      ],
      "text/plain": [
       "           id             object_name chain object_type  \\\n",
       "0      151635                 сметана   нет        кафе   \n",
       "1       77874                  родник   нет        кафе   \n",
       "2       24309         кафе «академия»   нет        кафе   \n",
       "3       21894              пиццетория    да        кафе   \n",
       "4      119365  кафе «вишневая метель»   нет        кафе   \n",
       "...       ...                     ...   ...         ...   \n",
       "15361  208537             шоколадница    да        кафе   \n",
       "15362  209264             шоколадница    да        кафе   \n",
       "15363  209186             шоколадница    да        кафе   \n",
       "15364  221900             шоколадница    да        кафе   \n",
       "15365  222535             шоколадница    да        кафе   \n",
       "\n",
       "                                                 address  number  \n",
       "0             город москва, улица егора абакумова, дом 9      48  \n",
       "1      город москва, улица талалихина, дом 2/1, корпус 1      35  \n",
       "2              город москва, абельмановская улица, дом 6      95  \n",
       "3                город москва, абрамцевская улица, дом 1      40  \n",
       "4      город москва, абрамцевская улица, дом 9, корпус 1      50  \n",
       "...                                                  ...     ...  \n",
       "15361       город москва, 3-й крутицкий переулок, дом 18      50  \n",
       "15362           город москва, улица земляной вал, дом 33      10  \n",
       "15363           город москва, улица земляной вал, дом 33      20  \n",
       "15364  город москва, поселение московский, киевское ш...      36  \n",
       "15365             город москва, ходынский бульвар, дом 4      10  \n",
       "\n",
       "[15281 rows x 6 columns]"
      ]
     },
     "execution_count": 7,
     "metadata": {},
     "output_type": "execute_result"
    }
   ],
   "source": [
    "df.drop_duplicates(subset=['object_name','chain', 'object_type','address','number'], keep = 'last')"
   ]
  },
  {
   "cell_type": "markdown",
   "metadata": {},
   "source": [
    "Проверим уникалиные значения в столбце chain."
   ]
  },
  {
   "cell_type": "code",
   "execution_count": 8,
   "metadata": {},
   "outputs": [
    {
     "data": {
      "text/plain": [
       "array(['да', 'нет'], dtype=object)"
      ]
     },
     "execution_count": 8,
     "metadata": {},
     "output_type": "execute_result"
    }
   ],
   "source": [
    "np.unique(df[['chain']].values)"
   ]
  },
  {
   "cell_type": "markdown",
   "metadata": {},
   "source": [
    "Проверим уникальные значения в столбце object type."
   ]
  },
  {
   "cell_type": "code",
   "execution_count": 9,
   "metadata": {},
   "outputs": [
    {
     "data": {
      "text/plain": [
       "array(['бар', 'буфет', 'закусочная', 'кафе', 'кафетерий',\n",
       "       'магазин (отдел кулинарии)', 'предприятие быстрого обслуживания',\n",
       "       'ресторан', 'столовая'], dtype=object)"
      ]
     },
     "execution_count": 9,
     "metadata": {},
     "output_type": "execute_result"
    }
   ],
   "source": [
    "np.unique(df[['object_type']].values)"
   ]
  },
  {
   "cell_type": "markdown",
   "metadata": {},
   "source": [
    "Заменим длинные названия на более понятные."
   ]
  },
  {
   "cell_type": "code",
   "execution_count": 10,
   "metadata": {},
   "outputs": [],
   "source": [
    "df['object_type']=df['object_type'].str.replace('магазин \\(отдел кулинарии\\)', 'кулинария')\n",
    "df['object_type']=df['object_type'].str.replace('предприятие быстрого обслуживания', 'фастфуд')"
   ]
  },
  {
   "cell_type": "code",
   "execution_count": 11,
   "metadata": {},
   "outputs": [
    {
     "data": {
      "text/html": [
       "<div>\n",
       "<style scoped>\n",
       "    .dataframe tbody tr th:only-of-type {\n",
       "        vertical-align: middle;\n",
       "    }\n",
       "\n",
       "    .dataframe tbody tr th {\n",
       "        vertical-align: top;\n",
       "    }\n",
       "\n",
       "    .dataframe thead th {\n",
       "        text-align: right;\n",
       "    }\n",
       "</style>\n",
       "<table border=\"1\" class=\"dataframe\">\n",
       "  <thead>\n",
       "    <tr style=\"text-align: right;\">\n",
       "      <th></th>\n",
       "      <th>id</th>\n",
       "      <th>object_name</th>\n",
       "      <th>chain</th>\n",
       "      <th>object_type</th>\n",
       "      <th>address</th>\n",
       "      <th>number</th>\n",
       "    </tr>\n",
       "  </thead>\n",
       "  <tbody>\n",
       "    <tr>\n",
       "      <td>0</td>\n",
       "      <td>151635</td>\n",
       "      <td>сметана</td>\n",
       "      <td>нет</td>\n",
       "      <td>кафе</td>\n",
       "      <td>город москва, улица егора абакумова, дом 9</td>\n",
       "      <td>48</td>\n",
       "    </tr>\n",
       "    <tr>\n",
       "      <td>1</td>\n",
       "      <td>77874</td>\n",
       "      <td>родник</td>\n",
       "      <td>нет</td>\n",
       "      <td>кафе</td>\n",
       "      <td>город москва, улица талалихина, дом 2/1, корпус 1</td>\n",
       "      <td>35</td>\n",
       "    </tr>\n",
       "    <tr>\n",
       "      <td>2</td>\n",
       "      <td>24309</td>\n",
       "      <td>кафе «академия»</td>\n",
       "      <td>нет</td>\n",
       "      <td>кафе</td>\n",
       "      <td>город москва, абельмановская улица, дом 6</td>\n",
       "      <td>95</td>\n",
       "    </tr>\n",
       "    <tr>\n",
       "      <td>3</td>\n",
       "      <td>21894</td>\n",
       "      <td>пиццетория</td>\n",
       "      <td>да</td>\n",
       "      <td>кафе</td>\n",
       "      <td>город москва, абрамцевская улица, дом 1</td>\n",
       "      <td>40</td>\n",
       "    </tr>\n",
       "    <tr>\n",
       "      <td>4</td>\n",
       "      <td>119365</td>\n",
       "      <td>кафе «вишневая метель»</td>\n",
       "      <td>нет</td>\n",
       "      <td>кафе</td>\n",
       "      <td>город москва, абрамцевская улица, дом 9, корпус 1</td>\n",
       "      <td>50</td>\n",
       "    </tr>\n",
       "    <tr>\n",
       "      <td>...</td>\n",
       "      <td>...</td>\n",
       "      <td>...</td>\n",
       "      <td>...</td>\n",
       "      <td>...</td>\n",
       "      <td>...</td>\n",
       "      <td>...</td>\n",
       "    </tr>\n",
       "    <tr>\n",
       "      <td>15361</td>\n",
       "      <td>208537</td>\n",
       "      <td>шоколадница</td>\n",
       "      <td>да</td>\n",
       "      <td>кафе</td>\n",
       "      <td>город москва, 3-й крутицкий переулок, дом 18</td>\n",
       "      <td>50</td>\n",
       "    </tr>\n",
       "    <tr>\n",
       "      <td>15362</td>\n",
       "      <td>209264</td>\n",
       "      <td>шоколадница</td>\n",
       "      <td>да</td>\n",
       "      <td>кафе</td>\n",
       "      <td>город москва, улица земляной вал, дом 33</td>\n",
       "      <td>10</td>\n",
       "    </tr>\n",
       "    <tr>\n",
       "      <td>15363</td>\n",
       "      <td>209186</td>\n",
       "      <td>шоколадница</td>\n",
       "      <td>да</td>\n",
       "      <td>кафе</td>\n",
       "      <td>город москва, улица земляной вал, дом 33</td>\n",
       "      <td>20</td>\n",
       "    </tr>\n",
       "    <tr>\n",
       "      <td>15364</td>\n",
       "      <td>221900</td>\n",
       "      <td>шоколадница</td>\n",
       "      <td>да</td>\n",
       "      <td>кафе</td>\n",
       "      <td>город москва, поселение московский, киевское ш...</td>\n",
       "      <td>36</td>\n",
       "    </tr>\n",
       "    <tr>\n",
       "      <td>15365</td>\n",
       "      <td>222535</td>\n",
       "      <td>шоколадница</td>\n",
       "      <td>да</td>\n",
       "      <td>кафе</td>\n",
       "      <td>город москва, ходынский бульвар, дом 4</td>\n",
       "      <td>10</td>\n",
       "    </tr>\n",
       "  </tbody>\n",
       "</table>\n",
       "<p>15366 rows × 6 columns</p>\n",
       "</div>"
      ],
      "text/plain": [
       "           id             object_name chain object_type  \\\n",
       "0      151635                 сметана   нет        кафе   \n",
       "1       77874                  родник   нет        кафе   \n",
       "2       24309         кафе «академия»   нет        кафе   \n",
       "3       21894              пиццетория    да        кафе   \n",
       "4      119365  кафе «вишневая метель»   нет        кафе   \n",
       "...       ...                     ...   ...         ...   \n",
       "15361  208537             шоколадница    да        кафе   \n",
       "15362  209264             шоколадница    да        кафе   \n",
       "15363  209186             шоколадница    да        кафе   \n",
       "15364  221900             шоколадница    да        кафе   \n",
       "15365  222535             шоколадница    да        кафе   \n",
       "\n",
       "                                                 address  number  \n",
       "0             город москва, улица егора абакумова, дом 9      48  \n",
       "1      город москва, улица талалихина, дом 2/1, корпус 1      35  \n",
       "2              город москва, абельмановская улица, дом 6      95  \n",
       "3                город москва, абрамцевская улица, дом 1      40  \n",
       "4      город москва, абрамцевская улица, дом 9, корпус 1      50  \n",
       "...                                                  ...     ...  \n",
       "15361       город москва, 3-й крутицкий переулок, дом 18      50  \n",
       "15362           город москва, улица земляной вал, дом 33      10  \n",
       "15363           город москва, улица земляной вал, дом 33      20  \n",
       "15364  город москва, поселение московский, киевское ш...      36  \n",
       "15365             город москва, ходынский бульвар, дом 4      10  \n",
       "\n",
       "[15366 rows x 6 columns]"
      ]
     },
     "metadata": {},
     "output_type": "display_data"
    }
   ],
   "source": [
    "display(df)"
   ]
  },
  {
   "cell_type": "markdown",
   "metadata": {},
   "source": [
    "Таблица df:\n",
    "\n",
    "-id - идентефикатор объекта\n",
    "\n",
    "-object_name - название объекта общественного питания\n",
    "\n",
    "-chain - сетевой ресторан\n",
    "\n",
    "-object_type - тип объекта общественного питания\n",
    "\n",
    "-address - адрес\n",
    "\n",
    "-number - количество посадочных мест"
   ]
  },
  {
   "cell_type": "markdown",
   "metadata": {},
   "source": [
    "Вывод : \n",
    "- Данные полные\n",
    "- Дубликатов нет\n",
    "- Типы данных верные\n",
    "- Данные приведены к нижнему регистру для убодства\n",
    "- Некоторые данные заменены на более ёмкие"
   ]
  },
  {
   "cell_type": "markdown",
   "metadata": {},
   "source": [
    "## Шаг. Анализ данных"
   ]
  },
  {
   "cell_type": "markdown",
   "metadata": {},
   "source": [
    "### Исследовать соотношение видов объектов общественного питания по количеству. Построить график."
   ]
  },
  {
   "cell_type": "markdown",
   "metadata": {},
   "source": [
    "Сгруппируем таблицу по видам объектам"
   ]
  },
  {
   "cell_type": "code",
   "execution_count": 12,
   "metadata": {},
   "outputs": [],
   "source": [
    "count_type=df.groupby('object_type').count().reset_index()"
   ]
  },
  {
   "cell_type": "markdown",
   "metadata": {},
   "source": [
    "Построим график"
   ]
  },
  {
   "cell_type": "code",
   "execution_count": 13,
   "metadata": {},
   "outputs": [
    {
     "data": {
      "image/png": "[encoded data removed]",
      "text/plain": [
       "<Figure size 432x288 with 1 Axes>"
      ]
     },
     "metadata": {
      "needs_background": "light"
     },
     "output_type": "display_data"
    }
   ],
   "source": [
    "count_type[['object_type', 'number']].set_index('object_type').sort_values('number', ascending=False).plot(kind='bar')\n",
    "plt.xlabel('Вид заведения')\n",
    "plt.ylabel('Колличество заведений')\n",
    "plt.title('Cоотношение видов объектов общественного питания по количеству')\n",
    "plt.xticks(rotation=45)\n",
    "plt.show();"
   ]
  },
  {
   "cell_type": "markdown",
   "metadata": {},
   "source": [
    "Вывод: Больше всего в городе кафе, далее идут столовые, рестораны и фастфуды, но их почти в 2,5 раза меньше чем кафе."
   ]
  },
  {
   "cell_type": "markdown",
   "metadata": {},
   "source": [
    "### Исследовать соотношение сетевых и несетевых заведений по количеству. Построить график."
   ]
  },
  {
   "cell_type": "markdown",
   "metadata": {},
   "source": [
    "Сгруппируем таблицу по принципу типа заведения"
   ]
  },
  {
   "cell_type": "code",
   "execution_count": 14,
   "metadata": {},
   "outputs": [],
   "source": [
    "count_set=df.groupby('chain')['object_name'].count().reset_index()"
   ]
  },
  {
   "cell_type": "code",
   "execution_count": 15,
   "metadata": {},
   "outputs": [
    {
     "data": {
      "text/html": [
       "<div>\n",
       "<style scoped>\n",
       "    .dataframe tbody tr th:only-of-type {\n",
       "        vertical-align: middle;\n",
       "    }\n",
       "\n",
       "    .dataframe tbody tr th {\n",
       "        vertical-align: top;\n",
       "    }\n",
       "\n",
       "    .dataframe thead th {\n",
       "        text-align: right;\n",
       "    }\n",
       "</style>\n",
       "<table border=\"1\" class=\"dataframe\">\n",
       "  <thead>\n",
       "    <tr style=\"text-align: right;\">\n",
       "      <th></th>\n",
       "      <th>chain</th>\n",
       "      <th>object_name</th>\n",
       "    </tr>\n",
       "  </thead>\n",
       "  <tbody>\n",
       "    <tr>\n",
       "      <td>0</td>\n",
       "      <td>да</td>\n",
       "      <td>2968</td>\n",
       "    </tr>\n",
       "    <tr>\n",
       "      <td>1</td>\n",
       "      <td>нет</td>\n",
       "      <td>12398</td>\n",
       "    </tr>\n",
       "  </tbody>\n",
       "</table>\n",
       "</div>"
      ],
      "text/plain": [
       "  chain  object_name\n",
       "0    да         2968\n",
       "1   нет        12398"
      ]
     },
     "execution_count": 15,
     "metadata": {},
     "output_type": "execute_result"
    }
   ],
   "source": [
    "count_set"
   ]
  },
  {
   "cell_type": "markdown",
   "metadata": {},
   "source": [
    "Построим \"пирог\""
   ]
  },
  {
   "cell_type": "code",
   "execution_count": 16,
   "metadata": {},
   "outputs": [
    {
     "data": {
      "image/png": "[encoded data removed]",
      "text/plain": [
       "<Figure size 432x288 with 1 Axes>"
      ]
     },
     "metadata": {},
     "output_type": "display_data"
    }
   ],
   "source": [
    "vals = [2968, 12398]\n",
    "labels = [\"Сетевой\", \"Несетевой\"]\n",
    "explode = (0.2, 0)\n",
    "fig, ax = plt.subplots()\n",
    "ax.pie(vals, labels=labels, autopct='%1.1f%%', shadow=True, explode=explode,\\\n",
    "       wedgeprops={'lw':1, 'ls':'--','edgecolor':\"k\"}, rotatelabels=True)\n",
    "ax.axis(\"equal\");"
   ]
  },
  {
   "cell_type": "markdown",
   "metadata": {},
   "source": [
    "Вывод: Хоть и кажется, что везде только сетевые заведения, но их почти в 4 раза меньше несетевых заведений."
   ]
  },
  {
   "cell_type": "markdown",
   "metadata": {},
   "source": [
    "### Для какого вида объекта общественного питания характерно сетевое распространение?"
   ]
  },
  {
   "cell_type": "code",
   "execution_count": 17,
   "metadata": {},
   "outputs": [],
   "source": [
    "data=df.groupby(['object_type', 'chain'])['number'].aggregate('count').unstack()"
   ]
  },
  {
   "cell_type": "code",
   "execution_count": 18,
   "metadata": {},
   "outputs": [],
   "source": [
    "sett=data.sort_values('да', ascending=False)"
   ]
  },
  {
   "cell_type": "code",
   "execution_count": 19,
   "metadata": {},
   "outputs": [
    {
     "data": {
      "image/png": "[encoded data removed]",
      "text/plain": [
       "<Figure size 432x288 with 1 Axes>"
      ]
     },
     "metadata": {
      "needs_background": "light"
     },
     "output_type": "display_data"
    }
   ],
   "source": [
    "sett.plot(kind='bar', rot=45)\n",
    "plt.title('Соотношение сетевых объектов к несетевым')\n",
    "plt.ylabel('Колличество заведений')\n",
    "plt.xlabel('Вид заведения');"
   ]
  },
  {
   "cell_type": "code",
   "execution_count": 20,
   "metadata": {},
   "outputs": [
    {
     "data": {
      "text/html": [
       "<div>\n",
       "<style scoped>\n",
       "    .dataframe tbody tr th:only-of-type {\n",
       "        vertical-align: middle;\n",
       "    }\n",
       "\n",
       "    .dataframe tbody tr th {\n",
       "        vertical-align: top;\n",
       "    }\n",
       "\n",
       "    .dataframe thead th {\n",
       "        text-align: right;\n",
       "    }\n",
       "</style>\n",
       "<table border=\"1\" class=\"dataframe\">\n",
       "  <thead>\n",
       "    <tr style=\"text-align: right;\">\n",
       "      <th>chain</th>\n",
       "      <th>object_type</th>\n",
       "      <th>да</th>\n",
       "      <th>нет</th>\n",
       "    </tr>\n",
       "  </thead>\n",
       "  <tbody>\n",
       "    <tr>\n",
       "      <td>0</td>\n",
       "      <td>кафе</td>\n",
       "      <td>1396</td>\n",
       "      <td>4703</td>\n",
       "    </tr>\n",
       "    <tr>\n",
       "      <td>1</td>\n",
       "      <td>фастфуд</td>\n",
       "      <td>791</td>\n",
       "      <td>1132</td>\n",
       "    </tr>\n",
       "    <tr>\n",
       "      <td>2</td>\n",
       "      <td>ресторан</td>\n",
       "      <td>544</td>\n",
       "      <td>1741</td>\n",
       "    </tr>\n",
       "    <tr>\n",
       "      <td>3</td>\n",
       "      <td>кулинария</td>\n",
       "      <td>78</td>\n",
       "      <td>195</td>\n",
       "    </tr>\n",
       "    <tr>\n",
       "      <td>4</td>\n",
       "      <td>закусочная</td>\n",
       "      <td>56</td>\n",
       "      <td>304</td>\n",
       "    </tr>\n",
       "    <tr>\n",
       "      <td>5</td>\n",
       "      <td>кафетерий</td>\n",
       "      <td>52</td>\n",
       "      <td>346</td>\n",
       "    </tr>\n",
       "    <tr>\n",
       "      <td>6</td>\n",
       "      <td>бар</td>\n",
       "      <td>37</td>\n",
       "      <td>819</td>\n",
       "    </tr>\n",
       "    <tr>\n",
       "      <td>7</td>\n",
       "      <td>буфет</td>\n",
       "      <td>11</td>\n",
       "      <td>574</td>\n",
       "    </tr>\n",
       "    <tr>\n",
       "      <td>8</td>\n",
       "      <td>столовая</td>\n",
       "      <td>3</td>\n",
       "      <td>2584</td>\n",
       "    </tr>\n",
       "  </tbody>\n",
       "</table>\n",
       "</div>"
      ],
      "text/plain": [
       "chain object_type    да   нет\n",
       "0            кафе  1396  4703\n",
       "1         фастфуд   791  1132\n",
       "2        ресторан   544  1741\n",
       "3       кулинария    78   195\n",
       "4      закусочная    56   304\n",
       "5       кафетерий    52   346\n",
       "6             бар    37   819\n",
       "7           буфет    11   574\n",
       "8        столовая     3  2584"
      ]
     },
     "execution_count": 20,
     "metadata": {},
     "output_type": "execute_result"
    }
   ],
   "source": [
    "sett.reset_index()"
   ]
  },
  {
   "cell_type": "markdown",
   "metadata": {},
   "source": [
    "Вывод:  сетевые фастфуды не очень остают от несетевиков. Это мы и видим в нашей жизни. Но в целом ни один из объектов питания не является вотчиной сетевиков."
   ]
  },
  {
   "cell_type": "code",
   "execution_count": 21,
   "metadata": {},
   "outputs": [],
   "source": [
    "df['number_of_object'] = 1"
   ]
  },
  {
   "cell_type": "code",
   "execution_count": 22,
   "metadata": {},
   "outputs": [],
   "source": [
    "chain_object = df.query('chain == \"да\"').reset_index()"
   ]
  },
  {
   "cell_type": "code",
   "execution_count": 23,
   "metadata": {},
   "outputs": [
    {
     "data": {
      "text/html": [
       "<div>\n",
       "<style scoped>\n",
       "    .dataframe tbody tr th:only-of-type {\n",
       "        vertical-align: middle;\n",
       "    }\n",
       "\n",
       "    .dataframe tbody tr th {\n",
       "        vertical-align: top;\n",
       "    }\n",
       "\n",
       "    .dataframe thead th {\n",
       "        text-align: right;\n",
       "    }\n",
       "</style>\n",
       "<table border=\"1\" class=\"dataframe\">\n",
       "  <thead>\n",
       "    <tr style=\"text-align: right;\">\n",
       "      <th></th>\n",
       "      <th>index</th>\n",
       "      <th>id</th>\n",
       "      <th>object_name</th>\n",
       "      <th>chain</th>\n",
       "      <th>object_type</th>\n",
       "      <th>address</th>\n",
       "      <th>number</th>\n",
       "      <th>number_of_object</th>\n",
       "    </tr>\n",
       "  </thead>\n",
       "  <tbody>\n",
       "    <tr>\n",
       "      <td>0</td>\n",
       "      <td>3</td>\n",
       "      <td>21894</td>\n",
       "      <td>пиццетория</td>\n",
       "      <td>да</td>\n",
       "      <td>кафе</td>\n",
       "      <td>город москва, абрамцевская улица, дом 1</td>\n",
       "      <td>40</td>\n",
       "      <td>1</td>\n",
       "    </tr>\n",
       "    <tr>\n",
       "      <td>1</td>\n",
       "      <td>6</td>\n",
       "      <td>148815</td>\n",
       "      <td>брусника</td>\n",
       "      <td>да</td>\n",
       "      <td>кафе</td>\n",
       "      <td>город москва, переулок сивцев вражек, дом 6/2</td>\n",
       "      <td>10</td>\n",
       "      <td>1</td>\n",
       "    </tr>\n",
       "    <tr>\n",
       "      <td>2</td>\n",
       "      <td>13</td>\n",
       "      <td>22579</td>\n",
       "      <td>алло пицца</td>\n",
       "      <td>да</td>\n",
       "      <td>кафе</td>\n",
       "      <td>город москва, улица авиаторов, дом 14</td>\n",
       "      <td>32</td>\n",
       "      <td>1</td>\n",
       "    </tr>\n",
       "    <tr>\n",
       "      <td>3</td>\n",
       "      <td>16</td>\n",
       "      <td>144107</td>\n",
       "      <td>суши wok</td>\n",
       "      <td>да</td>\n",
       "      <td>фастфуд</td>\n",
       "      <td>город москва, азовская улица, дом 3</td>\n",
       "      <td>7</td>\n",
       "      <td>1</td>\n",
       "    </tr>\n",
       "    <tr>\n",
       "      <td>4</td>\n",
       "      <td>18</td>\n",
       "      <td>58565</td>\n",
       "      <td>тануки</td>\n",
       "      <td>да</td>\n",
       "      <td>ресторан</td>\n",
       "      <td>город москва, большая академическая улица, дом 65</td>\n",
       "      <td>160</td>\n",
       "      <td>1</td>\n",
       "    </tr>\n",
       "    <tr>\n",
       "      <td>...</td>\n",
       "      <td>...</td>\n",
       "      <td>...</td>\n",
       "      <td>...</td>\n",
       "      <td>...</td>\n",
       "      <td>...</td>\n",
       "      <td>...</td>\n",
       "      <td>...</td>\n",
       "      <td>...</td>\n",
       "    </tr>\n",
       "    <tr>\n",
       "      <td>2963</td>\n",
       "      <td>15361</td>\n",
       "      <td>208537</td>\n",
       "      <td>шоколадница</td>\n",
       "      <td>да</td>\n",
       "      <td>кафе</td>\n",
       "      <td>город москва, 3-й крутицкий переулок, дом 18</td>\n",
       "      <td>50</td>\n",
       "      <td>1</td>\n",
       "    </tr>\n",
       "    <tr>\n",
       "      <td>2964</td>\n",
       "      <td>15362</td>\n",
       "      <td>209264</td>\n",
       "      <td>шоколадница</td>\n",
       "      <td>да</td>\n",
       "      <td>кафе</td>\n",
       "      <td>город москва, улица земляной вал, дом 33</td>\n",
       "      <td>10</td>\n",
       "      <td>1</td>\n",
       "    </tr>\n",
       "    <tr>\n",
       "      <td>2965</td>\n",
       "      <td>15363</td>\n",
       "      <td>209186</td>\n",
       "      <td>шоколадница</td>\n",
       "      <td>да</td>\n",
       "      <td>кафе</td>\n",
       "      <td>город москва, улица земляной вал, дом 33</td>\n",
       "      <td>20</td>\n",
       "      <td>1</td>\n",
       "    </tr>\n",
       "    <tr>\n",
       "      <td>2966</td>\n",
       "      <td>15364</td>\n",
       "      <td>221900</td>\n",
       "      <td>шоколадница</td>\n",
       "      <td>да</td>\n",
       "      <td>кафе</td>\n",
       "      <td>город москва, поселение московский, киевское ш...</td>\n",
       "      <td>36</td>\n",
       "      <td>1</td>\n",
       "    </tr>\n",
       "    <tr>\n",
       "      <td>2967</td>\n",
       "      <td>15365</td>\n",
       "      <td>222535</td>\n",
       "      <td>шоколадница</td>\n",
       "      <td>да</td>\n",
       "      <td>кафе</td>\n",
       "      <td>город москва, ходынский бульвар, дом 4</td>\n",
       "      <td>10</td>\n",
       "      <td>1</td>\n",
       "    </tr>\n",
       "  </tbody>\n",
       "</table>\n",
       "<p>2968 rows × 8 columns</p>\n",
       "</div>"
      ],
      "text/plain": [
       "      index      id  object_name chain object_type  \\\n",
       "0         3   21894   пиццетория    да        кафе   \n",
       "1         6  148815     брусника    да        кафе   \n",
       "2        13   22579   алло пицца    да        кафе   \n",
       "3        16  144107     суши wok    да     фастфуд   \n",
       "4        18   58565       тануки    да    ресторан   \n",
       "...     ...     ...          ...   ...         ...   \n",
       "2963  15361  208537  шоколадница    да        кафе   \n",
       "2964  15362  209264  шоколадница    да        кафе   \n",
       "2965  15363  209186  шоколадница    да        кафе   \n",
       "2966  15364  221900  шоколадница    да        кафе   \n",
       "2967  15365  222535  шоколадница    да        кафе   \n",
       "\n",
       "                                                address  number  \\\n",
       "0               город москва, абрамцевская улица, дом 1      40   \n",
       "1         город москва, переулок сивцев вражек, дом 6/2      10   \n",
       "2                 город москва, улица авиаторов, дом 14      32   \n",
       "3                   город москва, азовская улица, дом 3       7   \n",
       "4     город москва, большая академическая улица, дом 65     160   \n",
       "...                                                 ...     ...   \n",
       "2963       город москва, 3-й крутицкий переулок, дом 18      50   \n",
       "2964           город москва, улица земляной вал, дом 33      10   \n",
       "2965           город москва, улица земляной вал, дом 33      20   \n",
       "2966  город москва, поселение московский, киевское ш...      36   \n",
       "2967             город москва, ходынский бульвар, дом 4      10   \n",
       "\n",
       "      number_of_object  \n",
       "0                    1  \n",
       "1                    1  \n",
       "2                    1  \n",
       "3                    1  \n",
       "4                    1  \n",
       "...                ...  \n",
       "2963                 1  \n",
       "2964                 1  \n",
       "2965                 1  \n",
       "2966                 1  \n",
       "2967                 1  \n",
       "\n",
       "[2968 rows x 8 columns]"
      ]
     },
     "execution_count": 23,
     "metadata": {},
     "output_type": "execute_result"
    }
   ],
   "source": [
    "chain_object"
   ]
  },
  {
   "cell_type": "code",
   "execution_count": 24,
   "metadata": {},
   "outputs": [
    {
     "data": {
      "text/html": [
       "<div>\n",
       "<style scoped>\n",
       "    .dataframe tbody tr th:only-of-type {\n",
       "        vertical-align: middle;\n",
       "    }\n",
       "\n",
       "    .dataframe tbody tr th {\n",
       "        vertical-align: top;\n",
       "    }\n",
       "\n",
       "    .dataframe thead th {\n",
       "        text-align: right;\n",
       "    }\n",
       "</style>\n",
       "<table border=\"1\" class=\"dataframe\">\n",
       "  <thead>\n",
       "    <tr style=\"text-align: right;\">\n",
       "      <th></th>\n",
       "      <th>number_of_object</th>\n",
       "    </tr>\n",
       "    <tr>\n",
       "      <th>object_type</th>\n",
       "      <th></th>\n",
       "    </tr>\n",
       "  </thead>\n",
       "  <tbody>\n",
       "    <tr>\n",
       "      <td>бар</td>\n",
       "      <td>37</td>\n",
       "    </tr>\n",
       "    <tr>\n",
       "      <td>буфет</td>\n",
       "      <td>11</td>\n",
       "    </tr>\n",
       "    <tr>\n",
       "      <td>закусочная</td>\n",
       "      <td>56</td>\n",
       "    </tr>\n",
       "    <tr>\n",
       "      <td>кафе</td>\n",
       "      <td>1396</td>\n",
       "    </tr>\n",
       "    <tr>\n",
       "      <td>кафетерий</td>\n",
       "      <td>52</td>\n",
       "    </tr>\n",
       "    <tr>\n",
       "      <td>кулинария</td>\n",
       "      <td>78</td>\n",
       "    </tr>\n",
       "    <tr>\n",
       "      <td>ресторан</td>\n",
       "      <td>544</td>\n",
       "    </tr>\n",
       "    <tr>\n",
       "      <td>столовая</td>\n",
       "      <td>3</td>\n",
       "    </tr>\n",
       "    <tr>\n",
       "      <td>фастфуд</td>\n",
       "      <td>791</td>\n",
       "    </tr>\n",
       "  </tbody>\n",
       "</table>\n",
       "</div>"
      ],
      "text/plain": [
       "             number_of_object\n",
       "object_type                  \n",
       "бар                        37\n",
       "буфет                      11\n",
       "закусочная                 56\n",
       "кафе                     1396\n",
       "кафетерий                  52\n",
       "кулинария                  78\n",
       "ресторан                  544\n",
       "столовая                    3\n",
       "фастфуд                   791"
      ]
     },
     "execution_count": 24,
     "metadata": {},
     "output_type": "execute_result"
    }
   ],
   "source": [
    "chain = chain_object.groupby('object_type').agg({'number_of_object' : 'sum'})\n",
    "chain"
   ]
  },
  {
   "cell_type": "code",
   "execution_count": 25,
   "metadata": {},
   "outputs": [
    {
     "data": {
      "text/html": [
       "<div>\n",
       "<style scoped>\n",
       "    .dataframe tbody tr th:only-of-type {\n",
       "        vertical-align: middle;\n",
       "    }\n",
       "\n",
       "    .dataframe tbody tr th {\n",
       "        vertical-align: top;\n",
       "    }\n",
       "\n",
       "    .dataframe thead th {\n",
       "        text-align: right;\n",
       "    }\n",
       "</style>\n",
       "<table border=\"1\" class=\"dataframe\">\n",
       "  <thead>\n",
       "    <tr style=\"text-align: right;\">\n",
       "      <th></th>\n",
       "      <th>number_of_object</th>\n",
       "    </tr>\n",
       "    <tr>\n",
       "      <th>object_type</th>\n",
       "      <th></th>\n",
       "    </tr>\n",
       "  </thead>\n",
       "  <tbody>\n",
       "    <tr>\n",
       "      <td>бар</td>\n",
       "      <td>856</td>\n",
       "    </tr>\n",
       "    <tr>\n",
       "      <td>буфет</td>\n",
       "      <td>585</td>\n",
       "    </tr>\n",
       "    <tr>\n",
       "      <td>закусочная</td>\n",
       "      <td>360</td>\n",
       "    </tr>\n",
       "    <tr>\n",
       "      <td>кафе</td>\n",
       "      <td>6099</td>\n",
       "    </tr>\n",
       "    <tr>\n",
       "      <td>кафетерий</td>\n",
       "      <td>398</td>\n",
       "    </tr>\n",
       "    <tr>\n",
       "      <td>кулинария</td>\n",
       "      <td>273</td>\n",
       "    </tr>\n",
       "    <tr>\n",
       "      <td>ресторан</td>\n",
       "      <td>2285</td>\n",
       "    </tr>\n",
       "    <tr>\n",
       "      <td>столовая</td>\n",
       "      <td>2587</td>\n",
       "    </tr>\n",
       "    <tr>\n",
       "      <td>фастфуд</td>\n",
       "      <td>1923</td>\n",
       "    </tr>\n",
       "  </tbody>\n",
       "</table>\n",
       "</div>"
      ],
      "text/plain": [
       "             number_of_object\n",
       "object_type                  \n",
       "бар                       856\n",
       "буфет                     585\n",
       "закусочная                360\n",
       "кафе                     6099\n",
       "кафетерий                 398\n",
       "кулинария                 273\n",
       "ресторан                 2285\n",
       "столовая                 2587\n",
       "фастфуд                  1923"
      ]
     },
     "execution_count": 25,
     "metadata": {},
     "output_type": "execute_result"
    }
   ],
   "source": [
    "types = df.groupby('object_type').agg({'number_of_object' : 'sum'})\n",
    "types"
   ]
  },
  {
   "cell_type": "code",
   "execution_count": 26,
   "metadata": {},
   "outputs": [
    {
     "data": {
      "text/html": [
       "<div>\n",
       "<style scoped>\n",
       "    .dataframe tbody tr th:only-of-type {\n",
       "        vertical-align: middle;\n",
       "    }\n",
       "\n",
       "    .dataframe tbody tr th {\n",
       "        vertical-align: top;\n",
       "    }\n",
       "\n",
       "    .dataframe thead th {\n",
       "        text-align: right;\n",
       "    }\n",
       "</style>\n",
       "<table border=\"1\" class=\"dataframe\">\n",
       "  <thead>\n",
       "    <tr style=\"text-align: right;\">\n",
       "      <th></th>\n",
       "      <th>number_of_object_x</th>\n",
       "      <th>number_of_object_y</th>\n",
       "    </tr>\n",
       "    <tr>\n",
       "      <th>object_type</th>\n",
       "      <th></th>\n",
       "      <th></th>\n",
       "    </tr>\n",
       "  </thead>\n",
       "  <tbody>\n",
       "    <tr>\n",
       "      <td>бар</td>\n",
       "      <td>856</td>\n",
       "      <td>37</td>\n",
       "    </tr>\n",
       "    <tr>\n",
       "      <td>буфет</td>\n",
       "      <td>585</td>\n",
       "      <td>11</td>\n",
       "    </tr>\n",
       "    <tr>\n",
       "      <td>закусочная</td>\n",
       "      <td>360</td>\n",
       "      <td>56</td>\n",
       "    </tr>\n",
       "    <tr>\n",
       "      <td>кафе</td>\n",
       "      <td>6099</td>\n",
       "      <td>1396</td>\n",
       "    </tr>\n",
       "    <tr>\n",
       "      <td>кафетерий</td>\n",
       "      <td>398</td>\n",
       "      <td>52</td>\n",
       "    </tr>\n",
       "    <tr>\n",
       "      <td>кулинария</td>\n",
       "      <td>273</td>\n",
       "      <td>78</td>\n",
       "    </tr>\n",
       "    <tr>\n",
       "      <td>ресторан</td>\n",
       "      <td>2285</td>\n",
       "      <td>544</td>\n",
       "    </tr>\n",
       "    <tr>\n",
       "      <td>столовая</td>\n",
       "      <td>2587</td>\n",
       "      <td>3</td>\n",
       "    </tr>\n",
       "    <tr>\n",
       "      <td>фастфуд</td>\n",
       "      <td>1923</td>\n",
       "      <td>791</td>\n",
       "    </tr>\n",
       "  </tbody>\n",
       "</table>\n",
       "</div>"
      ],
      "text/plain": [
       "             number_of_object_x  number_of_object_y\n",
       "object_type                                        \n",
       "бар                         856                  37\n",
       "буфет                       585                  11\n",
       "закусочная                  360                  56\n",
       "кафе                       6099                1396\n",
       "кафетерий                   398                  52\n",
       "кулинария                   273                  78\n",
       "ресторан                   2285                 544\n",
       "столовая                   2587                   3\n",
       "фастфуд                    1923                 791"
      ]
     },
     "execution_count": 26,
     "metadata": {},
     "output_type": "execute_result"
    }
   ],
   "source": [
    "types_chain = types.merge(chain, on = 'object_type')\n",
    "types_chain"
   ]
  },
  {
   "cell_type": "code",
   "execution_count": 27,
   "metadata": {},
   "outputs": [
    {
     "data": {
      "text/html": [
       "<div>\n",
       "<style scoped>\n",
       "    .dataframe tbody tr th:only-of-type {\n",
       "        vertical-align: middle;\n",
       "    }\n",
       "\n",
       "    .dataframe tbody tr th {\n",
       "        vertical-align: top;\n",
       "    }\n",
       "\n",
       "    .dataframe thead th {\n",
       "        text-align: right;\n",
       "    }\n",
       "</style>\n",
       "<table border=\"1\" class=\"dataframe\">\n",
       "  <thead>\n",
       "    <tr style=\"text-align: right;\">\n",
       "      <th></th>\n",
       "      <th>number_of_object_x</th>\n",
       "      <th>number_of_object_y</th>\n",
       "      <th>chain%</th>\n",
       "    </tr>\n",
       "    <tr>\n",
       "      <th>object_type</th>\n",
       "      <th></th>\n",
       "      <th></th>\n",
       "      <th></th>\n",
       "    </tr>\n",
       "  </thead>\n",
       "  <tbody>\n",
       "    <tr>\n",
       "      <td>бар</td>\n",
       "      <td>856</td>\n",
       "      <td>37</td>\n",
       "      <td>5.0</td>\n",
       "    </tr>\n",
       "    <tr>\n",
       "      <td>буфет</td>\n",
       "      <td>585</td>\n",
       "      <td>11</td>\n",
       "      <td>2.0</td>\n",
       "    </tr>\n",
       "    <tr>\n",
       "      <td>закусочная</td>\n",
       "      <td>360</td>\n",
       "      <td>56</td>\n",
       "      <td>16.0</td>\n",
       "    </tr>\n",
       "    <tr>\n",
       "      <td>кафе</td>\n",
       "      <td>6099</td>\n",
       "      <td>1396</td>\n",
       "      <td>23.0</td>\n",
       "    </tr>\n",
       "    <tr>\n",
       "      <td>кафетерий</td>\n",
       "      <td>398</td>\n",
       "      <td>52</td>\n",
       "      <td>14.0</td>\n",
       "    </tr>\n",
       "    <tr>\n",
       "      <td>кулинария</td>\n",
       "      <td>273</td>\n",
       "      <td>78</td>\n",
       "      <td>29.0</td>\n",
       "    </tr>\n",
       "    <tr>\n",
       "      <td>ресторан</td>\n",
       "      <td>2285</td>\n",
       "      <td>544</td>\n",
       "      <td>24.0</td>\n",
       "    </tr>\n",
       "    <tr>\n",
       "      <td>столовая</td>\n",
       "      <td>2587</td>\n",
       "      <td>3</td>\n",
       "      <td>1.0</td>\n",
       "    </tr>\n",
       "    <tr>\n",
       "      <td>фастфуд</td>\n",
       "      <td>1923</td>\n",
       "      <td>791</td>\n",
       "      <td>42.0</td>\n",
       "    </tr>\n",
       "  </tbody>\n",
       "</table>\n",
       "</div>"
      ],
      "text/plain": [
       "             number_of_object_x  number_of_object_y  chain%\n",
       "object_type                                                \n",
       "бар                         856                  37     5.0\n",
       "буфет                       585                  11     2.0\n",
       "закусочная                  360                  56    16.0\n",
       "кафе                       6099                1396    23.0\n",
       "кафетерий                   398                  52    14.0\n",
       "кулинария                   273                  78    29.0\n",
       "ресторан                   2285                 544    24.0\n",
       "столовая                   2587                   3     1.0\n",
       "фастфуд                    1923                 791    42.0"
      ]
     },
     "execution_count": 27,
     "metadata": {},
     "output_type": "execute_result"
    }
   ],
   "source": [
    "types_chain['chain%'] = types_chain['number_of_object_y'] /  types_chain['number_of_object_x'] * 100\n",
    "types_chain['chain%'] = types_chain['chain%'].apply(np.ceil)\n",
    "types_chain"
   ]
  },
  {
   "cell_type": "code",
   "execution_count": 28,
   "metadata": {},
   "outputs": [
    {
     "data": {
      "text/plain": [
       "Text(0, 0.5, 'Процент сетевых')"
      ]
     },
     "execution_count": 28,
     "metadata": {},
     "output_type": "execute_result"
    },
    {
     "data": {
      "image/png": "[encoded data removed]",
      "text/plain": [
       "<Figure size 432x288 with 1 Axes>"
      ]
     },
     "metadata": {
      "needs_background": "light"
     },
     "output_type": "display_data"
    }
   ],
   "source": [
    "types_chain = types_chain.drop(['number_of_object_x','number_of_object_y'], axis = 1)\n",
    "types_chain.plot(kind = 'bar', title = 'Процент сетевых заведений')\n",
    "plt.xlabel('Тип заведения')\n",
    "plt.ylabel('Процент сетевых')"
   ]
  },
  {
   "cell_type": "markdown",
   "metadata": {},
   "source": [
    "### Что характерно для сетевых заведений: много заведений с небольшим числом посадочных мест в каждом или мало заведений с большим количеством посадочных мест?"
   ]
  },
  {
   "cell_type": "code",
   "execution_count": 29,
   "metadata": {},
   "outputs": [
    {
     "data": {
      "image/png": "[encoded data removed]",
      "text/plain": [
       "<Figure size 432x288 with 1 Axes>"
      ]
     },
     "metadata": {
      "needs_background": "light"
     },
     "output_type": "display_data"
    }
   ],
   "source": [
    "df.query('chain == \"да\"')['number'].hist(bins=20)\n",
    "plt.title('График распределения числа посадочных мест')\n",
    "plt.xlabel('Количество заведений')\n",
    "plt.ylabel('Колличество посадочных мест');"
   ]
  },
  {
   "cell_type": "code",
   "execution_count": 30,
   "metadata": {},
   "outputs": [
    {
     "data": {
      "image/png": "[encoded data removed]",
      "text/plain": [
       "<Figure size 432x288 with 1 Axes>"
      ]
     },
     "metadata": {
      "needs_background": "light"
     },
     "output_type": "display_data"
    }
   ],
   "source": [
    "percentile_95 = np.percentile(df.query('chain == \"да\"')['number'], 95)\n",
    "plt.ylim(0, percentile_95*1.5)\n",
    "df.query('chain == \"да\"').boxplot(column = 'number')\n",
    "plt.show()"
   ]
  },
  {
   "cell_type": "markdown",
   "metadata": {},
   "source": [
    "Вывод: сетевые заведения имеют большее присутствие при меньшем колличестве посадочных мест по сравнению с иными заведениями общественного питания."
   ]
  },
  {
   "cell_type": "markdown",
   "metadata": {},
   "source": [
    "### Для каждого вида объекта общественного питания опишите среднее количество посадочных мест. Какой вид предоставляет в среднем самое большое количество посадочных мест? Постройте графики."
   ]
  },
  {
   "cell_type": "markdown",
   "metadata": {},
   "source": [
    "Найдем среднее кол-во мест для каждого вида зведения"
   ]
  },
  {
   "cell_type": "code",
   "execution_count": 31,
   "metadata": {},
   "outputs": [],
   "source": [
    "data_mean = df.pivot_table(index=['object_type'], values=['number'], aggfunc={'mean'})"
   ]
  },
  {
   "cell_type": "code",
   "execution_count": 32,
   "metadata": {},
   "outputs": [
    {
     "data": {
      "text/html": [
       "<div>\n",
       "<style scoped>\n",
       "    .dataframe tbody tr th:only-of-type {\n",
       "        vertical-align: middle;\n",
       "    }\n",
       "\n",
       "    .dataframe tbody tr th {\n",
       "        vertical-align: top;\n",
       "    }\n",
       "\n",
       "    .dataframe thead tr th {\n",
       "        text-align: left;\n",
       "    }\n",
       "</style>\n",
       "<table border=\"1\" class=\"dataframe\">\n",
       "  <thead>\n",
       "    <tr>\n",
       "      <th></th>\n",
       "      <th>object_type</th>\n",
       "      <th>number</th>\n",
       "    </tr>\n",
       "    <tr>\n",
       "      <th></th>\n",
       "      <th></th>\n",
       "      <th>mean</th>\n",
       "    </tr>\n",
       "  </thead>\n",
       "  <tbody>\n",
       "    <tr>\n",
       "      <td>0</td>\n",
       "      <td>бар</td>\n",
       "      <td>43.494159</td>\n",
       "    </tr>\n",
       "    <tr>\n",
       "      <td>1</td>\n",
       "      <td>буфет</td>\n",
       "      <td>51.129915</td>\n",
       "    </tr>\n",
       "    <tr>\n",
       "      <td>2</td>\n",
       "      <td>закусочная</td>\n",
       "      <td>7.608333</td>\n",
       "    </tr>\n",
       "    <tr>\n",
       "      <td>3</td>\n",
       "      <td>кафе</td>\n",
       "      <td>39.716019</td>\n",
       "    </tr>\n",
       "    <tr>\n",
       "      <td>4</td>\n",
       "      <td>кафетерий</td>\n",
       "      <td>9.123116</td>\n",
       "    </tr>\n",
       "    <tr>\n",
       "      <td>5</td>\n",
       "      <td>кулинария</td>\n",
       "      <td>5.589744</td>\n",
       "    </tr>\n",
       "    <tr>\n",
       "      <td>6</td>\n",
       "      <td>ресторан</td>\n",
       "      <td>96.834136</td>\n",
       "    </tr>\n",
       "    <tr>\n",
       "      <td>7</td>\n",
       "      <td>столовая</td>\n",
       "      <td>130.246618</td>\n",
       "    </tr>\n",
       "    <tr>\n",
       "      <td>8</td>\n",
       "      <td>фастфуд</td>\n",
       "      <td>20.552262</td>\n",
       "    </tr>\n",
       "  </tbody>\n",
       "</table>\n",
       "</div>"
      ],
      "text/plain": [
       "  object_type      number\n",
       "                     mean\n",
       "0         бар   43.494159\n",
       "1       буфет   51.129915\n",
       "2  закусочная    7.608333\n",
       "3        кафе   39.716019\n",
       "4   кафетерий    9.123116\n",
       "5   кулинария    5.589744\n",
       "6    ресторан   96.834136\n",
       "7    столовая  130.246618\n",
       "8     фастфуд   20.552262"
      ]
     },
     "execution_count": 32,
     "metadata": {},
     "output_type": "execute_result"
    }
   ],
   "source": [
    "data_mean.reset_index()"
   ]
  },
  {
   "cell_type": "code",
   "execution_count": 33,
   "metadata": {},
   "outputs": [
    {
     "data": {
      "image/png": "[encoded data removed]",
      "text/plain": [
       "<Figure size 432x288 with 1 Axes>"
      ]
     },
     "metadata": {
      "needs_background": "light"
     },
     "output_type": "display_data"
    }
   ],
   "source": [
    "ax=sns.barplot(x='object_type', y='number', data=df)\n",
    "ax.set_xlabel('Тип объекта')\n",
    "ax.set_ylabel('Посадочные места')\n",
    "ax.set_title('Среднее количество посадочных мест')\n",
    "plt.xticks(rotation=45)\n",
    "plt.show();"
   ]
  },
  {
   "cell_type": "markdown",
   "metadata": {},
   "source": [
    "Вывод: столовые и рестораны более всего обеспечены посадочными местами."
   ]
  },
  {
   "cell_type": "markdown",
   "metadata": {},
   "source": [
    "### Выделить в отдельный столбец информацию об улице из столбца address ."
   ]
  },
  {
   "cell_type": "markdown",
   "metadata": {},
   "source": [
    "Воспользуемся регулярными выражениями"
   ]
  },
  {
   "cell_type": "code",
   "execution_count": 34,
   "metadata": {},
   "outputs": [],
   "source": [
    "words = ['улица','ул','переулок','шоссе','проспект','площадь','проезд',\n",
    "         'село','аллея','бульвар','набережная','тупик','линия']\n",
    "\n",
    "str_pat = r\".*,\\s*\\b([^,]*?(?:{})\\b[^,]*)[,$]+\".format(\"|\".join(words))\n",
    "\n",
    "df['streetname'] = df['address'].str.extract(str_pat, flags=re.I)"
   ]
  },
  {
   "cell_type": "markdown",
   "metadata": {},
   "source": [
    "### Построить график топ-10 улиц по количеству объектов общественного питания. Воспользоваться внешней информацией и ответьте на вопрос — в каких районах Москвы находятся эти улицы?"
   ]
  },
  {
   "cell_type": "markdown",
   "metadata": {},
   "source": [
    "Найдем самые населенные общепитом улицы"
   ]
  },
  {
   "cell_type": "code",
   "execution_count": 35,
   "metadata": {},
   "outputs": [
    {
     "data": {
      "text/html": [
       "<div>\n",
       "<style scoped>\n",
       "    .dataframe tbody tr th:only-of-type {\n",
       "        vertical-align: middle;\n",
       "    }\n",
       "\n",
       "    .dataframe tbody tr th {\n",
       "        vertical-align: top;\n",
       "    }\n",
       "\n",
       "    .dataframe thead th {\n",
       "        text-align: right;\n",
       "    }\n",
       "</style>\n",
       "<table border=\"1\" class=\"dataframe\">\n",
       "  <thead>\n",
       "    <tr style=\"text-align: right;\">\n",
       "      <th></th>\n",
       "      <th>streetname</th>\n",
       "      <th>id</th>\n",
       "      <th>object_name</th>\n",
       "      <th>chain</th>\n",
       "      <th>object_type</th>\n",
       "      <th>address</th>\n",
       "      <th>number</th>\n",
       "      <th>number_of_object</th>\n",
       "    </tr>\n",
       "  </thead>\n",
       "  <tbody>\n",
       "    <tr>\n",
       "      <td>0</td>\n",
       "      <td>проспект мира</td>\n",
       "      <td>204</td>\n",
       "      <td>204</td>\n",
       "      <td>204</td>\n",
       "      <td>204</td>\n",
       "      <td>204</td>\n",
       "      <td>204</td>\n",
       "      <td>204</td>\n",
       "    </tr>\n",
       "    <tr>\n",
       "      <td>1</td>\n",
       "      <td>профсоюзная улица</td>\n",
       "      <td>182</td>\n",
       "      <td>182</td>\n",
       "      <td>182</td>\n",
       "      <td>182</td>\n",
       "      <td>182</td>\n",
       "      <td>182</td>\n",
       "      <td>182</td>\n",
       "    </tr>\n",
       "    <tr>\n",
       "      <td>2</td>\n",
       "      <td>ленинградский проспект</td>\n",
       "      <td>171</td>\n",
       "      <td>171</td>\n",
       "      <td>171</td>\n",
       "      <td>171</td>\n",
       "      <td>171</td>\n",
       "      <td>171</td>\n",
       "      <td>171</td>\n",
       "    </tr>\n",
       "    <tr>\n",
       "      <td>3</td>\n",
       "      <td>пресненская набережная</td>\n",
       "      <td>167</td>\n",
       "      <td>167</td>\n",
       "      <td>167</td>\n",
       "      <td>167</td>\n",
       "      <td>167</td>\n",
       "      <td>167</td>\n",
       "      <td>167</td>\n",
       "    </tr>\n",
       "    <tr>\n",
       "      <td>4</td>\n",
       "      <td>варшавское шоссе</td>\n",
       "      <td>164</td>\n",
       "      <td>164</td>\n",
       "      <td>164</td>\n",
       "      <td>164</td>\n",
       "      <td>164</td>\n",
       "      <td>164</td>\n",
       "      <td>164</td>\n",
       "    </tr>\n",
       "    <tr>\n",
       "      <td>5</td>\n",
       "      <td>ленинский проспект</td>\n",
       "      <td>147</td>\n",
       "      <td>147</td>\n",
       "      <td>147</td>\n",
       "      <td>147</td>\n",
       "      <td>147</td>\n",
       "      <td>147</td>\n",
       "      <td>147</td>\n",
       "    </tr>\n",
       "    <tr>\n",
       "      <td>6</td>\n",
       "      <td>проспект вернадского</td>\n",
       "      <td>132</td>\n",
       "      <td>132</td>\n",
       "      <td>132</td>\n",
       "      <td>132</td>\n",
       "      <td>132</td>\n",
       "      <td>132</td>\n",
       "      <td>132</td>\n",
       "    </tr>\n",
       "    <tr>\n",
       "      <td>7</td>\n",
       "      <td>кутузовский проспект</td>\n",
       "      <td>114</td>\n",
       "      <td>114</td>\n",
       "      <td>114</td>\n",
       "      <td>114</td>\n",
       "      <td>114</td>\n",
       "      <td>114</td>\n",
       "      <td>114</td>\n",
       "    </tr>\n",
       "    <tr>\n",
       "      <td>8</td>\n",
       "      <td>каширское шоссе</td>\n",
       "      <td>112</td>\n",
       "      <td>112</td>\n",
       "      <td>112</td>\n",
       "      <td>112</td>\n",
       "      <td>112</td>\n",
       "      <td>112</td>\n",
       "      <td>112</td>\n",
       "    </tr>\n",
       "    <tr>\n",
       "      <td>9</td>\n",
       "      <td>кировоградская улица</td>\n",
       "      <td>110</td>\n",
       "      <td>110</td>\n",
       "      <td>110</td>\n",
       "      <td>110</td>\n",
       "      <td>110</td>\n",
       "      <td>110</td>\n",
       "      <td>110</td>\n",
       "    </tr>\n",
       "  </tbody>\n",
       "</table>\n",
       "</div>"
      ],
      "text/plain": [
       "               streetname   id  object_name  chain  object_type  address  \\\n",
       "0           проспект мира  204          204    204          204      204   \n",
       "1       профсоюзная улица  182          182    182          182      182   \n",
       "2  ленинградский проспект  171          171    171          171      171   \n",
       "3  пресненская набережная  167          167    167          167      167   \n",
       "4        варшавское шоссе  164          164    164          164      164   \n",
       "5      ленинский проспект  147          147    147          147      147   \n",
       "6    проспект вернадского  132          132    132          132      132   \n",
       "7    кутузовский проспект  114          114    114          114      114   \n",
       "8         каширское шоссе  112          112    112          112      112   \n",
       "9    кировоградская улица  110          110    110          110      110   \n",
       "\n",
       "   number  number_of_object  \n",
       "0     204               204  \n",
       "1     182               182  \n",
       "2     171               171  \n",
       "3     167               167  \n",
       "4     164               164  \n",
       "5     147               147  \n",
       "6     132               132  \n",
       "7     114               114  \n",
       "8     112               112  \n",
       "9     110               110  "
      ]
     },
     "execution_count": 35,
     "metadata": {},
     "output_type": "execute_result"
    }
   ],
   "source": [
    "streets=df.groupby('streetname').count().sort_values(by='object_type', ascending=False).head(10).reset_index()\n",
    "streets"
   ]
  },
  {
   "cell_type": "code",
   "execution_count": 36,
   "metadata": {},
   "outputs": [
    {
     "data": {
      "image/png": "[encoded data removed]",
      "text/plain": [
       "<Figure size 432x288 with 1 Axes>"
      ]
     },
     "metadata": {
      "needs_background": "light"
     },
     "output_type": "display_data"
    }
   ],
   "source": [
    "ax=sns.barplot(x='object_type', y='streetname', data=streets)\n",
    "ax.set_xlabel('Колличество объектов')\n",
    "ax.set_ylabel('Название улицы')\n",
    "ax.set_title('Топ 10 улиц')\n",
    "plt.xticks(rotation=45)\n",
    "plt.show();"
   ]
  },
  {
   "cell_type": "code",
   "execution_count": 37,
   "metadata": {},
   "outputs": [
    {
     "data": {
      "text/html": [
       "<div>\n",
       "<style scoped>\n",
       "    .dataframe tbody tr th:only-of-type {\n",
       "        vertical-align: middle;\n",
       "    }\n",
       "\n",
       "    .dataframe tbody tr th {\n",
       "        vertical-align: top;\n",
       "    }\n",
       "\n",
       "    .dataframe thead th {\n",
       "        text-align: right;\n",
       "    }\n",
       "</style>\n",
       "<table border=\"1\" class=\"dataframe\">\n",
       "  <thead>\n",
       "    <tr style=\"text-align: right;\">\n",
       "      <th></th>\n",
       "      <th>id</th>\n",
       "      <th>object_name</th>\n",
       "      <th>chain</th>\n",
       "      <th>object_type</th>\n",
       "      <th>address</th>\n",
       "      <th>number</th>\n",
       "      <th>number_of_object</th>\n",
       "      <th>streetname</th>\n",
       "    </tr>\n",
       "  </thead>\n",
       "  <tbody>\n",
       "    <tr>\n",
       "      <td>0</td>\n",
       "      <td>151635</td>\n",
       "      <td>сметана</td>\n",
       "      <td>нет</td>\n",
       "      <td>кафе</td>\n",
       "      <td>город москва, улица егора абакумова, дом 9</td>\n",
       "      <td>48</td>\n",
       "      <td>1</td>\n",
       "      <td>улица егора абакумова</td>\n",
       "    </tr>\n",
       "    <tr>\n",
       "      <td>1</td>\n",
       "      <td>77874</td>\n",
       "      <td>родник</td>\n",
       "      <td>нет</td>\n",
       "      <td>кафе</td>\n",
       "      <td>город москва, улица талалихина, дом 2/1, корпус 1</td>\n",
       "      <td>35</td>\n",
       "      <td>1</td>\n",
       "      <td>улица талалихина</td>\n",
       "    </tr>\n",
       "    <tr>\n",
       "      <td>2</td>\n",
       "      <td>24309</td>\n",
       "      <td>кафе «академия»</td>\n",
       "      <td>нет</td>\n",
       "      <td>кафе</td>\n",
       "      <td>город москва, абельмановская улица, дом 6</td>\n",
       "      <td>95</td>\n",
       "      <td>1</td>\n",
       "      <td>абельмановская улица</td>\n",
       "    </tr>\n",
       "    <tr>\n",
       "      <td>3</td>\n",
       "      <td>21894</td>\n",
       "      <td>пиццетория</td>\n",
       "      <td>да</td>\n",
       "      <td>кафе</td>\n",
       "      <td>город москва, абрамцевская улица, дом 1</td>\n",
       "      <td>40</td>\n",
       "      <td>1</td>\n",
       "      <td>абрамцевская улица</td>\n",
       "    </tr>\n",
       "    <tr>\n",
       "      <td>4</td>\n",
       "      <td>119365</td>\n",
       "      <td>кафе «вишневая метель»</td>\n",
       "      <td>нет</td>\n",
       "      <td>кафе</td>\n",
       "      <td>город москва, абрамцевская улица, дом 9, корпус 1</td>\n",
       "      <td>50</td>\n",
       "      <td>1</td>\n",
       "      <td>абрамцевская улица</td>\n",
       "    </tr>\n",
       "    <tr>\n",
       "      <td>...</td>\n",
       "      <td>...</td>\n",
       "      <td>...</td>\n",
       "      <td>...</td>\n",
       "      <td>...</td>\n",
       "      <td>...</td>\n",
       "      <td>...</td>\n",
       "      <td>...</td>\n",
       "      <td>...</td>\n",
       "    </tr>\n",
       "    <tr>\n",
       "      <td>15361</td>\n",
       "      <td>208537</td>\n",
       "      <td>шоколадница</td>\n",
       "      <td>да</td>\n",
       "      <td>кафе</td>\n",
       "      <td>город москва, 3-й крутицкий переулок, дом 18</td>\n",
       "      <td>50</td>\n",
       "      <td>1</td>\n",
       "      <td>3-й крутицкий переулок</td>\n",
       "    </tr>\n",
       "    <tr>\n",
       "      <td>15362</td>\n",
       "      <td>209264</td>\n",
       "      <td>шоколадница</td>\n",
       "      <td>да</td>\n",
       "      <td>кафе</td>\n",
       "      <td>город москва, улица земляной вал, дом 33</td>\n",
       "      <td>10</td>\n",
       "      <td>1</td>\n",
       "      <td>улица земляной вал</td>\n",
       "    </tr>\n",
       "    <tr>\n",
       "      <td>15363</td>\n",
       "      <td>209186</td>\n",
       "      <td>шоколадница</td>\n",
       "      <td>да</td>\n",
       "      <td>кафе</td>\n",
       "      <td>город москва, улица земляной вал, дом 33</td>\n",
       "      <td>20</td>\n",
       "      <td>1</td>\n",
       "      <td>улица земляной вал</td>\n",
       "    </tr>\n",
       "    <tr>\n",
       "      <td>15364</td>\n",
       "      <td>221900</td>\n",
       "      <td>шоколадница</td>\n",
       "      <td>да</td>\n",
       "      <td>кафе</td>\n",
       "      <td>город москва, поселение московский, киевское ш...</td>\n",
       "      <td>36</td>\n",
       "      <td>1</td>\n",
       "      <td>киевское шоссе</td>\n",
       "    </tr>\n",
       "    <tr>\n",
       "      <td>15365</td>\n",
       "      <td>222535</td>\n",
       "      <td>шоколадница</td>\n",
       "      <td>да</td>\n",
       "      <td>кафе</td>\n",
       "      <td>город москва, ходынский бульвар, дом 4</td>\n",
       "      <td>10</td>\n",
       "      <td>1</td>\n",
       "      <td>ходынский бульвар</td>\n",
       "    </tr>\n",
       "  </tbody>\n",
       "</table>\n",
       "<p>15366 rows × 8 columns</p>\n",
       "</div>"
      ],
      "text/plain": [
       "           id             object_name chain object_type  \\\n",
       "0      151635                 сметана   нет        кафе   \n",
       "1       77874                  родник   нет        кафе   \n",
       "2       24309         кафе «академия»   нет        кафе   \n",
       "3       21894              пиццетория    да        кафе   \n",
       "4      119365  кафе «вишневая метель»   нет        кафе   \n",
       "...       ...                     ...   ...         ...   \n",
       "15361  208537             шоколадница    да        кафе   \n",
       "15362  209264             шоколадница    да        кафе   \n",
       "15363  209186             шоколадница    да        кафе   \n",
       "15364  221900             шоколадница    да        кафе   \n",
       "15365  222535             шоколадница    да        кафе   \n",
       "\n",
       "                                                 address  number  \\\n",
       "0             город москва, улица егора абакумова, дом 9      48   \n",
       "1      город москва, улица талалихина, дом 2/1, корпус 1      35   \n",
       "2              город москва, абельмановская улица, дом 6      95   \n",
       "3                город москва, абрамцевская улица, дом 1      40   \n",
       "4      город москва, абрамцевская улица, дом 9, корпус 1      50   \n",
       "...                                                  ...     ...   \n",
       "15361       город москва, 3-й крутицкий переулок, дом 18      50   \n",
       "15362           город москва, улица земляной вал, дом 33      10   \n",
       "15363           город москва, улица земляной вал, дом 33      20   \n",
       "15364  город москва, поселение московский, киевское ш...      36   \n",
       "15365             город москва, ходынский бульвар, дом 4      10   \n",
       "\n",
       "       number_of_object              streetname  \n",
       "0                     1   улица егора абакумова  \n",
       "1                     1        улица талалихина  \n",
       "2                     1    абельмановская улица  \n",
       "3                     1      абрамцевская улица  \n",
       "4                     1      абрамцевская улица  \n",
       "...                 ...                     ...  \n",
       "15361                 1  3-й крутицкий переулок  \n",
       "15362                 1      улица земляной вал  \n",
       "15363                 1      улица земляной вал  \n",
       "15364                 1          киевское шоссе  \n",
       "15365                 1       ходынский бульвар  \n",
       "\n",
       "[15366 rows x 8 columns]"
      ]
     },
     "execution_count": 37,
     "metadata": {},
     "output_type": "execute_result"
    }
   ],
   "source": [
    "df"
   ]
  },
  {
   "cell_type": "code",
   "execution_count": 38,
   "metadata": {},
   "outputs": [
    {
     "name": "stdout",
     "output_type": "stream",
     "text": [
      "<class 'pandas.core.frame.DataFrame'>\n",
      "RangeIndex: 15366 entries, 0 to 15365\n",
      "Data columns (total 8 columns):\n",
      "id                  15366 non-null int64\n",
      "object_name         15366 non-null object\n",
      "chain               15366 non-null object\n",
      "object_type         15366 non-null object\n",
      "address             15366 non-null object\n",
      "number              15366 non-null int64\n",
      "number_of_object    15366 non-null int64\n",
      "streetname          14916 non-null object\n",
      "dtypes: int64(3), object(5)\n",
      "memory usage: 960.5+ KB\n"
     ]
    }
   ],
   "source": [
    "df.info()"
   ]
  },
  {
   "cell_type": "markdown",
   "metadata": {},
   "source": [
    "Соотнесем названия улиц с районами, для этого загрузим таблицу"
   ]
  },
  {
   "cell_type": "code",
   "execution_count": 39,
   "metadata": {},
   "outputs": [
    {
     "data": {
      "text/html": [
       "<div>\n",
       "<style scoped>\n",
       "    .dataframe tbody tr th:only-of-type {\n",
       "        vertical-align: middle;\n",
       "    }\n",
       "\n",
       "    .dataframe tbody tr th {\n",
       "        vertical-align: top;\n",
       "    }\n",
       "\n",
       "    .dataframe thead th {\n",
       "        text-align: right;\n",
       "    }\n",
       "</style>\n",
       "<table border=\"1\" class=\"dataframe\">\n",
       "  <thead>\n",
       "    <tr style=\"text-align: right;\">\n",
       "      <th></th>\n",
       "      <th>streetname</th>\n",
       "      <th>areaid</th>\n",
       "      <th>okrug</th>\n",
       "      <th>area</th>\n",
       "    </tr>\n",
       "  </thead>\n",
       "  <tbody>\n",
       "    <tr>\n",
       "      <td>0</td>\n",
       "      <td>выставочный переулок</td>\n",
       "      <td>17</td>\n",
       "      <td>ЦАО</td>\n",
       "      <td>Пресненский район</td>\n",
       "    </tr>\n",
       "    <tr>\n",
       "      <td>1</td>\n",
       "      <td>улица гашека</td>\n",
       "      <td>17</td>\n",
       "      <td>ЦАО</td>\n",
       "      <td>Пресненский район</td>\n",
       "    </tr>\n",
       "    <tr>\n",
       "      <td>2</td>\n",
       "      <td>большая никитская улица</td>\n",
       "      <td>17</td>\n",
       "      <td>ЦАО</td>\n",
       "      <td>Пресненский район</td>\n",
       "    </tr>\n",
       "    <tr>\n",
       "      <td>3</td>\n",
       "      <td>глубокий переулок</td>\n",
       "      <td>17</td>\n",
       "      <td>ЦАО</td>\n",
       "      <td>Пресненский район</td>\n",
       "    </tr>\n",
       "    <tr>\n",
       "      <td>4</td>\n",
       "      <td>большой гнездниковский переулок</td>\n",
       "      <td>17</td>\n",
       "      <td>ЦАО</td>\n",
       "      <td>Пресненский район</td>\n",
       "    </tr>\n",
       "    <tr>\n",
       "      <td>...</td>\n",
       "      <td>...</td>\n",
       "      <td>...</td>\n",
       "      <td>...</td>\n",
       "      <td>...</td>\n",
       "    </tr>\n",
       "    <tr>\n",
       "      <td>4393</td>\n",
       "      <td>вознесенский проезд</td>\n",
       "      <td>17</td>\n",
       "      <td>ЦАО</td>\n",
       "      <td>Пресненский район</td>\n",
       "    </tr>\n",
       "    <tr>\n",
       "      <td>4394</td>\n",
       "      <td>волков переулок</td>\n",
       "      <td>17</td>\n",
       "      <td>ЦАО</td>\n",
       "      <td>Пресненский район</td>\n",
       "    </tr>\n",
       "    <tr>\n",
       "      <td>4395</td>\n",
       "      <td>поварская улица</td>\n",
       "      <td>17</td>\n",
       "      <td>ЦАО</td>\n",
       "      <td>Пресненский район</td>\n",
       "    </tr>\n",
       "    <tr>\n",
       "      <td>4396</td>\n",
       "      <td>кудринская площадь</td>\n",
       "      <td>17</td>\n",
       "      <td>ЦАО</td>\n",
       "      <td>Пресненский район</td>\n",
       "    </tr>\n",
       "    <tr>\n",
       "      <td>4397</td>\n",
       "      <td>вспольный переулок</td>\n",
       "      <td>17</td>\n",
       "      <td>ЦАО</td>\n",
       "      <td>Пресненский район</td>\n",
       "    </tr>\n",
       "  </tbody>\n",
       "</table>\n",
       "<p>4398 rows × 4 columns</p>\n",
       "</div>"
      ],
      "text/plain": [
       "                           streetname  areaid okrug               area\n",
       "0                выставочный переулок      17   ЦАО  Пресненский район\n",
       "1                        улица гашека      17   ЦАО  Пресненский район\n",
       "2             большая никитская улица      17   ЦАО  Пресненский район\n",
       "3                   глубокий переулок      17   ЦАО  Пресненский район\n",
       "4     большой гнездниковский переулок      17   ЦАО  Пресненский район\n",
       "...                               ...     ...   ...                ...\n",
       "4393              вознесенский проезд      17   ЦАО  Пресненский район\n",
       "4394                  волков переулок      17   ЦАО  Пресненский район\n",
       "4395                  поварская улица      17   ЦАО  Пресненский район\n",
       "4396               кудринская площадь      17   ЦАО  Пресненский район\n",
       "4397               вспольный переулок      17   ЦАО  Пресненский район\n",
       "\n",
       "[4398 rows x 4 columns]"
      ]
     },
     "execution_count": 39,
     "metadata": {},
     "output_type": "execute_result"
    }
   ],
   "source": [
    "from io import BytesIO\n",
    "import requests\n",
    "spreadsheet_id = '1dQohA3eAP_gCCK60eWaScJISgGYIh6xipxXndUM6PPY'\n",
    "file_name = 'https://docs.google.com/spreadsheets/d/{}/export?format=csv'.format(spreadsheet_id)\n",
    "r = requests.get(file_name)\n",
    "df1 = pd.read_csv(BytesIO(r.content))\n",
    "df1['streetname'] = df1['streetname'] .str.lower()\n",
    "df1"
   ]
  },
  {
   "cell_type": "code",
   "execution_count": 40,
   "metadata": {},
   "outputs": [
    {
     "data": {
      "text/html": [
       "<div>\n",
       "<style scoped>\n",
       "    .dataframe tbody tr th:only-of-type {\n",
       "        vertical-align: middle;\n",
       "    }\n",
       "\n",
       "    .dataframe tbody tr th {\n",
       "        vertical-align: top;\n",
       "    }\n",
       "\n",
       "    .dataframe thead th {\n",
       "        text-align: right;\n",
       "    }\n",
       "</style>\n",
       "<table border=\"1\" class=\"dataframe\">\n",
       "  <thead>\n",
       "    <tr style=\"text-align: right;\">\n",
       "      <th></th>\n",
       "      <th>id</th>\n",
       "      <th>object_name</th>\n",
       "      <th>chain</th>\n",
       "      <th>object_type</th>\n",
       "      <th>address</th>\n",
       "      <th>number</th>\n",
       "      <th>number_of_object</th>\n",
       "      <th>streetname</th>\n",
       "    </tr>\n",
       "  </thead>\n",
       "  <tbody>\n",
       "    <tr>\n",
       "      <td>0</td>\n",
       "      <td>151635</td>\n",
       "      <td>сметана</td>\n",
       "      <td>нет</td>\n",
       "      <td>кафе</td>\n",
       "      <td>город москва, улица егора абакумова, дом 9</td>\n",
       "      <td>48</td>\n",
       "      <td>1</td>\n",
       "      <td>улица егора абакумова</td>\n",
       "    </tr>\n",
       "    <tr>\n",
       "      <td>1</td>\n",
       "      <td>77874</td>\n",
       "      <td>родник</td>\n",
       "      <td>нет</td>\n",
       "      <td>кафе</td>\n",
       "      <td>город москва, улица талалихина, дом 2/1, корпус 1</td>\n",
       "      <td>35</td>\n",
       "      <td>1</td>\n",
       "      <td>улица талалихина</td>\n",
       "    </tr>\n",
       "    <tr>\n",
       "      <td>2</td>\n",
       "      <td>24309</td>\n",
       "      <td>кафе «академия»</td>\n",
       "      <td>нет</td>\n",
       "      <td>кафе</td>\n",
       "      <td>город москва, абельмановская улица, дом 6</td>\n",
       "      <td>95</td>\n",
       "      <td>1</td>\n",
       "      <td>абельмановская улица</td>\n",
       "    </tr>\n",
       "    <tr>\n",
       "      <td>3</td>\n",
       "      <td>21894</td>\n",
       "      <td>пиццетория</td>\n",
       "      <td>да</td>\n",
       "      <td>кафе</td>\n",
       "      <td>город москва, абрамцевская улица, дом 1</td>\n",
       "      <td>40</td>\n",
       "      <td>1</td>\n",
       "      <td>абрамцевская улица</td>\n",
       "    </tr>\n",
       "    <tr>\n",
       "      <td>4</td>\n",
       "      <td>119365</td>\n",
       "      <td>кафе «вишневая метель»</td>\n",
       "      <td>нет</td>\n",
       "      <td>кафе</td>\n",
       "      <td>город москва, абрамцевская улица, дом 9, корпус 1</td>\n",
       "      <td>50</td>\n",
       "      <td>1</td>\n",
       "      <td>абрамцевская улица</td>\n",
       "    </tr>\n",
       "  </tbody>\n",
       "</table>\n",
       "</div>"
      ],
      "text/plain": [
       "       id             object_name chain object_type  \\\n",
       "0  151635                 сметана   нет        кафе   \n",
       "1   77874                  родник   нет        кафе   \n",
       "2   24309         кафе «академия»   нет        кафе   \n",
       "3   21894              пиццетория    да        кафе   \n",
       "4  119365  кафе «вишневая метель»   нет        кафе   \n",
       "\n",
       "                                             address  number  \\\n",
       "0         город москва, улица егора абакумова, дом 9      48   \n",
       "1  город москва, улица талалихина, дом 2/1, корпус 1      35   \n",
       "2          город москва, абельмановская улица, дом 6      95   \n",
       "3            город москва, абрамцевская улица, дом 1      40   \n",
       "4  город москва, абрамцевская улица, дом 9, корпус 1      50   \n",
       "\n",
       "   number_of_object             streetname  \n",
       "0                 1  улица егора абакумова  \n",
       "1                 1       улица талалихина  \n",
       "2                 1   абельмановская улица  \n",
       "3                 1     абрамцевская улица  \n",
       "4                 1     абрамцевская улица  "
      ]
     },
     "execution_count": 40,
     "metadata": {},
     "output_type": "execute_result"
    }
   ],
   "source": [
    "df.head()"
   ]
  },
  {
   "cell_type": "code",
   "execution_count": 41,
   "metadata": {},
   "outputs": [],
   "source": [
    "df=df.merge(df1, on='streetname')"
   ]
  },
  {
   "cell_type": "code",
   "execution_count": 42,
   "metadata": {},
   "outputs": [],
   "source": [
    "df1['area']=df1['area'].str.strip()"
   ]
  },
  {
   "cell_type": "code",
   "execution_count": 43,
   "metadata": {},
   "outputs": [],
   "source": [
    "df1['streetname']=df1['streetname'].str.strip()"
   ]
  },
  {
   "cell_type": "code",
   "execution_count": 44,
   "metadata": {},
   "outputs": [],
   "source": [
    "df['streetname']=df['streetname'].str.strip()"
   ]
  },
  {
   "cell_type": "code",
   "execution_count": 45,
   "metadata": {},
   "outputs": [],
   "source": [
    "df3 = streets.merge(df1,on='streetname')"
   ]
  },
  {
   "cell_type": "code",
   "execution_count": 46,
   "metadata": {},
   "outputs": [
    {
     "data": {
      "text/html": [
       "<div>\n",
       "<style scoped>\n",
       "    .dataframe tbody tr th:only-of-type {\n",
       "        vertical-align: middle;\n",
       "    }\n",
       "\n",
       "    .dataframe tbody tr th {\n",
       "        vertical-align: top;\n",
       "    }\n",
       "\n",
       "    .dataframe thead th {\n",
       "        text-align: right;\n",
       "    }\n",
       "</style>\n",
       "<table border=\"1\" class=\"dataframe\">\n",
       "  <thead>\n",
       "    <tr style=\"text-align: right;\">\n",
       "      <th></th>\n",
       "      <th>streetname</th>\n",
       "      <th>id</th>\n",
       "      <th>object_name</th>\n",
       "      <th>chain</th>\n",
       "      <th>object_type</th>\n",
       "      <th>address</th>\n",
       "      <th>number</th>\n",
       "      <th>number_of_object</th>\n",
       "      <th>areaid</th>\n",
       "      <th>okrug</th>\n",
       "      <th>area</th>\n",
       "    </tr>\n",
       "  </thead>\n",
       "  <tbody>\n",
       "    <tr>\n",
       "      <td>0</td>\n",
       "      <td>проспект мира</td>\n",
       "      <td>204</td>\n",
       "      <td>204</td>\n",
       "      <td>204</td>\n",
       "      <td>204</td>\n",
       "      <td>204</td>\n",
       "      <td>204</td>\n",
       "      <td>204</td>\n",
       "      <td>70</td>\n",
       "      <td>СВАО</td>\n",
       "      <td>Алексеевский район</td>\n",
       "    </tr>\n",
       "    <tr>\n",
       "      <td>1</td>\n",
       "      <td>проспект мира</td>\n",
       "      <td>204</td>\n",
       "      <td>204</td>\n",
       "      <td>204</td>\n",
       "      <td>204</td>\n",
       "      <td>204</td>\n",
       "      <td>204</td>\n",
       "      <td>204</td>\n",
       "      <td>86</td>\n",
       "      <td>СВАО</td>\n",
       "      <td>Ярославский Район</td>\n",
       "    </tr>\n",
       "    <tr>\n",
       "      <td>2</td>\n",
       "      <td>проспект мира</td>\n",
       "      <td>204</td>\n",
       "      <td>204</td>\n",
       "      <td>204</td>\n",
       "      <td>204</td>\n",
       "      <td>204</td>\n",
       "      <td>204</td>\n",
       "      <td>204</td>\n",
       "      <td>78</td>\n",
       "      <td>СВАО</td>\n",
       "      <td>Район Марьина роща</td>\n",
       "    </tr>\n",
       "    <tr>\n",
       "      <td>3</td>\n",
       "      <td>проспект мира</td>\n",
       "      <td>204</td>\n",
       "      <td>204</td>\n",
       "      <td>204</td>\n",
       "      <td>204</td>\n",
       "      <td>204</td>\n",
       "      <td>204</td>\n",
       "      <td>204</td>\n",
       "      <td>79</td>\n",
       "      <td>СВАО</td>\n",
       "      <td>Останкинский район</td>\n",
       "    </tr>\n",
       "    <tr>\n",
       "      <td>4</td>\n",
       "      <td>проспект мира</td>\n",
       "      <td>204</td>\n",
       "      <td>204</td>\n",
       "      <td>204</td>\n",
       "      <td>204</td>\n",
       "      <td>204</td>\n",
       "      <td>204</td>\n",
       "      <td>204</td>\n",
       "      <td>81</td>\n",
       "      <td>СВАО</td>\n",
       "      <td>Район Ростокино</td>\n",
       "    </tr>\n",
       "    <tr>\n",
       "      <td>5</td>\n",
       "      <td>проспект мира</td>\n",
       "      <td>204</td>\n",
       "      <td>204</td>\n",
       "      <td>204</td>\n",
       "      <td>204</td>\n",
       "      <td>204</td>\n",
       "      <td>204</td>\n",
       "      <td>204</td>\n",
       "      <td>82</td>\n",
       "      <td>СВАО</td>\n",
       "      <td>Район Свиблово</td>\n",
       "    </tr>\n",
       "    <tr>\n",
       "      <td>6</td>\n",
       "      <td>проспект мира</td>\n",
       "      <td>204</td>\n",
       "      <td>204</td>\n",
       "      <td>204</td>\n",
       "      <td>204</td>\n",
       "      <td>204</td>\n",
       "      <td>204</td>\n",
       "      <td>204</td>\n",
       "      <td>16</td>\n",
       "      <td>ЦАО</td>\n",
       "      <td>Мещанский район</td>\n",
       "    </tr>\n",
       "    <tr>\n",
       "      <td>7</td>\n",
       "      <td>профсоюзная улица</td>\n",
       "      <td>182</td>\n",
       "      <td>182</td>\n",
       "      <td>182</td>\n",
       "      <td>182</td>\n",
       "      <td>182</td>\n",
       "      <td>182</td>\n",
       "      <td>182</td>\n",
       "      <td>123</td>\n",
       "      <td>ЮЗАО</td>\n",
       "      <td>Академический район</td>\n",
       "    </tr>\n",
       "    <tr>\n",
       "      <td>8</td>\n",
       "      <td>профсоюзная улица</td>\n",
       "      <td>182</td>\n",
       "      <td>182</td>\n",
       "      <td>182</td>\n",
       "      <td>182</td>\n",
       "      <td>182</td>\n",
       "      <td>182</td>\n",
       "      <td>182</td>\n",
       "      <td>132</td>\n",
       "      <td>ЮЗАО</td>\n",
       "      <td>Район Черемушки</td>\n",
       "    </tr>\n",
       "    <tr>\n",
       "      <td>9</td>\n",
       "      <td>профсоюзная улица</td>\n",
       "      <td>182</td>\n",
       "      <td>182</td>\n",
       "      <td>182</td>\n",
       "      <td>182</td>\n",
       "      <td>182</td>\n",
       "      <td>182</td>\n",
       "      <td>182</td>\n",
       "      <td>134</td>\n",
       "      <td>ЮЗАО</td>\n",
       "      <td>Район Ясенево</td>\n",
       "    </tr>\n",
       "    <tr>\n",
       "      <td>10</td>\n",
       "      <td>профсоюзная улица</td>\n",
       "      <td>182</td>\n",
       "      <td>182</td>\n",
       "      <td>182</td>\n",
       "      <td>182</td>\n",
       "      <td>182</td>\n",
       "      <td>182</td>\n",
       "      <td>182</td>\n",
       "      <td>126</td>\n",
       "      <td>ЮЗАО</td>\n",
       "      <td>Район Коньково</td>\n",
       "    </tr>\n",
       "    <tr>\n",
       "      <td>11</td>\n",
       "      <td>профсоюзная улица</td>\n",
       "      <td>182</td>\n",
       "      <td>182</td>\n",
       "      <td>182</td>\n",
       "      <td>182</td>\n",
       "      <td>182</td>\n",
       "      <td>182</td>\n",
       "      <td>182</td>\n",
       "      <td>129</td>\n",
       "      <td>ЮЗАО</td>\n",
       "      <td>Обручевский район</td>\n",
       "    </tr>\n",
       "    <tr>\n",
       "      <td>12</td>\n",
       "      <td>профсоюзная улица</td>\n",
       "      <td>182</td>\n",
       "      <td>182</td>\n",
       "      <td>182</td>\n",
       "      <td>182</td>\n",
       "      <td>182</td>\n",
       "      <td>182</td>\n",
       "      <td>182</td>\n",
       "      <td>131</td>\n",
       "      <td>ЮЗАО</td>\n",
       "      <td>Район Теплый Стан</td>\n",
       "    </tr>\n",
       "    <tr>\n",
       "      <td>13</td>\n",
       "      <td>ленинградский проспект</td>\n",
       "      <td>171</td>\n",
       "      <td>171</td>\n",
       "      <td>171</td>\n",
       "      <td>171</td>\n",
       "      <td>171</td>\n",
       "      <td>171</td>\n",
       "      <td>171</td>\n",
       "      <td>54</td>\n",
       "      <td>САО</td>\n",
       "      <td>Район Аэропорт</td>\n",
       "    </tr>\n",
       "    <tr>\n",
       "      <td>14</td>\n",
       "      <td>ленинградский проспект</td>\n",
       "      <td>171</td>\n",
       "      <td>171</td>\n",
       "      <td>171</td>\n",
       "      <td>171</td>\n",
       "      <td>171</td>\n",
       "      <td>171</td>\n",
       "      <td>171</td>\n",
       "      <td>55</td>\n",
       "      <td>САО</td>\n",
       "      <td>Район Беговой</td>\n",
       "    </tr>\n",
       "    <tr>\n",
       "      <td>15</td>\n",
       "      <td>ленинградский проспект</td>\n",
       "      <td>171</td>\n",
       "      <td>171</td>\n",
       "      <td>171</td>\n",
       "      <td>171</td>\n",
       "      <td>171</td>\n",
       "      <td>171</td>\n",
       "      <td>171</td>\n",
       "      <td>69</td>\n",
       "      <td>САО</td>\n",
       "      <td>Хорошевский район</td>\n",
       "    </tr>\n",
       "    <tr>\n",
       "      <td>16</td>\n",
       "      <td>ленинградский проспект</td>\n",
       "      <td>171</td>\n",
       "      <td>171</td>\n",
       "      <td>171</td>\n",
       "      <td>171</td>\n",
       "      <td>171</td>\n",
       "      <td>171</td>\n",
       "      <td>171</td>\n",
       "      <td>66</td>\n",
       "      <td>САО</td>\n",
       "      <td>Район Сокол</td>\n",
       "    </tr>\n",
       "    <tr>\n",
       "      <td>17</td>\n",
       "      <td>пресненская набережная</td>\n",
       "      <td>167</td>\n",
       "      <td>167</td>\n",
       "      <td>167</td>\n",
       "      <td>167</td>\n",
       "      <td>167</td>\n",
       "      <td>167</td>\n",
       "      <td>167</td>\n",
       "      <td>17</td>\n",
       "      <td>ЦАО</td>\n",
       "      <td>Пресненский район</td>\n",
       "    </tr>\n",
       "    <tr>\n",
       "      <td>18</td>\n",
       "      <td>варшавское шоссе</td>\n",
       "      <td>164</td>\n",
       "      <td>164</td>\n",
       "      <td>164</td>\n",
       "      <td>164</td>\n",
       "      <td>164</td>\n",
       "      <td>164</td>\n",
       "      <td>164</td>\n",
       "      <td>109</td>\n",
       "      <td>ЮАО</td>\n",
       "      <td>Район Чертаново Центральное</td>\n",
       "    </tr>\n",
       "    <tr>\n",
       "      <td>19</td>\n",
       "      <td>варшавское шоссе</td>\n",
       "      <td>164</td>\n",
       "      <td>164</td>\n",
       "      <td>164</td>\n",
       "      <td>164</td>\n",
       "      <td>164</td>\n",
       "      <td>164</td>\n",
       "      <td>164</td>\n",
       "      <td>108</td>\n",
       "      <td>ЮАО</td>\n",
       "      <td>Район Чертаново Северное</td>\n",
       "    </tr>\n",
       "    <tr>\n",
       "      <td>20</td>\n",
       "      <td>варшавское шоссе</td>\n",
       "      <td>164</td>\n",
       "      <td>164</td>\n",
       "      <td>164</td>\n",
       "      <td>164</td>\n",
       "      <td>164</td>\n",
       "      <td>164</td>\n",
       "      <td>164</td>\n",
       "      <td>110</td>\n",
       "      <td>ЮАО</td>\n",
       "      <td>Район Чертаново Южное</td>\n",
       "    </tr>\n",
       "    <tr>\n",
       "      <td>21</td>\n",
       "      <td>варшавское шоссе</td>\n",
       "      <td>164</td>\n",
       "      <td>164</td>\n",
       "      <td>164</td>\n",
       "      <td>164</td>\n",
       "      <td>164</td>\n",
       "      <td>164</td>\n",
       "      <td>164</td>\n",
       "      <td>99</td>\n",
       "      <td>ЮАО</td>\n",
       "      <td>Донской район</td>\n",
       "    </tr>\n",
       "    <tr>\n",
       "      <td>22</td>\n",
       "      <td>варшавское шоссе</td>\n",
       "      <td>164</td>\n",
       "      <td>164</td>\n",
       "      <td>164</td>\n",
       "      <td>164</td>\n",
       "      <td>164</td>\n",
       "      <td>164</td>\n",
       "      <td>164</td>\n",
       "      <td>102</td>\n",
       "      <td>ЮАО</td>\n",
       "      <td>Район Нагатино-Садовники</td>\n",
       "    </tr>\n",
       "    <tr>\n",
       "      <td>23</td>\n",
       "      <td>варшавское шоссе</td>\n",
       "      <td>164</td>\n",
       "      <td>164</td>\n",
       "      <td>164</td>\n",
       "      <td>164</td>\n",
       "      <td>164</td>\n",
       "      <td>164</td>\n",
       "      <td>164</td>\n",
       "      <td>104</td>\n",
       "      <td>ЮАО</td>\n",
       "      <td>Нагорный район</td>\n",
       "    </tr>\n",
       "    <tr>\n",
       "      <td>24</td>\n",
       "      <td>варшавское шоссе</td>\n",
       "      <td>164</td>\n",
       "      <td>164</td>\n",
       "      <td>164</td>\n",
       "      <td>164</td>\n",
       "      <td>164</td>\n",
       "      <td>164</td>\n",
       "      <td>164</td>\n",
       "      <td>130</td>\n",
       "      <td>ЮЗАО</td>\n",
       "      <td>Район Северное Бутово</td>\n",
       "    </tr>\n",
       "    <tr>\n",
       "      <td>25</td>\n",
       "      <td>варшавское шоссе</td>\n",
       "      <td>164</td>\n",
       "      <td>164</td>\n",
       "      <td>164</td>\n",
       "      <td>164</td>\n",
       "      <td>164</td>\n",
       "      <td>164</td>\n",
       "      <td>164</td>\n",
       "      <td>133</td>\n",
       "      <td>ЮЗАО</td>\n",
       "      <td>Район Южное Бутово</td>\n",
       "    </tr>\n",
       "    <tr>\n",
       "      <td>26</td>\n",
       "      <td>ленинский проспект</td>\n",
       "      <td>147</td>\n",
       "      <td>147</td>\n",
       "      <td>147</td>\n",
       "      <td>147</td>\n",
       "      <td>147</td>\n",
       "      <td>147</td>\n",
       "      <td>147</td>\n",
       "      <td>44</td>\n",
       "      <td>ЗАО</td>\n",
       "      <td>Район Проспект Вернадского</td>\n",
       "    </tr>\n",
       "    <tr>\n",
       "      <td>27</td>\n",
       "      <td>ленинский проспект</td>\n",
       "      <td>147</td>\n",
       "      <td>147</td>\n",
       "      <td>147</td>\n",
       "      <td>147</td>\n",
       "      <td>147</td>\n",
       "      <td>147</td>\n",
       "      <td>147</td>\n",
       "      <td>47</td>\n",
       "      <td>ЗАО</td>\n",
       "      <td>Район Тропарево-Никулино</td>\n",
       "    </tr>\n",
       "    <tr>\n",
       "      <td>28</td>\n",
       "      <td>ленинский проспект</td>\n",
       "      <td>147</td>\n",
       "      <td>147</td>\n",
       "      <td>147</td>\n",
       "      <td>147</td>\n",
       "      <td>147</td>\n",
       "      <td>147</td>\n",
       "      <td>147</td>\n",
       "      <td>99</td>\n",
       "      <td>ЮАО</td>\n",
       "      <td>Донской район</td>\n",
       "    </tr>\n",
       "    <tr>\n",
       "      <td>29</td>\n",
       "      <td>ленинский проспект</td>\n",
       "      <td>147</td>\n",
       "      <td>147</td>\n",
       "      <td>147</td>\n",
       "      <td>147</td>\n",
       "      <td>147</td>\n",
       "      <td>147</td>\n",
       "      <td>147</td>\n",
       "      <td>124</td>\n",
       "      <td>ЮЗАО</td>\n",
       "      <td>Район Гагаринский</td>\n",
       "    </tr>\n",
       "    <tr>\n",
       "      <td>30</td>\n",
       "      <td>ленинский проспект</td>\n",
       "      <td>147</td>\n",
       "      <td>147</td>\n",
       "      <td>147</td>\n",
       "      <td>147</td>\n",
       "      <td>147</td>\n",
       "      <td>147</td>\n",
       "      <td>147</td>\n",
       "      <td>128</td>\n",
       "      <td>ЮЗАО</td>\n",
       "      <td>Ломоносовский район</td>\n",
       "    </tr>\n",
       "    <tr>\n",
       "      <td>31</td>\n",
       "      <td>ленинский проспект</td>\n",
       "      <td>147</td>\n",
       "      <td>147</td>\n",
       "      <td>147</td>\n",
       "      <td>147</td>\n",
       "      <td>147</td>\n",
       "      <td>147</td>\n",
       "      <td>147</td>\n",
       "      <td>129</td>\n",
       "      <td>ЮЗАО</td>\n",
       "      <td>Обручевский район</td>\n",
       "    </tr>\n",
       "    <tr>\n",
       "      <td>32</td>\n",
       "      <td>ленинский проспект</td>\n",
       "      <td>147</td>\n",
       "      <td>147</td>\n",
       "      <td>147</td>\n",
       "      <td>147</td>\n",
       "      <td>147</td>\n",
       "      <td>147</td>\n",
       "      <td>147</td>\n",
       "      <td>131</td>\n",
       "      <td>ЮЗАО</td>\n",
       "      <td>Район Теплый Стан</td>\n",
       "    </tr>\n",
       "    <tr>\n",
       "      <td>33</td>\n",
       "      <td>ленинский проспект</td>\n",
       "      <td>147</td>\n",
       "      <td>147</td>\n",
       "      <td>147</td>\n",
       "      <td>147</td>\n",
       "      <td>147</td>\n",
       "      <td>147</td>\n",
       "      <td>147</td>\n",
       "      <td>21</td>\n",
       "      <td>ЦАО</td>\n",
       "      <td>Район Якиманка</td>\n",
       "    </tr>\n",
       "    <tr>\n",
       "      <td>34</td>\n",
       "      <td>проспект вернадского</td>\n",
       "      <td>132</td>\n",
       "      <td>132</td>\n",
       "      <td>132</td>\n",
       "      <td>132</td>\n",
       "      <td>132</td>\n",
       "      <td>132</td>\n",
       "      <td>132</td>\n",
       "      <td>44</td>\n",
       "      <td>ЗАО</td>\n",
       "      <td>Район Проспект Вернадского</td>\n",
       "    </tr>\n",
       "    <tr>\n",
       "      <td>35</td>\n",
       "      <td>проспект вернадского</td>\n",
       "      <td>132</td>\n",
       "      <td>132</td>\n",
       "      <td>132</td>\n",
       "      <td>132</td>\n",
       "      <td>132</td>\n",
       "      <td>132</td>\n",
       "      <td>132</td>\n",
       "      <td>45</td>\n",
       "      <td>ЗАО</td>\n",
       "      <td>Район Раменки</td>\n",
       "    </tr>\n",
       "    <tr>\n",
       "      <td>36</td>\n",
       "      <td>проспект вернадского</td>\n",
       "      <td>132</td>\n",
       "      <td>132</td>\n",
       "      <td>132</td>\n",
       "      <td>132</td>\n",
       "      <td>132</td>\n",
       "      <td>132</td>\n",
       "      <td>132</td>\n",
       "      <td>47</td>\n",
       "      <td>ЗАО</td>\n",
       "      <td>Район Тропарево-Никулино</td>\n",
       "    </tr>\n",
       "    <tr>\n",
       "      <td>37</td>\n",
       "      <td>проспект вернадского</td>\n",
       "      <td>132</td>\n",
       "      <td>132</td>\n",
       "      <td>132</td>\n",
       "      <td>132</td>\n",
       "      <td>132</td>\n",
       "      <td>132</td>\n",
       "      <td>132</td>\n",
       "      <td>124</td>\n",
       "      <td>ЮЗАО</td>\n",
       "      <td>Район Гагаринский</td>\n",
       "    </tr>\n",
       "    <tr>\n",
       "      <td>38</td>\n",
       "      <td>проспект вернадского</td>\n",
       "      <td>132</td>\n",
       "      <td>132</td>\n",
       "      <td>132</td>\n",
       "      <td>132</td>\n",
       "      <td>132</td>\n",
       "      <td>132</td>\n",
       "      <td>132</td>\n",
       "      <td>128</td>\n",
       "      <td>ЮЗАО</td>\n",
       "      <td>Ломоносовский район</td>\n",
       "    </tr>\n",
       "    <tr>\n",
       "      <td>39</td>\n",
       "      <td>кутузовский проспект</td>\n",
       "      <td>114</td>\n",
       "      <td>114</td>\n",
       "      <td>114</td>\n",
       "      <td>114</td>\n",
       "      <td>114</td>\n",
       "      <td>114</td>\n",
       "      <td>114</td>\n",
       "      <td>38</td>\n",
       "      <td>ЗАО</td>\n",
       "      <td>Район Дорогомилово</td>\n",
       "    </tr>\n",
       "    <tr>\n",
       "      <td>40</td>\n",
       "      <td>кутузовский проспект</td>\n",
       "      <td>114</td>\n",
       "      <td>114</td>\n",
       "      <td>114</td>\n",
       "      <td>114</td>\n",
       "      <td>114</td>\n",
       "      <td>114</td>\n",
       "      <td>114</td>\n",
       "      <td>49</td>\n",
       "      <td>ЗАО</td>\n",
       "      <td>Район Фили-Давыдково</td>\n",
       "    </tr>\n",
       "    <tr>\n",
       "      <td>41</td>\n",
       "      <td>каширское шоссе</td>\n",
       "      <td>112</td>\n",
       "      <td>112</td>\n",
       "      <td>112</td>\n",
       "      <td>112</td>\n",
       "      <td>112</td>\n",
       "      <td>112</td>\n",
       "      <td>112</td>\n",
       "      <td>101</td>\n",
       "      <td>ЮАО</td>\n",
       "      <td>Район Москворечье-Сабурово</td>\n",
       "    </tr>\n",
       "    <tr>\n",
       "      <td>42</td>\n",
       "      <td>каширское шоссе</td>\n",
       "      <td>112</td>\n",
       "      <td>112</td>\n",
       "      <td>112</td>\n",
       "      <td>112</td>\n",
       "      <td>112</td>\n",
       "      <td>112</td>\n",
       "      <td>112</td>\n",
       "      <td>102</td>\n",
       "      <td>ЮАО</td>\n",
       "      <td>Район Нагатино-Садовники</td>\n",
       "    </tr>\n",
       "    <tr>\n",
       "      <td>43</td>\n",
       "      <td>каширское шоссе</td>\n",
       "      <td>112</td>\n",
       "      <td>112</td>\n",
       "      <td>112</td>\n",
       "      <td>112</td>\n",
       "      <td>112</td>\n",
       "      <td>112</td>\n",
       "      <td>112</td>\n",
       "      <td>106</td>\n",
       "      <td>ЮАО</td>\n",
       "      <td>Район Орехово-Борисово Южное</td>\n",
       "    </tr>\n",
       "    <tr>\n",
       "      <td>44</td>\n",
       "      <td>каширское шоссе</td>\n",
       "      <td>112</td>\n",
       "      <td>112</td>\n",
       "      <td>112</td>\n",
       "      <td>112</td>\n",
       "      <td>112</td>\n",
       "      <td>112</td>\n",
       "      <td>112</td>\n",
       "      <td>105</td>\n",
       "      <td>ЮАО</td>\n",
       "      <td>Район Орехово-Борисово Северное</td>\n",
       "    </tr>\n",
       "    <tr>\n",
       "      <td>45</td>\n",
       "      <td>кировоградская улица</td>\n",
       "      <td>110</td>\n",
       "      <td>110</td>\n",
       "      <td>110</td>\n",
       "      <td>110</td>\n",
       "      <td>110</td>\n",
       "      <td>110</td>\n",
       "      <td>110</td>\n",
       "      <td>109</td>\n",
       "      <td>ЮАО</td>\n",
       "      <td>Район Чертаново Центральное</td>\n",
       "    </tr>\n",
       "    <tr>\n",
       "      <td>46</td>\n",
       "      <td>кировоградская улица</td>\n",
       "      <td>110</td>\n",
       "      <td>110</td>\n",
       "      <td>110</td>\n",
       "      <td>110</td>\n",
       "      <td>110</td>\n",
       "      <td>110</td>\n",
       "      <td>110</td>\n",
       "      <td>108</td>\n",
       "      <td>ЮАО</td>\n",
       "      <td>Район Чертаново Северное</td>\n",
       "    </tr>\n",
       "    <tr>\n",
       "      <td>47</td>\n",
       "      <td>кировоградская улица</td>\n",
       "      <td>110</td>\n",
       "      <td>110</td>\n",
       "      <td>110</td>\n",
       "      <td>110</td>\n",
       "      <td>110</td>\n",
       "      <td>110</td>\n",
       "      <td>110</td>\n",
       "      <td>110</td>\n",
       "      <td>ЮАО</td>\n",
       "      <td>Район Чертаново Южное</td>\n",
       "    </tr>\n",
       "  </tbody>\n",
       "</table>\n",
       "</div>"
      ],
      "text/plain": [
       "                streetname   id  object_name  chain  object_type  address  \\\n",
       "0            проспект мира  204          204    204          204      204   \n",
       "1            проспект мира  204          204    204          204      204   \n",
       "2            проспект мира  204          204    204          204      204   \n",
       "3            проспект мира  204          204    204          204      204   \n",
       "4            проспект мира  204          204    204          204      204   \n",
       "5            проспект мира  204          204    204          204      204   \n",
       "6            проспект мира  204          204    204          204      204   \n",
       "7        профсоюзная улица  182          182    182          182      182   \n",
       "8        профсоюзная улица  182          182    182          182      182   \n",
       "9        профсоюзная улица  182          182    182          182      182   \n",
       "10       профсоюзная улица  182          182    182          182      182   \n",
       "11       профсоюзная улица  182          182    182          182      182   \n",
       "12       профсоюзная улица  182          182    182          182      182   \n",
       "13  ленинградский проспект  171          171    171          171      171   \n",
       "14  ленинградский проспект  171          171    171          171      171   \n",
       "15  ленинградский проспект  171          171    171          171      171   \n",
       "16  ленинградский проспект  171          171    171          171      171   \n",
       "17  пресненская набережная  167          167    167          167      167   \n",
       "18        варшавское шоссе  164          164    164          164      164   \n",
       "19        варшавское шоссе  164          164    164          164      164   \n",
       "20        варшавское шоссе  164          164    164          164      164   \n",
       "21        варшавское шоссе  164          164    164          164      164   \n",
       "22        варшавское шоссе  164          164    164          164      164   \n",
       "23        варшавское шоссе  164          164    164          164      164   \n",
       "24        варшавское шоссе  164          164    164          164      164   \n",
       "25        варшавское шоссе  164          164    164          164      164   \n",
       "26      ленинский проспект  147          147    147          147      147   \n",
       "27      ленинский проспект  147          147    147          147      147   \n",
       "28      ленинский проспект  147          147    147          147      147   \n",
       "29      ленинский проспект  147          147    147          147      147   \n",
       "30      ленинский проспект  147          147    147          147      147   \n",
       "31      ленинский проспект  147          147    147          147      147   \n",
       "32      ленинский проспект  147          147    147          147      147   \n",
       "33      ленинский проспект  147          147    147          147      147   \n",
       "34    проспект вернадского  132          132    132          132      132   \n",
       "35    проспект вернадского  132          132    132          132      132   \n",
       "36    проспект вернадского  132          132    132          132      132   \n",
       "37    проспект вернадского  132          132    132          132      132   \n",
       "38    проспект вернадского  132          132    132          132      132   \n",
       "39    кутузовский проспект  114          114    114          114      114   \n",
       "40    кутузовский проспект  114          114    114          114      114   \n",
       "41         каширское шоссе  112          112    112          112      112   \n",
       "42         каширское шоссе  112          112    112          112      112   \n",
       "43         каширское шоссе  112          112    112          112      112   \n",
       "44         каширское шоссе  112          112    112          112      112   \n",
       "45    кировоградская улица  110          110    110          110      110   \n",
       "46    кировоградская улица  110          110    110          110      110   \n",
       "47    кировоградская улица  110          110    110          110      110   \n",
       "\n",
       "    number  number_of_object  areaid okrug                             area  \n",
       "0      204               204      70  СВАО               Алексеевский район  \n",
       "1      204               204      86  СВАО                Ярославский Район  \n",
       "2      204               204      78  СВАО               Район Марьина роща  \n",
       "3      204               204      79  СВАО               Останкинский район  \n",
       "4      204               204      81  СВАО                  Район Ростокино  \n",
       "5      204               204      82  СВАО                   Район Свиблово  \n",
       "6      204               204      16   ЦАО                  Мещанский район  \n",
       "7      182               182     123  ЮЗАО              Академический район  \n",
       "8      182               182     132  ЮЗАО                  Район Черемушки  \n",
       "9      182               182     134  ЮЗАО                    Район Ясенево  \n",
       "10     182               182     126  ЮЗАО                   Район Коньково  \n",
       "11     182               182     129  ЮЗАО                Обручевский район  \n",
       "12     182               182     131  ЮЗАО                Район Теплый Стан  \n",
       "13     171               171      54   САО                   Район Аэропорт  \n",
       "14     171               171      55   САО                    Район Беговой  \n",
       "15     171               171      69   САО                Хорошевский район  \n",
       "16     171               171      66   САО                      Район Сокол  \n",
       "17     167               167      17   ЦАО                Пресненский район  \n",
       "18     164               164     109   ЮАО      Район Чертаново Центральное  \n",
       "19     164               164     108   ЮАО         Район Чертаново Северное  \n",
       "20     164               164     110   ЮАО            Район Чертаново Южное  \n",
       "21     164               164      99   ЮАО                    Донской район  \n",
       "22     164               164     102   ЮАО         Район Нагатино-Садовники  \n",
       "23     164               164     104   ЮАО                   Нагорный район  \n",
       "24     164               164     130  ЮЗАО            Район Северное Бутово  \n",
       "25     164               164     133  ЮЗАО               Район Южное Бутово  \n",
       "26     147               147      44   ЗАО       Район Проспект Вернадского  \n",
       "27     147               147      47   ЗАО         Район Тропарево-Никулино  \n",
       "28     147               147      99   ЮАО                    Донской район  \n",
       "29     147               147     124  ЮЗАО                Район Гагаринский  \n",
       "30     147               147     128  ЮЗАО              Ломоносовский район  \n",
       "31     147               147     129  ЮЗАО                Обручевский район  \n",
       "32     147               147     131  ЮЗАО                Район Теплый Стан  \n",
       "33     147               147      21   ЦАО                   Район Якиманка  \n",
       "34     132               132      44   ЗАО       Район Проспект Вернадского  \n",
       "35     132               132      45   ЗАО                    Район Раменки  \n",
       "36     132               132      47   ЗАО         Район Тропарево-Никулино  \n",
       "37     132               132     124  ЮЗАО                Район Гагаринский  \n",
       "38     132               132     128  ЮЗАО              Ломоносовский район  \n",
       "39     114               114      38   ЗАО               Район Дорогомилово  \n",
       "40     114               114      49   ЗАО             Район Фили-Давыдково  \n",
       "41     112               112     101   ЮАО       Район Москворечье-Сабурово  \n",
       "42     112               112     102   ЮАО         Район Нагатино-Садовники  \n",
       "43     112               112     106   ЮАО     Район Орехово-Борисово Южное  \n",
       "44     112               112     105   ЮАО  Район Орехово-Борисово Северное  \n",
       "45     110               110     109   ЮАО      Район Чертаново Центральное  \n",
       "46     110               110     108   ЮАО         Район Чертаново Северное  \n",
       "47     110               110     110   ЮАО            Район Чертаново Южное  "
      ]
     },
     "execution_count": 46,
     "metadata": {},
     "output_type": "execute_result"
    }
   ],
   "source": [
    "df3"
   ]
  },
  {
   "cell_type": "code",
   "execution_count": 47,
   "metadata": {},
   "outputs": [
    {
     "data": {
      "text/html": [
       "        <script type=\"text/javascript\">\n",
       "        window.PlotlyConfig = {MathJaxConfig: 'local'};\n",
       "        if (window.MathJax) {MathJax.Hub.Config({SVG: {font: \"STIX-Web\"}});}\n",
       "        if (typeof require !== 'undefined') {\n",
       "        require.undef(\"plotly\");\n",
       "        requirejs.config({\n",
       "            paths: {\n",
       "                'plotly': ['https://cdn.plot.ly/plotly-latest.min']\n",
       "            }\n",
       "        });\n",
       "        require(['plotly'], function(Plotly) {\n",
       "            window._Plotly = Plotly;\n",
       "        });\n",
       "        }\n",
       "        </script>\n",
       "        "
      ]
     },
     "metadata": {},
     "output_type": "display_data"
    }
   ],
   "source": [
    "init_notebook_mode(connected=True)\n",
    "pd.set_option('display.max_colwidth', -1)"
   ]
  },
  {
   "cell_type": "code",
   "execution_count": 48,
   "metadata": {},
   "outputs": [
    {
     "data": {
      "text/html": [
       "<div>\n",
       "<style scoped>\n",
       "    .dataframe tbody tr th:only-of-type {\n",
       "        vertical-align: middle;\n",
       "    }\n",
       "\n",
       "    .dataframe tbody tr th {\n",
       "        vertical-align: top;\n",
       "    }\n",
       "\n",
       "    .dataframe thead th {\n",
       "        text-align: right;\n",
       "    }\n",
       "</style>\n",
       "<table border=\"1\" class=\"dataframe\">\n",
       "  <thead>\n",
       "    <tr style=\"text-align: right;\">\n",
       "      <th></th>\n",
       "      <th>area</th>\n",
       "    </tr>\n",
       "    <tr>\n",
       "      <th>streetname</th>\n",
       "      <th></th>\n",
       "    </tr>\n",
       "  </thead>\n",
       "  <tbody>\n",
       "    <tr>\n",
       "      <td>варшавское шоссе</td>\n",
       "      <td>[Район Чертаново Центральное, Район Чертаново Северное, Район Чертаново Южное, Донской район, Район Нагатино-Садовники, Нагорный район, Район Северное Бутово, Район Южное Бутово]</td>\n",
       "    </tr>\n",
       "    <tr>\n",
       "      <td>каширское шоссе</td>\n",
       "      <td>[Район Москворечье-Сабурово, Район Нагатино-Садовники, Район Орехово-Борисово Южное, Район Орехово-Борисово Северное]</td>\n",
       "    </tr>\n",
       "    <tr>\n",
       "      <td>кировоградская улица</td>\n",
       "      <td>[Район Чертаново Центральное, Район Чертаново Северное, Район Чертаново Южное]</td>\n",
       "    </tr>\n",
       "    <tr>\n",
       "      <td>кутузовский проспект</td>\n",
       "      <td>[Район Дорогомилово, Район Фили-Давыдково]</td>\n",
       "    </tr>\n",
       "    <tr>\n",
       "      <td>ленинградский проспект</td>\n",
       "      <td>[Район Аэропорт, Район Беговой, Хорошевский район, Район Сокол]</td>\n",
       "    </tr>\n",
       "    <tr>\n",
       "      <td>ленинский проспект</td>\n",
       "      <td>[Район Проспект Вернадского, Район Тропарево-Никулино, Донской район, Район Гагаринский, Ломоносовский район, Обручевский район, Район Теплый Стан, Район Якиманка]</td>\n",
       "    </tr>\n",
       "    <tr>\n",
       "      <td>пресненская набережная</td>\n",
       "      <td>[Пресненский район]</td>\n",
       "    </tr>\n",
       "    <tr>\n",
       "      <td>проспект вернадского</td>\n",
       "      <td>[Район Проспект Вернадского, Район Раменки, Район Тропарево-Никулино, Район Гагаринский, Ломоносовский район]</td>\n",
       "    </tr>\n",
       "    <tr>\n",
       "      <td>проспект мира</td>\n",
       "      <td>[Алексеевский район, Ярославский Район, Район Марьина роща, Останкинский район, Район Ростокино, Район Свиблово, Мещанский район]</td>\n",
       "    </tr>\n",
       "    <tr>\n",
       "      <td>профсоюзная улица</td>\n",
       "      <td>[Академический район, Район Черемушки, Район Ясенево, Район Коньково, Обручевский район, Район Теплый Стан]</td>\n",
       "    </tr>\n",
       "  </tbody>\n",
       "</table>\n",
       "</div>"
      ],
      "text/plain": [
       "                                                                                                                                                                                                      area\n",
       "streetname                                                                                                                                                                                                \n",
       "варшавское шоссе        [Район Чертаново Центральное, Район Чертаново Северное, Район Чертаново Южное, Донской район, Район Нагатино-Садовники, Нагорный район, Район Северное Бутово, Район Южное Бутово]\n",
       "каширское шоссе         [Район Москворечье-Сабурово, Район Нагатино-Садовники, Район Орехово-Борисово Южное, Район Орехово-Борисово Северное]                                                             \n",
       "кировоградская улица    [Район Чертаново Центральное, Район Чертаново Северное, Район Чертаново Южное]                                                                                                    \n",
       "кутузовский проспект    [Район Дорогомилово, Район Фили-Давыдково]                                                                                                                                        \n",
       "ленинградский проспект  [Район Аэропорт, Район Беговой, Хорошевский район, Район Сокол]                                                                                                                   \n",
       "ленинский проспект      [Район Проспект Вернадского, Район Тропарево-Никулино, Донской район, Район Гагаринский, Ломоносовский район, Обручевский район, Район Теплый Стан, Район Якиманка]               \n",
       "пресненская набережная  [Пресненский район]                                                                                                                                                               \n",
       "проспект вернадского    [Район Проспект Вернадского, Район Раменки, Район Тропарево-Никулино, Район Гагаринский, Ломоносовский район]                                                                     \n",
       "проспект мира           [Алексеевский район, Ярославский Район, Район Марьина роща, Останкинский район, Район Ростокино, Район Свиблово, Мещанский район]                                                 \n",
       "профсоюзная улица       [Академический район, Район Черемушки, Район Ясенево, Район Коньково, Обручевский район, Район Теплый Стан]                                                                       "
      ]
     },
     "execution_count": 48,
     "metadata": {},
     "output_type": "execute_result"
    }
   ],
   "source": [
    "df3.groupby('streetname').agg({'area': 'unique'})"
   ]
  },
  {
   "cell_type": "markdown",
   "metadata": {},
   "source": [
    "### Найти число улиц с одним объектом общественного питания. Воспользоваться внешней информацией и ответьте на вопрос — в каких районах Москвы находятся эти улицы?"
   ]
  },
  {
   "cell_type": "markdown",
   "metadata": {},
   "source": [
    "Найдем где заведений не более 1"
   ]
  },
  {
   "cell_type": "code",
   "execution_count": 49,
   "metadata": {},
   "outputs": [],
   "source": [
    "df_count1=df.groupby('streetname').count()\n",
    "len(df_count1.query('id == 1'))\n",
    "df_count1=df_count1.query('id == 1').reset_index()"
   ]
  },
  {
   "cell_type": "code",
   "execution_count": 50,
   "metadata": {},
   "outputs": [
    {
     "data": {
      "text/html": [
       "<div>\n",
       "<style scoped>\n",
       "    .dataframe tbody tr th:only-of-type {\n",
       "        vertical-align: middle;\n",
       "    }\n",
       "\n",
       "    .dataframe tbody tr th {\n",
       "        vertical-align: top;\n",
       "    }\n",
       "\n",
       "    .dataframe thead th {\n",
       "        text-align: right;\n",
       "    }\n",
       "</style>\n",
       "<table border=\"1\" class=\"dataframe\">\n",
       "  <thead>\n",
       "    <tr style=\"text-align: right;\">\n",
       "      <th></th>\n",
       "      <th>id</th>\n",
       "      <th>object_name</th>\n",
       "      <th>chain</th>\n",
       "      <th>object_type</th>\n",
       "      <th>address</th>\n",
       "      <th>number</th>\n",
       "      <th>number_of_object</th>\n",
       "      <th>streetname</th>\n",
       "      <th>areaid</th>\n",
       "      <th>okrug</th>\n",
       "      <th>area</th>\n",
       "    </tr>\n",
       "  </thead>\n",
       "  <tbody>\n",
       "    <tr>\n",
       "      <td>161</td>\n",
       "      <td>153644</td>\n",
       "      <td>американская лаборатория десертов</td>\n",
       "      <td>нет</td>\n",
       "      <td>кафе</td>\n",
       "      <td>город москва, филипповский переулок, дом 15/5</td>\n",
       "      <td>20</td>\n",
       "      <td>1</td>\n",
       "      <td>филипповский переулок</td>\n",
       "      <td>12</td>\n",
       "      <td>ЦАО</td>\n",
       "      <td>Район Арбат</td>\n",
       "    </tr>\n",
       "    <tr>\n",
       "      <td>937</td>\n",
       "      <td>21214</td>\n",
       "      <td>столовая</td>\n",
       "      <td>нет</td>\n",
       "      <td>столовая</td>\n",
       "      <td>город москва, бабаевская улица, дом 3</td>\n",
       "      <td>90</td>\n",
       "      <td>1</td>\n",
       "      <td>бабаевская улица</td>\n",
       "      <td>26</td>\n",
       "      <td>ВАО</td>\n",
       "      <td>Район Сокольники</td>\n",
       "    </tr>\n",
       "    <tr>\n",
       "      <td>1030</td>\n",
       "      <td>22139</td>\n",
       "      <td>хуанхэ</td>\n",
       "      <td>нет</td>\n",
       "      <td>ресторан</td>\n",
       "      <td>город москва, 1-й балтийский переулок, дом 3/25</td>\n",
       "      <td>60</td>\n",
       "      <td>1</td>\n",
       "      <td>1-й балтийский переулок</td>\n",
       "      <td>54</td>\n",
       "      <td>САО</td>\n",
       "      <td>Район Аэропорт</td>\n",
       "    </tr>\n",
       "    <tr>\n",
       "      <td>1124</td>\n",
       "      <td>25833</td>\n",
       "      <td>азербайджан</td>\n",
       "      <td>нет</td>\n",
       "      <td>ресторан</td>\n",
       "      <td>город москва, улица демьяна бедного, дом 4</td>\n",
       "      <td>180</td>\n",
       "      <td>1</td>\n",
       "      <td>улица демьяна бедного</td>\n",
       "      <td>92</td>\n",
       "      <td>СЗАО</td>\n",
       "      <td>Район Хорошево-Мневники</td>\n",
       "    </tr>\n",
       "    <tr>\n",
       "      <td>1467</td>\n",
       "      <td>150881</td>\n",
       "      <td>вгик</td>\n",
       "      <td>нет</td>\n",
       "      <td>столовая</td>\n",
       "      <td>город москва, будайская улица, дом 3</td>\n",
       "      <td>45</td>\n",
       "      <td>1</td>\n",
       "      <td>будайская улица</td>\n",
       "      <td>81</td>\n",
       "      <td>СВАО</td>\n",
       "      <td>Район Ростокино</td>\n",
       "    </tr>\n",
       "    <tr>\n",
       "      <td>...</td>\n",
       "      <td>...</td>\n",
       "      <td>...</td>\n",
       "      <td>...</td>\n",
       "      <td>...</td>\n",
       "      <td>...</td>\n",
       "      <td>...</td>\n",
       "      <td>...</td>\n",
       "      <td>...</td>\n",
       "      <td>...</td>\n",
       "      <td>...</td>\n",
       "      <td>...</td>\n",
       "    </tr>\n",
       "    <tr>\n",
       "      <td>29253</td>\n",
       "      <td>213535</td>\n",
       "      <td>шаверма</td>\n",
       "      <td>нет</td>\n",
       "      <td>фастфуд</td>\n",
       "      <td>город москва, 1-й силикатный проезд, дом 13</td>\n",
       "      <td>0</td>\n",
       "      <td>1</td>\n",
       "      <td>1-й силикатный проезд</td>\n",
       "      <td>92</td>\n",
       "      <td>СЗАО</td>\n",
       "      <td>Район Хорошево-Мневники</td>\n",
       "    </tr>\n",
       "    <tr>\n",
       "      <td>29254</td>\n",
       "      <td>208805</td>\n",
       "      <td>кафе</td>\n",
       "      <td>нет</td>\n",
       "      <td>кафе</td>\n",
       "      <td>город москва, 3-й угрешский проезд, дом 8, строение 2</td>\n",
       "      <td>15</td>\n",
       "      <td>1</td>\n",
       "      <td>3-й угрешский проезд</td>\n",
       "      <td>118</td>\n",
       "      <td>ЮВАО</td>\n",
       "      <td>Район Печатники</td>\n",
       "    </tr>\n",
       "    <tr>\n",
       "      <td>29255</td>\n",
       "      <td>211368</td>\n",
       "      <td>пацио пицца</td>\n",
       "      <td>нет</td>\n",
       "      <td>кафе</td>\n",
       "      <td>город москва, улица линии октябрьской железной дороги, дом 2, строение 2</td>\n",
       "      <td>20</td>\n",
       "      <td>1</td>\n",
       "      <td>улица линии октябрьской железной дороги</td>\n",
       "      <td>67</td>\n",
       "      <td>САО</td>\n",
       "      <td>Тимирязевский Район</td>\n",
       "    </tr>\n",
       "    <tr>\n",
       "      <td>29260</td>\n",
       "      <td>214324</td>\n",
       "      <td>кадаши ( закрытый)</td>\n",
       "      <td>нет</td>\n",
       "      <td>ресторан</td>\n",
       "      <td>город москва, 2-й кадашёвский переулок, дом 16, строение 1</td>\n",
       "      <td>15</td>\n",
       "      <td>1</td>\n",
       "      <td>2-й кадашёвский переулок</td>\n",
       "      <td>21</td>\n",
       "      <td>ЦАО</td>\n",
       "      <td>Район Якиманка</td>\n",
       "    </tr>\n",
       "    <tr>\n",
       "      <td>29261</td>\n",
       "      <td>223171</td>\n",
       "      <td>кондитерская «пряник.рогалик»</td>\n",
       "      <td>нет</td>\n",
       "      <td>кафе</td>\n",
       "      <td>город москва, город троицк, пионерская улица, дом 2</td>\n",
       "      <td>20</td>\n",
       "      <td>1</td>\n",
       "      <td>пионерская улица</td>\n",
       "      <td>43</td>\n",
       "      <td>ЗАО</td>\n",
       "      <td>Район Внуково</td>\n",
       "    </tr>\n",
       "  </tbody>\n",
       "</table>\n",
       "<p>475 rows × 11 columns</p>\n",
       "</div>"
      ],
      "text/plain": [
       "           id                        object_name chain object_type  \\\n",
       "161    153644  американская лаборатория десертов  нет   кафе         \n",
       "937    21214   столовая                           нет   столовая     \n",
       "1030   22139   хуанхэ                             нет   ресторан     \n",
       "1124   25833   азербайджан                        нет   ресторан     \n",
       "1467   150881  вгик                               нет   столовая     \n",
       "...       ...   ...                               ...        ...     \n",
       "29253  213535  шаверма                            нет   фастфуд      \n",
       "29254  208805  кафе                               нет   кафе         \n",
       "29255  211368  пацио пицца                        нет   кафе         \n",
       "29260  214324  кадаши ( закрытый)                 нет   ресторан     \n",
       "29261  223171  кондитерская «пряник.рогалик»      нет   кафе         \n",
       "\n",
       "                                                                        address  \\\n",
       "161    город москва, филипповский переулок, дом 15/5                              \n",
       "937    город москва, бабаевская улица, дом 3                                      \n",
       "1030   город москва, 1-й балтийский переулок, дом 3/25                            \n",
       "1124   город москва, улица демьяна бедного, дом 4                                 \n",
       "1467   город москва, будайская улица, дом 3                                       \n",
       "...                                     ...                                       \n",
       "29253  город москва, 1-й силикатный проезд, дом 13                                \n",
       "29254  город москва, 3-й угрешский проезд, дом 8, строение 2                      \n",
       "29255  город москва, улица линии октябрьской железной дороги, дом 2, строение 2   \n",
       "29260  город москва, 2-й кадашёвский переулок, дом 16, строение 1                 \n",
       "29261  город москва, город троицк, пионерская улица, дом 2                        \n",
       "\n",
       "       number  number_of_object                               streetname  \\\n",
       "161    20      1                 филипповский переулок                     \n",
       "937    90      1                 бабаевская улица                          \n",
       "1030   60      1                 1-й балтийский переулок                   \n",
       "1124   180     1                 улица демьяна бедного                     \n",
       "1467   45      1                 будайская улица                           \n",
       "...    ..     ..                             ...                           \n",
       "29253  0       1                 1-й силикатный проезд                     \n",
       "29254  15      1                 3-й угрешский проезд                      \n",
       "29255  20      1                 улица линии октябрьской железной дороги   \n",
       "29260  15      1                 2-й кадашёвский переулок                  \n",
       "29261  20      1                 пионерская улица                          \n",
       "\n",
       "       areaid okrug                     area  \n",
       "161    12      ЦАО   Район Арбат              \n",
       "937    26      ВАО   Район Сокольники         \n",
       "1030   54      САО   Район Аэропорт           \n",
       "1124   92      СЗАО  Район Хорошево-Мневники  \n",
       "1467   81      СВАО  Район Ростокино          \n",
       "...    ..       ...              ...          \n",
       "29253  92      СЗАО  Район Хорошево-Мневники  \n",
       "29254  118     ЮВАО  Район Печатники          \n",
       "29255  67      САО   Тимирязевский Район      \n",
       "29260  21      ЦАО   Район Якиманка           \n",
       "29261  43      ЗАО   Район Внуково            \n",
       "\n",
       "[475 rows x 11 columns]"
      ]
     },
     "execution_count": 50,
     "metadata": {},
     "output_type": "execute_result"
    }
   ],
   "source": [
    "lostr=list(df_count1['streetname'])\n",
    "lostr=df[df['streetname'].isin(lostr)]\n",
    "lostr"
   ]
  },
  {
   "cell_type": "code",
   "execution_count": 51,
   "metadata": {},
   "outputs": [
    {
     "data": {
      "text/html": [
       "<div>\n",
       "<style scoped>\n",
       "    .dataframe tbody tr th:only-of-type {\n",
       "        vertical-align: middle;\n",
       "    }\n",
       "\n",
       "    .dataframe tbody tr th {\n",
       "        vertical-align: top;\n",
       "    }\n",
       "\n",
       "    .dataframe thead th {\n",
       "        text-align: right;\n",
       "    }\n",
       "</style>\n",
       "<table border=\"1\" class=\"dataframe\">\n",
       "  <thead>\n",
       "    <tr style=\"text-align: right;\">\n",
       "      <th></th>\n",
       "      <th>area</th>\n",
       "      <th>id</th>\n",
       "      <th>object_name</th>\n",
       "      <th>chain</th>\n",
       "      <th>object_type</th>\n",
       "      <th>address</th>\n",
       "      <th>number</th>\n",
       "      <th>number_of_object</th>\n",
       "      <th>streetname</th>\n",
       "      <th>areaid</th>\n",
       "      <th>okrug</th>\n",
       "    </tr>\n",
       "  </thead>\n",
       "  <tbody>\n",
       "    <tr>\n",
       "      <td>0</td>\n",
       "      <td>Район Лефортово</td>\n",
       "      <td>11</td>\n",
       "      <td>11</td>\n",
       "      <td>11</td>\n",
       "      <td>11</td>\n",
       "      <td>11</td>\n",
       "      <td>11</td>\n",
       "      <td>11</td>\n",
       "      <td>11</td>\n",
       "      <td>11</td>\n",
       "      <td>11</td>\n",
       "    </tr>\n",
       "    <tr>\n",
       "      <td>1</td>\n",
       "      <td>Район Сокольники</td>\n",
       "      <td>11</td>\n",
       "      <td>11</td>\n",
       "      <td>11</td>\n",
       "      <td>11</td>\n",
       "      <td>11</td>\n",
       "      <td>11</td>\n",
       "      <td>11</td>\n",
       "      <td>11</td>\n",
       "      <td>11</td>\n",
       "      <td>11</td>\n",
       "    </tr>\n",
       "    <tr>\n",
       "      <td>2</td>\n",
       "      <td>Район Замоскворечье</td>\n",
       "      <td>12</td>\n",
       "      <td>12</td>\n",
       "      <td>12</td>\n",
       "      <td>12</td>\n",
       "      <td>12</td>\n",
       "      <td>12</td>\n",
       "      <td>12</td>\n",
       "      <td>12</td>\n",
       "      <td>12</td>\n",
       "      <td>12</td>\n",
       "    </tr>\n",
       "    <tr>\n",
       "      <td>3</td>\n",
       "      <td>Мещанский район</td>\n",
       "      <td>14</td>\n",
       "      <td>14</td>\n",
       "      <td>14</td>\n",
       "      <td>14</td>\n",
       "      <td>14</td>\n",
       "      <td>14</td>\n",
       "      <td>14</td>\n",
       "      <td>14</td>\n",
       "      <td>14</td>\n",
       "      <td>14</td>\n",
       "    </tr>\n",
       "    <tr>\n",
       "      <td>4</td>\n",
       "      <td>Пресненский район</td>\n",
       "      <td>15</td>\n",
       "      <td>15</td>\n",
       "      <td>15</td>\n",
       "      <td>15</td>\n",
       "      <td>15</td>\n",
       "      <td>15</td>\n",
       "      <td>15</td>\n",
       "      <td>15</td>\n",
       "      <td>15</td>\n",
       "      <td>15</td>\n",
       "    </tr>\n",
       "    <tr>\n",
       "      <td>5</td>\n",
       "      <td>Район Марьина роща</td>\n",
       "      <td>16</td>\n",
       "      <td>16</td>\n",
       "      <td>16</td>\n",
       "      <td>16</td>\n",
       "      <td>16</td>\n",
       "      <td>16</td>\n",
       "      <td>16</td>\n",
       "      <td>16</td>\n",
       "      <td>16</td>\n",
       "      <td>16</td>\n",
       "    </tr>\n",
       "    <tr>\n",
       "      <td>6</td>\n",
       "      <td>Тверской район</td>\n",
       "      <td>19</td>\n",
       "      <td>19</td>\n",
       "      <td>19</td>\n",
       "      <td>19</td>\n",
       "      <td>19</td>\n",
       "      <td>19</td>\n",
       "      <td>19</td>\n",
       "      <td>19</td>\n",
       "      <td>19</td>\n",
       "      <td>19</td>\n",
       "    </tr>\n",
       "    <tr>\n",
       "      <td>7</td>\n",
       "      <td>Район Хамовники</td>\n",
       "      <td>22</td>\n",
       "      <td>22</td>\n",
       "      <td>22</td>\n",
       "      <td>22</td>\n",
       "      <td>22</td>\n",
       "      <td>22</td>\n",
       "      <td>22</td>\n",
       "      <td>22</td>\n",
       "      <td>22</td>\n",
       "      <td>22</td>\n",
       "    </tr>\n",
       "    <tr>\n",
       "      <td>8</td>\n",
       "      <td>Басманный район</td>\n",
       "      <td>23</td>\n",
       "      <td>23</td>\n",
       "      <td>23</td>\n",
       "      <td>23</td>\n",
       "      <td>23</td>\n",
       "      <td>23</td>\n",
       "      <td>23</td>\n",
       "      <td>23</td>\n",
       "      <td>23</td>\n",
       "      <td>23</td>\n",
       "    </tr>\n",
       "    <tr>\n",
       "      <td>9</td>\n",
       "      <td>Таганский район</td>\n",
       "      <td>25</td>\n",
       "      <td>25</td>\n",
       "      <td>25</td>\n",
       "      <td>25</td>\n",
       "      <td>25</td>\n",
       "      <td>25</td>\n",
       "      <td>25</td>\n",
       "      <td>25</td>\n",
       "      <td>25</td>\n",
       "      <td>25</td>\n",
       "    </tr>\n",
       "  </tbody>\n",
       "</table>\n",
       "</div>"
      ],
      "text/plain": [
       "                  area  id  object_name  chain  object_type  address  number  \\\n",
       "0  Район Лефортово      11  11           11     11           11       11       \n",
       "1  Район Сокольники     11  11           11     11           11       11       \n",
       "2  Район Замоскворечье  12  12           12     12           12       12       \n",
       "3  Мещанский район      14  14           14     14           14       14       \n",
       "4  Пресненский район    15  15           15     15           15       15       \n",
       "5  Район Марьина роща   16  16           16     16           16       16       \n",
       "6  Тверской район       19  19           19     19           19       19       \n",
       "7  Район Хамовники      22  22           22     22           22       22       \n",
       "8  Басманный район      23  23           23     23           23       23       \n",
       "9  Таганский район      25  25           25     25           25       25       \n",
       "\n",
       "   number_of_object  streetname  areaid  okrug  \n",
       "0  11                11          11      11     \n",
       "1  11                11          11      11     \n",
       "2  12                12          12      12     \n",
       "3  14                14          14      14     \n",
       "4  15                15          15      15     \n",
       "5  16                16          16      16     \n",
       "6  19                19          19      19     \n",
       "7  22                22          22      22     \n",
       "8  23                23          23      23     \n",
       "9  25                25          25      25     "
      ]
     },
     "execution_count": 51,
     "metadata": {},
     "output_type": "execute_result"
    }
   ],
   "source": [
    "lostr.groupby('area').count().sort_values('id').tail(10).reset_index()"
   ]
  },
  {
   "cell_type": "markdown",
   "metadata": {},
   "source": [
    "Вывод: большинство улиц с 1 заведением находится в Лефортово, Сокольники и Замоскворечье"
   ]
  },
  {
   "cell_type": "markdown",
   "metadata": {},
   "source": [
    "### Посмотреть на распределение количества посадочных мест для улиц с большим количеством объектов общественного питания. Какие закономерности можно выявить?"
   ]
  },
  {
   "cell_type": "markdown",
   "metadata": {},
   "source": [
    "Рассмотрим на графике колличество посадочных мест на насыщенных улицах"
   ]
  },
  {
   "cell_type": "code",
   "execution_count": 52,
   "metadata": {},
   "outputs": [
    {
     "data": {
      "image/png": "[encoded data removed]",
      "text/plain": [
       "<Figure size 432x288 with 1 Axes>"
      ]
     },
     "metadata": {
      "needs_background": "light"
     },
     "output_type": "display_data"
    }
   ],
   "source": [
    "streets_10=list(streets['streetname'])\n",
    "data_streets=df[df['streetname'].isin(streets_10)]\n",
    "ax=sns.boxplot(x=data_streets['number'])\n",
    "ax.set_xlim(-10, 200)\n",
    "ax.set_title('Среднее количество посадочных мест для улиц с большим количеством объектов')\n",
    "plt.show();"
   ]
  },
  {
   "cell_type": "code",
   "execution_count": 53,
   "metadata": {},
   "outputs": [
    {
     "data": {
      "image/png": "[encoded data removed]",
      "text/plain": [
       "<Figure size 432x288 with 1 Axes>"
      ]
     },
     "metadata": {
      "needs_background": "light"
     },
     "output_type": "display_data"
    }
   ],
   "source": [
    "ax=sns.boxplot(x=\"streetname\", y=\"number\", data=data_streets, orient='v')\n",
    "plt.xticks(rotation=90)\n",
    "ax.set_ylim(-10, 300)\n",
    "ax.set_title(' распределение количества посадочных мест для улиц с большим количеством объектов')\n",
    "plt.show;"
   ]
  },
  {
   "cell_type": "code",
   "execution_count": 54,
   "metadata": {},
   "outputs": [],
   "source": [
    "def make_box_by_category(value=None, street=None, data=None, sort=False, sort_by_column=None, title=None):\n",
    "\n",
    "    tmp = \\\n",
    "        data_streets\\\n",
    "        .groupby(street, as_index=False)\\\n",
    "        .agg({value:'median'})\\\n",
    "        .sort_values(by=sort_by_column, ascending=sort).reset_index()\n",
    "\n",
    "    plt.figure(figsize=(12,6))\n",
    "    sns.boxplot(x=street, y= value, data=data_streets, showfliers=False, order=tmp[street].to_list(), \n",
    "                showmeans=True, meanprops={\"marker\":\"s\",\"markerfacecolor\":\"white\", \"markeredgecolor\":\"blue\"})\n",
    "    plt.title(title)\n",
    "    plt.xticks(rotation=90)\n",
    "    plt.grid(True)\n",
    "    plt.show()"
   ]
  },
  {
   "cell_type": "code",
   "execution_count": 55,
   "metadata": {},
   "outputs": [
    {
     "data": {
      "image/png": "[encoded data removed]",
      "text/plain": [
       "<Figure size 864x432 with 1 Axes>"
      ]
     },
     "metadata": {
      "needs_background": "light"
     },
     "output_type": "display_data"
    }
   ],
   "source": [
    "make_box_by_category(value='number', street='streetname', data=data_streets, sort=False, sort_by_column='number', \\\n",
    "                     title='распределение количества посадочных мест для улиц с большим количеством объектов')"
   ]
  },
  {
   "cell_type": "markdown",
   "metadata": {},
   "source": [
    "Вывод: Места популярные-квадратные метры дорогие- посадочных мест мало\n",
    "\n",
    "Наличие большого количества посадочных мест не является показателем популярности места общественного питания. В популярных местах локации малое количество посадочных мест не свидетельтсвует о непроходимости заведения. Скопление заведений в популярных местах позволяет владельцам заведений без ущерба посещаемости оптимизировать посадочные места."
   ]
  },
  {
   "cell_type": "markdown",
   "metadata": {},
   "source": [
    "## Шаг. Подготовить презентацию."
   ]
  },
  {
   "cell_type": "markdown",
   "metadata": {},
   "source": [
    "Общий вывод : Для открытия заведения общественного питания очень важно придерживаться имеющихся высокорентабельных мест дислокации. Поэтому напрашивается рекомендация использовать ноу-хау в виде обслуживания роботами в уже сформировавшихся районах активности общепита. Учитывая,что популярность мест общепита не зависит от количества посадочных мест, то при выборе формата заведения стоит исключить массовые сферы в виде кафе и столовых. Остальные виды заведений представлены значительно меньшим количеством, что свидетельствует о превалирующем значении локации перед оригинальностью преподнесения услуги."
   ]
  },
  {
   "cell_type": "markdown",
   "metadata": {},
   "source": [
    "Презентация по ссылке : https://docs.google.com/presentation/d/1eBs9po1aTcA3nrAwkIULXDY5PSs5ShcW1jNpq5sQdDw/edit?pli=1#slide=id.p"
   ]
  }
 ],
 "metadata": {
  "ExecuteTimeLog": [
   {
    "duration": 2157,
    "start_time": "2021-09-06T09:05:04.965Z"
   },
   {
    "duration": 68,
    "start_time": "2021-09-06T09:05:27.864Z"
   },
   {
    "duration": 13,
    "start_time": "2021-09-06T09:05:42.254Z"
   },
   {
    "duration": 24,
    "start_time": "2021-09-06T09:05:53.757Z"
   },
   {
    "duration": 980,
    "start_time": "2021-09-06T09:08:30.877Z"
   },
   {
    "duration": 32,
    "start_time": "2021-09-06T09:08:50.281Z"
   },
   {
    "duration": 20,
    "start_time": "2021-09-06T09:08:58.525Z"
   },
   {
    "duration": 29,
    "start_time": "2021-09-06T09:10:34.374Z"
   },
   {
    "duration": 15,
    "start_time": "2021-09-06T09:11:53.768Z"
   },
   {
    "duration": 1042,
    "start_time": "2021-09-06T09:13:56.561Z"
   },
   {
    "duration": 18,
    "start_time": "2021-09-06T09:14:02.986Z"
   },
   {
    "duration": 27,
    "start_time": "2021-09-06T09:15:20.856Z"
   },
   {
    "duration": 19,
    "start_time": "2021-09-06T09:15:43.594Z"
   },
   {
    "duration": 13,
    "start_time": "2021-09-06T09:22:41.736Z"
   },
   {
    "duration": 326,
    "start_time": "2021-09-06T09:23:03.215Z"
   },
   {
    "duration": 14,
    "start_time": "2021-09-06T09:28:45.680Z"
   },
   {
    "duration": 9,
    "start_time": "2021-09-06T09:29:08.218Z"
   },
   {
    "duration": 113,
    "start_time": "2021-09-06T09:29:57.260Z"
   },
   {
    "duration": 1100,
    "start_time": "2021-09-06T09:36:49.745Z"
   },
   {
    "duration": 10,
    "start_time": "2021-09-06T09:36:56.434Z"
   },
   {
    "duration": 5,
    "start_time": "2021-09-06T09:37:11.326Z"
   },
   {
    "duration": 340,
    "start_time": "2021-09-06T09:37:24.150Z"
   },
   {
    "duration": 332,
    "start_time": "2021-09-06T09:39:55.551Z"
   },
   {
    "duration": 436,
    "start_time": "2021-09-06T09:40:22.586Z"
   },
   {
    "duration": 426,
    "start_time": "2021-09-06T09:40:30.156Z"
   },
   {
    "duration": 492,
    "start_time": "2021-09-06T09:40:54.947Z"
   },
   {
    "duration": 319,
    "start_time": "2021-09-06T09:41:12.229Z"
   },
   {
    "duration": 1124,
    "start_time": "2021-09-06T09:57:31.891Z"
   },
   {
    "duration": 341,
    "start_time": "2021-09-06T09:57:38.600Z"
   },
   {
    "duration": 858,
    "start_time": "2021-09-06T09:57:56.162Z"
   },
   {
    "duration": 1887,
    "start_time": "2021-09-06T09:58:03.954Z"
   },
   {
    "duration": 194,
    "start_time": "2021-09-06T09:58:14.549Z"
   },
   {
    "duration": 22,
    "start_time": "2021-09-06T10:01:49.964Z"
   },
   {
    "duration": 11,
    "start_time": "2021-09-06T10:01:54.258Z"
   },
   {
    "duration": 15,
    "start_time": "2021-09-06T10:02:08.161Z"
   },
   {
    "duration": 10,
    "start_time": "2021-09-06T10:02:15.489Z"
   },
   {
    "duration": 14,
    "start_time": "2021-09-06T10:02:25.327Z"
   },
   {
    "duration": 1022,
    "start_time": "2021-09-06T10:02:51.819Z"
   },
   {
    "duration": 1034,
    "start_time": "2021-09-06T10:03:12.192Z"
   },
   {
    "duration": 1021,
    "start_time": "2021-09-06T10:03:24.735Z"
   },
   {
    "duration": 124,
    "start_time": "2021-09-06T10:10:04.103Z"
   },
   {
    "duration": 229,
    "start_time": "2021-09-06T10:11:37.790Z"
   },
   {
    "duration": 121,
    "start_time": "2021-09-06T10:12:14.801Z"
   },
   {
    "duration": 919,
    "start_time": "2021-09-06T10:37:09.079Z"
   },
   {
    "duration": 26,
    "start_time": "2021-09-06T10:37:25.700Z"
   },
   {
    "duration": 15,
    "start_time": "2021-09-06T10:37:47.469Z"
   },
   {
    "duration": 1017,
    "start_time": "2021-09-06T10:38:24.156Z"
   },
   {
    "duration": 332,
    "start_time": "2021-09-06T10:38:32.580Z"
   },
   {
    "duration": 334,
    "start_time": "2021-09-06T10:40:26.377Z"
   },
   {
    "duration": 348,
    "start_time": "2021-09-06T10:41:36.167Z"
   },
   {
    "duration": 144,
    "start_time": "2021-09-06T10:42:35.906Z"
   },
   {
    "duration": 131,
    "start_time": "2021-09-06T10:42:57.943Z"
   },
   {
    "duration": 28,
    "start_time": "2021-09-06T10:43:04.823Z"
   },
   {
    "duration": 15,
    "start_time": "2021-09-06T10:43:06.345Z"
   },
   {
    "duration": 323,
    "start_time": "2021-09-06T10:43:09.074Z"
   },
   {
    "duration": 361,
    "start_time": "2021-09-06T10:43:17.909Z"
   },
   {
    "duration": 428,
    "start_time": "2021-09-06T10:43:23.809Z"
   },
   {
    "duration": 462,
    "start_time": "2021-09-06T10:44:51.510Z"
   },
   {
    "duration": 443,
    "start_time": "2021-09-06T12:11:34.353Z"
   },
   {
    "duration": 2757,
    "start_time": "2021-09-06T12:11:44.045Z"
   },
   {
    "duration": 70,
    "start_time": "2021-09-06T12:11:46.804Z"
   },
   {
    "duration": 14,
    "start_time": "2021-09-06T12:11:46.878Z"
   },
   {
    "duration": 38,
    "start_time": "2021-09-06T12:11:46.895Z"
   },
   {
    "duration": 38,
    "start_time": "2021-09-06T12:11:46.935Z"
   },
   {
    "duration": 51,
    "start_time": "2021-09-06T12:11:46.976Z"
   },
   {
    "duration": 18,
    "start_time": "2021-09-06T12:11:47.030Z"
   },
   {
    "duration": 20,
    "start_time": "2021-09-06T12:11:47.051Z"
   },
   {
    "duration": 70,
    "start_time": "2021-09-06T12:11:47.077Z"
   },
   {
    "duration": 19,
    "start_time": "2021-09-06T12:11:47.150Z"
   },
   {
    "duration": 20,
    "start_time": "2021-09-06T12:11:47.171Z"
   },
   {
    "duration": 422,
    "start_time": "2021-09-06T12:11:47.194Z"
   },
   {
    "duration": 14,
    "start_time": "2021-09-06T12:11:47.619Z"
   },
   {
    "duration": 9,
    "start_time": "2021-09-06T12:11:47.636Z"
   },
   {
    "duration": 144,
    "start_time": "2021-09-06T12:11:47.648Z"
   },
   {
    "duration": 33,
    "start_time": "2021-09-06T12:11:47.795Z"
   },
   {
    "duration": 5,
    "start_time": "2021-09-06T12:11:47.830Z"
   },
   {
    "duration": 555,
    "start_time": "2021-09-06T12:11:47.838Z"
   },
   {
    "duration": 365,
    "start_time": "2021-09-06T12:11:48.396Z"
   },
   {
    "duration": 342,
    "start_time": "2021-09-06T12:11:48.763Z"
   },
   {
    "duration": 29,
    "start_time": "2021-09-06T12:11:49.107Z"
   },
   {
    "duration": 14,
    "start_time": "2021-09-06T12:11:49.138Z"
   },
   {
    "duration": 1314,
    "start_time": "2021-09-06T12:11:49.155Z"
   },
   {
    "duration": 194,
    "start_time": "2021-09-06T12:11:50.473Z"
   },
   {
    "duration": 25,
    "start_time": "2021-09-06T12:11:50.669Z"
   },
   {
    "duration": 35,
    "start_time": "2021-09-06T12:11:50.696Z"
   },
   {
    "duration": 366,
    "start_time": "2021-09-06T12:11:50.737Z"
   },
   {
    "duration": 323,
    "start_time": "2021-09-06T12:11:51.106Z"
   },
   {
    "duration": 177,
    "start_time": "2021-09-06T12:13:39.333Z"
   },
   {
    "duration": 432,
    "start_time": "2021-09-06T12:18:10.612Z"
   },
   {
    "duration": 2357,
    "start_time": "2021-09-06T12:19:16.514Z"
   },
   {
    "duration": 1833,
    "start_time": "2021-09-06T12:19:35.198Z"
   },
   {
    "duration": 796,
    "start_time": "2021-09-06T12:19:57.238Z"
   },
   {
    "duration": 15,
    "start_time": "2021-09-06T12:20:24.314Z"
   },
   {
    "duration": 37606,
    "start_time": "2021-09-06T12:20:30.217Z"
   },
   {
    "duration": 2538,
    "start_time": "2021-09-06T12:21:29.728Z"
   },
   {
    "duration": 67,
    "start_time": "2021-09-06T12:21:32.269Z"
   },
   {
    "duration": 12,
    "start_time": "2021-09-06T12:21:32.339Z"
   },
   {
    "duration": 27,
    "start_time": "2021-09-06T12:21:32.353Z"
   },
   {
    "duration": 62,
    "start_time": "2021-09-06T12:21:32.383Z"
   },
   {
    "duration": 35,
    "start_time": "2021-09-06T12:21:32.448Z"
   },
   {
    "duration": 33,
    "start_time": "2021-09-06T12:21:32.485Z"
   },
   {
    "duration": 19,
    "start_time": "2021-09-06T12:21:32.520Z"
   },
   {
    "duration": 30,
    "start_time": "2021-09-06T12:21:32.543Z"
   },
   {
    "duration": 44,
    "start_time": "2021-09-06T12:21:32.577Z"
   },
   {
    "duration": 18,
    "start_time": "2021-09-06T12:21:32.623Z"
   },
   {
    "duration": 365,
    "start_time": "2021-09-06T12:21:32.643Z"
   },
   {
    "duration": 13,
    "start_time": "2021-09-06T12:21:33.011Z"
   },
   {
    "duration": 10,
    "start_time": "2021-09-06T12:21:33.026Z"
   },
   {
    "duration": 138,
    "start_time": "2021-09-06T12:21:33.038Z"
   },
   {
    "duration": 12,
    "start_time": "2021-09-06T12:21:33.178Z"
   },
   {
    "duration": 5,
    "start_time": "2021-09-06T12:21:33.193Z"
   },
   {
    "duration": 371,
    "start_time": "2021-09-06T12:21:33.217Z"
   },
   {
    "duration": 354,
    "start_time": "2021-09-06T12:21:33.591Z"
   },
   {
    "duration": 312,
    "start_time": "2021-09-06T12:21:33.947Z"
   },
   {
    "duration": 21,
    "start_time": "2021-09-06T12:21:34.262Z"
   },
   {
    "duration": 32,
    "start_time": "2021-09-06T12:21:34.286Z"
   },
   {
    "duration": 1047,
    "start_time": "2021-09-06T12:21:34.321Z"
   },
   {
    "duration": 172,
    "start_time": "2021-09-06T12:21:35.370Z"
   },
   {
    "duration": 26,
    "start_time": "2021-09-06T12:21:35.545Z"
   },
   {
    "duration": 13,
    "start_time": "2021-09-06T12:21:35.573Z"
   },
   {
    "duration": 356,
    "start_time": "2021-09-06T12:21:35.615Z"
   },
   {
    "duration": 741,
    "start_time": "2021-09-06T12:21:35.973Z"
   },
   {
    "duration": 29292,
    "start_time": "2021-09-06T12:21:36.716Z"
   },
   {
    "duration": 665,
    "start_time": "2021-09-06T12:22:09.782Z"
   },
   {
    "duration": 16,
    "start_time": "2021-09-06T12:22:21.341Z"
   },
   {
    "duration": 27360,
    "start_time": "2021-09-06T12:22:24.677Z"
   },
   {
    "duration": 756,
    "start_time": "2021-09-06T12:22:57.487Z"
   },
   {
    "duration": 17,
    "start_time": "2021-09-06T12:22:59.680Z"
   },
   {
    "duration": 9,
    "start_time": "2021-09-06T12:23:04.141Z"
   },
   {
    "duration": 854,
    "start_time": "2021-09-06T12:23:23.237Z"
   },
   {
    "duration": 15,
    "start_time": "2021-09-06T12:23:24.999Z"
   },
   {
    "duration": 893,
    "start_time": "2021-09-06T12:26:18.756Z"
   },
   {
    "duration": 18,
    "start_time": "2021-09-06T12:26:21.676Z"
   },
   {
    "duration": 8,
    "start_time": "2021-09-06T12:26:26.905Z"
   },
   {
    "duration": 2298,
    "start_time": "2021-09-06T12:26:35.315Z"
   },
   {
    "duration": 65,
    "start_time": "2021-09-06T12:26:37.616Z"
   },
   {
    "duration": 13,
    "start_time": "2021-09-06T12:26:37.684Z"
   },
   {
    "duration": 26,
    "start_time": "2021-09-06T12:26:37.700Z"
   },
   {
    "duration": 30,
    "start_time": "2021-09-06T12:26:37.729Z"
   },
   {
    "duration": 32,
    "start_time": "2021-09-06T12:26:37.762Z"
   },
   {
    "duration": 17,
    "start_time": "2021-09-06T12:26:37.817Z"
   },
   {
    "duration": 17,
    "start_time": "2021-09-06T12:26:37.836Z"
   },
   {
    "duration": 59,
    "start_time": "2021-09-06T12:26:37.857Z"
   },
   {
    "duration": 18,
    "start_time": "2021-09-06T12:26:37.920Z"
   },
   {
    "duration": 21,
    "start_time": "2021-09-06T12:26:37.940Z"
   },
   {
    "duration": 357,
    "start_time": "2021-09-06T12:26:37.963Z"
   },
   {
    "duration": 9,
    "start_time": "2021-09-06T12:26:38.323Z"
   },
   {
    "duration": 10,
    "start_time": "2021-09-06T12:26:38.334Z"
   },
   {
    "duration": 148,
    "start_time": "2021-09-06T12:26:38.346Z"
   },
   {
    "duration": 24,
    "start_time": "2021-09-06T12:26:38.496Z"
   },
   {
    "duration": 5,
    "start_time": "2021-09-06T12:26:38.522Z"
   },
   {
    "duration": 368,
    "start_time": "2021-09-06T12:26:38.529Z"
   },
   {
    "duration": 346,
    "start_time": "2021-09-06T12:26:38.900Z"
   },
   {
    "duration": 472,
    "start_time": "2021-09-06T12:26:39.249Z"
   },
   {
    "duration": 36,
    "start_time": "2021-09-06T12:26:39.724Z"
   },
   {
    "duration": 22,
    "start_time": "2021-09-06T12:26:39.763Z"
   },
   {
    "duration": 1994,
    "start_time": "2021-09-06T12:26:39.789Z"
   },
   {
    "duration": 139,
    "start_time": "2021-09-06T12:26:41.785Z"
   },
   {
    "duration": 23,
    "start_time": "2021-09-06T12:26:41.926Z"
   },
   {
    "duration": 13,
    "start_time": "2021-09-06T12:26:41.952Z"
   },
   {
    "duration": 463,
    "start_time": "2021-09-06T12:26:41.969Z"
   },
   {
    "duration": 858,
    "start_time": "2021-09-06T12:26:42.435Z"
   },
   {
    "duration": 18,
    "start_time": "2021-09-06T12:26:43.296Z"
   },
   {
    "duration": 12,
    "start_time": "2021-09-06T12:26:43.317Z"
   },
   {
    "duration": 16,
    "start_time": "2021-09-06T12:27:35.882Z"
   },
   {
    "duration": 19,
    "start_time": "2021-09-06T12:28:33.683Z"
   },
   {
    "duration": 12,
    "start_time": "2021-09-06T12:28:39.814Z"
   },
   {
    "duration": 12,
    "start_time": "2021-09-06T12:28:43.460Z"
   },
   {
    "duration": 17,
    "start_time": "2021-09-06T12:29:18.867Z"
   },
   {
    "duration": 9,
    "start_time": "2021-09-06T12:29:22.684Z"
   },
   {
    "duration": 13,
    "start_time": "2021-09-06T12:29:57.008Z"
   },
   {
    "duration": 26,
    "start_time": "2021-09-06T12:29:57.748Z"
   },
   {
    "duration": 23,
    "start_time": "2021-09-06T12:30:17.130Z"
   },
   {
    "duration": 9,
    "start_time": "2021-09-06T12:30:21.418Z"
   },
   {
    "duration": 16,
    "start_time": "2021-09-06T12:30:22.600Z"
   },
   {
    "duration": 25,
    "start_time": "2021-09-06T12:30:23.051Z"
   },
   {
    "duration": 17,
    "start_time": "2021-09-06T12:30:34.237Z"
   },
   {
    "duration": 9,
    "start_time": "2021-09-06T12:30:54.581Z"
   },
   {
    "duration": 24,
    "start_time": "2021-09-06T12:30:55.844Z"
   },
   {
    "duration": 25,
    "start_time": "2021-09-06T12:30:56.512Z"
   },
   {
    "duration": 26,
    "start_time": "2021-09-06T12:33:36.027Z"
   },
   {
    "duration": 25,
    "start_time": "2021-09-06T12:33:36.895Z"
   },
   {
    "duration": 27,
    "start_time": "2021-09-06T12:34:22.168Z"
   },
   {
    "duration": 27,
    "start_time": "2021-09-06T12:34:24.609Z"
   },
   {
    "duration": 17,
    "start_time": "2021-09-06T12:34:29.195Z"
   },
   {
    "duration": 20,
    "start_time": "2021-09-06T12:34:36.336Z"
   },
   {
    "duration": 2754,
    "start_time": "2021-09-06T12:34:52.549Z"
   },
   {
    "duration": 67,
    "start_time": "2021-09-06T12:34:55.305Z"
   },
   {
    "duration": 14,
    "start_time": "2021-09-06T12:34:55.375Z"
   },
   {
    "duration": 34,
    "start_time": "2021-09-06T12:34:55.392Z"
   },
   {
    "duration": 39,
    "start_time": "2021-09-06T12:34:55.428Z"
   },
   {
    "duration": 49,
    "start_time": "2021-09-06T12:34:55.469Z"
   },
   {
    "duration": 16,
    "start_time": "2021-09-06T12:34:55.521Z"
   },
   {
    "duration": 17,
    "start_time": "2021-09-06T12:34:55.541Z"
   },
   {
    "duration": 59,
    "start_time": "2021-09-06T12:34:55.562Z"
   },
   {
    "duration": 21,
    "start_time": "2021-09-06T12:34:55.625Z"
   },
   {
    "duration": 15,
    "start_time": "2021-09-06T12:34:55.650Z"
   },
   {
    "duration": 378,
    "start_time": "2021-09-06T12:34:55.668Z"
   },
   {
    "duration": 11,
    "start_time": "2021-09-06T12:34:56.050Z"
   },
   {
    "duration": 16,
    "start_time": "2021-09-06T12:34:56.064Z"
   },
   {
    "duration": 142,
    "start_time": "2021-09-06T12:34:56.083Z"
   },
   {
    "duration": 10,
    "start_time": "2021-09-06T12:34:56.227Z"
   },
   {
    "duration": 12,
    "start_time": "2021-09-06T12:34:56.239Z"
   },
   {
    "duration": 363,
    "start_time": "2021-09-06T12:34:56.253Z"
   },
   {
    "duration": 352,
    "start_time": "2021-09-06T12:34:56.618Z"
   },
   {
    "duration": 313,
    "start_time": "2021-09-06T12:34:56.972Z"
   },
   {
    "duration": 41,
    "start_time": "2021-09-06T12:34:57.288Z"
   },
   {
    "duration": 14,
    "start_time": "2021-09-06T12:34:57.332Z"
   },
   {
    "duration": 1154,
    "start_time": "2021-09-06T12:34:57.351Z"
   },
   {
    "duration": 128,
    "start_time": "2021-09-06T12:34:58.508Z"
   },
   {
    "duration": 23,
    "start_time": "2021-09-06T12:34:58.639Z"
   },
   {
    "duration": 20,
    "start_time": "2021-09-06T12:34:58.665Z"
   },
   {
    "duration": 367,
    "start_time": "2021-09-06T12:34:58.687Z"
   },
   {
    "duration": 1067,
    "start_time": "2021-09-06T12:34:59.057Z"
   },
   {
    "duration": 18,
    "start_time": "2021-09-06T12:35:00.126Z"
   },
   {
    "duration": 26,
    "start_time": "2021-09-06T12:35:00.146Z"
   },
   {
    "duration": 30,
    "start_time": "2021-09-06T12:35:00.175Z"
   },
   {
    "duration": 31,
    "start_time": "2021-09-06T12:35:00.207Z"
   },
   {
    "duration": 10,
    "start_time": "2021-09-06T12:35:36.462Z"
   },
   {
    "duration": 15,
    "start_time": "2021-09-06T12:35:44.105Z"
   },
   {
    "duration": 11,
    "start_time": "2021-09-06T12:35:55.937Z"
   },
   {
    "duration": 9,
    "start_time": "2021-09-06T12:36:02.912Z"
   },
   {
    "duration": 11,
    "start_time": "2021-09-06T12:36:48.216Z"
   },
   {
    "duration": 2386,
    "start_time": "2021-09-06T12:37:18.225Z"
   },
   {
    "duration": 65,
    "start_time": "2021-09-06T12:37:20.614Z"
   },
   {
    "duration": 13,
    "start_time": "2021-09-06T12:37:20.682Z"
   },
   {
    "duration": 31,
    "start_time": "2021-09-06T12:37:20.697Z"
   },
   {
    "duration": 39,
    "start_time": "2021-09-06T12:37:20.730Z"
   },
   {
    "duration": 47,
    "start_time": "2021-09-06T12:37:20.771Z"
   },
   {
    "duration": 16,
    "start_time": "2021-09-06T12:37:20.820Z"
   },
   {
    "duration": 26,
    "start_time": "2021-09-06T12:37:20.841Z"
   },
   {
    "duration": 54,
    "start_time": "2021-09-06T12:37:20.871Z"
   },
   {
    "duration": 27,
    "start_time": "2021-09-06T12:37:20.928Z"
   },
   {
    "duration": 14,
    "start_time": "2021-09-06T12:37:20.958Z"
   },
   {
    "duration": 355,
    "start_time": "2021-09-06T12:37:20.975Z"
   },
   {
    "duration": 10,
    "start_time": "2021-09-06T12:37:21.332Z"
   },
   {
    "duration": 11,
    "start_time": "2021-09-06T12:37:21.344Z"
   },
   {
    "duration": 142,
    "start_time": "2021-09-06T12:37:21.358Z"
   },
   {
    "duration": 14,
    "start_time": "2021-09-06T12:37:21.502Z"
   },
   {
    "duration": 9,
    "start_time": "2021-09-06T12:37:21.519Z"
   },
   {
    "duration": 473,
    "start_time": "2021-09-06T12:37:21.530Z"
   },
   {
    "duration": 340,
    "start_time": "2021-09-06T12:37:22.005Z"
   },
   {
    "duration": 306,
    "start_time": "2021-09-06T12:37:22.348Z"
   },
   {
    "duration": 22,
    "start_time": "2021-09-06T12:37:22.656Z"
   },
   {
    "duration": 14,
    "start_time": "2021-09-06T12:37:22.680Z"
   },
   {
    "duration": 1023,
    "start_time": "2021-09-06T12:37:22.720Z"
   },
   {
    "duration": 139,
    "start_time": "2021-09-06T12:37:23.746Z"
   },
   {
    "duration": 36,
    "start_time": "2021-09-06T12:37:23.887Z"
   },
   {
    "duration": 14,
    "start_time": "2021-09-06T12:37:23.926Z"
   },
   {
    "duration": 352,
    "start_time": "2021-09-06T12:37:23.943Z"
   },
   {
    "duration": 1043,
    "start_time": "2021-09-06T12:37:24.297Z"
   },
   {
    "duration": 21,
    "start_time": "2021-09-06T12:37:25.343Z"
   },
   {
    "duration": 11,
    "start_time": "2021-09-06T12:37:25.367Z"
   },
   {
    "duration": 23,
    "start_time": "2021-09-06T12:37:45.589Z"
   },
   {
    "duration": 16,
    "start_time": "2021-09-06T12:38:12.030Z"
   },
   {
    "duration": 11,
    "start_time": "2021-09-06T12:38:15.305Z"
   },
   {
    "duration": 11,
    "start_time": "2021-09-06T12:38:22.706Z"
   },
   {
    "duration": 10,
    "start_time": "2021-09-06T12:38:31.783Z"
   },
   {
    "duration": 2376,
    "start_time": "2021-09-06T12:38:54.811Z"
   },
   {
    "duration": 66,
    "start_time": "2021-09-06T12:38:57.189Z"
   },
   {
    "duration": 11,
    "start_time": "2021-09-06T12:38:57.258Z"
   },
   {
    "duration": 28,
    "start_time": "2021-09-06T12:38:57.272Z"
   },
   {
    "duration": 40,
    "start_time": "2021-09-06T12:38:57.303Z"
   },
   {
    "duration": 31,
    "start_time": "2021-09-06T12:38:57.346Z"
   },
   {
    "duration": 37,
    "start_time": "2021-09-06T12:38:57.379Z"
   },
   {
    "duration": 16,
    "start_time": "2021-09-06T12:38:57.420Z"
   },
   {
    "duration": 31,
    "start_time": "2021-09-06T12:38:57.440Z"
   },
   {
    "duration": 52,
    "start_time": "2021-09-06T12:38:57.474Z"
   },
   {
    "duration": 15,
    "start_time": "2021-09-06T12:38:57.529Z"
   },
   {
    "duration": 430,
    "start_time": "2021-09-06T12:38:57.547Z"
   },
   {
    "duration": 8,
    "start_time": "2021-09-06T12:38:57.980Z"
   },
   {
    "duration": 10,
    "start_time": "2021-09-06T12:38:57.990Z"
   },
   {
    "duration": 127,
    "start_time": "2021-09-06T12:38:58.017Z"
   },
   {
    "duration": 11,
    "start_time": "2021-09-06T12:38:58.146Z"
   },
   {
    "duration": 4,
    "start_time": "2021-09-06T12:38:58.160Z"
   },
   {
    "duration": 356,
    "start_time": "2021-09-06T12:38:58.167Z"
   },
   {
    "duration": 339,
    "start_time": "2021-09-06T12:38:58.526Z"
   },
   {
    "duration": 296,
    "start_time": "2021-09-06T12:38:58.868Z"
   },
   {
    "duration": 22,
    "start_time": "2021-09-06T12:38:59.166Z"
   },
   {
    "duration": 30,
    "start_time": "2021-09-06T12:38:59.191Z"
   },
   {
    "duration": 1061,
    "start_time": "2021-09-06T12:38:59.226Z"
   },
   {
    "duration": 137,
    "start_time": "2021-09-06T12:39:00.289Z"
   },
   {
    "duration": 24,
    "start_time": "2021-09-06T12:39:00.428Z"
   },
   {
    "duration": 13,
    "start_time": "2021-09-06T12:39:00.454Z"
   },
   {
    "duration": 470,
    "start_time": "2021-09-06T12:39:00.470Z"
   },
   {
    "duration": 1043,
    "start_time": "2021-09-06T12:39:00.943Z"
   },
   {
    "duration": 16,
    "start_time": "2021-09-06T12:39:01.989Z"
   },
   {
    "duration": 17,
    "start_time": "2021-09-06T12:39:02.008Z"
   },
   {
    "duration": 34,
    "start_time": "2021-09-06T12:39:02.027Z"
   },
   {
    "duration": 8,
    "start_time": "2021-09-06T12:39:18.938Z"
   },
   {
    "duration": 16,
    "start_time": "2021-09-06T12:39:33.113Z"
   },
   {
    "duration": 6,
    "start_time": "2021-09-06T12:39:38.625Z"
   },
   {
    "duration": 2505,
    "start_time": "2021-09-06T12:40:09.067Z"
   },
   {
    "duration": 70,
    "start_time": "2021-09-06T12:40:11.574Z"
   },
   {
    "duration": 12,
    "start_time": "2021-09-06T12:40:11.647Z"
   },
   {
    "duration": 27,
    "start_time": "2021-09-06T12:40:11.661Z"
   },
   {
    "duration": 55,
    "start_time": "2021-09-06T12:40:11.691Z"
   },
   {
    "duration": 34,
    "start_time": "2021-09-06T12:40:11.748Z"
   },
   {
    "duration": 44,
    "start_time": "2021-09-06T12:40:11.785Z"
   },
   {
    "duration": 22,
    "start_time": "2021-09-06T12:40:11.835Z"
   },
   {
    "duration": 57,
    "start_time": "2021-09-06T12:40:11.861Z"
   },
   {
    "duration": 38,
    "start_time": "2021-09-06T12:40:11.921Z"
   },
   {
    "duration": 25,
    "start_time": "2021-09-06T12:40:11.962Z"
   },
   {
    "duration": 330,
    "start_time": "2021-09-06T12:40:11.990Z"
   },
   {
    "duration": 9,
    "start_time": "2021-09-06T12:40:12.322Z"
   },
   {
    "duration": 25,
    "start_time": "2021-09-06T12:40:12.334Z"
   },
   {
    "duration": 148,
    "start_time": "2021-09-06T12:40:12.361Z"
   },
   {
    "duration": 10,
    "start_time": "2021-09-06T12:40:12.512Z"
   },
   {
    "duration": 6,
    "start_time": "2021-09-06T12:40:12.524Z"
   },
   {
    "duration": 373,
    "start_time": "2021-09-06T12:40:12.532Z"
   },
   {
    "duration": 382,
    "start_time": "2021-09-06T12:40:12.908Z"
   },
   {
    "duration": 305,
    "start_time": "2021-09-06T12:40:13.292Z"
   },
   {
    "duration": 32,
    "start_time": "2021-09-06T12:40:13.599Z"
   },
   {
    "duration": 15,
    "start_time": "2021-09-06T12:40:13.633Z"
   },
   {
    "duration": 1099,
    "start_time": "2021-09-06T12:40:13.652Z"
   },
   {
    "duration": 133,
    "start_time": "2021-09-06T12:40:14.754Z"
   },
   {
    "duration": 37,
    "start_time": "2021-09-06T12:40:14.889Z"
   },
   {
    "duration": 13,
    "start_time": "2021-09-06T12:40:14.929Z"
   },
   {
    "duration": 373,
    "start_time": "2021-09-06T12:40:14.945Z"
   },
   {
    "duration": 904,
    "start_time": "2021-09-06T12:40:15.321Z"
   },
   {
    "duration": 17,
    "start_time": "2021-09-06T12:40:16.227Z"
   },
   {
    "duration": 18,
    "start_time": "2021-09-06T12:40:16.246Z"
   },
   {
    "duration": 30,
    "start_time": "2021-09-06T12:40:16.267Z"
   },
   {
    "duration": 22,
    "start_time": "2021-09-06T12:40:16.299Z"
   },
   {
    "duration": 56,
    "start_time": "2021-09-06T12:40:16.324Z"
   },
   {
    "duration": 8,
    "start_time": "2021-09-06T12:42:20.596Z"
   },
   {
    "duration": 11,
    "start_time": "2021-09-06T12:42:45.997Z"
   },
   {
    "duration": 17,
    "start_time": "2021-09-06T12:42:47.303Z"
   },
   {
    "duration": 10,
    "start_time": "2021-09-06T12:42:47.877Z"
   },
   {
    "duration": 980,
    "start_time": "2021-09-06T12:42:49.298Z"
   },
   {
    "duration": 2651,
    "start_time": "2021-09-06T12:43:01.796Z"
   },
   {
    "duration": 66,
    "start_time": "2021-09-06T12:43:04.449Z"
   },
   {
    "duration": 14,
    "start_time": "2021-09-06T12:43:04.518Z"
   },
   {
    "duration": 34,
    "start_time": "2021-09-06T12:43:04.536Z"
   },
   {
    "duration": 76,
    "start_time": "2021-09-06T12:43:04.573Z"
   },
   {
    "duration": 39,
    "start_time": "2021-09-06T12:43:04.652Z"
   },
   {
    "duration": 41,
    "start_time": "2021-09-06T12:43:04.694Z"
   },
   {
    "duration": 25,
    "start_time": "2021-09-06T12:43:04.738Z"
   },
   {
    "duration": 50,
    "start_time": "2021-09-06T12:43:04.769Z"
   },
   {
    "duration": 27,
    "start_time": "2021-09-06T12:43:04.824Z"
   },
   {
    "duration": 19,
    "start_time": "2021-09-06T12:43:04.854Z"
   },
   {
    "duration": 366,
    "start_time": "2021-09-06T12:43:04.876Z"
   },
   {
    "duration": 12,
    "start_time": "2021-09-06T12:43:05.245Z"
   },
   {
    "duration": 9,
    "start_time": "2021-09-06T12:43:05.260Z"
   },
   {
    "duration": 153,
    "start_time": "2021-09-06T12:43:05.272Z"
   },
   {
    "duration": 13,
    "start_time": "2021-09-06T12:43:05.428Z"
   },
   {
    "duration": 5,
    "start_time": "2021-09-06T12:43:05.444Z"
   },
   {
    "duration": 370,
    "start_time": "2021-09-06T12:43:05.452Z"
   },
   {
    "duration": 338,
    "start_time": "2021-09-06T12:43:05.825Z"
   },
   {
    "duration": 308,
    "start_time": "2021-09-06T12:43:06.166Z"
   },
   {
    "duration": 40,
    "start_time": "2021-09-06T12:43:06.477Z"
   },
   {
    "duration": 16,
    "start_time": "2021-09-06T12:43:06.519Z"
   },
   {
    "duration": 1032,
    "start_time": "2021-09-06T12:43:06.537Z"
   },
   {
    "duration": 137,
    "start_time": "2021-09-06T12:43:07.571Z"
   },
   {
    "duration": 24,
    "start_time": "2021-09-06T12:43:07.710Z"
   },
   {
    "duration": 12,
    "start_time": "2021-09-06T12:43:07.737Z"
   },
   {
    "duration": 370,
    "start_time": "2021-09-06T12:43:07.753Z"
   },
   {
    "duration": 1054,
    "start_time": "2021-09-06T12:43:08.126Z"
   },
   {
    "duration": 17,
    "start_time": "2021-09-06T12:43:09.183Z"
   },
   {
    "duration": 10,
    "start_time": "2021-09-06T12:43:09.202Z"
   },
   {
    "duration": 20,
    "start_time": "2021-09-06T12:43:09.214Z"
   },
   {
    "duration": 12,
    "start_time": "2021-09-06T12:43:18.060Z"
   },
   {
    "duration": 2331,
    "start_time": "2021-09-06T12:43:24.407Z"
   },
   {
    "duration": 66,
    "start_time": "2021-09-06T12:43:26.741Z"
   },
   {
    "duration": 12,
    "start_time": "2021-09-06T12:43:26.810Z"
   },
   {
    "duration": 25,
    "start_time": "2021-09-06T12:43:26.824Z"
   },
   {
    "duration": 33,
    "start_time": "2021-09-06T12:43:26.851Z"
   },
   {
    "duration": 52,
    "start_time": "2021-09-06T12:43:26.886Z"
   },
   {
    "duration": 17,
    "start_time": "2021-09-06T12:43:26.941Z"
   },
   {
    "duration": 16,
    "start_time": "2021-09-06T12:43:26.963Z"
   },
   {
    "duration": 62,
    "start_time": "2021-09-06T12:43:26.982Z"
   },
   {
    "duration": 21,
    "start_time": "2021-09-06T12:43:27.046Z"
   },
   {
    "duration": 12,
    "start_time": "2021-09-06T12:43:27.069Z"
   },
   {
    "duration": 370,
    "start_time": "2021-09-06T12:43:27.084Z"
   },
   {
    "duration": 9,
    "start_time": "2021-09-06T12:43:27.456Z"
   },
   {
    "duration": 9,
    "start_time": "2021-09-06T12:43:27.467Z"
   },
   {
    "duration": 153,
    "start_time": "2021-09-06T12:43:27.478Z"
   },
   {
    "duration": 10,
    "start_time": "2021-09-06T12:43:27.634Z"
   },
   {
    "duration": 4,
    "start_time": "2021-09-06T12:43:27.647Z"
   },
   {
    "duration": 366,
    "start_time": "2021-09-06T12:43:27.653Z"
   },
   {
    "duration": 342,
    "start_time": "2021-09-06T12:43:28.021Z"
   },
   {
    "duration": 308,
    "start_time": "2021-09-06T12:43:28.365Z"
   },
   {
    "duration": 23,
    "start_time": "2021-09-06T12:43:28.676Z"
   },
   {
    "duration": 31,
    "start_time": "2021-09-06T12:43:28.701Z"
   },
   {
    "duration": 1093,
    "start_time": "2021-09-06T12:43:28.734Z"
   },
   {
    "duration": 138,
    "start_time": "2021-09-06T12:43:29.830Z"
   },
   {
    "duration": 52,
    "start_time": "2021-09-06T12:43:29.972Z"
   },
   {
    "duration": 19,
    "start_time": "2021-09-06T12:43:30.031Z"
   },
   {
    "duration": 365,
    "start_time": "2021-09-06T12:43:30.052Z"
   },
   {
    "duration": 873,
    "start_time": "2021-09-06T12:43:30.420Z"
   },
   {
    "duration": 17,
    "start_time": "2021-09-06T12:43:31.295Z"
   },
   {
    "duration": 14,
    "start_time": "2021-09-06T12:43:31.314Z"
   },
   {
    "duration": 34,
    "start_time": "2021-09-06T12:43:31.330Z"
   },
   {
    "duration": 15,
    "start_time": "2021-09-06T12:43:31.366Z"
   },
   {
    "duration": 11,
    "start_time": "2021-09-06T12:43:38.124Z"
   },
   {
    "duration": 10,
    "start_time": "2021-09-06T12:43:38.601Z"
   },
   {
    "duration": 30,
    "start_time": "2021-09-06T12:43:44.395Z"
   },
   {
    "duration": 1001,
    "start_time": "2021-09-06T12:43:46.969Z"
   },
   {
    "duration": 16,
    "start_time": "2021-09-06T12:43:53.000Z"
   },
   {
    "duration": 765,
    "start_time": "2021-09-06T12:43:57.771Z"
   },
   {
    "duration": -362,
    "start_time": "2021-09-06T12:43:58.900Z"
   },
   {
    "duration": 3113,
    "start_time": "2021-09-06T12:44:04.560Z"
   },
   {
    "duration": 4,
    "start_time": "2021-09-06T12:44:13.331Z"
   },
   {
    "duration": 68,
    "start_time": "2021-09-06T12:44:13.867Z"
   },
   {
    "duration": 15,
    "start_time": "2021-09-06T12:44:14.671Z"
   },
   {
    "duration": 22,
    "start_time": "2021-09-06T12:44:15.703Z"
   },
   {
    "duration": 31,
    "start_time": "2021-09-06T12:44:18.039Z"
   },
   {
    "duration": 42,
    "start_time": "2021-09-06T12:44:19.134Z"
   },
   {
    "duration": 26,
    "start_time": "2021-09-06T12:44:21.833Z"
   },
   {
    "duration": 26,
    "start_time": "2021-09-06T12:44:23.293Z"
   },
   {
    "duration": 44,
    "start_time": "2021-09-06T12:44:24.530Z"
   },
   {
    "duration": 28,
    "start_time": "2021-09-06T12:44:25.304Z"
   },
   {
    "duration": 13,
    "start_time": "2021-09-06T12:44:30.733Z"
   },
   {
    "duration": 328,
    "start_time": "2021-09-06T12:44:31.964Z"
   },
   {
    "duration": 9,
    "start_time": "2021-09-06T12:44:35.689Z"
   },
   {
    "duration": 9,
    "start_time": "2021-09-06T12:44:36.367Z"
   },
   {
    "duration": 126,
    "start_time": "2021-09-06T12:44:38.917Z"
   },
   {
    "duration": 10,
    "start_time": "2021-09-06T12:44:41.867Z"
   },
   {
    "duration": 5,
    "start_time": "2021-09-06T12:44:42.411Z"
   },
   {
    "duration": 352,
    "start_time": "2021-09-06T12:44:43.168Z"
   },
   {
    "duration": 333,
    "start_time": "2021-09-06T12:44:46.207Z"
   },
   {
    "duration": 200,
    "start_time": "2021-09-06T12:44:48.055Z"
   },
   {
    "duration": 31,
    "start_time": "2021-09-06T12:44:51.599Z"
   },
   {
    "duration": 20,
    "start_time": "2021-09-06T12:44:53.271Z"
   },
   {
    "duration": 1172,
    "start_time": "2021-09-06T12:44:55.515Z"
   },
   {
    "duration": 233,
    "start_time": "2021-09-06T12:44:59.770Z"
   },
   {
    "duration": 23,
    "start_time": "2021-09-06T12:45:03.627Z"
   },
   {
    "duration": 13,
    "start_time": "2021-09-06T12:45:04.274Z"
   },
   {
    "duration": 356,
    "start_time": "2021-09-06T12:45:05.816Z"
   },
   {
    "duration": 912,
    "start_time": "2021-09-06T12:45:08.761Z"
   },
   {
    "duration": 17,
    "start_time": "2021-09-06T12:45:09.675Z"
   },
   {
    "duration": 8,
    "start_time": "2021-09-06T12:45:12.813Z"
   },
   {
    "duration": 17,
    "start_time": "2021-09-06T12:45:13.355Z"
   },
   {
    "duration": 10,
    "start_time": "2021-09-06T12:45:17.823Z"
   },
   {
    "duration": 2385,
    "start_time": "2021-09-06T12:45:35.401Z"
   },
   {
    "duration": 65,
    "start_time": "2021-09-06T12:45:37.789Z"
   },
   {
    "duration": 13,
    "start_time": "2021-09-06T12:45:37.857Z"
   },
   {
    "duration": 45,
    "start_time": "2021-09-06T12:45:37.873Z"
   },
   {
    "duration": 29,
    "start_time": "2021-09-06T12:45:37.921Z"
   },
   {
    "duration": 33,
    "start_time": "2021-09-06T12:45:37.953Z"
   },
   {
    "duration": 16,
    "start_time": "2021-09-06T12:45:38.017Z"
   },
   {
    "duration": 17,
    "start_time": "2021-09-06T12:45:38.037Z"
   },
   {
    "duration": 62,
    "start_time": "2021-09-06T12:45:38.058Z"
   },
   {
    "duration": 23,
    "start_time": "2021-09-06T12:45:38.123Z"
   },
   {
    "duration": 13,
    "start_time": "2021-09-06T12:45:38.148Z"
   },
   {
    "duration": 355,
    "start_time": "2021-09-06T12:45:38.163Z"
   },
   {
    "duration": 8,
    "start_time": "2021-09-06T12:45:38.521Z"
   },
   {
    "duration": 14,
    "start_time": "2021-09-06T12:45:38.531Z"
   },
   {
    "duration": 134,
    "start_time": "2021-09-06T12:45:38.547Z"
   },
   {
    "duration": 10,
    "start_time": "2021-09-06T12:45:38.683Z"
   },
   {
    "duration": 11,
    "start_time": "2021-09-06T12:45:38.695Z"
   },
   {
    "duration": 363,
    "start_time": "2021-09-06T12:45:38.717Z"
   },
   {
    "duration": 353,
    "start_time": "2021-09-06T12:45:39.083Z"
   },
   {
    "duration": 311,
    "start_time": "2021-09-06T12:45:39.439Z"
   },
   {
    "duration": 20,
    "start_time": "2021-09-06T12:45:39.753Z"
   },
   {
    "duration": 13,
    "start_time": "2021-09-06T12:45:39.776Z"
   },
   {
    "duration": 1674,
    "start_time": "2021-09-06T12:45:39.817Z"
   },
   {
    "duration": 159,
    "start_time": "2021-09-06T12:45:41.495Z"
   },
   {
    "duration": 23,
    "start_time": "2021-09-06T12:45:41.657Z"
   },
   {
    "duration": 33,
    "start_time": "2021-09-06T12:45:41.682Z"
   },
   {
    "duration": 366,
    "start_time": "2021-09-06T12:45:41.718Z"
   },
   {
    "duration": 951,
    "start_time": "2021-09-06T12:45:42.086Z"
   },
   {
    "duration": 17,
    "start_time": "2021-09-06T12:45:43.040Z"
   },
   {
    "duration": 8,
    "start_time": "2021-09-06T12:45:43.059Z"
   },
   {
    "duration": 26,
    "start_time": "2021-09-06T12:45:43.069Z"
   },
   {
    "duration": 27,
    "start_time": "2021-09-06T12:45:43.097Z"
   },
   {
    "duration": 15,
    "start_time": "2021-09-06T12:46:47.053Z"
   },
   {
    "duration": 10,
    "start_time": "2021-09-06T12:46:50.512Z"
   },
   {
    "duration": 2322,
    "start_time": "2021-09-06T12:46:56.398Z"
   },
   {
    "duration": 62,
    "start_time": "2021-09-06T12:46:58.723Z"
   },
   {
    "duration": 12,
    "start_time": "2021-09-06T12:46:58.788Z"
   },
   {
    "duration": 31,
    "start_time": "2021-09-06T12:46:58.802Z"
   },
   {
    "duration": 29,
    "start_time": "2021-09-06T12:46:58.835Z"
   },
   {
    "duration": 29,
    "start_time": "2021-09-06T12:46:58.867Z"
   },
   {
    "duration": 16,
    "start_time": "2021-09-06T12:46:58.917Z"
   },
   {
    "duration": 16,
    "start_time": "2021-09-06T12:46:58.937Z"
   },
   {
    "duration": 28,
    "start_time": "2021-09-06T12:46:58.956Z"
   },
   {
    "duration": 47,
    "start_time": "2021-09-06T12:46:58.986Z"
   },
   {
    "duration": 17,
    "start_time": "2021-09-06T12:46:59.035Z"
   },
   {
    "duration": 349,
    "start_time": "2021-09-06T12:46:59.055Z"
   },
   {
    "duration": 9,
    "start_time": "2021-09-06T12:46:59.407Z"
   },
   {
    "duration": 12,
    "start_time": "2021-09-06T12:46:59.419Z"
   },
   {
    "duration": 147,
    "start_time": "2021-09-06T12:46:59.433Z"
   },
   {
    "duration": 10,
    "start_time": "2021-09-06T12:46:59.582Z"
   },
   {
    "duration": 23,
    "start_time": "2021-09-06T12:46:59.594Z"
   },
   {
    "duration": 345,
    "start_time": "2021-09-06T12:46:59.619Z"
   },
   {
    "duration": 342,
    "start_time": "2021-09-06T12:46:59.966Z"
   },
   {
    "duration": 310,
    "start_time": "2021-09-06T12:47:00.311Z"
   },
   {
    "duration": 21,
    "start_time": "2021-09-06T12:47:00.624Z"
   },
   {
    "duration": 32,
    "start_time": "2021-09-06T12:47:00.648Z"
   },
   {
    "duration": 1050,
    "start_time": "2021-09-06T12:47:00.683Z"
   },
   {
    "duration": 136,
    "start_time": "2021-09-06T12:47:01.735Z"
   },
   {
    "duration": 23,
    "start_time": "2021-09-06T12:47:01.873Z"
   },
   {
    "duration": 32,
    "start_time": "2021-09-06T12:47:01.901Z"
   },
   {
    "duration": 351,
    "start_time": "2021-09-06T12:47:01.935Z"
   },
   {
    "duration": 767,
    "start_time": "2021-09-06T12:47:02.289Z"
   },
   {
    "duration": 16,
    "start_time": "2021-09-06T12:47:03.059Z"
   },
   {
    "duration": 16,
    "start_time": "2021-09-06T12:47:03.077Z"
   },
   {
    "duration": 31,
    "start_time": "2021-09-06T12:47:03.096Z"
   },
   {
    "duration": 11,
    "start_time": "2021-09-06T12:47:03.130Z"
   },
   {
    "duration": 2664,
    "start_time": "2021-09-06T12:49:28.882Z"
   },
   {
    "duration": 65,
    "start_time": "2021-09-06T12:49:31.549Z"
   },
   {
    "duration": 12,
    "start_time": "2021-09-06T12:49:31.617Z"
   },
   {
    "duration": 32,
    "start_time": "2021-09-06T12:49:31.632Z"
   },
   {
    "duration": 40,
    "start_time": "2021-09-06T12:49:31.667Z"
   },
   {
    "duration": 32,
    "start_time": "2021-09-06T12:49:31.710Z"
   },
   {
    "duration": 15,
    "start_time": "2021-09-06T12:49:31.745Z"
   },
   {
    "duration": 23,
    "start_time": "2021-09-06T12:49:31.764Z"
   },
   {
    "duration": 57,
    "start_time": "2021-09-06T12:49:31.790Z"
   },
   {
    "duration": 27,
    "start_time": "2021-09-06T12:49:31.850Z"
   },
   {
    "duration": 26,
    "start_time": "2021-09-06T12:49:31.880Z"
   },
   {
    "duration": 346,
    "start_time": "2021-09-06T12:49:31.909Z"
   },
   {
    "duration": 8,
    "start_time": "2021-09-06T12:49:32.258Z"
   },
   {
    "duration": 10,
    "start_time": "2021-09-06T12:49:32.269Z"
   },
   {
    "duration": 144,
    "start_time": "2021-09-06T12:49:32.281Z"
   },
   {
    "duration": 11,
    "start_time": "2021-09-06T12:49:32.428Z"
   },
   {
    "duration": 4,
    "start_time": "2021-09-06T12:49:32.441Z"
   },
   {
    "duration": 375,
    "start_time": "2021-09-06T12:49:32.447Z"
   },
   {
    "duration": 349,
    "start_time": "2021-09-06T12:49:32.824Z"
   },
   {
    "duration": 309,
    "start_time": "2021-09-06T12:49:33.176Z"
   },
   {
    "duration": 34,
    "start_time": "2021-09-06T12:49:33.488Z"
   },
   {
    "duration": 15,
    "start_time": "2021-09-06T12:49:33.524Z"
   },
   {
    "duration": 1018,
    "start_time": "2021-09-06T12:49:33.543Z"
   },
   {
    "duration": 135,
    "start_time": "2021-09-06T12:49:34.563Z"
   },
   {
    "duration": 35,
    "start_time": "2021-09-06T12:49:34.701Z"
   },
   {
    "duration": 14,
    "start_time": "2021-09-06T12:49:34.738Z"
   },
   {
    "duration": 369,
    "start_time": "2021-09-06T12:49:34.754Z"
   },
   {
    "duration": 1042,
    "start_time": "2021-09-06T12:49:35.125Z"
   },
   {
    "duration": 17,
    "start_time": "2021-09-06T12:49:36.169Z"
   },
   {
    "duration": 23,
    "start_time": "2021-09-06T12:49:36.188Z"
   },
   {
    "duration": 24,
    "start_time": "2021-09-06T12:49:36.213Z"
   },
   {
    "duration": 11,
    "start_time": "2021-09-06T12:49:40.642Z"
   },
   {
    "duration": 2190,
    "start_time": "2021-09-06T12:49:46.753Z"
   },
   {
    "duration": 67,
    "start_time": "2021-09-06T12:49:48.947Z"
   },
   {
    "duration": 12,
    "start_time": "2021-09-06T12:49:49.016Z"
   },
   {
    "duration": 27,
    "start_time": "2021-09-06T12:49:49.031Z"
   },
   {
    "duration": 56,
    "start_time": "2021-09-06T12:49:49.061Z"
   },
   {
    "duration": 33,
    "start_time": "2021-09-06T12:49:49.119Z"
   },
   {
    "duration": 17,
    "start_time": "2021-09-06T12:49:49.154Z"
   },
   {
    "duration": 43,
    "start_time": "2021-09-06T12:49:49.175Z"
   },
   {
    "duration": 29,
    "start_time": "2021-09-06T12:49:49.221Z"
   },
   {
    "duration": 17,
    "start_time": "2021-09-06T12:49:49.253Z"
   },
   {
    "duration": 47,
    "start_time": "2021-09-06T12:49:49.273Z"
   },
   {
    "duration": 334,
    "start_time": "2021-09-06T12:49:49.322Z"
   },
   {
    "duration": 9,
    "start_time": "2021-09-06T12:49:49.659Z"
   },
   {
    "duration": 9,
    "start_time": "2021-09-06T12:49:49.670Z"
   },
   {
    "duration": 153,
    "start_time": "2021-09-06T12:49:49.681Z"
   },
   {
    "duration": 11,
    "start_time": "2021-09-06T12:49:49.837Z"
   },
   {
    "duration": 6,
    "start_time": "2021-09-06T12:49:49.850Z"
   },
   {
    "duration": 365,
    "start_time": "2021-09-06T12:49:49.859Z"
   },
   {
    "duration": 352,
    "start_time": "2021-09-06T12:49:50.226Z"
   },
   {
    "duration": 309,
    "start_time": "2021-09-06T12:49:50.581Z"
   },
   {
    "duration": 34,
    "start_time": "2021-09-06T12:49:50.893Z"
   },
   {
    "duration": 13,
    "start_time": "2021-09-06T12:49:50.929Z"
   },
   {
    "duration": 1004,
    "start_time": "2021-09-06T12:49:50.946Z"
   },
   {
    "duration": 142,
    "start_time": "2021-09-06T12:49:51.952Z"
   },
   {
    "duration": 32,
    "start_time": "2021-09-06T12:49:52.097Z"
   },
   {
    "duration": 14,
    "start_time": "2021-09-06T12:49:52.131Z"
   },
   {
    "duration": 363,
    "start_time": "2021-09-06T12:49:52.147Z"
   },
   {
    "duration": 1040,
    "start_time": "2021-09-06T12:49:52.512Z"
   },
   {
    "duration": 18,
    "start_time": "2021-09-06T12:49:53.554Z"
   },
   {
    "duration": 9,
    "start_time": "2021-09-06T12:49:53.574Z"
   },
   {
    "duration": 37,
    "start_time": "2021-09-06T12:49:53.585Z"
   },
   {
    "duration": 13,
    "start_time": "2021-09-06T12:49:53.625Z"
   },
   {
    "duration": 349,
    "start_time": "2021-09-06T12:49:58.509Z"
   },
   {
    "duration": 14,
    "start_time": "2021-09-06T12:50:05.078Z"
   },
   {
    "duration": 26,
    "start_time": "2021-09-06T12:50:07.463Z"
   },
   {
    "duration": 24,
    "start_time": "2021-09-06T12:50:11.172Z"
   },
   {
    "duration": 335,
    "start_time": "2021-09-06T12:50:18.456Z"
   },
   {
    "duration": 856,
    "start_time": "2021-09-06T12:50:21.338Z"
   },
   {
    "duration": 19,
    "start_time": "2021-09-06T12:50:22.197Z"
   },
   {
    "duration": 8,
    "start_time": "2021-09-06T12:50:25.299Z"
   },
   {
    "duration": 15,
    "start_time": "2021-09-06T12:50:25.812Z"
   },
   {
    "duration": 10,
    "start_time": "2021-09-06T12:50:26.300Z"
   },
   {
    "duration": 26,
    "start_time": "2021-09-06T12:50:31.329Z"
   },
   {
    "duration": 18,
    "start_time": "2021-09-06T12:50:40.462Z"
   },
   {
    "duration": 14,
    "start_time": "2021-09-06T12:50:43.690Z"
   },
   {
    "duration": 10,
    "start_time": "2021-09-06T12:50:44.288Z"
   },
   {
    "duration": 224,
    "start_time": "2021-09-06T12:51:35.713Z"
   },
   {
    "duration": 23,
    "start_time": "2021-09-06T12:51:39.340Z"
   },
   {
    "duration": 14,
    "start_time": "2021-09-06T12:51:40.004Z"
   },
   {
    "duration": 357,
    "start_time": "2021-09-06T12:51:42.332Z"
   },
   {
    "duration": 1092,
    "start_time": "2021-09-06T12:51:46.915Z"
   },
   {
    "duration": 18,
    "start_time": "2021-09-06T12:51:49.400Z"
   },
   {
    "duration": 8,
    "start_time": "2021-09-06T12:51:53.017Z"
   },
   {
    "duration": 8,
    "start_time": "2021-09-06T12:52:01.753Z"
   },
   {
    "duration": 8,
    "start_time": "2021-09-06T12:52:09.168Z"
   },
   {
    "duration": 30,
    "start_time": "2021-09-06T12:52:09.597Z"
   },
   {
    "duration": 30,
    "start_time": "2021-09-06T12:52:10.125Z"
   },
   {
    "duration": 55,
    "start_time": "2021-09-06T12:52:32.442Z"
   },
   {
    "duration": 36,
    "start_time": "2021-09-06T12:52:34.545Z"
   },
   {
    "duration": 3243,
    "start_time": "2021-09-06T12:53:26.170Z"
   },
   {
    "duration": 2312,
    "start_time": "2021-09-06T12:53:54.264Z"
   },
   {
    "duration": 66,
    "start_time": "2021-09-06T12:53:56.578Z"
   },
   {
    "duration": 12,
    "start_time": "2021-09-06T12:53:56.648Z"
   },
   {
    "duration": 25,
    "start_time": "2021-09-06T12:53:56.663Z"
   },
   {
    "duration": 58,
    "start_time": "2021-09-06T12:53:56.690Z"
   },
   {
    "duration": 29,
    "start_time": "2021-09-06T12:53:56.751Z"
   },
   {
    "duration": 38,
    "start_time": "2021-09-06T12:53:56.782Z"
   },
   {
    "duration": 17,
    "start_time": "2021-09-06T12:53:56.823Z"
   },
   {
    "duration": 30,
    "start_time": "2021-09-06T12:53:56.844Z"
   },
   {
    "duration": 53,
    "start_time": "2021-09-06T12:53:56.878Z"
   },
   {
    "duration": 16,
    "start_time": "2021-09-06T12:53:56.934Z"
   },
   {
    "duration": 358,
    "start_time": "2021-09-06T12:53:56.952Z"
   },
   {
    "duration": 10,
    "start_time": "2021-09-06T12:53:57.313Z"
   },
   {
    "duration": 12,
    "start_time": "2021-09-06T12:53:57.325Z"
   },
   {
    "duration": 144,
    "start_time": "2021-09-06T12:53:57.340Z"
   },
   {
    "duration": 10,
    "start_time": "2021-09-06T12:53:57.487Z"
   },
   {
    "duration": 17,
    "start_time": "2021-09-06T12:53:57.499Z"
   },
   {
    "duration": 355,
    "start_time": "2021-09-06T12:53:57.519Z"
   },
   {
    "duration": 348,
    "start_time": "2021-09-06T12:53:57.877Z"
   },
   {
    "duration": 305,
    "start_time": "2021-09-06T12:53:58.228Z"
   },
   {
    "duration": 23,
    "start_time": "2021-09-06T12:53:58.535Z"
   },
   {
    "duration": 16,
    "start_time": "2021-09-06T12:53:58.560Z"
   },
   {
    "duration": 1040,
    "start_time": "2021-09-06T12:53:58.579Z"
   },
   {
    "duration": 242,
    "start_time": "2021-09-06T12:53:59.622Z"
   },
   {
    "duration": 20,
    "start_time": "2021-09-06T12:53:59.866Z"
   },
   {
    "duration": 27,
    "start_time": "2021-09-06T12:53:59.889Z"
   },
   {
    "duration": 367,
    "start_time": "2021-09-06T12:53:59.921Z"
   },
   {
    "duration": 1073,
    "start_time": "2021-09-06T12:54:00.291Z"
   },
   {
    "duration": 18,
    "start_time": "2021-09-06T12:54:01.367Z"
   },
   {
    "duration": 25,
    "start_time": "2021-09-06T12:54:01.387Z"
   },
   {
    "duration": 48,
    "start_time": "2021-09-06T12:54:01.414Z"
   },
   {
    "duration": 31,
    "start_time": "2021-09-06T12:54:01.465Z"
   },
   {
    "duration": 39,
    "start_time": "2021-09-06T12:54:01.499Z"
   },
   {
    "duration": 15,
    "start_time": "2021-09-06T12:54:14.575Z"
   },
   {
    "duration": 39,
    "start_time": "2021-09-06T12:56:45.540Z"
   },
   {
    "duration": 34,
    "start_time": "2021-09-06T12:57:06.288Z"
   },
   {
    "duration": 21,
    "start_time": "2021-09-06T12:57:30.430Z"
   },
   {
    "duration": 22,
    "start_time": "2021-09-06T12:57:50.326Z"
   },
   {
    "duration": 282,
    "start_time": "2021-09-06T13:00:50.546Z"
   },
   {
    "duration": 558,
    "start_time": "2021-09-06T13:01:05.602Z"
   },
   {
    "duration": 7,
    "start_time": "2021-09-06T13:01:40.260Z"
   },
   {
    "duration": 642,
    "start_time": "2021-09-06T13:01:52.400Z"
   },
   {
    "duration": 2428,
    "start_time": "2021-09-06T13:32:26.468Z"
   },
   {
    "duration": 70,
    "start_time": "2021-09-06T13:32:28.899Z"
   },
   {
    "duration": 14,
    "start_time": "2021-09-06T13:32:28.972Z"
   },
   {
    "duration": 40,
    "start_time": "2021-09-06T13:32:28.989Z"
   },
   {
    "duration": 32,
    "start_time": "2021-09-06T13:32:29.032Z"
   },
   {
    "duration": 54,
    "start_time": "2021-09-06T13:32:29.067Z"
   },
   {
    "duration": 21,
    "start_time": "2021-09-06T13:32:29.124Z"
   },
   {
    "duration": 16,
    "start_time": "2021-09-06T13:32:29.148Z"
   },
   {
    "duration": 61,
    "start_time": "2021-09-06T13:32:29.168Z"
   },
   {
    "duration": 20,
    "start_time": "2021-09-06T13:32:29.232Z"
   },
   {
    "duration": 15,
    "start_time": "2021-09-06T13:32:29.255Z"
   },
   {
    "duration": 363,
    "start_time": "2021-09-06T13:32:29.272Z"
   },
   {
    "duration": 9,
    "start_time": "2021-09-06T13:32:29.638Z"
   },
   {
    "duration": 9,
    "start_time": "2021-09-06T13:32:29.649Z"
   },
   {
    "duration": 150,
    "start_time": "2021-09-06T13:32:29.661Z"
   },
   {
    "duration": 12,
    "start_time": "2021-09-06T13:32:29.816Z"
   },
   {
    "duration": 10,
    "start_time": "2021-09-06T13:32:29.830Z"
   },
   {
    "duration": 364,
    "start_time": "2021-09-06T13:32:29.842Z"
   },
   {
    "duration": 373,
    "start_time": "2021-09-06T13:32:30.208Z"
   },
   {
    "duration": 323,
    "start_time": "2021-09-06T13:32:30.583Z"
   },
   {
    "duration": 28,
    "start_time": "2021-09-06T13:32:30.917Z"
   },
   {
    "duration": 35,
    "start_time": "2021-09-06T13:32:30.947Z"
   },
   {
    "duration": 1101,
    "start_time": "2021-09-06T13:32:30.984Z"
   },
   {
    "duration": 264,
    "start_time": "2021-09-06T13:32:32.087Z"
   },
   {
    "duration": 21,
    "start_time": "2021-09-06T13:32:32.353Z"
   },
   {
    "duration": 15,
    "start_time": "2021-09-06T13:32:32.377Z"
   },
   {
    "duration": 397,
    "start_time": "2021-09-06T13:32:32.397Z"
   },
   {
    "duration": 1195,
    "start_time": "2021-09-06T13:32:32.797Z"
   },
   {
    "duration": 18,
    "start_time": "2021-09-06T13:32:33.995Z"
   },
   {
    "duration": 21,
    "start_time": "2021-09-06T13:32:34.016Z"
   },
   {
    "duration": 55,
    "start_time": "2021-09-06T13:32:34.040Z"
   },
   {
    "duration": 35,
    "start_time": "2021-09-06T13:32:34.098Z"
   },
   {
    "duration": 24,
    "start_time": "2021-09-06T13:32:34.136Z"
   },
   {
    "duration": 15,
    "start_time": "2021-09-06T13:32:34.163Z"
   },
   {
    "duration": 73,
    "start_time": "2021-09-06T13:32:34.181Z"
   },
   {
    "duration": 34,
    "start_time": "2021-09-06T13:32:34.256Z"
   },
   {
    "duration": 51,
    "start_time": "2021-09-06T13:32:34.293Z"
   },
   {
    "duration": 264,
    "start_time": "2021-09-06T13:32:34.346Z"
   },
   {
    "duration": 585,
    "start_time": "2021-09-06T13:32:34.613Z"
   },
   {
    "duration": 22,
    "start_time": "2021-09-06T13:32:35.201Z"
   },
   {
    "duration": 661,
    "start_time": "2021-09-06T13:32:35.226Z"
   },
   {
    "duration": 2406,
    "start_time": "2021-09-06T13:33:31.873Z"
   },
   {
    "duration": 71,
    "start_time": "2021-09-06T13:33:34.282Z"
   },
   {
    "duration": 13,
    "start_time": "2021-09-06T13:33:34.356Z"
   },
   {
    "duration": 25,
    "start_time": "2021-09-06T13:33:34.372Z"
   },
   {
    "duration": 50,
    "start_time": "2021-09-06T13:33:34.400Z"
   },
   {
    "duration": 28,
    "start_time": "2021-09-06T13:33:34.452Z"
   },
   {
    "duration": 50,
    "start_time": "2021-09-06T13:33:34.482Z"
   },
   {
    "duration": 16,
    "start_time": "2021-09-06T13:33:34.537Z"
   },
   {
    "duration": 27,
    "start_time": "2021-09-06T13:33:34.557Z"
   },
   {
    "duration": 45,
    "start_time": "2021-09-06T13:33:34.587Z"
   },
   {
    "duration": 35,
    "start_time": "2021-09-06T13:33:34.635Z"
   },
   {
    "duration": 355,
    "start_time": "2021-09-06T13:33:34.672Z"
   },
   {
    "duration": 13,
    "start_time": "2021-09-06T13:33:35.031Z"
   },
   {
    "duration": 10,
    "start_time": "2021-09-06T13:33:35.047Z"
   },
   {
    "duration": 152,
    "start_time": "2021-09-06T13:33:35.060Z"
   },
   {
    "duration": 11,
    "start_time": "2021-09-06T13:33:35.214Z"
   },
   {
    "duration": 4,
    "start_time": "2021-09-06T13:33:35.234Z"
   },
   {
    "duration": 392,
    "start_time": "2021-09-06T13:33:35.240Z"
   },
   {
    "duration": 350,
    "start_time": "2021-09-06T13:33:35.635Z"
   },
   {
    "duration": 315,
    "start_time": "2021-09-06T13:33:35.987Z"
   },
   {
    "duration": 30,
    "start_time": "2021-09-06T13:33:36.305Z"
   },
   {
    "duration": 16,
    "start_time": "2021-09-06T13:33:36.338Z"
   },
   {
    "duration": 1183,
    "start_time": "2021-09-06T13:33:36.361Z"
   },
   {
    "duration": 250,
    "start_time": "2021-09-06T13:33:37.548Z"
   },
   {
    "duration": 31,
    "start_time": "2021-09-06T13:33:37.800Z"
   },
   {
    "duration": 16,
    "start_time": "2021-09-06T13:33:37.834Z"
   },
   {
    "duration": 421,
    "start_time": "2021-09-06T13:33:37.852Z"
   },
   {
    "duration": 1060,
    "start_time": "2021-09-06T13:33:38.276Z"
   },
   {
    "duration": 17,
    "start_time": "2021-09-06T13:33:39.339Z"
   },
   {
    "duration": 11,
    "start_time": "2021-09-06T13:33:39.359Z"
   },
   {
    "duration": 52,
    "start_time": "2021-09-06T13:33:39.373Z"
   },
   {
    "duration": 32,
    "start_time": "2021-09-06T13:33:39.428Z"
   },
   {
    "duration": 19,
    "start_time": "2021-09-06T13:33:39.462Z"
   },
   {
    "duration": 44,
    "start_time": "2021-09-06T13:33:39.483Z"
   },
   {
    "duration": 42,
    "start_time": "2021-09-06T13:33:39.530Z"
   },
   {
    "duration": 52,
    "start_time": "2021-09-06T13:33:39.575Z"
   },
   {
    "duration": 21,
    "start_time": "2021-09-06T13:33:39.630Z"
   },
   {
    "duration": 382,
    "start_time": "2021-09-06T13:33:39.653Z"
   },
   {
    "duration": 582,
    "start_time": "2021-09-06T13:33:40.038Z"
   },
   {
    "duration": 9,
    "start_time": "2021-09-06T13:33:40.623Z"
   },
   {
    "duration": 693,
    "start_time": "2021-09-06T13:33:40.635Z"
   },
   {
    "duration": 14603,
    "start_time": "2021-09-06T16:12:59.400Z"
   },
   {
    "duration": 48,
    "start_time": "2021-09-06T16:13:14.004Z"
   },
   {
    "duration": 9,
    "start_time": "2021-09-06T16:13:14.054Z"
   },
   {
    "duration": 25,
    "start_time": "2021-09-06T16:13:14.065Z"
   },
   {
    "duration": 23,
    "start_time": "2021-09-06T16:13:14.092Z"
   },
   {
    "duration": 23,
    "start_time": "2021-09-06T16:13:14.117Z"
   },
   {
    "duration": 12,
    "start_time": "2021-09-06T16:13:14.141Z"
   },
   {
    "duration": 31,
    "start_time": "2021-09-06T16:13:14.154Z"
   },
   {
    "duration": 18,
    "start_time": "2021-09-06T16:13:14.188Z"
   },
   {
    "duration": 15,
    "start_time": "2021-09-06T16:13:14.208Z"
   },
   {
    "duration": 10,
    "start_time": "2021-09-06T16:13:14.225Z"
   },
   {
    "duration": 222,
    "start_time": "2021-09-06T16:13:14.236Z"
   },
   {
    "duration": 15,
    "start_time": "2021-09-06T16:13:14.461Z"
   },
   {
    "duration": 7,
    "start_time": "2021-09-06T16:13:14.478Z"
   },
   {
    "duration": 71,
    "start_time": "2021-09-06T16:13:14.486Z"
   },
   {
    "duration": 17,
    "start_time": "2021-09-06T16:13:14.559Z"
   },
   {
    "duration": 4,
    "start_time": "2021-09-06T16:13:14.578Z"
   },
   {
    "duration": 228,
    "start_time": "2021-09-06T16:13:14.583Z"
   },
   {
    "duration": 214,
    "start_time": "2021-09-06T16:13:14.813Z"
   },
   {
    "duration": 216,
    "start_time": "2021-09-06T16:13:15.029Z"
   },
   {
    "duration": 15,
    "start_time": "2021-09-06T16:13:15.246Z"
   },
   {
    "duration": 23,
    "start_time": "2021-09-06T16:13:15.262Z"
   },
   {
    "duration": 632,
    "start_time": "2021-09-06T16:13:15.286Z"
   },
   {
    "duration": 172,
    "start_time": "2021-09-06T16:13:15.920Z"
   },
   {
    "duration": 16,
    "start_time": "2021-09-06T16:13:16.094Z"
   },
   {
    "duration": 9,
    "start_time": "2021-09-06T16:13:16.111Z"
   },
   {
    "duration": 229,
    "start_time": "2021-09-06T16:13:16.123Z"
   },
   {
    "duration": 1051,
    "start_time": "2021-09-06T16:13:16.354Z"
   },
   {
    "duration": 11,
    "start_time": "2021-09-06T16:13:17.407Z"
   },
   {
    "duration": 6,
    "start_time": "2021-09-06T16:13:17.420Z"
   },
   {
    "duration": 20,
    "start_time": "2021-09-06T16:13:17.428Z"
   },
   {
    "duration": 18,
    "start_time": "2021-09-06T16:13:17.449Z"
   },
   {
    "duration": 17,
    "start_time": "2021-09-06T16:13:17.469Z"
   },
   {
    "duration": 9,
    "start_time": "2021-09-06T16:13:17.488Z"
   },
   {
    "duration": 28,
    "start_time": "2021-09-06T16:13:17.499Z"
   },
   {
    "duration": 19,
    "start_time": "2021-09-06T16:13:17.528Z"
   },
   {
    "duration": 14,
    "start_time": "2021-09-06T16:13:17.577Z"
   },
   {
    "duration": 159,
    "start_time": "2021-09-06T16:13:17.593Z"
   },
   {
    "duration": 332,
    "start_time": "2021-09-06T16:13:17.754Z"
   },
   {
    "duration": 5,
    "start_time": "2021-09-06T16:13:18.088Z"
   },
   {
    "duration": 405,
    "start_time": "2021-09-06T16:13:18.094Z"
   },
   {
    "duration": 380,
    "start_time": "2021-09-07T07:42:13.778Z"
   },
   {
    "duration": 2129,
    "start_time": "2021-09-07T07:42:19.744Z"
   },
   {
    "duration": 56,
    "start_time": "2021-09-07T07:42:21.876Z"
   },
   {
    "duration": 12,
    "start_time": "2021-09-07T07:42:21.936Z"
   },
   {
    "duration": 34,
    "start_time": "2021-09-07T07:42:21.951Z"
   },
   {
    "duration": 28,
    "start_time": "2021-09-07T07:42:21.987Z"
   },
   {
    "duration": 33,
    "start_time": "2021-09-07T07:42:22.018Z"
   },
   {
    "duration": 2244,
    "start_time": "2021-09-07T07:42:22.053Z"
   },
   {
    "duration": -1339,
    "start_time": "2021-09-07T07:42:25.640Z"
   },
   {
    "duration": -1350,
    "start_time": "2021-09-07T07:42:25.652Z"
   },
   {
    "duration": -1356,
    "start_time": "2021-09-07T07:42:25.660Z"
   },
   {
    "duration": -1364,
    "start_time": "2021-09-07T07:42:25.669Z"
   },
   {
    "duration": -1373,
    "start_time": "2021-09-07T07:42:25.680Z"
   },
   {
    "duration": -1381,
    "start_time": "2021-09-07T07:42:25.689Z"
   },
   {
    "duration": -1390,
    "start_time": "2021-09-07T07:42:25.699Z"
   },
   {
    "duration": -1398,
    "start_time": "2021-09-07T07:42:25.708Z"
   },
   {
    "duration": -1404,
    "start_time": "2021-09-07T07:42:25.716Z"
   },
   {
    "duration": -1411,
    "start_time": "2021-09-07T07:42:25.724Z"
   },
   {
    "duration": -1418,
    "start_time": "2021-09-07T07:42:25.732Z"
   },
   {
    "duration": -1427,
    "start_time": "2021-09-07T07:42:25.743Z"
   },
   {
    "duration": -1435,
    "start_time": "2021-09-07T07:42:25.752Z"
   },
   {
    "duration": -1442,
    "start_time": "2021-09-07T07:42:25.760Z"
   },
   {
    "duration": -1448,
    "start_time": "2021-09-07T07:42:25.768Z"
   },
   {
    "duration": -1455,
    "start_time": "2021-09-07T07:42:25.776Z"
   },
   {
    "duration": -1462,
    "start_time": "2021-09-07T07:42:25.784Z"
   },
   {
    "duration": -1468,
    "start_time": "2021-09-07T07:42:25.792Z"
   },
   {
    "duration": -1476,
    "start_time": "2021-09-07T07:42:25.801Z"
   },
   {
    "duration": -1483,
    "start_time": "2021-09-07T07:42:25.809Z"
   },
   {
    "duration": -1488,
    "start_time": "2021-09-07T07:42:25.816Z"
   },
   {
    "duration": -1495,
    "start_time": "2021-09-07T07:42:25.824Z"
   },
   {
    "duration": -1503,
    "start_time": "2021-09-07T07:42:25.833Z"
   },
   {
    "duration": -1508,
    "start_time": "2021-09-07T07:42:25.840Z"
   },
   {
    "duration": -1518,
    "start_time": "2021-09-07T07:42:25.851Z"
   },
   {
    "duration": -1525,
    "start_time": "2021-09-07T07:42:25.859Z"
   },
   {
    "duration": -1531,
    "start_time": "2021-09-07T07:42:25.867Z"
   },
   {
    "duration": -1539,
    "start_time": "2021-09-07T07:42:25.876Z"
   },
   {
    "duration": -1502,
    "start_time": "2021-09-07T07:42:25.884Z"
   },
   {
    "duration": -1508,
    "start_time": "2021-09-07T07:42:25.892Z"
   },
   {
    "duration": -1517,
    "start_time": "2021-09-07T07:42:25.902Z"
   },
   {
    "duration": -1524,
    "start_time": "2021-09-07T07:42:25.910Z"
   },
   {
    "duration": -1530,
    "start_time": "2021-09-07T07:42:25.918Z"
   },
   {
    "duration": -1537,
    "start_time": "2021-09-07T07:42:25.926Z"
   },
   {
    "duration": -1545,
    "start_time": "2021-09-07T07:42:25.936Z"
   },
   {
    "duration": 33,
    "start_time": "2021-09-07T07:43:04.202Z"
   },
   {
    "duration": 2671,
    "start_time": "2021-09-07T07:43:14.184Z"
   },
   {
    "duration": 53,
    "start_time": "2021-09-07T07:43:16.857Z"
   },
   {
    "duration": 11,
    "start_time": "2021-09-07T07:43:16.913Z"
   },
   {
    "duration": 22,
    "start_time": "2021-09-07T07:43:16.927Z"
   },
   {
    "duration": 48,
    "start_time": "2021-09-07T07:43:16.952Z"
   },
   {
    "duration": 25,
    "start_time": "2021-09-07T07:43:17.002Z"
   },
   {
    "duration": 55,
    "start_time": "2021-09-07T07:43:17.029Z"
   },
   {
    "duration": 15,
    "start_time": "2021-09-07T07:43:17.088Z"
   },
   {
    "duration": 15,
    "start_time": "2021-09-07T07:43:17.105Z"
   },
   {
    "duration": 27,
    "start_time": "2021-09-07T07:43:17.123Z"
   },
   {
    "duration": 47,
    "start_time": "2021-09-07T07:43:17.153Z"
   },
   {
    "duration": 14,
    "start_time": "2021-09-07T07:43:17.203Z"
   },
   {
    "duration": 337,
    "start_time": "2021-09-07T07:43:17.220Z"
   },
   {
    "duration": 25,
    "start_time": "2021-09-07T07:43:17.560Z"
   },
   {
    "duration": 9,
    "start_time": "2021-09-07T07:43:17.587Z"
   },
   {
    "duration": 128,
    "start_time": "2021-09-07T07:43:17.598Z"
   },
   {
    "duration": 9,
    "start_time": "2021-09-07T07:43:17.728Z"
   },
   {
    "duration": 4,
    "start_time": "2021-09-07T07:43:17.740Z"
   },
   {
    "duration": 336,
    "start_time": "2021-09-07T07:43:17.746Z"
   },
   {
    "duration": 322,
    "start_time": "2021-09-07T07:43:18.085Z"
   },
   {
    "duration": 291,
    "start_time": "2021-09-07T07:43:18.410Z"
   },
   {
    "duration": 32,
    "start_time": "2021-09-07T07:43:18.705Z"
   },
   {
    "duration": 45,
    "start_time": "2021-09-07T07:43:18.745Z"
   },
   {
    "duration": 1068,
    "start_time": "2021-09-07T07:43:18.793Z"
   },
   {
    "duration": 236,
    "start_time": "2021-09-07T07:43:19.863Z"
   },
   {
    "duration": 21,
    "start_time": "2021-09-07T07:43:20.102Z"
   },
   {
    "duration": 13,
    "start_time": "2021-09-07T07:43:20.125Z"
   },
   {
    "duration": 370,
    "start_time": "2021-09-07T07:43:20.140Z"
   },
   {
    "duration": 7475,
    "start_time": "2021-09-07T07:43:20.513Z"
   },
   {
    "duration": 16,
    "start_time": "2021-09-07T07:43:27.990Z"
   },
   {
    "duration": 11,
    "start_time": "2021-09-07T07:43:28.009Z"
   },
   {
    "duration": 27,
    "start_time": "2021-09-07T07:43:28.022Z"
   },
   {
    "duration": 53,
    "start_time": "2021-09-07T07:43:28.051Z"
   },
   {
    "duration": 15,
    "start_time": "2021-09-07T07:43:28.107Z"
   },
   {
    "duration": 14,
    "start_time": "2021-09-07T07:43:28.125Z"
   },
   {
    "duration": 61,
    "start_time": "2021-09-07T07:43:28.141Z"
   },
   {
    "duration": 28,
    "start_time": "2021-09-07T07:43:28.205Z"
   },
   {
    "duration": 26,
    "start_time": "2021-09-07T07:43:28.235Z"
   },
   {
    "duration": 232,
    "start_time": "2021-09-07T07:43:28.283Z"
   },
   {
    "duration": 504,
    "start_time": "2021-09-07T07:43:28.518Z"
   },
   {
    "duration": 6,
    "start_time": "2021-09-07T07:43:29.025Z"
   },
   {
    "duration": 598,
    "start_time": "2021-09-07T07:43:29.034Z"
   },
   {
    "duration": 9,
    "start_time": "2021-09-07T07:48:25.605Z"
   },
   {
    "duration": 12,
    "start_time": "2021-09-07T07:48:56.435Z"
   },
   {
    "duration": 311,
    "start_time": "2021-09-07T07:50:23.183Z"
   },
   {
    "duration": 1970,
    "start_time": "2021-09-07T08:00:21.559Z"
   },
   {
    "duration": 52,
    "start_time": "2021-09-07T08:00:23.532Z"
   },
   {
    "duration": 11,
    "start_time": "2021-09-07T08:00:23.588Z"
   },
   {
    "duration": 23,
    "start_time": "2021-09-07T08:00:23.602Z"
   },
   {
    "duration": 27,
    "start_time": "2021-09-07T08:00:23.628Z"
   },
   {
    "duration": 50,
    "start_time": "2021-09-07T08:00:23.657Z"
   },
   {
    "duration": 31,
    "start_time": "2021-09-07T08:00:23.709Z"
   },
   {
    "duration": 14,
    "start_time": "2021-09-07T08:00:23.743Z"
   },
   {
    "duration": 15,
    "start_time": "2021-09-07T08:00:23.784Z"
   },
   {
    "duration": 26,
    "start_time": "2021-09-07T08:00:23.801Z"
   },
   {
    "duration": 18,
    "start_time": "2021-09-07T08:00:23.829Z"
   },
   {
    "duration": 45,
    "start_time": "2021-09-07T08:00:23.848Z"
   },
   {
    "duration": 303,
    "start_time": "2021-09-07T08:00:23.895Z"
   },
   {
    "duration": 8,
    "start_time": "2021-09-07T08:00:24.200Z"
   },
   {
    "duration": 9,
    "start_time": "2021-09-07T08:00:24.211Z"
   },
   {
    "duration": 133,
    "start_time": "2021-09-07T08:00:24.222Z"
   },
   {
    "duration": 10,
    "start_time": "2021-09-07T08:00:24.357Z"
   },
   {
    "duration": 4,
    "start_time": "2021-09-07T08:00:24.382Z"
   },
   {
    "duration": 326,
    "start_time": "2021-09-07T08:00:24.388Z"
   },
   {
    "duration": 11,
    "start_time": "2021-09-07T08:00:24.716Z"
   },
   {
    "duration": 319,
    "start_time": "2021-09-07T08:00:24.729Z"
   },
   {
    "duration": 267,
    "start_time": "2021-09-07T08:00:25.050Z"
   },
   {
    "duration": 20,
    "start_time": "2021-09-07T08:00:25.319Z"
   },
   {
    "duration": 13,
    "start_time": "2021-09-07T08:00:25.341Z"
   },
   {
    "duration": 962,
    "start_time": "2021-09-07T08:00:25.357Z"
   },
   {
    "duration": 220,
    "start_time": "2021-09-07T08:00:26.321Z"
   },
   {
    "duration": 18,
    "start_time": "2021-09-07T08:00:26.546Z"
   },
   {
    "duration": 21,
    "start_time": "2021-09-07T08:00:26.567Z"
   },
   {
    "duration": 332,
    "start_time": "2021-09-07T08:00:26.591Z"
   },
   {
    "duration": 1040,
    "start_time": "2021-09-07T08:00:26.925Z"
   },
   {
    "duration": 15,
    "start_time": "2021-09-07T08:00:27.967Z"
   },
   {
    "duration": 9,
    "start_time": "2021-09-07T08:00:27.984Z"
   },
   {
    "duration": 26,
    "start_time": "2021-09-07T08:00:27.995Z"
   },
   {
    "duration": 26,
    "start_time": "2021-09-07T08:00:28.024Z"
   },
   {
    "duration": 43,
    "start_time": "2021-09-07T08:00:28.053Z"
   },
   {
    "duration": 14,
    "start_time": "2021-09-07T08:00:28.099Z"
   },
   {
    "duration": 29,
    "start_time": "2021-09-07T08:00:28.115Z"
   },
   {
    "duration": 53,
    "start_time": "2021-09-07T08:00:28.147Z"
   },
   {
    "duration": 29,
    "start_time": "2021-09-07T08:00:28.202Z"
   },
   {
    "duration": 232,
    "start_time": "2021-09-07T08:00:28.234Z"
   },
   {
    "duration": 517,
    "start_time": "2021-09-07T08:00:28.468Z"
   },
   {
    "duration": 10,
    "start_time": "2021-09-07T08:00:28.988Z"
   },
   {
    "duration": 611,
    "start_time": "2021-09-07T08:00:29.001Z"
   },
   {
    "duration": 25,
    "start_time": "2021-09-07T08:00:43.510Z"
   },
   {
    "duration": 518,
    "start_time": "2021-09-07T08:00:52.761Z"
   },
   {
    "duration": 21,
    "start_time": "2021-09-07T08:01:37.852Z"
   },
   {
    "duration": 9,
    "start_time": "2021-09-07T08:01:51.270Z"
   },
   {
    "duration": 375,
    "start_time": "2021-09-07T08:06:31.151Z"
   },
   {
    "duration": 1816,
    "start_time": "2021-09-07T08:06:37.795Z"
   },
   {
    "duration": 51,
    "start_time": "2021-09-07T08:06:39.613Z"
   },
   {
    "duration": 10,
    "start_time": "2021-09-07T08:06:39.667Z"
   },
   {
    "duration": 23,
    "start_time": "2021-09-07T08:06:39.680Z"
   },
   {
    "duration": 28,
    "start_time": "2021-09-07T08:06:39.705Z"
   },
   {
    "duration": 48,
    "start_time": "2021-09-07T08:06:39.735Z"
   },
   {
    "duration": 31,
    "start_time": "2021-09-07T08:06:39.785Z"
   },
   {
    "duration": 13,
    "start_time": "2021-09-07T08:06:39.820Z"
   },
   {
    "duration": 19,
    "start_time": "2021-09-07T08:06:39.836Z"
   },
   {
    "duration": 48,
    "start_time": "2021-09-07T08:06:39.858Z"
   },
   {
    "duration": 21,
    "start_time": "2021-09-07T08:06:39.908Z"
   },
   {
    "duration": 14,
    "start_time": "2021-09-07T08:06:39.931Z"
   },
   {
    "duration": 347,
    "start_time": "2021-09-07T08:06:39.947Z"
   },
   {
    "duration": 9,
    "start_time": "2021-09-07T08:06:40.296Z"
   },
   {
    "duration": 9,
    "start_time": "2021-09-07T08:06:40.308Z"
   },
   {
    "duration": 128,
    "start_time": "2021-09-07T08:06:40.319Z"
   },
   {
    "duration": 9,
    "start_time": "2021-09-07T08:06:40.450Z"
   },
   {
    "duration": 21,
    "start_time": "2021-09-07T08:06:40.462Z"
   },
   {
    "duration": 320,
    "start_time": "2021-09-07T08:06:40.485Z"
   },
   {
    "duration": 11,
    "start_time": "2021-09-07T08:06:40.808Z"
   },
   {
    "duration": 340,
    "start_time": "2021-09-07T08:06:40.821Z"
   },
   {
    "duration": 276,
    "start_time": "2021-09-07T08:06:41.163Z"
   },
   {
    "duration": 21,
    "start_time": "2021-09-07T08:06:41.444Z"
   },
   {
    "duration": 28,
    "start_time": "2021-09-07T08:06:41.468Z"
   },
   {
    "duration": 1115,
    "start_time": "2021-09-07T08:06:41.499Z"
   },
   {
    "duration": 233,
    "start_time": "2021-09-07T08:06:42.617Z"
   },
   {
    "duration": 30,
    "start_time": "2021-09-07T08:06:42.852Z"
   },
   {
    "duration": 13,
    "start_time": "2021-09-07T08:06:42.884Z"
   },
   {
    "duration": 339,
    "start_time": "2021-09-07T08:06:42.900Z"
   },
   {
    "duration": 837,
    "start_time": "2021-09-07T08:06:43.242Z"
   },
   {
    "duration": 16,
    "start_time": "2021-09-07T08:06:44.081Z"
   },
   {
    "duration": 13,
    "start_time": "2021-09-07T08:06:44.099Z"
   },
   {
    "duration": 25,
    "start_time": "2021-09-07T08:06:44.114Z"
   },
   {
    "duration": 9,
    "start_time": "2021-09-07T08:06:44.142Z"
   },
   {
    "duration": 47,
    "start_time": "2021-09-07T08:06:44.153Z"
   },
   {
    "duration": 29,
    "start_time": "2021-09-07T08:06:44.202Z"
   },
   {
    "duration": 17,
    "start_time": "2021-09-07T08:06:44.233Z"
   },
   {
    "duration": 42,
    "start_time": "2021-09-07T08:06:44.252Z"
   },
   {
    "duration": 34,
    "start_time": "2021-09-07T08:06:44.297Z"
   },
   {
    "duration": 56,
    "start_time": "2021-09-07T08:06:44.333Z"
   },
   {
    "duration": 26,
    "start_time": "2021-09-07T08:06:44.392Z"
   },
   {
    "duration": 248,
    "start_time": "2021-09-07T08:06:44.420Z"
   },
   {
    "duration": 515,
    "start_time": "2021-09-07T08:06:44.670Z"
   },
   {
    "duration": 7,
    "start_time": "2021-09-07T08:06:45.187Z"
   },
   {
    "duration": 755,
    "start_time": "2021-09-07T08:06:45.196Z"
   },
   {
    "duration": 27,
    "start_time": "2021-09-07T08:31:10.007Z"
   },
   {
    "duration": 31,
    "start_time": "2021-09-07T08:32:46.729Z"
   },
   {
    "duration": 1094,
    "start_time": "2021-09-07T08:33:07.355Z"
   },
   {
    "duration": -1344,
    "start_time": "2021-09-07T08:33:09.795Z"
   },
   {
    "duration": 2320,
    "start_time": "2021-09-07T08:33:20.274Z"
   },
   {
    "duration": 58,
    "start_time": "2021-09-07T08:33:22.596Z"
   },
   {
    "duration": 14,
    "start_time": "2021-09-07T08:33:22.657Z"
   },
   {
    "duration": 33,
    "start_time": "2021-09-07T08:33:22.673Z"
   },
   {
    "duration": 37,
    "start_time": "2021-09-07T08:33:22.708Z"
   },
   {
    "duration": 48,
    "start_time": "2021-09-07T08:33:22.748Z"
   },
   {
    "duration": 31,
    "start_time": "2021-09-07T08:33:22.799Z"
   },
   {
    "duration": 14,
    "start_time": "2021-09-07T08:33:22.834Z"
   },
   {
    "duration": 43,
    "start_time": "2021-09-07T08:33:22.850Z"
   },
   {
    "duration": 25,
    "start_time": "2021-09-07T08:33:22.895Z"
   },
   {
    "duration": 27,
    "start_time": "2021-09-07T08:33:22.922Z"
   },
   {
    "duration": 30,
    "start_time": "2021-09-07T08:33:22.952Z"
   },
   {
    "duration": 300,
    "start_time": "2021-09-07T08:33:22.985Z"
   },
   {
    "duration": 7,
    "start_time": "2021-09-07T08:33:23.288Z"
   },
   {
    "duration": 16,
    "start_time": "2021-09-07T08:33:23.297Z"
   },
   {
    "duration": 126,
    "start_time": "2021-09-07T08:33:23.315Z"
   },
   {
    "duration": 10,
    "start_time": "2021-09-07T08:33:23.443Z"
   },
   {
    "duration": 10,
    "start_time": "2021-09-07T08:33:23.455Z"
   },
   {
    "duration": 320,
    "start_time": "2021-09-07T08:33:23.468Z"
   },
   {
    "duration": 11,
    "start_time": "2021-09-07T08:33:23.791Z"
   },
   {
    "duration": 336,
    "start_time": "2021-09-07T08:33:23.804Z"
   },
   {
    "duration": 283,
    "start_time": "2021-09-07T08:33:24.142Z"
   },
   {
    "duration": 21,
    "start_time": "2021-09-07T08:33:24.430Z"
   },
   {
    "duration": 31,
    "start_time": "2021-09-07T08:33:24.453Z"
   },
   {
    "duration": 947,
    "start_time": "2021-09-07T08:33:24.487Z"
   },
   {
    "duration": 221,
    "start_time": "2021-09-07T08:33:25.436Z"
   },
   {
    "duration": 29,
    "start_time": "2021-09-07T08:33:25.659Z"
   },
   {
    "duration": 12,
    "start_time": "2021-09-07T08:33:25.690Z"
   },
   {
    "duration": 342,
    "start_time": "2021-09-07T08:33:25.704Z"
   },
   {
    "duration": 1435,
    "start_time": "2021-09-07T08:33:26.048Z"
   },
   {
    "duration": 16,
    "start_time": "2021-09-07T08:33:27.485Z"
   },
   {
    "duration": 11,
    "start_time": "2021-09-07T08:33:27.503Z"
   },
   {
    "duration": 21,
    "start_time": "2021-09-07T08:33:27.516Z"
   },
   {
    "duration": 9,
    "start_time": "2021-09-07T08:33:27.539Z"
   },
   {
    "duration": 55,
    "start_time": "2021-09-07T08:33:27.550Z"
   },
   {
    "duration": 33,
    "start_time": "2021-09-07T08:33:27.607Z"
   },
   {
    "duration": 8,
    "start_time": "2021-09-07T08:33:27.642Z"
   },
   {
    "duration": 41,
    "start_time": "2021-09-07T08:33:27.653Z"
   },
   {
    "duration": 25,
    "start_time": "2021-09-07T08:33:27.697Z"
   },
   {
    "duration": 66,
    "start_time": "2021-09-07T08:33:27.724Z"
   },
   {
    "duration": 32,
    "start_time": "2021-09-07T08:33:27.792Z"
   },
   {
    "duration": 26,
    "start_time": "2021-09-07T08:33:27.827Z"
   },
   {
    "duration": 257,
    "start_time": "2021-09-07T08:33:27.855Z"
   },
   {
    "duration": 491,
    "start_time": "2021-09-07T08:33:28.115Z"
   },
   {
    "duration": 7,
    "start_time": "2021-09-07T08:33:28.608Z"
   },
   {
    "duration": 622,
    "start_time": "2021-09-07T08:33:28.617Z"
   },
   {
    "duration": 20,
    "start_time": "2021-09-07T08:34:38.522Z"
   },
   {
    "duration": 10,
    "start_time": "2021-09-07T08:35:17.515Z"
   },
   {
    "duration": 21,
    "start_time": "2021-09-07T08:36:14.847Z"
   },
   {
    "duration": 27,
    "start_time": "2021-09-07T08:36:32.640Z"
   },
   {
    "duration": 25,
    "start_time": "2021-09-07T08:37:36.629Z"
   },
   {
    "duration": 67,
    "start_time": "2021-09-07T08:38:04.719Z"
   },
   {
    "duration": 35,
    "start_time": "2021-09-07T08:38:06.611Z"
   },
   {
    "duration": 1272,
    "start_time": "2021-09-07T08:38:15.436Z"
   },
   {
    "duration": 1980,
    "start_time": "2021-09-07T08:38:26.967Z"
   },
   {
    "duration": 55,
    "start_time": "2021-09-07T08:38:28.950Z"
   },
   {
    "duration": 13,
    "start_time": "2021-09-07T08:38:29.008Z"
   },
   {
    "duration": 23,
    "start_time": "2021-09-07T08:38:29.024Z"
   },
   {
    "duration": 52,
    "start_time": "2021-09-07T08:38:29.050Z"
   },
   {
    "duration": 34,
    "start_time": "2021-09-07T08:38:29.105Z"
   },
   {
    "duration": 53,
    "start_time": "2021-09-07T08:38:29.141Z"
   },
   {
    "duration": 16,
    "start_time": "2021-09-07T08:38:29.197Z"
   },
   {
    "duration": 18,
    "start_time": "2021-09-07T08:38:29.217Z"
   },
   {
    "duration": 64,
    "start_time": "2021-09-07T08:38:29.238Z"
   },
   {
    "duration": 24,
    "start_time": "2021-09-07T08:38:29.304Z"
   },
   {
    "duration": 13,
    "start_time": "2021-09-07T08:38:29.331Z"
   },
   {
    "duration": 319,
    "start_time": "2021-09-07T08:38:29.346Z"
   },
   {
    "duration": 20,
    "start_time": "2021-09-07T08:38:29.668Z"
   },
   {
    "duration": 11,
    "start_time": "2021-09-07T08:38:29.691Z"
   },
   {
    "duration": 122,
    "start_time": "2021-09-07T08:38:29.705Z"
   },
   {
    "duration": 12,
    "start_time": "2021-09-07T08:38:29.830Z"
   },
   {
    "duration": 6,
    "start_time": "2021-09-07T08:38:29.844Z"
   },
   {
    "duration": 337,
    "start_time": "2021-09-07T08:38:29.853Z"
   },
   {
    "duration": 13,
    "start_time": "2021-09-07T08:38:30.193Z"
   },
   {
    "duration": 341,
    "start_time": "2021-09-07T08:38:30.209Z"
   },
   {
    "duration": 283,
    "start_time": "2021-09-07T08:38:30.553Z"
   },
   {
    "duration": 18,
    "start_time": "2021-09-07T08:38:30.843Z"
   },
   {
    "duration": 26,
    "start_time": "2021-09-07T08:38:30.864Z"
   },
   {
    "duration": 971,
    "start_time": "2021-09-07T08:38:30.892Z"
   },
   {
    "duration": 211,
    "start_time": "2021-09-07T08:38:31.866Z"
   },
   {
    "duration": 18,
    "start_time": "2021-09-07T08:38:32.079Z"
   },
   {
    "duration": 14,
    "start_time": "2021-09-07T08:38:32.099Z"
   },
   {
    "duration": 339,
    "start_time": "2021-09-07T08:38:32.115Z"
   },
   {
    "duration": 866,
    "start_time": "2021-09-07T08:38:32.457Z"
   },
   {
    "duration": 15,
    "start_time": "2021-09-07T08:38:33.325Z"
   },
   {
    "duration": 24,
    "start_time": "2021-09-07T08:38:33.342Z"
   },
   {
    "duration": 44,
    "start_time": "2021-09-07T08:38:33.368Z"
   },
   {
    "duration": 26,
    "start_time": "2021-09-07T08:38:33.415Z"
   },
   {
    "duration": 15,
    "start_time": "2021-09-07T08:38:33.443Z"
   },
   {
    "duration": 30,
    "start_time": "2021-09-07T08:38:33.460Z"
   },
   {
    "duration": 24,
    "start_time": "2021-09-07T08:38:33.492Z"
   },
   {
    "duration": 22,
    "start_time": "2021-09-07T08:38:33.518Z"
   },
   {
    "duration": 54,
    "start_time": "2021-09-07T08:38:33.542Z"
   },
   {
    "duration": 558,
    "start_time": "2021-09-07T08:38:33.598Z"
   },
   {
    "duration": -1268,
    "start_time": "2021-09-07T08:38:35.427Z"
   },
   {
    "duration": -1281,
    "start_time": "2021-09-07T08:38:35.442Z"
   },
   {
    "duration": -1293,
    "start_time": "2021-09-07T08:38:35.455Z"
   },
   {
    "duration": -1309,
    "start_time": "2021-09-07T08:38:35.472Z"
   },
   {
    "duration": 341,
    "start_time": "2021-09-07T08:38:43.700Z"
   },
   {
    "duration": 1071,
    "start_time": "2021-09-07T08:42:25.931Z"
   },
   {
    "duration": 790,
    "start_time": "2021-09-07T08:42:42.247Z"
   },
   {
    "duration": 1384,
    "start_time": "2021-09-07T08:43:23.109Z"
   },
   {
    "duration": 1006,
    "start_time": "2021-09-07T08:43:33.762Z"
   },
   {
    "duration": 23,
    "start_time": "2021-09-07T08:44:05.870Z"
   },
   {
    "duration": 28,
    "start_time": "2021-09-07T08:44:09.648Z"
   },
   {
    "duration": 402,
    "start_time": "2021-09-07T08:44:13.833Z"
   },
   {
    "duration": 12,
    "start_time": "2021-09-07T08:44:18.331Z"
   },
   {
    "duration": 3,
    "start_time": "2021-09-07T08:44:33.953Z"
   },
   {
    "duration": 13,
    "start_time": "2021-09-07T08:44:38.572Z"
   },
   {
    "duration": 12,
    "start_time": "2021-09-07T08:52:13.187Z"
   },
   {
    "duration": 14,
    "start_time": "2021-09-07T08:52:16.599Z"
   },
   {
    "duration": 12,
    "start_time": "2021-09-07T08:52:45.168Z"
   },
   {
    "duration": 27,
    "start_time": "2021-09-07T08:52:52.057Z"
   },
   {
    "duration": 8,
    "start_time": "2021-09-07T08:52:56.366Z"
   },
   {
    "duration": 9,
    "start_time": "2021-09-07T08:52:57.142Z"
   },
   {
    "duration": 478,
    "start_time": "2021-09-07T08:53:09.210Z"
   },
   {
    "duration": 10,
    "start_time": "2021-09-07T08:53:09.790Z"
   },
   {
    "duration": 9,
    "start_time": "2021-09-07T08:53:36.407Z"
   },
   {
    "duration": 9,
    "start_time": "2021-09-07T08:53:39.178Z"
   },
   {
    "duration": 9286,
    "start_time": "2021-09-07T08:53:55.450Z"
   },
   {
    "duration": 8,
    "start_time": "2021-09-07T09:42:34.330Z"
   },
   {
    "duration": 9,
    "start_time": "2021-09-07T09:42:37.626Z"
   },
   {
    "duration": -1209,
    "start_time": "2021-09-07T09:42:55.488Z"
   },
   {
    "duration": 2017,
    "start_time": "2021-09-07T09:43:00.582Z"
   },
   {
    "duration": 55,
    "start_time": "2021-09-07T09:43:02.602Z"
   },
   {
    "duration": 22,
    "start_time": "2021-09-07T09:43:02.663Z"
   },
   {
    "duration": 31,
    "start_time": "2021-09-07T09:43:02.688Z"
   },
   {
    "duration": 75,
    "start_time": "2021-09-07T09:43:02.722Z"
   },
   {
    "duration": 39,
    "start_time": "2021-09-07T09:43:02.800Z"
   },
   {
    "duration": 55,
    "start_time": "2021-09-07T09:43:02.844Z"
   },
   {
    "duration": 22,
    "start_time": "2021-09-07T09:43:02.903Z"
   },
   {
    "duration": 20,
    "start_time": "2021-09-07T09:43:02.927Z"
   },
   {
    "duration": 48,
    "start_time": "2021-09-07T09:43:02.949Z"
   },
   {
    "duration": 20,
    "start_time": "2021-09-07T09:43:03.000Z"
   },
   {
    "duration": 35,
    "start_time": "2021-09-07T09:43:03.022Z"
   },
   {
    "duration": 302,
    "start_time": "2021-09-07T09:43:03.059Z"
   },
   {
    "duration": 20,
    "start_time": "2021-09-07T09:43:03.364Z"
   },
   {
    "duration": 12,
    "start_time": "2021-09-07T09:43:03.386Z"
   },
   {
    "duration": 112,
    "start_time": "2021-09-07T09:43:03.400Z"
   },
   {
    "duration": 10,
    "start_time": "2021-09-07T09:43:03.515Z"
   },
   {
    "duration": 7,
    "start_time": "2021-09-07T09:43:03.527Z"
   },
   {
    "duration": 325,
    "start_time": "2021-09-07T09:43:03.537Z"
   },
   {
    "duration": 20,
    "start_time": "2021-09-07T09:43:03.865Z"
   },
   {
    "duration": 326,
    "start_time": "2021-09-07T09:43:03.887Z"
   },
   {
    "duration": 292,
    "start_time": "2021-09-07T09:43:04.218Z"
   },
   {
    "duration": 20,
    "start_time": "2021-09-07T09:43:04.513Z"
   },
   {
    "duration": 13,
    "start_time": "2021-09-07T09:43:04.535Z"
   },
   {
    "duration": 981,
    "start_time": "2021-09-07T09:43:04.551Z"
   },
   {
    "duration": 222,
    "start_time": "2021-09-07T09:43:05.535Z"
   },
   {
    "duration": 29,
    "start_time": "2021-09-07T09:43:05.759Z"
   },
   {
    "duration": 12,
    "start_time": "2021-09-07T09:43:05.790Z"
   },
   {
    "duration": 512,
    "start_time": "2021-09-07T09:43:05.805Z"
   },
   {
    "duration": 1101,
    "start_time": "2021-09-07T09:43:06.319Z"
   },
   {
    "duration": 15,
    "start_time": "2021-09-07T09:43:07.423Z"
   },
   {
    "duration": 57,
    "start_time": "2021-09-07T09:43:07.440Z"
   },
   {
    "duration": 27,
    "start_time": "2021-09-07T09:43:07.499Z"
   },
   {
    "duration": 37,
    "start_time": "2021-09-07T09:43:07.528Z"
   },
   {
    "duration": 27,
    "start_time": "2021-09-07T09:43:07.568Z"
   },
   {
    "duration": 15,
    "start_time": "2021-09-07T09:43:07.597Z"
   },
   {
    "duration": 14027,
    "start_time": "2021-09-07T09:43:07.615Z"
   },
   {
    "duration": -1247,
    "start_time": "2021-09-07T09:43:22.892Z"
   },
   {
    "duration": -1257,
    "start_time": "2021-09-07T09:43:22.903Z"
   },
   {
    "duration": -1265,
    "start_time": "2021-09-07T09:43:22.913Z"
   },
   {
    "duration": -1269,
    "start_time": "2021-09-07T09:43:22.919Z"
   },
   {
    "duration": -1273,
    "start_time": "2021-09-07T09:43:22.925Z"
   },
   {
    "duration": -1278,
    "start_time": "2021-09-07T09:43:22.931Z"
   },
   {
    "duration": -1282,
    "start_time": "2021-09-07T09:43:22.937Z"
   },
   {
    "duration": 374,
    "start_time": "2021-09-07T09:45:53.348Z"
   },
   {
    "duration": 2044,
    "start_time": "2021-09-07T09:46:52.023Z"
   },
   {
    "duration": 59,
    "start_time": "2021-09-07T09:46:54.070Z"
   },
   {
    "duration": 14,
    "start_time": "2021-09-07T09:46:54.132Z"
   },
   {
    "duration": 45,
    "start_time": "2021-09-07T09:46:54.149Z"
   },
   {
    "duration": 40,
    "start_time": "2021-09-07T09:46:54.197Z"
   },
   {
    "duration": 43,
    "start_time": "2021-09-07T09:46:54.240Z"
   },
   {
    "duration": 35,
    "start_time": "2021-09-07T09:46:54.286Z"
   },
   {
    "duration": 17,
    "start_time": "2021-09-07T09:46:54.327Z"
   },
   {
    "duration": 51,
    "start_time": "2021-09-07T09:46:54.348Z"
   },
   {
    "duration": 30,
    "start_time": "2021-09-07T09:46:54.401Z"
   },
   {
    "duration": 20,
    "start_time": "2021-09-07T09:46:54.433Z"
   },
   {
    "duration": 15,
    "start_time": "2021-09-07T09:46:54.483Z"
   },
   {
    "duration": 329,
    "start_time": "2021-09-07T09:46:54.501Z"
   },
   {
    "duration": 11,
    "start_time": "2021-09-07T09:46:54.834Z"
   },
   {
    "duration": 37,
    "start_time": "2021-09-07T09:46:54.847Z"
   },
   {
    "duration": 130,
    "start_time": "2021-09-07T09:46:54.887Z"
   },
   {
    "duration": 12,
    "start_time": "2021-09-07T09:46:55.019Z"
   },
   {
    "duration": 6,
    "start_time": "2021-09-07T09:46:55.034Z"
   },
   {
    "duration": 371,
    "start_time": "2021-09-07T09:46:55.043Z"
   },
   {
    "duration": 12,
    "start_time": "2021-09-07T09:46:55.416Z"
   },
   {
    "duration": 348,
    "start_time": "2021-09-07T09:46:55.430Z"
   },
   {
    "duration": 369,
    "start_time": "2021-09-07T09:46:55.782Z"
   },
   {
    "duration": 34,
    "start_time": "2021-09-07T09:46:56.153Z"
   },
   {
    "duration": 14,
    "start_time": "2021-09-07T09:46:56.190Z"
   },
   {
    "duration": 967,
    "start_time": "2021-09-07T09:46:56.206Z"
   },
   {
    "duration": 215,
    "start_time": "2021-09-07T09:46:57.183Z"
   },
   {
    "duration": 18,
    "start_time": "2021-09-07T09:46:57.401Z"
   },
   {
    "duration": 18,
    "start_time": "2021-09-07T09:46:57.421Z"
   },
   {
    "duration": 349,
    "start_time": "2021-09-07T09:46:57.442Z"
   },
   {
    "duration": 1063,
    "start_time": "2021-09-07T09:46:57.793Z"
   },
   {
    "duration": 7,
    "start_time": "2021-09-07T09:46:58.858Z"
   },
   {
    "duration": 48,
    "start_time": "2021-09-07T09:46:58.867Z"
   },
   {
    "duration": 17,
    "start_time": "2021-09-07T09:46:58.917Z"
   },
   {
    "duration": 14,
    "start_time": "2021-09-07T09:46:58.936Z"
   },
   {
    "duration": 3,
    "start_time": "2021-09-07T09:46:58.952Z"
   },
   {
    "duration": 26,
    "start_time": "2021-09-07T09:46:58.958Z"
   },
   {
    "duration": 25,
    "start_time": "2021-09-07T09:46:58.986Z"
   },
   {
    "duration": 31,
    "start_time": "2021-09-07T09:46:59.014Z"
   },
   {
    "duration": 59,
    "start_time": "2021-09-07T09:46:59.047Z"
   },
   {
    "duration": 24,
    "start_time": "2021-09-07T09:46:59.108Z"
   },
   {
    "duration": 251,
    "start_time": "2021-09-07T09:46:59.134Z"
   },
   {
    "duration": 515,
    "start_time": "2021-09-07T09:46:59.387Z"
   },
   {
    "duration": 6,
    "start_time": "2021-09-07T09:46:59.904Z"
   },
   {
    "duration": 780,
    "start_time": "2021-09-07T09:46:59.912Z"
   },
   {
    "duration": 11,
    "start_time": "2021-09-07T09:51:40.747Z"
   },
   {
    "duration": 10,
    "start_time": "2021-09-07T09:51:51.983Z"
   },
   {
    "duration": 314,
    "start_time": "2021-09-07T09:53:14.703Z"
   },
   {
    "duration": 209,
    "start_time": "2021-09-07T09:54:57.807Z"
   },
   {
    "duration": 193,
    "start_time": "2021-09-07T09:57:05.499Z"
   },
   {
    "duration": 261,
    "start_time": "2021-09-07T09:58:30.588Z"
   },
   {
    "duration": 30,
    "start_time": "2021-09-07T09:58:38.419Z"
   },
   {
    "duration": 245,
    "start_time": "2021-09-07T09:58:58.154Z"
   },
   {
    "duration": 32,
    "start_time": "2021-09-07T09:59:01.206Z"
   },
   {
    "duration": 234,
    "start_time": "2021-09-07T10:00:03.225Z"
   },
   {
    "duration": 28,
    "start_time": "2021-09-07T10:00:07.982Z"
   },
   {
    "duration": 26,
    "start_time": "2021-09-07T10:00:19.117Z"
   },
   {
    "duration": 249,
    "start_time": "2021-09-07T10:00:33.896Z"
   },
   {
    "duration": 24,
    "start_time": "2021-09-07T10:00:40.846Z"
   },
   {
    "duration": 36,
    "start_time": "2021-09-07T10:02:20.089Z"
   },
   {
    "duration": 17,
    "start_time": "2021-09-07T10:02:21.307Z"
   },
   {
    "duration": 388,
    "start_time": "2021-09-07T10:02:22.636Z"
   },
   {
    "duration": 31,
    "start_time": "2021-09-07T10:02:44.020Z"
   },
   {
    "duration": 250,
    "start_time": "2021-09-07T10:05:18.340Z"
   },
   {
    "duration": 32,
    "start_time": "2021-09-07T10:05:22.549Z"
   },
   {
    "duration": 15,
    "start_time": "2021-09-07T10:05:23.543Z"
   },
   {
    "duration": 340,
    "start_time": "2021-09-07T10:05:25.708Z"
   },
   {
    "duration": 24,
    "start_time": "2021-09-07T10:07:12.861Z"
   },
   {
    "duration": 4,
    "start_time": "2021-09-07T10:07:22.139Z"
   },
   {
    "duration": 11,
    "start_time": "2021-09-07T10:07:26.884Z"
   },
   {
    "duration": 322,
    "start_time": "2021-09-07T10:08:09.212Z"
   },
   {
    "duration": 13,
    "start_time": "2021-09-07T10:09:45.094Z"
   },
   {
    "duration": 8,
    "start_time": "2021-09-07T10:10:17.079Z"
   },
   {
    "duration": 39,
    "start_time": "2021-09-07T10:10:39.030Z"
   },
   {
    "duration": 27,
    "start_time": "2021-09-07T10:10:49.264Z"
   },
   {
    "duration": 8,
    "start_time": "2021-09-07T10:15:34.617Z"
   },
   {
    "duration": 18,
    "start_time": "2021-09-07T10:15:41.098Z"
   },
   {
    "duration": 18,
    "start_time": "2021-09-07T10:16:13.101Z"
   },
   {
    "duration": 1951,
    "start_time": "2021-09-07T10:19:51.907Z"
   },
   {
    "duration": 57,
    "start_time": "2021-09-07T10:19:53.860Z"
   },
   {
    "duration": 13,
    "start_time": "2021-09-07T10:19:53.923Z"
   },
   {
    "duration": 46,
    "start_time": "2021-09-07T10:19:53.938Z"
   },
   {
    "duration": 29,
    "start_time": "2021-09-07T10:19:53.987Z"
   },
   {
    "duration": 30,
    "start_time": "2021-09-07T10:19:54.018Z"
   },
   {
    "duration": 53,
    "start_time": "2021-09-07T10:19:54.051Z"
   },
   {
    "duration": 15,
    "start_time": "2021-09-07T10:19:54.107Z"
   },
   {
    "duration": 25,
    "start_time": "2021-09-07T10:19:54.124Z"
   },
   {
    "duration": 41,
    "start_time": "2021-09-07T10:19:54.151Z"
   },
   {
    "duration": 22,
    "start_time": "2021-09-07T10:19:54.195Z"
   },
   {
    "duration": 14,
    "start_time": "2021-09-07T10:19:54.219Z"
   },
   {
    "duration": 415,
    "start_time": "2021-09-07T10:19:54.236Z"
   },
   {
    "duration": 9,
    "start_time": "2021-09-07T10:19:54.654Z"
   },
   {
    "duration": 21,
    "start_time": "2021-09-07T10:19:54.665Z"
   },
   {
    "duration": 125,
    "start_time": "2021-09-07T10:19:54.688Z"
   },
   {
    "duration": 9,
    "start_time": "2021-09-07T10:19:54.816Z"
   },
   {
    "duration": 4,
    "start_time": "2021-09-07T10:19:54.828Z"
   },
   {
    "duration": 332,
    "start_time": "2021-09-07T10:19:54.834Z"
   },
   {
    "duration": 20,
    "start_time": "2021-09-07T10:19:55.168Z"
   },
   {
    "duration": 332,
    "start_time": "2021-09-07T10:19:55.191Z"
   },
   {
    "duration": 275,
    "start_time": "2021-09-07T10:19:55.527Z"
   },
   {
    "duration": 20,
    "start_time": "2021-09-07T10:19:55.805Z"
   },
   {
    "duration": 15,
    "start_time": "2021-09-07T10:19:55.827Z"
   },
   {
    "duration": 954,
    "start_time": "2021-09-07T10:19:55.844Z"
   },
   {
    "duration": 158,
    "start_time": "2021-09-07T10:19:56.801Z"
   },
   {
    "duration": 21,
    "start_time": "2021-09-07T10:19:56.961Z"
   },
   {
    "duration": 9,
    "start_time": "2021-09-07T10:19:56.984Z"
   },
   {
    "duration": 349,
    "start_time": "2021-09-07T10:19:56.996Z"
   },
   {
    "duration": 1174,
    "start_time": "2021-09-07T10:19:57.348Z"
   },
   {
    "duration": 11,
    "start_time": "2021-09-07T10:19:58.524Z"
   },
   {
    "duration": 35,
    "start_time": "2021-09-07T10:19:58.537Z"
   },
   {
    "duration": 488,
    "start_time": "2021-09-07T10:19:58.574Z"
   },
   {
    "duration": -1220,
    "start_time": "2021-09-07T10:20:00.284Z"
   },
   {
    "duration": -1228,
    "start_time": "2021-09-07T10:20:00.293Z"
   },
   {
    "duration": -1231,
    "start_time": "2021-09-07T10:20:00.298Z"
   },
   {
    "duration": -1239,
    "start_time": "2021-09-07T10:20:00.307Z"
   },
   {
    "duration": -1244,
    "start_time": "2021-09-07T10:20:00.313Z"
   },
   {
    "duration": -1248,
    "start_time": "2021-09-07T10:20:00.319Z"
   },
   {
    "duration": 21,
    "start_time": "2021-09-07T10:20:17.788Z"
   },
   {
    "duration": 11,
    "start_time": "2021-09-07T10:20:21.256Z"
   },
   {
    "duration": 20,
    "start_time": "2021-09-07T10:20:21.909Z"
   },
   {
    "duration": 341,
    "start_time": "2021-09-07T10:20:27.985Z"
   },
   {
    "duration": 1200,
    "start_time": "2021-09-07T10:20:31.542Z"
   },
   {
    "duration": 12,
    "start_time": "2021-09-07T10:20:34.144Z"
   },
   {
    "duration": 25,
    "start_time": "2021-09-07T10:20:35.023Z"
   },
   {
    "duration": 24,
    "start_time": "2021-09-07T10:20:54.194Z"
   },
   {
    "duration": 1914,
    "start_time": "2021-09-07T10:21:17.021Z"
   },
   {
    "duration": 52,
    "start_time": "2021-09-07T10:21:18.938Z"
   },
   {
    "duration": 11,
    "start_time": "2021-09-07T10:21:18.992Z"
   },
   {
    "duration": 24,
    "start_time": "2021-09-07T10:21:19.005Z"
   },
   {
    "duration": 27,
    "start_time": "2021-09-07T10:21:19.031Z"
   },
   {
    "duration": 47,
    "start_time": "2021-09-07T10:21:19.061Z"
   },
   {
    "duration": 30,
    "start_time": "2021-09-07T10:21:19.111Z"
   },
   {
    "duration": 40,
    "start_time": "2021-09-07T10:21:19.145Z"
   },
   {
    "duration": 14,
    "start_time": "2021-09-07T10:21:19.188Z"
   },
   {
    "duration": 27,
    "start_time": "2021-09-07T10:21:19.205Z"
   },
   {
    "duration": 18,
    "start_time": "2021-09-07T10:21:19.235Z"
   },
   {
    "duration": 13,
    "start_time": "2021-09-07T10:21:19.283Z"
   },
   {
    "duration": 433,
    "start_time": "2021-09-07T10:21:19.298Z"
   },
   {
    "duration": 8,
    "start_time": "2021-09-07T10:21:19.733Z"
   },
   {
    "duration": 10,
    "start_time": "2021-09-07T10:21:19.744Z"
   },
   {
    "duration": 139,
    "start_time": "2021-09-07T10:21:19.757Z"
   },
   {
    "duration": 11,
    "start_time": "2021-09-07T10:21:19.898Z"
   },
   {
    "duration": 4,
    "start_time": "2021-09-07T10:21:19.912Z"
   },
   {
    "duration": 347,
    "start_time": "2021-09-07T10:21:19.919Z"
   },
   {
    "duration": 16,
    "start_time": "2021-09-07T10:21:20.268Z"
   },
   {
    "duration": 333,
    "start_time": "2021-09-07T10:21:20.286Z"
   },
   {
    "duration": 269,
    "start_time": "2021-09-07T10:21:20.622Z"
   },
   {
    "duration": 22,
    "start_time": "2021-09-07T10:21:20.896Z"
   },
   {
    "duration": 13,
    "start_time": "2021-09-07T10:21:20.921Z"
   },
   {
    "duration": 1110,
    "start_time": "2021-09-07T10:21:20.937Z"
   },
   {
    "duration": 160,
    "start_time": "2021-09-07T10:21:22.049Z"
   },
   {
    "duration": 15,
    "start_time": "2021-09-07T10:21:22.211Z"
   },
   {
    "duration": 11,
    "start_time": "2021-09-07T10:21:22.228Z"
   },
   {
    "duration": 357,
    "start_time": "2021-09-07T10:21:22.241Z"
   },
   {
    "duration": 663,
    "start_time": "2021-09-07T10:21:22.600Z"
   },
   {
    "duration": 11,
    "start_time": "2021-09-07T10:21:23.266Z"
   },
   {
    "duration": 26,
    "start_time": "2021-09-07T10:21:23.279Z"
   },
   {
    "duration": 540,
    "start_time": "2021-09-07T10:21:23.307Z"
   },
   {
    "duration": -1220,
    "start_time": "2021-09-07T10:21:25.069Z"
   },
   {
    "duration": -1232,
    "start_time": "2021-09-07T10:21:25.083Z"
   },
   {
    "duration": -1240,
    "start_time": "2021-09-07T10:21:25.093Z"
   },
   {
    "duration": -1248,
    "start_time": "2021-09-07T10:21:25.102Z"
   },
   {
    "duration": -1251,
    "start_time": "2021-09-07T10:21:25.107Z"
   },
   {
    "duration": -1256,
    "start_time": "2021-09-07T10:21:25.113Z"
   },
   {
    "duration": 1598,
    "start_time": "2021-09-08T08:14:40.524Z"
   },
   {
    "duration": 53,
    "start_time": "2021-09-08T08:14:42.123Z"
   },
   {
    "duration": 10,
    "start_time": "2021-09-08T08:14:42.178Z"
   },
   {
    "duration": 59,
    "start_time": "2021-09-08T08:14:42.190Z"
   },
   {
    "duration": 54,
    "start_time": "2021-09-08T08:14:42.251Z"
   },
   {
    "duration": 49,
    "start_time": "2021-09-08T08:14:42.306Z"
   },
   {
    "duration": 23,
    "start_time": "2021-09-08T08:14:42.357Z"
   },
   {
    "duration": 15,
    "start_time": "2021-09-08T08:14:42.382Z"
   },
   {
    "duration": 20,
    "start_time": "2021-09-08T08:14:42.399Z"
   },
   {
    "duration": 43,
    "start_time": "2021-09-08T08:14:42.421Z"
   },
   {
    "duration": 14,
    "start_time": "2021-09-08T08:14:42.466Z"
   },
   {
    "duration": 14,
    "start_time": "2021-09-08T08:14:42.481Z"
   },
   {
    "duration": 217,
    "start_time": "2021-09-08T08:14:42.497Z"
   },
   {
    "duration": 6,
    "start_time": "2021-09-08T08:14:42.716Z"
   },
   {
    "duration": 24,
    "start_time": "2021-09-08T08:14:42.724Z"
   },
   {
    "duration": 78,
    "start_time": "2021-09-08T08:14:42.749Z"
   },
   {
    "duration": 12,
    "start_time": "2021-09-08T08:14:42.829Z"
   },
   {
    "duration": 7,
    "start_time": "2021-09-08T08:14:42.842Z"
   },
   {
    "duration": 229,
    "start_time": "2021-09-08T08:14:42.851Z"
   },
   {
    "duration": 7,
    "start_time": "2021-09-08T08:14:43.082Z"
   },
   {
    "duration": 234,
    "start_time": "2021-09-08T08:14:43.091Z"
   },
   {
    "duration": 209,
    "start_time": "2021-09-08T08:14:43.327Z"
   },
   {
    "duration": 15,
    "start_time": "2021-09-08T08:14:43.543Z"
   },
   {
    "duration": 10,
    "start_time": "2021-09-08T08:14:43.560Z"
   },
   {
    "duration": 697,
    "start_time": "2021-09-08T08:14:43.572Z"
   },
   {
    "duration": 108,
    "start_time": "2021-09-08T08:14:44.271Z"
   },
   {
    "duration": 14,
    "start_time": "2021-09-08T08:14:44.381Z"
   },
   {
    "duration": 7,
    "start_time": "2021-09-08T08:14:44.396Z"
   },
   {
    "duration": 250,
    "start_time": "2021-09-08T08:14:44.405Z"
   },
   {
    "duration": 1028,
    "start_time": "2021-09-08T08:14:44.657Z"
   },
   {
    "duration": 10,
    "start_time": "2021-09-08T08:14:45.686Z"
   },
   {
    "duration": 18,
    "start_time": "2021-09-08T08:14:45.697Z"
   },
   {
    "duration": 398,
    "start_time": "2021-09-08T08:14:45.717Z"
   },
   {
    "duration": -439,
    "start_time": "2021-09-08T08:14:46.556Z"
   },
   {
    "duration": -444,
    "start_time": "2021-09-08T08:14:46.562Z"
   },
   {
    "duration": -448,
    "start_time": "2021-09-08T08:14:46.568Z"
   },
   {
    "duration": -455,
    "start_time": "2021-09-08T08:14:46.576Z"
   },
   {
    "duration": -461,
    "start_time": "2021-09-08T08:14:46.583Z"
   },
   {
    "duration": -466,
    "start_time": "2021-09-08T08:14:46.589Z"
   },
   {
    "duration": 18,
    "start_time": "2021-09-08T08:15:15.495Z"
   },
   {
    "duration": -428,
    "start_time": "2021-09-08T08:15:24.062Z"
   },
   {
    "duration": -429,
    "start_time": "2021-09-08T08:15:33.416Z"
   },
   {
    "duration": 19,
    "start_time": "2021-09-08T08:15:34.526Z"
   },
   {
    "duration": 291,
    "start_time": "2021-09-08T08:15:38.506Z"
   },
   {
    "duration": 273,
    "start_time": "2021-09-08T08:18:45.127Z"
   },
   {
    "duration": 165,
    "start_time": "2021-09-08T08:19:03.496Z"
   },
   {
    "duration": 338,
    "start_time": "2021-09-08T08:22:07.880Z"
   },
   {
    "duration": 22,
    "start_time": "2021-09-08T08:22:14.066Z"
   },
   {
    "duration": 285,
    "start_time": "2021-09-08T08:22:39.186Z"
   },
   {
    "duration": 214,
    "start_time": "2021-09-08T08:23:03.116Z"
   },
   {
    "duration": 996,
    "start_time": "2021-09-08T08:24:49.073Z"
   },
   {
    "duration": 11,
    "start_time": "2021-09-08T08:25:14.494Z"
   },
   {
    "duration": 10,
    "start_time": "2021-09-08T08:25:31.715Z"
   },
   {
    "duration": 9,
    "start_time": "2021-09-08T08:25:46.248Z"
   },
   {
    "duration": 6,
    "start_time": "2021-09-08T08:26:10.145Z"
   },
   {
    "duration": 8,
    "start_time": "2021-09-08T08:26:25.179Z"
   },
   {
    "duration": 10,
    "start_time": "2021-09-08T08:26:34.121Z"
   },
   {
    "duration": 7,
    "start_time": "2021-09-08T08:26:41.273Z"
   },
   {
    "duration": 10,
    "start_time": "2021-09-08T08:26:46.526Z"
   },
   {
    "duration": 125,
    "start_time": "2021-09-08T08:26:49.196Z"
   },
   {
    "duration": 1607,
    "start_time": "2021-09-08T08:27:37.822Z"
   },
   {
    "duration": 50,
    "start_time": "2021-09-08T08:27:39.431Z"
   },
   {
    "duration": 9,
    "start_time": "2021-09-08T08:27:39.483Z"
   },
   {
    "duration": 17,
    "start_time": "2021-09-08T08:27:39.493Z"
   },
   {
    "duration": 37,
    "start_time": "2021-09-08T08:27:39.511Z"
   },
   {
    "duration": 21,
    "start_time": "2021-09-08T08:27:39.550Z"
   },
   {
    "duration": 21,
    "start_time": "2021-09-08T08:27:39.573Z"
   },
   {
    "duration": 10,
    "start_time": "2021-09-08T08:27:39.597Z"
   },
   {
    "duration": 34,
    "start_time": "2021-09-08T08:27:39.610Z"
   },
   {
    "duration": 24,
    "start_time": "2021-09-08T08:27:39.646Z"
   },
   {
    "duration": 15,
    "start_time": "2021-09-08T08:27:39.672Z"
   },
   {
    "duration": 14,
    "start_time": "2021-09-08T08:27:39.689Z"
   },
   {
    "duration": 204,
    "start_time": "2021-09-08T08:27:39.705Z"
   },
   {
    "duration": 6,
    "start_time": "2021-09-08T08:27:39.911Z"
   },
   {
    "duration": 22,
    "start_time": "2021-09-08T08:27:39.919Z"
   },
   {
    "duration": 66,
    "start_time": "2021-09-08T08:27:39.942Z"
   },
   {
    "duration": 7,
    "start_time": "2021-09-08T08:27:40.010Z"
   },
   {
    "duration": 23,
    "start_time": "2021-09-08T08:27:40.018Z"
   },
   {
    "duration": 201,
    "start_time": "2021-09-08T08:27:40.043Z"
   },
   {
    "duration": 10,
    "start_time": "2021-09-08T08:27:40.246Z"
   },
   {
    "duration": 228,
    "start_time": "2021-09-08T08:27:40.258Z"
   },
   {
    "duration": 219,
    "start_time": "2021-09-08T08:27:40.488Z"
   },
   {
    "duration": 14,
    "start_time": "2021-09-08T08:27:40.711Z"
   },
   {
    "duration": 25,
    "start_time": "2021-09-08T08:27:40.727Z"
   },
   {
    "duration": 623,
    "start_time": "2021-09-08T08:27:40.754Z"
   },
   {
    "duration": 163,
    "start_time": "2021-09-08T08:27:41.378Z"
   },
   {
    "duration": 21,
    "start_time": "2021-09-08T08:27:41.543Z"
   },
   {
    "duration": 228,
    "start_time": "2021-09-08T08:27:41.566Z"
   },
   {
    "duration": 673,
    "start_time": "2021-09-08T08:27:41.796Z"
   },
   {
    "duration": 12,
    "start_time": "2021-09-08T08:27:42.472Z"
   },
   {
    "duration": 15,
    "start_time": "2021-09-08T08:27:42.485Z"
   },
   {
    "duration": 6,
    "start_time": "2021-09-08T08:27:42.502Z"
   },
   {
    "duration": 9,
    "start_time": "2021-09-08T08:27:42.510Z"
   },
   {
    "duration": 9,
    "start_time": "2021-09-08T08:27:42.521Z"
   },
   {
    "duration": 13,
    "start_time": "2021-09-08T08:27:42.532Z"
   },
   {
    "duration": 12,
    "start_time": "2021-09-08T08:27:42.547Z"
   },
   {
    "duration": 25,
    "start_time": "2021-09-08T08:27:42.561Z"
   },
   {
    "duration": 154,
    "start_time": "2021-09-08T08:27:42.588Z"
   },
   {
    "duration": 389,
    "start_time": "2021-09-08T08:27:42.745Z"
   },
   {
    "duration": -440,
    "start_time": "2021-09-08T08:27:43.576Z"
   },
   {
    "duration": -446,
    "start_time": "2021-09-08T08:27:43.583Z"
   },
   {
    "duration": 1585,
    "start_time": "2021-09-08T08:31:57.940Z"
   },
   {
    "duration": 57,
    "start_time": "2021-09-08T08:31:59.527Z"
   },
   {
    "duration": 9,
    "start_time": "2021-09-08T08:31:59.588Z"
   },
   {
    "duration": 15,
    "start_time": "2021-09-08T08:31:59.599Z"
   },
   {
    "duration": 46,
    "start_time": "2021-09-08T08:31:59.615Z"
   },
   {
    "duration": 20,
    "start_time": "2021-09-08T08:31:59.663Z"
   },
   {
    "duration": 23,
    "start_time": "2021-09-08T08:31:59.685Z"
   },
   {
    "duration": 32,
    "start_time": "2021-09-08T08:31:59.710Z"
   },
   {
    "duration": 17,
    "start_time": "2021-09-08T08:31:59.744Z"
   },
   {
    "duration": 22,
    "start_time": "2021-09-08T08:31:59.763Z"
   },
   {
    "duration": 16,
    "start_time": "2021-09-08T08:31:59.787Z"
   },
   {
    "duration": 13,
    "start_time": "2021-09-08T08:31:59.805Z"
   },
   {
    "duration": 234,
    "start_time": "2021-09-08T08:31:59.819Z"
   },
   {
    "duration": 7,
    "start_time": "2021-09-08T08:32:00.055Z"
   },
   {
    "duration": 24,
    "start_time": "2021-09-08T08:32:00.064Z"
   },
   {
    "duration": 84,
    "start_time": "2021-09-08T08:32:00.090Z"
   },
   {
    "duration": 7,
    "start_time": "2021-09-08T08:32:00.176Z"
   },
   {
    "duration": 14,
    "start_time": "2021-09-08T08:32:00.185Z"
   },
   {
    "duration": 242,
    "start_time": "2021-09-08T08:32:00.201Z"
   },
   {
    "duration": 9,
    "start_time": "2021-09-08T08:32:00.445Z"
   },
   {
    "duration": 244,
    "start_time": "2021-09-08T08:32:00.456Z"
   },
   {
    "duration": 222,
    "start_time": "2021-09-08T08:32:00.706Z"
   },
   {
    "duration": 28,
    "start_time": "2021-09-08T08:32:00.931Z"
   },
   {
    "duration": 15,
    "start_time": "2021-09-08T08:32:00.962Z"
   },
   {
    "duration": 1043,
    "start_time": "2021-09-08T08:32:00.979Z"
   },
   {
    "duration": 265,
    "start_time": "2021-09-08T08:32:02.025Z"
   },
   {
    "duration": 33,
    "start_time": "2021-09-08T08:32:02.293Z"
   },
   {
    "duration": 356,
    "start_time": "2021-09-08T08:32:02.340Z"
   },
   {
    "duration": 858,
    "start_time": "2021-09-08T08:32:02.698Z"
   },
   {
    "duration": 22,
    "start_time": "2021-09-08T08:32:03.558Z"
   },
   {
    "duration": 11,
    "start_time": "2021-09-08T08:32:03.582Z"
   },
   {
    "duration": 9,
    "start_time": "2021-09-08T08:32:03.594Z"
   },
   {
    "duration": 11,
    "start_time": "2021-09-08T08:32:03.605Z"
   },
   {
    "duration": 12,
    "start_time": "2021-09-08T08:32:03.618Z"
   },
   {
    "duration": 10,
    "start_time": "2021-09-08T08:32:03.641Z"
   },
   {
    "duration": 20,
    "start_time": "2021-09-08T08:32:03.653Z"
   },
   {
    "duration": 14,
    "start_time": "2021-09-08T08:32:03.676Z"
   },
   {
    "duration": 151,
    "start_time": "2021-09-08T08:32:03.692Z"
   },
   {
    "duration": 401,
    "start_time": "2021-09-08T08:32:03.846Z"
   },
   {
    "duration": -453,
    "start_time": "2021-09-08T08:32:04.703Z"
   },
   {
    "duration": -462,
    "start_time": "2021-09-08T08:32:04.714Z"
   },
   {
    "duration": 8,
    "start_time": "2021-09-08T08:32:14.185Z"
   },
   {
    "duration": 9,
    "start_time": "2021-09-08T08:32:18.838Z"
   },
   {
    "duration": 728,
    "start_time": "2021-09-08T08:32:29.722Z"
   },
   {
    "duration": 5,
    "start_time": "2021-09-08T08:32:47.996Z"
   },
   {
    "duration": 18,
    "start_time": "2021-09-08T08:32:53.715Z"
   },
   {
    "duration": 13,
    "start_time": "2021-09-08T08:33:01.579Z"
   },
   {
    "duration": 11,
    "start_time": "2021-09-08T08:33:02.440Z"
   },
   {
    "duration": 7,
    "start_time": "2021-09-08T08:33:11.686Z"
   },
   {
    "duration": 7,
    "start_time": "2021-09-08T08:33:21.973Z"
   },
   {
    "duration": 6,
    "start_time": "2021-09-08T08:33:45.082Z"
   },
   {
    "duration": 6,
    "start_time": "2021-09-08T08:33:56.505Z"
   },
   {
    "duration": 6,
    "start_time": "2021-09-08T08:34:08.048Z"
   },
   {
    "duration": 8,
    "start_time": "2021-09-08T08:34:34.035Z"
   },
   {
    "duration": 1534,
    "start_time": "2021-09-08T08:34:47.382Z"
   },
   {
    "duration": 49,
    "start_time": "2021-09-08T08:34:48.918Z"
   },
   {
    "duration": 9,
    "start_time": "2021-09-08T08:34:48.969Z"
   },
   {
    "duration": 16,
    "start_time": "2021-09-08T08:34:48.981Z"
   },
   {
    "duration": 42,
    "start_time": "2021-09-08T08:34:48.999Z"
   },
   {
    "duration": 21,
    "start_time": "2021-09-08T08:34:49.043Z"
   },
   {
    "duration": 23,
    "start_time": "2021-09-08T08:34:49.066Z"
   },
   {
    "duration": 11,
    "start_time": "2021-09-08T08:34:49.092Z"
   },
   {
    "duration": 44,
    "start_time": "2021-09-08T08:34:49.105Z"
   },
   {
    "duration": 18,
    "start_time": "2021-09-08T08:34:49.151Z"
   },
   {
    "duration": 22,
    "start_time": "2021-09-08T08:34:49.171Z"
   },
   {
    "duration": 21,
    "start_time": "2021-09-08T08:34:49.195Z"
   },
   {
    "duration": 208,
    "start_time": "2021-09-08T08:34:49.218Z"
   },
   {
    "duration": 13,
    "start_time": "2021-09-08T08:34:49.428Z"
   },
   {
    "duration": 8,
    "start_time": "2021-09-08T08:34:49.443Z"
   },
   {
    "duration": 72,
    "start_time": "2021-09-08T08:34:49.453Z"
   },
   {
    "duration": 7,
    "start_time": "2021-09-08T08:34:49.541Z"
   },
   {
    "duration": 4,
    "start_time": "2021-09-08T08:34:49.549Z"
   },
   {
    "duration": 213,
    "start_time": "2021-09-08T08:34:49.554Z"
   },
   {
    "duration": 7,
    "start_time": "2021-09-08T08:34:49.769Z"
   },
   {
    "duration": 215,
    "start_time": "2021-09-08T08:34:49.778Z"
   },
   {
    "duration": 215,
    "start_time": "2021-09-08T08:34:49.995Z"
   },
   {
    "duration": 14,
    "start_time": "2021-09-08T08:34:50.214Z"
   },
   {
    "duration": 18,
    "start_time": "2021-09-08T08:34:50.230Z"
   },
   {
    "duration": 696,
    "start_time": "2021-09-08T08:34:50.250Z"
   },
   {
    "duration": 166,
    "start_time": "2021-09-08T08:34:50.948Z"
   },
   {
    "duration": 30,
    "start_time": "2021-09-08T08:34:51.116Z"
   },
   {
    "duration": 376,
    "start_time": "2021-09-08T08:34:51.148Z"
   },
   {
    "duration": 709,
    "start_time": "2021-09-08T08:34:51.526Z"
   },
   {
    "duration": 6,
    "start_time": "2021-09-08T08:34:52.237Z"
   },
   {
    "duration": 23,
    "start_time": "2021-09-08T08:34:52.245Z"
   },
   {
    "duration": 40,
    "start_time": "2021-09-08T08:34:52.270Z"
   },
   {
    "duration": 18,
    "start_time": "2021-09-08T08:34:52.312Z"
   },
   {
    "duration": 495,
    "start_time": "2021-09-08T08:34:52.333Z"
   },
   {
    "duration": -444,
    "start_time": "2021-09-08T08:34:53.274Z"
   },
   {
    "duration": -449,
    "start_time": "2021-09-08T08:34:53.281Z"
   },
   {
    "duration": -453,
    "start_time": "2021-09-08T08:34:53.287Z"
   },
   {
    "duration": -458,
    "start_time": "2021-09-08T08:34:53.293Z"
   },
   {
    "duration": -462,
    "start_time": "2021-09-08T08:34:53.299Z"
   },
   {
    "duration": -467,
    "start_time": "2021-09-08T08:34:53.305Z"
   },
   {
    "duration": -473,
    "start_time": "2021-09-08T08:34:53.313Z"
   },
   {
    "duration": -479,
    "start_time": "2021-09-08T08:34:53.320Z"
   },
   {
    "duration": 1520,
    "start_time": "2021-09-08T08:35:28.694Z"
   },
   {
    "duration": 48,
    "start_time": "2021-09-08T08:35:30.216Z"
   },
   {
    "duration": 9,
    "start_time": "2021-09-08T08:35:30.266Z"
   },
   {
    "duration": 39,
    "start_time": "2021-09-08T08:35:30.277Z"
   },
   {
    "duration": 64,
    "start_time": "2021-09-08T08:35:30.318Z"
   },
   {
    "duration": 72,
    "start_time": "2021-09-08T08:35:30.384Z"
   },
   {
    "duration": 28,
    "start_time": "2021-09-08T08:35:30.458Z"
   },
   {
    "duration": 29,
    "start_time": "2021-09-08T08:35:30.488Z"
   },
   {
    "duration": 65,
    "start_time": "2021-09-08T08:35:30.520Z"
   },
   {
    "duration": 99,
    "start_time": "2021-09-08T08:35:30.587Z"
   },
   {
    "duration": 90,
    "start_time": "2021-09-08T08:35:30.688Z"
   },
   {
    "duration": 84,
    "start_time": "2021-09-08T08:35:30.780Z"
   },
   {
    "duration": 224,
    "start_time": "2021-09-08T08:35:30.866Z"
   },
   {
    "duration": 6,
    "start_time": "2021-09-08T08:35:31.092Z"
   },
   {
    "duration": 384,
    "start_time": "2021-09-08T08:35:31.100Z"
   },
   {
    "duration": 88,
    "start_time": "2021-09-08T08:35:31.485Z"
   },
   {
    "duration": 7,
    "start_time": "2021-09-08T08:35:31.575Z"
   },
   {
    "duration": 36,
    "start_time": "2021-09-08T08:35:31.584Z"
   },
   {
    "duration": 258,
    "start_time": "2021-09-08T08:35:31.621Z"
   },
   {
    "duration": 8,
    "start_time": "2021-09-08T08:35:31.881Z"
   },
   {
    "duration": 390,
    "start_time": "2021-09-08T08:35:31.891Z"
   },
   {
    "duration": 213,
    "start_time": "2021-09-08T08:35:32.283Z"
   },
   {
    "duration": 14,
    "start_time": "2021-09-08T08:35:32.498Z"
   },
   {
    "duration": 29,
    "start_time": "2021-09-08T08:35:32.513Z"
   },
   {
    "duration": 614,
    "start_time": "2021-09-08T08:35:32.544Z"
   },
   {
    "duration": 167,
    "start_time": "2021-09-08T08:35:33.161Z"
   },
   {
    "duration": 28,
    "start_time": "2021-09-08T08:35:33.331Z"
   },
   {
    "duration": 229,
    "start_time": "2021-09-08T08:35:33.361Z"
   },
   {
    "duration": 709,
    "start_time": "2021-09-08T08:35:33.592Z"
   },
   {
    "duration": 6,
    "start_time": "2021-09-08T08:35:34.303Z"
   },
   {
    "duration": 26,
    "start_time": "2021-09-08T08:35:34.311Z"
   },
   {
    "duration": 487,
    "start_time": "2021-09-08T08:35:34.339Z"
   },
   {
    "duration": -430,
    "start_time": "2021-09-08T08:35:35.258Z"
   },
   {
    "duration": -434,
    "start_time": "2021-09-08T08:35:35.263Z"
   },
   {
    "duration": -439,
    "start_time": "2021-09-08T08:35:35.269Z"
   },
   {
    "duration": -444,
    "start_time": "2021-09-08T08:35:35.275Z"
   },
   {
    "duration": -449,
    "start_time": "2021-09-08T08:35:35.280Z"
   },
   {
    "duration": -454,
    "start_time": "2021-09-08T08:35:35.286Z"
   },
   {
    "duration": -459,
    "start_time": "2021-09-08T08:35:35.292Z"
   },
   {
    "duration": -464,
    "start_time": "2021-09-08T08:35:35.298Z"
   },
   {
    "duration": 9,
    "start_time": "2021-09-08T08:36:59.611Z"
   },
   {
    "duration": 15,
    "start_time": "2021-09-08T08:37:20.131Z"
   },
   {
    "duration": 6,
    "start_time": "2021-09-08T08:37:33.077Z"
   },
   {
    "duration": 10,
    "start_time": "2021-09-08T08:37:33.953Z"
   },
   {
    "duration": 30,
    "start_time": "2021-09-08T08:37:59.583Z"
   },
   {
    "duration": 17,
    "start_time": "2021-09-08T08:38:02.448Z"
   },
   {
    "duration": 11,
    "start_time": "2021-09-08T08:38:05.196Z"
   },
   {
    "duration": 28,
    "start_time": "2021-09-08T08:38:10.744Z"
   },
   {
    "duration": 20,
    "start_time": "2021-09-08T08:38:11.342Z"
   },
   {
    "duration": 14,
    "start_time": "2021-09-08T08:38:14.039Z"
   },
   {
    "duration": 146,
    "start_time": "2021-09-08T08:38:17.869Z"
   },
   {
    "duration": 336,
    "start_time": "2021-09-08T08:38:20.066Z"
   },
   {
    "duration": 4,
    "start_time": "2021-09-08T08:38:22.362Z"
   },
   {
    "duration": 376,
    "start_time": "2021-09-08T08:38:24.258Z"
   },
   {
    "duration": 1528,
    "start_time": "2021-09-08T08:38:42.468Z"
   },
   {
    "duration": 47,
    "start_time": "2021-09-08T08:38:43.998Z"
   },
   {
    "duration": 8,
    "start_time": "2021-09-08T08:38:44.047Z"
   },
   {
    "duration": 18,
    "start_time": "2021-09-08T08:38:44.057Z"
   },
   {
    "duration": 32,
    "start_time": "2021-09-08T08:38:44.077Z"
   },
   {
    "duration": 37,
    "start_time": "2021-09-08T08:38:44.110Z"
   },
   {
    "duration": 22,
    "start_time": "2021-09-08T08:38:44.148Z"
   },
   {
    "duration": 11,
    "start_time": "2021-09-08T08:38:44.172Z"
   },
   {
    "duration": 14,
    "start_time": "2021-09-08T08:38:44.185Z"
   },
   {
    "duration": 41,
    "start_time": "2021-09-08T08:38:44.200Z"
   },
   {
    "duration": 12,
    "start_time": "2021-09-08T08:38:44.243Z"
   },
   {
    "duration": 12,
    "start_time": "2021-09-08T08:38:44.257Z"
   },
   {
    "duration": 223,
    "start_time": "2021-09-08T08:38:44.271Z"
   },
   {
    "duration": 7,
    "start_time": "2021-09-08T08:38:44.496Z"
   },
   {
    "duration": 8,
    "start_time": "2021-09-08T08:38:44.505Z"
   },
   {
    "duration": 89,
    "start_time": "2021-09-08T08:38:44.514Z"
   },
   {
    "duration": 7,
    "start_time": "2021-09-08T08:38:44.605Z"
   },
   {
    "duration": 5,
    "start_time": "2021-09-08T08:38:44.613Z"
   },
   {
    "duration": 208,
    "start_time": "2021-09-08T08:38:44.619Z"
   },
   {
    "duration": 12,
    "start_time": "2021-09-08T08:38:44.829Z"
   },
   {
    "duration": 207,
    "start_time": "2021-09-08T08:38:44.843Z"
   },
   {
    "duration": 200,
    "start_time": "2021-09-08T08:38:45.052Z"
   },
   {
    "duration": 12,
    "start_time": "2021-09-08T08:38:45.256Z"
   },
   {
    "duration": 8,
    "start_time": "2021-09-08T08:38:45.271Z"
   },
   {
    "duration": 761,
    "start_time": "2021-09-08T08:38:45.280Z"
   },
   {
    "duration": 166,
    "start_time": "2021-09-08T08:38:46.042Z"
   },
   {
    "duration": 21,
    "start_time": "2021-09-08T08:38:46.209Z"
   },
   {
    "duration": 239,
    "start_time": "2021-09-08T08:38:46.231Z"
   },
   {
    "duration": 13,
    "start_time": "2021-09-08T08:38:46.472Z"
   },
   {
    "duration": 921,
    "start_time": "2021-09-08T08:38:46.487Z"
   },
   {
    "duration": 5,
    "start_time": "2021-09-08T08:38:47.410Z"
   },
   {
    "duration": 34,
    "start_time": "2021-09-08T08:38:47.417Z"
   },
   {
    "duration": 30,
    "start_time": "2021-09-08T08:38:47.453Z"
   },
   {
    "duration": 21,
    "start_time": "2021-09-08T08:38:47.485Z"
   },
   {
    "duration": 17,
    "start_time": "2021-09-08T08:38:47.508Z"
   },
   {
    "duration": 43,
    "start_time": "2021-09-08T08:38:47.526Z"
   },
   {
    "duration": 21,
    "start_time": "2021-09-08T08:38:47.571Z"
   },
   {
    "duration": 31,
    "start_time": "2021-09-08T08:38:47.593Z"
   },
   {
    "duration": 169,
    "start_time": "2021-09-08T08:38:47.626Z"
   },
   {
    "duration": 328,
    "start_time": "2021-09-08T08:38:47.797Z"
   },
   {
    "duration": 4,
    "start_time": "2021-09-08T08:38:48.127Z"
   },
   {
    "duration": 385,
    "start_time": "2021-09-08T08:38:48.140Z"
   },
   {
    "duration": 1705,
    "start_time": "2021-09-08T08:42:46.108Z"
   },
   {
    "duration": 48,
    "start_time": "2021-09-08T08:42:47.815Z"
   },
   {
    "duration": 9,
    "start_time": "2021-09-08T08:42:47.865Z"
   },
   {
    "duration": 17,
    "start_time": "2021-09-08T08:42:47.876Z"
   },
   {
    "duration": 24,
    "start_time": "2021-09-08T08:42:47.895Z"
   },
   {
    "duration": 33,
    "start_time": "2021-09-08T08:42:47.920Z"
   },
   {
    "duration": 23,
    "start_time": "2021-09-08T08:42:47.955Z"
   },
   {
    "duration": 11,
    "start_time": "2021-09-08T08:42:47.980Z"
   },
   {
    "duration": 19,
    "start_time": "2021-09-08T08:42:47.993Z"
   },
   {
    "duration": 34,
    "start_time": "2021-09-08T08:42:48.013Z"
   },
   {
    "duration": 15,
    "start_time": "2021-09-08T08:42:48.049Z"
   },
   {
    "duration": 14,
    "start_time": "2021-09-08T08:42:48.066Z"
   },
   {
    "duration": 204,
    "start_time": "2021-09-08T08:42:48.082Z"
   },
   {
    "duration": 7,
    "start_time": "2021-09-08T08:42:48.288Z"
   },
   {
    "duration": 8,
    "start_time": "2021-09-08T08:42:48.296Z"
   },
   {
    "duration": 88,
    "start_time": "2021-09-08T08:42:48.305Z"
   },
   {
    "duration": 6,
    "start_time": "2021-09-08T08:42:48.395Z"
   },
   {
    "duration": 5,
    "start_time": "2021-09-08T08:42:48.403Z"
   },
   {
    "duration": 216,
    "start_time": "2021-09-08T08:42:48.409Z"
   },
   {
    "duration": 16,
    "start_time": "2021-09-08T08:42:48.627Z"
   },
   {
    "duration": 216,
    "start_time": "2021-09-08T08:42:48.645Z"
   },
   {
    "duration": 209,
    "start_time": "2021-09-08T08:42:48.862Z"
   },
   {
    "duration": 14,
    "start_time": "2021-09-08T08:42:49.074Z"
   },
   {
    "duration": 24,
    "start_time": "2021-09-08T08:42:49.091Z"
   },
   {
    "duration": 599,
    "start_time": "2021-09-08T08:42:49.117Z"
   },
   {
    "duration": 165,
    "start_time": "2021-09-08T08:42:49.718Z"
   },
   {
    "duration": 22,
    "start_time": "2021-09-08T08:42:49.885Z"
   },
   {
    "duration": 234,
    "start_time": "2021-09-08T08:42:49.909Z"
   },
   {
    "duration": 14,
    "start_time": "2021-09-08T08:42:50.145Z"
   },
   {
    "duration": 692,
    "start_time": "2021-09-08T08:42:50.161Z"
   },
   {
    "duration": 6,
    "start_time": "2021-09-08T08:42:50.855Z"
   },
   {
    "duration": 70,
    "start_time": "2021-09-08T08:42:50.863Z"
   },
   {
    "duration": 54,
    "start_time": "2021-09-08T08:42:50.934Z"
   },
   {
    "duration": 21,
    "start_time": "2021-09-08T08:42:50.990Z"
   },
   {
    "duration": 26,
    "start_time": "2021-09-08T08:42:51.013Z"
   },
   {
    "duration": 48,
    "start_time": "2021-09-08T08:42:51.041Z"
   },
   {
    "duration": 33,
    "start_time": "2021-09-08T08:42:51.091Z"
   },
   {
    "duration": 22,
    "start_time": "2021-09-08T08:42:51.127Z"
   },
   {
    "duration": 252,
    "start_time": "2021-09-08T08:42:51.151Z"
   },
   {
    "duration": 563,
    "start_time": "2021-09-08T08:42:51.406Z"
   },
   {
    "duration": 7,
    "start_time": "2021-09-08T08:42:51.971Z"
   },
   {
    "duration": 575,
    "start_time": "2021-09-08T08:42:51.981Z"
   },
   {
    "duration": 11,
    "start_time": "2021-09-08T08:44:25.242Z"
   },
   {
    "duration": 9,
    "start_time": "2021-09-08T08:44:34.941Z"
   },
   {
    "duration": 18,
    "start_time": "2021-09-08T08:44:55.254Z"
   },
   {
    "duration": 20,
    "start_time": "2021-09-08T08:45:14.960Z"
   },
   {
    "duration": 767,
    "start_time": "2021-09-08T08:45:22.264Z"
   },
   {
    "duration": 9,
    "start_time": "2021-09-08T08:45:33.405Z"
   },
   {
    "duration": 18,
    "start_time": "2021-09-08T08:45:34.468Z"
   },
   {
    "duration": 78,
    "start_time": "2021-09-08T08:45:38.883Z"
   },
   {
    "duration": 501,
    "start_time": "2021-09-08T08:45:39.552Z"
   },
   {
    "duration": 33,
    "start_time": "2021-09-08T08:45:49.477Z"
   },
   {
    "duration": 33,
    "start_time": "2021-09-08T08:46:10.562Z"
   },
   {
    "duration": 33,
    "start_time": "2021-09-08T08:46:22.526Z"
   },
   {
    "duration": 2050,
    "start_time": "2021-09-08T08:46:27.383Z"
   },
   {
    "duration": 48,
    "start_time": "2021-09-08T08:46:29.434Z"
   },
   {
    "duration": 9,
    "start_time": "2021-09-08T08:46:29.484Z"
   },
   {
    "duration": 26,
    "start_time": "2021-09-08T08:46:29.495Z"
   },
   {
    "duration": 24,
    "start_time": "2021-09-08T08:46:29.523Z"
   },
   {
    "duration": 31,
    "start_time": "2021-09-08T08:46:29.549Z"
   },
   {
    "duration": 22,
    "start_time": "2021-09-08T08:46:29.582Z"
   },
   {
    "duration": 11,
    "start_time": "2021-09-08T08:46:29.606Z"
   },
   {
    "duration": 23,
    "start_time": "2021-09-08T08:46:29.619Z"
   },
   {
    "duration": 18,
    "start_time": "2021-09-08T08:46:29.643Z"
   },
   {
    "duration": 17,
    "start_time": "2021-09-08T08:46:29.663Z"
   },
   {
    "duration": 19,
    "start_time": "2021-09-08T08:46:29.681Z"
   },
   {
    "duration": 203,
    "start_time": "2021-09-08T08:46:29.702Z"
   },
   {
    "duration": 6,
    "start_time": "2021-09-08T08:46:29.907Z"
   },
   {
    "duration": 16,
    "start_time": "2021-09-08T08:46:29.915Z"
   },
   {
    "duration": 73,
    "start_time": "2021-09-08T08:46:29.932Z"
   },
   {
    "duration": 8,
    "start_time": "2021-09-08T08:46:30.006Z"
   },
   {
    "duration": 9,
    "start_time": "2021-09-08T08:46:30.016Z"
   },
   {
    "duration": 209,
    "start_time": "2021-09-08T08:46:30.041Z"
   },
   {
    "duration": 8,
    "start_time": "2021-09-08T08:46:30.253Z"
   },
   {
    "duration": 238,
    "start_time": "2021-09-08T08:46:30.262Z"
   },
   {
    "duration": 205,
    "start_time": "2021-09-08T08:46:30.502Z"
   },
   {
    "duration": 14,
    "start_time": "2021-09-08T08:46:30.710Z"
   },
   {
    "duration": 27,
    "start_time": "2021-09-08T08:46:30.726Z"
   },
   {
    "duration": 588,
    "start_time": "2021-09-08T08:46:30.755Z"
   },
   {
    "duration": 159,
    "start_time": "2021-09-08T08:46:31.345Z"
   },
   {
    "duration": 36,
    "start_time": "2021-09-08T08:46:31.506Z"
   },
   {
    "duration": 215,
    "start_time": "2021-09-08T08:46:31.544Z"
   },
   {
    "duration": 14,
    "start_time": "2021-09-08T08:46:31.761Z"
   },
   {
    "duration": 682,
    "start_time": "2021-09-08T08:46:31.776Z"
   },
   {
    "duration": 5,
    "start_time": "2021-09-08T08:46:32.460Z"
   },
   {
    "duration": 52,
    "start_time": "2021-09-08T08:46:32.467Z"
   },
   {
    "duration": 28,
    "start_time": "2021-09-08T08:46:32.521Z"
   },
   {
    "duration": 28,
    "start_time": "2021-09-08T08:46:32.551Z"
   },
   {
    "duration": 12,
    "start_time": "2021-09-08T08:46:32.581Z"
   },
   {
    "duration": 51,
    "start_time": "2021-09-08T08:46:32.595Z"
   },
   {
    "duration": 23,
    "start_time": "2021-09-08T08:46:32.647Z"
   },
   {
    "duration": 24,
    "start_time": "2021-09-08T08:46:32.671Z"
   },
   {
    "duration": 162,
    "start_time": "2021-09-08T08:46:32.696Z"
   },
   {
    "duration": 344,
    "start_time": "2021-09-08T08:46:32.860Z"
   },
   {
    "duration": 6,
    "start_time": "2021-09-08T08:46:33.206Z"
   },
   {
    "duration": 757,
    "start_time": "2021-09-08T08:46:33.215Z"
   },
   {
    "duration": 19,
    "start_time": "2021-09-08T08:55:44.467Z"
   },
   {
    "duration": 8177,
    "start_time": "2021-09-08T08:58:13.320Z"
   },
   {
    "duration": 7135,
    "start_time": "2021-09-08T08:58:26.483Z"
   },
   {
    "duration": 7,
    "start_time": "2021-09-08T08:59:09.258Z"
   },
   {
    "duration": 18,
    "start_time": "2021-09-08T08:59:16.253Z"
   },
   {
    "duration": 7880,
    "start_time": "2021-09-08T09:00:25.156Z"
   },
   {
    "duration": 4,
    "start_time": "2021-09-08T09:01:53.567Z"
   },
   {
    "duration": 7458,
    "start_time": "2021-09-08T09:02:35.717Z"
   },
   {
    "duration": 3,
    "start_time": "2021-09-08T09:02:54.825Z"
   },
   {
    "duration": 10,
    "start_time": "2021-09-08T09:02:55.407Z"
   },
   {
    "duration": 22,
    "start_time": "2021-09-08T09:02:56.187Z"
   },
   {
    "duration": 11,
    "start_time": "2021-09-08T09:03:00.004Z"
   },
   {
    "duration": 8,
    "start_time": "2021-09-08T09:03:59.124Z"
   },
   {
    "duration": 12,
    "start_time": "2021-09-08T09:04:00.789Z"
   },
   {
    "duration": 10,
    "start_time": "2021-09-08T09:05:35.777Z"
   },
   {
    "duration": 11,
    "start_time": "2021-09-08T09:05:38.777Z"
   },
   {
    "duration": 12,
    "start_time": "2021-09-08T09:06:13.018Z"
   },
   {
    "duration": 263,
    "start_time": "2021-09-08T09:06:35.758Z"
   },
   {
    "duration": 1736,
    "start_time": "2021-09-08T09:07:50.005Z"
   },
   {
    "duration": 49,
    "start_time": "2021-09-08T09:07:51.743Z"
   },
   {
    "duration": 10,
    "start_time": "2021-09-08T09:07:51.794Z"
   },
   {
    "duration": 36,
    "start_time": "2021-09-08T09:07:51.805Z"
   },
   {
    "duration": 26,
    "start_time": "2021-09-08T09:07:51.843Z"
   },
   {
    "duration": 22,
    "start_time": "2021-09-08T09:07:51.871Z"
   },
   {
    "duration": 23,
    "start_time": "2021-09-08T09:07:51.895Z"
   },
   {
    "duration": 28,
    "start_time": "2021-09-08T09:07:51.921Z"
   },
   {
    "duration": 13,
    "start_time": "2021-09-08T09:07:51.951Z"
   },
   {
    "duration": 19,
    "start_time": "2021-09-08T09:07:51.965Z"
   },
   {
    "duration": 16,
    "start_time": "2021-09-08T09:07:51.986Z"
   },
   {
    "duration": 37,
    "start_time": "2021-09-08T09:07:52.004Z"
   },
   {
    "duration": 200,
    "start_time": "2021-09-08T09:07:52.043Z"
   },
   {
    "duration": 6,
    "start_time": "2021-09-08T09:07:52.245Z"
   },
   {
    "duration": 14,
    "start_time": "2021-09-08T09:07:52.252Z"
   },
   {
    "duration": 88,
    "start_time": "2021-09-08T09:07:52.268Z"
   },
   {
    "duration": 9,
    "start_time": "2021-09-08T09:07:52.358Z"
   },
   {
    "duration": 4,
    "start_time": "2021-09-08T09:07:52.369Z"
   },
   {
    "duration": 228,
    "start_time": "2021-09-08T09:07:52.375Z"
   },
   {
    "duration": 12,
    "start_time": "2021-09-08T09:07:52.605Z"
   },
   {
    "duration": 22,
    "start_time": "2021-09-08T09:07:52.619Z"
   },
   {
    "duration": 10,
    "start_time": "2021-09-08T09:07:52.643Z"
   },
   {
    "duration": 15,
    "start_time": "2021-09-08T09:07:52.657Z"
   },
   {
    "duration": 17,
    "start_time": "2021-09-08T09:07:52.674Z"
   },
   {
    "duration": 9,
    "start_time": "2021-09-08T09:07:52.693Z"
   },
   {
    "duration": 37,
    "start_time": "2021-09-08T09:07:52.704Z"
   },
   {
    "duration": 10,
    "start_time": "2021-09-08T09:07:52.743Z"
   },
   {
    "duration": 220,
    "start_time": "2021-09-08T09:07:52.755Z"
   },
   {
    "duration": 293,
    "start_time": "2021-09-08T09:07:52.977Z"
   },
   {
    "duration": 129,
    "start_time": "2021-09-08T09:07:53.272Z"
   },
   {
    "duration": 14,
    "start_time": "2021-09-08T09:07:53.402Z"
   },
   {
    "duration": 24,
    "start_time": "2021-09-08T09:07:53.417Z"
   },
   {
    "duration": 622,
    "start_time": "2021-09-08T09:07:53.443Z"
   },
   {
    "duration": 165,
    "start_time": "2021-09-08T09:07:54.068Z"
   },
   {
    "duration": 27,
    "start_time": "2021-09-08T09:07:54.235Z"
   },
   {
    "duration": 233,
    "start_time": "2021-09-08T09:07:54.264Z"
   },
   {
    "duration": 15,
    "start_time": "2021-09-08T09:07:54.499Z"
   },
   {
    "duration": 27,
    "start_time": "2021-09-08T09:07:54.515Z"
   },
   {
    "duration": 1258,
    "start_time": "2021-09-08T09:07:54.544Z"
   },
   {
    "duration": 6,
    "start_time": "2021-09-08T09:07:55.804Z"
   },
   {
    "duration": 15,
    "start_time": "2021-09-08T09:07:55.812Z"
   },
   {
    "duration": 27,
    "start_time": "2021-09-08T09:07:55.829Z"
   },
   {
    "duration": 16,
    "start_time": "2021-09-08T09:07:55.858Z"
   },
   {
    "duration": 12,
    "start_time": "2021-09-08T09:07:55.876Z"
   },
   {
    "duration": 28,
    "start_time": "2021-09-08T09:07:55.890Z"
   },
   {
    "duration": 38,
    "start_time": "2021-09-08T09:07:55.920Z"
   },
   {
    "duration": 17,
    "start_time": "2021-09-08T09:07:55.960Z"
   },
   {
    "duration": 175,
    "start_time": "2021-09-08T09:07:55.979Z"
   },
   {
    "duration": 337,
    "start_time": "2021-09-08T09:07:56.156Z"
   },
   {
    "duration": 6,
    "start_time": "2021-09-08T09:07:56.495Z"
   },
   {
    "duration": 417,
    "start_time": "2021-09-08T09:07:56.503Z"
   },
   {
    "duration": 17,
    "start_time": "2021-09-08T09:30:07.895Z"
   },
   {
    "duration": 89,
    "start_time": "2021-09-08T09:36:36.285Z"
   },
   {
    "duration": 55,
    "start_time": "2021-09-08T09:36:43.780Z"
   },
   {
    "duration": 2045,
    "start_time": "2021-09-08T09:36:44.997Z"
   },
   {
    "duration": -424,
    "start_time": "2021-09-08T09:36:47.468Z"
   },
   {
    "duration": 21,
    "start_time": "2021-09-08T09:36:59.382Z"
   },
   {
    "duration": 118,
    "start_time": "2021-09-08T09:37:19.535Z"
   },
   {
    "duration": 457,
    "start_time": "2021-09-08T09:37:20.308Z"
   },
   {
    "duration": 2616,
    "start_time": "2021-09-08T09:37:27.186Z"
   },
   {
    "duration": 269,
    "start_time": "2021-09-08T09:37:29.804Z"
   },
   {
    "duration": 1575,
    "start_time": "2021-09-08T09:37:34.912Z"
   },
   {
    "duration": 47,
    "start_time": "2021-09-08T09:37:36.489Z"
   },
   {
    "duration": 9,
    "start_time": "2021-09-08T09:37:36.538Z"
   },
   {
    "duration": 41,
    "start_time": "2021-09-08T09:37:36.549Z"
   },
   {
    "duration": 45,
    "start_time": "2021-09-08T09:37:36.592Z"
   },
   {
    "duration": 31,
    "start_time": "2021-09-08T09:37:36.639Z"
   },
   {
    "duration": 38,
    "start_time": "2021-09-08T09:37:36.672Z"
   },
   {
    "duration": 12,
    "start_time": "2021-09-08T09:37:36.713Z"
   },
   {
    "duration": 39,
    "start_time": "2021-09-08T09:37:36.727Z"
   },
   {
    "duration": 46,
    "start_time": "2021-09-08T09:37:36.768Z"
   },
   {
    "duration": 33,
    "start_time": "2021-09-08T09:37:36.816Z"
   },
   {
    "duration": 37,
    "start_time": "2021-09-08T09:37:36.851Z"
   },
   {
    "duration": 211,
    "start_time": "2021-09-08T09:37:36.890Z"
   },
   {
    "duration": 7,
    "start_time": "2021-09-08T09:37:37.102Z"
   },
   {
    "duration": 38,
    "start_time": "2021-09-08T09:37:37.110Z"
   },
   {
    "duration": 99,
    "start_time": "2021-09-08T09:37:37.150Z"
   },
   {
    "duration": 8,
    "start_time": "2021-09-08T09:37:37.250Z"
   },
   {
    "duration": 16,
    "start_time": "2021-09-08T09:37:37.259Z"
   },
   {
    "duration": 217,
    "start_time": "2021-09-08T09:37:37.276Z"
   },
   {
    "duration": 8,
    "start_time": "2021-09-08T09:37:37.495Z"
   },
   {
    "duration": 13,
    "start_time": "2021-09-08T09:37:37.505Z"
   },
   {
    "duration": 27,
    "start_time": "2021-09-08T09:37:37.520Z"
   },
   {
    "duration": 15,
    "start_time": "2021-09-08T09:37:37.551Z"
   },
   {
    "duration": 23,
    "start_time": "2021-09-08T09:37:37.569Z"
   },
   {
    "duration": 13,
    "start_time": "2021-09-08T09:37:37.594Z"
   },
   {
    "duration": 14,
    "start_time": "2021-09-08T09:37:37.609Z"
   },
   {
    "duration": 24,
    "start_time": "2021-09-08T09:37:37.625Z"
   },
   {
    "duration": 202,
    "start_time": "2021-09-08T09:37:37.651Z"
   },
   {
    "duration": 282,
    "start_time": "2021-09-08T09:37:37.855Z"
   },
   {
    "duration": 122,
    "start_time": "2021-09-08T09:37:38.140Z"
   },
   {
    "duration": 15,
    "start_time": "2021-09-08T09:37:38.264Z"
   },
   {
    "duration": 23,
    "start_time": "2021-09-08T09:37:38.281Z"
   },
   {
    "duration": 616,
    "start_time": "2021-09-08T09:37:38.306Z"
   },
   {
    "duration": 162,
    "start_time": "2021-09-08T09:37:38.924Z"
   },
   {
    "duration": 24,
    "start_time": "2021-09-08T09:37:39.087Z"
   },
   {
    "duration": 227,
    "start_time": "2021-09-08T09:37:39.113Z"
   },
   {
    "duration": 15,
    "start_time": "2021-09-08T09:37:39.342Z"
   },
   {
    "duration": 23,
    "start_time": "2021-09-08T09:37:39.359Z"
   },
   {
    "duration": 1078,
    "start_time": "2021-09-08T09:37:39.384Z"
   },
   {
    "duration": 6,
    "start_time": "2021-09-08T09:37:40.464Z"
   },
   {
    "duration": 28,
    "start_time": "2021-09-08T09:37:40.471Z"
   },
   {
    "duration": 40,
    "start_time": "2021-09-08T09:37:40.501Z"
   },
   {
    "duration": 24,
    "start_time": "2021-09-08T09:37:40.543Z"
   },
   {
    "duration": 19,
    "start_time": "2021-09-08T09:37:40.569Z"
   },
   {
    "duration": 30,
    "start_time": "2021-09-08T09:37:40.589Z"
   },
   {
    "duration": 37,
    "start_time": "2021-09-08T09:37:40.621Z"
   },
   {
    "duration": 20,
    "start_time": "2021-09-08T09:37:40.660Z"
   },
   {
    "duration": 22,
    "start_time": "2021-09-08T09:37:40.682Z"
   },
   {
    "duration": 166,
    "start_time": "2021-09-08T09:37:40.706Z"
   },
   {
    "duration": 331,
    "start_time": "2021-09-08T09:37:40.873Z"
   },
   {
    "duration": 5,
    "start_time": "2021-09-08T09:37:41.205Z"
   },
   {
    "duration": 399,
    "start_time": "2021-09-08T09:37:41.211Z"
   },
   {
    "duration": 424,
    "start_time": "2021-09-08T09:38:36.571Z"
   },
   {
    "duration": 1784,
    "start_time": "2021-09-08T09:38:42.303Z"
   },
   {
    "duration": 64,
    "start_time": "2021-09-08T09:38:44.089Z"
   },
   {
    "duration": 12,
    "start_time": "2021-09-08T09:38:44.156Z"
   },
   {
    "duration": 23,
    "start_time": "2021-09-08T09:38:44.171Z"
   },
   {
    "duration": 54,
    "start_time": "2021-09-08T09:38:44.196Z"
   },
   {
    "duration": 27,
    "start_time": "2021-09-08T09:38:44.252Z"
   },
   {
    "duration": 33,
    "start_time": "2021-09-08T09:38:44.281Z"
   },
   {
    "duration": 34,
    "start_time": "2021-09-08T09:38:44.317Z"
   },
   {
    "duration": 27,
    "start_time": "2021-09-08T09:38:44.354Z"
   },
   {
    "duration": 20,
    "start_time": "2021-09-08T09:38:44.383Z"
   },
   {
    "duration": 26,
    "start_time": "2021-09-08T09:38:44.405Z"
   },
   {
    "duration": 24,
    "start_time": "2021-09-08T09:38:44.433Z"
   },
   {
    "duration": 206,
    "start_time": "2021-09-08T09:38:44.459Z"
   },
   {
    "duration": 8,
    "start_time": "2021-09-08T09:38:44.667Z"
   },
   {
    "duration": 8,
    "start_time": "2021-09-08T09:38:44.676Z"
   },
   {
    "duration": 90,
    "start_time": "2021-09-08T09:38:44.685Z"
   },
   {
    "duration": 9,
    "start_time": "2021-09-08T09:38:44.777Z"
   },
   {
    "duration": 5,
    "start_time": "2021-09-08T09:38:44.788Z"
   },
   {
    "duration": 216,
    "start_time": "2021-09-08T09:38:44.795Z"
   },
   {
    "duration": 8,
    "start_time": "2021-09-08T09:38:45.013Z"
   },
   {
    "duration": 18,
    "start_time": "2021-09-08T09:38:45.023Z"
   },
   {
    "duration": 29,
    "start_time": "2021-09-08T09:38:45.042Z"
   },
   {
    "duration": 13,
    "start_time": "2021-09-08T09:38:45.075Z"
   },
   {
    "duration": 12,
    "start_time": "2021-09-08T09:38:45.091Z"
   },
   {
    "duration": 32,
    "start_time": "2021-09-08T09:38:45.105Z"
   },
   {
    "duration": 16,
    "start_time": "2021-09-08T09:38:45.138Z"
   },
   {
    "duration": 14,
    "start_time": "2021-09-08T09:38:45.156Z"
   },
   {
    "duration": 218,
    "start_time": "2021-09-08T09:38:45.172Z"
   },
   {
    "duration": 418,
    "start_time": "2021-09-08T09:38:45.392Z"
   },
   {
    "duration": 187,
    "start_time": "2021-09-08T09:38:45.812Z"
   },
   {
    "duration": 14,
    "start_time": "2021-09-08T09:38:46.001Z"
   },
   {
    "duration": 11,
    "start_time": "2021-09-08T09:38:46.016Z"
   },
   {
    "duration": 702,
    "start_time": "2021-09-08T09:38:46.041Z"
   },
   {
    "duration": 160,
    "start_time": "2021-09-08T09:38:46.745Z"
   },
   {
    "duration": 21,
    "start_time": "2021-09-08T09:38:46.907Z"
   },
   {
    "duration": 320,
    "start_time": "2021-09-08T09:38:46.929Z"
   },
   {
    "duration": 14,
    "start_time": "2021-09-08T09:38:47.251Z"
   },
   {
    "duration": 18,
    "start_time": "2021-09-08T09:38:47.267Z"
   },
   {
    "duration": 944,
    "start_time": "2021-09-08T09:38:47.287Z"
   },
   {
    "duration": 6,
    "start_time": "2021-09-08T09:38:48.233Z"
   },
   {
    "duration": 15,
    "start_time": "2021-09-08T09:38:48.241Z"
   },
   {
    "duration": 19,
    "start_time": "2021-09-08T09:38:48.258Z"
   },
   {
    "duration": 16,
    "start_time": "2021-09-08T09:38:48.279Z"
   },
   {
    "duration": 12,
    "start_time": "2021-09-08T09:38:48.296Z"
   },
   {
    "duration": 44,
    "start_time": "2021-09-08T09:38:48.310Z"
   },
   {
    "duration": 27,
    "start_time": "2021-09-08T09:38:48.356Z"
   },
   {
    "duration": 18,
    "start_time": "2021-09-08T09:38:48.385Z"
   },
   {
    "duration": 37,
    "start_time": "2021-09-08T09:38:48.405Z"
   },
   {
    "duration": 153,
    "start_time": "2021-09-08T09:38:48.444Z"
   },
   {
    "duration": 428,
    "start_time": "2021-09-08T09:38:48.599Z"
   },
   {
    "duration": 13,
    "start_time": "2021-09-08T09:38:49.028Z"
   },
   {
    "duration": 401,
    "start_time": "2021-09-08T09:38:49.043Z"
   },
   {
    "duration": 1562,
    "start_time": "2021-09-08T09:49:16.985Z"
   },
   {
    "duration": 49,
    "start_time": "2021-09-08T09:49:18.549Z"
   },
   {
    "duration": 9,
    "start_time": "2021-09-08T09:49:18.600Z"
   },
   {
    "duration": 16,
    "start_time": "2021-09-08T09:49:18.611Z"
   },
   {
    "duration": 30,
    "start_time": "2021-09-08T09:49:18.628Z"
   },
   {
    "duration": 20,
    "start_time": "2021-09-08T09:49:18.660Z"
   },
   {
    "duration": 22,
    "start_time": "2021-09-08T09:49:18.682Z"
   },
   {
    "duration": 11,
    "start_time": "2021-09-08T09:49:18.706Z"
   },
   {
    "duration": 12,
    "start_time": "2021-09-08T09:49:18.743Z"
   },
   {
    "duration": 25,
    "start_time": "2021-09-08T09:49:18.758Z"
   },
   {
    "duration": 18,
    "start_time": "2021-09-08T09:49:18.785Z"
   },
   {
    "duration": 19,
    "start_time": "2021-09-08T09:49:18.805Z"
   },
   {
    "duration": 207,
    "start_time": "2021-09-08T09:49:18.826Z"
   },
   {
    "duration": 10,
    "start_time": "2021-09-08T09:49:19.035Z"
   },
   {
    "duration": 26,
    "start_time": "2021-09-08T09:49:19.047Z"
   },
   {
    "duration": 91,
    "start_time": "2021-09-08T09:49:19.075Z"
   },
   {
    "duration": 7,
    "start_time": "2021-09-08T09:49:19.168Z"
   },
   {
    "duration": 26,
    "start_time": "2021-09-08T09:49:19.176Z"
   },
   {
    "duration": 210,
    "start_time": "2021-09-08T09:49:19.204Z"
   },
   {
    "duration": 7,
    "start_time": "2021-09-08T09:49:19.416Z"
   },
   {
    "duration": 16,
    "start_time": "2021-09-08T09:49:19.425Z"
   },
   {
    "duration": 14,
    "start_time": "2021-09-08T09:49:19.443Z"
   },
   {
    "duration": 15,
    "start_time": "2021-09-08T09:49:19.459Z"
   },
   {
    "duration": 10,
    "start_time": "2021-09-08T09:49:19.476Z"
   },
   {
    "duration": 10,
    "start_time": "2021-09-08T09:49:19.488Z"
   },
   {
    "duration": 42,
    "start_time": "2021-09-08T09:49:19.499Z"
   },
   {
    "duration": 9,
    "start_time": "2021-09-08T09:49:19.545Z"
   },
   {
    "duration": 203,
    "start_time": "2021-09-08T09:49:19.556Z"
   },
   {
    "duration": 281,
    "start_time": "2021-09-08T09:49:19.761Z"
   },
   {
    "duration": 123,
    "start_time": "2021-09-08T09:49:20.044Z"
   },
   {
    "duration": 14,
    "start_time": "2021-09-08T09:49:20.168Z"
   },
   {
    "duration": 9,
    "start_time": "2021-09-08T09:49:20.184Z"
   },
   {
    "duration": 622,
    "start_time": "2021-09-08T09:49:20.195Z"
   },
   {
    "duration": 166,
    "start_time": "2021-09-08T09:49:20.819Z"
   },
   {
    "duration": 20,
    "start_time": "2021-09-08T09:49:20.987Z"
   },
   {
    "duration": 218,
    "start_time": "2021-09-08T09:49:21.009Z"
   },
   {
    "duration": 22,
    "start_time": "2021-09-08T09:49:21.229Z"
   },
   {
    "duration": 21,
    "start_time": "2021-09-08T09:49:21.253Z"
   },
   {
    "duration": 1163,
    "start_time": "2021-09-08T09:49:21.275Z"
   },
   {
    "duration": 5,
    "start_time": "2021-09-08T09:49:22.440Z"
   },
   {
    "duration": 14,
    "start_time": "2021-09-08T09:49:22.447Z"
   },
   {
    "duration": 22,
    "start_time": "2021-09-08T09:49:22.462Z"
   },
   {
    "duration": 2,
    "start_time": "2021-09-08T09:49:22.486Z"
   },
   {
    "duration": 12,
    "start_time": "2021-09-08T09:49:22.489Z"
   },
   {
    "duration": 8738,
    "start_time": "2021-09-08T09:49:22.502Z"
   },
   {
    "duration": -436,
    "start_time": "2021-09-08T09:49:31.679Z"
   },
   {
    "duration": -442,
    "start_time": "2021-09-08T09:49:31.686Z"
   },
   {
    "duration": -447,
    "start_time": "2021-09-08T09:49:31.693Z"
   },
   {
    "duration": -450,
    "start_time": "2021-09-08T09:49:31.698Z"
   },
   {
    "duration": -455,
    "start_time": "2021-09-08T09:49:31.704Z"
   },
   {
    "duration": -459,
    "start_time": "2021-09-08T09:49:31.710Z"
   },
   {
    "duration": -464,
    "start_time": "2021-09-08T09:49:31.716Z"
   },
   {
    "duration": 31,
    "start_time": "2021-09-08T09:49:50.921Z"
   },
   {
    "duration": 296,
    "start_time": "2021-09-08T09:49:51.386Z"
   },
   {
    "duration": 8,
    "start_time": "2021-09-08T09:49:51.972Z"
   },
   {
    "duration": 1647,
    "start_time": "2021-09-08T09:50:01.458Z"
   },
   {
    "duration": 47,
    "start_time": "2021-09-08T09:50:03.107Z"
   },
   {
    "duration": 8,
    "start_time": "2021-09-08T09:50:03.158Z"
   },
   {
    "duration": 29,
    "start_time": "2021-09-08T09:50:03.168Z"
   },
   {
    "duration": 31,
    "start_time": "2021-09-08T09:50:03.198Z"
   },
   {
    "duration": 32,
    "start_time": "2021-09-08T09:50:03.231Z"
   },
   {
    "duration": 26,
    "start_time": "2021-09-08T09:50:03.266Z"
   },
   {
    "duration": 10,
    "start_time": "2021-09-08T09:50:03.294Z"
   },
   {
    "duration": 30,
    "start_time": "2021-09-08T09:50:03.306Z"
   },
   {
    "duration": 28,
    "start_time": "2021-09-08T09:50:03.338Z"
   },
   {
    "duration": 20,
    "start_time": "2021-09-08T09:50:03.368Z"
   },
   {
    "duration": 25,
    "start_time": "2021-09-08T09:50:03.390Z"
   },
   {
    "duration": 209,
    "start_time": "2021-09-08T09:50:03.417Z"
   },
   {
    "duration": 14,
    "start_time": "2021-09-08T09:50:03.628Z"
   },
   {
    "duration": 22,
    "start_time": "2021-09-08T09:50:03.644Z"
   },
   {
    "duration": 72,
    "start_time": "2021-09-08T09:50:03.667Z"
   },
   {
    "duration": 6,
    "start_time": "2021-09-08T09:50:03.741Z"
   },
   {
    "duration": 20,
    "start_time": "2021-09-08T09:50:03.749Z"
   },
   {
    "duration": 216,
    "start_time": "2021-09-08T09:50:03.771Z"
   },
   {
    "duration": 8,
    "start_time": "2021-09-08T09:50:03.989Z"
   },
   {
    "duration": 38,
    "start_time": "2021-09-08T09:50:03.998Z"
   },
   {
    "duration": 32,
    "start_time": "2021-09-08T09:50:04.040Z"
   },
   {
    "duration": 31,
    "start_time": "2021-09-08T09:50:04.074Z"
   },
   {
    "duration": 18,
    "start_time": "2021-09-08T09:50:04.107Z"
   },
   {
    "duration": 26,
    "start_time": "2021-09-08T09:50:04.127Z"
   },
   {
    "duration": 23,
    "start_time": "2021-09-08T09:50:04.155Z"
   },
   {
    "duration": 46,
    "start_time": "2021-09-08T09:50:04.179Z"
   },
   {
    "duration": 197,
    "start_time": "2021-09-08T09:50:04.227Z"
   },
   {
    "duration": 291,
    "start_time": "2021-09-08T09:50:04.426Z"
   },
   {
    "duration": 127,
    "start_time": "2021-09-08T09:50:04.719Z"
   },
   {
    "duration": 14,
    "start_time": "2021-09-08T09:50:04.848Z"
   },
   {
    "duration": 26,
    "start_time": "2021-09-08T09:50:04.863Z"
   },
   {
    "duration": 697,
    "start_time": "2021-09-08T09:50:04.891Z"
   },
   {
    "duration": 260,
    "start_time": "2021-09-08T09:50:05.590Z"
   },
   {
    "duration": 30,
    "start_time": "2021-09-08T09:50:05.853Z"
   },
   {
    "duration": 325,
    "start_time": "2021-09-08T09:50:05.885Z"
   },
   {
    "duration": 30,
    "start_time": "2021-09-08T09:50:06.212Z"
   },
   {
    "duration": 14,
    "start_time": "2021-09-08T09:50:06.244Z"
   },
   {
    "duration": 1128,
    "start_time": "2021-09-08T09:50:06.261Z"
   },
   {
    "duration": 6,
    "start_time": "2021-09-08T09:50:07.391Z"
   },
   {
    "duration": 27,
    "start_time": "2021-09-08T09:50:07.398Z"
   },
   {
    "duration": 35,
    "start_time": "2021-09-08T09:50:07.426Z"
   },
   {
    "duration": 21,
    "start_time": "2021-09-08T09:50:07.462Z"
   },
   {
    "duration": 11,
    "start_time": "2021-09-08T09:50:07.485Z"
   },
   {
    "duration": 19,
    "start_time": "2021-09-08T09:50:07.497Z"
   },
   {
    "duration": 40,
    "start_time": "2021-09-08T09:50:07.517Z"
   },
   {
    "duration": 20,
    "start_time": "2021-09-08T09:50:07.559Z"
   },
   {
    "duration": 16,
    "start_time": "2021-09-08T09:50:07.580Z"
   },
   {
    "duration": 157,
    "start_time": "2021-09-08T09:50:07.598Z"
   },
   {
    "duration": 320,
    "start_time": "2021-09-08T09:50:07.757Z"
   },
   {
    "duration": 4,
    "start_time": "2021-09-08T09:50:08.079Z"
   },
   {
    "duration": 383,
    "start_time": "2021-09-08T09:50:08.085Z"
   },
   {
    "duration": 9,
    "start_time": "2021-09-08T09:50:29.429Z"
   },
   {
    "duration": 1603,
    "start_time": "2021-09-08T09:50:43.707Z"
   },
   {
    "duration": 48,
    "start_time": "2021-09-08T09:50:45.312Z"
   },
   {
    "duration": 10,
    "start_time": "2021-09-08T09:50:45.363Z"
   },
   {
    "duration": 24,
    "start_time": "2021-09-08T09:50:45.376Z"
   },
   {
    "duration": 36,
    "start_time": "2021-09-08T09:50:45.402Z"
   },
   {
    "duration": 27,
    "start_time": "2021-09-08T09:50:45.439Z"
   },
   {
    "duration": 25,
    "start_time": "2021-09-08T09:50:45.468Z"
   },
   {
    "duration": 12,
    "start_time": "2021-09-08T09:50:45.495Z"
   },
   {
    "duration": 33,
    "start_time": "2021-09-08T09:50:45.510Z"
   },
   {
    "duration": 22,
    "start_time": "2021-09-08T09:50:45.546Z"
   },
   {
    "duration": 26,
    "start_time": "2021-09-08T09:50:45.570Z"
   },
   {
    "duration": 16,
    "start_time": "2021-09-08T09:50:45.597Z"
   },
   {
    "duration": 197,
    "start_time": "2021-09-08T09:50:45.614Z"
   },
   {
    "duration": 6,
    "start_time": "2021-09-08T09:50:45.813Z"
   },
   {
    "duration": 22,
    "start_time": "2021-09-08T09:50:45.820Z"
   },
   {
    "duration": 81,
    "start_time": "2021-09-08T09:50:45.844Z"
   },
   {
    "duration": 7,
    "start_time": "2021-09-08T09:50:45.927Z"
   },
   {
    "duration": 20,
    "start_time": "2021-09-08T09:50:45.936Z"
   },
   {
    "duration": 218,
    "start_time": "2021-09-08T09:50:45.958Z"
   },
   {
    "duration": 8,
    "start_time": "2021-09-08T09:50:46.178Z"
   },
   {
    "duration": 10,
    "start_time": "2021-09-08T09:50:46.188Z"
   },
   {
    "duration": 20,
    "start_time": "2021-09-08T09:50:46.200Z"
   },
   {
    "duration": 20,
    "start_time": "2021-09-08T09:50:46.222Z"
   },
   {
    "duration": 13,
    "start_time": "2021-09-08T09:50:46.244Z"
   },
   {
    "duration": 10,
    "start_time": "2021-09-08T09:50:46.259Z"
   },
   {
    "duration": 17,
    "start_time": "2021-09-08T09:50:46.271Z"
   },
   {
    "duration": 14,
    "start_time": "2021-09-08T09:50:46.293Z"
   },
   {
    "duration": 204,
    "start_time": "2021-09-08T09:50:46.310Z"
   },
   {
    "duration": 297,
    "start_time": "2021-09-08T09:50:46.516Z"
   },
   {
    "duration": 128,
    "start_time": "2021-09-08T09:50:46.814Z"
   },
   {
    "duration": 14,
    "start_time": "2021-09-08T09:50:46.944Z"
   },
   {
    "duration": 10,
    "start_time": "2021-09-08T09:50:46.959Z"
   },
   {
    "duration": 610,
    "start_time": "2021-09-08T09:50:46.970Z"
   },
   {
    "duration": 162,
    "start_time": "2021-09-08T09:50:47.582Z"
   },
   {
    "duration": 20,
    "start_time": "2021-09-08T09:50:47.746Z"
   },
   {
    "duration": 218,
    "start_time": "2021-09-08T09:50:47.768Z"
   },
   {
    "duration": 14,
    "start_time": "2021-09-08T09:50:47.988Z"
   },
   {
    "duration": 15,
    "start_time": "2021-09-08T09:50:48.003Z"
   },
   {
    "duration": 1010,
    "start_time": "2021-09-08T09:50:48.019Z"
   },
   {
    "duration": 6,
    "start_time": "2021-09-08T09:50:49.030Z"
   },
   {
    "duration": 26,
    "start_time": "2021-09-08T09:50:49.038Z"
   },
   {
    "duration": 51,
    "start_time": "2021-09-08T09:50:49.066Z"
   },
   {
    "duration": 29,
    "start_time": "2021-09-08T09:50:49.119Z"
   },
   {
    "duration": 12,
    "start_time": "2021-09-08T09:50:49.150Z"
   },
   {
    "duration": 24,
    "start_time": "2021-09-08T09:50:49.163Z"
   },
   {
    "duration": 27,
    "start_time": "2021-09-08T09:50:49.188Z"
   },
   {
    "duration": 36,
    "start_time": "2021-09-08T09:50:49.216Z"
   },
   {
    "duration": 15,
    "start_time": "2021-09-08T09:50:49.254Z"
   },
   {
    "duration": 159,
    "start_time": "2021-09-08T09:50:49.271Z"
   },
   {
    "duration": 316,
    "start_time": "2021-09-08T09:50:49.432Z"
   },
   {
    "duration": 4,
    "start_time": "2021-09-08T09:50:49.750Z"
   },
   {
    "duration": 389,
    "start_time": "2021-09-08T09:50:49.756Z"
   },
   {
    "duration": 12,
    "start_time": "2021-09-08T09:51:03.408Z"
   },
   {
    "duration": 11,
    "start_time": "2021-09-08T09:51:07.862Z"
   },
   {
    "duration": 401,
    "start_time": "2021-09-08T10:22:16.546Z"
   },
   {
    "duration": 1559,
    "start_time": "2021-09-08T10:23:57.181Z"
   },
   {
    "duration": 53,
    "start_time": "2021-09-08T10:23:58.742Z"
   },
   {
    "duration": 10,
    "start_time": "2021-09-08T10:23:58.799Z"
   },
   {
    "duration": 36,
    "start_time": "2021-09-08T10:23:58.811Z"
   },
   {
    "duration": 39,
    "start_time": "2021-09-08T10:23:58.850Z"
   },
   {
    "duration": 23,
    "start_time": "2021-09-08T10:23:58.890Z"
   },
   {
    "duration": 30,
    "start_time": "2021-09-08T10:23:58.914Z"
   },
   {
    "duration": 14,
    "start_time": "2021-09-08T10:23:58.947Z"
   },
   {
    "duration": 19,
    "start_time": "2021-09-08T10:23:58.963Z"
   },
   {
    "duration": 37,
    "start_time": "2021-09-08T10:23:58.984Z"
   },
   {
    "duration": 21,
    "start_time": "2021-09-08T10:23:59.023Z"
   },
   {
    "duration": 14,
    "start_time": "2021-09-08T10:23:59.046Z"
   },
   {
    "duration": 216,
    "start_time": "2021-09-08T10:23:59.062Z"
   },
   {
    "duration": 6,
    "start_time": "2021-09-08T10:23:59.280Z"
   },
   {
    "duration": 13,
    "start_time": "2021-09-08T10:23:59.288Z"
   },
   {
    "duration": 84,
    "start_time": "2021-09-08T10:23:59.303Z"
   },
   {
    "duration": 8,
    "start_time": "2021-09-08T10:23:59.389Z"
   },
   {
    "duration": 4,
    "start_time": "2021-09-08T10:23:59.399Z"
   },
   {
    "duration": 327,
    "start_time": "2021-09-08T10:23:59.405Z"
   },
   {
    "duration": 13,
    "start_time": "2021-09-08T10:23:59.734Z"
   },
   {
    "duration": 16,
    "start_time": "2021-09-08T10:23:59.748Z"
   },
   {
    "duration": 32,
    "start_time": "2021-09-08T10:23:59.765Z"
   },
   {
    "duration": 22,
    "start_time": "2021-09-08T10:23:59.799Z"
   },
   {
    "duration": 22,
    "start_time": "2021-09-08T10:23:59.823Z"
   },
   {
    "duration": 20,
    "start_time": "2021-09-08T10:23:59.847Z"
   },
   {
    "duration": 19,
    "start_time": "2021-09-08T10:23:59.872Z"
   },
   {
    "duration": 21,
    "start_time": "2021-09-08T10:23:59.894Z"
   },
   {
    "duration": 226,
    "start_time": "2021-09-08T10:23:59.917Z"
   },
   {
    "duration": 306,
    "start_time": "2021-09-08T10:24:00.144Z"
   },
   {
    "duration": 141,
    "start_time": "2021-09-08T10:24:00.451Z"
   },
   {
    "duration": 14,
    "start_time": "2021-09-08T10:24:00.594Z"
   },
   {
    "duration": 26,
    "start_time": "2021-09-08T10:24:00.610Z"
   },
   {
    "duration": 660,
    "start_time": "2021-09-08T10:24:00.638Z"
   },
   {
    "duration": 270,
    "start_time": "2021-09-08T10:24:01.300Z"
   },
   {
    "duration": 22,
    "start_time": "2021-09-08T10:24:01.572Z"
   },
   {
    "duration": 254,
    "start_time": "2021-09-08T10:24:01.596Z"
   },
   {
    "duration": 16,
    "start_time": "2021-09-08T10:24:01.852Z"
   },
   {
    "duration": 34,
    "start_time": "2021-09-08T10:24:01.870Z"
   },
   {
    "duration": 1138,
    "start_time": "2021-09-08T10:24:01.906Z"
   },
   {
    "duration": 5,
    "start_time": "2021-09-08T10:24:03.046Z"
   },
   {
    "duration": 408,
    "start_time": "2021-09-08T10:24:03.053Z"
   },
   {
    "duration": -618,
    "start_time": "2021-09-08T10:24:04.081Z"
   },
   {
    "duration": -628,
    "start_time": "2021-09-08T10:24:04.092Z"
   },
   {
    "duration": -634,
    "start_time": "2021-09-08T10:24:04.098Z"
   },
   {
    "duration": -643,
    "start_time": "2021-09-08T10:24:04.108Z"
   },
   {
    "duration": -648,
    "start_time": "2021-09-08T10:24:04.114Z"
   },
   {
    "duration": -657,
    "start_time": "2021-09-08T10:24:04.124Z"
   },
   {
    "duration": -662,
    "start_time": "2021-09-08T10:24:04.130Z"
   },
   {
    "duration": -671,
    "start_time": "2021-09-08T10:24:04.140Z"
   },
   {
    "duration": -676,
    "start_time": "2021-09-08T10:24:04.146Z"
   },
   {
    "duration": -685,
    "start_time": "2021-09-08T10:24:04.156Z"
   },
   {
    "duration": -691,
    "start_time": "2021-09-08T10:24:04.163Z"
   },
   {
    "duration": 268,
    "start_time": "2021-09-08T10:25:59.090Z"
   },
   {
    "duration": 584,
    "start_time": "2021-09-08T10:26:08.002Z"
   },
   {
    "duration": 271,
    "start_time": "2021-09-08T10:26:13.952Z"
   },
   {
    "duration": 117,
    "start_time": "2021-09-08T10:27:13.838Z"
   },
   {
    "duration": 7,
    "start_time": "2021-09-08T10:27:20.819Z"
   },
   {
    "duration": 23,
    "start_time": "2021-09-08T10:27:26.031Z"
   },
   {
    "duration": 16,
    "start_time": "2021-09-08T10:27:26.957Z"
   },
   {
    "duration": 14,
    "start_time": "2021-09-08T10:27:27.818Z"
   },
   {
    "duration": 15,
    "start_time": "2021-09-08T10:28:03.585Z"
   },
   {
    "duration": 55,
    "start_time": "2021-09-08T10:28:07.018Z"
   },
   {
    "duration": 264,
    "start_time": "2021-09-08T10:28:07.852Z"
   },
   {
    "duration": 287,
    "start_time": "2021-09-08T10:28:15.510Z"
   },
   {
    "duration": 1532,
    "start_time": "2021-09-08T10:28:22.995Z"
   },
   {
    "duration": 51,
    "start_time": "2021-09-08T10:28:24.529Z"
   },
   {
    "duration": 10,
    "start_time": "2021-09-08T10:28:24.582Z"
   },
   {
    "duration": 29,
    "start_time": "2021-09-08T10:28:24.594Z"
   },
   {
    "duration": 28,
    "start_time": "2021-09-08T10:28:24.625Z"
   },
   {
    "duration": 20,
    "start_time": "2021-09-08T10:28:24.655Z"
   },
   {
    "duration": 23,
    "start_time": "2021-09-08T10:28:24.677Z"
   },
   {
    "duration": 12,
    "start_time": "2021-09-08T10:28:24.703Z"
   },
   {
    "duration": 34,
    "start_time": "2021-09-08T10:28:24.717Z"
   },
   {
    "duration": 27,
    "start_time": "2021-09-08T10:28:24.753Z"
   },
   {
    "duration": 13,
    "start_time": "2021-09-08T10:28:24.781Z"
   },
   {
    "duration": 12,
    "start_time": "2021-09-08T10:28:24.796Z"
   },
   {
    "duration": 237,
    "start_time": "2021-09-08T10:28:24.810Z"
   },
   {
    "duration": 7,
    "start_time": "2021-09-08T10:28:25.049Z"
   },
   {
    "duration": 15,
    "start_time": "2021-09-08T10:28:25.057Z"
   },
   {
    "duration": 86,
    "start_time": "2021-09-08T10:28:25.073Z"
   },
   {
    "duration": 8,
    "start_time": "2021-09-08T10:28:25.160Z"
   },
   {
    "duration": 8,
    "start_time": "2021-09-08T10:28:25.170Z"
   },
   {
    "duration": 216,
    "start_time": "2021-09-08T10:28:25.180Z"
   },
   {
    "duration": 8,
    "start_time": "2021-09-08T10:28:25.398Z"
   },
   {
    "duration": 14,
    "start_time": "2021-09-08T10:28:25.408Z"
   },
   {
    "duration": 19,
    "start_time": "2021-09-08T10:28:25.424Z"
   },
   {
    "duration": 14,
    "start_time": "2021-09-08T10:28:25.447Z"
   },
   {
    "duration": 17,
    "start_time": "2021-09-08T10:28:25.463Z"
   },
   {
    "duration": 9,
    "start_time": "2021-09-08T10:28:25.482Z"
   },
   {
    "duration": 11,
    "start_time": "2021-09-08T10:28:25.493Z"
   },
   {
    "duration": 37,
    "start_time": "2021-09-08T10:28:25.505Z"
   },
   {
    "duration": 215,
    "start_time": "2021-09-08T10:28:25.544Z"
   },
   {
    "duration": 300,
    "start_time": "2021-09-08T10:28:25.761Z"
   },
   {
    "duration": 138,
    "start_time": "2021-09-08T10:28:26.063Z"
   },
   {
    "duration": 15,
    "start_time": "2021-09-08T10:28:26.203Z"
   },
   {
    "duration": 23,
    "start_time": "2021-09-08T10:28:26.220Z"
   },
   {
    "duration": 734,
    "start_time": "2021-09-08T10:28:26.246Z"
   },
   {
    "duration": 173,
    "start_time": "2021-09-08T10:28:26.982Z"
   },
   {
    "duration": 24,
    "start_time": "2021-09-08T10:28:27.157Z"
   },
   {
    "duration": 334,
    "start_time": "2021-09-08T10:28:27.183Z"
   },
   {
    "duration": 28,
    "start_time": "2021-09-08T10:28:27.520Z"
   },
   {
    "duration": 17,
    "start_time": "2021-09-08T10:28:27.550Z"
   },
   {
    "duration": 829,
    "start_time": "2021-09-08T10:28:27.569Z"
   },
   {
    "duration": 5,
    "start_time": "2021-09-08T10:28:28.400Z"
   },
   {
    "duration": 14,
    "start_time": "2021-09-08T10:28:28.406Z"
   },
   {
    "duration": 15,
    "start_time": "2021-09-08T10:28:28.422Z"
   },
   {
    "duration": 37,
    "start_time": "2021-09-08T10:28:28.439Z"
   },
   {
    "duration": 16,
    "start_time": "2021-09-08T10:28:28.477Z"
   },
   {
    "duration": 11,
    "start_time": "2021-09-08T10:28:28.495Z"
   },
   {
    "duration": 25,
    "start_time": "2021-09-08T10:28:28.508Z"
   },
   {
    "duration": 29,
    "start_time": "2021-09-08T10:28:28.534Z"
   },
   {
    "duration": 20,
    "start_time": "2021-09-08T10:28:28.565Z"
   },
   {
    "duration": 15,
    "start_time": "2021-09-08T10:28:28.587Z"
   },
   {
    "duration": 180,
    "start_time": "2021-09-08T10:28:28.604Z"
   },
   {
    "duration": 356,
    "start_time": "2021-09-08T10:28:28.786Z"
   },
   {
    "duration": 4,
    "start_time": "2021-09-08T10:28:29.145Z"
   },
   {
    "duration": 409,
    "start_time": "2021-09-08T10:28:29.151Z"
   },
   {
    "duration": 60,
    "start_time": "2021-09-08T10:28:54.091Z"
   },
   {
    "duration": 485,
    "start_time": "2021-09-08T10:28:54.886Z"
   },
   {
    "duration": 10,
    "start_time": "2021-09-08T10:29:20.876Z"
   },
   {
    "duration": 17,
    "start_time": "2021-09-08T10:29:24.478Z"
   },
   {
    "duration": 1662,
    "start_time": "2021-09-08T10:29:44.757Z"
   },
   {
    "duration": 55,
    "start_time": "2021-09-08T10:29:46.421Z"
   },
   {
    "duration": 10,
    "start_time": "2021-09-08T10:29:46.478Z"
   },
   {
    "duration": 33,
    "start_time": "2021-09-08T10:29:46.490Z"
   },
   {
    "duration": 80,
    "start_time": "2021-09-08T10:29:46.525Z"
   },
   {
    "duration": 42,
    "start_time": "2021-09-08T10:29:46.607Z"
   },
   {
    "duration": 96,
    "start_time": "2021-09-08T10:29:46.651Z"
   },
   {
    "duration": 13,
    "start_time": "2021-09-08T10:29:46.749Z"
   },
   {
    "duration": 31,
    "start_time": "2021-09-08T10:29:46.765Z"
   },
   {
    "duration": 25,
    "start_time": "2021-09-08T10:29:46.799Z"
   },
   {
    "duration": 28,
    "start_time": "2021-09-08T10:29:46.826Z"
   },
   {
    "duration": 21,
    "start_time": "2021-09-08T10:29:46.856Z"
   },
   {
    "duration": 216,
    "start_time": "2021-09-08T10:29:46.879Z"
   },
   {
    "duration": 6,
    "start_time": "2021-09-08T10:29:47.098Z"
   },
   {
    "duration": 23,
    "start_time": "2021-09-08T10:29:47.106Z"
   },
   {
    "duration": 84,
    "start_time": "2021-09-08T10:29:47.131Z"
   },
   {
    "duration": 7,
    "start_time": "2021-09-08T10:29:47.217Z"
   },
   {
    "duration": 13,
    "start_time": "2021-09-08T10:29:47.226Z"
   },
   {
    "duration": 229,
    "start_time": "2021-09-08T10:29:47.241Z"
   },
   {
    "duration": 11,
    "start_time": "2021-09-08T10:29:47.472Z"
   },
   {
    "duration": 19,
    "start_time": "2021-09-08T10:29:47.485Z"
   },
   {
    "duration": 39,
    "start_time": "2021-09-08T10:29:47.506Z"
   },
   {
    "duration": 25,
    "start_time": "2021-09-08T10:29:47.547Z"
   },
   {
    "duration": 10,
    "start_time": "2021-09-08T10:29:47.574Z"
   },
   {
    "duration": 14,
    "start_time": "2021-09-08T10:29:47.585Z"
   },
   {
    "duration": 43,
    "start_time": "2021-09-08T10:29:47.601Z"
   },
   {
    "duration": 22,
    "start_time": "2021-09-08T10:29:47.648Z"
   },
   {
    "duration": 213,
    "start_time": "2021-09-08T10:29:47.672Z"
   },
   {
    "duration": 308,
    "start_time": "2021-09-08T10:29:47.887Z"
   },
   {
    "duration": 135,
    "start_time": "2021-09-08T10:29:48.197Z"
   },
   {
    "duration": 19,
    "start_time": "2021-09-08T10:29:48.334Z"
   },
   {
    "duration": 20,
    "start_time": "2021-09-08T10:29:48.355Z"
   },
   {
    "duration": 775,
    "start_time": "2021-09-08T10:29:48.377Z"
   },
   {
    "duration": 176,
    "start_time": "2021-09-08T10:29:49.154Z"
   },
   {
    "duration": 28,
    "start_time": "2021-09-08T10:29:49.332Z"
   },
   {
    "duration": 232,
    "start_time": "2021-09-08T10:29:49.362Z"
   },
   {
    "duration": 15,
    "start_time": "2021-09-08T10:29:49.596Z"
   },
   {
    "duration": 27,
    "start_time": "2021-09-08T10:29:49.613Z"
   },
   {
    "duration": 968,
    "start_time": "2021-09-08T10:29:49.642Z"
   },
   {
    "duration": 7,
    "start_time": "2021-09-08T10:29:50.613Z"
   },
   {
    "duration": 53,
    "start_time": "2021-09-08T10:29:50.622Z"
   },
   {
    "duration": 30,
    "start_time": "2021-09-08T10:29:50.677Z"
   },
   {
    "duration": 45,
    "start_time": "2021-09-08T10:29:50.710Z"
   },
   {
    "duration": 19,
    "start_time": "2021-09-08T10:29:50.756Z"
   },
   {
    "duration": 14,
    "start_time": "2021-09-08T10:29:50.777Z"
   },
   {
    "duration": 38,
    "start_time": "2021-09-08T10:29:50.793Z"
   },
   {
    "duration": 39,
    "start_time": "2021-09-08T10:29:50.834Z"
   },
   {
    "duration": 24,
    "start_time": "2021-09-08T10:29:50.874Z"
   },
   {
    "duration": 27,
    "start_time": "2021-09-08T10:29:50.900Z"
   },
   {
    "duration": 179,
    "start_time": "2021-09-08T10:29:50.929Z"
   },
   {
    "duration": 450,
    "start_time": "2021-09-08T10:29:51.110Z"
   },
   {
    "duration": 5,
    "start_time": "2021-09-08T10:29:51.563Z"
   },
   {
    "duration": 424,
    "start_time": "2021-09-08T10:29:51.570Z"
   },
   {
    "duration": 1609,
    "start_time": "2021-09-08T10:30:02.139Z"
   },
   {
    "duration": 52,
    "start_time": "2021-09-08T10:30:03.750Z"
   },
   {
    "duration": 10,
    "start_time": "2021-09-08T10:30:03.805Z"
   },
   {
    "duration": 28,
    "start_time": "2021-09-08T10:30:03.817Z"
   },
   {
    "duration": 40,
    "start_time": "2021-09-08T10:30:03.847Z"
   },
   {
    "duration": 27,
    "start_time": "2021-09-08T10:30:03.888Z"
   },
   {
    "duration": 25,
    "start_time": "2021-09-08T10:30:03.917Z"
   },
   {
    "duration": 14,
    "start_time": "2021-09-08T10:30:03.946Z"
   },
   {
    "duration": 35,
    "start_time": "2021-09-08T10:30:03.963Z"
   },
   {
    "duration": 45,
    "start_time": "2021-09-08T10:30:04.000Z"
   },
   {
    "duration": 32,
    "start_time": "2021-09-08T10:30:04.047Z"
   },
   {
    "duration": 28,
    "start_time": "2021-09-08T10:30:04.081Z"
   },
   {
    "duration": 226,
    "start_time": "2021-09-08T10:30:04.111Z"
   },
   {
    "duration": 7,
    "start_time": "2021-09-08T10:30:04.340Z"
   },
   {
    "duration": 24,
    "start_time": "2021-09-08T10:30:04.349Z"
   },
   {
    "duration": 92,
    "start_time": "2021-09-08T10:30:04.375Z"
   },
   {
    "duration": 8,
    "start_time": "2021-09-08T10:30:04.469Z"
   },
   {
    "duration": 15,
    "start_time": "2021-09-08T10:30:04.479Z"
   },
   {
    "duration": 249,
    "start_time": "2021-09-08T10:30:04.496Z"
   },
   {
    "duration": 8,
    "start_time": "2021-09-08T10:30:04.747Z"
   },
   {
    "duration": 28,
    "start_time": "2021-09-08T10:30:04.756Z"
   },
   {
    "duration": 33,
    "start_time": "2021-09-08T10:30:04.786Z"
   },
   {
    "duration": 33,
    "start_time": "2021-09-08T10:30:04.823Z"
   },
   {
    "duration": 34,
    "start_time": "2021-09-08T10:30:04.858Z"
   },
   {
    "duration": 28,
    "start_time": "2021-09-08T10:30:04.894Z"
   },
   {
    "duration": 29,
    "start_time": "2021-09-08T10:30:04.924Z"
   },
   {
    "duration": 33,
    "start_time": "2021-09-08T10:30:04.955Z"
   },
   {
    "duration": 212,
    "start_time": "2021-09-08T10:30:04.990Z"
   },
   {
    "duration": 315,
    "start_time": "2021-09-08T10:30:05.204Z"
   },
   {
    "duration": 134,
    "start_time": "2021-09-08T10:30:05.521Z"
   },
   {
    "duration": 16,
    "start_time": "2021-09-08T10:30:05.658Z"
   },
   {
    "duration": 32,
    "start_time": "2021-09-08T10:30:05.676Z"
   },
   {
    "duration": 663,
    "start_time": "2021-09-08T10:30:05.710Z"
   },
   {
    "duration": 180,
    "start_time": "2021-09-08T10:30:06.374Z"
   },
   {
    "duration": 22,
    "start_time": "2021-09-08T10:30:06.556Z"
   },
   {
    "duration": 235,
    "start_time": "2021-09-08T10:30:06.580Z"
   },
   {
    "duration": 15,
    "start_time": "2021-09-08T10:30:06.817Z"
   },
   {
    "duration": 24,
    "start_time": "2021-09-08T10:30:06.841Z"
   },
   {
    "duration": 723,
    "start_time": "2021-09-08T10:30:06.867Z"
   },
   {
    "duration": 6,
    "start_time": "2021-09-08T10:30:07.592Z"
   },
   {
    "duration": 34,
    "start_time": "2021-09-08T10:30:07.600Z"
   },
   {
    "duration": 25,
    "start_time": "2021-09-08T10:30:07.636Z"
   },
   {
    "duration": 25,
    "start_time": "2021-09-08T10:30:07.663Z"
   },
   {
    "duration": 12,
    "start_time": "2021-09-08T10:30:07.690Z"
   },
   {
    "duration": 33,
    "start_time": "2021-09-08T10:30:07.705Z"
   },
   {
    "duration": 8617,
    "start_time": "2021-09-08T10:30:07.740Z"
   },
   {
    "duration": -642,
    "start_time": "2021-09-08T10:30:17.001Z"
   },
   {
    "duration": -648,
    "start_time": "2021-09-08T10:30:17.008Z"
   },
   {
    "duration": -653,
    "start_time": "2021-09-08T10:30:17.014Z"
   },
   {
    "duration": -660,
    "start_time": "2021-09-08T10:30:17.021Z"
   },
   {
    "duration": -666,
    "start_time": "2021-09-08T10:30:17.028Z"
   },
   {
    "duration": -671,
    "start_time": "2021-09-08T10:30:17.034Z"
   },
   {
    "duration": -677,
    "start_time": "2021-09-08T10:30:17.041Z"
   },
   {
    "duration": 17,
    "start_time": "2021-09-08T10:30:20.708Z"
   },
   {
    "duration": 11,
    "start_time": "2021-09-08T10:30:21.927Z"
   },
   {
    "duration": 18,
    "start_time": "2021-09-08T10:30:24.813Z"
   },
   {
    "duration": 1895,
    "start_time": "2021-09-08T10:30:30.939Z"
   },
   {
    "duration": 51,
    "start_time": "2021-09-08T10:30:32.836Z"
   },
   {
    "duration": 10,
    "start_time": "2021-09-08T10:30:32.889Z"
   },
   {
    "duration": 36,
    "start_time": "2021-09-08T10:30:32.901Z"
   },
   {
    "duration": 37,
    "start_time": "2021-09-08T10:30:32.939Z"
   },
   {
    "duration": 28,
    "start_time": "2021-09-08T10:30:32.978Z"
   },
   {
    "duration": 26,
    "start_time": "2021-09-08T10:30:33.008Z"
   },
   {
    "duration": 28,
    "start_time": "2021-09-08T10:30:33.037Z"
   },
   {
    "duration": 20,
    "start_time": "2021-09-08T10:30:33.067Z"
   },
   {
    "duration": 52,
    "start_time": "2021-09-08T10:30:33.089Z"
   },
   {
    "duration": 54,
    "start_time": "2021-09-08T10:30:33.143Z"
   },
   {
    "duration": 20,
    "start_time": "2021-09-08T10:30:33.198Z"
   },
   {
    "duration": 321,
    "start_time": "2021-09-08T10:30:33.221Z"
   },
   {
    "duration": 6,
    "start_time": "2021-09-08T10:30:33.544Z"
   },
   {
    "duration": 37,
    "start_time": "2021-09-08T10:30:33.552Z"
   },
   {
    "duration": 90,
    "start_time": "2021-09-08T10:30:33.591Z"
   },
   {
    "duration": 7,
    "start_time": "2021-09-08T10:30:33.683Z"
   },
   {
    "duration": 23,
    "start_time": "2021-09-08T10:30:33.692Z"
   },
   {
    "duration": 331,
    "start_time": "2021-09-08T10:30:33.717Z"
   },
   {
    "duration": 11,
    "start_time": "2021-09-08T10:30:34.050Z"
   },
   {
    "duration": 11,
    "start_time": "2021-09-08T10:30:34.063Z"
   },
   {
    "duration": 64,
    "start_time": "2021-09-08T10:30:34.077Z"
   },
   {
    "duration": 16,
    "start_time": "2021-09-08T10:30:34.145Z"
   },
   {
    "duration": 18,
    "start_time": "2021-09-08T10:30:34.163Z"
   },
   {
    "duration": 13,
    "start_time": "2021-09-08T10:30:34.183Z"
   },
   {
    "duration": 22,
    "start_time": "2021-09-08T10:30:34.198Z"
   },
   {
    "duration": 20,
    "start_time": "2021-09-08T10:30:34.222Z"
   },
   {
    "duration": 338,
    "start_time": "2021-09-08T10:30:34.244Z"
   },
   {
    "duration": 440,
    "start_time": "2021-09-08T10:30:34.584Z"
   },
   {
    "duration": 137,
    "start_time": "2021-09-08T10:30:35.026Z"
   },
   {
    "duration": 17,
    "start_time": "2021-09-08T10:30:35.165Z"
   },
   {
    "duration": 14,
    "start_time": "2021-09-08T10:30:35.183Z"
   },
   {
    "duration": 642,
    "start_time": "2021-09-08T10:30:35.199Z"
   },
   {
    "duration": 175,
    "start_time": "2021-09-08T10:30:35.844Z"
   },
   {
    "duration": 32,
    "start_time": "2021-09-08T10:30:36.021Z"
   },
   {
    "duration": 233,
    "start_time": "2021-09-08T10:30:36.055Z"
   },
   {
    "duration": 17,
    "start_time": "2021-09-08T10:30:36.291Z"
   },
   {
    "duration": 39,
    "start_time": "2021-09-08T10:30:36.311Z"
   },
   {
    "duration": 770,
    "start_time": "2021-09-08T10:30:36.352Z"
   },
   {
    "duration": 7,
    "start_time": "2021-09-08T10:30:37.124Z"
   },
   {
    "duration": 27,
    "start_time": "2021-09-08T10:30:37.133Z"
   },
   {
    "duration": 25,
    "start_time": "2021-09-08T10:30:37.162Z"
   },
   {
    "duration": 30,
    "start_time": "2021-09-08T10:30:37.189Z"
   },
   {
    "duration": 15,
    "start_time": "2021-09-08T10:30:37.222Z"
   },
   {
    "duration": 17,
    "start_time": "2021-09-08T10:30:37.239Z"
   },
   {
    "duration": 26,
    "start_time": "2021-09-08T10:30:37.258Z"
   },
   {
    "duration": 31,
    "start_time": "2021-09-08T10:30:37.285Z"
   },
   {
    "duration": 29,
    "start_time": "2021-09-08T10:30:37.318Z"
   },
   {
    "duration": 24,
    "start_time": "2021-09-08T10:30:37.349Z"
   },
   {
    "duration": 160,
    "start_time": "2021-09-08T10:30:37.375Z"
   },
   {
    "duration": 349,
    "start_time": "2021-09-08T10:30:37.537Z"
   },
   {
    "duration": 5,
    "start_time": "2021-09-08T10:30:37.889Z"
   },
   {
    "duration": 418,
    "start_time": "2021-09-08T10:30:37.897Z"
   },
   {
    "duration": 7,
    "start_time": "2021-09-08T10:31:33.314Z"
   },
   {
    "duration": 8,
    "start_time": "2021-09-08T10:31:50.782Z"
   },
   {
    "duration": 15,
    "start_time": "2021-09-08T10:31:51.581Z"
   },
   {
    "duration": 59,
    "start_time": "2021-09-08T10:31:54.771Z"
   },
   {
    "duration": 437,
    "start_time": "2021-09-08T10:31:55.521Z"
   },
   {
    "duration": 1539,
    "start_time": "2021-09-08T10:32:10.391Z"
   },
   {
    "duration": 52,
    "start_time": "2021-09-08T10:32:11.932Z"
   },
   {
    "duration": 11,
    "start_time": "2021-09-08T10:32:11.986Z"
   },
   {
    "duration": 18,
    "start_time": "2021-09-08T10:32:11.999Z"
   },
   {
    "duration": 42,
    "start_time": "2021-09-08T10:32:12.019Z"
   },
   {
    "duration": 26,
    "start_time": "2021-09-08T10:32:12.063Z"
   },
   {
    "duration": 26,
    "start_time": "2021-09-08T10:32:12.091Z"
   },
   {
    "duration": 32,
    "start_time": "2021-09-08T10:32:12.119Z"
   },
   {
    "duration": 13,
    "start_time": "2021-09-08T10:32:12.154Z"
   },
   {
    "duration": 20,
    "start_time": "2021-09-08T10:32:12.170Z"
   },
   {
    "duration": 16,
    "start_time": "2021-09-08T10:32:12.192Z"
   },
   {
    "duration": 38,
    "start_time": "2021-09-08T10:32:12.210Z"
   },
   {
    "duration": 222,
    "start_time": "2021-09-08T10:32:12.250Z"
   },
   {
    "duration": 7,
    "start_time": "2021-09-08T10:32:12.474Z"
   },
   {
    "duration": 9,
    "start_time": "2021-09-08T10:32:12.483Z"
   },
   {
    "duration": 91,
    "start_time": "2021-09-08T10:32:12.494Z"
   },
   {
    "duration": 8,
    "start_time": "2021-09-08T10:32:12.587Z"
   },
   {
    "duration": 4,
    "start_time": "2021-09-08T10:32:12.596Z"
   },
   {
    "duration": 225,
    "start_time": "2021-09-08T10:32:12.602Z"
   },
   {
    "duration": 13,
    "start_time": "2021-09-08T10:32:12.829Z"
   },
   {
    "duration": 19,
    "start_time": "2021-09-08T10:32:12.844Z"
   },
   {
    "duration": 21,
    "start_time": "2021-09-08T10:32:12.865Z"
   },
   {
    "duration": 15,
    "start_time": "2021-09-08T10:32:12.888Z"
   },
   {
    "duration": 15,
    "start_time": "2021-09-08T10:32:12.904Z"
   },
   {
    "duration": 10,
    "start_time": "2021-09-08T10:32:12.921Z"
   },
   {
    "duration": 11,
    "start_time": "2021-09-08T10:32:12.933Z"
   },
   {
    "duration": 11,
    "start_time": "2021-09-08T10:32:12.948Z"
   },
   {
    "duration": 230,
    "start_time": "2021-09-08T10:32:12.961Z"
   },
   {
    "duration": 300,
    "start_time": "2021-09-08T10:32:13.192Z"
   },
   {
    "duration": 131,
    "start_time": "2021-09-08T10:32:13.495Z"
   },
   {
    "duration": 20,
    "start_time": "2021-09-08T10:32:13.628Z"
   },
   {
    "duration": 15,
    "start_time": "2021-09-08T10:32:13.650Z"
   },
   {
    "duration": 639,
    "start_time": "2021-09-08T10:32:13.667Z"
   },
   {
    "duration": 170,
    "start_time": "2021-09-08T10:32:14.307Z"
   },
   {
    "duration": 24,
    "start_time": "2021-09-08T10:32:14.479Z"
   },
   {
    "duration": 252,
    "start_time": "2021-09-08T10:32:14.505Z"
   },
   {
    "duration": 16,
    "start_time": "2021-09-08T10:32:14.759Z"
   },
   {
    "duration": 21,
    "start_time": "2021-09-08T10:32:14.777Z"
   },
   {
    "duration": 786,
    "start_time": "2021-09-08T10:32:14.800Z"
   },
   {
    "duration": 7,
    "start_time": "2021-09-08T10:32:15.588Z"
   },
   {
    "duration": 29,
    "start_time": "2021-09-08T10:32:15.597Z"
   },
   {
    "duration": 22,
    "start_time": "2021-09-08T10:32:15.628Z"
   },
   {
    "duration": 20,
    "start_time": "2021-09-08T10:32:15.651Z"
   },
   {
    "duration": 34,
    "start_time": "2021-09-08T10:32:15.673Z"
   },
   {
    "duration": 15,
    "start_time": "2021-09-08T10:32:15.710Z"
   },
   {
    "duration": 12,
    "start_time": "2021-09-08T10:32:15.727Z"
   },
   {
    "duration": 26,
    "start_time": "2021-09-08T10:32:15.740Z"
   },
   {
    "duration": 27,
    "start_time": "2021-09-08T10:32:15.768Z"
   },
   {
    "duration": 21,
    "start_time": "2021-09-08T10:32:15.797Z"
   },
   {
    "duration": 31,
    "start_time": "2021-09-08T10:32:15.820Z"
   },
   {
    "duration": 162,
    "start_time": "2021-09-08T10:32:15.852Z"
   },
   {
    "duration": 351,
    "start_time": "2021-09-08T10:32:16.015Z"
   },
   {
    "duration": 4,
    "start_time": "2021-09-08T10:32:16.368Z"
   },
   {
    "duration": 456,
    "start_time": "2021-09-08T10:32:16.374Z"
   },
   {
    "duration": 2193,
    "start_time": "2021-09-08T11:46:43.718Z"
   },
   {
    "duration": 58,
    "start_time": "2021-09-08T11:46:45.914Z"
   },
   {
    "duration": 10,
    "start_time": "2021-09-08T11:46:45.976Z"
   },
   {
    "duration": 19,
    "start_time": "2021-09-08T11:46:45.988Z"
   },
   {
    "duration": 42,
    "start_time": "2021-09-08T11:46:46.009Z"
   },
   {
    "duration": 28,
    "start_time": "2021-09-08T11:46:46.053Z"
   },
   {
    "duration": 27,
    "start_time": "2021-09-08T11:46:46.084Z"
   },
   {
    "duration": 38,
    "start_time": "2021-09-08T11:46:46.114Z"
   },
   {
    "duration": 14,
    "start_time": "2021-09-08T11:46:46.154Z"
   },
   {
    "duration": 23,
    "start_time": "2021-09-08T11:46:46.170Z"
   },
   {
    "duration": 13,
    "start_time": "2021-09-08T11:46:46.195Z"
   },
   {
    "duration": 13,
    "start_time": "2021-09-08T11:46:46.241Z"
   },
   {
    "duration": 255,
    "start_time": "2021-09-08T11:46:46.256Z"
   },
   {
    "duration": 7,
    "start_time": "2021-09-08T11:46:46.513Z"
   },
   {
    "duration": 7,
    "start_time": "2021-09-08T11:46:46.521Z"
   },
   {
    "duration": 77,
    "start_time": "2021-09-08T11:46:46.542Z"
   },
   {
    "duration": 10,
    "start_time": "2021-09-08T11:46:46.641Z"
   },
   {
    "duration": 4,
    "start_time": "2021-09-08T11:46:46.656Z"
   },
   {
    "duration": 269,
    "start_time": "2021-09-08T11:46:46.662Z"
   },
   {
    "duration": 15,
    "start_time": "2021-09-08T11:46:46.941Z"
   },
   {
    "duration": 6,
    "start_time": "2021-09-08T11:46:46.958Z"
   },
   {
    "duration": 14,
    "start_time": "2021-09-08T11:46:46.969Z"
   },
   {
    "duration": 16,
    "start_time": "2021-09-08T11:46:46.985Z"
   },
   {
    "duration": 49,
    "start_time": "2021-09-08T11:46:47.003Z"
   },
   {
    "duration": 11,
    "start_time": "2021-09-08T11:46:47.056Z"
   },
   {
    "duration": 19,
    "start_time": "2021-09-08T11:46:47.069Z"
   },
   {
    "duration": 15,
    "start_time": "2021-09-08T11:46:47.090Z"
   },
   {
    "duration": 260,
    "start_time": "2021-09-08T11:46:47.107Z"
   },
   {
    "duration": 334,
    "start_time": "2021-09-08T11:46:47.369Z"
   },
   {
    "duration": 153,
    "start_time": "2021-09-08T11:46:47.705Z"
   },
   {
    "duration": 17,
    "start_time": "2021-09-08T11:46:47.860Z"
   },
   {
    "duration": 12,
    "start_time": "2021-09-08T11:46:47.879Z"
   },
   {
    "duration": 761,
    "start_time": "2021-09-08T11:46:47.893Z"
   },
   {
    "duration": 197,
    "start_time": "2021-09-08T11:46:48.656Z"
   },
   {
    "duration": 25,
    "start_time": "2021-09-08T11:46:48.855Z"
   },
   {
    "duration": 336,
    "start_time": "2021-09-08T11:46:48.882Z"
   },
   {
    "duration": 31,
    "start_time": "2021-09-08T11:46:49.220Z"
   },
   {
    "duration": 17,
    "start_time": "2021-09-08T11:46:49.254Z"
   },
   {
    "duration": 1203,
    "start_time": "2021-09-08T11:46:49.274Z"
   },
   {
    "duration": 7,
    "start_time": "2021-09-08T11:46:50.479Z"
   },
   {
    "duration": 14,
    "start_time": "2021-09-08T11:46:50.488Z"
   },
   {
    "duration": 11,
    "start_time": "2021-09-08T11:46:50.504Z"
   },
   {
    "duration": 14,
    "start_time": "2021-09-08T11:46:50.517Z"
   },
   {
    "duration": 33,
    "start_time": "2021-09-08T11:46:50.533Z"
   },
   {
    "duration": 17,
    "start_time": "2021-09-08T11:46:50.567Z"
   },
   {
    "duration": 13,
    "start_time": "2021-09-08T11:46:50.585Z"
   },
   {
    "duration": 47,
    "start_time": "2021-09-08T11:46:50.599Z"
   },
   {
    "duration": 34,
    "start_time": "2021-09-08T11:46:50.649Z"
   },
   {
    "duration": 23,
    "start_time": "2021-09-08T11:46:50.685Z"
   },
   {
    "duration": 51,
    "start_time": "2021-09-08T11:46:50.709Z"
   },
   {
    "duration": 178,
    "start_time": "2021-09-08T11:46:50.761Z"
   },
   {
    "duration": 419,
    "start_time": "2021-09-08T11:46:50.942Z"
   },
   {
    "duration": 5,
    "start_time": "2021-09-08T11:46:51.363Z"
   },
   {
    "duration": 480,
    "start_time": "2021-09-08T11:46:51.369Z"
   },
   {
    "duration": 422,
    "start_time": "2021-09-08T11:49:09.607Z"
   },
   {
    "duration": 318,
    "start_time": "2021-09-08T12:04:24.200Z"
   },
   {
    "duration": 1697,
    "start_time": "2021-09-08T12:04:40.227Z"
   },
   {
    "duration": 55,
    "start_time": "2021-09-08T12:04:41.926Z"
   },
   {
    "duration": 9,
    "start_time": "2021-09-08T12:04:41.984Z"
   },
   {
    "duration": 25,
    "start_time": "2021-09-08T12:04:41.995Z"
   },
   {
    "duration": 45,
    "start_time": "2021-09-08T12:04:42.022Z"
   },
   {
    "duration": 22,
    "start_time": "2021-09-08T12:04:42.069Z"
   },
   {
    "duration": 26,
    "start_time": "2021-09-08T12:04:42.093Z"
   },
   {
    "duration": 29,
    "start_time": "2021-09-08T12:04:42.121Z"
   },
   {
    "duration": 21,
    "start_time": "2021-09-08T12:04:42.153Z"
   },
   {
    "duration": 25,
    "start_time": "2021-09-08T12:04:42.177Z"
   },
   {
    "duration": 39,
    "start_time": "2021-09-08T12:04:42.204Z"
   },
   {
    "duration": 20,
    "start_time": "2021-09-08T12:04:42.246Z"
   },
   {
    "duration": 253,
    "start_time": "2021-09-08T12:04:42.267Z"
   },
   {
    "duration": 20,
    "start_time": "2021-09-08T12:04:42.521Z"
   },
   {
    "duration": 9,
    "start_time": "2021-09-08T12:04:42.544Z"
   },
   {
    "duration": 100,
    "start_time": "2021-09-08T12:04:42.555Z"
   },
   {
    "duration": 9,
    "start_time": "2021-09-08T12:04:42.657Z"
   },
   {
    "duration": 20,
    "start_time": "2021-09-08T12:04:42.668Z"
   },
   {
    "duration": 257,
    "start_time": "2021-09-08T12:04:42.690Z"
   },
   {
    "duration": 13,
    "start_time": "2021-09-08T12:04:42.949Z"
   },
   {
    "duration": 17,
    "start_time": "2021-09-08T12:04:42.964Z"
   },
   {
    "duration": 33,
    "start_time": "2021-09-08T12:04:42.982Z"
   },
   {
    "duration": 37,
    "start_time": "2021-09-08T12:04:43.016Z"
   },
   {
    "duration": 30,
    "start_time": "2021-09-08T12:04:43.056Z"
   },
   {
    "duration": 19,
    "start_time": "2021-09-08T12:04:43.088Z"
   },
   {
    "duration": 25,
    "start_time": "2021-09-08T12:04:43.109Z"
   },
   {
    "duration": 29,
    "start_time": "2021-09-08T12:04:43.137Z"
   },
   {
    "duration": 246,
    "start_time": "2021-09-08T12:04:43.169Z"
   },
   {
    "duration": 337,
    "start_time": "2021-09-08T12:04:43.417Z"
   },
   {
    "duration": 147,
    "start_time": "2021-09-08T12:04:43.757Z"
   },
   {
    "duration": 15,
    "start_time": "2021-09-08T12:04:43.906Z"
   },
   {
    "duration": 29,
    "start_time": "2021-09-08T12:04:43.922Z"
   },
   {
    "duration": 757,
    "start_time": "2021-09-08T12:04:43.954Z"
   },
   {
    "duration": 228,
    "start_time": "2021-09-08T12:04:44.714Z"
   },
   {
    "duration": 29,
    "start_time": "2021-09-08T12:04:44.944Z"
   },
   {
    "duration": 274,
    "start_time": "2021-09-08T12:04:44.975Z"
   },
   {
    "duration": 20,
    "start_time": "2021-09-08T12:04:45.252Z"
   },
   {
    "duration": 12,
    "start_time": "2021-09-08T12:04:45.274Z"
   },
   {
    "duration": 1171,
    "start_time": "2021-09-08T12:04:45.289Z"
   },
   {
    "duration": 6,
    "start_time": "2021-09-08T12:04:46.462Z"
   },
   {
    "duration": 13,
    "start_time": "2021-09-08T12:04:46.469Z"
   },
   {
    "duration": 10,
    "start_time": "2021-09-08T12:04:46.484Z"
   },
   {
    "duration": 13,
    "start_time": "2021-09-08T12:04:46.496Z"
   },
   {
    "duration": 50,
    "start_time": "2021-09-08T12:04:46.510Z"
   },
   {
    "duration": 16,
    "start_time": "2021-09-08T12:04:46.562Z"
   },
   {
    "duration": 13,
    "start_time": "2021-09-08T12:04:46.580Z"
   },
   {
    "duration": 6817,
    "start_time": "2021-09-08T12:04:46.595Z"
   },
   {
    "duration": -247,
    "start_time": "2021-09-08T12:04:53.661Z"
   },
   {
    "duration": -252,
    "start_time": "2021-09-08T12:04:53.667Z"
   },
   {
    "duration": -259,
    "start_time": "2021-09-08T12:04:53.675Z"
   },
   {
    "duration": -265,
    "start_time": "2021-09-08T12:04:53.682Z"
   },
   {
    "duration": -272,
    "start_time": "2021-09-08T12:04:53.690Z"
   },
   {
    "duration": -279,
    "start_time": "2021-09-08T12:04:53.698Z"
   },
   {
    "duration": -287,
    "start_time": "2021-09-08T12:04:53.707Z"
   },
   {
    "duration": 19,
    "start_time": "2021-09-08T12:04:54.401Z"
   },
   {
    "duration": 1732,
    "start_time": "2021-09-08T12:05:07.583Z"
   },
   {
    "duration": 59,
    "start_time": "2021-09-08T12:05:09.317Z"
   },
   {
    "duration": 9,
    "start_time": "2021-09-08T12:05:09.379Z"
   },
   {
    "duration": 29,
    "start_time": "2021-09-08T12:05:09.391Z"
   },
   {
    "duration": 45,
    "start_time": "2021-09-08T12:05:09.421Z"
   },
   {
    "duration": 27,
    "start_time": "2021-09-08T12:05:09.469Z"
   },
   {
    "duration": 29,
    "start_time": "2021-09-08T12:05:09.498Z"
   },
   {
    "duration": 28,
    "start_time": "2021-09-08T12:05:09.530Z"
   },
   {
    "duration": 14,
    "start_time": "2021-09-08T12:05:09.562Z"
   },
   {
    "duration": 31,
    "start_time": "2021-09-08T12:05:09.578Z"
   },
   {
    "duration": 33,
    "start_time": "2021-09-08T12:05:09.611Z"
   },
   {
    "duration": 15,
    "start_time": "2021-09-08T12:05:09.648Z"
   },
   {
    "duration": 252,
    "start_time": "2021-09-08T12:05:09.665Z"
   },
   {
    "duration": 6,
    "start_time": "2021-09-08T12:05:09.919Z"
   },
   {
    "duration": 20,
    "start_time": "2021-09-08T12:05:09.927Z"
   },
   {
    "duration": 81,
    "start_time": "2021-09-08T12:05:09.949Z"
   },
   {
    "duration": 15,
    "start_time": "2021-09-08T12:05:10.032Z"
   },
   {
    "duration": 7,
    "start_time": "2021-09-08T12:05:10.049Z"
   },
   {
    "duration": 257,
    "start_time": "2021-09-08T12:05:10.059Z"
   },
   {
    "duration": 9,
    "start_time": "2021-09-08T12:05:10.318Z"
   },
   {
    "duration": 6,
    "start_time": "2021-09-08T12:05:10.341Z"
   },
   {
    "duration": 22,
    "start_time": "2021-09-08T12:05:10.350Z"
   },
   {
    "duration": 16,
    "start_time": "2021-09-08T12:05:10.376Z"
   },
   {
    "duration": 17,
    "start_time": "2021-09-08T12:05:10.395Z"
   },
   {
    "duration": 30,
    "start_time": "2021-09-08T12:05:10.414Z"
   },
   {
    "duration": 31,
    "start_time": "2021-09-08T12:05:10.448Z"
   },
   {
    "duration": 25,
    "start_time": "2021-09-08T12:05:10.481Z"
   },
   {
    "duration": 252,
    "start_time": "2021-09-08T12:05:10.508Z"
   },
   {
    "duration": 330,
    "start_time": "2021-09-08T12:05:10.762Z"
   },
   {
    "duration": 147,
    "start_time": "2021-09-08T12:05:11.094Z"
   },
   {
    "duration": 23,
    "start_time": "2021-09-08T12:05:11.243Z"
   },
   {
    "duration": 10,
    "start_time": "2021-09-08T12:05:11.268Z"
   },
   {
    "duration": 711,
    "start_time": "2021-09-08T12:05:11.280Z"
   },
   {
    "duration": 200,
    "start_time": "2021-09-08T12:05:11.993Z"
   },
   {
    "duration": 23,
    "start_time": "2021-09-08T12:05:12.195Z"
   },
   {
    "duration": 269,
    "start_time": "2021-09-08T12:05:12.220Z"
   },
   {
    "duration": 20,
    "start_time": "2021-09-08T12:05:12.492Z"
   },
   {
    "duration": 29,
    "start_time": "2021-09-08T12:05:12.513Z"
   },
   {
    "duration": 980,
    "start_time": "2021-09-08T12:05:12.545Z"
   },
   {
    "duration": 6,
    "start_time": "2021-09-08T12:05:13.527Z"
   },
   {
    "duration": 30,
    "start_time": "2021-09-08T12:05:13.535Z"
   },
   {
    "duration": 19,
    "start_time": "2021-09-08T12:05:13.566Z"
   },
   {
    "duration": 17,
    "start_time": "2021-09-08T12:05:13.587Z"
   },
   {
    "duration": 34,
    "start_time": "2021-09-08T12:05:13.606Z"
   },
   {
    "duration": 21,
    "start_time": "2021-09-08T12:05:13.644Z"
   },
   {
    "duration": 11,
    "start_time": "2021-09-08T12:05:13.667Z"
   },
   {
    "duration": 19,
    "start_time": "2021-09-08T12:05:13.680Z"
   },
   {
    "duration": 61,
    "start_time": "2021-09-08T12:05:13.701Z"
   },
   {
    "duration": 24,
    "start_time": "2021-09-08T12:05:13.764Z"
   },
   {
    "duration": 17,
    "start_time": "2021-09-08T12:05:13.789Z"
   },
   {
    "duration": 203,
    "start_time": "2021-09-08T12:05:13.808Z"
   },
   {
    "duration": 397,
    "start_time": "2021-09-08T12:05:14.013Z"
   },
   {
    "duration": 5,
    "start_time": "2021-09-08T12:05:14.413Z"
   },
   {
    "duration": 474,
    "start_time": "2021-09-08T12:05:14.420Z"
   },
   {
    "duration": 421,
    "start_time": "2021-09-08T12:05:59.177Z"
   },
   {
    "duration": 1708,
    "start_time": "2021-09-08T12:06:10.279Z"
   },
   {
    "duration": 54,
    "start_time": "2021-09-08T12:06:11.989Z"
   },
   {
    "duration": 15,
    "start_time": "2021-09-08T12:06:12.046Z"
   },
   {
    "duration": 37,
    "start_time": "2021-09-08T12:06:12.063Z"
   },
   {
    "duration": 65,
    "start_time": "2021-09-08T12:06:12.102Z"
   },
   {
    "duration": 42,
    "start_time": "2021-09-08T12:06:12.169Z"
   },
   {
    "duration": 48,
    "start_time": "2021-09-08T12:06:12.213Z"
   },
   {
    "duration": 20,
    "start_time": "2021-09-08T12:06:12.263Z"
   },
   {
    "duration": 41,
    "start_time": "2021-09-08T12:06:12.286Z"
   },
   {
    "duration": 41,
    "start_time": "2021-09-08T12:06:12.329Z"
   },
   {
    "duration": 36,
    "start_time": "2021-09-08T12:06:12.372Z"
   },
   {
    "duration": 37,
    "start_time": "2021-09-08T12:06:12.411Z"
   },
   {
    "duration": 246,
    "start_time": "2021-09-08T12:06:12.451Z"
   },
   {
    "duration": 9,
    "start_time": "2021-09-08T12:06:12.699Z"
   },
   {
    "duration": 34,
    "start_time": "2021-09-08T12:06:12.710Z"
   },
   {
    "duration": 109,
    "start_time": "2021-09-08T12:06:12.748Z"
   },
   {
    "duration": 8,
    "start_time": "2021-09-08T12:06:12.859Z"
   },
   {
    "duration": 33,
    "start_time": "2021-09-08T12:06:12.869Z"
   },
   {
    "duration": 275,
    "start_time": "2021-09-08T12:06:12.905Z"
   },
   {
    "duration": 9,
    "start_time": "2021-09-08T12:06:13.182Z"
   },
   {
    "duration": 28,
    "start_time": "2021-09-08T12:06:13.193Z"
   },
   {
    "duration": 50,
    "start_time": "2021-09-08T12:06:13.223Z"
   },
   {
    "duration": 33,
    "start_time": "2021-09-08T12:06:13.275Z"
   },
   {
    "duration": 26,
    "start_time": "2021-09-08T12:06:13.310Z"
   },
   {
    "duration": 72,
    "start_time": "2021-09-08T12:06:13.338Z"
   },
   {
    "duration": 46,
    "start_time": "2021-09-08T12:06:13.412Z"
   },
   {
    "duration": 44,
    "start_time": "2021-09-08T12:06:13.462Z"
   },
   {
    "duration": 252,
    "start_time": "2021-09-08T12:06:13.508Z"
   },
   {
    "duration": 340,
    "start_time": "2021-09-08T12:06:13.762Z"
   },
   {
    "duration": 148,
    "start_time": "2021-09-08T12:06:14.104Z"
   },
   {
    "duration": 15,
    "start_time": "2021-09-08T12:06:14.255Z"
   },
   {
    "duration": 13,
    "start_time": "2021-09-08T12:06:14.273Z"
   },
   {
    "duration": 733,
    "start_time": "2021-09-08T12:06:14.289Z"
   },
   {
    "duration": 202,
    "start_time": "2021-09-08T12:06:15.024Z"
   },
   {
    "duration": 38,
    "start_time": "2021-09-08T12:06:15.228Z"
   },
   {
    "duration": 276,
    "start_time": "2021-09-08T12:06:15.268Z"
   },
   {
    "duration": 20,
    "start_time": "2021-09-08T12:06:15.546Z"
   },
   {
    "duration": 28,
    "start_time": "2021-09-08T12:06:15.568Z"
   },
   {
    "duration": 868,
    "start_time": "2021-09-08T12:06:15.598Z"
   },
   {
    "duration": 6,
    "start_time": "2021-09-08T12:06:16.468Z"
   },
   {
    "duration": 18,
    "start_time": "2021-09-08T12:06:16.476Z"
   },
   {
    "duration": 23,
    "start_time": "2021-09-08T12:06:16.496Z"
   },
   {
    "duration": 24,
    "start_time": "2021-09-08T12:06:16.521Z"
   },
   {
    "duration": 38,
    "start_time": "2021-09-08T12:06:16.548Z"
   },
   {
    "duration": 450,
    "start_time": "2021-09-08T12:06:16.588Z"
   },
   {
    "duration": -223,
    "start_time": "2021-09-08T12:06:17.263Z"
   },
   {
    "duration": -228,
    "start_time": "2021-09-08T12:06:17.270Z"
   },
   {
    "duration": -232,
    "start_time": "2021-09-08T12:06:17.276Z"
   },
   {
    "duration": -240,
    "start_time": "2021-09-08T12:06:17.286Z"
   },
   {
    "duration": -244,
    "start_time": "2021-09-08T12:06:17.292Z"
   },
   {
    "duration": -250,
    "start_time": "2021-09-08T12:06:17.299Z"
   },
   {
    "duration": -255,
    "start_time": "2021-09-08T12:06:17.305Z"
   },
   {
    "duration": -260,
    "start_time": "2021-09-08T12:06:17.312Z"
   },
   {
    "duration": -266,
    "start_time": "2021-09-08T12:06:17.319Z"
   },
   {
    "duration": 7,
    "start_time": "2021-09-08T12:06:22.063Z"
   },
   {
    "duration": 13,
    "start_time": "2021-09-08T12:06:24.817Z"
   },
   {
    "duration": 2135,
    "start_time": "2021-09-08T12:06:31.200Z"
   },
   {
    "duration": 55,
    "start_time": "2021-09-08T12:06:33.337Z"
   },
   {
    "duration": 10,
    "start_time": "2021-09-08T12:06:33.394Z"
   },
   {
    "duration": 25,
    "start_time": "2021-09-08T12:06:33.406Z"
   },
   {
    "duration": 41,
    "start_time": "2021-09-08T12:06:33.433Z"
   },
   {
    "duration": 32,
    "start_time": "2021-09-08T12:06:33.476Z"
   },
   {
    "duration": 25,
    "start_time": "2021-09-08T12:06:33.511Z"
   },
   {
    "duration": 19,
    "start_time": "2021-09-08T12:06:33.539Z"
   },
   {
    "duration": 13,
    "start_time": "2021-09-08T12:06:33.561Z"
   },
   {
    "duration": 39,
    "start_time": "2021-09-08T12:06:33.576Z"
   },
   {
    "duration": 22,
    "start_time": "2021-09-08T12:06:33.617Z"
   },
   {
    "duration": 23,
    "start_time": "2021-09-08T12:06:33.641Z"
   },
   {
    "duration": 387,
    "start_time": "2021-09-08T12:06:33.666Z"
   },
   {
    "duration": 8,
    "start_time": "2021-09-08T12:06:34.055Z"
   },
   {
    "duration": 7,
    "start_time": "2021-09-08T12:06:34.065Z"
   },
   {
    "duration": 124,
    "start_time": "2021-09-08T12:06:34.074Z"
   },
   {
    "duration": 46,
    "start_time": "2021-09-08T12:06:34.200Z"
   },
   {
    "duration": 5,
    "start_time": "2021-09-08T12:06:34.249Z"
   },
   {
    "duration": 261,
    "start_time": "2021-09-08T12:06:34.257Z"
   },
   {
    "duration": 21,
    "start_time": "2021-09-08T12:06:34.520Z"
   },
   {
    "duration": 5,
    "start_time": "2021-09-08T12:06:34.543Z"
   },
   {
    "duration": 12,
    "start_time": "2021-09-08T12:06:34.552Z"
   },
   {
    "duration": 17,
    "start_time": "2021-09-08T12:06:34.568Z"
   },
   {
    "duration": 23,
    "start_time": "2021-09-08T12:06:34.587Z"
   },
   {
    "duration": 35,
    "start_time": "2021-09-08T12:06:34.612Z"
   },
   {
    "duration": 13,
    "start_time": "2021-09-08T12:06:34.651Z"
   },
   {
    "duration": 19,
    "start_time": "2021-09-08T12:06:34.666Z"
   },
   {
    "duration": 248,
    "start_time": "2021-09-08T12:06:34.687Z"
   },
   {
    "duration": 339,
    "start_time": "2021-09-08T12:06:34.941Z"
   },
   {
    "duration": 154,
    "start_time": "2021-09-08T12:06:35.282Z"
   },
   {
    "duration": 20,
    "start_time": "2021-09-08T12:06:35.441Z"
   },
   {
    "duration": 16,
    "start_time": "2021-09-08T12:06:35.464Z"
   },
   {
    "duration": 724,
    "start_time": "2021-09-08T12:06:35.482Z"
   },
   {
    "duration": 193,
    "start_time": "2021-09-08T12:06:36.208Z"
   },
   {
    "duration": 25,
    "start_time": "2021-09-08T12:06:36.403Z"
   },
   {
    "duration": 268,
    "start_time": "2021-09-08T12:06:36.429Z"
   },
   {
    "duration": 16,
    "start_time": "2021-09-08T12:06:36.699Z"
   },
   {
    "duration": 28,
    "start_time": "2021-09-08T12:06:36.718Z"
   },
   {
    "duration": 949,
    "start_time": "2021-09-08T12:06:36.749Z"
   },
   {
    "duration": 7,
    "start_time": "2021-09-08T12:06:37.700Z"
   },
   {
    "duration": 28,
    "start_time": "2021-09-08T12:06:37.709Z"
   },
   {
    "duration": 28,
    "start_time": "2021-09-08T12:06:37.739Z"
   },
   {
    "duration": 24,
    "start_time": "2021-09-08T12:06:37.769Z"
   },
   {
    "duration": 48,
    "start_time": "2021-09-08T12:06:37.795Z"
   },
   {
    "duration": 22,
    "start_time": "2021-09-08T12:06:37.846Z"
   },
   {
    "duration": 11,
    "start_time": "2021-09-08T12:06:37.870Z"
   },
   {
    "duration": 39,
    "start_time": "2021-09-08T12:06:37.883Z"
   },
   {
    "duration": 39,
    "start_time": "2021-09-08T12:06:37.924Z"
   },
   {
    "duration": 21,
    "start_time": "2021-09-08T12:06:37.965Z"
   },
   {
    "duration": 28,
    "start_time": "2021-09-08T12:06:37.988Z"
   },
   {
    "duration": 191,
    "start_time": "2021-09-08T12:06:38.018Z"
   },
   {
    "duration": 411,
    "start_time": "2021-09-08T12:06:38.212Z"
   },
   {
    "duration": 6,
    "start_time": "2021-09-08T12:06:38.625Z"
   },
   {
    "duration": 488,
    "start_time": "2021-09-08T12:06:38.641Z"
   },
   {
    "duration": 33,
    "start_time": "2021-09-08T12:07:15.341Z"
   },
   {
    "duration": 7,
    "start_time": "2021-09-08T12:07:32.730Z"
   },
   {
    "duration": 7,
    "start_time": "2021-09-08T12:07:34.964Z"
   },
   {
    "duration": 16,
    "start_time": "2021-09-08T12:07:36.970Z"
   },
   {
    "duration": 5,
    "start_time": "2021-09-08T12:23:00.865Z"
   },
   {
    "duration": 5,
    "start_time": "2021-09-08T12:23:08.491Z"
   },
   {
    "duration": 14,
    "start_time": "2021-09-08T12:23:19.083Z"
   },
   {
    "duration": 62,
    "start_time": "2021-09-08T12:23:20.661Z"
   },
   {
    "duration": 450,
    "start_time": "2021-09-08T12:23:21.425Z"
   },
   {
    "duration": 2481,
    "start_time": "2021-09-08T12:23:26.696Z"
   },
   {
    "duration": 54,
    "start_time": "2021-09-08T12:23:29.179Z"
   },
   {
    "duration": 16,
    "start_time": "2021-09-08T12:23:29.235Z"
   },
   {
    "duration": 19,
    "start_time": "2021-09-08T12:23:29.255Z"
   },
   {
    "duration": 28,
    "start_time": "2021-09-08T12:23:29.276Z"
   },
   {
    "duration": 52,
    "start_time": "2021-09-08T12:23:29.306Z"
   },
   {
    "duration": 26,
    "start_time": "2021-09-08T12:23:29.360Z"
   },
   {
    "duration": 12,
    "start_time": "2021-09-08T12:23:29.388Z"
   },
   {
    "duration": 22,
    "start_time": "2021-09-08T12:23:29.402Z"
   },
   {
    "duration": 36,
    "start_time": "2021-09-08T12:23:29.441Z"
   },
   {
    "duration": 18,
    "start_time": "2021-09-08T12:23:29.480Z"
   },
   {
    "duration": 14,
    "start_time": "2021-09-08T12:23:29.500Z"
   },
   {
    "duration": 275,
    "start_time": "2021-09-08T12:23:29.516Z"
   },
   {
    "duration": 8,
    "start_time": "2021-09-08T12:23:29.793Z"
   },
   {
    "duration": 11,
    "start_time": "2021-09-08T12:23:29.803Z"
   },
   {
    "duration": 97,
    "start_time": "2021-09-08T12:23:29.815Z"
   },
   {
    "duration": 7,
    "start_time": "2021-09-08T12:23:29.914Z"
   },
   {
    "duration": 22,
    "start_time": "2021-09-08T12:23:29.923Z"
   },
   {
    "duration": 259,
    "start_time": "2021-09-08T12:23:29.949Z"
   },
   {
    "duration": 9,
    "start_time": "2021-09-08T12:23:30.210Z"
   },
   {
    "duration": 23,
    "start_time": "2021-09-08T12:23:30.221Z"
   },
   {
    "duration": 36,
    "start_time": "2021-09-08T12:23:30.246Z"
   },
   {
    "duration": 17,
    "start_time": "2021-09-08T12:23:30.288Z"
   },
   {
    "duration": 28,
    "start_time": "2021-09-08T12:23:30.308Z"
   },
   {
    "duration": 21,
    "start_time": "2021-09-08T12:23:30.338Z"
   },
   {
    "duration": 19,
    "start_time": "2021-09-08T12:23:30.361Z"
   },
   {
    "duration": 25,
    "start_time": "2021-09-08T12:23:30.387Z"
   },
   {
    "duration": 244,
    "start_time": "2021-09-08T12:23:30.414Z"
   },
   {
    "duration": 327,
    "start_time": "2021-09-08T12:23:30.661Z"
   },
   {
    "duration": 157,
    "start_time": "2021-09-08T12:23:30.990Z"
   },
   {
    "duration": 18,
    "start_time": "2021-09-08T12:23:31.151Z"
   },
   {
    "duration": 18,
    "start_time": "2021-09-08T12:23:31.171Z"
   },
   {
    "duration": 964,
    "start_time": "2021-09-08T12:23:31.192Z"
   },
   {
    "duration": 188,
    "start_time": "2021-09-08T12:23:32.158Z"
   },
   {
    "duration": 27,
    "start_time": "2021-09-08T12:23:32.349Z"
   },
   {
    "duration": 370,
    "start_time": "2021-09-08T12:23:32.377Z"
   },
   {
    "duration": 18,
    "start_time": "2021-09-08T12:23:32.750Z"
   },
   {
    "duration": 13,
    "start_time": "2021-09-08T12:23:32.770Z"
   },
   {
    "duration": 1119,
    "start_time": "2021-09-08T12:23:32.785Z"
   },
   {
    "duration": 7,
    "start_time": "2021-09-08T12:23:33.906Z"
   },
   {
    "duration": 9,
    "start_time": "2021-09-08T12:23:33.915Z"
   },
   {
    "duration": 9,
    "start_time": "2021-09-08T12:23:33.926Z"
   },
   {
    "duration": 17,
    "start_time": "2021-09-08T12:23:33.937Z"
   },
   {
    "duration": 26,
    "start_time": "2021-09-08T12:23:33.957Z"
   },
   {
    "duration": 16,
    "start_time": "2021-09-08T12:23:33.985Z"
   },
   {
    "duration": 12,
    "start_time": "2021-09-08T12:23:34.003Z"
   },
   {
    "duration": 50,
    "start_time": "2021-09-08T12:23:34.017Z"
   },
   {
    "duration": 29,
    "start_time": "2021-09-08T12:23:34.069Z"
   },
   {
    "duration": 24,
    "start_time": "2021-09-08T12:23:34.099Z"
   },
   {
    "duration": 21,
    "start_time": "2021-09-08T12:23:34.142Z"
   },
   {
    "duration": 193,
    "start_time": "2021-09-08T12:23:34.165Z"
   },
   {
    "duration": 389,
    "start_time": "2021-09-08T12:23:34.360Z"
   },
   {
    "duration": 7,
    "start_time": "2021-09-08T12:23:34.752Z"
   },
   {
    "duration": 500,
    "start_time": "2021-09-08T12:23:34.761Z"
   },
   {
    "duration": 441,
    "start_time": "2021-09-08T12:23:50.619Z"
   },
   {
    "duration": 21,
    "start_time": "2021-09-08T12:23:59.874Z"
   },
   {
    "duration": 8,
    "start_time": "2021-09-08T12:24:07.726Z"
   },
   {
    "duration": 13,
    "start_time": "2021-09-08T12:24:10.782Z"
   },
   {
    "duration": 69,
    "start_time": "2021-09-08T12:24:16.714Z"
   },
   {
    "duration": 288,
    "start_time": "2021-09-08T12:24:17.289Z"
   },
   {
    "duration": 305,
    "start_time": "2021-09-08T12:24:20.076Z"
   },
   {
    "duration": 18,
    "start_time": "2021-09-08T12:24:25.193Z"
   },
   {
    "duration": 282,
    "start_time": "2021-09-08T12:24:28.533Z"
   },
   {
    "duration": 319,
    "start_time": "2021-09-08T12:24:31.677Z"
   },
   {
    "duration": 1792,
    "start_time": "2021-09-08T12:24:38.117Z"
   },
   {
    "duration": 59,
    "start_time": "2021-09-08T12:24:39.912Z"
   },
   {
    "duration": 11,
    "start_time": "2021-09-08T12:24:39.973Z"
   },
   {
    "duration": 41,
    "start_time": "2021-09-08T12:24:39.986Z"
   },
   {
    "duration": 34,
    "start_time": "2021-09-08T12:24:40.029Z"
   },
   {
    "duration": 24,
    "start_time": "2021-09-08T12:24:40.065Z"
   },
   {
    "duration": 26,
    "start_time": "2021-09-08T12:24:40.091Z"
   },
   {
    "duration": 29,
    "start_time": "2021-09-08T12:24:40.120Z"
   },
   {
    "duration": 20,
    "start_time": "2021-09-08T12:24:40.152Z"
   },
   {
    "duration": 21,
    "start_time": "2021-09-08T12:24:40.174Z"
   },
   {
    "duration": 16,
    "start_time": "2021-09-08T12:24:40.197Z"
   },
   {
    "duration": 15,
    "start_time": "2021-09-08T12:24:40.241Z"
   },
   {
    "duration": 246,
    "start_time": "2021-09-08T12:24:40.258Z"
   },
   {
    "duration": 7,
    "start_time": "2021-09-08T12:24:40.507Z"
   },
   {
    "duration": 8,
    "start_time": "2021-09-08T12:24:40.515Z"
   },
   {
    "duration": 94,
    "start_time": "2021-09-08T12:24:40.525Z"
   },
   {
    "duration": 28,
    "start_time": "2021-09-08T12:24:40.621Z"
   },
   {
    "duration": 5,
    "start_time": "2021-09-08T12:24:40.652Z"
   },
   {
    "duration": 254,
    "start_time": "2021-09-08T12:24:40.660Z"
   },
   {
    "duration": 9,
    "start_time": "2021-09-08T12:24:40.916Z"
   },
   {
    "duration": 21,
    "start_time": "2021-09-08T12:24:40.927Z"
   },
   {
    "duration": 14,
    "start_time": "2021-09-08T12:24:40.951Z"
   },
   {
    "duration": 16,
    "start_time": "2021-09-08T12:24:40.969Z"
   },
   {
    "duration": 19,
    "start_time": "2021-09-08T12:24:40.987Z"
   },
   {
    "duration": 9,
    "start_time": "2021-09-08T12:24:41.008Z"
   },
   {
    "duration": 18,
    "start_time": "2021-09-08T12:24:41.040Z"
   },
   {
    "duration": 10,
    "start_time": "2021-09-08T12:24:41.060Z"
   },
   {
    "duration": 251,
    "start_time": "2021-09-08T12:24:41.072Z"
   },
   {
    "duration": 331,
    "start_time": "2021-09-08T12:24:41.325Z"
   },
   {
    "duration": 148,
    "start_time": "2021-09-08T12:24:41.657Z"
   },
   {
    "duration": 15,
    "start_time": "2021-09-08T12:24:41.806Z"
   },
   {
    "duration": 27,
    "start_time": "2021-09-08T12:24:41.823Z"
   },
   {
    "duration": 697,
    "start_time": "2021-09-08T12:24:41.853Z"
   },
   {
    "duration": 191,
    "start_time": "2021-09-08T12:24:42.552Z"
   },
   {
    "duration": 26,
    "start_time": "2021-09-08T12:24:42.747Z"
   },
   {
    "duration": 269,
    "start_time": "2021-09-08T12:24:42.775Z"
   },
   {
    "duration": 20,
    "start_time": "2021-09-08T12:24:43.046Z"
   },
   {
    "duration": 10,
    "start_time": "2021-09-08T12:24:43.068Z"
   },
   {
    "duration": 669,
    "start_time": "2021-09-08T12:24:43.080Z"
   },
   {
    "duration": 7,
    "start_time": "2021-09-08T12:24:43.752Z"
   },
   {
    "duration": 14,
    "start_time": "2021-09-08T12:24:43.761Z"
   },
   {
    "duration": 10,
    "start_time": "2021-09-08T12:24:43.777Z"
   },
   {
    "duration": 21,
    "start_time": "2021-09-08T12:24:43.789Z"
   },
   {
    "duration": 33,
    "start_time": "2021-09-08T12:24:43.812Z"
   },
   {
    "duration": 21,
    "start_time": "2021-09-08T12:24:43.849Z"
   },
   {
    "duration": 15,
    "start_time": "2021-09-08T12:24:43.872Z"
   },
   {
    "duration": 19,
    "start_time": "2021-09-08T12:24:43.889Z"
   },
   {
    "duration": 63,
    "start_time": "2021-09-08T12:24:43.910Z"
   },
   {
    "duration": 24,
    "start_time": "2021-09-08T12:24:43.975Z"
   },
   {
    "duration": 20,
    "start_time": "2021-09-08T12:24:44.001Z"
   },
   {
    "duration": 183,
    "start_time": "2021-09-08T12:24:44.046Z"
   },
   {
    "duration": 399,
    "start_time": "2021-09-08T12:24:44.231Z"
   },
   {
    "duration": 10,
    "start_time": "2021-09-08T12:24:44.632Z"
   },
   {
    "duration": 471,
    "start_time": "2021-09-08T12:24:44.645Z"
   },
   {
    "duration": 8,
    "start_time": "2021-09-08T12:25:39.456Z"
   },
   {
    "duration": 14,
    "start_time": "2021-09-08T12:25:40.380Z"
   },
   {
    "duration": 7,
    "start_time": "2021-09-08T12:25:43.884Z"
   },
   {
    "duration": 12,
    "start_time": "2021-09-08T12:25:44.672Z"
   },
   {
    "duration": 18,
    "start_time": "2021-09-08T12:25:46.467Z"
   },
   {
    "duration": 7,
    "start_time": "2021-09-08T12:25:49.074Z"
   },
   {
    "duration": 16,
    "start_time": "2021-09-08T12:25:49.727Z"
   },
   {
    "duration": 61,
    "start_time": "2021-09-08T12:25:51.967Z"
   },
   {
    "duration": 430,
    "start_time": "2021-09-08T12:25:52.543Z"
   },
   {
    "duration": 1924,
    "start_time": "2021-09-08T12:26:00.800Z"
   },
   {
    "duration": 63,
    "start_time": "2021-09-08T12:26:02.726Z"
   },
   {
    "duration": 12,
    "start_time": "2021-09-08T12:26:02.792Z"
   },
   {
    "duration": 45,
    "start_time": "2021-09-08T12:26:02.806Z"
   },
   {
    "duration": 48,
    "start_time": "2021-09-08T12:26:02.854Z"
   },
   {
    "duration": 44,
    "start_time": "2021-09-08T12:26:02.904Z"
   },
   {
    "duration": 31,
    "start_time": "2021-09-08T12:26:02.950Z"
   },
   {
    "duration": 14,
    "start_time": "2021-09-08T12:26:02.984Z"
   },
   {
    "duration": 39,
    "start_time": "2021-09-08T12:26:03.002Z"
   },
   {
    "duration": 26,
    "start_time": "2021-09-08T12:26:03.046Z"
   },
   {
    "duration": 33,
    "start_time": "2021-09-08T12:26:03.073Z"
   },
   {
    "duration": 36,
    "start_time": "2021-09-08T12:26:03.108Z"
   },
   {
    "duration": 243,
    "start_time": "2021-09-08T12:26:03.149Z"
   },
   {
    "duration": 8,
    "start_time": "2021-09-08T12:26:03.394Z"
   },
   {
    "duration": 13,
    "start_time": "2021-09-08T12:26:03.404Z"
   },
   {
    "duration": 95,
    "start_time": "2021-09-08T12:26:03.419Z"
   },
   {
    "duration": 8,
    "start_time": "2021-09-08T12:26:03.516Z"
   },
   {
    "duration": 24,
    "start_time": "2021-09-08T12:26:03.526Z"
   },
   {
    "duration": 254,
    "start_time": "2021-09-08T12:26:03.553Z"
   },
   {
    "duration": 9,
    "start_time": "2021-09-08T12:26:03.809Z"
   },
   {
    "duration": 24,
    "start_time": "2021-09-08T12:26:03.820Z"
   },
   {
    "duration": 39,
    "start_time": "2021-09-08T12:26:03.849Z"
   },
   {
    "duration": 19,
    "start_time": "2021-09-08T12:26:03.889Z"
   },
   {
    "duration": 17,
    "start_time": "2021-09-08T12:26:03.911Z"
   },
   {
    "duration": 27,
    "start_time": "2021-09-08T12:26:03.930Z"
   },
   {
    "duration": 32,
    "start_time": "2021-09-08T12:26:03.959Z"
   },
   {
    "duration": 24,
    "start_time": "2021-09-08T12:26:03.996Z"
   },
   {
    "duration": 252,
    "start_time": "2021-09-08T12:26:04.022Z"
   },
   {
    "duration": 336,
    "start_time": "2021-09-08T12:26:04.276Z"
   },
   {
    "duration": 158,
    "start_time": "2021-09-08T12:26:04.614Z"
   },
   {
    "duration": 15,
    "start_time": "2021-09-08T12:26:04.774Z"
   },
   {
    "duration": 21,
    "start_time": "2021-09-08T12:26:04.791Z"
   },
   {
    "duration": 883,
    "start_time": "2021-09-08T12:26:04.813Z"
   },
   {
    "duration": 296,
    "start_time": "2021-09-08T12:26:05.698Z"
   },
   {
    "duration": 24,
    "start_time": "2021-09-08T12:26:05.996Z"
   },
   {
    "duration": 263,
    "start_time": "2021-09-08T12:26:06.022Z"
   },
   {
    "duration": 18,
    "start_time": "2021-09-08T12:26:06.287Z"
   },
   {
    "duration": 13,
    "start_time": "2021-09-08T12:26:06.307Z"
   },
   {
    "duration": 782,
    "start_time": "2021-09-08T12:26:06.341Z"
   },
   {
    "duration": 6,
    "start_time": "2021-09-08T12:26:07.126Z"
   },
   {
    "duration": 24,
    "start_time": "2021-09-08T12:26:07.134Z"
   },
   {
    "duration": 11,
    "start_time": "2021-09-08T12:26:07.160Z"
   },
   {
    "duration": 26,
    "start_time": "2021-09-08T12:26:07.173Z"
   },
   {
    "duration": 26,
    "start_time": "2021-09-08T12:26:07.201Z"
   },
   {
    "duration": 26,
    "start_time": "2021-09-08T12:26:07.229Z"
   },
   {
    "duration": 12,
    "start_time": "2021-09-08T12:26:07.257Z"
   },
   {
    "duration": 20,
    "start_time": "2021-09-08T12:26:07.272Z"
   },
   {
    "duration": 58,
    "start_time": "2021-09-08T12:26:07.294Z"
   },
   {
    "duration": 23,
    "start_time": "2021-09-08T12:26:07.355Z"
   },
   {
    "duration": 19,
    "start_time": "2021-09-08T12:26:07.380Z"
   },
   {
    "duration": 194,
    "start_time": "2021-09-08T12:26:07.401Z"
   },
   {
    "duration": 404,
    "start_time": "2021-09-08T12:26:07.597Z"
   },
   {
    "duration": 5,
    "start_time": "2021-09-08T12:26:08.003Z"
   },
   {
    "duration": 467,
    "start_time": "2021-09-08T12:26:08.010Z"
   },
   {
    "duration": 1035,
    "start_time": "2021-09-08T12:54:50.032Z"
   },
   {
    "duration": 742,
    "start_time": "2021-09-08T12:55:01.295Z"
   },
   {
    "duration": 21,
    "start_time": "2021-09-08T12:55:17.323Z"
   },
   {
    "duration": 13,
    "start_time": "2021-09-08T12:55:37.293Z"
   },
   {
    "duration": 20,
    "start_time": "2021-09-08T12:56:00.503Z"
   },
   {
    "duration": 395,
    "start_time": "2021-09-08T13:39:38.084Z"
   },
   {
    "duration": 332,
    "start_time": "2021-09-08T13:39:44.361Z"
   },
   {
    "duration": 333,
    "start_time": "2021-09-08T13:40:04.657Z"
   },
   {
    "duration": 23,
    "start_time": "2021-09-08T13:51:26.882Z"
   },
   {
    "duration": 11,
    "start_time": "2021-09-08T13:51:34.646Z"
   },
   {
    "duration": 20,
    "start_time": "2021-09-08T13:52:14.475Z"
   },
   {
    "duration": 32,
    "start_time": "2021-09-08T13:54:04.388Z"
   },
   {
    "duration": 28,
    "start_time": "2021-09-08T13:54:27.393Z"
   },
   {
    "duration": 31,
    "start_time": "2021-09-08T13:54:34.879Z"
   },
   {
    "duration": 339,
    "start_time": "2021-09-08T13:56:15.884Z"
   },
   {
    "duration": 267,
    "start_time": "2021-09-08T13:56:24.246Z"
   },
   {
    "duration": 269,
    "start_time": "2021-09-08T13:56:27.739Z"
   },
   {
    "duration": 20,
    "start_time": "2021-09-08T13:56:30.552Z"
   },
   {
    "duration": 1958,
    "start_time": "2021-09-08T13:56:39.075Z"
   },
   {
    "duration": 53,
    "start_time": "2021-09-08T13:56:41.035Z"
   },
   {
    "duration": 10,
    "start_time": "2021-09-08T13:56:41.090Z"
   },
   {
    "duration": 19,
    "start_time": "2021-09-08T13:56:41.102Z"
   },
   {
    "duration": 36,
    "start_time": "2021-09-08T13:56:41.123Z"
   },
   {
    "duration": 20,
    "start_time": "2021-09-08T13:56:41.161Z"
   },
   {
    "duration": 24,
    "start_time": "2021-09-08T13:56:41.183Z"
   },
   {
    "duration": 11,
    "start_time": "2021-09-08T13:56:41.209Z"
   },
   {
    "duration": 13,
    "start_time": "2021-09-08T13:56:41.254Z"
   },
   {
    "duration": 31,
    "start_time": "2021-09-08T13:56:41.268Z"
   },
   {
    "duration": 20,
    "start_time": "2021-09-08T13:56:41.300Z"
   },
   {
    "duration": 15,
    "start_time": "2021-09-08T13:56:41.322Z"
   },
   {
    "duration": 220,
    "start_time": "2021-09-08T13:56:41.339Z"
   },
   {
    "duration": 7,
    "start_time": "2021-09-08T13:56:41.561Z"
   },
   {
    "duration": 17,
    "start_time": "2021-09-08T13:56:41.569Z"
   },
   {
    "duration": 92,
    "start_time": "2021-09-08T13:56:41.588Z"
   },
   {
    "duration": 7,
    "start_time": "2021-09-08T13:56:41.682Z"
   },
   {
    "duration": 24,
    "start_time": "2021-09-08T13:56:41.690Z"
   },
   {
    "duration": 243,
    "start_time": "2021-09-08T13:56:41.716Z"
   },
   {
    "duration": 9,
    "start_time": "2021-09-08T13:56:41.961Z"
   },
   {
    "duration": 35,
    "start_time": "2021-09-08T13:56:41.971Z"
   },
   {
    "duration": 38,
    "start_time": "2021-09-08T13:56:42.009Z"
   },
   {
    "duration": 21,
    "start_time": "2021-09-08T13:56:42.053Z"
   },
   {
    "duration": 29,
    "start_time": "2021-09-08T13:56:42.077Z"
   },
   {
    "duration": 19,
    "start_time": "2021-09-08T13:56:42.108Z"
   },
   {
    "duration": 28,
    "start_time": "2021-09-08T13:56:42.130Z"
   },
   {
    "duration": 23,
    "start_time": "2021-09-08T13:56:42.160Z"
   },
   {
    "duration": 217,
    "start_time": "2021-09-08T13:56:42.185Z"
   },
   {
    "duration": 310,
    "start_time": "2021-09-08T13:56:42.404Z"
   },
   {
    "duration": 140,
    "start_time": "2021-09-08T13:56:42.717Z"
   },
   {
    "duration": 15,
    "start_time": "2021-09-08T13:56:42.859Z"
   },
   {
    "duration": 26,
    "start_time": "2021-09-08T13:56:42.876Z"
   },
   {
    "duration": 699,
    "start_time": "2021-09-08T13:56:42.905Z"
   },
   {
    "duration": 193,
    "start_time": "2021-09-08T13:56:43.606Z"
   },
   {
    "duration": 22,
    "start_time": "2021-09-08T13:56:43.801Z"
   },
   {
    "duration": 248,
    "start_time": "2021-09-08T13:56:43.825Z"
   },
   {
    "duration": 15,
    "start_time": "2021-09-08T13:56:44.075Z"
   },
   {
    "duration": 32,
    "start_time": "2021-09-08T13:56:44.092Z"
   },
   {
    "duration": 3339,
    "start_time": "2021-09-08T13:56:44.126Z"
   },
   {
    "duration": 9,
    "start_time": "2021-09-08T13:56:47.467Z"
   },
   {
    "duration": 20,
    "start_time": "2021-09-08T13:56:47.478Z"
   },
   {
    "duration": 18,
    "start_time": "2021-09-08T13:56:47.500Z"
   },
   {
    "duration": 29,
    "start_time": "2021-09-08T13:56:47.520Z"
   },
   {
    "duration": 43,
    "start_time": "2021-09-08T13:56:47.551Z"
   },
   {
    "duration": 18,
    "start_time": "2021-09-08T13:56:47.596Z"
   },
   {
    "duration": 318,
    "start_time": "2021-09-08T13:56:47.617Z"
   },
   {
    "duration": 15,
    "start_time": "2021-09-08T13:56:47.937Z"
   },
   {
    "duration": 23,
    "start_time": "2021-09-08T13:56:47.954Z"
   },
   {
    "duration": 25,
    "start_time": "2021-09-08T13:56:47.979Z"
   },
   {
    "duration": 27,
    "start_time": "2021-09-08T13:56:48.006Z"
   },
   {
    "duration": 28,
    "start_time": "2021-09-08T13:56:48.034Z"
   },
   {
    "duration": 16,
    "start_time": "2021-09-08T13:56:48.065Z"
   },
   {
    "duration": 176,
    "start_time": "2021-09-08T13:56:48.083Z"
   },
   {
    "duration": 357,
    "start_time": "2021-09-08T13:56:48.261Z"
   },
   {
    "duration": 5,
    "start_time": "2021-09-08T13:56:48.620Z"
   },
   {
    "duration": 436,
    "start_time": "2021-09-08T13:56:48.627Z"
   },
   {
    "duration": 96,
    "start_time": "2021-09-08T13:59:16.812Z"
   },
   {
    "duration": 7,
    "start_time": "2021-09-08T14:00:57.524Z"
   },
   {
    "duration": 23,
    "start_time": "2021-09-08T14:01:07.300Z"
   },
   {
    "duration": 12,
    "start_time": "2021-09-08T14:03:51.484Z"
   },
   {
    "duration": 10,
    "start_time": "2021-09-08T14:04:19.652Z"
   },
   {
    "duration": 22,
    "start_time": "2021-09-08T14:04:46.974Z"
   },
   {
    "duration": 11,
    "start_time": "2021-09-08T14:05:10.257Z"
   },
   {
    "duration": 12,
    "start_time": "2021-09-08T14:05:14.213Z"
   },
   {
    "duration": 2107,
    "start_time": "2021-09-08T14:05:32.596Z"
   },
   {
    "duration": 20,
    "start_time": "2021-09-08T14:05:42.449Z"
   },
   {
    "duration": 62,
    "start_time": "2021-09-08T14:07:47.126Z"
   },
   {
    "duration": 8,
    "start_time": "2021-09-08T14:08:11.073Z"
   },
   {
    "duration": 19,
    "start_time": "2021-09-08T14:08:17.114Z"
   },
   {
    "duration": 272,
    "start_time": "2021-09-08T14:11:40.384Z"
   },
   {
    "duration": 14,
    "start_time": "2021-09-08T14:11:45.288Z"
   },
   {
    "duration": 267,
    "start_time": "2021-09-08T14:12:26.773Z"
   },
   {
    "duration": 277,
    "start_time": "2021-09-08T14:12:42.628Z"
   },
   {
    "duration": 16,
    "start_time": "2021-09-08T14:12:50.347Z"
   },
   {
    "duration": 263,
    "start_time": "2021-09-08T14:15:36.293Z"
   },
   {
    "duration": 4,
    "start_time": "2021-09-08T14:16:40.436Z"
   },
   {
    "duration": 4,
    "start_time": "2021-09-08T14:17:01.359Z"
   },
   {
    "duration": 15,
    "start_time": "2021-09-08T14:17:03.024Z"
   },
   {
    "duration": 6484,
    "start_time": "2021-09-08T14:17:39.971Z"
   },
   {
    "duration": 1596,
    "start_time": "2021-09-08T14:18:06.249Z"
   },
   {
    "duration": 52,
    "start_time": "2021-09-08T14:18:07.847Z"
   },
   {
    "duration": 10,
    "start_time": "2021-09-08T14:18:07.902Z"
   },
   {
    "duration": 35,
    "start_time": "2021-09-08T14:18:07.915Z"
   },
   {
    "duration": 41,
    "start_time": "2021-09-08T14:18:07.952Z"
   },
   {
    "duration": 50,
    "start_time": "2021-09-08T14:18:07.995Z"
   },
   {
    "duration": 37,
    "start_time": "2021-09-08T14:18:08.047Z"
   },
   {
    "duration": 23,
    "start_time": "2021-09-08T14:18:08.087Z"
   },
   {
    "duration": 40,
    "start_time": "2021-09-08T14:18:08.112Z"
   },
   {
    "duration": 39,
    "start_time": "2021-09-08T14:18:08.154Z"
   },
   {
    "duration": 27,
    "start_time": "2021-09-08T14:18:08.195Z"
   },
   {
    "duration": 25,
    "start_time": "2021-09-08T14:18:08.224Z"
   },
   {
    "duration": 213,
    "start_time": "2021-09-08T14:18:08.251Z"
   },
   {
    "duration": 7,
    "start_time": "2021-09-08T14:18:08.466Z"
   },
   {
    "duration": 30,
    "start_time": "2021-09-08T14:18:08.474Z"
   },
   {
    "duration": 98,
    "start_time": "2021-09-08T14:18:08.505Z"
   },
   {
    "duration": 7,
    "start_time": "2021-09-08T14:18:08.605Z"
   },
   {
    "duration": 28,
    "start_time": "2021-09-08T14:18:08.614Z"
   },
   {
    "duration": 244,
    "start_time": "2021-09-08T14:18:08.644Z"
   },
   {
    "duration": 9,
    "start_time": "2021-09-08T14:18:08.890Z"
   },
   {
    "duration": 18,
    "start_time": "2021-09-08T14:18:08.901Z"
   },
   {
    "duration": 34,
    "start_time": "2021-09-08T14:18:08.921Z"
   },
   {
    "duration": 18,
    "start_time": "2021-09-08T14:18:08.959Z"
   },
   {
    "duration": 29,
    "start_time": "2021-09-08T14:18:08.979Z"
   },
   {
    "duration": 36,
    "start_time": "2021-09-08T14:18:09.009Z"
   },
   {
    "duration": 28,
    "start_time": "2021-09-08T14:18:09.047Z"
   },
   {
    "duration": 30,
    "start_time": "2021-09-08T14:18:09.077Z"
   },
   {
    "duration": 235,
    "start_time": "2021-09-08T14:18:09.109Z"
   },
   {
    "duration": 295,
    "start_time": "2021-09-08T14:18:09.346Z"
   },
   {
    "duration": 126,
    "start_time": "2021-09-08T14:18:09.642Z"
   },
   {
    "duration": 14,
    "start_time": "2021-09-08T14:18:09.769Z"
   },
   {
    "duration": 69,
    "start_time": "2021-09-08T14:18:09.785Z"
   },
   {
    "duration": 759,
    "start_time": "2021-09-08T14:18:09.855Z"
   },
   {
    "duration": 170,
    "start_time": "2021-09-08T14:18:10.616Z"
   },
   {
    "duration": 23,
    "start_time": "2021-09-08T14:18:10.788Z"
   },
   {
    "duration": 244,
    "start_time": "2021-09-08T14:18:10.813Z"
   },
   {
    "duration": 15,
    "start_time": "2021-09-08T14:18:11.058Z"
   },
   {
    "duration": 25,
    "start_time": "2021-09-08T14:18:11.074Z"
   },
   {
    "duration": 1511,
    "start_time": "2021-09-08T14:18:11.100Z"
   },
   {
    "duration": 8,
    "start_time": "2021-09-08T14:18:12.613Z"
   },
   {
    "duration": 21,
    "start_time": "2021-09-08T14:18:12.623Z"
   },
   {
    "duration": 24,
    "start_time": "2021-09-08T14:18:12.646Z"
   },
   {
    "duration": 25,
    "start_time": "2021-09-08T14:18:12.671Z"
   },
   {
    "duration": 25,
    "start_time": "2021-09-08T14:18:12.697Z"
   },
   {
    "duration": 35,
    "start_time": "2021-09-08T14:18:12.724Z"
   },
   {
    "duration": 27,
    "start_time": "2021-09-08T14:18:12.761Z"
   },
   {
    "duration": 35,
    "start_time": "2021-09-08T14:18:12.790Z"
   },
   {
    "duration": 26,
    "start_time": "2021-09-08T14:18:12.827Z"
   },
   {
    "duration": 28,
    "start_time": "2021-09-08T14:18:12.855Z"
   },
   {
    "duration": 400,
    "start_time": "2021-09-08T14:18:12.885Z"
   },
   {
    "duration": 75,
    "start_time": "2021-09-08T14:18:13.213Z"
   },
   {
    "duration": 66,
    "start_time": "2021-09-08T14:18:13.224Z"
   },
   {
    "duration": 60,
    "start_time": "2021-09-08T14:18:13.231Z"
   },
   {
    "duration": 51,
    "start_time": "2021-09-08T14:18:13.242Z"
   },
   {
    "duration": 20,
    "start_time": "2021-09-08T14:19:56.589Z"
   },
   {
    "duration": 1585,
    "start_time": "2021-09-08T14:20:02.169Z"
   },
   {
    "duration": 50,
    "start_time": "2021-09-08T14:20:03.757Z"
   },
   {
    "duration": 9,
    "start_time": "2021-09-08T14:20:03.809Z"
   },
   {
    "duration": 23,
    "start_time": "2021-09-08T14:20:03.820Z"
   },
   {
    "duration": 24,
    "start_time": "2021-09-08T14:20:03.845Z"
   },
   {
    "duration": 24,
    "start_time": "2021-09-08T14:20:03.871Z"
   },
   {
    "duration": 45,
    "start_time": "2021-09-08T14:20:03.897Z"
   },
   {
    "duration": 11,
    "start_time": "2021-09-08T14:20:03.945Z"
   },
   {
    "duration": 16,
    "start_time": "2021-09-08T14:20:03.958Z"
   },
   {
    "duration": 23,
    "start_time": "2021-09-08T14:20:03.975Z"
   },
   {
    "duration": 13,
    "start_time": "2021-09-08T14:20:03.999Z"
   },
   {
    "duration": 35,
    "start_time": "2021-09-08T14:20:04.014Z"
   },
   {
    "duration": 221,
    "start_time": "2021-09-08T14:20:04.051Z"
   },
   {
    "duration": 6,
    "start_time": "2021-09-08T14:20:04.274Z"
   },
   {
    "duration": 12,
    "start_time": "2021-09-08T14:20:04.281Z"
   },
   {
    "duration": 87,
    "start_time": "2021-09-08T14:20:04.295Z"
   },
   {
    "duration": 7,
    "start_time": "2021-09-08T14:20:04.384Z"
   },
   {
    "duration": 3,
    "start_time": "2021-09-08T14:20:04.393Z"
   },
   {
    "duration": 231,
    "start_time": "2021-09-08T14:20:04.399Z"
   },
   {
    "duration": 14,
    "start_time": "2021-09-08T14:20:04.632Z"
   },
   {
    "duration": 17,
    "start_time": "2021-09-08T14:20:04.648Z"
   },
   {
    "duration": 17,
    "start_time": "2021-09-08T14:20:04.667Z"
   },
   {
    "duration": 18,
    "start_time": "2021-09-08T14:20:04.688Z"
   },
   {
    "duration": 12,
    "start_time": "2021-09-08T14:20:04.708Z"
   },
   {
    "duration": 20,
    "start_time": "2021-09-08T14:20:04.722Z"
   },
   {
    "duration": 10,
    "start_time": "2021-09-08T14:20:04.743Z"
   },
   {
    "duration": 12,
    "start_time": "2021-09-08T14:20:04.755Z"
   },
   {
    "duration": 228,
    "start_time": "2021-09-08T14:20:04.769Z"
   },
   {
    "duration": 303,
    "start_time": "2021-09-08T14:20:04.999Z"
   },
   {
    "duration": 137,
    "start_time": "2021-09-08T14:20:05.304Z"
   },
   {
    "duration": 14,
    "start_time": "2021-09-08T14:20:05.443Z"
   },
   {
    "duration": 9,
    "start_time": "2021-09-08T14:20:05.459Z"
   },
   {
    "duration": 654,
    "start_time": "2021-09-08T14:20:05.470Z"
   },
   {
    "duration": 170,
    "start_time": "2021-09-08T14:20:06.126Z"
   },
   {
    "duration": 22,
    "start_time": "2021-09-08T14:20:06.298Z"
   },
   {
    "duration": 238,
    "start_time": "2021-09-08T14:20:06.321Z"
   },
   {
    "duration": 14,
    "start_time": "2021-09-08T14:20:06.561Z"
   },
   {
    "duration": 13,
    "start_time": "2021-09-08T14:20:06.577Z"
   },
   {
    "duration": 890,
    "start_time": "2021-09-08T14:20:06.592Z"
   },
   {
    "duration": 10,
    "start_time": "2021-09-08T14:20:07.484Z"
   },
   {
    "duration": 24,
    "start_time": "2021-09-08T14:20:07.497Z"
   },
   {
    "duration": 5,
    "start_time": "2021-09-08T14:20:07.523Z"
   },
   {
    "duration": 10,
    "start_time": "2021-09-08T14:20:07.530Z"
   },
   {
    "duration": 20,
    "start_time": "2021-09-08T14:20:07.542Z"
   },
   {
    "duration": 15,
    "start_time": "2021-09-08T14:20:07.564Z"
   },
   {
    "duration": 18,
    "start_time": "2021-09-08T14:20:07.581Z"
   },
   {
    "duration": 6,
    "start_time": "2021-09-08T14:20:07.601Z"
   },
   {
    "duration": 32,
    "start_time": "2021-09-08T14:20:07.608Z"
   },
   {
    "duration": 35,
    "start_time": "2021-09-08T14:20:07.643Z"
   },
   {
    "duration": 21,
    "start_time": "2021-09-08T14:20:07.680Z"
   },
   {
    "duration": 37,
    "start_time": "2021-09-08T14:20:07.704Z"
   },
   {
    "duration": 161,
    "start_time": "2021-09-08T14:20:07.743Z"
   },
   {
    "duration": 346,
    "start_time": "2021-09-08T14:20:07.907Z"
   },
   {
    "duration": 4,
    "start_time": "2021-09-08T14:20:08.256Z"
   },
   {
    "duration": 423,
    "start_time": "2021-09-08T14:20:08.262Z"
   },
   {
    "duration": 106,
    "start_time": "2021-09-08T20:19:17.020Z"
   },
   {
    "duration": 2603,
    "start_time": "2021-09-15T12:23:07.562Z"
   },
   {
    "duration": 55,
    "start_time": "2021-09-15T12:23:10.168Z"
   },
   {
    "duration": 11,
    "start_time": "2021-09-15T12:23:10.226Z"
   },
   {
    "duration": 36,
    "start_time": "2021-09-15T12:23:10.240Z"
   },
   {
    "duration": 28,
    "start_time": "2021-09-15T12:23:10.279Z"
   },
   {
    "duration": 49,
    "start_time": "2021-09-15T12:23:10.309Z"
   },
   {
    "duration": 33,
    "start_time": "2021-09-15T12:23:10.361Z"
   },
   {
    "duration": 15,
    "start_time": "2021-09-15T12:23:10.398Z"
   },
   {
    "duration": 45,
    "start_time": "2021-09-15T12:23:10.416Z"
   },
   {
    "duration": 29,
    "start_time": "2021-09-15T12:23:10.464Z"
   },
   {
    "duration": 22,
    "start_time": "2021-09-15T12:23:10.496Z"
   },
   {
    "duration": 46,
    "start_time": "2021-09-15T12:23:10.521Z"
   },
   {
    "duration": 338,
    "start_time": "2021-09-15T12:23:10.570Z"
   },
   {
    "duration": 9,
    "start_time": "2021-09-15T12:23:10.911Z"
   },
   {
    "duration": 36,
    "start_time": "2021-09-15T12:23:10.922Z"
   },
   {
    "duration": 124,
    "start_time": "2021-09-15T12:23:10.961Z"
   },
   {
    "duration": 13,
    "start_time": "2021-09-15T12:23:11.088Z"
   },
   {
    "duration": 20,
    "start_time": "2021-09-15T12:23:11.103Z"
   },
   {
    "duration": 341,
    "start_time": "2021-09-15T12:23:11.125Z"
   },
   {
    "duration": 12,
    "start_time": "2021-09-15T12:23:11.469Z"
   },
   {
    "duration": 15,
    "start_time": "2021-09-15T12:23:11.485Z"
   },
   {
    "duration": 34,
    "start_time": "2021-09-15T12:23:11.503Z"
   },
   {
    "duration": 25,
    "start_time": "2021-09-15T12:23:11.543Z"
   },
   {
    "duration": 15,
    "start_time": "2021-09-15T12:23:11.571Z"
   },
   {
    "duration": 20,
    "start_time": "2021-09-15T12:23:11.588Z"
   },
   {
    "duration": 21,
    "start_time": "2021-09-15T12:23:11.610Z"
   },
   {
    "duration": 31,
    "start_time": "2021-09-15T12:23:11.633Z"
   },
   {
    "duration": 336,
    "start_time": "2021-09-15T12:23:11.666Z"
   },
   {
    "duration": 421,
    "start_time": "2021-09-15T12:23:12.005Z"
   },
   {
    "duration": 202,
    "start_time": "2021-09-15T12:23:12.429Z"
   },
   {
    "duration": 30,
    "start_time": "2021-09-15T12:23:12.633Z"
   },
   {
    "duration": 14,
    "start_time": "2021-09-15T12:23:12.665Z"
   },
   {
    "duration": 1019,
    "start_time": "2021-09-15T12:23:12.682Z"
   },
   {
    "duration": 223,
    "start_time": "2021-09-15T12:23:13.704Z"
   },
   {
    "duration": 42,
    "start_time": "2021-09-15T12:23:13.929Z"
   },
   {
    "duration": 451,
    "start_time": "2021-09-15T12:23:13.974Z"
   },
   {
    "duration": 31,
    "start_time": "2021-09-15T12:23:14.427Z"
   },
   {
    "duration": 41,
    "start_time": "2021-09-15T12:23:14.460Z"
   },
   {
    "duration": 1104,
    "start_time": "2021-09-15T12:23:14.504Z"
   },
   {
    "duration": 13,
    "start_time": "2021-09-15T12:23:15.611Z"
   },
   {
    "duration": 57,
    "start_time": "2021-09-15T12:23:15.627Z"
   },
   {
    "duration": 6,
    "start_time": "2021-09-15T12:23:15.686Z"
   },
   {
    "duration": 32,
    "start_time": "2021-09-15T12:23:15.695Z"
   },
   {
    "duration": 38,
    "start_time": "2021-09-15T12:23:15.729Z"
   },
   {
    "duration": 36,
    "start_time": "2021-09-15T12:23:15.769Z"
   },
   {
    "duration": 48,
    "start_time": "2021-09-15T12:23:15.807Z"
   },
   {
    "duration": 35,
    "start_time": "2021-09-15T12:23:15.857Z"
   },
   {
    "duration": 50,
    "start_time": "2021-09-15T12:23:15.894Z"
   },
   {
    "duration": 68,
    "start_time": "2021-09-15T12:23:15.947Z"
   },
   {
    "duration": 32,
    "start_time": "2021-09-15T12:23:16.017Z"
   },
   {
    "duration": 40,
    "start_time": "2021-09-15T12:23:16.051Z"
   },
   {
    "duration": 234,
    "start_time": "2021-09-15T12:23:16.093Z"
   },
   {
    "duration": 524,
    "start_time": "2021-09-15T12:23:16.330Z"
   },
   {
    "duration": 6,
    "start_time": "2021-09-15T12:23:16.856Z"
   },
   {
    "duration": 623,
    "start_time": "2021-09-15T12:23:16.865Z"
   }
  ],
  "kernelspec": {
   "display_name": "Python 3",
   "language": "python",
   "name": "python3"
  },
  "language_info": {
   "codemirror_mode": {
    "name": "ipython",
    "version": 3
   },
   "file_extension": ".py",
   "mimetype": "text/x-python",
   "name": "python",
   "nbconvert_exporter": "python",
   "pygments_lexer": "ipython3",
   "version": "3.7.8"
  },
  "toc": {
   "base_numbering": 1,
   "nav_menu": {},
   "number_sections": true,
   "sideBar": true,
   "skip_h1_title": true,
   "title_cell": "Содержание",
   "title_sidebar": "Contents",
   "toc_cell": true,
   "toc_position": {},
   "toc_section_display": true,
   "toc_window_display": true
  }
 },
 "nbformat": 4,
 "nbformat_minor": 2
}
