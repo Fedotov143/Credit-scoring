{
 "cells": [
  {
   "cell_type": "markdown",
   "metadata": {},
   "source": [
    "<div style=\"border:solid green 2px; padding: 20px\">\n",
    "<b>Андрей, привет!</b>\n",
    "\n",
    "Меня зовут Евгений Дащенко, и я буду проверять твой проект. Предлагаю общаться на «ты» 😊 Но если это не удобно - дай знать, и мы перейдем на \"вы\". \n",
    "\n",
    "Моя основная цель — не указать на совершенные тобою ошибки, а поделиться своим опытом и помочь тебе стать аналитиком данных. Ты уже проделал большую работу над проектом, но давай сделаем его еще лучше. Ниже ты найдешь мои комментарии - пожалуйста, не перемещай, не изменяй и не удаляй их. Я буду использовать цветовую разметку:\n",
    "\n",
    "<div class=\"alert alert-danger\">\n",
    "<b>Комментарий ревьюера:</b> Так выделены самые важные замечания. Без их отработки проект не будет принят. </div>\n",
    "\n",
    "<div class=\"alert alert-warning\">\n",
    "<b>Комментарий ревьюера:</b> Так выделены небольшие замечания. Одна-два таких замечания в проекте допустимы, но если их будет больше - тебе будет необходимо внести исправления. Это как тестовое задание при приеме на работу: очень много мелких ошибок могут стать причиной отказа кандидату. \n",
    "\n",
    "</div>\n",
    "\n",
    "<div class=\"alert alert-success\">\n",
    "<b>Комментарий ревьюера:</b> Так я выделяю все остальные комментарии.</div>\n",
    "\n",
    "Давай работать над проектом в диалоге: если ты что-то меняешь в проекте или отвечаешь на мои комменатри — пиши об этом. Мне будет легче отследить изменения, если ты выделишь свои комментарии:\n",
    "<div class=\"alert alert-info\"> <b>Комментарий студента:</b> Например, вот так.</div>\n",
    "\n",
    "Всё это поможет выполнить повторную проверку твоего проекта оперативнее. \n",
    "    "
   ]
  },
  {
   "cell_type": "markdown",
   "metadata": {
    "toc": true
   },
   "source": [
    "<h1>Содержание<span class=\"tocSkip\"></span></h1>\n",
    "<div class=\"toc\"><ul class=\"toc-item\"><li><span><a href=\"#Подключение-к-базе\" data-toc-modified-id=\"Подключение-к-базе-1\"><span class=\"toc-item-num\">1&nbsp;&nbsp;</span>Подключение к базе</a></span></li><li><span><a href=\"#Изучение-данных\" data-toc-modified-id=\"Изучение-данных-2\"><span class=\"toc-item-num\">2&nbsp;&nbsp;</span>Изучение данных</a></span></li><li><span><a href=\"#Аналитика-данных\" data-toc-modified-id=\"Аналитика-данных-3\"><span class=\"toc-item-num\">3&nbsp;&nbsp;</span>Аналитика данных</a></span><ul class=\"toc-item\"><li><span><a href=\"#Cколько-книг-вышло-после-1-января-2000-года\" data-toc-modified-id=\"Cколько-книг-вышло-после-1-января-2000-года-3.1\"><span class=\"toc-item-num\">3.1&nbsp;&nbsp;</span>Cколько книг вышло после 1 января 2000 года</a></span></li><li><span><a href=\"#Какая-средняя-оценка-и-количество-обзоров-у-каждой-книги\" data-toc-modified-id=\"Какая-средняя-оценка-и-количество-обзоров-у-каждой-книги-3.2\"><span class=\"toc-item-num\">3.2&nbsp;&nbsp;</span>Какая средняя оценка и количество обзоров у каждой книги</a></span></li><li><span><a href=\"#Какое-издательство,-выпустило-наибольшее-число-книг-толще-50-страниц\" data-toc-modified-id=\"Какое-издательство,-выпустило-наибольшее-число-книг-толще-50-страниц-3.3\"><span class=\"toc-item-num\">3.3&nbsp;&nbsp;</span>Какое издательство, выпустило наибольшее число книг толще 50 страниц</a></span></li><li><span><a href=\"#Какое-среднее-количество-обзоров-от-пользователей,-которые-поставили-больше-50-оценок?\" data-toc-modified-id=\"Какое-среднее-количество-обзоров-от-пользователей,-которые-поставили-больше-50-оценок?-3.4\"><span class=\"toc-item-num\">3.4&nbsp;&nbsp;</span>Какое среднее количество обзоров от пользователей, которые поставили больше 50 оценок?</a></span></li><li><span><a href=\"#Какой-автор-с-самой-высокой-средней-оценкой-книг?\" data-toc-modified-id=\"Какой-автор-с-самой-высокой-средней-оценкой-книг?-3.5\"><span class=\"toc-item-num\">3.5&nbsp;&nbsp;</span>Какой автор с самой высокой средней оценкой книг?</a></span></li></ul></li><li><span><a href=\"#Выводы\" data-toc-modified-id=\"Выводы-4\"><span class=\"toc-item-num\">4&nbsp;&nbsp;</span>Выводы</a></span></li></ul></div>"
   ]
  },
  {
   "cell_type": "markdown",
   "metadata": {},
   "source": [
    "# Книжное дело\n",
    "\n",
    "Компанией было приобретен крупный сервис для чтения книг по подписке. Необходимо проанализировать имеющуюся информацию и определить направления развития\n",
    "\n",
    "# Цель:\n",
    "Пронализировать базу данных, в которой находятся данные о книгах с целью формулирования ценностного предложения для нового продукта.\n",
    "\n",
    "# Исходные данные:\n",
    "Информация о книгах, издательствах, авторах, а также пользовательские обзоры книг\n",
    "База данных, содержащая таблицы: books, authors, publishers, ratings и reviews"
   ]
  },
  {
   "cell_type": "markdown",
   "metadata": {},
   "source": [
    "<div class=\"alert alert-success\">\n",
    "<b>Комментарий ревьюера:</b>\n",
    "\n",
    "Здорово, когда есть вступление в сам проект, каждый сможет быстрее разобраться в концепции / деталях работы. \n",
    "\n",
    "</div>"
   ]
  },
  {
   "cell_type": "markdown",
   "metadata": {},
   "source": [
    "## Подключение к базе"
   ]
  },
  {
   "cell_type": "code",
   "execution_count": 1,
   "metadata": {},
   "outputs": [],
   "source": [
    "# импортируем библиотеки\n",
    "import pandas as pd\n",
    "from sqlalchemy import create_engine\n",
    "\n",
    "# устанавливаем параметры\n",
    "db_config = {\n",
    "    'user': 'praktikum_student',\n",
    "    'pwd': 'Sdf4$2;d-d30pp',\n",
    "    'host': 'rc1b-wcoijxj3yxfsf3fs.mdb.yandexcloud.net',\n",
    "    'port': 6432, \n",
    "    'db': 'data-analyst-final-project-db'} \n",
    "connection_string = 'postgresql://{}:{}@{}:{}/{}'.format(db_config['user'],\n",
    "db_config['pwd'],\n",
    "db_config['host'],\n",
    "db_config['port'],\n",
    "db_config['db'])\n",
    "# сохраняем коннектор\n",
    "engine = create_engine(connection_string, connect_args={'sslmode':'require'})"
   ]
  },
  {
   "cell_type": "markdown",
   "metadata": {},
   "source": [
    "<div class=\"alert alert-success\">\n",
    "<b>Комментарий ревьюера:</b>\n",
    "\n",
    "Коннекшн готов, теперь можем делать запросы 😊\n",
    "</div>"
   ]
  },
  {
   "cell_type": "code",
   "execution_count": 2,
   "metadata": {},
   "outputs": [],
   "source": [
    "sql='''\n",
    "SELECT *\n",
    "FROM books\n",
    "LIMIT 5\n",
    "'''"
   ]
  },
  {
   "cell_type": "code",
   "execution_count": 3,
   "metadata": {},
   "outputs": [
    {
     "data": {
      "text/html": [
       "<div>\n",
       "<style scoped>\n",
       "    .dataframe tbody tr th:only-of-type {\n",
       "        vertical-align: middle;\n",
       "    }\n",
       "\n",
       "    .dataframe tbody tr th {\n",
       "        vertical-align: top;\n",
       "    }\n",
       "\n",
       "    .dataframe thead th {\n",
       "        text-align: right;\n",
       "    }\n",
       "</style>\n",
       "<table border=\"1\" class=\"dataframe\">\n",
       "  <thead>\n",
       "    <tr style=\"text-align: right;\">\n",
       "      <th></th>\n",
       "      <th>book_id</th>\n",
       "      <th>author_id</th>\n",
       "      <th>title</th>\n",
       "      <th>num_pages</th>\n",
       "      <th>publication_date</th>\n",
       "      <th>publisher_id</th>\n",
       "    </tr>\n",
       "  </thead>\n",
       "  <tbody>\n",
       "    <tr>\n",
       "      <td>0</td>\n",
       "      <td>1</td>\n",
       "      <td>546</td>\n",
       "      <td>'Salem's Lot</td>\n",
       "      <td>594</td>\n",
       "      <td>2005-11-01</td>\n",
       "      <td>93</td>\n",
       "    </tr>\n",
       "    <tr>\n",
       "      <td>1</td>\n",
       "      <td>2</td>\n",
       "      <td>465</td>\n",
       "      <td>1 000 Places to See Before You Die</td>\n",
       "      <td>992</td>\n",
       "      <td>2003-05-22</td>\n",
       "      <td>336</td>\n",
       "    </tr>\n",
       "    <tr>\n",
       "      <td>2</td>\n",
       "      <td>3</td>\n",
       "      <td>407</td>\n",
       "      <td>13 Little Blue Envelopes (Little Blue Envelope...</td>\n",
       "      <td>322</td>\n",
       "      <td>2010-12-21</td>\n",
       "      <td>135</td>\n",
       "    </tr>\n",
       "    <tr>\n",
       "      <td>3</td>\n",
       "      <td>4</td>\n",
       "      <td>82</td>\n",
       "      <td>1491: New Revelations of the Americas Before C...</td>\n",
       "      <td>541</td>\n",
       "      <td>2006-10-10</td>\n",
       "      <td>309</td>\n",
       "    </tr>\n",
       "    <tr>\n",
       "      <td>4</td>\n",
       "      <td>5</td>\n",
       "      <td>125</td>\n",
       "      <td>1776</td>\n",
       "      <td>386</td>\n",
       "      <td>2006-07-04</td>\n",
       "      <td>268</td>\n",
       "    </tr>\n",
       "  </tbody>\n",
       "</table>\n",
       "</div>"
      ],
      "text/plain": [
       "   book_id  author_id                                              title  \\\n",
       "0        1        546                                       'Salem's Lot   \n",
       "1        2        465                 1 000 Places to See Before You Die   \n",
       "2        3        407  13 Little Blue Envelopes (Little Blue Envelope...   \n",
       "3        4         82  1491: New Revelations of the Americas Before C...   \n",
       "4        5        125                                               1776   \n",
       "\n",
       "   num_pages publication_date  publisher_id  \n",
       "0        594       2005-11-01            93  \n",
       "1        992       2003-05-22           336  \n",
       "2        322       2010-12-21           135  \n",
       "3        541       2006-10-10           309  \n",
       "4        386       2006-07-04           268  "
      ]
     },
     "execution_count": 3,
     "metadata": {},
     "output_type": "execute_result"
    }
   ],
   "source": [
    "pd.io.sql.read_sql(sql, con = engine)"
   ]
  },
  {
   "cell_type": "markdown",
   "metadata": {},
   "source": [
    "Сделаем запрос в виде функции для удобства"
   ]
  },
  {
   "cell_type": "code",
   "execution_count": 4,
   "metadata": {},
   "outputs": [],
   "source": [
    "def select(sql):\n",
    "    return pd.io.sql.read_sql(sql, con = engine)"
   ]
  },
  {
   "cell_type": "markdown",
   "metadata": {},
   "source": [
    "<div class=\"alert alert-success\">\n",
    "<b>Комментарий ревьюера:</b>\n",
    "\n",
    "Отличная функция для выполнения запросов 👍\n",
    "</div>"
   ]
  },
  {
   "cell_type": "code",
   "execution_count": 5,
   "metadata": {},
   "outputs": [
    {
     "data": {
      "text/html": [
       "<div>\n",
       "<style scoped>\n",
       "    .dataframe tbody tr th:only-of-type {\n",
       "        vertical-align: middle;\n",
       "    }\n",
       "\n",
       "    .dataframe tbody tr th {\n",
       "        vertical-align: top;\n",
       "    }\n",
       "\n",
       "    .dataframe thead th {\n",
       "        text-align: right;\n",
       "    }\n",
       "</style>\n",
       "<table border=\"1\" class=\"dataframe\">\n",
       "  <thead>\n",
       "    <tr style=\"text-align: right;\">\n",
       "      <th></th>\n",
       "      <th>book_id</th>\n",
       "      <th>author_id</th>\n",
       "      <th>title</th>\n",
       "      <th>num_pages</th>\n",
       "      <th>publication_date</th>\n",
       "      <th>publisher_id</th>\n",
       "    </tr>\n",
       "  </thead>\n",
       "  <tbody>\n",
       "    <tr>\n",
       "      <td>0</td>\n",
       "      <td>1</td>\n",
       "      <td>546</td>\n",
       "      <td>'Salem's Lot</td>\n",
       "      <td>594</td>\n",
       "      <td>2005-11-01</td>\n",
       "      <td>93</td>\n",
       "    </tr>\n",
       "    <tr>\n",
       "      <td>1</td>\n",
       "      <td>2</td>\n",
       "      <td>465</td>\n",
       "      <td>1 000 Places to See Before You Die</td>\n",
       "      <td>992</td>\n",
       "      <td>2003-05-22</td>\n",
       "      <td>336</td>\n",
       "    </tr>\n",
       "    <tr>\n",
       "      <td>2</td>\n",
       "      <td>3</td>\n",
       "      <td>407</td>\n",
       "      <td>13 Little Blue Envelopes (Little Blue Envelope...</td>\n",
       "      <td>322</td>\n",
       "      <td>2010-12-21</td>\n",
       "      <td>135</td>\n",
       "    </tr>\n",
       "    <tr>\n",
       "      <td>3</td>\n",
       "      <td>4</td>\n",
       "      <td>82</td>\n",
       "      <td>1491: New Revelations of the Americas Before C...</td>\n",
       "      <td>541</td>\n",
       "      <td>2006-10-10</td>\n",
       "      <td>309</td>\n",
       "    </tr>\n",
       "    <tr>\n",
       "      <td>4</td>\n",
       "      <td>5</td>\n",
       "      <td>125</td>\n",
       "      <td>1776</td>\n",
       "      <td>386</td>\n",
       "      <td>2006-07-04</td>\n",
       "      <td>268</td>\n",
       "    </tr>\n",
       "  </tbody>\n",
       "</table>\n",
       "</div>"
      ],
      "text/plain": [
       "   book_id  author_id                                              title  \\\n",
       "0        1        546                                       'Salem's Lot   \n",
       "1        2        465                 1 000 Places to See Before You Die   \n",
       "2        3        407  13 Little Blue Envelopes (Little Blue Envelope...   \n",
       "3        4         82  1491: New Revelations of the Americas Before C...   \n",
       "4        5        125                                               1776   \n",
       "\n",
       "   num_pages publication_date  publisher_id  \n",
       "0        594       2005-11-01            93  \n",
       "1        992       2003-05-22           336  \n",
       "2        322       2010-12-21           135  \n",
       "3        541       2006-10-10           309  \n",
       "4        386       2006-07-04           268  "
      ]
     },
     "execution_count": 5,
     "metadata": {},
     "output_type": "execute_result"
    }
   ],
   "source": [
    "select(sql)"
   ]
  },
  {
   "cell_type": "markdown",
   "metadata": {},
   "source": [
    "Работает, отлично"
   ]
  },
  {
   "cell_type": "markdown",
   "metadata": {},
   "source": [
    "## Изучение данных"
   ]
  },
  {
   "cell_type": "code",
   "execution_count": 6,
   "metadata": {},
   "outputs": [],
   "source": [
    "sql='''\n",
    "SELECT *\n",
    "FROM books b\n",
    "LIMIT 5\n",
    "'''"
   ]
  },
  {
   "cell_type": "code",
   "execution_count": 7,
   "metadata": {},
   "outputs": [
    {
     "data": {
      "text/html": [
       "<div>\n",
       "<style scoped>\n",
       "    .dataframe tbody tr th:only-of-type {\n",
       "        vertical-align: middle;\n",
       "    }\n",
       "\n",
       "    .dataframe tbody tr th {\n",
       "        vertical-align: top;\n",
       "    }\n",
       "\n",
       "    .dataframe thead th {\n",
       "        text-align: right;\n",
       "    }\n",
       "</style>\n",
       "<table border=\"1\" class=\"dataframe\">\n",
       "  <thead>\n",
       "    <tr style=\"text-align: right;\">\n",
       "      <th></th>\n",
       "      <th>book_id</th>\n",
       "      <th>author_id</th>\n",
       "      <th>title</th>\n",
       "      <th>num_pages</th>\n",
       "      <th>publication_date</th>\n",
       "      <th>publisher_id</th>\n",
       "    </tr>\n",
       "  </thead>\n",
       "  <tbody>\n",
       "    <tr>\n",
       "      <td>0</td>\n",
       "      <td>1</td>\n",
       "      <td>546</td>\n",
       "      <td>'Salem's Lot</td>\n",
       "      <td>594</td>\n",
       "      <td>2005-11-01</td>\n",
       "      <td>93</td>\n",
       "    </tr>\n",
       "    <tr>\n",
       "      <td>1</td>\n",
       "      <td>2</td>\n",
       "      <td>465</td>\n",
       "      <td>1 000 Places to See Before You Die</td>\n",
       "      <td>992</td>\n",
       "      <td>2003-05-22</td>\n",
       "      <td>336</td>\n",
       "    </tr>\n",
       "    <tr>\n",
       "      <td>2</td>\n",
       "      <td>3</td>\n",
       "      <td>407</td>\n",
       "      <td>13 Little Blue Envelopes (Little Blue Envelope...</td>\n",
       "      <td>322</td>\n",
       "      <td>2010-12-21</td>\n",
       "      <td>135</td>\n",
       "    </tr>\n",
       "    <tr>\n",
       "      <td>3</td>\n",
       "      <td>4</td>\n",
       "      <td>82</td>\n",
       "      <td>1491: New Revelations of the Americas Before C...</td>\n",
       "      <td>541</td>\n",
       "      <td>2006-10-10</td>\n",
       "      <td>309</td>\n",
       "    </tr>\n",
       "    <tr>\n",
       "      <td>4</td>\n",
       "      <td>5</td>\n",
       "      <td>125</td>\n",
       "      <td>1776</td>\n",
       "      <td>386</td>\n",
       "      <td>2006-07-04</td>\n",
       "      <td>268</td>\n",
       "    </tr>\n",
       "  </tbody>\n",
       "</table>\n",
       "</div>"
      ],
      "text/plain": [
       "   book_id  author_id                                              title  \\\n",
       "0        1        546                                       'Salem's Lot   \n",
       "1        2        465                 1 000 Places to See Before You Die   \n",
       "2        3        407  13 Little Blue Envelopes (Little Blue Envelope...   \n",
       "3        4         82  1491: New Revelations of the Americas Before C...   \n",
       "4        5        125                                               1776   \n",
       "\n",
       "   num_pages publication_date  publisher_id  \n",
       "0        594       2005-11-01            93  \n",
       "1        992       2003-05-22           336  \n",
       "2        322       2010-12-21           135  \n",
       "3        541       2006-10-10           309  \n",
       "4        386       2006-07-04           268  "
      ]
     },
     "execution_count": 7,
     "metadata": {},
     "output_type": "execute_result"
    }
   ],
   "source": [
    "select(sql)"
   ]
  },
  {
   "cell_type": "code",
   "execution_count": 8,
   "metadata": {},
   "outputs": [],
   "source": [
    "sql='''\n",
    "SELECT count(b.book_id) AS cnt\n",
    "FROM books b\n",
    "'''"
   ]
  },
  {
   "cell_type": "code",
   "execution_count": 9,
   "metadata": {},
   "outputs": [
    {
     "data": {
      "text/html": [
       "<div>\n",
       "<style scoped>\n",
       "    .dataframe tbody tr th:only-of-type {\n",
       "        vertical-align: middle;\n",
       "    }\n",
       "\n",
       "    .dataframe tbody tr th {\n",
       "        vertical-align: top;\n",
       "    }\n",
       "\n",
       "    .dataframe thead th {\n",
       "        text-align: right;\n",
       "    }\n",
       "</style>\n",
       "<table border=\"1\" class=\"dataframe\">\n",
       "  <thead>\n",
       "    <tr style=\"text-align: right;\">\n",
       "      <th></th>\n",
       "      <th>cnt</th>\n",
       "    </tr>\n",
       "  </thead>\n",
       "  <tbody>\n",
       "    <tr>\n",
       "      <td>0</td>\n",
       "      <td>1000</td>\n",
       "    </tr>\n",
       "  </tbody>\n",
       "</table>\n",
       "</div>"
      ],
      "text/plain": [
       "    cnt\n",
       "0  1000"
      ]
     },
     "execution_count": 9,
     "metadata": {},
     "output_type": "execute_result"
    }
   ],
   "source": [
    "select(sql)"
   ]
  },
  {
   "cell_type": "markdown",
   "metadata": {},
   "source": [
    "Таблица book содержит 1000 записей"
   ]
  },
  {
   "cell_type": "markdown",
   "metadata": {},
   "source": [
    "**Таблица `books`**\n",
    "\n",
    "Содержит данные о книгах:\n",
    "\n",
    "- `book_id` — идентификатор книги;\n",
    "- `author_id` — идентификатор автора;\n",
    "- `title` — название книги;\n",
    "- `num_pages` — количество страниц;\n",
    "- `publication_date` — дата публикации книги;\n",
    "- `publisher_id` — идентификатор издателя."
   ]
  },
  {
   "cell_type": "code",
   "execution_count": 10,
   "metadata": {},
   "outputs": [],
   "source": [
    "sql='''\n",
    "SELECT *\n",
    "FROM authors a\n",
    "LIMIT 5\n",
    "'''"
   ]
  },
  {
   "cell_type": "code",
   "execution_count": 11,
   "metadata": {},
   "outputs": [
    {
     "data": {
      "text/html": [
       "<div>\n",
       "<style scoped>\n",
       "    .dataframe tbody tr th:only-of-type {\n",
       "        vertical-align: middle;\n",
       "    }\n",
       "\n",
       "    .dataframe tbody tr th {\n",
       "        vertical-align: top;\n",
       "    }\n",
       "\n",
       "    .dataframe thead th {\n",
       "        text-align: right;\n",
       "    }\n",
       "</style>\n",
       "<table border=\"1\" class=\"dataframe\">\n",
       "  <thead>\n",
       "    <tr style=\"text-align: right;\">\n",
       "      <th></th>\n",
       "      <th>author_id</th>\n",
       "      <th>author</th>\n",
       "    </tr>\n",
       "  </thead>\n",
       "  <tbody>\n",
       "    <tr>\n",
       "      <td>0</td>\n",
       "      <td>1</td>\n",
       "      <td>A.S. Byatt</td>\n",
       "    </tr>\n",
       "    <tr>\n",
       "      <td>1</td>\n",
       "      <td>2</td>\n",
       "      <td>Aesop/Laura Harris/Laura Gibbs</td>\n",
       "    </tr>\n",
       "    <tr>\n",
       "      <td>2</td>\n",
       "      <td>3</td>\n",
       "      <td>Agatha Christie</td>\n",
       "    </tr>\n",
       "    <tr>\n",
       "      <td>3</td>\n",
       "      <td>4</td>\n",
       "      <td>Alan Brennert</td>\n",
       "    </tr>\n",
       "    <tr>\n",
       "      <td>4</td>\n",
       "      <td>5</td>\n",
       "      <td>Alan Moore/David   Lloyd</td>\n",
       "    </tr>\n",
       "  </tbody>\n",
       "</table>\n",
       "</div>"
      ],
      "text/plain": [
       "   author_id                          author\n",
       "0          1                      A.S. Byatt\n",
       "1          2  Aesop/Laura Harris/Laura Gibbs\n",
       "2          3                 Agatha Christie\n",
       "3          4                   Alan Brennert\n",
       "4          5        Alan Moore/David   Lloyd"
      ]
     },
     "execution_count": 11,
     "metadata": {},
     "output_type": "execute_result"
    }
   ],
   "source": [
    "select(sql)"
   ]
  },
  {
   "cell_type": "code",
   "execution_count": 12,
   "metadata": {},
   "outputs": [],
   "source": [
    "sql='''\n",
    "SELECT count(a.author_id) AS cnt\n",
    "FROM authors a\n",
    "'''"
   ]
  },
  {
   "cell_type": "code",
   "execution_count": 13,
   "metadata": {},
   "outputs": [
    {
     "data": {
      "text/html": [
       "<div>\n",
       "<style scoped>\n",
       "    .dataframe tbody tr th:only-of-type {\n",
       "        vertical-align: middle;\n",
       "    }\n",
       "\n",
       "    .dataframe tbody tr th {\n",
       "        vertical-align: top;\n",
       "    }\n",
       "\n",
       "    .dataframe thead th {\n",
       "        text-align: right;\n",
       "    }\n",
       "</style>\n",
       "<table border=\"1\" class=\"dataframe\">\n",
       "  <thead>\n",
       "    <tr style=\"text-align: right;\">\n",
       "      <th></th>\n",
       "      <th>cnt</th>\n",
       "    </tr>\n",
       "  </thead>\n",
       "  <tbody>\n",
       "    <tr>\n",
       "      <td>0</td>\n",
       "      <td>636</td>\n",
       "    </tr>\n",
       "  </tbody>\n",
       "</table>\n",
       "</div>"
      ],
      "text/plain": [
       "   cnt\n",
       "0  636"
      ]
     },
     "execution_count": 13,
     "metadata": {},
     "output_type": "execute_result"
    }
   ],
   "source": [
    "select(sql)"
   ]
  },
  {
   "cell_type": "markdown",
   "metadata": {},
   "source": [
    "Таблица autors содержит 636 записей"
   ]
  },
  {
   "cell_type": "markdown",
   "metadata": {},
   "source": [
    "**Таблица `authors`**\n",
    "\n",
    "Содержит данные об авторах:\n",
    "\n",
    "- `author_id` — идентификатор автора;\n",
    "- `author` — имя автора."
   ]
  },
  {
   "cell_type": "code",
   "execution_count": 14,
   "metadata": {},
   "outputs": [],
   "source": [
    "sql='''\n",
    "SELECT *\n",
    "FROM publishers p\n",
    "LIMIT 5\n",
    "'''"
   ]
  },
  {
   "cell_type": "code",
   "execution_count": 15,
   "metadata": {},
   "outputs": [
    {
     "data": {
      "text/html": [
       "<div>\n",
       "<style scoped>\n",
       "    .dataframe tbody tr th:only-of-type {\n",
       "        vertical-align: middle;\n",
       "    }\n",
       "\n",
       "    .dataframe tbody tr th {\n",
       "        vertical-align: top;\n",
       "    }\n",
       "\n",
       "    .dataframe thead th {\n",
       "        text-align: right;\n",
       "    }\n",
       "</style>\n",
       "<table border=\"1\" class=\"dataframe\">\n",
       "  <thead>\n",
       "    <tr style=\"text-align: right;\">\n",
       "      <th></th>\n",
       "      <th>publisher_id</th>\n",
       "      <th>publisher</th>\n",
       "    </tr>\n",
       "  </thead>\n",
       "  <tbody>\n",
       "    <tr>\n",
       "      <td>0</td>\n",
       "      <td>1</td>\n",
       "      <td>Ace</td>\n",
       "    </tr>\n",
       "    <tr>\n",
       "      <td>1</td>\n",
       "      <td>2</td>\n",
       "      <td>Ace Book</td>\n",
       "    </tr>\n",
       "    <tr>\n",
       "      <td>2</td>\n",
       "      <td>3</td>\n",
       "      <td>Ace Books</td>\n",
       "    </tr>\n",
       "    <tr>\n",
       "      <td>3</td>\n",
       "      <td>4</td>\n",
       "      <td>Ace Hardcover</td>\n",
       "    </tr>\n",
       "    <tr>\n",
       "      <td>4</td>\n",
       "      <td>5</td>\n",
       "      <td>Addison Wesley Publishing Company</td>\n",
       "    </tr>\n",
       "  </tbody>\n",
       "</table>\n",
       "</div>"
      ],
      "text/plain": [
       "   publisher_id                          publisher\n",
       "0             1                                Ace\n",
       "1             2                           Ace Book\n",
       "2             3                          Ace Books\n",
       "3             4                      Ace Hardcover\n",
       "4             5  Addison Wesley Publishing Company"
      ]
     },
     "execution_count": 15,
     "metadata": {},
     "output_type": "execute_result"
    }
   ],
   "source": [
    "select(sql)"
   ]
  },
  {
   "cell_type": "code",
   "execution_count": 16,
   "metadata": {},
   "outputs": [],
   "source": [
    "sql='''\n",
    "SELECT count(p.publisher_id) AS cnt\n",
    "FROM publishers p\n",
    "'''"
   ]
  },
  {
   "cell_type": "code",
   "execution_count": 17,
   "metadata": {},
   "outputs": [
    {
     "data": {
      "text/html": [
       "<div>\n",
       "<style scoped>\n",
       "    .dataframe tbody tr th:only-of-type {\n",
       "        vertical-align: middle;\n",
       "    }\n",
       "\n",
       "    .dataframe tbody tr th {\n",
       "        vertical-align: top;\n",
       "    }\n",
       "\n",
       "    .dataframe thead th {\n",
       "        text-align: right;\n",
       "    }\n",
       "</style>\n",
       "<table border=\"1\" class=\"dataframe\">\n",
       "  <thead>\n",
       "    <tr style=\"text-align: right;\">\n",
       "      <th></th>\n",
       "      <th>cnt</th>\n",
       "    </tr>\n",
       "  </thead>\n",
       "  <tbody>\n",
       "    <tr>\n",
       "      <td>0</td>\n",
       "      <td>340</td>\n",
       "    </tr>\n",
       "  </tbody>\n",
       "</table>\n",
       "</div>"
      ],
      "text/plain": [
       "   cnt\n",
       "0  340"
      ]
     },
     "execution_count": 17,
     "metadata": {},
     "output_type": "execute_result"
    }
   ],
   "source": [
    "select(sql)"
   ]
  },
  {
   "cell_type": "markdown",
   "metadata": {},
   "source": [
    "Таблица publisher содержит 340 записей"
   ]
  },
  {
   "cell_type": "markdown",
   "metadata": {},
   "source": [
    "**Таблица `publishers`**\n",
    "\n",
    "Содержит данные об издательствах:\n",
    "\n",
    "- `publisher_id` — идентификатор издательства;\n",
    "- `publisher` — название издательства;"
   ]
  },
  {
   "cell_type": "code",
   "execution_count": 18,
   "metadata": {},
   "outputs": [],
   "source": [
    "sql='''\n",
    "SELECT *\n",
    "FROM ratings r\n",
    "LIMIT 5\n",
    "'''"
   ]
  },
  {
   "cell_type": "code",
   "execution_count": 19,
   "metadata": {},
   "outputs": [
    {
     "data": {
      "text/html": [
       "<div>\n",
       "<style scoped>\n",
       "    .dataframe tbody tr th:only-of-type {\n",
       "        vertical-align: middle;\n",
       "    }\n",
       "\n",
       "    .dataframe tbody tr th {\n",
       "        vertical-align: top;\n",
       "    }\n",
       "\n",
       "    .dataframe thead th {\n",
       "        text-align: right;\n",
       "    }\n",
       "</style>\n",
       "<table border=\"1\" class=\"dataframe\">\n",
       "  <thead>\n",
       "    <tr style=\"text-align: right;\">\n",
       "      <th></th>\n",
       "      <th>rating_id</th>\n",
       "      <th>book_id</th>\n",
       "      <th>username</th>\n",
       "      <th>rating</th>\n",
       "    </tr>\n",
       "  </thead>\n",
       "  <tbody>\n",
       "    <tr>\n",
       "      <td>0</td>\n",
       "      <td>1</td>\n",
       "      <td>1</td>\n",
       "      <td>ryanfranco</td>\n",
       "      <td>4</td>\n",
       "    </tr>\n",
       "    <tr>\n",
       "      <td>1</td>\n",
       "      <td>2</td>\n",
       "      <td>1</td>\n",
       "      <td>grantpatricia</td>\n",
       "      <td>2</td>\n",
       "    </tr>\n",
       "    <tr>\n",
       "      <td>2</td>\n",
       "      <td>3</td>\n",
       "      <td>1</td>\n",
       "      <td>brandtandrea</td>\n",
       "      <td>5</td>\n",
       "    </tr>\n",
       "    <tr>\n",
       "      <td>3</td>\n",
       "      <td>4</td>\n",
       "      <td>2</td>\n",
       "      <td>lorichen</td>\n",
       "      <td>3</td>\n",
       "    </tr>\n",
       "    <tr>\n",
       "      <td>4</td>\n",
       "      <td>5</td>\n",
       "      <td>2</td>\n",
       "      <td>mariokeller</td>\n",
       "      <td>2</td>\n",
       "    </tr>\n",
       "  </tbody>\n",
       "</table>\n",
       "</div>"
      ],
      "text/plain": [
       "   rating_id  book_id       username  rating\n",
       "0          1        1     ryanfranco       4\n",
       "1          2        1  grantpatricia       2\n",
       "2          3        1   brandtandrea       5\n",
       "3          4        2       lorichen       3\n",
       "4          5        2    mariokeller       2"
      ]
     },
     "execution_count": 19,
     "metadata": {},
     "output_type": "execute_result"
    }
   ],
   "source": [
    "select(sql)"
   ]
  },
  {
   "cell_type": "code",
   "execution_count": 20,
   "metadata": {},
   "outputs": [],
   "source": [
    "sql='''\n",
    "SELECT count(r.rating_id) AS cnt\n",
    "FROM ratings r\n",
    "'''"
   ]
  },
  {
   "cell_type": "code",
   "execution_count": 21,
   "metadata": {},
   "outputs": [
    {
     "data": {
      "text/html": [
       "<div>\n",
       "<style scoped>\n",
       "    .dataframe tbody tr th:only-of-type {\n",
       "        vertical-align: middle;\n",
       "    }\n",
       "\n",
       "    .dataframe tbody tr th {\n",
       "        vertical-align: top;\n",
       "    }\n",
       "\n",
       "    .dataframe thead th {\n",
       "        text-align: right;\n",
       "    }\n",
       "</style>\n",
       "<table border=\"1\" class=\"dataframe\">\n",
       "  <thead>\n",
       "    <tr style=\"text-align: right;\">\n",
       "      <th></th>\n",
       "      <th>cnt</th>\n",
       "    </tr>\n",
       "  </thead>\n",
       "  <tbody>\n",
       "    <tr>\n",
       "      <td>0</td>\n",
       "      <td>6456</td>\n",
       "    </tr>\n",
       "  </tbody>\n",
       "</table>\n",
       "</div>"
      ],
      "text/plain": [
       "    cnt\n",
       "0  6456"
      ]
     },
     "execution_count": 21,
     "metadata": {},
     "output_type": "execute_result"
    }
   ],
   "source": [
    "select(sql)"
   ]
  },
  {
   "cell_type": "markdown",
   "metadata": {},
   "source": [
    "Таблица  rating содержит 6456 записей"
   ]
  },
  {
   "cell_type": "markdown",
   "metadata": {},
   "source": [
    "**Таблица `ratings`**\n",
    "\n",
    "Содержит данные о пользовательских оценках книг:\n",
    "\n",
    "- `rating_id` — идентификатор оценки;\n",
    "- `book_id` — идентификатор книги;\n",
    "- `username` — имя пользователя, оставившего оценку;\n",
    "- `rating` — оценка книги."
   ]
  },
  {
   "cell_type": "code",
   "execution_count": 22,
   "metadata": {},
   "outputs": [],
   "source": [
    "sql='''\n",
    "SELECT *\n",
    "FROM reviews rev\n",
    "LIMIT 5\n",
    "'''"
   ]
  },
  {
   "cell_type": "code",
   "execution_count": 23,
   "metadata": {},
   "outputs": [
    {
     "data": {
      "text/html": [
       "<div>\n",
       "<style scoped>\n",
       "    .dataframe tbody tr th:only-of-type {\n",
       "        vertical-align: middle;\n",
       "    }\n",
       "\n",
       "    .dataframe tbody tr th {\n",
       "        vertical-align: top;\n",
       "    }\n",
       "\n",
       "    .dataframe thead th {\n",
       "        text-align: right;\n",
       "    }\n",
       "</style>\n",
       "<table border=\"1\" class=\"dataframe\">\n",
       "  <thead>\n",
       "    <tr style=\"text-align: right;\">\n",
       "      <th></th>\n",
       "      <th>review_id</th>\n",
       "      <th>book_id</th>\n",
       "      <th>username</th>\n",
       "      <th>text</th>\n",
       "    </tr>\n",
       "  </thead>\n",
       "  <tbody>\n",
       "    <tr>\n",
       "      <td>0</td>\n",
       "      <td>1</td>\n",
       "      <td>1</td>\n",
       "      <td>brandtandrea</td>\n",
       "      <td>Mention society tell send professor analysis. ...</td>\n",
       "    </tr>\n",
       "    <tr>\n",
       "      <td>1</td>\n",
       "      <td>2</td>\n",
       "      <td>1</td>\n",
       "      <td>ryanfranco</td>\n",
       "      <td>Foot glass pretty audience hit themselves. Amo...</td>\n",
       "    </tr>\n",
       "    <tr>\n",
       "      <td>2</td>\n",
       "      <td>3</td>\n",
       "      <td>2</td>\n",
       "      <td>lorichen</td>\n",
       "      <td>Listen treat keep worry. Miss husband tax but ...</td>\n",
       "    </tr>\n",
       "    <tr>\n",
       "      <td>3</td>\n",
       "      <td>4</td>\n",
       "      <td>3</td>\n",
       "      <td>johnsonamanda</td>\n",
       "      <td>Finally month interesting blue could nature cu...</td>\n",
       "    </tr>\n",
       "    <tr>\n",
       "      <td>4</td>\n",
       "      <td>5</td>\n",
       "      <td>3</td>\n",
       "      <td>scotttamara</td>\n",
       "      <td>Nation purpose heavy give wait song will. List...</td>\n",
       "    </tr>\n",
       "  </tbody>\n",
       "</table>\n",
       "</div>"
      ],
      "text/plain": [
       "   review_id  book_id       username  \\\n",
       "0          1        1   brandtandrea   \n",
       "1          2        1     ryanfranco   \n",
       "2          3        2       lorichen   \n",
       "3          4        3  johnsonamanda   \n",
       "4          5        3    scotttamara   \n",
       "\n",
       "                                                text  \n",
       "0  Mention society tell send professor analysis. ...  \n",
       "1  Foot glass pretty audience hit themselves. Amo...  \n",
       "2  Listen treat keep worry. Miss husband tax but ...  \n",
       "3  Finally month interesting blue could nature cu...  \n",
       "4  Nation purpose heavy give wait song will. List...  "
      ]
     },
     "execution_count": 23,
     "metadata": {},
     "output_type": "execute_result"
    }
   ],
   "source": [
    "select(sql)"
   ]
  },
  {
   "cell_type": "code",
   "execution_count": 24,
   "metadata": {},
   "outputs": [],
   "source": [
    "sql='''\n",
    "SELECT count(rev.review_id) AS cnt\n",
    "FROM reviews rev\n",
    "'''"
   ]
  },
  {
   "cell_type": "code",
   "execution_count": 25,
   "metadata": {},
   "outputs": [
    {
     "data": {
      "text/html": [
       "<div>\n",
       "<style scoped>\n",
       "    .dataframe tbody tr th:only-of-type {\n",
       "        vertical-align: middle;\n",
       "    }\n",
       "\n",
       "    .dataframe tbody tr th {\n",
       "        vertical-align: top;\n",
       "    }\n",
       "\n",
       "    .dataframe thead th {\n",
       "        text-align: right;\n",
       "    }\n",
       "</style>\n",
       "<table border=\"1\" class=\"dataframe\">\n",
       "  <thead>\n",
       "    <tr style=\"text-align: right;\">\n",
       "      <th></th>\n",
       "      <th>cnt</th>\n",
       "    </tr>\n",
       "  </thead>\n",
       "  <tbody>\n",
       "    <tr>\n",
       "      <td>0</td>\n",
       "      <td>2793</td>\n",
       "    </tr>\n",
       "  </tbody>\n",
       "</table>\n",
       "</div>"
      ],
      "text/plain": [
       "    cnt\n",
       "0  2793"
      ]
     },
     "execution_count": 25,
     "metadata": {},
     "output_type": "execute_result"
    }
   ],
   "source": [
    "select(sql)"
   ]
  },
  {
   "cell_type": "markdown",
   "metadata": {},
   "source": [
    "Таблица reviews содержит 2793 записей."
   ]
  },
  {
   "cell_type": "markdown",
   "metadata": {},
   "source": [
    "**Таблица `reviews`**\n",
    "\n",
    "Содержит данные о пользовательских обзорах на книги:\n",
    "\n",
    "- `review_id` — идентификатор обзора;\n",
    "- `book_id` — идентификатор книги;\n",
    "- `username` — имя пользователя, написавшего обзор;\n",
    "- `text` — текст обзора."
   ]
  },
  {
   "cell_type": "markdown",
   "metadata": {},
   "source": [
    "<div class=\"alert alert-success\">\n",
    "<b>Комментарий ревьюера:</b>\n",
    "\n",
    "Что ж, данные посмотрели теперь мы можем приступить к выполнению наших заданий.\n",
    "    \n",
    "Кстати получение данных можно делать следующим образом: \n",
    "    \n",
    "`pd.read_sql(query, con)`\n",
    "    \n",
    "</div>"
   ]
  },
  {
   "cell_type": "markdown",
   "metadata": {},
   "source": [
    "## Аналитика данных"
   ]
  },
  {
   "cell_type": "markdown",
   "metadata": {},
   "source": [
    "### Cколько книг вышло после 1 января 2000 года"
   ]
  },
  {
   "cell_type": "code",
   "execution_count": 26,
   "metadata": {},
   "outputs": [],
   "source": [
    "sql='''\n",
    "SELECT count(b.book_id) AS cnt\n",
    "FROM books b\n",
    "WHERE publication_date > '2000-01-01'\n",
    "'''"
   ]
  },
  {
   "cell_type": "code",
   "execution_count": 27,
   "metadata": {},
   "outputs": [
    {
     "data": {
      "text/html": [
       "<div>\n",
       "<style scoped>\n",
       "    .dataframe tbody tr th:only-of-type {\n",
       "        vertical-align: middle;\n",
       "    }\n",
       "\n",
       "    .dataframe tbody tr th {\n",
       "        vertical-align: top;\n",
       "    }\n",
       "\n",
       "    .dataframe thead th {\n",
       "        text-align: right;\n",
       "    }\n",
       "</style>\n",
       "<table border=\"1\" class=\"dataframe\">\n",
       "  <thead>\n",
       "    <tr style=\"text-align: right;\">\n",
       "      <th></th>\n",
       "      <th>cnt</th>\n",
       "    </tr>\n",
       "  </thead>\n",
       "  <tbody>\n",
       "    <tr>\n",
       "      <td>0</td>\n",
       "      <td>819</td>\n",
       "    </tr>\n",
       "  </tbody>\n",
       "</table>\n",
       "</div>"
      ],
      "text/plain": [
       "   cnt\n",
       "0  819"
      ]
     },
     "execution_count": 27,
     "metadata": {},
     "output_type": "execute_result"
    }
   ],
   "source": [
    "select(sql)"
   ]
  },
  {
   "cell_type": "markdown",
   "metadata": {},
   "source": [
    "После 1 января вышло 819 книг"
   ]
  },
  {
   "cell_type": "markdown",
   "metadata": {},
   "source": [
    "<div class=\"alert alert-warning\">\n",
    "<b>Комментарий ревьюера:</b>\n",
    "\n",
    "Обрати внимание, что язык `SQL` работает в строгом формате при выполнении логических фильтраций `>` и прочих знаков.\n",
    "    \n",
    "В данном случае, чтобы не терять лишние данные нам стоит указать `>=`, хоть и формулировка немного неточная в нашем задании.\n",
    "\n",
    "    \n",
    "Оставил пример ниже.\n",
    "    \n",
    "</div>"
   ]
  },
  {
   "cell_type": "markdown",
   "metadata": {},
   "source": [
    "### Какая средняя оценка и количество обзоров у каждой книги"
   ]
  },
  {
   "cell_type": "code",
   "execution_count": 28,
   "metadata": {},
   "outputs": [],
   "source": [
    "sql='''\n",
    "WITH average_rating AS\n",
    "  (SELECT b.book_id,\n",
    "          title,\n",
    "          avg(r.rating) AS average_rating\n",
    "   FROM books b\n",
    "   LEFT JOIN ratings r ON r.book_id = b.book_id\n",
    "   GROUP BY b.book_id),\n",
    "     count_reviews AS\n",
    "  (SELECT b.book_id,\n",
    "          title,\n",
    "          count(rev.review_id) AS count_reviews\n",
    "   FROM books b\n",
    "   LEFT JOIN reviews rev ON rev.book_id = b.book_id\n",
    "   GROUP BY b.book_id)\n",
    "SELECT a.book_id,\n",
    "       a.title, \n",
    "       c.count_reviews,\n",
    "       a.average_rating\n",
    "FROM average_rating a\n",
    "JOIN count_reviews c ON a.book_id = c.book_id\n",
    "ORDER BY a.average_rating DESC\n",
    "LIMIT 5\n",
    "'''"
   ]
  },
  {
   "cell_type": "code",
   "execution_count": 29,
   "metadata": {},
   "outputs": [
    {
     "data": {
      "text/html": [
       "<div>\n",
       "<style scoped>\n",
       "    .dataframe tbody tr th:only-of-type {\n",
       "        vertical-align: middle;\n",
       "    }\n",
       "\n",
       "    .dataframe tbody tr th {\n",
       "        vertical-align: top;\n",
       "    }\n",
       "\n",
       "    .dataframe thead th {\n",
       "        text-align: right;\n",
       "    }\n",
       "</style>\n",
       "<table border=\"1\" class=\"dataframe\">\n",
       "  <thead>\n",
       "    <tr style=\"text-align: right;\">\n",
       "      <th></th>\n",
       "      <th>book_id</th>\n",
       "      <th>title</th>\n",
       "      <th>count_reviews</th>\n",
       "      <th>average_rating</th>\n",
       "    </tr>\n",
       "  </thead>\n",
       "  <tbody>\n",
       "    <tr>\n",
       "      <td>0</td>\n",
       "      <td>55</td>\n",
       "      <td>A Woman of Substance (Emma Harte Saga #1)</td>\n",
       "      <td>2</td>\n",
       "      <td>5.0</td>\n",
       "    </tr>\n",
       "    <tr>\n",
       "      <td>1</td>\n",
       "      <td>57</td>\n",
       "      <td>Act of Treason (Mitch Rapp  #9)</td>\n",
       "      <td>2</td>\n",
       "      <td>5.0</td>\n",
       "    </tr>\n",
       "    <tr>\n",
       "      <td>2</td>\n",
       "      <td>17</td>\n",
       "      <td>A Dirty Job (Grim Reaper  #1)</td>\n",
       "      <td>4</td>\n",
       "      <td>5.0</td>\n",
       "    </tr>\n",
       "    <tr>\n",
       "      <td>3</td>\n",
       "      <td>20</td>\n",
       "      <td>A Fistful of Charms (The Hollows  #4)</td>\n",
       "      <td>2</td>\n",
       "      <td>5.0</td>\n",
       "    </tr>\n",
       "    <tr>\n",
       "      <td>4</td>\n",
       "      <td>62</td>\n",
       "      <td>Alas  Babylon</td>\n",
       "      <td>2</td>\n",
       "      <td>5.0</td>\n",
       "    </tr>\n",
       "  </tbody>\n",
       "</table>\n",
       "</div>"
      ],
      "text/plain": [
       "   book_id                                      title  count_reviews  \\\n",
       "0       55  A Woman of Substance (Emma Harte Saga #1)              2   \n",
       "1       57            Act of Treason (Mitch Rapp  #9)              2   \n",
       "2       17              A Dirty Job (Grim Reaper  #1)              4   \n",
       "3       20      A Fistful of Charms (The Hollows  #4)              2   \n",
       "4       62                              Alas  Babylon              2   \n",
       "\n",
       "   average_rating  \n",
       "0             5.0  \n",
       "1             5.0  \n",
       "2             5.0  \n",
       "3             5.0  \n",
       "4             5.0  "
      ]
     },
     "execution_count": 29,
     "metadata": {},
     "output_type": "execute_result"
    }
   ],
   "source": [
    "select(sql)"
   ]
  },
  {
   "cell_type": "markdown",
   "metadata": {},
   "source": [
    "<div class=\"alert alert-success\">\n",
    "<b>Комментарий ревьюера:</b>\n",
    "\n",
    "Супер, все посчитано корректно 👍\n",
    "    \n",
    "</div>"
   ]
  },
  {
   "cell_type": "code",
   "execution_count": 30,
   "metadata": {},
   "outputs": [],
   "source": [
    "sql='''\n",
    "SELECT avg(r.rating)\n",
    "FROM ratings r\n",
    "WHERE r.book_id = 55\n",
    "'''"
   ]
  },
  {
   "cell_type": "code",
   "execution_count": 31,
   "metadata": {},
   "outputs": [
    {
     "data": {
      "text/html": [
       "<div>\n",
       "<style scoped>\n",
       "    .dataframe tbody tr th:only-of-type {\n",
       "        vertical-align: middle;\n",
       "    }\n",
       "\n",
       "    .dataframe tbody tr th {\n",
       "        vertical-align: top;\n",
       "    }\n",
       "\n",
       "    .dataframe thead th {\n",
       "        text-align: right;\n",
       "    }\n",
       "</style>\n",
       "<table border=\"1\" class=\"dataframe\">\n",
       "  <thead>\n",
       "    <tr style=\"text-align: right;\">\n",
       "      <th></th>\n",
       "      <th>avg</th>\n",
       "    </tr>\n",
       "  </thead>\n",
       "  <tbody>\n",
       "    <tr>\n",
       "      <td>0</td>\n",
       "      <td>5.0</td>\n",
       "    </tr>\n",
       "  </tbody>\n",
       "</table>\n",
       "</div>"
      ],
      "text/plain": [
       "   avg\n",
       "0  5.0"
      ]
     },
     "execution_count": 31,
     "metadata": {},
     "output_type": "execute_result"
    }
   ],
   "source": [
    "select(sql)"
   ]
  },
  {
   "cell_type": "code",
   "execution_count": 32,
   "metadata": {},
   "outputs": [],
   "source": [
    "sql='''\n",
    "SELECT count(rev.review_id)\n",
    "FROM reviews rev\n",
    "WHERE rev.book_id = 57\n",
    "'''"
   ]
  },
  {
   "cell_type": "code",
   "execution_count": 33,
   "metadata": {},
   "outputs": [
    {
     "data": {
      "text/html": [
       "<div>\n",
       "<style scoped>\n",
       "    .dataframe tbody tr th:only-of-type {\n",
       "        vertical-align: middle;\n",
       "    }\n",
       "\n",
       "    .dataframe tbody tr th {\n",
       "        vertical-align: top;\n",
       "    }\n",
       "\n",
       "    .dataframe thead th {\n",
       "        text-align: right;\n",
       "    }\n",
       "</style>\n",
       "<table border=\"1\" class=\"dataframe\">\n",
       "  <thead>\n",
       "    <tr style=\"text-align: right;\">\n",
       "      <th></th>\n",
       "      <th>count</th>\n",
       "    </tr>\n",
       "  </thead>\n",
       "  <tbody>\n",
       "    <tr>\n",
       "      <td>0</td>\n",
       "      <td>2</td>\n",
       "    </tr>\n",
       "  </tbody>\n",
       "</table>\n",
       "</div>"
      ],
      "text/plain": [
       "   count\n",
       "0      2"
      ]
     },
     "execution_count": 33,
     "metadata": {},
     "output_type": "execute_result"
    }
   ],
   "source": [
    "select(sql)"
   ]
  },
  {
   "cell_type": "markdown",
   "metadata": {},
   "source": [
    "Наивысшая оценка - 5, наименьшая - 2. Для каждой из книг мы определили количество обзоров"
   ]
  },
  {
   "cell_type": "markdown",
   "metadata": {},
   "source": [
    "### Какое издательство, выпустило наибольшее число книг толще 50 страниц"
   ]
  },
  {
   "cell_type": "code",
   "execution_count": 34,
   "metadata": {},
   "outputs": [],
   "source": [
    "sql='''\n",
    "SELECT p.publisher_id,\n",
    "       p.publisher,\n",
    "       count(book_id) AS cnt\n",
    "FROM books b\n",
    "JOIN publishers p ON p.publisher_id = b.publisher_id\n",
    "WHERE num_pages > 50\n",
    "GROUP BY p.publisher_id,\n",
    "         p.publisher\n",
    "HAVING count(book_id) =\n",
    "  (SELECT max(cnt)\n",
    "   FROM\n",
    "     (SELECT count(book_id) AS cnt\n",
    "      FROM books b\n",
    "      WHERE num_pages > 50\n",
    "      GROUP BY b.publisher_id) AS t)\n",
    "'''"
   ]
  },
  {
   "cell_type": "code",
   "execution_count": 35,
   "metadata": {},
   "outputs": [
    {
     "data": {
      "text/html": [
       "<div>\n",
       "<style scoped>\n",
       "    .dataframe tbody tr th:only-of-type {\n",
       "        vertical-align: middle;\n",
       "    }\n",
       "\n",
       "    .dataframe tbody tr th {\n",
       "        vertical-align: top;\n",
       "    }\n",
       "\n",
       "    .dataframe thead th {\n",
       "        text-align: right;\n",
       "    }\n",
       "</style>\n",
       "<table border=\"1\" class=\"dataframe\">\n",
       "  <thead>\n",
       "    <tr style=\"text-align: right;\">\n",
       "      <th></th>\n",
       "      <th>publisher_id</th>\n",
       "      <th>publisher</th>\n",
       "      <th>cnt</th>\n",
       "    </tr>\n",
       "  </thead>\n",
       "  <tbody>\n",
       "    <tr>\n",
       "      <td>0</td>\n",
       "      <td>212</td>\n",
       "      <td>Penguin Books</td>\n",
       "      <td>42</td>\n",
       "    </tr>\n",
       "  </tbody>\n",
       "</table>\n",
       "</div>"
      ],
      "text/plain": [
       "   publisher_id      publisher  cnt\n",
       "0           212  Penguin Books   42"
      ]
     },
     "execution_count": 35,
     "metadata": {},
     "output_type": "execute_result"
    }
   ],
   "source": [
    "select(sql)"
   ]
  },
  {
   "cell_type": "markdown",
   "metadata": {},
   "source": [
    "Издательство Penguin Books выпустило больше всего книг (42) толщиной больше 50 страниц"
   ]
  },
  {
   "cell_type": "markdown",
   "metadata": {},
   "source": [
    "<div class=\"alert alert-success\">\n",
    "<b>Комментарий ревьюера:</b>\n",
    "\n",
    "Издательство определено верно 👍\n",
    "    \n",
    "Здорово, что ключевые слова языка `SQL` отображаешь в верхнем регистре, так быстрее понять структуру запроса.\n",
    "    \n",
    "---\n",
    "    \n",
    "Оставил пример ниже, как это можно было посчитать еще.\n",
    "    \n",
    "</div>"
   ]
  },
  {
   "cell_type": "code",
   "execution_count": 36,
   "metadata": {},
   "outputs": [
    {
     "data": {
      "text/html": [
       "<div>\n",
       "<style scoped>\n",
       "    .dataframe tbody tr th:only-of-type {\n",
       "        vertical-align: middle;\n",
       "    }\n",
       "\n",
       "    .dataframe tbody tr th {\n",
       "        vertical-align: top;\n",
       "    }\n",
       "\n",
       "    .dataframe thead th {\n",
       "        text-align: right;\n",
       "    }\n",
       "</style>\n",
       "<table border=\"1\" class=\"dataframe\">\n",
       "  <thead>\n",
       "    <tr style=\"text-align: right;\">\n",
       "      <th></th>\n",
       "      <th>publisher</th>\n",
       "      <th>books_count</th>\n",
       "    </tr>\n",
       "  </thead>\n",
       "  <tbody>\n",
       "    <tr>\n",
       "      <td>0</td>\n",
       "      <td>Penguin Books</td>\n",
       "      <td>42</td>\n",
       "    </tr>\n",
       "  </tbody>\n",
       "</table>\n",
       "</div>"
      ],
      "text/plain": [
       "       publisher  books_count\n",
       "0  Penguin Books           42"
      ]
     },
     "execution_count": 36,
     "metadata": {},
     "output_type": "execute_result"
    }
   ],
   "source": [
    "pd.read_sql(\"\"\"SELECT p.publisher, COUNT(b.book_id) as books_count FROM books b \n",
    "LEFT JOIN publishers p ON p.publisher_id = b.publisher_id\n",
    "WHERE b.num_pages > 50\n",
    "GROUP BY p.publisher\n",
    "ORDER BY books_count DESC\n",
    "LIMIT 1\n",
    "\"\"\", con = engine)"
   ]
  },
  {
   "cell_type": "markdown",
   "metadata": {},
   "source": [
    "### Какое среднее количество обзоров от пользователей, которые поставили больше 50 оценок?"
   ]
  },
  {
   "cell_type": "code",
   "execution_count": 37,
   "metadata": {},
   "outputs": [],
   "source": [
    "sql='''\n",
    "WITH users_more_50 AS\n",
    "  (SELECT r.username\n",
    "   FROM ratings r\n",
    "   GROUP BY r.username\n",
    "   HAVING (count(r.rating_id) > 50))\n",
    "SELECT avg(t.cnt) AS avg_review\n",
    "FROM\n",
    "  (SELECT count(rev.review_id) AS cnt\n",
    "   FROM reviews rev\n",
    "   WHERE rev.username in\n",
    "       (SELECT *\n",
    "        FROM users_more_50)\n",
    "   GROUP BY rev.username) AS t\n",
    "'''"
   ]
  },
  {
   "cell_type": "code",
   "execution_count": 38,
   "metadata": {},
   "outputs": [
    {
     "data": {
      "text/html": [
       "<div>\n",
       "<style scoped>\n",
       "    .dataframe tbody tr th:only-of-type {\n",
       "        vertical-align: middle;\n",
       "    }\n",
       "\n",
       "    .dataframe tbody tr th {\n",
       "        vertical-align: top;\n",
       "    }\n",
       "\n",
       "    .dataframe thead th {\n",
       "        text-align: right;\n",
       "    }\n",
       "</style>\n",
       "<table border=\"1\" class=\"dataframe\">\n",
       "  <thead>\n",
       "    <tr style=\"text-align: right;\">\n",
       "      <th></th>\n",
       "      <th>avg_review</th>\n",
       "    </tr>\n",
       "  </thead>\n",
       "  <tbody>\n",
       "    <tr>\n",
       "      <td>0</td>\n",
       "      <td>24.333333</td>\n",
       "    </tr>\n",
       "  </tbody>\n",
       "</table>\n",
       "</div>"
      ],
      "text/plain": [
       "   avg_review\n",
       "0   24.333333"
      ]
     },
     "execution_count": 38,
     "metadata": {},
     "output_type": "execute_result"
    }
   ],
   "source": [
    "select(sql)"
   ]
  },
  {
   "cell_type": "markdown",
   "metadata": {},
   "source": [
    "<div class=\"alert alert-success\">\n",
    "<b>Комментарий ревьюера:</b>\n",
    "\n",
    "Все посчитано верно 👍\n",
    "    \n",
    "</div>"
   ]
  },
  {
   "cell_type": "markdown",
   "metadata": {},
   "source": [
    "В среднем, пользователь, поставивший больше 50-ти оценок составляет 24 обзора на книги"
   ]
  },
  {
   "cell_type": "markdown",
   "metadata": {},
   "source": [
    "### Какой автор с самой высокой средней оценкой книг?"
   ]
  },
  {
   "cell_type": "code",
   "execution_count": 52,
   "metadata": {},
   "outputs": [],
   "source": [
    "sql='''\n",
    "SELECT a.author, r.avg_rating\n",
    "FROM books b\n",
    "LEFT JOIN \n",
    "(select book_id, avg(rating) avg_rating, count(rating) count_rating\n",
    "from ratings\n",
    "group by book_id) r \n",
    "on r.book_id=b.book_id\n",
    "LEFT JOIN authors a on a.author_id=b.author_id\n",
    "--GROUP BY a.author\n",
    "WHERE r.count_rating>=50\n",
    "ORDER BY r.avg_rating desc\n",
    "LIMIT 1\n",
    "'''"
   ]
  },
  {
   "cell_type": "code",
   "execution_count": 53,
   "metadata": {},
   "outputs": [
    {
     "data": {
      "text/html": [
       "<div>\n",
       "<style scoped>\n",
       "    .dataframe tbody tr th:only-of-type {\n",
       "        vertical-align: middle;\n",
       "    }\n",
       "\n",
       "    .dataframe tbody tr th {\n",
       "        vertical-align: top;\n",
       "    }\n",
       "\n",
       "    .dataframe thead th {\n",
       "        text-align: right;\n",
       "    }\n",
       "</style>\n",
       "<table border=\"1\" class=\"dataframe\">\n",
       "  <thead>\n",
       "    <tr style=\"text-align: right;\">\n",
       "      <th></th>\n",
       "      <th>author</th>\n",
       "      <th>avg_rating</th>\n",
       "    </tr>\n",
       "  </thead>\n",
       "  <tbody>\n",
       "    <tr>\n",
       "      <td>0</td>\n",
       "      <td>J.K. Rowling/Mary GrandPré</td>\n",
       "      <td>4.414634</td>\n",
       "    </tr>\n",
       "  </tbody>\n",
       "</table>\n",
       "</div>"
      ],
      "text/plain": [
       "                       author  avg_rating\n",
       "0  J.K. Rowling/Mary GrandPré    4.414634"
      ]
     },
     "execution_count": 53,
     "metadata": {},
     "output_type": "execute_result"
    }
   ],
   "source": [
    "select(sql)"
   ]
  },
  {
   "cell_type": "markdown",
   "metadata": {},
   "source": [
    "Автор с самой высокой средней оценкой книг это \tJ.K. Rowling"
   ]
  },
  {
   "cell_type": "markdown",
   "metadata": {},
   "source": [
    "<div class=\"alert alert-danger\">\n",
    "<b>Комментарий ревьюера:</b>\n",
    "\n",
    "Наши расчеты получились с дублями, т.к. мы к одной таблице присоединяем остальные 2 и соответственно количество данных увеличивается где нет совпадений через `LEFt JOIN`. Кстати у тебя посчитано количество через `count`, а нам нужен средний рейтинг автора.\n",
    "    \n",
    "Проблема также в том, что нам нужно сделать все сгруппированные расчеты заранее по таблицам ревью и рейтингов и присоединить их к таблице `books` также с помощью `LEFt JOIN` и выбрать просто посчитанные значения и книги, тогда дублей у нас не должно возникнуть и будет посчитано все корректно.\n",
    "    \n",
    "Давай поправим этот момент.\n",
    "    \n",
    "</div>"
   ]
  },
  {
   "cell_type": "markdown",
   "metadata": {},
   "source": [
    "<div class=\"alert alert-info\" style=\"border:solid blue 2px; padding: 20px\"> <b>Комментарий студента:</b> Жень, привет!Да, согласен, поправил, теперь вроде правильно) Не думал, что тут тоже надо писать выводы, просто в задании этого нет, но сейчас напишу)</div>"
   ]
  },
  {
   "cell_type": "markdown",
   "metadata": {},
   "source": [
    "<div class=\"alert alert-danger\">\n",
    "<b>Комментарий ревьюера:</b>\n",
    "\n",
    "Финальный вывод и есть главный результат твоей работы. Стоит писать его подробно по результатам проведенной работы. В нем можно приводить полученные в ходе работы значения. Также можно расписать все, что было сделано в работе.\n",
    "    \n",
    "Самое главное — это вывод должен содержать в себе ответ на поставленную задачу.\n",
    "\n",
    "</div>"
   ]
  },
  {
   "cell_type": "markdown",
   "metadata": {},
   "source": [
    "## Выводы"
   ]
  },
  {
   "cell_type": "markdown",
   "metadata": {},
   "source": [
    "В ходе анализа базы данных, содержащей информацию о книгах (в том числе об авторах, издательствах, оценках и обзорах), были определены следующие факты:\n",
    "\n",
    "\n",
    "- 819 книг из 1000 были изданы в 21 веке (после 1 января 2000)\n",
    "- максимальная оценка книги является 5, а минимальная (из имеющихся) 2\n",
    "- 42 книги выпустило издательство Penguin Books, что является наибольшим значением среди всех издательств (брошюры не учитывались)\n",
    "- автором с самыми высокими оценками является J.K. Rowling\n",
    "- пользователи, оставляющие более 50 оценок к книгам, в среднем делают по 24 обзора"
   ]
  },
  {
   "cell_type": "code",
   "execution_count": null,
   "metadata": {},
   "outputs": [],
   "source": []
  }
 ],
 "metadata": {
  "ExecuteTimeLog": [
   {
    "duration": 867,
    "start_time": "2021-11-13T11:23:10.944Z"
   },
   {
    "duration": 370,
    "start_time": "2021-11-13T11:23:30.383Z"
   },
   {
    "duration": 45,
    "start_time": "2021-11-13T11:24:13.115Z"
   },
   {
    "duration": 4,
    "start_time": "2021-11-13T11:25:22.321Z"
   },
   {
    "duration": 204,
    "start_time": "2021-11-13T11:25:52.393Z"
   },
   {
    "duration": 3,
    "start_time": "2021-11-13T11:26:02.936Z"
   },
   {
    "duration": 3,
    "start_time": "2021-11-13T11:26:33.963Z"
   },
   {
    "duration": 61,
    "start_time": "2021-11-13T11:26:41.854Z"
   },
   {
    "duration": 4,
    "start_time": "2021-11-13T11:27:37.056Z"
   },
   {
    "duration": 58,
    "start_time": "2021-11-13T11:28:14.225Z"
   },
   {
    "duration": 4,
    "start_time": "2021-11-13T11:28:23.792Z"
   },
   {
    "duration": 56,
    "start_time": "2021-11-13T11:28:31.603Z"
   },
   {
    "duration": 3,
    "start_time": "2021-11-13T11:29:57.849Z"
   },
   {
    "duration": 56,
    "start_time": "2021-11-13T11:30:04.668Z"
   },
   {
    "duration": 4,
    "start_time": "2021-11-13T11:30:16.388Z"
   },
   {
    "duration": 53,
    "start_time": "2021-11-13T11:30:22.648Z"
   },
   {
    "duration": 3,
    "start_time": "2021-11-13T11:31:47.947Z"
   },
   {
    "duration": 56,
    "start_time": "2021-11-13T11:31:53.658Z"
   },
   {
    "duration": 4,
    "start_time": "2021-11-13T11:32:01.273Z"
   },
   {
    "duration": 53,
    "start_time": "2021-11-13T11:32:07.823Z"
   },
   {
    "duration": 3,
    "start_time": "2021-11-13T11:33:04.560Z"
   },
   {
    "duration": 57,
    "start_time": "2021-11-13T11:33:15.989Z"
   },
   {
    "duration": 3,
    "start_time": "2021-11-13T11:33:25.514Z"
   },
   {
    "duration": 55,
    "start_time": "2021-11-13T11:33:34.598Z"
   },
   {
    "duration": 3,
    "start_time": "2021-11-13T11:36:28.032Z"
   },
   {
    "duration": 58,
    "start_time": "2021-11-13T11:43:16.975Z"
   },
   {
    "duration": 3,
    "start_time": "2021-11-13T11:43:25.850Z"
   },
   {
    "duration": 64,
    "start_time": "2021-11-13T11:43:31.778Z"
   },
   {
    "duration": 3,
    "start_time": "2021-11-13T11:45:11.259Z"
   },
   {
    "duration": 54,
    "start_time": "2021-11-13T11:45:17.285Z"
   },
   {
    "duration": 3,
    "start_time": "2021-11-13T11:47:03.737Z"
   },
   {
    "duration": 64,
    "start_time": "2021-11-13T11:47:14.354Z"
   },
   {
    "duration": 3,
    "start_time": "2021-11-13T11:48:51.029Z"
   },
   {
    "duration": 56,
    "start_time": "2021-11-13T11:48:58.127Z"
   },
   {
    "duration": 3,
    "start_time": "2021-11-13T11:49:07.007Z"
   },
   {
    "duration": 54,
    "start_time": "2021-11-13T11:49:29.485Z"
   },
   {
    "duration": 4,
    "start_time": "2021-11-13T11:51:24.096Z"
   },
   {
    "duration": 58,
    "start_time": "2021-11-13T11:51:33.591Z"
   },
   {
    "duration": 3,
    "start_time": "2021-11-13T11:55:35.867Z"
   },
   {
    "duration": 56,
    "start_time": "2021-11-13T11:55:41.682Z"
   },
   {
    "duration": 851,
    "start_time": "2021-11-13T11:58:07.220Z"
   },
   {
    "duration": 416,
    "start_time": "2021-11-13T11:58:08.074Z"
   },
   {
    "duration": -2450,
    "start_time": "2021-11-13T11:58:10.944Z"
   },
   {
    "duration": -2454,
    "start_time": "2021-11-13T11:58:10.950Z"
   },
   {
    "duration": -2458,
    "start_time": "2021-11-13T11:58:10.955Z"
   },
   {
    "duration": -2462,
    "start_time": "2021-11-13T11:58:10.960Z"
   },
   {
    "duration": -2466,
    "start_time": "2021-11-13T11:58:10.966Z"
   },
   {
    "duration": -2471,
    "start_time": "2021-11-13T11:58:10.972Z"
   },
   {
    "duration": -2474,
    "start_time": "2021-11-13T11:58:10.977Z"
   },
   {
    "duration": -2478,
    "start_time": "2021-11-13T11:58:10.982Z"
   },
   {
    "duration": -2482,
    "start_time": "2021-11-13T11:58:10.987Z"
   },
   {
    "duration": -2486,
    "start_time": "2021-11-13T11:58:10.993Z"
   },
   {
    "duration": -2491,
    "start_time": "2021-11-13T11:58:10.999Z"
   },
   {
    "duration": -2493,
    "start_time": "2021-11-13T11:58:11.003Z"
   },
   {
    "duration": -2497,
    "start_time": "2021-11-13T11:58:11.008Z"
   },
   {
    "duration": -2501,
    "start_time": "2021-11-13T11:58:11.013Z"
   },
   {
    "duration": -2505,
    "start_time": "2021-11-13T11:58:11.018Z"
   },
   {
    "duration": -2507,
    "start_time": "2021-11-13T11:58:11.022Z"
   },
   {
    "duration": -2512,
    "start_time": "2021-11-13T11:58:11.028Z"
   },
   {
    "duration": -2516,
    "start_time": "2021-11-13T11:58:11.033Z"
   },
   {
    "duration": -2522,
    "start_time": "2021-11-13T11:58:11.041Z"
   },
   {
    "duration": -2526,
    "start_time": "2021-11-13T11:58:11.046Z"
   },
   {
    "duration": -2530,
    "start_time": "2021-11-13T11:58:11.051Z"
   },
   {
    "duration": -2532,
    "start_time": "2021-11-13T11:58:11.055Z"
   },
   {
    "duration": -2536,
    "start_time": "2021-11-13T11:58:11.060Z"
   },
   {
    "duration": -2540,
    "start_time": "2021-11-13T11:58:11.065Z"
   },
   {
    "duration": -2543,
    "start_time": "2021-11-13T11:58:11.070Z"
   },
   {
    "duration": -2550,
    "start_time": "2021-11-13T11:58:11.078Z"
   },
   {
    "duration": -2554,
    "start_time": "2021-11-13T11:58:11.083Z"
   },
   {
    "duration": -2513,
    "start_time": "2021-11-13T11:58:11.095Z"
   },
   {
    "duration": -2517,
    "start_time": "2021-11-13T11:58:11.100Z"
   },
   {
    "duration": -2519,
    "start_time": "2021-11-13T11:58:11.104Z"
   },
   {
    "duration": -2523,
    "start_time": "2021-11-13T11:58:11.109Z"
   },
   {
    "duration": -2526,
    "start_time": "2021-11-13T11:58:11.113Z"
   },
   {
    "duration": -2533,
    "start_time": "2021-11-13T11:58:11.122Z"
   },
   {
    "duration": -2536,
    "start_time": "2021-11-13T11:58:11.126Z"
   },
   {
    "duration": -2542,
    "start_time": "2021-11-13T11:58:11.134Z"
   },
   {
    "duration": 380,
    "start_time": "2021-11-13T11:58:20.767Z"
   },
   {
    "duration": 6,
    "start_time": "2021-11-13T11:58:30.228Z"
   },
   {
    "duration": 288,
    "start_time": "2021-11-13T11:58:35.136Z"
   },
   {
    "duration": 3,
    "start_time": "2021-11-13T11:59:06.923Z"
   },
   {
    "duration": 218,
    "start_time": "2021-11-13T11:59:21.810Z"
   },
   {
    "duration": 891,
    "start_time": "2021-11-13T11:59:27.759Z"
   },
   {
    "duration": 3,
    "start_time": "2021-11-13T11:59:28.653Z"
   },
   {
    "duration": 215,
    "start_time": "2021-11-13T11:59:28.662Z"
   },
   {
    "duration": 5,
    "start_time": "2021-11-13T11:59:28.880Z"
   },
   {
    "duration": 67,
    "start_time": "2021-11-13T11:59:28.888Z"
   },
   {
    "duration": 3,
    "start_time": "2021-11-13T11:59:28.958Z"
   },
   {
    "duration": 69,
    "start_time": "2021-11-13T11:59:28.965Z"
   },
   {
    "duration": 3,
    "start_time": "2021-11-13T11:59:29.037Z"
   },
   {
    "duration": 70,
    "start_time": "2021-11-13T11:59:29.042Z"
   },
   {
    "duration": 4,
    "start_time": "2021-11-13T11:59:29.114Z"
   },
   {
    "duration": 64,
    "start_time": "2021-11-13T11:59:29.120Z"
   },
   {
    "duration": 5,
    "start_time": "2021-11-13T11:59:29.187Z"
   },
   {
    "duration": 62,
    "start_time": "2021-11-13T11:59:29.195Z"
   },
   {
    "duration": 4,
    "start_time": "2021-11-13T11:59:29.260Z"
   },
   {
    "duration": 64,
    "start_time": "2021-11-13T11:59:29.267Z"
   },
   {
    "duration": 3,
    "start_time": "2021-11-13T11:59:29.334Z"
   },
   {
    "duration": 67,
    "start_time": "2021-11-13T11:59:29.339Z"
   },
   {
    "duration": 3,
    "start_time": "2021-11-13T11:59:29.408Z"
   },
   {
    "duration": 69,
    "start_time": "2021-11-13T11:59:29.413Z"
   },
   {
    "duration": 4,
    "start_time": "2021-11-13T11:59:29.484Z"
   },
   {
    "duration": 70,
    "start_time": "2021-11-13T11:59:29.490Z"
   },
   {
    "duration": 4,
    "start_time": "2021-11-13T11:59:29.569Z"
   },
   {
    "duration": 68,
    "start_time": "2021-11-13T11:59:29.577Z"
   },
   {
    "duration": 4,
    "start_time": "2021-11-13T11:59:29.648Z"
   },
   {
    "duration": 67,
    "start_time": "2021-11-13T11:59:29.655Z"
   },
   {
    "duration": 4,
    "start_time": "2021-11-13T11:59:29.725Z"
   },
   {
    "duration": 68,
    "start_time": "2021-11-13T11:59:29.732Z"
   },
   {
    "duration": 4,
    "start_time": "2021-11-13T11:59:29.803Z"
   },
   {
    "duration": 84,
    "start_time": "2021-11-13T11:59:29.810Z"
   },
   {
    "duration": 4,
    "start_time": "2021-11-13T11:59:29.897Z"
   },
   {
    "duration": 64,
    "start_time": "2021-11-13T11:59:29.904Z"
   },
   {
    "duration": 3,
    "start_time": "2021-11-13T11:59:29.971Z"
   },
   {
    "duration": 63,
    "start_time": "2021-11-13T11:59:29.977Z"
   },
   {
    "duration": 5,
    "start_time": "2021-11-13T11:59:30.043Z"
   },
   {
    "duration": 71,
    "start_time": "2021-11-13T11:59:30.050Z"
   },
   {
    "duration": 5,
    "start_time": "2021-11-13T11:59:30.124Z"
   },
   {
    "duration": 79,
    "start_time": "2021-11-13T11:59:30.131Z"
   },
   {
    "duration": 5,
    "start_time": "2021-11-14T09:37:02.254Z"
   },
   {
    "duration": 538,
    "start_time": "2021-11-14T09:37:08.889Z"
   },
   {
    "duration": 1021,
    "start_time": "2021-11-14T09:37:16.777Z"
   },
   {
    "duration": 4,
    "start_time": "2021-11-14T09:37:17.800Z"
   },
   {
    "duration": 241,
    "start_time": "2021-11-14T09:37:17.807Z"
   },
   {
    "duration": 4,
    "start_time": "2021-11-14T09:37:18.050Z"
   },
   {
    "duration": 72,
    "start_time": "2021-11-14T09:37:18.056Z"
   },
   {
    "duration": 3,
    "start_time": "2021-11-14T09:37:18.130Z"
   },
   {
    "duration": 79,
    "start_time": "2021-11-14T09:37:18.135Z"
   },
   {
    "duration": 3,
    "start_time": "2021-11-14T09:37:18.217Z"
   },
   {
    "duration": 66,
    "start_time": "2021-11-14T09:37:18.224Z"
   },
   {
    "duration": 4,
    "start_time": "2021-11-14T09:37:18.293Z"
   },
   {
    "duration": 71,
    "start_time": "2021-11-14T09:37:18.299Z"
   },
   {
    "duration": 4,
    "start_time": "2021-11-14T09:37:18.372Z"
   },
   {
    "duration": 66,
    "start_time": "2021-11-14T09:37:18.378Z"
   },
   {
    "duration": 3,
    "start_time": "2021-11-14T09:37:18.448Z"
   },
   {
    "duration": 70,
    "start_time": "2021-11-14T09:37:18.454Z"
   },
   {
    "duration": 3,
    "start_time": "2021-11-14T09:37:18.527Z"
   },
   {
    "duration": 72,
    "start_time": "2021-11-14T09:37:18.532Z"
   },
   {
    "duration": 4,
    "start_time": "2021-11-14T09:37:18.607Z"
   },
   {
    "duration": 69,
    "start_time": "2021-11-14T09:37:18.614Z"
   },
   {
    "duration": 3,
    "start_time": "2021-11-14T09:37:18.685Z"
   },
   {
    "duration": 70,
    "start_time": "2021-11-14T09:37:18.691Z"
   },
   {
    "duration": 4,
    "start_time": "2021-11-14T09:37:18.764Z"
   },
   {
    "duration": 71,
    "start_time": "2021-11-14T09:37:18.771Z"
   },
   {
    "duration": 4,
    "start_time": "2021-11-14T09:37:18.845Z"
   },
   {
    "duration": 76,
    "start_time": "2021-11-14T09:37:18.851Z"
   },
   {
    "duration": 3,
    "start_time": "2021-11-14T09:37:18.929Z"
   },
   {
    "duration": 64,
    "start_time": "2021-11-14T09:37:18.937Z"
   },
   {
    "duration": 4,
    "start_time": "2021-11-14T09:37:19.003Z"
   },
   {
    "duration": 80,
    "start_time": "2021-11-14T09:37:19.009Z"
   },
   {
    "duration": 4,
    "start_time": "2021-11-14T09:37:19.091Z"
   },
   {
    "duration": 68,
    "start_time": "2021-11-14T09:37:19.097Z"
   },
   {
    "duration": 4,
    "start_time": "2021-11-14T09:37:19.167Z"
   },
   {
    "duration": 69,
    "start_time": "2021-11-14T09:37:19.173Z"
   },
   {
    "duration": 4,
    "start_time": "2021-11-14T09:37:19.244Z"
   },
   {
    "duration": 68,
    "start_time": "2021-11-14T09:37:19.250Z"
   },
   {
    "duration": 4,
    "start_time": "2021-11-14T09:37:19.320Z"
   },
   {
    "duration": 71,
    "start_time": "2021-11-14T09:37:19.326Z"
   },
   {
    "duration": 3,
    "start_time": "2021-11-14T09:37:19.400Z"
   },
   {
    "duration": 1065,
    "start_time": "2021-11-14T09:37:19.405Z"
   },
   {
    "duration": 3,
    "start_time": "2021-11-14T09:38:13.678Z"
   },
   {
    "duration": 78,
    "start_time": "2021-11-14T09:38:14.959Z"
   },
   {
    "duration": 3,
    "start_time": "2021-11-14T09:38:21.135Z"
   },
   {
    "duration": 83,
    "start_time": "2021-11-14T09:38:23.266Z"
   },
   {
    "duration": 3,
    "start_time": "2021-11-14T09:39:03.986Z"
   },
   {
    "duration": 86,
    "start_time": "2021-11-14T09:39:06.684Z"
   },
   {
    "duration": 3,
    "start_time": "2021-11-14T09:39:32.954Z"
   },
   {
    "duration": 84,
    "start_time": "2021-11-14T09:39:33.756Z"
   },
   {
    "duration": 4,
    "start_time": "2021-11-14T09:39:43.164Z"
   },
   {
    "duration": 73,
    "start_time": "2021-11-14T09:39:45.726Z"
   },
   {
    "duration": 3,
    "start_time": "2021-11-14T09:39:51.524Z"
   },
   {
    "duration": 75,
    "start_time": "2021-11-14T09:39:52.943Z"
   },
   {
    "duration": 4,
    "start_time": "2021-11-14T09:40:23.663Z"
   },
   {
    "duration": 72,
    "start_time": "2021-11-14T09:40:24.678Z"
   },
   {
    "duration": 851,
    "start_time": "2021-11-14T09:42:13.724Z"
   },
   {
    "duration": 4,
    "start_time": "2021-11-14T09:42:14.577Z"
   },
   {
    "duration": 234,
    "start_time": "2021-11-14T09:42:14.584Z"
   },
   {
    "duration": 3,
    "start_time": "2021-11-14T09:42:14.821Z"
   },
   {
    "duration": 81,
    "start_time": "2021-11-14T09:42:14.827Z"
   },
   {
    "duration": 3,
    "start_time": "2021-11-14T09:42:14.910Z"
   },
   {
    "duration": 77,
    "start_time": "2021-11-14T09:42:14.915Z"
   },
   {
    "duration": 3,
    "start_time": "2021-11-14T09:42:14.994Z"
   },
   {
    "duration": 73,
    "start_time": "2021-11-14T09:42:15.001Z"
   },
   {
    "duration": 3,
    "start_time": "2021-11-14T09:42:15.077Z"
   },
   {
    "duration": 70,
    "start_time": "2021-11-14T09:42:15.082Z"
   },
   {
    "duration": 4,
    "start_time": "2021-11-14T09:42:15.154Z"
   },
   {
    "duration": 71,
    "start_time": "2021-11-14T09:42:15.160Z"
   },
   {
    "duration": 3,
    "start_time": "2021-11-14T09:42:15.234Z"
   },
   {
    "duration": 67,
    "start_time": "2021-11-14T09:42:15.240Z"
   },
   {
    "duration": 4,
    "start_time": "2021-11-14T09:42:15.309Z"
   },
   {
    "duration": 67,
    "start_time": "2021-11-14T09:42:15.315Z"
   },
   {
    "duration": 3,
    "start_time": "2021-11-14T09:42:15.384Z"
   },
   {
    "duration": 71,
    "start_time": "2021-11-14T09:42:15.390Z"
   },
   {
    "duration": 4,
    "start_time": "2021-11-14T09:42:15.463Z"
   },
   {
    "duration": 69,
    "start_time": "2021-11-14T09:42:15.469Z"
   },
   {
    "duration": 4,
    "start_time": "2021-11-14T09:42:15.540Z"
   },
   {
    "duration": 71,
    "start_time": "2021-11-14T09:42:15.547Z"
   },
   {
    "duration": 4,
    "start_time": "2021-11-14T09:42:15.621Z"
   },
   {
    "duration": 66,
    "start_time": "2021-11-14T09:42:15.628Z"
   },
   {
    "duration": 4,
    "start_time": "2021-11-14T09:42:15.697Z"
   },
   {
    "duration": 70,
    "start_time": "2021-11-14T09:42:15.709Z"
   },
   {
    "duration": 4,
    "start_time": "2021-11-14T09:42:15.782Z"
   },
   {
    "duration": 82,
    "start_time": "2021-11-14T09:42:15.788Z"
   },
   {
    "duration": 3,
    "start_time": "2021-11-14T09:42:15.873Z"
   },
   {
    "duration": 69,
    "start_time": "2021-11-14T09:42:15.878Z"
   },
   {
    "duration": 3,
    "start_time": "2021-11-14T09:42:15.950Z"
   },
   {
    "duration": 73,
    "start_time": "2021-11-14T09:42:15.955Z"
   },
   {
    "duration": 3,
    "start_time": "2021-11-14T09:42:16.031Z"
   },
   {
    "duration": 76,
    "start_time": "2021-11-14T09:42:16.036Z"
   },
   {
    "duration": 4,
    "start_time": "2021-11-14T09:42:16.114Z"
   },
   {
    "duration": 68,
    "start_time": "2021-11-14T09:42:16.120Z"
   },
   {
    "duration": 3,
    "start_time": "2021-11-14T09:42:16.191Z"
   },
   {
    "duration": 70,
    "start_time": "2021-11-14T09:42:16.196Z"
   },
   {
    "duration": 814,
    "start_time": "2021-11-14T09:44:40.712Z"
   },
   {
    "duration": 4,
    "start_time": "2021-11-14T09:44:41.528Z"
   },
   {
    "duration": 234,
    "start_time": "2021-11-14T09:44:41.538Z"
   },
   {
    "duration": 4,
    "start_time": "2021-11-14T09:44:41.774Z"
   },
   {
    "duration": 78,
    "start_time": "2021-11-14T09:44:41.780Z"
   },
   {
    "duration": 4,
    "start_time": "2021-11-14T09:44:41.860Z"
   },
   {
    "duration": 71,
    "start_time": "2021-11-14T09:44:41.867Z"
   },
   {
    "duration": 3,
    "start_time": "2021-11-14T09:44:41.942Z"
   },
   {
    "duration": 67,
    "start_time": "2021-11-14T09:44:41.949Z"
   },
   {
    "duration": 4,
    "start_time": "2021-11-14T09:44:42.018Z"
   },
   {
    "duration": 69,
    "start_time": "2021-11-14T09:44:42.024Z"
   },
   {
    "duration": 3,
    "start_time": "2021-11-14T09:44:42.095Z"
   },
   {
    "duration": 67,
    "start_time": "2021-11-14T09:44:42.101Z"
   },
   {
    "duration": 3,
    "start_time": "2021-11-14T09:44:42.171Z"
   },
   {
    "duration": 68,
    "start_time": "2021-11-14T09:44:42.176Z"
   },
   {
    "duration": 3,
    "start_time": "2021-11-14T09:44:42.246Z"
   },
   {
    "duration": 67,
    "start_time": "2021-11-14T09:44:42.252Z"
   },
   {
    "duration": 4,
    "start_time": "2021-11-14T09:44:42.321Z"
   },
   {
    "duration": 70,
    "start_time": "2021-11-14T09:44:42.327Z"
   },
   {
    "duration": 3,
    "start_time": "2021-11-14T09:44:42.399Z"
   },
   {
    "duration": 66,
    "start_time": "2021-11-14T09:44:42.405Z"
   },
   {
    "duration": 3,
    "start_time": "2021-11-14T09:44:42.474Z"
   },
   {
    "duration": 70,
    "start_time": "2021-11-14T09:44:42.479Z"
   },
   {
    "duration": 3,
    "start_time": "2021-11-14T09:44:42.551Z"
   },
   {
    "duration": 67,
    "start_time": "2021-11-14T09:44:42.557Z"
   },
   {
    "duration": 3,
    "start_time": "2021-11-14T09:44:42.629Z"
   },
   {
    "duration": 68,
    "start_time": "2021-11-14T09:44:42.634Z"
   },
   {
    "duration": 3,
    "start_time": "2021-11-14T09:44:42.705Z"
   },
   {
    "duration": 79,
    "start_time": "2021-11-14T09:44:42.710Z"
   },
   {
    "duration": 3,
    "start_time": "2021-11-14T09:44:42.791Z"
   },
   {
    "duration": 71,
    "start_time": "2021-11-14T09:44:42.796Z"
   },
   {
    "duration": 3,
    "start_time": "2021-11-14T09:44:42.869Z"
   },
   {
    "duration": 70,
    "start_time": "2021-11-14T09:44:42.874Z"
   },
   {
    "duration": 3,
    "start_time": "2021-11-14T09:44:42.946Z"
   },
   {
    "duration": 71,
    "start_time": "2021-11-14T09:44:42.951Z"
   },
   {
    "duration": 3,
    "start_time": "2021-11-14T09:44:43.024Z"
   },
   {
    "duration": 70,
    "start_time": "2021-11-14T09:44:43.029Z"
   },
   {
    "duration": 3,
    "start_time": "2021-11-14T09:44:43.101Z"
   },
   {
    "duration": 72,
    "start_time": "2021-11-14T09:44:43.107Z"
   },
   {
    "duration": 894,
    "start_time": "2021-11-14T19:47:14.076Z"
   },
   {
    "duration": 3,
    "start_time": "2021-11-14T19:47:14.973Z"
   },
   {
    "duration": 75,
    "start_time": "2021-11-14T19:47:14.979Z"
   },
   {
    "duration": 4,
    "start_time": "2021-11-14T19:47:15.057Z"
   },
   {
    "duration": 33,
    "start_time": "2021-11-14T19:47:15.063Z"
   },
   {
    "duration": 3,
    "start_time": "2021-11-14T19:47:15.099Z"
   },
   {
    "duration": 26,
    "start_time": "2021-11-14T19:47:15.104Z"
   },
   {
    "duration": 3,
    "start_time": "2021-11-14T19:47:15.133Z"
   },
   {
    "duration": 20,
    "start_time": "2021-11-14T19:47:15.140Z"
   },
   {
    "duration": 4,
    "start_time": "2021-11-14T19:47:15.163Z"
   },
   {
    "duration": 23,
    "start_time": "2021-11-14T19:47:15.169Z"
   },
   {
    "duration": 4,
    "start_time": "2021-11-14T19:47:15.194Z"
   },
   {
    "duration": 17,
    "start_time": "2021-11-14T19:47:15.200Z"
   },
   {
    "duration": 3,
    "start_time": "2021-11-14T19:47:15.220Z"
   },
   {
    "duration": 38,
    "start_time": "2021-11-14T19:47:15.225Z"
   },
   {
    "duration": 3,
    "start_time": "2021-11-14T19:47:15.266Z"
   },
   {
    "duration": 14,
    "start_time": "2021-11-14T19:47:15.272Z"
   },
   {
    "duration": 3,
    "start_time": "2021-11-14T19:47:15.289Z"
   },
   {
    "duration": 23,
    "start_time": "2021-11-14T19:47:15.294Z"
   },
   {
    "duration": 41,
    "start_time": "2021-11-14T19:47:15.319Z"
   },
   {
    "duration": 15,
    "start_time": "2021-11-14T19:47:15.363Z"
   },
   {
    "duration": 3,
    "start_time": "2021-11-14T19:47:15.380Z"
   },
   {
    "duration": 20,
    "start_time": "2021-11-14T19:47:15.385Z"
   },
   {
    "duration": 3,
    "start_time": "2021-11-14T19:47:15.407Z"
   },
   {
    "duration": 19,
    "start_time": "2021-11-14T19:47:15.412Z"
   },
   {
    "duration": 3,
    "start_time": "2021-11-14T19:47:15.460Z"
   },
   {
    "duration": 13,
    "start_time": "2021-11-14T19:47:15.468Z"
   },
   {
    "duration": 4,
    "start_time": "2021-11-14T19:47:15.483Z"
   },
   {
    "duration": 27,
    "start_time": "2021-11-14T19:47:15.489Z"
   },
   {
    "duration": 3,
    "start_time": "2021-11-14T19:47:15.519Z"
   },
   {
    "duration": 47,
    "start_time": "2021-11-14T19:47:15.524Z"
   },
   {
    "duration": 3,
    "start_time": "2021-11-14T19:47:15.573Z"
   },
   {
    "duration": 18,
    "start_time": "2021-11-14T19:47:15.578Z"
   },
   {
    "duration": 3,
    "start_time": "2021-11-14T19:47:15.598Z"
   },
   {
    "duration": 21,
    "start_time": "2021-11-14T19:47:15.603Z"
   },
   {
    "duration": 3,
    "start_time": "2021-11-14T19:47:15.626Z"
   },
   {
    "duration": 42,
    "start_time": "2021-11-14T19:47:15.631Z"
   },
   {
    "duration": 3,
    "start_time": "2021-11-14T19:47:15.675Z"
   },
   {
    "duration": 22,
    "start_time": "2021-11-14T19:47:15.680Z"
   },
   {
    "duration": 16,
    "start_time": "2021-11-14T19:53:33.373Z"
   },
   {
    "duration": 1018,
    "start_time": "2021-11-15T14:21:44.874Z"
   },
   {
    "duration": 3,
    "start_time": "2021-11-15T14:21:45.894Z"
   },
   {
    "duration": 55,
    "start_time": "2021-11-15T14:21:45.900Z"
   },
   {
    "duration": 3,
    "start_time": "2021-11-15T14:21:45.958Z"
   },
   {
    "duration": 22,
    "start_time": "2021-11-15T14:21:45.963Z"
   },
   {
    "duration": 4,
    "start_time": "2021-11-15T14:21:45.988Z"
   },
   {
    "duration": 20,
    "start_time": "2021-11-15T14:21:45.995Z"
   },
   {
    "duration": 4,
    "start_time": "2021-11-15T14:21:46.018Z"
   },
   {
    "duration": 44,
    "start_time": "2021-11-15T14:21:46.024Z"
   },
   {
    "duration": 4,
    "start_time": "2021-11-15T14:21:46.071Z"
   },
   {
    "duration": 18,
    "start_time": "2021-11-15T14:21:46.077Z"
   },
   {
    "duration": 4,
    "start_time": "2021-11-15T14:21:46.097Z"
   },
   {
    "duration": 15,
    "start_time": "2021-11-15T14:21:46.103Z"
   },
   {
    "duration": 3,
    "start_time": "2021-11-15T14:21:46.120Z"
   },
   {
    "duration": 48,
    "start_time": "2021-11-15T14:21:46.125Z"
   },
   {
    "duration": 4,
    "start_time": "2021-11-15T14:21:46.175Z"
   },
   {
    "duration": 22,
    "start_time": "2021-11-15T14:21:46.181Z"
   },
   {
    "duration": 4,
    "start_time": "2021-11-15T14:21:46.206Z"
   },
   {
    "duration": 48,
    "start_time": "2021-11-15T14:21:46.213Z"
   },
   {
    "duration": 4,
    "start_time": "2021-11-15T14:21:46.263Z"
   },
   {
    "duration": 20,
    "start_time": "2021-11-15T14:21:46.269Z"
   },
   {
    "duration": 4,
    "start_time": "2021-11-15T14:21:46.292Z"
   },
   {
    "duration": 17,
    "start_time": "2021-11-15T14:21:46.303Z"
   },
   {
    "duration": 37,
    "start_time": "2021-11-15T14:21:46.322Z"
   },
   {
    "duration": 14,
    "start_time": "2021-11-15T14:21:46.361Z"
   },
   {
    "duration": 3,
    "start_time": "2021-11-15T14:21:46.378Z"
   },
   {
    "duration": 15,
    "start_time": "2021-11-15T14:21:46.384Z"
   },
   {
    "duration": 5,
    "start_time": "2021-11-15T14:21:46.402Z"
   },
   {
    "duration": 54,
    "start_time": "2021-11-15T14:21:46.410Z"
   },
   {
    "duration": 4,
    "start_time": "2021-11-15T14:21:46.467Z"
   },
   {
    "duration": 17,
    "start_time": "2021-11-15T14:21:46.474Z"
   },
   {
    "duration": 3,
    "start_time": "2021-11-15T14:21:46.494Z"
   },
   {
    "duration": 16,
    "start_time": "2021-11-15T14:21:46.499Z"
   },
   {
    "duration": 7,
    "start_time": "2021-11-15T14:21:46.517Z"
   },
   {
    "duration": 45,
    "start_time": "2021-11-15T14:21:46.526Z"
   },
   {
    "duration": 14,
    "start_time": "2021-11-15T14:21:46.573Z"
   },
   {
    "duration": 15,
    "start_time": "2021-11-15T14:21:46.589Z"
   },
   {
    "duration": 19,
    "start_time": "2021-11-15T14:21:46.606Z"
   },
   {
    "duration": 4,
    "start_time": "2021-11-15T14:21:46.627Z"
   },
   {
    "duration": 37,
    "start_time": "2021-11-15T14:21:46.634Z"
   },
   {
    "duration": 3,
    "start_time": "2021-11-15T14:26:50.973Z"
   },
   {
    "duration": 854,
    "start_time": "2021-11-15T14:26:53.026Z"
   },
   {
    "duration": 3,
    "start_time": "2021-11-15T14:27:35.906Z"
   },
   {
    "duration": 751,
    "start_time": "2021-11-15T14:27:36.706Z"
   },
   {
    "duration": 4,
    "start_time": "2021-11-15T14:28:17.852Z"
   },
   {
    "duration": 3,
    "start_time": "2021-11-15T14:28:23.710Z"
   },
   {
    "duration": 738,
    "start_time": "2021-11-15T14:28:24.396Z"
   },
   {
    "duration": 3,
    "start_time": "2021-11-15T14:28:55.529Z"
   },
   {
    "duration": 2171,
    "start_time": "2021-11-15T14:28:56.226Z"
   },
   {
    "duration": 3,
    "start_time": "2021-11-15T14:29:33.403Z"
   },
   {
    "duration": 825,
    "start_time": "2021-11-15T14:29:35.198Z"
   },
   {
    "duration": 4,
    "start_time": "2021-11-15T14:30:31.071Z"
   },
   {
    "duration": 18,
    "start_time": "2021-11-15T14:30:31.901Z"
   }
  ],
  "kernelspec": {
   "display_name": "Python 3",
   "language": "python",
   "name": "python3"
  },
  "language_info": {
   "codemirror_mode": {
    "name": "ipython",
    "version": 3
   },
   "file_extension": ".py",
   "mimetype": "text/x-python",
   "name": "python",
   "nbconvert_exporter": "python",
   "pygments_lexer": "ipython3",
   "version": "3.7.8"
  },
  "toc": {
   "base_numbering": 1,
   "nav_menu": {},
   "number_sections": true,
   "sideBar": true,
   "skip_h1_title": true,
   "title_cell": "Содержание",
   "title_sidebar": "Содержание",
   "toc_cell": true,
   "toc_position": {},
   "toc_section_display": true,
   "toc_window_display": true
  }
 },
 "nbformat": 4,
 "nbformat_minor": 2
}
