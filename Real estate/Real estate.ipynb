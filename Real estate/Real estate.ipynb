{
 "cells": [
  {
   "cell_type": "markdown",
   "metadata": {
    "toc": true
   },
   "source": [
    "<h1>Содержание<span class=\"tocSkip\"></span></h1>\n",
    "<div class=\"toc\"><ul class=\"toc-item\"><li><span><a href=\"#Изучение-данных-из-файла\" data-toc-modified-id=\"Изучение-данных-из-файла-1\"><span class=\"toc-item-num\">1&nbsp;&nbsp;</span>Изучение данных из файла</a></span><ul class=\"toc-item\"><li><span><a href=\"#Вывод\" data-toc-modified-id=\"Вывод-1.1\"><span class=\"toc-item-num\">1.1&nbsp;&nbsp;</span>Вывод</a></span></li></ul></li><li><span><a href=\"#Предобработка-данных\" data-toc-modified-id=\"Предобработка-данных-2\"><span class=\"toc-item-num\">2&nbsp;&nbsp;</span>Предобработка данных</a></span></li><li><span><a href=\"#Расчёты-и-добавление-результатов-в-таблицу\" data-toc-modified-id=\"Расчёты-и-добавление-результатов-в-таблицу-3\"><span class=\"toc-item-num\">3&nbsp;&nbsp;</span>Расчёты и добавление результатов в таблицу</a></span></li><li><span><a href=\"#Исследовательский-анализ-данных\" data-toc-modified-id=\"Исследовательский-анализ-данных-4\"><span class=\"toc-item-num\">4&nbsp;&nbsp;</span>Исследовательский анализ данных</a></span></li><li><span><a href=\"#Общий-вывод\" data-toc-modified-id=\"Общий-вывод-5\"><span class=\"toc-item-num\">5&nbsp;&nbsp;</span>Общий вывод</a></span></li><li><span><a href=\"#Чек-лист-готовности-проекта\" data-toc-modified-id=\"Чек-лист-готовности-проекта-6\"><span class=\"toc-item-num\">6&nbsp;&nbsp;</span>Чек-лист готовности проекта</a></span></li></ul></div>"
   ]
  },
  {
   "cell_type": "markdown",
   "metadata": {},
   "source": [
    "# Исследование объявлений о продаже квартир\n",
    "\n",
    "В вашем распоряжении данные сервиса Яндекс.Недвижимость — архив объявлений о продаже квартир в Санкт-Петербурге и соседних населённых пунктах за несколько лет. Нужно научиться определять рыночную стоимость объектов недвижимости. Ваша задача — установить параметры. Это позволит построить автоматизированную систему: она отследит аномалии и мошенническую деятельность. \n",
    "\n",
    "По каждой квартире на продажу доступны два вида данных. Первые вписаны пользователем, вторые получены автоматически на основе картографических данных. Например, расстояние до центра, аэропорта, ближайшего парка и водоёма. "
   ]
  },
  {
   "cell_type": "markdown",
   "metadata": {},
   "source": [
    "## Изучение данных из файла"
   ]
  },
  {
   "cell_type": "code",
   "execution_count": 1,
   "metadata": {},
   "outputs": [
    {
     "data": {
      "text/html": [
       "<div>\n",
       "<style scoped>\n",
       "    .dataframe tbody tr th:only-of-type {\n",
       "        vertical-align: middle;\n",
       "    }\n",
       "\n",
       "    .dataframe tbody tr th {\n",
       "        vertical-align: top;\n",
       "    }\n",
       "\n",
       "    .dataframe thead th {\n",
       "        text-align: right;\n",
       "    }\n",
       "</style>\n",
       "<table border=\"1\" class=\"dataframe\">\n",
       "  <thead>\n",
       "    <tr style=\"text-align: right;\">\n",
       "      <th></th>\n",
       "      <th>total_images</th>\n",
       "      <th>last_price</th>\n",
       "      <th>total_area</th>\n",
       "      <th>first_day_exposition</th>\n",
       "      <th>rooms</th>\n",
       "      <th>ceiling_height</th>\n",
       "      <th>floors_total</th>\n",
       "      <th>living_area</th>\n",
       "      <th>floor</th>\n",
       "      <th>is_apartment</th>\n",
       "      <th>studio</th>\n",
       "      <th>open_plan</th>\n",
       "      <th>kitchen_area</th>\n",
       "      <th>balcony</th>\n",
       "      <th>locality_name</th>\n",
       "      <th>airports_nearest</th>\n",
       "      <th>cityCenters_nearest</th>\n",
       "      <th>parks_around3000</th>\n",
       "      <th>parks_nearest</th>\n",
       "      <th>ponds_around3000</th>\n",
       "      <th>ponds_nearest</th>\n",
       "      <th>days_exposition</th>\n",
       "    </tr>\n",
       "  </thead>\n",
       "  <tbody>\n",
       "    <tr>\n",
       "      <td>0</td>\n",
       "      <td>20</td>\n",
       "      <td>13000000.0</td>\n",
       "      <td>108.0</td>\n",
       "      <td>2019-03-07T00:00:00</td>\n",
       "      <td>3</td>\n",
       "      <td>2.70</td>\n",
       "      <td>16.0</td>\n",
       "      <td>51.0</td>\n",
       "      <td>8</td>\n",
       "      <td>NaN</td>\n",
       "      <td>False</td>\n",
       "      <td>False</td>\n",
       "      <td>25.0</td>\n",
       "      <td>NaN</td>\n",
       "      <td>Санкт-Петербург</td>\n",
       "      <td>18863.0</td>\n",
       "      <td>16028.0</td>\n",
       "      <td>1.0</td>\n",
       "      <td>482.0</td>\n",
       "      <td>2.0</td>\n",
       "      <td>755.0</td>\n",
       "      <td>NaN</td>\n",
       "    </tr>\n",
       "    <tr>\n",
       "      <td>1</td>\n",
       "      <td>7</td>\n",
       "      <td>3350000.0</td>\n",
       "      <td>40.4</td>\n",
       "      <td>2018-12-04T00:00:00</td>\n",
       "      <td>1</td>\n",
       "      <td>NaN</td>\n",
       "      <td>11.0</td>\n",
       "      <td>18.6</td>\n",
       "      <td>1</td>\n",
       "      <td>NaN</td>\n",
       "      <td>False</td>\n",
       "      <td>False</td>\n",
       "      <td>11.0</td>\n",
       "      <td>2.0</td>\n",
       "      <td>посёлок Шушары</td>\n",
       "      <td>12817.0</td>\n",
       "      <td>18603.0</td>\n",
       "      <td>0.0</td>\n",
       "      <td>NaN</td>\n",
       "      <td>0.0</td>\n",
       "      <td>NaN</td>\n",
       "      <td>81.0</td>\n",
       "    </tr>\n",
       "    <tr>\n",
       "      <td>2</td>\n",
       "      <td>10</td>\n",
       "      <td>5196000.0</td>\n",
       "      <td>56.0</td>\n",
       "      <td>2015-08-20T00:00:00</td>\n",
       "      <td>2</td>\n",
       "      <td>NaN</td>\n",
       "      <td>5.0</td>\n",
       "      <td>34.3</td>\n",
       "      <td>4</td>\n",
       "      <td>NaN</td>\n",
       "      <td>False</td>\n",
       "      <td>False</td>\n",
       "      <td>8.3</td>\n",
       "      <td>0.0</td>\n",
       "      <td>Санкт-Петербург</td>\n",
       "      <td>21741.0</td>\n",
       "      <td>13933.0</td>\n",
       "      <td>1.0</td>\n",
       "      <td>90.0</td>\n",
       "      <td>2.0</td>\n",
       "      <td>574.0</td>\n",
       "      <td>558.0</td>\n",
       "    </tr>\n",
       "    <tr>\n",
       "      <td>3</td>\n",
       "      <td>0</td>\n",
       "      <td>64900000.0</td>\n",
       "      <td>159.0</td>\n",
       "      <td>2015-07-24T00:00:00</td>\n",
       "      <td>3</td>\n",
       "      <td>NaN</td>\n",
       "      <td>14.0</td>\n",
       "      <td>NaN</td>\n",
       "      <td>9</td>\n",
       "      <td>NaN</td>\n",
       "      <td>False</td>\n",
       "      <td>False</td>\n",
       "      <td>NaN</td>\n",
       "      <td>0.0</td>\n",
       "      <td>Санкт-Петербург</td>\n",
       "      <td>28098.0</td>\n",
       "      <td>6800.0</td>\n",
       "      <td>2.0</td>\n",
       "      <td>84.0</td>\n",
       "      <td>3.0</td>\n",
       "      <td>234.0</td>\n",
       "      <td>424.0</td>\n",
       "    </tr>\n",
       "    <tr>\n",
       "      <td>4</td>\n",
       "      <td>2</td>\n",
       "      <td>10000000.0</td>\n",
       "      <td>100.0</td>\n",
       "      <td>2018-06-19T00:00:00</td>\n",
       "      <td>2</td>\n",
       "      <td>3.03</td>\n",
       "      <td>14.0</td>\n",
       "      <td>32.0</td>\n",
       "      <td>13</td>\n",
       "      <td>NaN</td>\n",
       "      <td>False</td>\n",
       "      <td>False</td>\n",
       "      <td>41.0</td>\n",
       "      <td>NaN</td>\n",
       "      <td>Санкт-Петербург</td>\n",
       "      <td>31856.0</td>\n",
       "      <td>8098.0</td>\n",
       "      <td>2.0</td>\n",
       "      <td>112.0</td>\n",
       "      <td>1.0</td>\n",
       "      <td>48.0</td>\n",
       "      <td>121.0</td>\n",
       "    </tr>\n",
       "  </tbody>\n",
       "</table>\n",
       "</div>"
      ],
      "text/plain": [
       "   total_images  last_price  total_area first_day_exposition  rooms  \\\n",
       "0            20  13000000.0       108.0  2019-03-07T00:00:00      3   \n",
       "1             7   3350000.0        40.4  2018-12-04T00:00:00      1   \n",
       "2            10   5196000.0        56.0  2015-08-20T00:00:00      2   \n",
       "3             0  64900000.0       159.0  2015-07-24T00:00:00      3   \n",
       "4             2  10000000.0       100.0  2018-06-19T00:00:00      2   \n",
       "\n",
       "   ceiling_height  floors_total  living_area  floor is_apartment  studio  \\\n",
       "0            2.70          16.0         51.0      8          NaN   False   \n",
       "1             NaN          11.0         18.6      1          NaN   False   \n",
       "2             NaN           5.0         34.3      4          NaN   False   \n",
       "3             NaN          14.0          NaN      9          NaN   False   \n",
       "4            3.03          14.0         32.0     13          NaN   False   \n",
       "\n",
       "   open_plan  kitchen_area  balcony    locality_name  airports_nearest  \\\n",
       "0      False          25.0      NaN  Санкт-Петербург           18863.0   \n",
       "1      False          11.0      2.0   посёлок Шушары           12817.0   \n",
       "2      False           8.3      0.0  Санкт-Петербург           21741.0   \n",
       "3      False           NaN      0.0  Санкт-Петербург           28098.0   \n",
       "4      False          41.0      NaN  Санкт-Петербург           31856.0   \n",
       "\n",
       "   cityCenters_nearest  parks_around3000  parks_nearest  ponds_around3000  \\\n",
       "0              16028.0               1.0          482.0               2.0   \n",
       "1              18603.0               0.0            NaN               0.0   \n",
       "2              13933.0               1.0           90.0               2.0   \n",
       "3               6800.0               2.0           84.0               3.0   \n",
       "4               8098.0               2.0          112.0               1.0   \n",
       "\n",
       "   ponds_nearest  days_exposition  \n",
       "0          755.0              NaN  \n",
       "1            NaN             81.0  \n",
       "2          574.0            558.0  \n",
       "3          234.0            424.0  \n",
       "4           48.0            121.0  "
      ]
     },
     "execution_count": 1,
     "metadata": {},
     "output_type": "execute_result"
    }
   ],
   "source": [
    "import pandas as pd\n",
    "import matplotlib.pyplot as plt\n",
    "data = pd.read_csv('/datasets/real_estate_data.csv', sep='\\t')\n",
    "pd.set_option('display.max_columns', 50)\n",
    "data.head()\n"
   ]
  },
  {
   "cell_type": "code",
   "execution_count": 2,
   "metadata": {},
   "outputs": [
    {
     "name": "stdout",
     "output_type": "stream",
     "text": [
      "<class 'pandas.core.frame.DataFrame'>\n",
      "RangeIndex: 23699 entries, 0 to 23698\n",
      "Data columns (total 22 columns):\n",
      "total_images            23699 non-null int64\n",
      "last_price              23699 non-null float64\n",
      "total_area              23699 non-null float64\n",
      "first_day_exposition    23699 non-null object\n",
      "rooms                   23699 non-null int64\n",
      "ceiling_height          14504 non-null float64\n",
      "floors_total            23613 non-null float64\n",
      "living_area             21796 non-null float64\n",
      "floor                   23699 non-null int64\n",
      "is_apartment            2775 non-null object\n",
      "studio                  23699 non-null bool\n",
      "open_plan               23699 non-null bool\n",
      "kitchen_area            21421 non-null float64\n",
      "balcony                 12180 non-null float64\n",
      "locality_name           23650 non-null object\n",
      "airports_nearest        18157 non-null float64\n",
      "cityCenters_nearest     18180 non-null float64\n",
      "parks_around3000        18181 non-null float64\n",
      "parks_nearest           8079 non-null float64\n",
      "ponds_around3000        18181 non-null float64\n",
      "ponds_nearest           9110 non-null float64\n",
      "days_exposition         20518 non-null float64\n",
      "dtypes: bool(2), float64(14), int64(3), object(3)\n",
      "memory usage: 3.7+ MB\n"
     ]
    }
   ],
   "source": [
    "data.info()"
   ]
  },
  {
   "cell_type": "markdown",
   "metadata": {},
   "source": [
    "Посмотрим количество пропусков"
   ]
  },
  {
   "cell_type": "code",
   "execution_count": 3,
   "metadata": {},
   "outputs": [
    {
     "data": {
      "text/plain": [
       "total_images                0\n",
       "last_price                  0\n",
       "total_area                  0\n",
       "first_day_exposition        0\n",
       "rooms                       0\n",
       "ceiling_height           9195\n",
       "floors_total               86\n",
       "living_area              1903\n",
       "floor                       0\n",
       "is_apartment            20924\n",
       "studio                      0\n",
       "open_plan                   0\n",
       "kitchen_area             2278\n",
       "balcony                 11519\n",
       "locality_name              49\n",
       "airports_nearest         5542\n",
       "cityCenters_nearest      5519\n",
       "parks_around3000         5518\n",
       "parks_nearest           15620\n",
       "ponds_around3000         5518\n",
       "ponds_nearest           14589\n",
       "days_exposition          3181\n",
       "dtype: int64"
      ]
     },
     "execution_count": 3,
     "metadata": {},
     "output_type": "execute_result"
    }
   ],
   "source": [
    "\n",
    "data.isnull().sum()"
   ]
  },
  {
   "cell_type": "markdown",
   "metadata": {},
   "source": [
    "Посмотрим количество дубликотов"
   ]
  },
  {
   "cell_type": "code",
   "execution_count": 4,
   "metadata": {},
   "outputs": [
    {
     "data": {
      "text/plain": [
       "0"
      ]
     },
     "execution_count": 4,
     "metadata": {},
     "output_type": "execute_result"
    }
   ],
   "source": [
    "\n",
    "data.duplicated().sum()"
   ]
  },
  {
   "cell_type": "markdown",
   "metadata": {},
   "source": [
    "### Вывод"
   ]
  },
  {
   "cell_type": "markdown",
   "metadata": {},
   "source": [
    "Данные содержат 22 столбца, всего строк 23699. Много пропусков, которые придется заполнять. Много типов данных, которые надо будет тоже менять. Хорошо, что нет дубликатов."
   ]
  },
  {
   "cell_type": "markdown",
   "metadata": {},
   "source": [
    "## Предобработка данных"
   ]
  },
  {
   "cell_type": "markdown",
   "metadata": {},
   "source": [
    "Удалим пропуски в столбце locality_name, их просто меньше всего, поэтому начал с него :) Пропуски случайны, возможно из-за потери данных. Пропусков немного, поэтому если удалить то на данные это не повлияет"
   ]
  },
  {
   "cell_type": "code",
   "execution_count": 5,
   "metadata": {},
   "outputs": [
    {
     "data": {
      "text/plain": [
       "0"
      ]
     },
     "execution_count": 5,
     "metadata": {},
     "output_type": "execute_result"
    }
   ],
   "source": [
    "\n",
    "data.dropna(subset=['locality_name'],inplace=True)\n",
    "data['locality_name'].isna().sum()"
   ]
  },
  {
   "cell_type": "markdown",
   "metadata": {},
   "source": [
    "Заполним пропуски в столбце ceiling_height медианными значениями высоты потолков. Пропуски тоже случайны, может быть из-за потери данных. Правильнее будет заполнить пропуски медианным значением, чтобы не влияло на общую статистику."
   ]
  },
  {
   "cell_type": "code",
   "execution_count": 6,
   "metadata": {},
   "outputs": [
    {
     "data": {
      "text/plain": [
       "0"
      ]
     },
     "execution_count": 6,
     "metadata": {},
     "output_type": "execute_result"
    }
   ],
   "source": [
    "\n",
    "median_ceiling_height = data['ceiling_height'].median()\n",
    "data['ceiling_height'].fillna(median_ceiling_height, inplace = True)\n",
    "#Проверим количество пропусков в столбце ceiling_height\n",
    "data['ceiling_height'].isna().sum()"
   ]
  },
  {
   "cell_type": "markdown",
   "metadata": {},
   "source": [
    "Проверим количество пропусков в столбце ceiling_height"
   ]
  },
  {
   "cell_type": "code",
   "execution_count": 7,
   "metadata": {},
   "outputs": [
    {
     "data": {
      "text/plain": [
       "0"
      ]
     },
     "execution_count": 7,
     "metadata": {},
     "output_type": "execute_result"
    }
   ],
   "source": [
    "data['ceiling_height'].isna().sum()"
   ]
  },
  {
   "cell_type": "markdown",
   "metadata": {},
   "source": [
    "Заполним пропуски с столбце balcony нулем. Пропуск случайный. Просто скорее всего его не заполнили в виду отсутствия балкона. ПОэтому и заполняем пропуски нулем."
   ]
  },
  {
   "cell_type": "code",
   "execution_count": 8,
   "metadata": {},
   "outputs": [],
   "source": [
    "data['balcony']=data['balcony'].fillna(0)"
   ]
  },
  {
   "cell_type": "markdown",
   "metadata": {},
   "source": [
    "Поменяем тип данных столбца на int"
   ]
  },
  {
   "cell_type": "code",
   "execution_count": 9,
   "metadata": {},
   "outputs": [
    {
     "data": {
      "text/plain": [
       "0        0\n",
       "1        2\n",
       "2        0\n",
       "3        0\n",
       "4        0\n",
       "        ..\n",
       "23694    0\n",
       "23695    0\n",
       "23696    0\n",
       "23697    2\n",
       "23698    0\n",
       "Name: balcony, Length: 23650, dtype: int64"
      ]
     },
     "execution_count": 9,
     "metadata": {},
     "output_type": "execute_result"
    }
   ],
   "source": [
    "data['balcony'].astype('int64')"
   ]
  },
  {
   "cell_type": "markdown",
   "metadata": {},
   "source": [
    "Проверим количество пропусков"
   ]
  },
  {
   "cell_type": "code",
   "execution_count": 10,
   "metadata": {},
   "outputs": [
    {
     "data": {
      "text/plain": [
       "0"
      ]
     },
     "execution_count": 10,
     "metadata": {},
     "output_type": "execute_result"
    }
   ],
   "source": [
    "data['balcony'].isna().sum()"
   ]
  },
  {
   "cell_type": "markdown",
   "metadata": {},
   "source": [
    "Заполним пропуски в столбце is_apartment тоже нулем. Скорее всего не случайный пропуск. Потому что почти 21000 квартир не имеют статус в этом столбце. Скорее всего продавцы просто не знали квартира это для постоянного проживания или апартаменты для временного. Если я правильно понял значение столбца :)"
   ]
  },
  {
   "cell_type": "code",
   "execution_count": 11,
   "metadata": {},
   "outputs": [],
   "source": [
    "\n",
    "data['is_apartment']=data['is_apartment'].fillna(False)\n"
   ]
  },
  {
   "cell_type": "markdown",
   "metadata": {},
   "source": [
    "Проверим количство пропусков"
   ]
  },
  {
   "cell_type": "code",
   "execution_count": 12,
   "metadata": {},
   "outputs": [
    {
     "data": {
      "text/plain": [
       "0"
      ]
     },
     "execution_count": 12,
     "metadata": {},
     "output_type": "execute_result"
    }
   ],
   "source": [
    "data['is_apartment'].isnull().sum()"
   ]
  },
  {
   "cell_type": "markdown",
   "metadata": {},
   "source": [
    "Пропуски в столбце parks_around3000 заполняем срединим. Не случайный пропуск. Просто продавцы скорее всего не знали есть ли парк в радиусе 3км. А если и знали, что он есть, то не знали в радиусе он 3км или нет, поэтому решили вообще не заполнять. Лучше заполнить средним, чтобы не повлияло на статистику."
   ]
  },
  {
   "cell_type": "code",
   "execution_count": 13,
   "metadata": {},
   "outputs": [],
   "source": [
    "data['parks_around3000']=data['parks_around3000'].fillna(data['parks_around3000'].mean())"
   ]
  },
  {
   "cell_type": "markdown",
   "metadata": {},
   "source": [
    "Проверим количство пропусков"
   ]
  },
  {
   "cell_type": "code",
   "execution_count": 14,
   "metadata": {},
   "outputs": [
    {
     "data": {
      "text/plain": [
       "0"
      ]
     },
     "execution_count": 14,
     "metadata": {},
     "output_type": "execute_result"
    }
   ],
   "source": [
    "data['parks_around3000'].isnull().sum()"
   ]
  },
  {
   "cell_type": "markdown",
   "metadata": {},
   "source": [
    "Переведем тип данных в int"
   ]
  },
  {
   "cell_type": "code",
   "execution_count": 15,
   "metadata": {},
   "outputs": [],
   "source": [
    "data['parks_around3000']=data['parks_around3000'].astype('int64')"
   ]
  },
  {
   "cell_type": "markdown",
   "metadata": {},
   "source": [
    "Пропуски в столбце parks_nearest заполняем срединим. Тоже не случайный, просто продавцы скорее всего не знали есть ли парк рядом. Да и понятие рядом для каждого свое. Лучше заполнить средним, чтобы не повлияло на статистику."
   ]
  },
  {
   "cell_type": "code",
   "execution_count": 16,
   "metadata": {},
   "outputs": [
    {
     "data": {
      "text/plain": [
       "0"
      ]
     },
     "execution_count": 16,
     "metadata": {},
     "output_type": "execute_result"
    }
   ],
   "source": [
    "data['parks_nearest']=data['parks_nearest'].fillna(data['parks_nearest'].mean())\n",
    "data['parks_nearest'].isnull().sum()"
   ]
  },
  {
   "cell_type": "markdown",
   "metadata": {},
   "source": [
    "Пропуски в столбце ponds_around3000 заполняем срединим. Так же как и с парками. Лучше заполнить средним, чтобы не повляило на статистику."
   ]
  },
  {
   "cell_type": "code",
   "execution_count": 17,
   "metadata": {},
   "outputs": [
    {
     "data": {
      "text/plain": [
       "0"
      ]
     },
     "execution_count": 17,
     "metadata": {},
     "output_type": "execute_result"
    }
   ],
   "source": [
    "data['ponds_around3000']=data['ponds_around3000'].fillna(data['ponds_around3000'].mean())\n",
    "data['ponds_around3000'].isnull().sum()"
   ]
  },
  {
   "cell_type": "markdown",
   "metadata": {},
   "source": [
    "Переведем тип данных в int"
   ]
  },
  {
   "cell_type": "code",
   "execution_count": 18,
   "metadata": {},
   "outputs": [],
   "source": [
    "data['ponds_around3000']=data['ponds_around3000'].astype('int64')"
   ]
  },
  {
   "cell_type": "markdown",
   "metadata": {},
   "source": [
    "Пропуски в столбце ponds_nearest заполняем срединим. Пропуски не случайны, просто продавцы не знали есть ли рядом водоем. Лучше пропуск заполнить средним значением по столбцу."
   ]
  },
  {
   "cell_type": "code",
   "execution_count": 19,
   "metadata": {},
   "outputs": [],
   "source": [
    "data['ponds_nearest']=data['ponds_nearest'].fillna(data['ponds_nearest'].mean())"
   ]
  },
  {
   "cell_type": "markdown",
   "metadata": {},
   "source": [
    "Проверим количство пропусков"
   ]
  },
  {
   "cell_type": "code",
   "execution_count": 20,
   "metadata": {},
   "outputs": [
    {
     "data": {
      "text/plain": [
       "0"
      ]
     },
     "execution_count": 20,
     "metadata": {},
     "output_type": "execute_result"
    }
   ],
   "source": [
    "data['ponds_nearest'].isnull().sum()"
   ]
  },
  {
   "cell_type": "markdown",
   "metadata": {},
   "source": [
    "Пропуски в столбце floors_total заполняем срединим. Случайный пропуск, скорее всего из-за потери данных. Лучше заполнить средним значением по столбцу, чтобы не измениласть статистика."
   ]
  },
  {
   "cell_type": "code",
   "execution_count": 21,
   "metadata": {},
   "outputs": [],
   "source": [
    "data['floors_total']=data.fillna(data['floors_total'].mean())"
   ]
  },
  {
   "cell_type": "markdown",
   "metadata": {},
   "source": [
    "Переведем тип данных в int"
   ]
  },
  {
   "cell_type": "code",
   "execution_count": 22,
   "metadata": {},
   "outputs": [],
   "source": [
    "data['floors_total']=data['floors_total'].astype('int64')"
   ]
  },
  {
   "cell_type": "markdown",
   "metadata": {},
   "source": [
    "Проверим количство пропусков"
   ]
  },
  {
   "cell_type": "code",
   "execution_count": 23,
   "metadata": {},
   "outputs": [
    {
     "data": {
      "text/plain": [
       "0"
      ]
     },
     "execution_count": 23,
     "metadata": {},
     "output_type": "execute_result"
    }
   ],
   "source": [
    "data['floors_total'].isnull().sum()"
   ]
  },
  {
   "cell_type": "markdown",
   "metadata": {},
   "source": [
    "Пропуски в столбце days_exposition заполняем медианой. Тоже случайный пропуск, возожно из-за потери данных. Заполняем пропуски медианным значением, чтобы не испортить статистику."
   ]
  },
  {
   "cell_type": "code",
   "execution_count": 24,
   "metadata": {},
   "outputs": [],
   "source": [
    "data['days_exposition']=data['days_exposition'].fillna(data['days_exposition'].median())"
   ]
  },
  {
   "cell_type": "markdown",
   "metadata": {},
   "source": [
    "Переведем тип данных в int"
   ]
  },
  {
   "cell_type": "code",
   "execution_count": 25,
   "metadata": {},
   "outputs": [],
   "source": [
    "data['days_exposition']=data['days_exposition'].astype('int64')"
   ]
  },
  {
   "cell_type": "markdown",
   "metadata": {},
   "source": [
    "Проверим количство пропусков"
   ]
  },
  {
   "cell_type": "code",
   "execution_count": 26,
   "metadata": {},
   "outputs": [
    {
     "data": {
      "text/plain": [
       "0"
      ]
     },
     "execution_count": 26,
     "metadata": {},
     "output_type": "execute_result"
    }
   ],
   "source": [
    "data['days_exposition'].isnull().sum()"
   ]
  },
  {
   "cell_type": "markdown",
   "metadata": {},
   "source": [
    "Пропуски в столбце kitchen_area заполняем медианой. Не случайный пропуск, скорее всего продавцы не знали точно сколько площадь кухни. Площадь квартиры могут знать многие, а вот площадь кухни наверно мало кто знает) Так же лучше заполнить пропуски медианным значением."
   ]
  },
  {
   "cell_type": "code",
   "execution_count": 27,
   "metadata": {},
   "outputs": [],
   "source": [
    "data['kitchen_area']=data['kitchen_area'].fillna(data['kitchen_area'].median())"
   ]
  },
  {
   "cell_type": "markdown",
   "metadata": {},
   "source": [
    "Проверим количство пропусков"
   ]
  },
  {
   "cell_type": "code",
   "execution_count": 28,
   "metadata": {},
   "outputs": [
    {
     "data": {
      "text/plain": [
       "0"
      ]
     },
     "execution_count": 28,
     "metadata": {},
     "output_type": "execute_result"
    }
   ],
   "source": [
    "data['kitchen_area'].isnull().sum()"
   ]
  },
  {
   "cell_type": "markdown",
   "metadata": {},
   "source": [
    "Добавим столбец цены за м2"
   ]
  },
  {
   "cell_type": "code",
   "execution_count": 29,
   "metadata": {},
   "outputs": [
    {
     "data": {
      "text/plain": [
       "locality_name\n",
       "деревня Малая Романовка    14808.362369\n",
       "деревня Старополье         14851.485149\n",
       "деревня Выскатка           18856.907895\n",
       "поселок Тёсово-4           20833.333333\n",
       "поселок Совхозный          22600.000000\n",
       "                               ...     \n",
       "поселок Севастьяново                NaN\n",
       "поселок станции Лужайка             NaN\n",
       "посёлок Левашово                    NaN\n",
       "посёлок Петро-Славянка              NaN\n",
       "посёлок Плоское                     NaN\n",
       "Name: price_for_m2, Length: 364, dtype: float64"
      ]
     },
     "execution_count": 29,
     "metadata": {},
     "output_type": "execute_result"
    }
   ],
   "source": [
    "data['price_for_m2']=data['last_price']/data['living_area']\n",
    "grouped_price=data.groupby('locality_name')['price_for_m2'].mean()\n",
    "grouped_price.sort_values()"
   ]
  },
  {
   "cell_type": "code",
   "execution_count": 30,
   "metadata": {},
   "outputs": [
    {
     "data": {
      "text/plain": [
       "0"
      ]
     },
     "execution_count": 30,
     "metadata": {},
     "output_type": "execute_result"
    }
   ],
   "source": [
    "#grouped_price.isna().sum()\n",
    "data['price_for_m2'].fillna(grouped_price,inplace=True)\n",
    "data.dropna(subset=['price_for_m2'],inplace=True)\n",
    "data['price_for_m2'].isnull().sum()\n",
    "data['living_area'].fillna(data['last_price']/data['price_for_m2'],inplace=True)\n",
    "data['price_for_m2'].isnull().sum()"
   ]
  },
  {
   "cell_type": "markdown",
   "metadata": {},
   "source": [
    "Заполним пропуски в столбце airports_nearest\n",
    "Группируем по району. Пропуск скорее всего случайный, из-за потери данных. Наверно сложно не знать есть ли у тебя рядом аэропорт. Самолеты все-таки громкие. Лучше заполнить средним значением в зависимости от территории. "
   ]
  },
  {
   "cell_type": "code",
   "execution_count": 31,
   "metadata": {},
   "outputs": [],
   "source": [
    "grouped_airpots_nearest=data.groupby('locality_name')['airports_nearest'].transform('mean') \n",
    "#data['airports_nearest'].isnull().sum()"
   ]
  },
  {
   "cell_type": "markdown",
   "metadata": {},
   "source": [
    "Заполняем пропуски по среднему расстоянию в зависимости от района"
   ]
  },
  {
   "cell_type": "code",
   "execution_count": 32,
   "metadata": {},
   "outputs": [],
   "source": [
    "data['airports_nearest'].fillna(grouped_airpots_nearest,inplace=True)\n",
    "#data['airports_nearest'].isnull().sum()"
   ]
  },
  {
   "cell_type": "markdown",
   "metadata": {},
   "source": [
    "Остальные заполняем по среднему значению"
   ]
  },
  {
   "cell_type": "code",
   "execution_count": 33,
   "metadata": {},
   "outputs": [
    {
     "data": {
      "text/plain": [
       "0"
      ]
     },
     "execution_count": 33,
     "metadata": {},
     "output_type": "execute_result"
    }
   ],
   "source": [
    "\n",
    "data['airports_nearest']=data['airports_nearest'].fillna(data['airports_nearest'].mean())\n",
    "data['airports_nearest'].isnull().sum()"
   ]
  },
  {
   "cell_type": "markdown",
   "metadata": {},
   "source": [
    "Со столбцом cityCenters_nearest поступаем так же как и со столбцом airports_nearest. Тоже случайный пропуск, возможно из-за потери данных. И тоже лучше заполнить исходя из района."
   ]
  },
  {
   "cell_type": "code",
   "execution_count": 34,
   "metadata": {},
   "outputs": [
    {
     "data": {
      "text/plain": [
       "0"
      ]
     },
     "execution_count": 34,
     "metadata": {},
     "output_type": "execute_result"
    }
   ],
   "source": [
    "\n",
    "data['cityCenters_nearest'].fillna(data.groupby('locality_name')['cityCenters_nearest'].transform('mean'),inplace=True)\n",
    "data['cityCenters_nearest']=data['cityCenters_nearest'].fillna(data['cityCenters_nearest'].mean())\n",
    "data['cityCenters_nearest'].isnull().sum()"
   ]
  },
  {
   "cell_type": "code",
   "execution_count": 35,
   "metadata": {},
   "outputs": [
    {
     "name": "stdout",
     "output_type": "stream",
     "text": [
      "<class 'pandas.core.frame.DataFrame'>\n",
      "Int64Index: 21752 entries, 0 to 23698\n",
      "Data columns (total 23 columns):\n",
      "total_images            21752 non-null int64\n",
      "last_price              21752 non-null float64\n",
      "total_area              21752 non-null float64\n",
      "first_day_exposition    21752 non-null object\n",
      "rooms                   21752 non-null int64\n",
      "ceiling_height          21752 non-null float64\n",
      "floors_total            21752 non-null int64\n",
      "living_area             21752 non-null float64\n",
      "floor                   21752 non-null int64\n",
      "is_apartment            21752 non-null bool\n",
      "studio                  21752 non-null bool\n",
      "open_plan               21752 non-null bool\n",
      "kitchen_area            21752 non-null float64\n",
      "balcony                 21752 non-null float64\n",
      "locality_name           21752 non-null object\n",
      "airports_nearest        21752 non-null float64\n",
      "cityCenters_nearest     21752 non-null float64\n",
      "parks_around3000        21752 non-null int64\n",
      "parks_nearest           21752 non-null float64\n",
      "ponds_around3000        21752 non-null int64\n",
      "ponds_nearest           21752 non-null float64\n",
      "days_exposition         21752 non-null int64\n",
      "price_for_m2            21752 non-null float64\n",
      "dtypes: bool(3), float64(11), int64(7), object(2)\n",
      "memory usage: 3.5+ MB\n"
     ]
    }
   ],
   "source": [
    "data.info()"
   ]
  },
  {
   "cell_type": "markdown",
   "metadata": {},
   "source": [
    "## Расчёты и добавление результатов в таблицу"
   ]
  },
  {
   "cell_type": "markdown",
   "metadata": {},
   "source": [
    "Столбец с ценой квадратного метра создали ранее. Сейчас создадим столбцы с днем недели, месяцем и годом публикации объявления.\n",
    "Перевожу в формат даты"
   ]
  },
  {
   "cell_type": "code",
   "execution_count": 36,
   "metadata": {},
   "outputs": [
    {
     "data": {
      "text/html": [
       "<div>\n",
       "<style scoped>\n",
       "    .dataframe tbody tr th:only-of-type {\n",
       "        vertical-align: middle;\n",
       "    }\n",
       "\n",
       "    .dataframe tbody tr th {\n",
       "        vertical-align: top;\n",
       "    }\n",
       "\n",
       "    .dataframe thead th {\n",
       "        text-align: right;\n",
       "    }\n",
       "</style>\n",
       "<table border=\"1\" class=\"dataframe\">\n",
       "  <thead>\n",
       "    <tr style=\"text-align: right;\">\n",
       "      <th></th>\n",
       "      <th>total_images</th>\n",
       "      <th>last_price</th>\n",
       "      <th>total_area</th>\n",
       "      <th>first_day_exposition</th>\n",
       "      <th>rooms</th>\n",
       "      <th>ceiling_height</th>\n",
       "      <th>floors_total</th>\n",
       "      <th>living_area</th>\n",
       "      <th>floor</th>\n",
       "      <th>is_apartment</th>\n",
       "      <th>studio</th>\n",
       "      <th>open_plan</th>\n",
       "      <th>kitchen_area</th>\n",
       "      <th>balcony</th>\n",
       "      <th>locality_name</th>\n",
       "      <th>airports_nearest</th>\n",
       "      <th>cityCenters_nearest</th>\n",
       "      <th>parks_around3000</th>\n",
       "      <th>parks_nearest</th>\n",
       "      <th>ponds_around3000</th>\n",
       "      <th>ponds_nearest</th>\n",
       "      <th>days_exposition</th>\n",
       "      <th>price_for_m2</th>\n",
       "      <th>week_day</th>\n",
       "      <th>month</th>\n",
       "      <th>year</th>\n",
       "    </tr>\n",
       "  </thead>\n",
       "  <tbody>\n",
       "    <tr>\n",
       "      <td>0</td>\n",
       "      <td>20</td>\n",
       "      <td>13000000.0</td>\n",
       "      <td>108.0</td>\n",
       "      <td>2019-03-07</td>\n",
       "      <td>3</td>\n",
       "      <td>2.70</td>\n",
       "      <td>20</td>\n",
       "      <td>51.0</td>\n",
       "      <td>8</td>\n",
       "      <td>False</td>\n",
       "      <td>False</td>\n",
       "      <td>False</td>\n",
       "      <td>25.0</td>\n",
       "      <td>0.0</td>\n",
       "      <td>Санкт-Петербург</td>\n",
       "      <td>18863.000000</td>\n",
       "      <td>16028.000000</td>\n",
       "      <td>1</td>\n",
       "      <td>482.000000</td>\n",
       "      <td>2</td>\n",
       "      <td>755.000000</td>\n",
       "      <td>95</td>\n",
       "      <td>254901.960784</td>\n",
       "      <td>3</td>\n",
       "      <td>3</td>\n",
       "      <td>2019</td>\n",
       "    </tr>\n",
       "    <tr>\n",
       "      <td>1</td>\n",
       "      <td>7</td>\n",
       "      <td>3350000.0</td>\n",
       "      <td>40.4</td>\n",
       "      <td>2018-12-04</td>\n",
       "      <td>1</td>\n",
       "      <td>2.65</td>\n",
       "      <td>7</td>\n",
       "      <td>18.6</td>\n",
       "      <td>1</td>\n",
       "      <td>False</td>\n",
       "      <td>False</td>\n",
       "      <td>False</td>\n",
       "      <td>11.0</td>\n",
       "      <td>2.0</td>\n",
       "      <td>посёлок Шушары</td>\n",
       "      <td>12817.000000</td>\n",
       "      <td>18603.000000</td>\n",
       "      <td>0</td>\n",
       "      <td>490.830729</td>\n",
       "      <td>0</td>\n",
       "      <td>518.059879</td>\n",
       "      <td>81</td>\n",
       "      <td>180107.526882</td>\n",
       "      <td>1</td>\n",
       "      <td>12</td>\n",
       "      <td>2018</td>\n",
       "    </tr>\n",
       "    <tr>\n",
       "      <td>2</td>\n",
       "      <td>10</td>\n",
       "      <td>5196000.0</td>\n",
       "      <td>56.0</td>\n",
       "      <td>2015-08-20</td>\n",
       "      <td>2</td>\n",
       "      <td>2.65</td>\n",
       "      <td>10</td>\n",
       "      <td>34.3</td>\n",
       "      <td>4</td>\n",
       "      <td>False</td>\n",
       "      <td>False</td>\n",
       "      <td>False</td>\n",
       "      <td>8.3</td>\n",
       "      <td>0.0</td>\n",
       "      <td>Санкт-Петербург</td>\n",
       "      <td>21741.000000</td>\n",
       "      <td>13933.000000</td>\n",
       "      <td>1</td>\n",
       "      <td>90.000000</td>\n",
       "      <td>2</td>\n",
       "      <td>574.000000</td>\n",
       "      <td>558</td>\n",
       "      <td>151486.880466</td>\n",
       "      <td>3</td>\n",
       "      <td>8</td>\n",
       "      <td>2015</td>\n",
       "    </tr>\n",
       "    <tr>\n",
       "      <td>4</td>\n",
       "      <td>2</td>\n",
       "      <td>10000000.0</td>\n",
       "      <td>100.0</td>\n",
       "      <td>2018-06-19</td>\n",
       "      <td>2</td>\n",
       "      <td>3.03</td>\n",
       "      <td>2</td>\n",
       "      <td>32.0</td>\n",
       "      <td>13</td>\n",
       "      <td>False</td>\n",
       "      <td>False</td>\n",
       "      <td>False</td>\n",
       "      <td>41.0</td>\n",
       "      <td>0.0</td>\n",
       "      <td>Санкт-Петербург</td>\n",
       "      <td>31856.000000</td>\n",
       "      <td>8098.000000</td>\n",
       "      <td>2</td>\n",
       "      <td>112.000000</td>\n",
       "      <td>1</td>\n",
       "      <td>48.000000</td>\n",
       "      <td>121</td>\n",
       "      <td>312500.000000</td>\n",
       "      <td>1</td>\n",
       "      <td>6</td>\n",
       "      <td>2018</td>\n",
       "    </tr>\n",
       "    <tr>\n",
       "      <td>5</td>\n",
       "      <td>10</td>\n",
       "      <td>2890000.0</td>\n",
       "      <td>30.4</td>\n",
       "      <td>2018-09-10</td>\n",
       "      <td>1</td>\n",
       "      <td>2.65</td>\n",
       "      <td>10</td>\n",
       "      <td>14.4</td>\n",
       "      <td>5</td>\n",
       "      <td>False</td>\n",
       "      <td>False</td>\n",
       "      <td>False</td>\n",
       "      <td>9.1</td>\n",
       "      <td>0.0</td>\n",
       "      <td>городской посёлок Янино-1</td>\n",
       "      <td>28774.766121</td>\n",
       "      <td>14247.655369</td>\n",
       "      <td>0</td>\n",
       "      <td>490.830729</td>\n",
       "      <td>0</td>\n",
       "      <td>518.059879</td>\n",
       "      <td>55</td>\n",
       "      <td>200694.444444</td>\n",
       "      <td>0</td>\n",
       "      <td>9</td>\n",
       "      <td>2018</td>\n",
       "    </tr>\n",
       "  </tbody>\n",
       "</table>\n",
       "</div>"
      ],
      "text/plain": [
       "   total_images  last_price  total_area first_day_exposition  rooms  \\\n",
       "0            20  13000000.0       108.0           2019-03-07      3   \n",
       "1             7   3350000.0        40.4           2018-12-04      1   \n",
       "2            10   5196000.0        56.0           2015-08-20      2   \n",
       "4             2  10000000.0       100.0           2018-06-19      2   \n",
       "5            10   2890000.0        30.4           2018-09-10      1   \n",
       "\n",
       "   ceiling_height  floors_total  living_area  floor  is_apartment  studio  \\\n",
       "0            2.70            20         51.0      8         False   False   \n",
       "1            2.65             7         18.6      1         False   False   \n",
       "2            2.65            10         34.3      4         False   False   \n",
       "4            3.03             2         32.0     13         False   False   \n",
       "5            2.65            10         14.4      5         False   False   \n",
       "\n",
       "   open_plan  kitchen_area  balcony              locality_name  \\\n",
       "0      False          25.0      0.0            Санкт-Петербург   \n",
       "1      False          11.0      2.0             посёлок Шушары   \n",
       "2      False           8.3      0.0            Санкт-Петербург   \n",
       "4      False          41.0      0.0            Санкт-Петербург   \n",
       "5      False           9.1      0.0  городской посёлок Янино-1   \n",
       "\n",
       "   airports_nearest  cityCenters_nearest  parks_around3000  parks_nearest  \\\n",
       "0      18863.000000         16028.000000                 1     482.000000   \n",
       "1      12817.000000         18603.000000                 0     490.830729   \n",
       "2      21741.000000         13933.000000                 1      90.000000   \n",
       "4      31856.000000          8098.000000                 2     112.000000   \n",
       "5      28774.766121         14247.655369                 0     490.830729   \n",
       "\n",
       "   ponds_around3000  ponds_nearest  days_exposition   price_for_m2  week_day  \\\n",
       "0                 2     755.000000               95  254901.960784         3   \n",
       "1                 0     518.059879               81  180107.526882         1   \n",
       "2                 2     574.000000              558  151486.880466         3   \n",
       "4                 1      48.000000              121  312500.000000         1   \n",
       "5                 0     518.059879               55  200694.444444         0   \n",
       "\n",
       "   month  year  \n",
       "0      3  2019  \n",
       "1     12  2018  \n",
       "2      8  2015  \n",
       "4      6  2018  \n",
       "5      9  2018  "
      ]
     },
     "execution_count": 36,
     "metadata": {},
     "output_type": "execute_result"
    }
   ],
   "source": [
    "data['first_day_exposition']=pd.to_datetime(data['first_day_exposition'],format='%Y.%m.%dT%H:%M:%S')\n",
    "data['week_day']=data['first_day_exposition'].dt.weekday\n",
    "data['month']=data['first_day_exposition'].dt.month\n",
    "data['year']=data['first_day_exposition'].dt.year\n",
    "data.head()"
   ]
  },
  {
   "cell_type": "markdown",
   "metadata": {},
   "source": [
    "Категаризируем этажи. "
   ]
  },
  {
   "cell_type": "code",
   "execution_count": 37,
   "metadata": {},
   "outputs": [],
   "source": [
    "def floor_category(row):\n",
    "    what_floor=row['floor']\n",
    "    total_floor=row['floors_total']\n",
    "    if what_floor==1:\n",
    "        return 'Первый'\n",
    "    if what_floor==total_floor:\n",
    "        return 'Последний'\n",
    "    return 'Другой'"
   ]
  },
  {
   "cell_type": "markdown",
   "metadata": {},
   "source": [
    "Добавляем новый столбец"
   ]
  },
  {
   "cell_type": "code",
   "execution_count": 38,
   "metadata": {},
   "outputs": [
    {
     "data": {
      "text/html": [
       "<div>\n",
       "<style scoped>\n",
       "    .dataframe tbody tr th:only-of-type {\n",
       "        vertical-align: middle;\n",
       "    }\n",
       "\n",
       "    .dataframe tbody tr th {\n",
       "        vertical-align: top;\n",
       "    }\n",
       "\n",
       "    .dataframe thead th {\n",
       "        text-align: right;\n",
       "    }\n",
       "</style>\n",
       "<table border=\"1\" class=\"dataframe\">\n",
       "  <thead>\n",
       "    <tr style=\"text-align: right;\">\n",
       "      <th></th>\n",
       "      <th>total_images</th>\n",
       "      <th>last_price</th>\n",
       "      <th>total_area</th>\n",
       "      <th>first_day_exposition</th>\n",
       "      <th>rooms</th>\n",
       "      <th>ceiling_height</th>\n",
       "      <th>floors_total</th>\n",
       "      <th>living_area</th>\n",
       "      <th>floor</th>\n",
       "      <th>is_apartment</th>\n",
       "      <th>studio</th>\n",
       "      <th>open_plan</th>\n",
       "      <th>kitchen_area</th>\n",
       "      <th>balcony</th>\n",
       "      <th>locality_name</th>\n",
       "      <th>airports_nearest</th>\n",
       "      <th>cityCenters_nearest</th>\n",
       "      <th>parks_around3000</th>\n",
       "      <th>parks_nearest</th>\n",
       "      <th>ponds_around3000</th>\n",
       "      <th>ponds_nearest</th>\n",
       "      <th>days_exposition</th>\n",
       "      <th>price_for_m2</th>\n",
       "      <th>week_day</th>\n",
       "      <th>month</th>\n",
       "      <th>year</th>\n",
       "      <th>floor_position</th>\n",
       "    </tr>\n",
       "  </thead>\n",
       "  <tbody>\n",
       "    <tr>\n",
       "      <td>0</td>\n",
       "      <td>20</td>\n",
       "      <td>13000000.0</td>\n",
       "      <td>108.0</td>\n",
       "      <td>2019-03-07</td>\n",
       "      <td>3</td>\n",
       "      <td>2.70</td>\n",
       "      <td>20</td>\n",
       "      <td>51.0</td>\n",
       "      <td>8</td>\n",
       "      <td>False</td>\n",
       "      <td>False</td>\n",
       "      <td>False</td>\n",
       "      <td>25.0</td>\n",
       "      <td>0.0</td>\n",
       "      <td>Санкт-Петербург</td>\n",
       "      <td>18863.000000</td>\n",
       "      <td>16028.000000</td>\n",
       "      <td>1</td>\n",
       "      <td>482.000000</td>\n",
       "      <td>2</td>\n",
       "      <td>755.000000</td>\n",
       "      <td>95</td>\n",
       "      <td>254901.960784</td>\n",
       "      <td>3</td>\n",
       "      <td>3</td>\n",
       "      <td>2019</td>\n",
       "      <td>Другой</td>\n",
       "    </tr>\n",
       "    <tr>\n",
       "      <td>1</td>\n",
       "      <td>7</td>\n",
       "      <td>3350000.0</td>\n",
       "      <td>40.4</td>\n",
       "      <td>2018-12-04</td>\n",
       "      <td>1</td>\n",
       "      <td>2.65</td>\n",
       "      <td>7</td>\n",
       "      <td>18.6</td>\n",
       "      <td>1</td>\n",
       "      <td>False</td>\n",
       "      <td>False</td>\n",
       "      <td>False</td>\n",
       "      <td>11.0</td>\n",
       "      <td>2.0</td>\n",
       "      <td>посёлок Шушары</td>\n",
       "      <td>12817.000000</td>\n",
       "      <td>18603.000000</td>\n",
       "      <td>0</td>\n",
       "      <td>490.830729</td>\n",
       "      <td>0</td>\n",
       "      <td>518.059879</td>\n",
       "      <td>81</td>\n",
       "      <td>180107.526882</td>\n",
       "      <td>1</td>\n",
       "      <td>12</td>\n",
       "      <td>2018</td>\n",
       "      <td>Первый</td>\n",
       "    </tr>\n",
       "    <tr>\n",
       "      <td>2</td>\n",
       "      <td>10</td>\n",
       "      <td>5196000.0</td>\n",
       "      <td>56.0</td>\n",
       "      <td>2015-08-20</td>\n",
       "      <td>2</td>\n",
       "      <td>2.65</td>\n",
       "      <td>10</td>\n",
       "      <td>34.3</td>\n",
       "      <td>4</td>\n",
       "      <td>False</td>\n",
       "      <td>False</td>\n",
       "      <td>False</td>\n",
       "      <td>8.3</td>\n",
       "      <td>0.0</td>\n",
       "      <td>Санкт-Петербург</td>\n",
       "      <td>21741.000000</td>\n",
       "      <td>13933.000000</td>\n",
       "      <td>1</td>\n",
       "      <td>90.000000</td>\n",
       "      <td>2</td>\n",
       "      <td>574.000000</td>\n",
       "      <td>558</td>\n",
       "      <td>151486.880466</td>\n",
       "      <td>3</td>\n",
       "      <td>8</td>\n",
       "      <td>2015</td>\n",
       "      <td>Другой</td>\n",
       "    </tr>\n",
       "    <tr>\n",
       "      <td>4</td>\n",
       "      <td>2</td>\n",
       "      <td>10000000.0</td>\n",
       "      <td>100.0</td>\n",
       "      <td>2018-06-19</td>\n",
       "      <td>2</td>\n",
       "      <td>3.03</td>\n",
       "      <td>2</td>\n",
       "      <td>32.0</td>\n",
       "      <td>13</td>\n",
       "      <td>False</td>\n",
       "      <td>False</td>\n",
       "      <td>False</td>\n",
       "      <td>41.0</td>\n",
       "      <td>0.0</td>\n",
       "      <td>Санкт-Петербург</td>\n",
       "      <td>31856.000000</td>\n",
       "      <td>8098.000000</td>\n",
       "      <td>2</td>\n",
       "      <td>112.000000</td>\n",
       "      <td>1</td>\n",
       "      <td>48.000000</td>\n",
       "      <td>121</td>\n",
       "      <td>312500.000000</td>\n",
       "      <td>1</td>\n",
       "      <td>6</td>\n",
       "      <td>2018</td>\n",
       "      <td>Другой</td>\n",
       "    </tr>\n",
       "    <tr>\n",
       "      <td>5</td>\n",
       "      <td>10</td>\n",
       "      <td>2890000.0</td>\n",
       "      <td>30.4</td>\n",
       "      <td>2018-09-10</td>\n",
       "      <td>1</td>\n",
       "      <td>2.65</td>\n",
       "      <td>10</td>\n",
       "      <td>14.4</td>\n",
       "      <td>5</td>\n",
       "      <td>False</td>\n",
       "      <td>False</td>\n",
       "      <td>False</td>\n",
       "      <td>9.1</td>\n",
       "      <td>0.0</td>\n",
       "      <td>городской посёлок Янино-1</td>\n",
       "      <td>28774.766121</td>\n",
       "      <td>14247.655369</td>\n",
       "      <td>0</td>\n",
       "      <td>490.830729</td>\n",
       "      <td>0</td>\n",
       "      <td>518.059879</td>\n",
       "      <td>55</td>\n",
       "      <td>200694.444444</td>\n",
       "      <td>0</td>\n",
       "      <td>9</td>\n",
       "      <td>2018</td>\n",
       "      <td>Другой</td>\n",
       "    </tr>\n",
       "  </tbody>\n",
       "</table>\n",
       "</div>"
      ],
      "text/plain": [
       "   total_images  last_price  total_area first_day_exposition  rooms  \\\n",
       "0            20  13000000.0       108.0           2019-03-07      3   \n",
       "1             7   3350000.0        40.4           2018-12-04      1   \n",
       "2            10   5196000.0        56.0           2015-08-20      2   \n",
       "4             2  10000000.0       100.0           2018-06-19      2   \n",
       "5            10   2890000.0        30.4           2018-09-10      1   \n",
       "\n",
       "   ceiling_height  floors_total  living_area  floor  is_apartment  studio  \\\n",
       "0            2.70            20         51.0      8         False   False   \n",
       "1            2.65             7         18.6      1         False   False   \n",
       "2            2.65            10         34.3      4         False   False   \n",
       "4            3.03             2         32.0     13         False   False   \n",
       "5            2.65            10         14.4      5         False   False   \n",
       "\n",
       "   open_plan  kitchen_area  balcony              locality_name  \\\n",
       "0      False          25.0      0.0            Санкт-Петербург   \n",
       "1      False          11.0      2.0             посёлок Шушары   \n",
       "2      False           8.3      0.0            Санкт-Петербург   \n",
       "4      False          41.0      0.0            Санкт-Петербург   \n",
       "5      False           9.1      0.0  городской посёлок Янино-1   \n",
       "\n",
       "   airports_nearest  cityCenters_nearest  parks_around3000  parks_nearest  \\\n",
       "0      18863.000000         16028.000000                 1     482.000000   \n",
       "1      12817.000000         18603.000000                 0     490.830729   \n",
       "2      21741.000000         13933.000000                 1      90.000000   \n",
       "4      31856.000000          8098.000000                 2     112.000000   \n",
       "5      28774.766121         14247.655369                 0     490.830729   \n",
       "\n",
       "   ponds_around3000  ponds_nearest  days_exposition   price_for_m2  week_day  \\\n",
       "0                 2     755.000000               95  254901.960784         3   \n",
       "1                 0     518.059879               81  180107.526882         1   \n",
       "2                 2     574.000000              558  151486.880466         3   \n",
       "4                 1      48.000000              121  312500.000000         1   \n",
       "5                 0     518.059879               55  200694.444444         0   \n",
       "\n",
       "   month  year floor_position  \n",
       "0      3  2019         Другой  \n",
       "1     12  2018         Первый  \n",
       "2      8  2015         Другой  \n",
       "4      6  2018         Другой  \n",
       "5      9  2018         Другой  "
      ]
     },
     "execution_count": 38,
     "metadata": {},
     "output_type": "execute_result"
    }
   ],
   "source": [
    "floor_position=data.apply(floor_category,axis=1)\n",
    "data['floor_position']=floor_position\n",
    "data.head()"
   ]
  },
  {
   "cell_type": "markdown",
   "metadata": {},
   "source": [
    "Отношение жилой площади к общей площади"
   ]
  },
  {
   "cell_type": "code",
   "execution_count": 39,
   "metadata": {},
   "outputs": [],
   "source": [
    "data['living_area/total_area']=data['living_area']/data['total_area']"
   ]
  },
  {
   "cell_type": "markdown",
   "metadata": {},
   "source": [
    "Отношение площади кухни к жилой площади"
   ]
  },
  {
   "cell_type": "code",
   "execution_count": 40,
   "metadata": {},
   "outputs": [
    {
     "data": {
      "text/html": [
       "<div>\n",
       "<style scoped>\n",
       "    .dataframe tbody tr th:only-of-type {\n",
       "        vertical-align: middle;\n",
       "    }\n",
       "\n",
       "    .dataframe tbody tr th {\n",
       "        vertical-align: top;\n",
       "    }\n",
       "\n",
       "    .dataframe thead th {\n",
       "        text-align: right;\n",
       "    }\n",
       "</style>\n",
       "<table border=\"1\" class=\"dataframe\">\n",
       "  <thead>\n",
       "    <tr style=\"text-align: right;\">\n",
       "      <th></th>\n",
       "      <th>total_images</th>\n",
       "      <th>last_price</th>\n",
       "      <th>total_area</th>\n",
       "      <th>first_day_exposition</th>\n",
       "      <th>rooms</th>\n",
       "      <th>ceiling_height</th>\n",
       "      <th>floors_total</th>\n",
       "      <th>living_area</th>\n",
       "      <th>floor</th>\n",
       "      <th>is_apartment</th>\n",
       "      <th>studio</th>\n",
       "      <th>open_plan</th>\n",
       "      <th>kitchen_area</th>\n",
       "      <th>balcony</th>\n",
       "      <th>locality_name</th>\n",
       "      <th>airports_nearest</th>\n",
       "      <th>cityCenters_nearest</th>\n",
       "      <th>parks_around3000</th>\n",
       "      <th>parks_nearest</th>\n",
       "      <th>ponds_around3000</th>\n",
       "      <th>ponds_nearest</th>\n",
       "      <th>days_exposition</th>\n",
       "      <th>price_for_m2</th>\n",
       "      <th>week_day</th>\n",
       "      <th>month</th>\n",
       "      <th>year</th>\n",
       "      <th>floor_position</th>\n",
       "      <th>living_area/total_area</th>\n",
       "      <th>kitchen_area/living_area</th>\n",
       "    </tr>\n",
       "  </thead>\n",
       "  <tbody>\n",
       "    <tr>\n",
       "      <td>0</td>\n",
       "      <td>20</td>\n",
       "      <td>13000000.0</td>\n",
       "      <td>108.0</td>\n",
       "      <td>2019-03-07</td>\n",
       "      <td>3</td>\n",
       "      <td>2.70</td>\n",
       "      <td>20</td>\n",
       "      <td>51.0</td>\n",
       "      <td>8</td>\n",
       "      <td>False</td>\n",
       "      <td>False</td>\n",
       "      <td>False</td>\n",
       "      <td>25.0</td>\n",
       "      <td>0.0</td>\n",
       "      <td>Санкт-Петербург</td>\n",
       "      <td>18863.000000</td>\n",
       "      <td>16028.000000</td>\n",
       "      <td>1</td>\n",
       "      <td>482.000000</td>\n",
       "      <td>2</td>\n",
       "      <td>755.000000</td>\n",
       "      <td>95</td>\n",
       "      <td>254901.960784</td>\n",
       "      <td>3</td>\n",
       "      <td>3</td>\n",
       "      <td>2019</td>\n",
       "      <td>Другой</td>\n",
       "      <td>0.472222</td>\n",
       "      <td>0.490196</td>\n",
       "    </tr>\n",
       "    <tr>\n",
       "      <td>1</td>\n",
       "      <td>7</td>\n",
       "      <td>3350000.0</td>\n",
       "      <td>40.4</td>\n",
       "      <td>2018-12-04</td>\n",
       "      <td>1</td>\n",
       "      <td>2.65</td>\n",
       "      <td>7</td>\n",
       "      <td>18.6</td>\n",
       "      <td>1</td>\n",
       "      <td>False</td>\n",
       "      <td>False</td>\n",
       "      <td>False</td>\n",
       "      <td>11.0</td>\n",
       "      <td>2.0</td>\n",
       "      <td>посёлок Шушары</td>\n",
       "      <td>12817.000000</td>\n",
       "      <td>18603.000000</td>\n",
       "      <td>0</td>\n",
       "      <td>490.830729</td>\n",
       "      <td>0</td>\n",
       "      <td>518.059879</td>\n",
       "      <td>81</td>\n",
       "      <td>180107.526882</td>\n",
       "      <td>1</td>\n",
       "      <td>12</td>\n",
       "      <td>2018</td>\n",
       "      <td>Первый</td>\n",
       "      <td>0.460396</td>\n",
       "      <td>0.591398</td>\n",
       "    </tr>\n",
       "    <tr>\n",
       "      <td>2</td>\n",
       "      <td>10</td>\n",
       "      <td>5196000.0</td>\n",
       "      <td>56.0</td>\n",
       "      <td>2015-08-20</td>\n",
       "      <td>2</td>\n",
       "      <td>2.65</td>\n",
       "      <td>10</td>\n",
       "      <td>34.3</td>\n",
       "      <td>4</td>\n",
       "      <td>False</td>\n",
       "      <td>False</td>\n",
       "      <td>False</td>\n",
       "      <td>8.3</td>\n",
       "      <td>0.0</td>\n",
       "      <td>Санкт-Петербург</td>\n",
       "      <td>21741.000000</td>\n",
       "      <td>13933.000000</td>\n",
       "      <td>1</td>\n",
       "      <td>90.000000</td>\n",
       "      <td>2</td>\n",
       "      <td>574.000000</td>\n",
       "      <td>558</td>\n",
       "      <td>151486.880466</td>\n",
       "      <td>3</td>\n",
       "      <td>8</td>\n",
       "      <td>2015</td>\n",
       "      <td>Другой</td>\n",
       "      <td>0.612500</td>\n",
       "      <td>0.241983</td>\n",
       "    </tr>\n",
       "    <tr>\n",
       "      <td>4</td>\n",
       "      <td>2</td>\n",
       "      <td>10000000.0</td>\n",
       "      <td>100.0</td>\n",
       "      <td>2018-06-19</td>\n",
       "      <td>2</td>\n",
       "      <td>3.03</td>\n",
       "      <td>2</td>\n",
       "      <td>32.0</td>\n",
       "      <td>13</td>\n",
       "      <td>False</td>\n",
       "      <td>False</td>\n",
       "      <td>False</td>\n",
       "      <td>41.0</td>\n",
       "      <td>0.0</td>\n",
       "      <td>Санкт-Петербург</td>\n",
       "      <td>31856.000000</td>\n",
       "      <td>8098.000000</td>\n",
       "      <td>2</td>\n",
       "      <td>112.000000</td>\n",
       "      <td>1</td>\n",
       "      <td>48.000000</td>\n",
       "      <td>121</td>\n",
       "      <td>312500.000000</td>\n",
       "      <td>1</td>\n",
       "      <td>6</td>\n",
       "      <td>2018</td>\n",
       "      <td>Другой</td>\n",
       "      <td>0.320000</td>\n",
       "      <td>1.281250</td>\n",
       "    </tr>\n",
       "    <tr>\n",
       "      <td>5</td>\n",
       "      <td>10</td>\n",
       "      <td>2890000.0</td>\n",
       "      <td>30.4</td>\n",
       "      <td>2018-09-10</td>\n",
       "      <td>1</td>\n",
       "      <td>2.65</td>\n",
       "      <td>10</td>\n",
       "      <td>14.4</td>\n",
       "      <td>5</td>\n",
       "      <td>False</td>\n",
       "      <td>False</td>\n",
       "      <td>False</td>\n",
       "      <td>9.1</td>\n",
       "      <td>0.0</td>\n",
       "      <td>городской посёлок Янино-1</td>\n",
       "      <td>28774.766121</td>\n",
       "      <td>14247.655369</td>\n",
       "      <td>0</td>\n",
       "      <td>490.830729</td>\n",
       "      <td>0</td>\n",
       "      <td>518.059879</td>\n",
       "      <td>55</td>\n",
       "      <td>200694.444444</td>\n",
       "      <td>0</td>\n",
       "      <td>9</td>\n",
       "      <td>2018</td>\n",
       "      <td>Другой</td>\n",
       "      <td>0.473684</td>\n",
       "      <td>0.631944</td>\n",
       "    </tr>\n",
       "  </tbody>\n",
       "</table>\n",
       "</div>"
      ],
      "text/plain": [
       "   total_images  last_price  total_area first_day_exposition  rooms  \\\n",
       "0            20  13000000.0       108.0           2019-03-07      3   \n",
       "1             7   3350000.0        40.4           2018-12-04      1   \n",
       "2            10   5196000.0        56.0           2015-08-20      2   \n",
       "4             2  10000000.0       100.0           2018-06-19      2   \n",
       "5            10   2890000.0        30.4           2018-09-10      1   \n",
       "\n",
       "   ceiling_height  floors_total  living_area  floor  is_apartment  studio  \\\n",
       "0            2.70            20         51.0      8         False   False   \n",
       "1            2.65             7         18.6      1         False   False   \n",
       "2            2.65            10         34.3      4         False   False   \n",
       "4            3.03             2         32.0     13         False   False   \n",
       "5            2.65            10         14.4      5         False   False   \n",
       "\n",
       "   open_plan  kitchen_area  balcony              locality_name  \\\n",
       "0      False          25.0      0.0            Санкт-Петербург   \n",
       "1      False          11.0      2.0             посёлок Шушары   \n",
       "2      False           8.3      0.0            Санкт-Петербург   \n",
       "4      False          41.0      0.0            Санкт-Петербург   \n",
       "5      False           9.1      0.0  городской посёлок Янино-1   \n",
       "\n",
       "   airports_nearest  cityCenters_nearest  parks_around3000  parks_nearest  \\\n",
       "0      18863.000000         16028.000000                 1     482.000000   \n",
       "1      12817.000000         18603.000000                 0     490.830729   \n",
       "2      21741.000000         13933.000000                 1      90.000000   \n",
       "4      31856.000000          8098.000000                 2     112.000000   \n",
       "5      28774.766121         14247.655369                 0     490.830729   \n",
       "\n",
       "   ponds_around3000  ponds_nearest  days_exposition   price_for_m2  week_day  \\\n",
       "0                 2     755.000000               95  254901.960784         3   \n",
       "1                 0     518.059879               81  180107.526882         1   \n",
       "2                 2     574.000000              558  151486.880466         3   \n",
       "4                 1      48.000000              121  312500.000000         1   \n",
       "5                 0     518.059879               55  200694.444444         0   \n",
       "\n",
       "   month  year floor_position  living_area/total_area  \\\n",
       "0      3  2019         Другой                0.472222   \n",
       "1     12  2018         Первый                0.460396   \n",
       "2      8  2015         Другой                0.612500   \n",
       "4      6  2018         Другой                0.320000   \n",
       "5      9  2018         Другой                0.473684   \n",
       "\n",
       "   kitchen_area/living_area  \n",
       "0                  0.490196  \n",
       "1                  0.591398  \n",
       "2                  0.241983  \n",
       "4                  1.281250  \n",
       "5                  0.631944  "
      ]
     },
     "execution_count": 40,
     "metadata": {},
     "output_type": "execute_result"
    }
   ],
   "source": [
    "\n",
    "data['kitchen_area/living_area']=data['kitchen_area']/data['living_area'] \n",
    "data.head()"
   ]
  },
  {
   "cell_type": "markdown",
   "metadata": {},
   "source": [
    "## Исследовательский анализ данных"
   ]
  },
  {
   "cell_type": "code",
   "execution_count": 41,
   "metadata": {},
   "outputs": [
    {
     "data": {
      "text/plain": [
       "Text(0, 0.5, 'Частота')"
      ]
     },
     "execution_count": 41,
     "metadata": {},
     "output_type": "execute_result"
    },
    {
     "data": {
      "image/png": "[encoded data removed]",
      "text/plain": [
       "<Figure size 432x288 with 1 Axes>"
      ]
     },
     "metadata": {
      "needs_background": "light"
     },
     "output_type": "display_data"
    }
   ],
   "source": [
    "data['total_area'].hist(bins=100,range=(0,300))\n",
    "plt.title('Гистограмма общей площади')\n",
    "plt.xlabel('Общая площадь, кв.м')\n",
    "plt.ylabel('Частота')"
   ]
  },
  {
   "cell_type": "markdown",
   "metadata": {},
   "source": [
    "Из гистограммы видно, что чаще всего продаются квартиры 47-49 м2"
   ]
  },
  {
   "cell_type": "code",
   "execution_count": 42,
   "metadata": {},
   "outputs": [
    {
     "data": {
      "text/plain": [
       "Text(0, 0.5, 'Частота')"
      ]
     },
     "execution_count": 42,
     "metadata": {},
     "output_type": "execute_result"
    },
    {
     "data": {
      "image/png": "[encoded data removed]",
      "text/plain": [
       "<Figure size 432x288 with 1 Axes>"
      ]
     },
     "metadata": {
      "needs_background": "light"
     },
     "output_type": "display_data"
    }
   ],
   "source": [
    "data['last_price'].hist(bins=100,range=(0,30000000))\n",
    "plt.title('Гистограмма цены')\n",
    "plt.xlabel('Цена')\n",
    "plt.ylabel('Частота')"
   ]
  },
  {
   "cell_type": "code",
   "execution_count": 43,
   "metadata": {},
   "outputs": [
    {
     "data": {
      "text/plain": [
       "Text(0, 0.5, 'Частота')"
      ]
     },
     "execution_count": 43,
     "metadata": {},
     "output_type": "execute_result"
    },
    {
     "data": {
      "image/png": "[encoded data removed]",
      "text/plain": [
       "<Figure size 432x288 with 1 Axes>"
      ]
     },
     "metadata": {
      "needs_background": "light"
     },
     "output_type": "display_data"
    }
   ],
   "source": [
    "data['rooms'].hist(bins=100,range=(0,7))\n",
    "plt.title('Гистограмма комнат')\n",
    "plt.xlabel('Комнаты')\n",
    "plt.ylabel('Частота')"
   ]
  },
  {
   "cell_type": "markdown",
   "metadata": {},
   "source": [
    "Из гистограммы видно, что чаще всего продаются квартиры 1-3 комнаты"
   ]
  },
  {
   "cell_type": "code",
   "execution_count": 44,
   "metadata": {},
   "outputs": [
    {
     "data": {
      "text/plain": [
       "Text(0, 0.5, 'Частота')"
      ]
     },
     "execution_count": 44,
     "metadata": {},
     "output_type": "execute_result"
    },
    {
     "data": {
      "image/png": "[encoded data removed]",
      "text/plain": [
       "<Figure size 432x288 with 1 Axes>"
      ]
     },
     "metadata": {
      "needs_background": "light"
     },
     "output_type": "display_data"
    }
   ],
   "source": [
    "data['ceiling_height'].hist(bins=100,range=(2.3,4))\n",
    "plt.title('Гистограмма высоты потолков')\n",
    "plt.xlabel('Высота потолков')\n",
    "plt.ylabel('Частота')"
   ]
  },
  {
   "cell_type": "markdown",
   "metadata": {},
   "source": [
    "Больше всего продаж квартир с высотой потолков 2,6м"
   ]
  },
  {
   "cell_type": "code",
   "execution_count": 45,
   "metadata": {},
   "outputs": [
    {
     "data": {
      "text/plain": [
       "Text(0, 0.5, 'Частота')"
      ]
     },
     "execution_count": 45,
     "metadata": {},
     "output_type": "execute_result"
    },
    {
     "data": {
      "image/png": "[encoded data removed]",
      "text/plain": [
       "<Figure size 432x288 with 1 Axes>"
      ]
     },
     "metadata": {
      "needs_background": "light"
     },
     "output_type": "display_data"
    }
   ],
   "source": [
    "data['days_exposition'].hist(bins=30,range=(0,500))\n",
    "plt.title('Гистограмма времени продажи квартир')\n",
    "plt.xlabel('Время продажи')\n",
    "plt.ylabel('Частота')"
   ]
  },
  {
   "cell_type": "code",
   "execution_count": 46,
   "metadata": {},
   "outputs": [
    {
     "name": "stdout",
     "output_type": "stream",
     "text": [
      "Медиана: 95.0\n",
      "Среднее: 172.44262596542848\n"
     ]
    }
   ],
   "source": [
    "print('Медиана:',data['days_exposition'].median())\n",
    "print('Среднее:',data['days_exposition'].mean())"
   ]
  },
  {
   "cell_type": "code",
   "execution_count": 47,
   "metadata": {},
   "outputs": [
    {
     "data": {
      "text/plain": [
       "<matplotlib.axes._subplots.AxesSubplot at 0x7f3c2376f090>"
      ]
     },
     "execution_count": 47,
     "metadata": {},
     "output_type": "execute_result"
    },
    {
     "data": {
      "image/png": "[encoded data removed]",
      "text/plain": [
       "<Figure size 432x288 with 1 Axes>"
      ]
     },
     "metadata": {
      "needs_background": "light"
     },
     "output_type": "display_data"
    }
   ],
   "source": [
    "plt.ylim(0,600)\n",
    "data.boxplot(column='days_exposition') "
   ]
  },
  {
   "cell_type": "markdown",
   "metadata": {},
   "source": [
    "Получается, что среднее время продажи квартиры, 95 дней. Большая часть значений лежит за пределом в 420 дней(примерно).\n",
    "Можно считать, что самая быстрая продажа-это 1 день. Самая долгая продажа-это 420 дней. Большая часть лежит за пределами\n",
    "1,5 межквартильного интервала"
   ]
  },
  {
   "cell_type": "markdown",
   "metadata": {},
   "source": [
    "Уберем значения, находящиеся за этим интервалом"
   ]
  },
  {
   "cell_type": "code",
   "execution_count": 48,
   "metadata": {},
   "outputs": [],
   "source": [
    "true_days_exposition_date=data.query('days_exposition<420')"
   ]
  },
  {
   "cell_type": "code",
   "execution_count": 49,
   "metadata": {},
   "outputs": [
    {
     "data": {
      "text/plain": [
       "Text(0, 0.5, 'Частота')"
      ]
     },
     "execution_count": 49,
     "metadata": {},
     "output_type": "execute_result"
    },
    {
     "data": {
      "image/png": "[encoded data removed]",
      "text/plain": [
       "<Figure size 432x288 with 1 Axes>"
      ]
     },
     "metadata": {
      "needs_background": "light"
     },
     "output_type": "display_data"
    }
   ],
   "source": [
    "true_days_exposition_date['days_exposition'].hist(bins=50,range=(0,500))\n",
    "plt.title('Гистограмма времени продажи квартир')\n",
    "plt.xlabel('Время продажи')\n",
    "plt.ylabel('Частота')"
   ]
  },
  {
   "cell_type": "markdown",
   "metadata": {},
   "source": [
    "Наблюдается 4 пика. Самый большое в 95 дней. И примерно одинаковые пики в 10, 40 и 60 дней."
   ]
  },
  {
   "cell_type": "code",
   "execution_count": 50,
   "metadata": {},
   "outputs": [
    {
     "name": "stdout",
     "output_type": "stream",
     "text": [
      "Медиана: 4650000.0\n",
      "Среднее: 6501327.275698787\n",
      "Максимум 763000000.0\n",
      "Минимум 12190.0\n"
     ]
    }
   ],
   "source": [
    "print('Медиана:',data['last_price'].median())\n",
    "print('Среднее:',data['last_price'].mean())\n",
    "print('Максимум', data['last_price'].max())\n",
    "print('Минимум', data['last_price'].min())"
   ]
  },
  {
   "cell_type": "code",
   "execution_count": 51,
   "metadata": {},
   "outputs": [
    {
     "data": {
      "text/plain": [
       "<matplotlib.axes._subplots.AxesSubplot at 0x7f3c1b26ee50>"
      ]
     },
     "execution_count": 51,
     "metadata": {},
     "output_type": "execute_result"
    },
    {
     "data": {
      "image/png": "[encoded data removed]",
      "text/plain": [
       "<Figure size 432x288 with 1 Axes>"
      ]
     },
     "metadata": {
      "needs_background": "light"
     },
     "output_type": "display_data"
    }
   ],
   "source": [
    "plt.ylim(100000,15000000)\n",
    "true_days_exposition_date.boxplot(column='last_price')"
   ]
  },
  {
   "cell_type": "markdown",
   "metadata": {},
   "source": [
    "В выбросы попадают квартиры стоимостью выше 11 млн. Их уберу."
   ]
  },
  {
   "cell_type": "code",
   "execution_count": 52,
   "metadata": {},
   "outputs": [],
   "source": [
    "true_days_exposition_date=true_days_exposition_date.query('last_price<11000000')\n"
   ]
  },
  {
   "cell_type": "code",
   "execution_count": 53,
   "metadata": {},
   "outputs": [
    {
     "name": "stdout",
     "output_type": "stream",
     "text": [
      "Медиана: 2.65\n",
      "Среднее: 2.727450809121\n",
      "Максимум 100.0\n",
      "Минимум 1.0\n"
     ]
    },
    {
     "data": {
      "image/png": "[encoded data removed]",
      "text/plain": [
       "<Figure size 432x288 with 1 Axes>"
      ]
     },
     "metadata": {
      "needs_background": "light"
     },
     "output_type": "display_data"
    }
   ],
   "source": [
    "plt.ylim(0,5)\n",
    "true_days_exposition_date.boxplot(column='ceiling_height')\n",
    "print('Медиана:',data['ceiling_height'].median())\n",
    "print('Среднее:',data['ceiling_height'].mean())\n",
    "print('Максимум', data['ceiling_height'].max())\n",
    "print('Минимум', data['ceiling_height'].min())"
   ]
  },
  {
   "cell_type": "markdown",
   "metadata": {},
   "source": [
    "В высоте потолков наблюдается аномалия начиная примерно с 3-х метров. И меньше 2,4 метров. Их можно убрать"
   ]
  },
  {
   "cell_type": "code",
   "execution_count": 54,
   "metadata": {},
   "outputs": [],
   "source": [
    "true_days_exposition_date=data.query('2.4<ceiling_height<3')"
   ]
  },
  {
   "cell_type": "markdown",
   "metadata": {},
   "source": [
    "Аномалии в высоте потолков убрали"
   ]
  },
  {
   "cell_type": "code",
   "execution_count": 55,
   "metadata": {},
   "outputs": [
    {
     "name": "stdout",
     "output_type": "stream",
     "text": [
      "Медиана: 2.65\n",
      "Среднее: 2.727450809121\n",
      "Максимум 100.0\n",
      "Минимум 1.0\n"
     ]
    },
    {
     "data": {
      "image/png": "[encoded data removed]",
      "text/plain": [
       "<Figure size 432x288 with 1 Axes>"
      ]
     },
     "metadata": {
      "needs_background": "light"
     },
     "output_type": "display_data"
    }
   ],
   "source": [
    "plt.ylim(0,30)\n",
    "true_days_exposition_date.boxplot(column='rooms')\n",
    "print('Медиана:',data['ceiling_height'].median())\n",
    "print('Среднее:',data['ceiling_height'].mean())\n",
    "print('Максимум', data['ceiling_height'].max())\n",
    "print('Минимум', data['ceiling_height'].min())"
   ]
  },
  {
   "cell_type": "code",
   "execution_count": 56,
   "metadata": {},
   "outputs": [],
   "source": [
    "true_days_exposition_date=data.query('rooms<6')"
   ]
  },
  {
   "cell_type": "markdown",
   "metadata": {},
   "source": [
    "Так же убрали аномалии в столбце с комнатами. Больше 6 комнат"
   ]
  },
  {
   "cell_type": "code",
   "execution_count": 57,
   "metadata": {},
   "outputs": [
    {
     "name": "stdout",
     "output_type": "stream",
     "text": [
      "Коэффициент корреляции = 0.6697762920988798\n"
     ]
    },
    {
     "data": {
      "text/plain": [
       "Text(0, 0.5, 'Площадь')"
      ]
     },
     "execution_count": 57,
     "metadata": {},
     "output_type": "execute_result"
    },
    {
     "data": {
      "image/png": "[encoded data removed]",
      "text/plain": [
       "<Figure size 2160x360 with 1 Axes>"
      ]
     },
     "metadata": {
      "needs_background": "light"
     },
     "output_type": "display_data"
    }
   ],
   "source": [
    "(true_days_exposition_date.sort_values(by='last_price',ascending=True).plot(x='last_price',y='total_area',grid=True, style='o-',figsize=(30,5)))\n",
    "print('Коэффициент корреляции =' ,true_days_exposition_date['last_price'].corr(true_days_exposition_date['total_area']))\n",
    "plt.title('Зависимость цены от площади')\n",
    "plt.xlabel('цена')\n",
    "plt.ylabel('Площадь')"
   ]
  },
  {
   "cell_type": "markdown",
   "metadata": {},
   "source": [
    "Чем больше площадь, тем больше стоимость квартиры. Коэф Пирсона 0,68. Эти величины сильно зависят друг от друга. Карреляция\n",
    "положительная"
   ]
  },
  {
   "cell_type": "code",
   "execution_count": 58,
   "metadata": {},
   "outputs": [
    {
     "name": "stdout",
     "output_type": "stream",
     "text": [
      "Коэффициент корреляции = 0.35222824142800163\n"
     ]
    },
    {
     "data": {
      "text/plain": [
       "Text(0, 0.5, 'Цена')"
      ]
     },
     "execution_count": 58,
     "metadata": {},
     "output_type": "execute_result"
    },
    {
     "data": {
      "image/png": "[encoded data removed]",
      "text/plain": [
       "<Figure size 1080x576 with 1 Axes>"
      ]
     },
     "metadata": {
      "needs_background": "light"
     },
     "output_type": "display_data"
    }
   ],
   "source": [
    "(true_days_exposition_date.groupby('rooms')['last_price'].median().plot(x='rooms',y='last_price',style='o-',grid=True,figsize=(15,8)))\n",
    "\n",
    "print('Коэффициент корреляции =',true_days_exposition_date['last_price'].corr(true_days_exposition_date[\"rooms\"])) \n",
    "plt.title('Зависимость цены от количества комнат')\n",
    "plt.xlabel('Количество комнат')\n",
    "plt.ylabel('Цена')"
   ]
  },
  {
   "cell_type": "markdown",
   "metadata": {},
   "source": [
    "Коэф Пирсона почти 0,45.Высокая положительная корреляция. 2 величины зависят друг от друга. Чем больше кол-во комнат, тем \n",
    "больше стоимость."
   ]
  },
  {
   "cell_type": "code",
   "execution_count": 59,
   "metadata": {},
   "outputs": [
    {
     "data": {
      "image/png": "[encoded data removed]",
      "text/plain": [
       "<Figure size 432x288 with 1 Axes>"
      ]
     },
     "metadata": {
      "needs_background": "light"
     },
     "output_type": "display_data"
    },
    {
     "name": "stdout",
     "output_type": "stream",
     "text": [
      "Коэффициент корреляции = 0.03126586505249674\n"
     ]
    }
   ],
   "source": [
    "(true_days_exposition_date.groupby('floor_position')['last_price'].median().plot(x='floor_position',y='last_price',kind='bar'))\n",
    "plt.title('Зависимость цены этажа')\n",
    "plt.xlabel('Этаж')\n",
    "plt.ylabel('Цена')\n",
    "plt.show()\n",
    "print('Коэффициент корреляции =',true_days_exposition_date['floor'].corr(true_days_exposition_date['last_price']))\n"
   ]
  },
  {
   "cell_type": "markdown",
   "metadata": {},
   "source": [
    "Коэф Пирсона 0,14. Величины не очень зависят друг от друга. Корреляция положительная. И по графику видно что Этаж почти\n",
    "не влияет на цену."
   ]
  },
  {
   "cell_type": "code",
   "execution_count": 60,
   "metadata": {
    "scrolled": false
   },
   "outputs": [
    {
     "data": {
      "image/png": "[encoded data removed]",
      "text/plain": [
       "<Figure size 432x288 with 1 Axes>"
      ]
     },
     "metadata": {
      "needs_background": "light"
     },
     "output_type": "display_data"
    },
    {
     "data": {
      "image/png": "[encoded data removed]",
      "text/plain": [
       "<Figure size 432x288 with 1 Axes>"
      ]
     },
     "metadata": {
      "needs_background": "light"
     },
     "output_type": "display_data"
    },
    {
     "data": {
      "text/plain": [
       "Text(0, 0.5, 'Цена')"
      ]
     },
     "execution_count": 60,
     "metadata": {},
     "output_type": "execute_result"
    },
    {
     "data": {
      "image/png": "[encoded data removed]",
      "text/plain": [
       "<Figure size 432x288 with 1 Axes>"
      ]
     },
     "metadata": {
      "needs_background": "light"
     },
     "output_type": "display_data"
    }
   ],
   "source": [
    "(true_days_exposition_date.groupby('week_day')['last_price'].count().plot(x='week_day',y='last_price',kind='bar'))\n",
    "plt.title('Зависимость цены от дня недели')\n",
    "plt.xlabel('День недели')\n",
    "plt.ylabel('Цена')\n",
    "plt.show()\n",
    "(true_days_exposition_date.groupby('month')['last_price'].count().plot(x='month',y='last_price',kind='bar'))\n",
    "plt.title('Зависимость цены от месяца')\n",
    "plt.xlabel('Месяц')\n",
    "plt.ylabel('Цена')\n",
    "plt.show()\n",
    "(true_days_exposition_date.groupby('year')['last_price'].count().plot(x='year',y='last_price',kind='bar'))\n",
    "plt.title('Зависимость цены года')\n",
    "plt.xlabel('Год')\n",
    "plt.ylabel('Цена')\n"
   ]
  },
  {
   "cell_type": "markdown",
   "metadata": {},
   "source": [
    "Из гистограмм видно:\n",
    "    1. Меньше всего продаж в выходные. Логично. Люди отдыхают. В остальные дни примерно одинаково\n",
    "    2. Меньше всего продаж в декабре, январе и мае. Тоже логично. В декабре, люди деньги тратят на подарки, в январе и мае\n",
    "    много праздников и люди отдыхают.\n",
    "    3. Больше всего продаж было в 2017 и 2018 году. Ну... пусть будет так :)"
   ]
  },
  {
   "cell_type": "code",
   "execution_count": 61,
   "metadata": {},
   "outputs": [
    {
     "data": {
      "text/html": [
       "<div>\n",
       "<style scoped>\n",
       "    .dataframe tbody tr th:only-of-type {\n",
       "        vertical-align: middle;\n",
       "    }\n",
       "\n",
       "    .dataframe tbody tr th {\n",
       "        vertical-align: top;\n",
       "    }\n",
       "\n",
       "    .dataframe thead th {\n",
       "        text-align: right;\n",
       "    }\n",
       "</style>\n",
       "<table border=\"1\" class=\"dataframe\">\n",
       "  <thead>\n",
       "    <tr style=\"text-align: right;\">\n",
       "      <th></th>\n",
       "      <th>count</th>\n",
       "      <th>median</th>\n",
       "    </tr>\n",
       "    <tr>\n",
       "      <th>locality_name</th>\n",
       "      <th></th>\n",
       "      <th></th>\n",
       "    </tr>\n",
       "  </thead>\n",
       "  <tbody>\n",
       "    <tr>\n",
       "      <td>Санкт-Петербург</td>\n",
       "      <td>14407</td>\n",
       "      <td>189349.112426</td>\n",
       "    </tr>\n",
       "    <tr>\n",
       "      <td>посёлок Мурино</td>\n",
       "      <td>461</td>\n",
       "      <td>172222.222222</td>\n",
       "    </tr>\n",
       "    <tr>\n",
       "      <td>посёлок Шушары</td>\n",
       "      <td>404</td>\n",
       "      <td>144803.591470</td>\n",
       "    </tr>\n",
       "    <tr>\n",
       "      <td>Всеволожск</td>\n",
       "      <td>371</td>\n",
       "      <td>124137.931034</td>\n",
       "    </tr>\n",
       "    <tr>\n",
       "      <td>Пушкин</td>\n",
       "      <td>342</td>\n",
       "      <td>182028.875380</td>\n",
       "    </tr>\n",
       "    <tr>\n",
       "      <td>Колпино</td>\n",
       "      <td>327</td>\n",
       "      <td>125581.395349</td>\n",
       "    </tr>\n",
       "    <tr>\n",
       "      <td>посёлок Парголово</td>\n",
       "      <td>301</td>\n",
       "      <td>199500.000000</td>\n",
       "    </tr>\n",
       "    <tr>\n",
       "      <td>Гатчина</td>\n",
       "      <td>292</td>\n",
       "      <td>116719.745223</td>\n",
       "    </tr>\n",
       "    <tr>\n",
       "      <td>деревня Кудрово</td>\n",
       "      <td>262</td>\n",
       "      <td>185655.696311</td>\n",
       "    </tr>\n",
       "    <tr>\n",
       "      <td>Петергоф</td>\n",
       "      <td>197</td>\n",
       "      <td>140957.446809</td>\n",
       "    </tr>\n",
       "  </tbody>\n",
       "</table>\n",
       "</div>"
      ],
      "text/plain": [
       "                   count         median\n",
       "locality_name                          \n",
       "Санкт-Петербург    14407  189349.112426\n",
       "посёлок Мурино       461  172222.222222\n",
       "посёлок Шушары       404  144803.591470\n",
       "Всеволожск           371  124137.931034\n",
       "Пушкин               342  182028.875380\n",
       "Колпино              327  125581.395349\n",
       "посёлок Парголово    301  199500.000000\n",
       "Гатчина              292  116719.745223\n",
       "деревня Кудрово      262  185655.696311\n",
       "Петергоф             197  140957.446809"
      ]
     },
     "execution_count": 61,
     "metadata": {},
     "output_type": "execute_result"
    }
   ],
   "source": [
    "raiting_of_location=true_days_exposition_date.pivot_table(index='locality_name',values='price_for_m2',aggfunc=('count','median'))\n",
    "raiting_of_location.sort_values(by='count',ascending=False).head(10)"
   ]
  },
  {
   "cell_type": "markdown",
   "metadata": {},
   "source": [
    "В Питере больше всего объявлений. И выше всего цена 1 м2"
   ]
  },
  {
   "cell_type": "markdown",
   "metadata": {},
   "source": [
    "Добавим в таблицу столбец с расстоянием до центра в км"
   ]
  },
  {
   "cell_type": "code",
   "execution_count": 79,
   "metadata": {},
   "outputs": [
    {
     "name": "stderr",
     "output_type": "stream",
     "text": [
      "/opt/conda/lib/python3.7/site-packages/ipykernel_launcher.py:1: SettingWithCopyWarning: \n",
      "A value is trying to be set on a copy of a slice from a DataFrame.\n",
      "Try using .loc[row_indexer,col_indexer] = value instead\n",
      "\n",
      "See the caveats in the documentation: http://pandas.pydata.org/pandas-docs/stable/user_guide/indexing.html#returning-a-view-versus-a-copy\n",
      "  \"\"\"Entry point for launching an IPython kernel.\n"
     ]
    }
   ],
   "source": [
    "true_days_exposition_date['cityCenters_nearest_in_km']=true_days_exposition_date['cityCenters_nearest']/1000"
   ]
  },
  {
   "cell_type": "markdown",
   "metadata": {},
   "source": [
    "Посчитаем стоимость 1 км"
   ]
  },
  {
   "cell_type": "code",
   "execution_count": 63,
   "metadata": {},
   "outputs": [
    {
     "name": "stderr",
     "output_type": "stream",
     "text": [
      "/opt/conda/lib/python3.7/site-packages/ipykernel_launcher.py:1: SettingWithCopyWarning: \n",
      "A value is trying to be set on a copy of a slice from a DataFrame.\n",
      "Try using .loc[row_indexer,col_indexer] = value instead\n",
      "\n",
      "See the caveats in the documentation: http://pandas.pydata.org/pandas-docs/stable/user_guide/indexing.html#returning-a-view-versus-a-copy\n",
      "  \"\"\"Entry point for launching an IPython kernel.\n"
     ]
    }
   ],
   "source": [
    "true_days_exposition_date['cost_of_km']=true_days_exposition_date['last_price']/true_days_exposition_date['cityCenters_nearest_in_km']"
   ]
  },
  {
   "cell_type": "markdown",
   "metadata": {},
   "source": [
    "Выделим только Питер"
   ]
  },
  {
   "cell_type": "code",
   "execution_count": 64,
   "metadata": {},
   "outputs": [
    {
     "data": {
      "text/html": [
       "<div>\n",
       "<style scoped>\n",
       "    .dataframe tbody tr th:only-of-type {\n",
       "        vertical-align: middle;\n",
       "    }\n",
       "\n",
       "    .dataframe tbody tr th {\n",
       "        vertical-align: top;\n",
       "    }\n",
       "\n",
       "    .dataframe thead th {\n",
       "        text-align: right;\n",
       "    }\n",
       "</style>\n",
       "<table border=\"1\" class=\"dataframe\">\n",
       "  <thead>\n",
       "    <tr style=\"text-align: right;\">\n",
       "      <th></th>\n",
       "      <th>total_images</th>\n",
       "      <th>last_price</th>\n",
       "      <th>total_area</th>\n",
       "      <th>first_day_exposition</th>\n",
       "      <th>rooms</th>\n",
       "      <th>ceiling_height</th>\n",
       "      <th>floors_total</th>\n",
       "      <th>living_area</th>\n",
       "      <th>floor</th>\n",
       "      <th>is_apartment</th>\n",
       "      <th>studio</th>\n",
       "      <th>open_plan</th>\n",
       "      <th>kitchen_area</th>\n",
       "      <th>balcony</th>\n",
       "      <th>locality_name</th>\n",
       "      <th>airports_nearest</th>\n",
       "      <th>cityCenters_nearest</th>\n",
       "      <th>parks_around3000</th>\n",
       "      <th>parks_nearest</th>\n",
       "      <th>ponds_around3000</th>\n",
       "      <th>ponds_nearest</th>\n",
       "      <th>days_exposition</th>\n",
       "      <th>price_for_m2</th>\n",
       "      <th>week_day</th>\n",
       "      <th>month</th>\n",
       "      <th>year</th>\n",
       "      <th>floor_position</th>\n",
       "      <th>living_area/total_area</th>\n",
       "      <th>kitchen_area/living_area</th>\n",
       "      <th>cityCenters_nearest_in_km</th>\n",
       "      <th>cost_of_km</th>\n",
       "    </tr>\n",
       "  </thead>\n",
       "  <tbody>\n",
       "    <tr>\n",
       "      <td>0</td>\n",
       "      <td>20</td>\n",
       "      <td>13000000.0</td>\n",
       "      <td>108.0</td>\n",
       "      <td>2019-03-07</td>\n",
       "      <td>3</td>\n",
       "      <td>2.70</td>\n",
       "      <td>20</td>\n",
       "      <td>51.0</td>\n",
       "      <td>8</td>\n",
       "      <td>False</td>\n",
       "      <td>False</td>\n",
       "      <td>False</td>\n",
       "      <td>25.0</td>\n",
       "      <td>0.0</td>\n",
       "      <td>Санкт-Петербург</td>\n",
       "      <td>18863.0</td>\n",
       "      <td>16028.0</td>\n",
       "      <td>1</td>\n",
       "      <td>482.000000</td>\n",
       "      <td>2</td>\n",
       "      <td>755.000000</td>\n",
       "      <td>95</td>\n",
       "      <td>254901.960784</td>\n",
       "      <td>3</td>\n",
       "      <td>3</td>\n",
       "      <td>2019</td>\n",
       "      <td>Другой</td>\n",
       "      <td>0.472222</td>\n",
       "      <td>0.490196</td>\n",
       "      <td>16.028</td>\n",
       "      <td>8.110806e+05</td>\n",
       "    </tr>\n",
       "    <tr>\n",
       "      <td>2</td>\n",
       "      <td>10</td>\n",
       "      <td>5196000.0</td>\n",
       "      <td>56.0</td>\n",
       "      <td>2015-08-20</td>\n",
       "      <td>2</td>\n",
       "      <td>2.65</td>\n",
       "      <td>10</td>\n",
       "      <td>34.3</td>\n",
       "      <td>4</td>\n",
       "      <td>False</td>\n",
       "      <td>False</td>\n",
       "      <td>False</td>\n",
       "      <td>8.3</td>\n",
       "      <td>0.0</td>\n",
       "      <td>Санкт-Петербург</td>\n",
       "      <td>21741.0</td>\n",
       "      <td>13933.0</td>\n",
       "      <td>1</td>\n",
       "      <td>90.000000</td>\n",
       "      <td>2</td>\n",
       "      <td>574.000000</td>\n",
       "      <td>558</td>\n",
       "      <td>151486.880466</td>\n",
       "      <td>3</td>\n",
       "      <td>8</td>\n",
       "      <td>2015</td>\n",
       "      <td>Другой</td>\n",
       "      <td>0.612500</td>\n",
       "      <td>0.241983</td>\n",
       "      <td>13.933</td>\n",
       "      <td>3.729276e+05</td>\n",
       "    </tr>\n",
       "    <tr>\n",
       "      <td>4</td>\n",
       "      <td>2</td>\n",
       "      <td>10000000.0</td>\n",
       "      <td>100.0</td>\n",
       "      <td>2018-06-19</td>\n",
       "      <td>2</td>\n",
       "      <td>3.03</td>\n",
       "      <td>2</td>\n",
       "      <td>32.0</td>\n",
       "      <td>13</td>\n",
       "      <td>False</td>\n",
       "      <td>False</td>\n",
       "      <td>False</td>\n",
       "      <td>41.0</td>\n",
       "      <td>0.0</td>\n",
       "      <td>Санкт-Петербург</td>\n",
       "      <td>31856.0</td>\n",
       "      <td>8098.0</td>\n",
       "      <td>2</td>\n",
       "      <td>112.000000</td>\n",
       "      <td>1</td>\n",
       "      <td>48.000000</td>\n",
       "      <td>121</td>\n",
       "      <td>312500.000000</td>\n",
       "      <td>1</td>\n",
       "      <td>6</td>\n",
       "      <td>2018</td>\n",
       "      <td>Другой</td>\n",
       "      <td>0.320000</td>\n",
       "      <td>1.281250</td>\n",
       "      <td>8.098</td>\n",
       "      <td>1.234873e+06</td>\n",
       "    </tr>\n",
       "    <tr>\n",
       "      <td>9</td>\n",
       "      <td>18</td>\n",
       "      <td>5400000.0</td>\n",
       "      <td>61.0</td>\n",
       "      <td>2017-02-26</td>\n",
       "      <td>3</td>\n",
       "      <td>2.50</td>\n",
       "      <td>18</td>\n",
       "      <td>43.6</td>\n",
       "      <td>7</td>\n",
       "      <td>False</td>\n",
       "      <td>False</td>\n",
       "      <td>False</td>\n",
       "      <td>6.5</td>\n",
       "      <td>2.0</td>\n",
       "      <td>Санкт-Петербург</td>\n",
       "      <td>50898.0</td>\n",
       "      <td>15008.0</td>\n",
       "      <td>0</td>\n",
       "      <td>490.830729</td>\n",
       "      <td>0</td>\n",
       "      <td>518.059879</td>\n",
       "      <td>289</td>\n",
       "      <td>123853.211009</td>\n",
       "      <td>6</td>\n",
       "      <td>2</td>\n",
       "      <td>2017</td>\n",
       "      <td>Другой</td>\n",
       "      <td>0.714754</td>\n",
       "      <td>0.149083</td>\n",
       "      <td>15.008</td>\n",
       "      <td>3.598081e+05</td>\n",
       "    </tr>\n",
       "    <tr>\n",
       "      <td>10</td>\n",
       "      <td>5</td>\n",
       "      <td>5050000.0</td>\n",
       "      <td>39.6</td>\n",
       "      <td>2017-11-16</td>\n",
       "      <td>1</td>\n",
       "      <td>2.67</td>\n",
       "      <td>5</td>\n",
       "      <td>20.3</td>\n",
       "      <td>3</td>\n",
       "      <td>False</td>\n",
       "      <td>False</td>\n",
       "      <td>False</td>\n",
       "      <td>8.5</td>\n",
       "      <td>0.0</td>\n",
       "      <td>Санкт-Петербург</td>\n",
       "      <td>38357.0</td>\n",
       "      <td>13878.0</td>\n",
       "      <td>1</td>\n",
       "      <td>310.000000</td>\n",
       "      <td>2</td>\n",
       "      <td>553.000000</td>\n",
       "      <td>137</td>\n",
       "      <td>248768.472906</td>\n",
       "      <td>3</td>\n",
       "      <td>11</td>\n",
       "      <td>2017</td>\n",
       "      <td>Другой</td>\n",
       "      <td>0.512626</td>\n",
       "      <td>0.418719</td>\n",
       "      <td>13.878</td>\n",
       "      <td>3.638853e+05</td>\n",
       "    </tr>\n",
       "  </tbody>\n",
       "</table>\n",
       "</div>"
      ],
      "text/plain": [
       "    total_images  last_price  total_area first_day_exposition  rooms  \\\n",
       "0             20  13000000.0       108.0           2019-03-07      3   \n",
       "2             10   5196000.0        56.0           2015-08-20      2   \n",
       "4              2  10000000.0       100.0           2018-06-19      2   \n",
       "9             18   5400000.0        61.0           2017-02-26      3   \n",
       "10             5   5050000.0        39.6           2017-11-16      1   \n",
       "\n",
       "    ceiling_height  floors_total  living_area  floor  is_apartment  studio  \\\n",
       "0             2.70            20         51.0      8         False   False   \n",
       "2             2.65            10         34.3      4         False   False   \n",
       "4             3.03             2         32.0     13         False   False   \n",
       "9             2.50            18         43.6      7         False   False   \n",
       "10            2.67             5         20.3      3         False   False   \n",
       "\n",
       "    open_plan  kitchen_area  balcony    locality_name  airports_nearest  \\\n",
       "0       False          25.0      0.0  Санкт-Петербург           18863.0   \n",
       "2       False           8.3      0.0  Санкт-Петербург           21741.0   \n",
       "4       False          41.0      0.0  Санкт-Петербург           31856.0   \n",
       "9       False           6.5      2.0  Санкт-Петербург           50898.0   \n",
       "10      False           8.5      0.0  Санкт-Петербург           38357.0   \n",
       "\n",
       "    cityCenters_nearest  parks_around3000  parks_nearest  ponds_around3000  \\\n",
       "0               16028.0                 1     482.000000                 2   \n",
       "2               13933.0                 1      90.000000                 2   \n",
       "4                8098.0                 2     112.000000                 1   \n",
       "9               15008.0                 0     490.830729                 0   \n",
       "10              13878.0                 1     310.000000                 2   \n",
       "\n",
       "    ponds_nearest  days_exposition   price_for_m2  week_day  month  year  \\\n",
       "0      755.000000               95  254901.960784         3      3  2019   \n",
       "2      574.000000              558  151486.880466         3      8  2015   \n",
       "4       48.000000              121  312500.000000         1      6  2018   \n",
       "9      518.059879              289  123853.211009         6      2  2017   \n",
       "10     553.000000              137  248768.472906         3     11  2017   \n",
       "\n",
       "   floor_position  living_area/total_area  kitchen_area/living_area  \\\n",
       "0          Другой                0.472222                  0.490196   \n",
       "2          Другой                0.612500                  0.241983   \n",
       "4          Другой                0.320000                  1.281250   \n",
       "9          Другой                0.714754                  0.149083   \n",
       "10         Другой                0.512626                  0.418719   \n",
       "\n",
       "    cityCenters_nearest_in_km    cost_of_km  \n",
       "0                      16.028  8.110806e+05  \n",
       "2                      13.933  3.729276e+05  \n",
       "4                       8.098  1.234873e+06  \n",
       "9                      15.008  3.598081e+05  \n",
       "10                     13.878  3.638853e+05  "
      ]
     },
     "execution_count": 64,
     "metadata": {},
     "output_type": "execute_result"
    }
   ],
   "source": [
    "spb=true_days_exposition_date.query('locality_name==\"Санкт-Петербург\"')\n",
    "spb.head()"
   ]
  },
  {
   "cell_type": "code",
   "execution_count": 65,
   "metadata": {},
   "outputs": [
    {
     "data": {
      "text/plain": [
       "Text(0, 0.5, 'Стоимость м2')"
      ]
     },
     "execution_count": 65,
     "metadata": {},
     "output_type": "execute_result"
    },
    {
     "data": {
      "image/png": "[encoded data removed]",
      "text/plain": [
       "<Figure size 1080x360 with 1 Axes>"
      ]
     },
     "metadata": {
      "needs_background": "light"
     },
     "output_type": "display_data"
    }
   ],
   "source": [
    "(spb.sort_values(by='cityCenters_nearest_in_km',ascending=True).plot(x='cityCenters_nearest_in_km',y='cost_of_km', style='o-',figsize=(15,5)))\n",
    "plt.title('Зависимость стоимость м2 от расстояния до центра')\n",
    "plt.xlabel('Расстояние до центра')\n",
    "plt.ylabel('Стоимость м2')"
   ]
  },
  {
   "cell_type": "code",
   "execution_count": 66,
   "metadata": {},
   "outputs": [
    {
     "data": {
      "image/png": "[encoded data removed]",
      "text/plain": [
       "<Figure size 1080x216 with 1 Axes>"
      ]
     },
     "metadata": {
      "needs_background": "light"
     },
     "output_type": "display_data"
    }
   ],
   "source": [
    "data['center_km'] = data['cityCenters_nearest'] //1000\n",
    "report = (data.query('locality_name==\"Санкт-Петербург\"').groupby('center_km').agg({'price_for_m2':'mean'}).rename(columns = {'price_for_m2': 'Средняя цена м2'}))\n",
    "report['Средняя цена м2'].plot(grid = True, figsize = (15,3))\n",
    "plt.show()"
   ]
  },
  {
   "cell_type": "markdown",
   "metadata": {},
   "source": [
    "Видно, что после 5 км график почти не меняется. Значит расстояние меньше 5 км можно считать центром."
   ]
  },
  {
   "cell_type": "markdown",
   "metadata": {},
   "source": [
    "Выделим только квартиры в центре"
   ]
  },
  {
   "cell_type": "code",
   "execution_count": 67,
   "metadata": {},
   "outputs": [
    {
     "data": {
      "text/plain": [
       "1818"
      ]
     },
     "execution_count": 67,
     "metadata": {},
     "output_type": "execute_result"
    }
   ],
   "source": [
    "spb=spb.query('cityCenters_nearest_in_km<5')\n",
    "#Количество квартир в центре\n",
    "len(spb)"
   ]
  },
  {
   "cell_type": "markdown",
   "metadata": {},
   "source": [
    "Выделим самые самые квартиры в центре Питера"
   ]
  },
  {
   "cell_type": "code",
   "execution_count": 68,
   "metadata": {},
   "outputs": [
    {
     "data": {
      "text/html": [
       "<div>\n",
       "<style scoped>\n",
       "    .dataframe tbody tr th:only-of-type {\n",
       "        vertical-align: middle;\n",
       "    }\n",
       "\n",
       "    .dataframe tbody tr th {\n",
       "        vertical-align: top;\n",
       "    }\n",
       "\n",
       "    .dataframe thead th {\n",
       "        text-align: right;\n",
       "    }\n",
       "</style>\n",
       "<table border=\"1\" class=\"dataframe\">\n",
       "  <thead>\n",
       "    <tr style=\"text-align: right;\">\n",
       "      <th></th>\n",
       "      <th>total_images</th>\n",
       "      <th>last_price</th>\n",
       "      <th>total_area</th>\n",
       "      <th>first_day_exposition</th>\n",
       "      <th>rooms</th>\n",
       "      <th>ceiling_height</th>\n",
       "      <th>floors_total</th>\n",
       "      <th>living_area</th>\n",
       "      <th>floor</th>\n",
       "      <th>is_apartment</th>\n",
       "      <th>studio</th>\n",
       "      <th>open_plan</th>\n",
       "      <th>kitchen_area</th>\n",
       "      <th>balcony</th>\n",
       "      <th>locality_name</th>\n",
       "      <th>airports_nearest</th>\n",
       "      <th>cityCenters_nearest</th>\n",
       "      <th>parks_around3000</th>\n",
       "      <th>parks_nearest</th>\n",
       "      <th>ponds_around3000</th>\n",
       "      <th>ponds_nearest</th>\n",
       "      <th>days_exposition</th>\n",
       "      <th>price_for_m2</th>\n",
       "      <th>week_day</th>\n",
       "      <th>month</th>\n",
       "      <th>year</th>\n",
       "      <th>floor_position</th>\n",
       "      <th>living_area/total_area</th>\n",
       "      <th>kitchen_area/living_area</th>\n",
       "      <th>cityCenters_nearest_in_km</th>\n",
       "      <th>cost_of_km</th>\n",
       "    </tr>\n",
       "  </thead>\n",
       "  <tbody>\n",
       "    <tr>\n",
       "      <td>24</td>\n",
       "      <td>8</td>\n",
       "      <td>6500000.0</td>\n",
       "      <td>97.2</td>\n",
       "      <td>2015-10-31</td>\n",
       "      <td>2</td>\n",
       "      <td>2.65</td>\n",
       "      <td>8</td>\n",
       "      <td>46.5</td>\n",
       "      <td>1</td>\n",
       "      <td>False</td>\n",
       "      <td>False</td>\n",
       "      <td>False</td>\n",
       "      <td>19.6</td>\n",
       "      <td>0.0</td>\n",
       "      <td>Санкт-Петербург</td>\n",
       "      <td>20052.0</td>\n",
       "      <td>2336.0</td>\n",
       "      <td>3</td>\n",
       "      <td>411.000000</td>\n",
       "      <td>3</td>\n",
       "      <td>124.000000</td>\n",
       "      <td>265</td>\n",
       "      <td>139784.946237</td>\n",
       "      <td>5</td>\n",
       "      <td>10</td>\n",
       "      <td>2015</td>\n",
       "      <td>Первый</td>\n",
       "      <td>0.478395</td>\n",
       "      <td>0.421505</td>\n",
       "      <td>2.336</td>\n",
       "      <td>2.782534e+06</td>\n",
       "    </tr>\n",
       "    <tr>\n",
       "      <td>35</td>\n",
       "      <td>6</td>\n",
       "      <td>15500000.0</td>\n",
       "      <td>149.0</td>\n",
       "      <td>2017-06-26</td>\n",
       "      <td>5</td>\n",
       "      <td>2.65</td>\n",
       "      <td>6</td>\n",
       "      <td>104.0</td>\n",
       "      <td>4</td>\n",
       "      <td>False</td>\n",
       "      <td>False</td>\n",
       "      <td>False</td>\n",
       "      <td>17.0</td>\n",
       "      <td>0.0</td>\n",
       "      <td>Санкт-Петербург</td>\n",
       "      <td>23670.0</td>\n",
       "      <td>3502.0</td>\n",
       "      <td>0</td>\n",
       "      <td>490.830729</td>\n",
       "      <td>1</td>\n",
       "      <td>779.000000</td>\n",
       "      <td>644</td>\n",
       "      <td>149038.461538</td>\n",
       "      <td>0</td>\n",
       "      <td>6</td>\n",
       "      <td>2017</td>\n",
       "      <td>Другой</td>\n",
       "      <td>0.697987</td>\n",
       "      <td>0.163462</td>\n",
       "      <td>3.502</td>\n",
       "      <td>4.426042e+06</td>\n",
       "    </tr>\n",
       "    <tr>\n",
       "      <td>61</td>\n",
       "      <td>18</td>\n",
       "      <td>7990000.0</td>\n",
       "      <td>74.0</td>\n",
       "      <td>2017-08-24</td>\n",
       "      <td>2</td>\n",
       "      <td>2.65</td>\n",
       "      <td>18</td>\n",
       "      <td>43.0</td>\n",
       "      <td>4</td>\n",
       "      <td>False</td>\n",
       "      <td>False</td>\n",
       "      <td>False</td>\n",
       "      <td>20.0</td>\n",
       "      <td>0.0</td>\n",
       "      <td>Санкт-Петербург</td>\n",
       "      <td>22568.0</td>\n",
       "      <td>4288.0</td>\n",
       "      <td>1</td>\n",
       "      <td>363.000000</td>\n",
       "      <td>0</td>\n",
       "      <td>518.059879</td>\n",
       "      <td>609</td>\n",
       "      <td>185813.953488</td>\n",
       "      <td>3</td>\n",
       "      <td>8</td>\n",
       "      <td>2017</td>\n",
       "      <td>Другой</td>\n",
       "      <td>0.581081</td>\n",
       "      <td>0.465116</td>\n",
       "      <td>4.288</td>\n",
       "      <td>1.863340e+06</td>\n",
       "    </tr>\n",
       "    <tr>\n",
       "      <td>63</td>\n",
       "      <td>2</td>\n",
       "      <td>20000000.0</td>\n",
       "      <td>118.0</td>\n",
       "      <td>2018-09-11</td>\n",
       "      <td>3</td>\n",
       "      <td>3.00</td>\n",
       "      <td>2</td>\n",
       "      <td>68.0</td>\n",
       "      <td>7</td>\n",
       "      <td>False</td>\n",
       "      <td>False</td>\n",
       "      <td>False</td>\n",
       "      <td>16.0</td>\n",
       "      <td>0.0</td>\n",
       "      <td>Санкт-Петербург</td>\n",
       "      <td>26055.0</td>\n",
       "      <td>4800.0</td>\n",
       "      <td>1</td>\n",
       "      <td>648.000000</td>\n",
       "      <td>1</td>\n",
       "      <td>779.000000</td>\n",
       "      <td>37</td>\n",
       "      <td>294117.647059</td>\n",
       "      <td>1</td>\n",
       "      <td>9</td>\n",
       "      <td>2018</td>\n",
       "      <td>Другой</td>\n",
       "      <td>0.576271</td>\n",
       "      <td>0.235294</td>\n",
       "      <td>4.800</td>\n",
       "      <td>4.166667e+06</td>\n",
       "    </tr>\n",
       "    <tr>\n",
       "      <td>99</td>\n",
       "      <td>32</td>\n",
       "      <td>9600000.0</td>\n",
       "      <td>90.0</td>\n",
       "      <td>2017-09-26</td>\n",
       "      <td>4</td>\n",
       "      <td>2.65</td>\n",
       "      <td>32</td>\n",
       "      <td>67.0</td>\n",
       "      <td>2</td>\n",
       "      <td>False</td>\n",
       "      <td>False</td>\n",
       "      <td>False</td>\n",
       "      <td>8.0</td>\n",
       "      <td>0.0</td>\n",
       "      <td>Санкт-Петербург</td>\n",
       "      <td>23277.0</td>\n",
       "      <td>2818.0</td>\n",
       "      <td>0</td>\n",
       "      <td>490.830729</td>\n",
       "      <td>0</td>\n",
       "      <td>518.059879</td>\n",
       "      <td>104</td>\n",
       "      <td>143283.582090</td>\n",
       "      <td>1</td>\n",
       "      <td>9</td>\n",
       "      <td>2017</td>\n",
       "      <td>Другой</td>\n",
       "      <td>0.744444</td>\n",
       "      <td>0.119403</td>\n",
       "      <td>2.818</td>\n",
       "      <td>3.406671e+06</td>\n",
       "    </tr>\n",
       "  </tbody>\n",
       "</table>\n",
       "</div>"
      ],
      "text/plain": [
       "    total_images  last_price  total_area first_day_exposition  rooms  \\\n",
       "24             8   6500000.0        97.2           2015-10-31      2   \n",
       "35             6  15500000.0       149.0           2017-06-26      5   \n",
       "61            18   7990000.0        74.0           2017-08-24      2   \n",
       "63             2  20000000.0       118.0           2018-09-11      3   \n",
       "99            32   9600000.0        90.0           2017-09-26      4   \n",
       "\n",
       "    ceiling_height  floors_total  living_area  floor  is_apartment  studio  \\\n",
       "24            2.65             8         46.5      1         False   False   \n",
       "35            2.65             6        104.0      4         False   False   \n",
       "61            2.65            18         43.0      4         False   False   \n",
       "63            3.00             2         68.0      7         False   False   \n",
       "99            2.65            32         67.0      2         False   False   \n",
       "\n",
       "    open_plan  kitchen_area  balcony    locality_name  airports_nearest  \\\n",
       "24      False          19.6      0.0  Санкт-Петербург           20052.0   \n",
       "35      False          17.0      0.0  Санкт-Петербург           23670.0   \n",
       "61      False          20.0      0.0  Санкт-Петербург           22568.0   \n",
       "63      False          16.0      0.0  Санкт-Петербург           26055.0   \n",
       "99      False           8.0      0.0  Санкт-Петербург           23277.0   \n",
       "\n",
       "    cityCenters_nearest  parks_around3000  parks_nearest  ponds_around3000  \\\n",
       "24               2336.0                 3     411.000000                 3   \n",
       "35               3502.0                 0     490.830729                 1   \n",
       "61               4288.0                 1     363.000000                 0   \n",
       "63               4800.0                 1     648.000000                 1   \n",
       "99               2818.0                 0     490.830729                 0   \n",
       "\n",
       "    ponds_nearest  days_exposition   price_for_m2  week_day  month  year  \\\n",
       "24     124.000000              265  139784.946237         5     10  2015   \n",
       "35     779.000000              644  149038.461538         0      6  2017   \n",
       "61     518.059879              609  185813.953488         3      8  2017   \n",
       "63     779.000000               37  294117.647059         1      9  2018   \n",
       "99     518.059879              104  143283.582090         1      9  2017   \n",
       "\n",
       "   floor_position  living_area/total_area  kitchen_area/living_area  \\\n",
       "24         Первый                0.478395                  0.421505   \n",
       "35         Другой                0.697987                  0.163462   \n",
       "61         Другой                0.581081                  0.465116   \n",
       "63         Другой                0.576271                  0.235294   \n",
       "99         Другой                0.744444                  0.119403   \n",
       "\n",
       "    cityCenters_nearest_in_km    cost_of_km  \n",
       "24                      2.336  2.782534e+06  \n",
       "35                      3.502  4.426042e+06  \n",
       "61                      4.288  1.863340e+06  \n",
       "63                      4.800  4.166667e+06  \n",
       "99                      2.818  3.406671e+06  "
      ]
     },
     "execution_count": 68,
     "metadata": {},
     "output_type": "execute_result"
    }
   ],
   "source": [
    "top_spb = true_days_exposition_date.query('cityCenters_nearest_in_km<5 and locality_name==\"Санкт-Петербург\"')\n",
    "top_spb.head()"
   ]
  },
  {
   "cell_type": "code",
   "execution_count": 69,
   "metadata": {},
   "outputs": [
    {
     "data": {
      "image/png": "[encoded data removed]",
      "text/plain": [
       "<Figure size 432x288 with 1 Axes>"
      ]
     },
     "metadata": {
      "needs_background": "light"
     },
     "output_type": "display_data"
    }
   ],
   "source": [
    "top_spb['total_area'].hist(bins=30)\n",
    "plt.title('Гистограмма общей площади')\n",
    "plt.xlabel('Общая площадь, кв.м')\n",
    "plt.ylabel('Частота')\n",
    "plt.show()"
   ]
  },
  {
   "cell_type": "markdown",
   "metadata": {},
   "source": [
    "Из гистограммы видно, что чаще всего продаются квартиры от 60-70 м2. Тогда как по всем областям, больше всего продавались квартиры площадью 47-49 м2."
   ]
  },
  {
   "cell_type": "code",
   "execution_count": 70,
   "metadata": {},
   "outputs": [
    {
     "data": {
      "image/png": "[encoded data removed]",
      "text/plain": [
       "<Figure size 432x288 with 1 Axes>"
      ]
     },
     "metadata": {
      "needs_background": "light"
     },
     "output_type": "display_data"
    }
   ],
   "source": [
    "top_spb['last_price'].hist(bins=30)\n",
    "plt.title('Гистограмма цены')\n",
    "plt.xlabel('Цена, кв.м')\n",
    "plt.ylabel('Частота')\n",
    "plt.show()"
   ]
  },
  {
   "cell_type": "code",
   "execution_count": 71,
   "metadata": {},
   "outputs": [
    {
     "data": {
      "image/png": "[encoded data removed]",
      "text/plain": [
       "<Figure size 432x288 with 1 Axes>"
      ]
     },
     "metadata": {
      "needs_background": "light"
     },
     "output_type": "display_data"
    }
   ],
   "source": [
    "top_spb['rooms'].hist(bins=30)\n",
    "plt.title('Гистограмма комнат')\n",
    "plt.xlabel('Количество комнат, кв.м')\n",
    "plt.ylabel('Частота')\n",
    "plt.show()"
   ]
  },
  {
   "cell_type": "markdown",
   "metadata": {},
   "source": [
    "Из гистограммы видно, что чаще всего продаются квартиры с 2-мя или 3-мя комнатами. Тогда как по гистограмме по всем областям было видно, что так же часто продавались и квартиры с 1 комнатой."
   ]
  },
  {
   "cell_type": "code",
   "execution_count": 72,
   "metadata": {},
   "outputs": [
    {
     "data": {
      "text/plain": [
       "Text(0, 0.5, 'Частота')"
      ]
     },
     "execution_count": 72,
     "metadata": {},
     "output_type": "execute_result"
    },
    {
     "data": {
      "image/png": "[encoded data removed]",
      "text/plain": [
       "<Figure size 432x288 with 1 Axes>"
      ]
     },
     "metadata": {
      "needs_background": "light"
     },
     "output_type": "display_data"
    }
   ],
   "source": [
    "top_spb['ceiling_height'].hist(bins=30, range=(2,5))\n",
    "plt.title('Гистограмма высоты потолков')\n",
    "plt.xlabel('Высота потолков, кв.м')\n",
    "plt.ylabel('Частота')"
   ]
  },
  {
   "cell_type": "markdown",
   "metadata": {},
   "source": [
    "Чаще всего продаются квартиры с высотой потолка 2,6 метра. Значение такое же как значение, когда мы брали данные по всем областям."
   ]
  },
  {
   "cell_type": "code",
   "execution_count": 73,
   "metadata": {},
   "outputs": [
    {
     "data": {
      "image/png": "[encoded data removed]",
      "text/plain": [
       "<Figure size 1080x576 with 1 Axes>"
      ]
     },
     "metadata": {
      "needs_background": "light"
     },
     "output_type": "display_data"
    }
   ],
   "source": [
    "(top_spb.sort_values(by='last_price',ascending=True).groupby('rooms')['last_price'].median().plot(x='rooms',y='last_price',style='o-',grid=True,figsize=(15,8),legend=True))\n",
    "\n",
    "\n",
    "(true_days_exposition_date .groupby('rooms')['last_price'].median().plot(x='rooms',y='last_price',style='o-',grid=True,figsize=(15,8),legend=True))\n",
    "plt.title('Зависимость цены от количества комнат')\n",
    "plt.xlabel('Количество комнат')\n",
    "plt.ylabel('Цена')\n",
    "\n",
    "plt.show()"
   ]
  },
  {
   "cell_type": "markdown",
   "metadata": {},
   "source": [
    "С увеличением комнат, увеличивается стоимость. График квартир в центе сдвинут выше графика остальных квартир, значит квартиры в центе дороже."
   ]
  },
  {
   "cell_type": "code",
   "execution_count": 74,
   "metadata": {},
   "outputs": [
    {
     "data": {
      "image/png": "[encoded data removed]",
      "text/plain": [
       "<Figure size 432x288 with 1 Axes>"
      ]
     },
     "metadata": {
      "needs_background": "light"
     },
     "output_type": "display_data"
    }
   ],
   "source": [
    "(top_spb.groupby('floor_position')['last_price'].median().plot(x='floor_position',y='last_price',style='o-',legend=True))\n",
    "\n",
    "\n",
    "(true_days_exposition_date.groupby('floor_position')['last_price'].median().plot(x='floor_position',y='last_price',style='o-',legend=True))\n",
    "plt.title('Зависимость цены от этажа')\n",
    "plt.xlabel('Этаж')\n",
    "plt.ylabel('Цена')\n",
    "\n",
    "plt.show()"
   ]
  },
  {
   "cell_type": "markdown",
   "metadata": {},
   "source": [
    "Опять же видно, что квартиры в центре дороже, график находится выше. Квартиры на последнем этаже дороже всего."
   ]
  },
  {
   "cell_type": "code",
   "execution_count": 75,
   "metadata": {},
   "outputs": [
    {
     "data": {
      "image/png": "[encoded data removed]",
      "text/plain": [
       "<Figure size 432x288 with 1 Axes>"
      ]
     },
     "metadata": {
      "needs_background": "light"
     },
     "output_type": "display_data"
    },
    {
     "data": {
      "image/png": "[encoded data removed]",
      "text/plain": [
       "<Figure size 432x288 with 1 Axes>"
      ]
     },
     "metadata": {
      "needs_background": "light"
     },
     "output_type": "display_data"
    }
   ],
   "source": [
    "(top_spb.sort_values(by='cityCenters_nearest',ascending=True).plot(x='cityCenters_nearest',y='last_price',style='o'))\n",
    "plt.title('Зависимость цены от удаленности от цента')\n",
    "plt.xlabel('Удаленность от центра')\n",
    "plt.ylabel('Цена')\n",
    "(true_days_exposition_date.sort_values(by='cityCenters_nearest',ascending=True).plot(x='cityCenters_nearest',y='last_price',style='o'))\n",
    "plt.title('Зависимость цены от удаленности от цента')\n",
    "plt.xlabel('Удаленность от центра')\n",
    "plt.ylabel('Цена')\n",
    "\n",
    "plt.show()"
   ]
  },
  {
   "cell_type": "markdown",
   "metadata": {},
   "source": [
    "По верхней гистограмме видно, что больше всего квартир на расстоянии 4-5 км от центра"
   ]
  },
  {
   "cell_type": "code",
   "execution_count": 76,
   "metadata": {},
   "outputs": [
    {
     "data": {
      "image/png": "[encoded data removed]",
      "text/plain": [
       "<Figure size 432x288 with 1 Axes>"
      ]
     },
     "metadata": {
      "needs_background": "light"
     },
     "output_type": "display_data"
    }
   ],
   "source": [
    "(top_spb.groupby('week_day')['last_price'].count().plot(x='week_day',y='last_price',style='o-',legend=True))\n",
    "plt.title('Зависимость цены от дня недели')\n",
    "plt.xlabel('День недели')\n",
    "plt.ylabel('Цена')\n",
    "\n",
    "(true_days_exposition_date.groupby('week_day')['last_price'].count().plot(x='week_day',y='last_price',style='o-',legend=True))\n",
    "plt.show()"
   ]
  },
  {
   "cell_type": "markdown",
   "metadata": {},
   "source": [
    "В течении недели квартиры продаются почти одинаково, только в выходные спад. Общий тренд у 2 графиков."
   ]
  },
  {
   "cell_type": "code",
   "execution_count": 77,
   "metadata": {},
   "outputs": [
    {
     "data": {
      "image/png": "[encoded data removed]",
      "text/plain": [
       "<Figure size 432x288 with 1 Axes>"
      ]
     },
     "metadata": {
      "needs_background": "light"
     },
     "output_type": "display_data"
    }
   ],
   "source": [
    "(top_spb.groupby('month')['last_price'].count().plot(x='month',y='last_price',style='-',legend=True))\n",
    "plt.title('Зависимость цены от месяца')\n",
    "plt.xlabel('Месяц')\n",
    "plt.ylabel('Цена')\n",
    "\n",
    "(true_days_exposition_date.groupby('month')['last_price'].count().plot(x='month',y='last_price',style='-',legend=True))\n",
    "\n",
    "plt.show()"
   ]
  },
  {
   "cell_type": "markdown",
   "metadata": {},
   "source": [
    "Так же спады намечаются в декабре, январе и мае. Такой же тренд как и продажи квартир в общем."
   ]
  },
  {
   "cell_type": "code",
   "execution_count": 78,
   "metadata": {},
   "outputs": [
    {
     "data": {
      "image/png": "[encoded data removed]",
      "text/plain": [
       "<Figure size 432x288 with 1 Axes>"
      ]
     },
     "metadata": {
      "needs_background": "light"
     },
     "output_type": "display_data"
    }
   ],
   "source": [
    "(top_spb.groupby('year')['last_price'].count().plot(x='year',y='last_price',style='-',legend=True))\n",
    "plt.title('Зависимость цены от года')\n",
    "plt.xlabel('Год')\n",
    "plt.ylabel('Цена')\n",
    "(true_days_exposition_date.groupby('year')['last_price'].count().plot(x='year',y='last_price',style='-',legend=True))\n",
    "\n",
    "plt.show()"
   ]
  },
  {
   "cell_type": "markdown",
   "metadata": {},
   "source": [
    "Всплеск продаж так же обнаружен в 2017 и 2018 году."
   ]
  },
  {
   "cell_type": "markdown",
   "metadata": {},
   "source": [
    "## Общий вывод"
   ]
  },
  {
   "cell_type": "markdown",
   "metadata": {},
   "source": [
    "Если обобщить все данные, то получается:\n",
    "1. Лучше всего квартиры продавались в 2017 и 2018 году.\n",
    "2. Лучше всего квартиры продавались по будням.\n",
    "3. Хуже всего квартиры продавались в мае, январе и декабре.\n",
    "4. Лучше всего продавались 1-3 комнатные квартиры.\n",
    "5. Хуже всего продавались квартиры на первом этаже.\n",
    "6. Стоимость увеличивалась от увеличения кол-ва комнат, высоты потолков и близости к центру.\n",
    "7. Квартиры в Санкт-Петербурге самые дорогие и поддаются тем же зависимостям, что и квартиры в общем.\n",
    "Это самые важные выводы."
   ]
  }
 ],
 "metadata": {
  "ExecuteTimeLog": [
   {
    "duration": 901,
    "start_time": "2021-06-14T12:05:33.615Z"
   },
   {
    "duration": 16,
    "start_time": "2021-06-14T12:08:25.059Z"
   },
   {
    "duration": 407,
    "start_time": "2021-06-14T12:11:10.083Z"
   },
   {
    "duration": 22,
    "start_time": "2021-06-14T12:11:18.935Z"
   },
   {
    "duration": 131,
    "start_time": "2021-06-14T12:12:09.139Z"
   },
   {
    "duration": 40,
    "start_time": "2021-06-14T12:12:13.751Z"
   },
   {
    "duration": 15,
    "start_time": "2021-06-14T12:16:41.570Z"
   },
   {
    "duration": 8,
    "start_time": "2021-06-14T12:22:06.748Z"
   },
   {
    "duration": 8,
    "start_time": "2021-06-14T12:26:09.651Z"
   },
   {
    "duration": 20,
    "start_time": "2021-06-14T12:28:13.981Z"
   },
   {
    "duration": 9,
    "start_time": "2021-06-14T12:35:49.741Z"
   },
   {
    "duration": 25,
    "start_time": "2021-06-14T12:38:55.948Z"
   },
   {
    "duration": 23,
    "start_time": "2021-06-14T12:40:27.492Z"
   },
   {
    "duration": 80,
    "start_time": "2021-06-14T12:41:57.781Z"
   },
   {
    "duration": 78,
    "start_time": "2021-06-14T12:43:53.593Z"
   },
   {
    "duration": 80,
    "start_time": "2021-06-14T12:45:16.776Z"
   },
   {
    "duration": 99,
    "start_time": "2021-06-14T14:03:42.177Z"
   },
   {
    "duration": 11,
    "start_time": "2021-06-14T14:07:41.575Z"
   },
   {
    "duration": 9,
    "start_time": "2021-06-14T14:07:52.193Z"
   },
   {
    "duration": 9,
    "start_time": "2021-06-14T14:08:25.894Z"
   },
   {
    "duration": 14,
    "start_time": "2021-06-14T14:09:28.054Z"
   },
   {
    "duration": 12,
    "start_time": "2021-06-14T14:09:49.850Z"
   },
   {
    "duration": 11,
    "start_time": "2021-06-14T14:11:19.160Z"
   },
   {
    "duration": 12,
    "start_time": "2021-06-14T14:11:56.538Z"
   },
   {
    "duration": 12,
    "start_time": "2021-06-14T14:12:40.475Z"
   },
   {
    "duration": 19,
    "start_time": "2021-06-14T14:14:37.254Z"
   },
   {
    "duration": 27,
    "start_time": "2021-06-14T14:15:29.430Z"
   },
   {
    "duration": 27,
    "start_time": "2021-06-14T14:15:44.913Z"
   },
   {
    "duration": 13,
    "start_time": "2021-06-14T14:18:06.494Z"
   },
   {
    "duration": 13,
    "start_time": "2021-06-14T14:19:34.972Z"
   },
   {
    "duration": 15,
    "start_time": "2021-06-14T14:20:36.840Z"
   },
   {
    "duration": 15,
    "start_time": "2021-06-14T14:22:46.867Z"
   },
   {
    "duration": 14,
    "start_time": "2021-06-14T14:23:20.456Z"
   },
   {
    "duration": 100,
    "start_time": "2021-06-14T14:23:40.852Z"
   },
   {
    "duration": 14,
    "start_time": "2021-06-14T14:23:45.014Z"
   },
   {
    "duration": 16,
    "start_time": "2021-06-14T14:23:49.750Z"
   },
   {
    "duration": 8,
    "start_time": "2021-06-14T14:23:51.203Z"
   },
   {
    "duration": 9,
    "start_time": "2021-06-14T14:23:51.978Z"
   },
   {
    "duration": 19,
    "start_time": "2021-06-14T14:23:53.441Z"
   },
   {
    "duration": 86,
    "start_time": "2021-06-14T14:23:54.092Z"
   },
   {
    "duration": 33,
    "start_time": "2021-06-14T14:23:55.590Z"
   },
   {
    "duration": 15,
    "start_time": "2021-06-14T14:23:56.703Z"
   },
   {
    "duration": 15,
    "start_time": "2021-06-14T14:23:59.472Z"
   },
   {
    "duration": 17,
    "start_time": "2021-06-14T14:24:00.586Z"
   },
   {
    "duration": 740,
    "start_time": "2021-06-15T12:11:29.134Z"
   },
   {
    "duration": 15,
    "start_time": "2021-06-15T12:11:32.654Z"
   },
   {
    "duration": 19,
    "start_time": "2021-06-15T12:11:35.463Z"
   },
   {
    "duration": 36,
    "start_time": "2021-06-15T12:11:37.572Z"
   },
   {
    "duration": 16,
    "start_time": "2021-06-15T12:11:40.883Z"
   },
   {
    "duration": 8,
    "start_time": "2021-06-15T12:11:43.601Z"
   },
   {
    "duration": 9,
    "start_time": "2021-06-15T12:11:44.211Z"
   },
   {
    "duration": 19,
    "start_time": "2021-06-15T12:11:45.124Z"
   },
   {
    "duration": 89,
    "start_time": "2021-06-15T12:11:47.048Z"
   },
   {
    "duration": 35,
    "start_time": "2021-06-15T12:11:48.959Z"
   },
   {
    "duration": 15,
    "start_time": "2021-06-15T12:11:51.049Z"
   },
   {
    "duration": 21,
    "start_time": "2021-06-15T12:11:51.892Z"
   },
   {
    "duration": 15,
    "start_time": "2021-06-15T12:11:53.109Z"
   },
   {
    "duration": 391,
    "start_time": "2021-06-15T12:13:57.331Z"
   },
   {
    "duration": 96,
    "start_time": "2021-06-15T12:14:16.404Z"
   },
   {
    "duration": 301,
    "start_time": "2021-06-15T12:14:21.353Z"
   },
   {
    "duration": 56,
    "start_time": "2021-06-15T12:15:11.699Z"
   },
   {
    "duration": 773,
    "start_time": "2021-06-15T12:17:35.563Z"
   },
   {
    "duration": 43,
    "start_time": "2021-06-15T12:29:26.594Z"
   },
   {
    "duration": 36,
    "start_time": "2021-06-15T12:30:14.909Z"
   },
   {
    "duration": 112,
    "start_time": "2021-06-15T12:30:25.297Z"
   },
   {
    "duration": 15,
    "start_time": "2021-06-15T12:30:27.769Z"
   },
   {
    "duration": 12,
    "start_time": "2021-06-15T12:30:29.589Z"
   },
   {
    "duration": 35,
    "start_time": "2021-06-15T12:30:31.412Z"
   },
   {
    "duration": 15,
    "start_time": "2021-06-15T12:30:34.271Z"
   },
   {
    "duration": 10,
    "start_time": "2021-06-15T12:30:34.807Z"
   },
   {
    "duration": 8,
    "start_time": "2021-06-15T12:30:36.711Z"
   },
   {
    "duration": 19,
    "start_time": "2021-06-15T12:30:37.260Z"
   },
   {
    "duration": 74,
    "start_time": "2021-06-15T12:30:37.806Z"
   },
   {
    "duration": 29,
    "start_time": "2021-06-15T12:30:39.435Z"
   },
   {
    "duration": 16,
    "start_time": "2021-06-15T12:30:40.028Z"
   },
   {
    "duration": 16,
    "start_time": "2021-06-15T12:30:40.633Z"
   },
   {
    "duration": 15,
    "start_time": "2021-06-15T12:30:42.314Z"
   },
   {
    "duration": 54,
    "start_time": "2021-06-15T12:30:45.929Z"
   },
   {
    "duration": 699,
    "start_time": "2021-06-15T12:30:49.368Z"
   },
   {
    "duration": 37,
    "start_time": "2021-06-15T12:30:52.572Z"
   },
   {
    "duration": 227,
    "start_time": "2021-06-15T12:31:19.684Z"
   },
   {
    "duration": 596,
    "start_time": "2021-06-15T12:32:41.519Z"
   },
   {
    "duration": 634,
    "start_time": "2021-06-15T12:33:02.314Z"
   },
   {
    "duration": 680,
    "start_time": "2021-06-15T12:33:42.983Z"
   },
   {
    "duration": 1134,
    "start_time": "2021-06-15T12:33:51.163Z"
   },
   {
    "duration": 523,
    "start_time": "2021-06-15T12:34:07.603Z"
   },
   {
    "duration": 579,
    "start_time": "2021-06-15T12:34:13.674Z"
   },
   {
    "duration": 623,
    "start_time": "2021-06-15T12:34:26.565Z"
   },
   {
    "duration": 515,
    "start_time": "2021-06-15T12:34:31.720Z"
   },
   {
    "duration": 515,
    "start_time": "2021-06-15T12:34:37.934Z"
   },
   {
    "duration": 463,
    "start_time": "2021-06-15T12:35:04.166Z"
   },
   {
    "duration": 550,
    "start_time": "2021-06-15T12:35:11.673Z"
   },
   {
    "duration": 627,
    "start_time": "2021-06-15T12:35:48.799Z"
   },
   {
    "duration": 1008,
    "start_time": "2021-06-16T12:12:44.649Z"
   },
   {
    "duration": 20,
    "start_time": "2021-06-16T12:12:45.816Z"
   },
   {
    "duration": 15,
    "start_time": "2021-06-16T12:12:47.129Z"
   },
   {
    "duration": 37,
    "start_time": "2021-06-16T12:12:49.773Z"
   },
   {
    "duration": 19,
    "start_time": "2021-06-16T12:12:53.198Z"
   },
   {
    "duration": 9,
    "start_time": "2021-06-16T12:12:53.823Z"
   },
   {
    "duration": 9,
    "start_time": "2021-06-16T12:12:54.374Z"
   },
   {
    "duration": 20,
    "start_time": "2021-06-16T12:12:55.939Z"
   },
   {
    "duration": 99,
    "start_time": "2021-06-16T12:12:56.482Z"
   },
   {
    "duration": 35,
    "start_time": "2021-06-16T12:12:57.778Z"
   },
   {
    "duration": 15,
    "start_time": "2021-06-16T12:13:00.142Z"
   },
   {
    "duration": 17,
    "start_time": "2021-06-16T12:13:01.874Z"
   },
   {
    "duration": 18,
    "start_time": "2021-06-16T12:13:02.484Z"
   },
   {
    "duration": 62,
    "start_time": "2021-06-16T12:13:05.382Z"
   },
   {
    "duration": 740,
    "start_time": "2021-06-16T12:13:06.550Z"
   },
   {
    "duration": 39,
    "start_time": "2021-06-16T12:13:09.639Z"
   },
   {
    "duration": 49,
    "start_time": "2021-06-16T12:14:01.272Z"
   },
   {
    "duration": 853,
    "start_time": "2021-06-16T12:14:12.373Z"
   },
   {
    "duration": 751,
    "start_time": "2021-06-16T12:15:14.655Z"
   },
   {
    "duration": 41,
    "start_time": "2021-06-16T12:15:28.107Z"
   },
   {
    "duration": 558,
    "start_time": "2021-06-16T12:16:43.916Z"
   },
   {
    "duration": 495,
    "start_time": "2021-06-16T12:19:37.525Z"
   },
   {
    "duration": 7,
    "start_time": "2021-06-16T12:21:26.900Z"
   },
   {
    "duration": 8,
    "start_time": "2021-06-16T12:21:40.945Z"
   },
   {
    "duration": 128,
    "start_time": "2021-06-16T12:22:12.290Z"
   },
   {
    "duration": 9,
    "start_time": "2021-06-16T12:22:20.678Z"
   },
   {
    "duration": 6,
    "start_time": "2021-06-16T12:22:44.933Z"
   },
   {
    "duration": 198,
    "start_time": "2021-06-16T12:24:38.715Z"
   },
   {
    "duration": 211,
    "start_time": "2021-06-16T12:24:43.940Z"
   },
   {
    "duration": 224,
    "start_time": "2021-06-16T12:24:49.726Z"
   },
   {
    "duration": 227,
    "start_time": "2021-06-16T12:25:01.838Z"
   },
   {
    "duration": 272,
    "start_time": "2021-06-16T12:26:25.433Z"
   },
   {
    "duration": 221,
    "start_time": "2021-06-16T12:26:30.357Z"
   },
   {
    "duration": 474,
    "start_time": "2021-06-16T12:34:42.275Z"
   },
   {
    "duration": 14,
    "start_time": "2021-06-16T12:34:53.509Z"
   },
   {
    "duration": 547,
    "start_time": "2021-06-16T12:34:54.978Z"
   },
   {
    "duration": 568,
    "start_time": "2021-06-16T12:35:10.845Z"
   },
   {
    "duration": 426,
    "start_time": "2021-06-16T12:35:21.329Z"
   },
   {
    "duration": 428,
    "start_time": "2021-06-16T12:37:21.037Z"
   },
   {
    "duration": 415,
    "start_time": "2021-06-16T12:37:38.515Z"
   },
   {
    "duration": 8,
    "start_time": "2021-06-16T12:38:43.317Z"
   },
   {
    "duration": 8,
    "start_time": "2021-06-16T12:39:26.614Z"
   },
   {
    "duration": 10,
    "start_time": "2021-06-16T12:39:53.849Z"
   },
   {
    "duration": 220,
    "start_time": "2021-06-16T12:41:03.905Z"
   },
   {
    "duration": 331,
    "start_time": "2021-06-16T12:49:20.770Z"
   },
   {
    "duration": 364,
    "start_time": "2021-06-16T12:49:28.541Z"
   },
   {
    "duration": 294,
    "start_time": "2021-06-16T12:49:34.590Z"
   },
   {
    "duration": 307,
    "start_time": "2021-06-16T12:49:37.831Z"
   },
   {
    "duration": 14,
    "start_time": "2021-06-16T12:49:48.077Z"
   },
   {
    "duration": 695,
    "start_time": "2021-06-16T12:50:40.874Z"
   },
   {
    "duration": 692,
    "start_time": "2021-06-16T12:52:00.027Z"
   },
   {
    "duration": 802,
    "start_time": "2021-06-16T12:54:33.678Z"
   },
   {
    "duration": 322,
    "start_time": "2021-06-16T12:57:05.133Z"
   },
   {
    "duration": 565,
    "start_time": "2021-06-16T12:58:40.697Z"
   },
   {
    "duration": 464,
    "start_time": "2021-06-16T12:59:06.969Z"
   },
   {
    "duration": 459,
    "start_time": "2021-06-16T12:59:21.775Z"
   },
   {
    "duration": 767,
    "start_time": "2021-06-16T13:00:02.880Z"
   },
   {
    "duration": 541,
    "start_time": "2021-06-16T13:00:19.235Z"
   },
   {
    "duration": 327,
    "start_time": "2021-06-16T13:02:46.431Z"
   },
   {
    "duration": 222,
    "start_time": "2021-06-16T13:03:01.090Z"
   },
   {
    "duration": 247,
    "start_time": "2021-06-16T13:03:13.859Z"
   },
   {
    "duration": 248,
    "start_time": "2021-06-16T13:04:27.405Z"
   },
   {
    "duration": 362,
    "start_time": "2021-06-16T13:10:09.004Z"
   },
   {
    "duration": 244,
    "start_time": "2021-06-16T13:10:28.152Z"
   },
   {
    "duration": 312,
    "start_time": "2021-06-16T13:15:01.152Z"
   },
   {
    "duration": 647,
    "start_time": "2021-06-16T13:15:29.494Z"
   },
   {
    "duration": 1027,
    "start_time": "2021-06-16T13:16:04.004Z"
   },
   {
    "duration": 919,
    "start_time": "2021-06-16T13:16:13.138Z"
   },
   {
    "duration": 888,
    "start_time": "2021-06-16T13:16:27.267Z"
   },
   {
    "duration": 141,
    "start_time": "2021-06-16T13:24:20.146Z"
   },
   {
    "duration": 353,
    "start_time": "2021-06-16T13:27:07.124Z"
   },
   {
    "duration": 34,
    "start_time": "2021-06-16T13:27:19.141Z"
   },
   {
    "duration": 341,
    "start_time": "2021-06-16T13:56:34.212Z"
   },
   {
    "duration": 358,
    "start_time": "2021-06-16T13:56:53.893Z"
   },
   {
    "duration": 6,
    "start_time": "2021-06-16T13:57:02.324Z"
   },
   {
    "duration": 330,
    "start_time": "2021-06-16T14:00:28.439Z"
   },
   {
    "duration": 357,
    "start_time": "2021-06-16T14:00:37.227Z"
   },
   {
    "duration": 6,
    "start_time": "2021-06-16T14:01:23.292Z"
   },
   {
    "duration": 44,
    "start_time": "2021-06-16T14:02:20.857Z"
   },
   {
    "duration": 384,
    "start_time": "2021-06-16T14:05:32.853Z"
   },
   {
    "duration": 430,
    "start_time": "2021-06-16T14:06:02.642Z"
   },
   {
    "duration": 347,
    "start_time": "2021-06-16T14:07:45.871Z"
   },
   {
    "duration": 10,
    "start_time": "2021-06-16T14:07:52.083Z"
   },
   {
    "duration": 12,
    "start_time": "2021-06-16T14:08:56.263Z"
   },
   {
    "duration": 15,
    "start_time": "2021-06-16T14:09:14.649Z"
   },
   {
    "duration": 11,
    "start_time": "2021-06-16T14:11:33.071Z"
   },
   {
    "duration": 41,
    "start_time": "2021-06-16T14:11:50.274Z"
   },
   {
    "duration": 45,
    "start_time": "2021-06-16T14:12:07.938Z"
   },
   {
    "duration": 10163,
    "start_time": "2021-06-16T14:14:39.786Z"
   },
   {
    "duration": 10148,
    "start_time": "2021-06-16T14:14:52.942Z"
   },
   {
    "duration": 1384,
    "start_time": "2021-06-16T14:15:14.711Z"
   },
   {
    "duration": 1404,
    "start_time": "2021-06-16T14:15:25.626Z"
   },
   {
    "duration": 884,
    "start_time": "2021-06-16T14:16:00.608Z"
   },
   {
    "duration": 942,
    "start_time": "2021-06-16T14:16:07.068Z"
   },
   {
    "duration": 1567,
    "start_time": "2021-06-16T14:16:30.858Z"
   },
   {
    "duration": 401,
    "start_time": "2021-06-17T11:28:39.114Z"
   },
   {
    "duration": 1399,
    "start_time": "2021-06-17T11:28:45.921Z"
   },
   {
    "duration": 24,
    "start_time": "2021-06-17T11:28:47.326Z"
   },
   {
    "duration": 21,
    "start_time": "2021-06-17T11:28:51.405Z"
   },
   {
    "duration": 39,
    "start_time": "2021-06-17T11:28:54.501Z"
   },
   {
    "duration": 19,
    "start_time": "2021-06-17T11:28:56.668Z"
   },
   {
    "duration": 10,
    "start_time": "2021-06-17T11:28:57.447Z"
   },
   {
    "duration": 10,
    "start_time": "2021-06-17T11:28:58.028Z"
   },
   {
    "duration": 20,
    "start_time": "2021-06-17T11:28:58.724Z"
   },
   {
    "duration": 97,
    "start_time": "2021-06-17T11:28:59.374Z"
   },
   {
    "duration": 34,
    "start_time": "2021-06-17T11:29:00.062Z"
   },
   {
    "duration": 15,
    "start_time": "2021-06-17T11:29:00.581Z"
   },
   {
    "duration": 15,
    "start_time": "2021-06-17T11:29:01.164Z"
   },
   {
    "duration": 16,
    "start_time": "2021-06-17T11:29:01.868Z"
   },
   {
    "duration": 61,
    "start_time": "2021-06-17T11:29:03.157Z"
   },
   {
    "duration": 773,
    "start_time": "2021-06-17T11:29:04.134Z"
   },
   {
    "duration": 49,
    "start_time": "2021-06-17T11:29:04.910Z"
   },
   {
    "duration": 602,
    "start_time": "2021-06-17T11:29:06.036Z"
   },
   {
    "duration": 579,
    "start_time": "2021-06-17T11:29:06.641Z"
   },
   {
    "duration": 654,
    "start_time": "2021-06-17T11:29:07.663Z"
   },
   {
    "duration": 545,
    "start_time": "2021-06-17T11:29:09.393Z"
   },
   {
    "duration": 368,
    "start_time": "2021-06-17T11:29:10.206Z"
   },
   {
    "duration": 8,
    "start_time": "2021-06-17T11:29:11.849Z"
   },
   {
    "duration": 216,
    "start_time": "2021-06-17T11:29:13.258Z"
   },
   {
    "duration": 12,
    "start_time": "2021-06-17T11:29:16.436Z"
   },
   {
    "duration": 402,
    "start_time": "2021-06-17T11:29:17.219Z"
   },
   {
    "duration": 9,
    "start_time": "2021-06-17T11:29:19.861Z"
   },
   {
    "duration": 286,
    "start_time": "2021-06-17T11:29:20.642Z"
   },
   {
    "duration": 14,
    "start_time": "2021-06-17T11:29:23.661Z"
   },
   {
    "duration": 765,
    "start_time": "2021-06-17T11:29:24.191Z"
   },
   {
    "duration": 467,
    "start_time": "2021-06-17T11:29:26.935Z"
   },
   {
    "duration": 398,
    "start_time": "2021-06-17T11:29:30.346Z"
   },
   {
    "duration": 335,
    "start_time": "2021-06-17T11:29:38.737Z"
   },
   {
    "duration": 791,
    "start_time": "2021-06-17T11:29:52.006Z"
   },
   {
    "duration": 32,
    "start_time": "2021-06-17T11:29:55.468Z"
   },
   {
    "duration": 5,
    "start_time": "2021-06-17T11:29:58.206Z"
   },
   {
    "duration": 6,
    "start_time": "2021-06-17T11:29:58.867Z"
   },
   {
    "duration": 43,
    "start_time": "2021-06-17T11:29:59.491Z"
   },
   {
    "duration": 542,
    "start_time": "2021-06-17T11:30:23.888Z"
   },
   {
    "duration": 247,
    "start_time": "2021-06-17T11:30:41.287Z"
   },
   {
    "duration": 778,
    "start_time": "2021-06-17T11:30:46.693Z"
   },
   {
    "duration": 31,
    "start_time": "2021-06-17T11:30:49.461Z"
   },
   {
    "duration": 6,
    "start_time": "2021-06-17T11:30:51.791Z"
   },
   {
    "duration": 5,
    "start_time": "2021-06-17T11:30:54.061Z"
   },
   {
    "duration": 65,
    "start_time": "2021-06-17T11:30:54.070Z"
   },
   {
    "duration": 592,
    "start_time": "2021-06-17T11:30:56.691Z"
   },
   {
    "duration": 17,
    "start_time": "2021-06-17T11:31:00.456Z"
   },
   {
    "duration": 58,
    "start_time": "2021-06-17T11:31:01.521Z"
   },
   {
    "duration": 1502,
    "start_time": "2021-06-17T11:31:04.480Z"
   },
   {
    "duration": 504,
    "start_time": "2021-06-17T11:31:09.691Z"
   },
   {
    "duration": 583,
    "start_time": "2021-06-17T11:34:16.669Z"
   },
   {
    "duration": 257,
    "start_time": "2021-06-17T11:34:30.078Z"
   },
   {
    "duration": 713,
    "start_time": "2021-06-17T11:37:39.723Z"
   },
   {
    "duration": 844,
    "start_time": "2021-06-17T11:37:49.717Z"
   },
   {
    "duration": 723,
    "start_time": "2021-06-17T11:38:02.320Z"
   },
   {
    "duration": 739,
    "start_time": "2021-06-17T11:39:59.550Z"
   },
   {
    "duration": 304,
    "start_time": "2021-06-17T11:42:56.532Z"
   },
   {
    "duration": 315,
    "start_time": "2021-06-17T11:43:04.413Z"
   },
   {
    "duration": 535,
    "start_time": "2021-06-17T11:44:54.340Z"
   },
   {
    "duration": 316,
    "start_time": "2021-06-17T11:46:43.964Z"
   },
   {
    "duration": 1074,
    "start_time": "2021-06-17T15:55:29.460Z"
   },
   {
    "duration": 17,
    "start_time": "2021-06-17T15:55:30.537Z"
   },
   {
    "duration": 22,
    "start_time": "2021-06-17T15:55:30.558Z"
   },
   {
    "duration": 83,
    "start_time": "2021-06-17T15:55:30.583Z"
   },
   {
    "duration": 18,
    "start_time": "2021-06-17T15:55:30.669Z"
   },
   {
    "duration": 10,
    "start_time": "2021-06-17T15:55:30.690Z"
   },
   {
    "duration": 30,
    "start_time": "2021-06-17T15:55:30.702Z"
   },
   {
    "duration": 37,
    "start_time": "2021-06-17T15:55:30.735Z"
   },
   {
    "duration": 112,
    "start_time": "2021-06-17T15:55:30.776Z"
   },
   {
    "duration": 44,
    "start_time": "2021-06-17T15:55:30.891Z"
   },
   {
    "duration": 14,
    "start_time": "2021-06-17T15:55:30.938Z"
   },
   {
    "duration": 15,
    "start_time": "2021-06-17T15:55:30.955Z"
   },
   {
    "duration": 15,
    "start_time": "2021-06-17T15:55:30.973Z"
   },
   {
    "duration": 89,
    "start_time": "2021-06-17T15:55:30.991Z"
   },
   {
    "duration": 788,
    "start_time": "2021-06-17T15:55:31.082Z"
   },
   {
    "duration": 57,
    "start_time": "2021-06-17T15:55:31.873Z"
   },
   {
    "duration": 635,
    "start_time": "2021-06-17T15:55:31.932Z"
   },
   {
    "duration": 603,
    "start_time": "2021-06-17T15:55:32.570Z"
   },
   {
    "duration": 649,
    "start_time": "2021-06-17T15:55:33.176Z"
   },
   {
    "duration": 586,
    "start_time": "2021-06-17T15:55:33.828Z"
   },
   {
    "duration": 385,
    "start_time": "2021-06-17T15:55:34.417Z"
   },
   {
    "duration": 20,
    "start_time": "2021-06-17T15:55:34.805Z"
   },
   {
    "duration": 252,
    "start_time": "2021-06-17T15:55:34.830Z"
   },
   {
    "duration": 14,
    "start_time": "2021-06-17T15:55:35.085Z"
   },
   {
    "duration": 426,
    "start_time": "2021-06-17T15:55:35.102Z"
   },
   {
    "duration": 10,
    "start_time": "2021-06-17T15:55:35.530Z"
   },
   {
    "duration": 249,
    "start_time": "2021-06-17T15:55:35.543Z"
   },
   {
    "duration": 14,
    "start_time": "2021-06-17T15:55:35.794Z"
   },
   {
    "duration": 779,
    "start_time": "2021-06-17T15:55:35.826Z"
   },
   {
    "duration": 492,
    "start_time": "2021-06-17T15:55:36.607Z"
   },
   {
    "duration": 262,
    "start_time": "2021-06-17T15:55:37.102Z"
   },
   {
    "duration": 1180,
    "start_time": "2021-06-17T15:55:37.367Z"
   },
   {
    "duration": 41,
    "start_time": "2021-06-17T15:55:38.550Z"
   },
   {
    "duration": 7,
    "start_time": "2021-06-17T15:55:38.594Z"
   },
   {
    "duration": 7,
    "start_time": "2021-06-17T15:55:38.627Z"
   },
   {
    "duration": 90,
    "start_time": "2021-06-17T15:55:38.637Z"
   },
   {
    "duration": 646,
    "start_time": "2021-06-17T15:55:38.730Z"
   },
   {
    "duration": 14,
    "start_time": "2021-06-17T15:55:39.379Z"
   },
   {
    "duration": 79,
    "start_time": "2021-06-17T15:55:39.396Z"
   },
   {
    "duration": 1407,
    "start_time": "2021-06-17T15:55:39.479Z"
   },
   {
    "duration": 610,
    "start_time": "2021-06-17T15:55:40.890Z"
   },
   {
    "duration": 288,
    "start_time": "2021-06-17T15:55:41.503Z"
   },
   {
    "duration": 715,
    "start_time": "2021-06-17T15:55:41.793Z"
   },
   {
    "duration": 337,
    "start_time": "2021-06-17T15:55:42.512Z"
   },
   {
    "duration": 173,
    "start_time": "2021-06-17T15:55:42.852Z"
   },
   {
    "duration": -47,
    "start_time": "2021-06-17T15:55:43.074Z"
   },
   {
    "duration": -49,
    "start_time": "2021-06-17T15:55:43.078Z"
   },
   {
    "duration": 973,
    "start_time": "2021-06-17T17:11:31.634Z"
   },
   {
    "duration": 16,
    "start_time": "2021-06-17T17:11:32.610Z"
   },
   {
    "duration": 36,
    "start_time": "2021-06-17T17:11:32.629Z"
   },
   {
    "duration": 40,
    "start_time": "2021-06-17T17:11:32.668Z"
   },
   {
    "duration": 52,
    "start_time": "2021-06-17T17:11:32.711Z"
   },
   {
    "duration": 9,
    "start_time": "2021-06-17T17:11:32.766Z"
   },
   {
    "duration": 12,
    "start_time": "2021-06-17T17:11:32.778Z"
   },
   {
    "duration": 21,
    "start_time": "2021-06-17T17:11:32.794Z"
   },
   {
    "duration": 101,
    "start_time": "2021-06-17T17:11:32.854Z"
   },
   {
    "duration": 34,
    "start_time": "2021-06-17T17:11:32.958Z"
   },
   {
    "duration": 13,
    "start_time": "2021-06-17T17:11:32.995Z"
   },
   {
    "duration": 15,
    "start_time": "2021-06-17T17:11:33.011Z"
   },
   {
    "duration": 15,
    "start_time": "2021-06-17T17:11:33.055Z"
   },
   {
    "duration": 56,
    "start_time": "2021-06-17T17:11:33.073Z"
   },
   {
    "duration": 752,
    "start_time": "2021-06-17T17:11:33.131Z"
   },
   {
    "duration": 39,
    "start_time": "2021-06-17T17:11:33.885Z"
   },
   {
    "duration": 622,
    "start_time": "2021-06-17T17:11:33.926Z"
   },
   {
    "duration": 586,
    "start_time": "2021-06-17T17:11:34.554Z"
   },
   {
    "duration": 570,
    "start_time": "2021-06-17T17:11:35.143Z"
   },
   {
    "duration": 550,
    "start_time": "2021-06-17T17:11:35.715Z"
   },
   {
    "duration": 371,
    "start_time": "2021-06-17T17:11:36.268Z"
   },
   {
    "duration": 16,
    "start_time": "2021-06-17T17:11:36.641Z"
   },
   {
    "duration": 234,
    "start_time": "2021-06-17T17:11:36.662Z"
   },
   {
    "duration": 13,
    "start_time": "2021-06-17T17:11:36.899Z"
   },
   {
    "duration": 429,
    "start_time": "2021-06-17T17:11:36.914Z"
   },
   {
    "duration": 15,
    "start_time": "2021-06-17T17:11:37.346Z"
   },
   {
    "duration": 306,
    "start_time": "2021-06-17T17:11:37.364Z"
   },
   {
    "duration": 14,
    "start_time": "2021-06-17T17:11:37.673Z"
   },
   {
    "duration": 700,
    "start_time": "2021-06-17T17:11:37.689Z"
   },
   {
    "duration": 460,
    "start_time": "2021-06-17T17:11:38.391Z"
   },
   {
    "duration": 237,
    "start_time": "2021-06-17T17:11:38.853Z"
   },
   {
    "duration": 866,
    "start_time": "2021-06-17T17:11:39.092Z"
   },
   {
    "duration": 33,
    "start_time": "2021-06-17T17:11:39.960Z"
   },
   {
    "duration": 5,
    "start_time": "2021-06-17T17:11:39.996Z"
   },
   {
    "duration": 19,
    "start_time": "2021-06-17T17:11:40.003Z"
   },
   {
    "duration": 67,
    "start_time": "2021-06-17T17:11:40.025Z"
   },
   {
    "duration": 432,
    "start_time": "2021-06-17T17:11:40.094Z"
   },
   {
    "duration": 12,
    "start_time": "2021-06-17T17:11:40.528Z"
   },
   {
    "duration": 45,
    "start_time": "2021-06-17T17:11:40.556Z"
   },
   {
    "duration": 1478,
    "start_time": "2021-06-17T17:11:40.604Z"
   },
   {
    "duration": 503,
    "start_time": "2021-06-17T17:11:42.085Z"
   },
   {
    "duration": 285,
    "start_time": "2021-06-17T17:11:42.591Z"
   },
   {
    "duration": 668,
    "start_time": "2021-06-17T17:11:42.879Z"
   },
   {
    "duration": 326,
    "start_time": "2021-06-17T17:11:43.555Z"
   },
   {
    "duration": 83,
    "start_time": "2021-06-17T17:11:43.883Z"
   },
   {
    "duration": 7524,
    "start_time": "2021-06-17T17:11:36.445Z"
   },
   {
    "duration": 7513,
    "start_time": "2021-06-17T17:11:36.457Z"
   },
   {
    "duration": 908,
    "start_time": "2021-06-17T17:14:17.191Z"
   },
   {
    "duration": 16,
    "start_time": "2021-06-17T17:14:18.102Z"
   },
   {
    "duration": 35,
    "start_time": "2021-06-17T17:14:18.121Z"
   },
   {
    "duration": 38,
    "start_time": "2021-06-17T17:14:18.158Z"
   },
   {
    "duration": 15,
    "start_time": "2021-06-17T17:14:18.198Z"
   },
   {
    "duration": 40,
    "start_time": "2021-06-17T17:14:18.215Z"
   },
   {
    "duration": 8,
    "start_time": "2021-06-17T17:14:18.257Z"
   },
   {
    "duration": 19,
    "start_time": "2021-06-17T17:14:18.269Z"
   },
   {
    "duration": 122,
    "start_time": "2021-06-17T17:14:18.291Z"
   },
   {
    "duration": 40,
    "start_time": "2021-06-17T17:14:18.415Z"
   },
   {
    "duration": 13,
    "start_time": "2021-06-17T17:14:18.457Z"
   },
   {
    "duration": 19,
    "start_time": "2021-06-17T17:14:18.473Z"
   },
   {
    "duration": 16,
    "start_time": "2021-06-17T17:14:18.496Z"
   },
   {
    "duration": 87,
    "start_time": "2021-06-17T17:14:18.515Z"
   },
   {
    "duration": 742,
    "start_time": "2021-06-17T17:14:18.605Z"
   },
   {
    "duration": 41,
    "start_time": "2021-06-17T17:14:19.350Z"
   },
   {
    "duration": 614,
    "start_time": "2021-06-17T17:14:19.394Z"
   },
   {
    "duration": 657,
    "start_time": "2021-06-17T17:14:20.011Z"
   },
   {
    "duration": 647,
    "start_time": "2021-06-17T17:14:20.670Z"
   },
   {
    "duration": 551,
    "start_time": "2021-06-17T17:14:21.319Z"
   },
   {
    "duration": 377,
    "start_time": "2021-06-17T17:14:21.872Z"
   },
   {
    "duration": 6,
    "start_time": "2021-06-17T17:14:22.255Z"
   },
   {
    "duration": 240,
    "start_time": "2021-06-17T17:14:22.266Z"
   },
   {
    "duration": 13,
    "start_time": "2021-06-17T17:14:22.509Z"
   },
   {
    "duration": 432,
    "start_time": "2021-06-17T17:14:22.524Z"
   },
   {
    "duration": 9,
    "start_time": "2021-06-17T17:14:22.959Z"
   },
   {
    "duration": 310,
    "start_time": "2021-06-17T17:14:22.970Z"
   },
   {
    "duration": 12,
    "start_time": "2021-06-17T17:14:23.282Z"
   },
   {
    "duration": 699,
    "start_time": "2021-06-17T17:14:23.297Z"
   },
   {
    "duration": 464,
    "start_time": "2021-06-17T17:14:23.998Z"
   },
   {
    "duration": 242,
    "start_time": "2021-06-17T17:14:24.465Z"
   },
   {
    "duration": 884,
    "start_time": "2021-06-17T17:14:24.709Z"
   },
   {
    "duration": 34,
    "start_time": "2021-06-17T17:14:25.595Z"
   },
   {
    "duration": 4,
    "start_time": "2021-06-17T17:14:25.632Z"
   },
   {
    "duration": 13,
    "start_time": "2021-06-17T17:14:25.638Z"
   },
   {
    "duration": 58,
    "start_time": "2021-06-17T17:14:25.654Z"
   },
   {
    "duration": 458,
    "start_time": "2021-06-17T17:14:25.714Z"
   },
   {
    "duration": 11,
    "start_time": "2021-06-17T17:14:26.175Z"
   },
   {
    "duration": 46,
    "start_time": "2021-06-17T17:14:26.188Z"
   },
   {
    "duration": 1650,
    "start_time": "2021-06-17T17:14:26.236Z"
   },
   {
    "duration": 596,
    "start_time": "2021-06-17T17:14:27.888Z"
   },
   {
    "duration": 274,
    "start_time": "2021-06-17T17:14:28.487Z"
   },
   {
    "duration": 670,
    "start_time": "2021-06-17T17:14:28.763Z"
   },
   {
    "duration": 322,
    "start_time": "2021-06-17T17:14:29.435Z"
   },
   {
    "duration": 327,
    "start_time": "2021-06-17T17:14:29.760Z"
   },
   {
    "duration": 469,
    "start_time": "2021-06-17T17:14:30.089Z"
   },
   {
    "duration": 549,
    "start_time": "2021-06-17T17:40:35.442Z"
   },
   {
    "duration": 576,
    "start_time": "2021-06-17T17:42:00.801Z"
   },
   {
    "duration": 657,
    "start_time": "2021-06-17T17:43:48.016Z"
   },
   {
    "duration": 547,
    "start_time": "2021-06-17T17:44:45.765Z"
   },
   {
    "duration": 344,
    "start_time": "2021-06-17T17:45:31.087Z"
   },
   {
    "duration": 394,
    "start_time": "2021-06-17T17:46:19.645Z"
   },
   {
    "duration": 406,
    "start_time": "2021-06-17T17:48:13.676Z"
   },
   {
    "duration": 689,
    "start_time": "2021-06-17T17:51:09.108Z"
   },
   {
    "duration": 463,
    "start_time": "2021-06-17T17:52:01.273Z"
   },
   {
    "duration": 461,
    "start_time": "2021-06-17T17:52:10.218Z"
   },
   {
    "duration": 588,
    "start_time": "2021-06-17T17:52:51.211Z"
   },
   {
    "duration": 241,
    "start_time": "2021-06-17T17:53:07.660Z"
   },
   {
    "duration": 794,
    "start_time": "2021-06-17T17:53:50.247Z"
   },
   {
    "duration": 793,
    "start_time": "2021-06-17T17:54:43.920Z"
   },
   {
    "duration": 382,
    "start_time": "2021-06-17T17:56:51.563Z"
   },
   {
    "duration": 1385,
    "start_time": "2021-06-17T17:58:00.301Z"
   },
   {
    "duration": 1538,
    "start_time": "2021-06-17T17:59:56.239Z"
   },
   {
    "duration": 522,
    "start_time": "2021-06-17T18:00:33.517Z"
   },
   {
    "duration": 271,
    "start_time": "2021-06-17T18:01:08.373Z"
   },
   {
    "duration": 263,
    "start_time": "2021-06-17T18:01:20.770Z"
   },
   {
    "duration": 682,
    "start_time": "2021-06-17T18:01:56.738Z"
   },
   {
    "duration": 696,
    "start_time": "2021-06-17T18:02:08.000Z"
   },
   {
    "duration": 326,
    "start_time": "2021-06-17T18:03:09.631Z"
   },
   {
    "duration": 300,
    "start_time": "2021-06-17T18:03:19.080Z"
   },
   {
    "duration": 325,
    "start_time": "2021-06-17T18:03:43.337Z"
   },
   {
    "duration": 322,
    "start_time": "2021-06-17T18:04:05.835Z"
   },
   {
    "duration": 961,
    "start_time": "2021-06-17T18:04:17.531Z"
   },
   {
    "duration": 15,
    "start_time": "2021-06-17T18:04:18.494Z"
   },
   {
    "duration": 21,
    "start_time": "2021-06-17T18:04:18.512Z"
   },
   {
    "duration": 52,
    "start_time": "2021-06-17T18:04:18.537Z"
   },
   {
    "duration": 17,
    "start_time": "2021-06-17T18:04:18.591Z"
   },
   {
    "duration": 47,
    "start_time": "2021-06-17T18:04:18.611Z"
   },
   {
    "duration": 6,
    "start_time": "2021-06-17T18:04:18.660Z"
   },
   {
    "duration": 14,
    "start_time": "2021-06-17T18:04:18.670Z"
   },
   {
    "duration": 21,
    "start_time": "2021-06-17T18:04:18.687Z"
   },
   {
    "duration": 19,
    "start_time": "2021-06-17T18:04:18.711Z"
   },
   {
    "duration": 36,
    "start_time": "2021-06-17T18:04:18.733Z"
   },
   {
    "duration": 33,
    "start_time": "2021-06-17T18:04:18.772Z"
   },
   {
    "duration": 19,
    "start_time": "2021-06-17T18:04:18.808Z"
   },
   {
    "duration": 13,
    "start_time": "2021-06-17T18:04:18.829Z"
   },
   {
    "duration": 15,
    "start_time": "2021-06-17T18:04:18.845Z"
   },
   {
    "duration": 22,
    "start_time": "2021-06-17T18:04:18.863Z"
   },
   {
    "duration": 21,
    "start_time": "2021-06-17T18:04:18.888Z"
   },
   {
    "duration": 19,
    "start_time": "2021-06-17T18:04:18.911Z"
   },
   {
    "duration": 18,
    "start_time": "2021-06-17T18:04:18.933Z"
   },
   {
    "duration": 15,
    "start_time": "2021-06-17T18:04:18.953Z"
   },
   {
    "duration": 76,
    "start_time": "2021-06-17T18:04:18.970Z"
   },
   {
    "duration": 20,
    "start_time": "2021-06-17T18:04:19.049Z"
   },
   {
    "duration": 13,
    "start_time": "2021-06-17T18:04:19.074Z"
   },
   {
    "duration": 12,
    "start_time": "2021-06-17T18:04:19.091Z"
   },
   {
    "duration": 20,
    "start_time": "2021-06-17T18:04:19.105Z"
   },
   {
    "duration": 28,
    "start_time": "2021-06-17T18:04:19.128Z"
   },
   {
    "duration": 7,
    "start_time": "2021-06-17T18:04:19.160Z"
   },
   {
    "duration": 19,
    "start_time": "2021-06-17T18:04:19.170Z"
   },
   {
    "duration": 35,
    "start_time": "2021-06-17T18:04:19.192Z"
   },
   {
    "duration": 45,
    "start_time": "2021-06-17T18:04:19.230Z"
   },
   {
    "duration": 11,
    "start_time": "2021-06-17T18:04:19.278Z"
   },
   {
    "duration": 17,
    "start_time": "2021-06-17T18:04:19.291Z"
   },
   {
    "duration": 28,
    "start_time": "2021-06-17T18:04:19.310Z"
   },
   {
    "duration": 28,
    "start_time": "2021-06-17T18:04:19.341Z"
   },
   {
    "duration": 23,
    "start_time": "2021-06-17T18:04:19.372Z"
   },
   {
    "duration": 75,
    "start_time": "2021-06-17T18:04:19.398Z"
   },
   {
    "duration": 5,
    "start_time": "2021-06-17T18:04:19.476Z"
   },
   {
    "duration": 750,
    "start_time": "2021-06-17T18:04:19.483Z"
   },
   {
    "duration": 6,
    "start_time": "2021-06-17T18:04:20.236Z"
   },
   {
    "duration": 38,
    "start_time": "2021-06-17T18:04:20.255Z"
   },
   {
    "duration": 615,
    "start_time": "2021-06-17T18:04:20.296Z"
   },
   {
    "duration": 571,
    "start_time": "2021-06-17T18:04:20.913Z"
   },
   {
    "duration": 571,
    "start_time": "2021-06-17T18:04:21.486Z"
   },
   {
    "duration": 562,
    "start_time": "2021-06-17T18:04:22.060Z"
   },
   {
    "duration": 405,
    "start_time": "2021-06-17T18:04:22.627Z"
   },
   {
    "duration": 19,
    "start_time": "2021-06-17T18:04:23.036Z"
   },
   {
    "duration": 242,
    "start_time": "2021-06-17T18:04:23.057Z"
   },
   {
    "duration": 13,
    "start_time": "2021-06-17T18:04:23.301Z"
   },
   {
    "duration": 447,
    "start_time": "2021-06-17T18:04:23.316Z"
   },
   {
    "duration": 9,
    "start_time": "2021-06-17T18:04:23.765Z"
   },
   {
    "duration": 316,
    "start_time": "2021-06-17T18:04:23.777Z"
   },
   {
    "duration": 12,
    "start_time": "2021-06-17T18:04:24.096Z"
   },
   {
    "duration": 710,
    "start_time": "2021-06-17T18:04:24.111Z"
   },
   {
    "duration": 490,
    "start_time": "2021-06-17T18:04:24.823Z"
   },
   {
    "duration": 263,
    "start_time": "2021-06-17T18:04:25.316Z"
   },
   {
    "duration": 799,
    "start_time": "2021-06-17T18:04:25.582Z"
   },
   {
    "duration": 31,
    "start_time": "2021-06-17T18:04:26.383Z"
   },
   {
    "duration": 4,
    "start_time": "2021-06-17T18:04:26.416Z"
   },
   {
    "duration": 35,
    "start_time": "2021-06-17T18:04:26.423Z"
   },
   {
    "duration": 43,
    "start_time": "2021-06-17T18:04:26.460Z"
   },
   {
    "duration": 483,
    "start_time": "2021-06-17T18:04:26.505Z"
   },
   {
    "duration": 11,
    "start_time": "2021-06-17T18:04:26.991Z"
   },
   {
    "duration": 71,
    "start_time": "2021-06-17T18:04:27.004Z"
   },
   {
    "duration": 1529,
    "start_time": "2021-06-17T18:04:27.077Z"
   },
   {
    "duration": 614,
    "start_time": "2021-06-17T18:04:28.609Z"
   },
   {
    "duration": 299,
    "start_time": "2021-06-17T18:04:29.226Z"
   },
   {
    "duration": 712,
    "start_time": "2021-06-17T18:04:29.527Z"
   },
   {
    "duration": 335,
    "start_time": "2021-06-17T18:04:30.242Z"
   },
   {
    "duration": 330,
    "start_time": "2021-06-17T18:04:30.579Z"
   },
   {
    "duration": 330,
    "start_time": "2021-06-17T18:04:30.912Z"
   },
   {
    "duration": 925,
    "start_time": "2021-06-17T18:09:01.102Z"
   },
   {
    "duration": 25,
    "start_time": "2021-06-17T18:09:02.030Z"
   },
   {
    "duration": 17,
    "start_time": "2021-06-17T18:09:02.058Z"
   },
   {
    "duration": 76,
    "start_time": "2021-06-17T18:09:02.078Z"
   },
   {
    "duration": 17,
    "start_time": "2021-06-17T18:09:02.157Z"
   },
   {
    "duration": 15,
    "start_time": "2021-06-17T18:09:02.176Z"
   },
   {
    "duration": 10,
    "start_time": "2021-06-17T18:09:02.193Z"
   },
   {
    "duration": 49,
    "start_time": "2021-06-17T18:09:02.208Z"
   },
   {
    "duration": 29,
    "start_time": "2021-06-17T18:09:02.260Z"
   },
   {
    "duration": 13,
    "start_time": "2021-06-17T18:09:02.291Z"
   },
   {
    "duration": 22,
    "start_time": "2021-06-17T18:09:02.307Z"
   },
   {
    "duration": 29,
    "start_time": "2021-06-17T18:09:02.331Z"
   },
   {
    "duration": 13,
    "start_time": "2021-06-17T18:09:02.362Z"
   },
   {
    "duration": 10,
    "start_time": "2021-06-17T18:09:02.378Z"
   },
   {
    "duration": 7,
    "start_time": "2021-06-17T18:09:02.391Z"
   },
   {
    "duration": 11,
    "start_time": "2021-06-17T18:09:02.401Z"
   },
   {
    "duration": 45,
    "start_time": "2021-06-17T18:09:02.415Z"
   },
   {
    "duration": 9,
    "start_time": "2021-06-17T18:09:02.464Z"
   },
   {
    "duration": 12,
    "start_time": "2021-06-17T18:09:02.476Z"
   },
   {
    "duration": 12,
    "start_time": "2021-06-17T18:09:02.492Z"
   },
   {
    "duration": 106,
    "start_time": "2021-06-17T18:09:02.507Z"
   },
   {
    "duration": 14,
    "start_time": "2021-06-17T18:09:02.616Z"
   },
   {
    "duration": 23,
    "start_time": "2021-06-17T18:09:02.633Z"
   },
   {
    "duration": 10,
    "start_time": "2021-06-17T18:09:02.658Z"
   },
   {
    "duration": 8,
    "start_time": "2021-06-17T18:09:02.671Z"
   },
   {
    "duration": 8,
    "start_time": "2021-06-17T18:09:02.686Z"
   },
   {
    "duration": 13,
    "start_time": "2021-06-17T18:09:02.698Z"
   },
   {
    "duration": 7,
    "start_time": "2021-06-17T18:09:02.755Z"
   },
   {
    "duration": 29,
    "start_time": "2021-06-17T18:09:02.764Z"
   },
   {
    "duration": 22,
    "start_time": "2021-06-17T18:09:02.796Z"
   },
   {
    "duration": 40,
    "start_time": "2021-06-17T18:09:02.820Z"
   },
   {
    "duration": 6,
    "start_time": "2021-06-17T18:09:02.863Z"
   },
   {
    "duration": 13,
    "start_time": "2021-06-17T18:09:02.871Z"
   },
   {
    "duration": 15,
    "start_time": "2021-06-17T18:09:02.887Z"
   },
   {
    "duration": 63,
    "start_time": "2021-06-17T18:09:02.905Z"
   },
   {
    "duration": 56,
    "start_time": "2021-06-17T18:09:02.970Z"
   },
   {
    "duration": 5,
    "start_time": "2021-06-17T18:09:03.055Z"
   },
   {
    "duration": 751,
    "start_time": "2021-06-17T18:09:03.062Z"
   },
   {
    "duration": 6,
    "start_time": "2021-06-17T18:09:03.815Z"
   },
   {
    "duration": 57,
    "start_time": "2021-06-17T18:09:03.823Z"
   },
   {
    "duration": 632,
    "start_time": "2021-06-17T18:09:03.883Z"
   },
   {
    "duration": 589,
    "start_time": "2021-06-17T18:09:04.518Z"
   },
   {
    "duration": 573,
    "start_time": "2021-06-17T18:09:05.110Z"
   },
   {
    "duration": 582,
    "start_time": "2021-06-17T18:09:05.686Z"
   },
   {
    "duration": 411,
    "start_time": "2021-06-17T18:09:06.272Z"
   },
   {
    "duration": 9,
    "start_time": "2021-06-17T18:09:06.686Z"
   },
   {
    "duration": 254,
    "start_time": "2021-06-17T18:09:06.698Z"
   },
   {
    "duration": 16,
    "start_time": "2021-06-17T18:09:06.955Z"
   },
   {
    "duration": 458,
    "start_time": "2021-06-17T18:09:06.974Z"
   },
   {
    "duration": 26,
    "start_time": "2021-06-17T18:09:07.435Z"
   },
   {
    "duration": 331,
    "start_time": "2021-06-17T18:09:07.464Z"
   },
   {
    "duration": 16,
    "start_time": "2021-06-17T18:09:07.798Z"
   },
   {
    "duration": 719,
    "start_time": "2021-06-17T18:09:07.817Z"
   },
   {
    "duration": 494,
    "start_time": "2021-06-17T18:09:08.539Z"
   },
   {
    "duration": 266,
    "start_time": "2021-06-17T18:09:09.036Z"
   },
   {
    "duration": 886,
    "start_time": "2021-06-17T18:09:09.305Z"
   },
   {
    "duration": 31,
    "start_time": "2021-06-17T18:09:10.194Z"
   },
   {
    "duration": 27,
    "start_time": "2021-06-17T18:09:10.227Z"
   },
   {
    "duration": 9,
    "start_time": "2021-06-17T18:09:10.257Z"
   },
   {
    "duration": 49,
    "start_time": "2021-06-17T18:09:10.268Z"
   },
   {
    "duration": 480,
    "start_time": "2021-06-17T18:09:10.319Z"
   },
   {
    "duration": 11,
    "start_time": "2021-06-17T18:09:10.801Z"
   },
   {
    "duration": 70,
    "start_time": "2021-06-17T18:09:10.814Z"
   },
   {
    "duration": 1521,
    "start_time": "2021-06-17T18:09:10.886Z"
   },
   {
    "duration": 523,
    "start_time": "2021-06-17T18:09:12.410Z"
   },
   {
    "duration": 291,
    "start_time": "2021-06-17T18:09:12.936Z"
   },
   {
    "duration": 726,
    "start_time": "2021-06-17T18:09:13.230Z"
   },
   {
    "duration": 342,
    "start_time": "2021-06-17T18:09:13.959Z"
   },
   {
    "duration": 458,
    "start_time": "2021-06-17T18:09:14.303Z"
   },
   {
    "duration": 340,
    "start_time": "2021-06-17T18:09:14.764Z"
   },
   {
    "duration": 583,
    "start_time": "2021-06-17T18:10:11.941Z"
   },
   {
    "duration": 662,
    "start_time": "2021-06-17T18:10:14.133Z"
   },
   {
    "duration": 559,
    "start_time": "2021-06-17T18:10:16.080Z"
   },
   {
    "duration": 563,
    "start_time": "2021-06-17T18:10:20.375Z"
   },
   {
    "duration": 370,
    "start_time": "2021-06-17T18:10:22.716Z"
   },
   {
    "duration": 7,
    "start_time": "2021-06-17T18:10:23.866Z"
   },
   {
    "duration": 220,
    "start_time": "2021-06-17T18:10:25.405Z"
   },
   {
    "duration": 10,
    "start_time": "2021-06-17T18:10:27.885Z"
   },
   {
    "duration": 412,
    "start_time": "2021-06-17T18:10:28.695Z"
   },
   {
    "duration": 10,
    "start_time": "2021-06-17T18:10:30.681Z"
   },
   {
    "duration": 214,
    "start_time": "2021-06-17T18:10:31.492Z"
   },
   {
    "duration": 11,
    "start_time": "2021-06-17T18:10:33.300Z"
   },
   {
    "duration": 752,
    "start_time": "2021-06-17T18:10:34.075Z"
   },
   {
    "duration": 452,
    "start_time": "2021-06-17T18:10:37.194Z"
   },
   {
    "duration": 372,
    "start_time": "2021-06-17T18:10:39.232Z"
   },
   {
    "duration": 801,
    "start_time": "2021-06-17T18:10:40.858Z"
   },
   {
    "duration": 33,
    "start_time": "2021-06-17T18:10:43.078Z"
   },
   {
    "duration": 6,
    "start_time": "2021-06-17T18:10:45.456Z"
   },
   {
    "duration": 5,
    "start_time": "2021-06-17T18:10:46.788Z"
   },
   {
    "duration": 44,
    "start_time": "2021-06-17T18:10:48.365Z"
   },
   {
    "duration": 441,
    "start_time": "2021-06-17T18:10:49.789Z"
   },
   {
    "duration": 12,
    "start_time": "2021-06-17T18:10:52.686Z"
   },
   {
    "duration": 42,
    "start_time": "2021-06-17T18:10:55.374Z"
   },
   {
    "duration": 1446,
    "start_time": "2021-06-17T18:10:56.453Z"
   },
   {
    "duration": 516,
    "start_time": "2021-06-17T18:10:57.902Z"
   },
   {
    "duration": 275,
    "start_time": "2021-06-17T18:11:05.447Z"
   },
   {
    "duration": 722,
    "start_time": "2021-06-17T18:11:09.747Z"
   },
   {
    "duration": 305,
    "start_time": "2021-06-17T18:11:15.791Z"
   },
   {
    "duration": 314,
    "start_time": "2021-06-17T18:11:17.616Z"
   },
   {
    "duration": 323,
    "start_time": "2021-06-17T18:11:19.249Z"
   },
   {
    "duration": 1019,
    "start_time": "2021-06-18T12:36:44.181Z"
   },
   {
    "duration": 17,
    "start_time": "2021-06-18T12:36:45.203Z"
   },
   {
    "duration": 18,
    "start_time": "2021-06-18T12:36:45.224Z"
   },
   {
    "duration": 77,
    "start_time": "2021-06-18T12:36:45.245Z"
   },
   {
    "duration": 20,
    "start_time": "2021-06-18T12:36:45.325Z"
   },
   {
    "duration": 11,
    "start_time": "2021-06-18T12:36:45.349Z"
   },
   {
    "duration": 41,
    "start_time": "2021-06-18T12:36:45.363Z"
   },
   {
    "duration": 5,
    "start_time": "2021-06-18T12:36:45.409Z"
   },
   {
    "duration": 10,
    "start_time": "2021-06-18T12:36:45.418Z"
   },
   {
    "duration": 7,
    "start_time": "2021-06-18T12:36:45.431Z"
   },
   {
    "duration": 17,
    "start_time": "2021-06-18T12:36:45.441Z"
   },
   {
    "duration": 9,
    "start_time": "2021-06-18T12:36:45.500Z"
   },
   {
    "duration": 7,
    "start_time": "2021-06-18T12:36:45.512Z"
   },
   {
    "duration": 8,
    "start_time": "2021-06-18T12:36:45.523Z"
   },
   {
    "duration": 12,
    "start_time": "2021-06-18T12:36:45.533Z"
   },
   {
    "duration": 55,
    "start_time": "2021-06-18T12:36:45.548Z"
   },
   {
    "duration": 10,
    "start_time": "2021-06-18T12:36:45.607Z"
   },
   {
    "duration": 7,
    "start_time": "2021-06-18T12:36:45.620Z"
   },
   {
    "duration": 8,
    "start_time": "2021-06-18T12:36:45.629Z"
   },
   {
    "duration": 16,
    "start_time": "2021-06-18T12:36:45.639Z"
   },
   {
    "duration": 142,
    "start_time": "2021-06-18T12:36:45.659Z"
   },
   {
    "duration": 12,
    "start_time": "2021-06-18T12:36:45.804Z"
   },
   {
    "duration": 5,
    "start_time": "2021-06-18T12:36:45.824Z"
   },
   {
    "duration": 7,
    "start_time": "2021-06-18T12:36:45.833Z"
   },
   {
    "duration": 6,
    "start_time": "2021-06-18T12:36:45.843Z"
   },
   {
    "duration": 50,
    "start_time": "2021-06-18T12:36:45.852Z"
   },
   {
    "duration": 7,
    "start_time": "2021-06-18T12:36:45.905Z"
   },
   {
    "duration": 7,
    "start_time": "2021-06-18T12:36:45.915Z"
   },
   {
    "duration": 28,
    "start_time": "2021-06-18T12:36:45.926Z"
   },
   {
    "duration": 67,
    "start_time": "2021-06-18T12:36:45.957Z"
   },
   {
    "duration": 13,
    "start_time": "2021-06-18T12:36:46.027Z"
   },
   {
    "duration": 5,
    "start_time": "2021-06-18T12:36:46.043Z"
   },
   {
    "duration": 10,
    "start_time": "2021-06-18T12:36:46.051Z"
   },
   {
    "duration": 51,
    "start_time": "2021-06-18T12:36:46.063Z"
   },
   {
    "duration": 22,
    "start_time": "2021-06-18T12:36:46.118Z"
   },
   {
    "duration": 120,
    "start_time": "2021-06-18T12:36:46.144Z"
   },
   {
    "duration": 5,
    "start_time": "2021-06-18T12:36:46.268Z"
   },
   {
    "duration": 762,
    "start_time": "2021-06-18T12:36:46.276Z"
   },
   {
    "duration": 6,
    "start_time": "2021-06-18T12:36:47.040Z"
   },
   {
    "duration": 70,
    "start_time": "2021-06-18T12:36:47.048Z"
   },
   {
    "duration": 644,
    "start_time": "2021-06-18T12:36:47.120Z"
   },
   {
    "duration": 597,
    "start_time": "2021-06-18T12:36:47.767Z"
   },
   {
    "duration": 581,
    "start_time": "2021-06-18T12:36:48.366Z"
   },
   {
    "duration": 798,
    "start_time": "2021-06-18T12:36:48.950Z"
   },
   {
    "duration": 403,
    "start_time": "2021-06-18T12:36:49.751Z"
   },
   {
    "duration": 7,
    "start_time": "2021-06-18T12:36:50.157Z"
   },
   {
    "duration": 251,
    "start_time": "2021-06-18T12:36:50.167Z"
   },
   {
    "duration": 14,
    "start_time": "2021-06-18T12:36:50.421Z"
   },
   {
    "duration": 718,
    "start_time": "2021-06-18T12:36:50.438Z"
   },
   {
    "duration": 14,
    "start_time": "2021-06-18T12:36:51.159Z"
   },
   {
    "duration": 469,
    "start_time": "2021-06-18T12:36:51.177Z"
   },
   {
    "duration": 14,
    "start_time": "2021-06-18T12:36:51.649Z"
   },
   {
    "duration": 735,
    "start_time": "2021-06-18T12:36:51.666Z"
   },
   {
    "duration": 497,
    "start_time": "2021-06-18T12:36:52.406Z"
   },
   {
    "duration": 268,
    "start_time": "2021-06-18T12:36:52.906Z"
   },
   {
    "duration": 917,
    "start_time": "2021-06-18T12:36:53.176Z"
   },
   {
    "duration": 48,
    "start_time": "2021-06-18T12:36:54.097Z"
   },
   {
    "duration": 7,
    "start_time": "2021-06-18T12:36:54.147Z"
   },
   {
    "duration": 8,
    "start_time": "2021-06-18T12:36:54.158Z"
   },
   {
    "duration": 47,
    "start_time": "2021-06-18T12:36:54.202Z"
   },
   {
    "duration": 489,
    "start_time": "2021-06-18T12:36:54.253Z"
   },
   {
    "duration": 12,
    "start_time": "2021-06-18T12:36:54.746Z"
   },
   {
    "duration": 68,
    "start_time": "2021-06-18T12:36:54.761Z"
   },
   {
    "duration": 1581,
    "start_time": "2021-06-18T12:36:54.832Z"
   },
   {
    "duration": 541,
    "start_time": "2021-06-18T12:36:56.417Z"
   },
   {
    "duration": 325,
    "start_time": "2021-06-18T12:36:56.963Z"
   },
   {
    "duration": 855,
    "start_time": "2021-06-18T12:36:57.291Z"
   },
   {
    "duration": 494,
    "start_time": "2021-06-18T12:36:58.154Z"
   },
   {
    "duration": 523,
    "start_time": "2021-06-18T12:36:58.652Z"
   },
   {
    "duration": 523,
    "start_time": "2021-06-18T12:36:59.178Z"
   },
   {
    "duration": 1239,
    "start_time": "2021-06-18T14:42:11.988Z"
   },
   {
    "duration": 144,
    "start_time": "2021-06-18T14:42:30.248Z"
   },
   {
    "duration": 1026,
    "start_time": "2021-06-18T14:42:46.325Z"
   },
   {
    "duration": 16,
    "start_time": "2021-06-18T14:42:47.353Z"
   },
   {
    "duration": 11,
    "start_time": "2021-06-18T14:42:47.372Z"
   },
   {
    "duration": 36,
    "start_time": "2021-06-18T14:42:47.386Z"
   },
   {
    "duration": 43,
    "start_time": "2021-06-18T14:42:47.424Z"
   },
   {
    "duration": 9,
    "start_time": "2021-06-18T14:42:47.470Z"
   },
   {
    "duration": 6,
    "start_time": "2021-06-18T14:42:47.481Z"
   },
   {
    "duration": 4,
    "start_time": "2021-06-18T14:42:47.491Z"
   },
   {
    "duration": 9,
    "start_time": "2021-06-18T14:42:47.498Z"
   },
   {
    "duration": 6,
    "start_time": "2021-06-18T14:42:47.555Z"
   },
   {
    "duration": 21,
    "start_time": "2021-06-18T14:42:47.564Z"
   },
   {
    "duration": 10,
    "start_time": "2021-06-18T14:42:47.587Z"
   },
   {
    "duration": 6,
    "start_time": "2021-06-18T14:42:47.599Z"
   },
   {
    "duration": 6,
    "start_time": "2021-06-18T14:42:47.607Z"
   },
   {
    "duration": 43,
    "start_time": "2021-06-18T14:42:47.615Z"
   },
   {
    "duration": 11,
    "start_time": "2021-06-18T14:42:47.660Z"
   },
   {
    "duration": 8,
    "start_time": "2021-06-18T14:42:47.674Z"
   },
   {
    "duration": 8,
    "start_time": "2021-06-18T14:42:47.684Z"
   },
   {
    "duration": 7,
    "start_time": "2021-06-18T14:42:47.694Z"
   },
   {
    "duration": 7,
    "start_time": "2021-06-18T14:42:47.703Z"
   },
   {
    "duration": 58,
    "start_time": "2021-06-18T14:42:47.755Z"
   },
   {
    "duration": 11,
    "start_time": "2021-06-18T14:42:47.816Z"
   },
   {
    "duration": 6,
    "start_time": "2021-06-18T14:42:47.854Z"
   },
   {
    "duration": 6,
    "start_time": "2021-06-18T14:42:47.863Z"
   },
   {
    "duration": 5,
    "start_time": "2021-06-18T14:42:47.871Z"
   },
   {
    "duration": 11,
    "start_time": "2021-06-18T14:42:47.879Z"
   },
   {
    "duration": 7,
    "start_time": "2021-06-18T14:42:47.892Z"
   },
   {
    "duration": 6,
    "start_time": "2021-06-18T14:42:47.901Z"
   },
   {
    "duration": 60,
    "start_time": "2021-06-18T14:42:47.909Z"
   },
   {
    "duration": 21,
    "start_time": "2021-06-18T14:42:47.971Z"
   },
   {
    "duration": 8,
    "start_time": "2021-06-18T14:42:47.994Z"
   },
   {
    "duration": 5,
    "start_time": "2021-06-18T14:42:48.004Z"
   },
   {
    "duration": 45,
    "start_time": "2021-06-18T14:42:48.011Z"
   },
   {
    "duration": 15,
    "start_time": "2021-06-18T14:42:48.058Z"
   },
   {
    "duration": 15,
    "start_time": "2021-06-18T14:42:48.075Z"
   },
   {
    "duration": 82,
    "start_time": "2021-06-18T14:42:48.092Z"
   },
   {
    "duration": 5,
    "start_time": "2021-06-18T14:42:48.176Z"
   },
   {
    "duration": 723,
    "start_time": "2021-06-18T14:42:48.183Z"
   },
   {
    "duration": 5,
    "start_time": "2021-06-18T14:42:48.909Z"
   },
   {
    "duration": 58,
    "start_time": "2021-06-18T14:42:48.917Z"
   },
   {
    "duration": 620,
    "start_time": "2021-06-18T14:42:48.977Z"
   },
   {
    "duration": 694,
    "start_time": "2021-06-18T14:42:49.600Z"
   },
   {
    "duration": 581,
    "start_time": "2021-06-18T14:42:50.296Z"
   },
   {
    "duration": 605,
    "start_time": "2021-06-18T14:42:50.880Z"
   },
   {
    "duration": 490,
    "start_time": "2021-06-18T14:42:51.488Z"
   },
   {
    "duration": 8,
    "start_time": "2021-06-18T14:42:51.981Z"
   },
   {
    "duration": 237,
    "start_time": "2021-06-18T14:42:51.991Z"
   },
   {
    "duration": 25,
    "start_time": "2021-06-18T14:42:52.231Z"
   },
   {
    "duration": 420,
    "start_time": "2021-06-18T14:42:52.258Z"
   },
   {
    "duration": 9,
    "start_time": "2021-06-18T14:42:52.681Z"
   },
   {
    "duration": 312,
    "start_time": "2021-06-18T14:42:52.692Z"
   },
   {
    "duration": 13,
    "start_time": "2021-06-18T14:42:53.006Z"
   },
   {
    "duration": 714,
    "start_time": "2021-06-18T14:42:53.021Z"
   },
   {
    "duration": 491,
    "start_time": "2021-06-18T14:42:53.739Z"
   },
   {
    "duration": 302,
    "start_time": "2021-06-18T14:42:54.233Z"
   },
   {
    "duration": 848,
    "start_time": "2021-06-18T14:42:54.538Z"
   },
   {
    "duration": 31,
    "start_time": "2021-06-18T14:42:55.388Z"
   },
   {
    "duration": 5,
    "start_time": "2021-06-18T14:42:55.422Z"
   },
   {
    "duration": 29,
    "start_time": "2021-06-18T14:42:55.429Z"
   },
   {
    "duration": 58,
    "start_time": "2021-06-18T14:42:55.461Z"
   },
   {
    "duration": 457,
    "start_time": "2021-06-18T14:42:55.522Z"
   },
   {
    "duration": 11,
    "start_time": "2021-06-18T14:42:55.982Z"
   },
   {
    "duration": 65,
    "start_time": "2021-06-18T14:42:55.995Z"
   },
   {
    "duration": 1545,
    "start_time": "2021-06-18T14:42:56.063Z"
   },
   {
    "duration": 524,
    "start_time": "2021-06-18T14:42:57.611Z"
   },
   {
    "duration": 300,
    "start_time": "2021-06-18T14:42:58.139Z"
   },
   {
    "duration": 716,
    "start_time": "2021-06-18T14:42:58.442Z"
   },
   {
    "duration": 379,
    "start_time": "2021-06-18T14:42:59.165Z"
   },
   {
    "duration": 373,
    "start_time": "2021-06-18T14:42:59.547Z"
   },
   {
    "duration": 345,
    "start_time": "2021-06-18T14:42:59.922Z"
   },
   {
    "duration": 86,
    "start_time": "2021-06-18T14:48:46.192Z"
   },
   {
    "duration": 82,
    "start_time": "2021-06-18T14:48:51.678Z"
   },
   {
    "duration": 84,
    "start_time": "2021-06-18T14:49:09.670Z"
   },
   {
    "duration": 444,
    "start_time": "2021-06-18T14:49:28.450Z"
   },
   {
    "duration": 83,
    "start_time": "2021-06-18T14:49:52.389Z"
   },
   {
    "duration": 81,
    "start_time": "2021-06-18T14:49:55.671Z"
   },
   {
    "duration": 123,
    "start_time": "2021-06-18T14:50:16.220Z"
   },
   {
    "duration": 83,
    "start_time": "2021-06-18T14:51:52.227Z"
   },
   {
    "duration": 110,
    "start_time": "2021-06-18T14:52:13.128Z"
   },
   {
    "duration": 7,
    "start_time": "2021-06-18T14:55:37.953Z"
   },
   {
    "duration": 10,
    "start_time": "2021-06-18T14:55:42.609Z"
   },
   {
    "duration": 717,
    "start_time": "2021-06-18T15:38:30.523Z"
   },
   {
    "duration": 99,
    "start_time": "2021-06-18T15:39:39.697Z"
   },
   {
    "duration": 764,
    "start_time": "2021-06-18T15:39:54.567Z"
   },
   {
    "duration": 123,
    "start_time": "2021-06-18T15:40:38.327Z"
   },
   {
    "duration": 97,
    "start_time": "2021-06-18T15:40:43.418Z"
   },
   {
    "duration": 499,
    "start_time": "2021-06-18T15:41:03.829Z"
   },
   {
    "duration": 492,
    "start_time": "2021-06-18T15:43:36.469Z"
   },
   {
    "duration": 743,
    "start_time": "2021-06-18T15:43:52.806Z"
   },
   {
    "duration": 123,
    "start_time": "2021-06-18T15:44:07.151Z"
   },
   {
    "duration": 254,
    "start_time": "2021-06-18T15:44:12.421Z"
   },
   {
    "duration": 470,
    "start_time": "2021-06-18T15:46:47.441Z"
   },
   {
    "duration": 348,
    "start_time": "2021-06-18T15:47:05.288Z"
   },
   {
    "duration": 379,
    "start_time": "2021-06-18T15:47:15.126Z"
   },
   {
    "duration": 410,
    "start_time": "2021-06-18T15:47:19.332Z"
   },
   {
    "duration": 966,
    "start_time": "2021-06-18T15:54:56.764Z"
   },
   {
    "duration": 15,
    "start_time": "2021-06-18T15:54:57.732Z"
   },
   {
    "duration": 12,
    "start_time": "2021-06-18T15:54:57.755Z"
   },
   {
    "duration": 37,
    "start_time": "2021-06-18T15:54:57.770Z"
   },
   {
    "duration": 51,
    "start_time": "2021-06-18T15:54:57.810Z"
   },
   {
    "duration": 8,
    "start_time": "2021-06-18T15:54:57.863Z"
   },
   {
    "duration": 10,
    "start_time": "2021-06-18T15:54:57.874Z"
   },
   {
    "duration": 5,
    "start_time": "2021-06-18T15:54:58.063Z"
   },
   {
    "duration": 10,
    "start_time": "2021-06-18T15:54:58.070Z"
   },
   {
    "duration": 11,
    "start_time": "2021-06-18T15:54:58.082Z"
   },
   {
    "duration": 7,
    "start_time": "2021-06-18T15:54:58.406Z"
   },
   {
    "duration": 12,
    "start_time": "2021-06-18T15:54:58.416Z"
   },
   {
    "duration": 6,
    "start_time": "2021-06-18T15:54:58.738Z"
   },
   {
    "duration": 27,
    "start_time": "2021-06-18T15:54:58.746Z"
   },
   {
    "duration": 14,
    "start_time": "2021-06-18T15:54:58.775Z"
   },
   {
    "duration": 8,
    "start_time": "2021-06-18T15:54:59.117Z"
   },
   {
    "duration": 9,
    "start_time": "2021-06-18T15:54:59.386Z"
   },
   {
    "duration": 18,
    "start_time": "2021-06-18T15:54:59.397Z"
   },
   {
    "duration": 6,
    "start_time": "2021-06-18T15:54:59.639Z"
   },
   {
    "duration": 12,
    "start_time": "2021-06-18T15:54:59.648Z"
   },
   {
    "duration": 51,
    "start_time": "2021-06-18T15:54:59.889Z"
   },
   {
    "duration": 13,
    "start_time": "2021-06-18T15:54:59.943Z"
   },
   {
    "duration": 16,
    "start_time": "2021-06-18T15:54:59.958Z"
   },
   {
    "duration": 6,
    "start_time": "2021-06-18T15:55:00.189Z"
   },
   {
    "duration": 28,
    "start_time": "2021-06-18T15:55:00.197Z"
   },
   {
    "duration": 22,
    "start_time": "2021-06-18T15:55:00.227Z"
   },
   {
    "duration": 6,
    "start_time": "2021-06-18T15:55:00.451Z"
   },
   {
    "duration": 27,
    "start_time": "2021-06-18T15:55:00.459Z"
   },
   {
    "duration": 37,
    "start_time": "2021-06-18T15:55:00.489Z"
   },
   {
    "duration": 24,
    "start_time": "2021-06-18T15:55:00.528Z"
   },
   {
    "duration": 10,
    "start_time": "2021-06-18T15:55:00.673Z"
   },
   {
    "duration": 21,
    "start_time": "2021-06-18T15:55:00.686Z"
   },
   {
    "duration": 29,
    "start_time": "2021-06-18T15:55:00.710Z"
   },
   {
    "duration": 14,
    "start_time": "2021-06-18T15:55:00.927Z"
   },
   {
    "duration": 41,
    "start_time": "2021-06-18T15:55:00.944Z"
   },
   {
    "duration": 61,
    "start_time": "2021-06-18T15:55:00.988Z"
   },
   {
    "duration": 5,
    "start_time": "2021-06-18T15:55:01.053Z"
   },
   {
    "duration": 744,
    "start_time": "2021-06-18T15:55:01.061Z"
   },
   {
    "duration": 5,
    "start_time": "2021-06-18T15:55:01.808Z"
   },
   {
    "duration": 59,
    "start_time": "2021-06-18T15:55:01.816Z"
   },
   {
    "duration": 632,
    "start_time": "2021-06-18T15:55:01.877Z"
   },
   {
    "duration": 589,
    "start_time": "2021-06-18T15:55:02.512Z"
   },
   {
    "duration": 676,
    "start_time": "2021-06-18T15:55:03.103Z"
   },
   {
    "duration": 575,
    "start_time": "2021-06-18T15:55:03.782Z"
   },
   {
    "duration": 395,
    "start_time": "2021-06-18T15:55:04.359Z"
   },
   {
    "duration": 7,
    "start_time": "2021-06-18T15:55:04.757Z"
   },
   {
    "duration": 246,
    "start_time": "2021-06-18T15:55:04.766Z"
   },
   {
    "duration": 15,
    "start_time": "2021-06-18T15:55:05.015Z"
   },
   {
    "duration": 450,
    "start_time": "2021-06-18T15:55:05.054Z"
   },
   {
    "duration": 10,
    "start_time": "2021-06-18T15:55:05.506Z"
   },
   {
    "duration": 317,
    "start_time": "2021-06-18T15:55:05.518Z"
   },
   {
    "duration": 17,
    "start_time": "2021-06-18T15:55:05.840Z"
   },
   {
    "duration": 709,
    "start_time": "2021-06-18T15:55:05.860Z"
   },
   {
    "duration": 500,
    "start_time": "2021-06-18T15:55:06.571Z"
   },
   {
    "duration": 254,
    "start_time": "2021-06-18T15:55:07.073Z"
   },
   {
    "duration": 817,
    "start_time": "2021-06-18T15:55:07.330Z"
   },
   {
    "duration": 31,
    "start_time": "2021-06-18T15:55:08.154Z"
   },
   {
    "duration": 6,
    "start_time": "2021-06-18T15:55:08.187Z"
   },
   {
    "duration": 8,
    "start_time": "2021-06-18T15:55:08.195Z"
   },
   {
    "duration": 71,
    "start_time": "2021-06-18T15:55:08.205Z"
   },
   {
    "duration": 452,
    "start_time": "2021-06-18T15:55:08.279Z"
   },
   {
    "duration": 22,
    "start_time": "2021-06-18T15:55:08.734Z"
   },
   {
    "duration": 59,
    "start_time": "2021-06-18T15:55:08.758Z"
   },
   {
    "duration": 372,
    "start_time": "2021-06-18T15:55:08.819Z"
   },
   {
    "duration": 380,
    "start_time": "2021-06-18T15:55:09.194Z"
   },
   {
    "duration": 399,
    "start_time": "2021-06-18T15:55:09.576Z"
   },
   {
    "duration": 480,
    "start_time": "2021-06-18T15:55:09.978Z"
   },
   {
    "duration": 518,
    "start_time": "2021-06-18T15:55:10.460Z"
   },
   {
    "duration": 287,
    "start_time": "2021-06-18T15:55:10.980Z"
   },
   {
    "duration": 719,
    "start_time": "2021-06-18T15:55:11.269Z"
   },
   {
    "duration": 332,
    "start_time": "2021-06-18T15:55:11.991Z"
   },
   {
    "duration": 340,
    "start_time": "2021-06-18T15:55:12.326Z"
   },
   {
    "duration": 345,
    "start_time": "2021-06-18T15:55:12.669Z"
   },
   {
    "duration": 318,
    "start_time": "2021-06-19T08:33:03.678Z"
   },
   {
    "duration": 1012,
    "start_time": "2021-06-19T08:33:13.034Z"
   },
   {
    "duration": 14,
    "start_time": "2021-06-19T08:33:14.049Z"
   },
   {
    "duration": 11,
    "start_time": "2021-06-19T08:33:14.066Z"
   },
   {
    "duration": 39,
    "start_time": "2021-06-19T08:33:14.102Z"
   },
   {
    "duration": 15,
    "start_time": "2021-06-19T08:33:14.144Z"
   },
   {
    "duration": 40,
    "start_time": "2021-06-19T08:33:14.162Z"
   },
   {
    "duration": 6,
    "start_time": "2021-06-19T08:33:14.206Z"
   },
   {
    "duration": 7,
    "start_time": "2021-06-19T08:33:14.215Z"
   },
   {
    "duration": 12,
    "start_time": "2021-06-19T08:33:14.225Z"
   },
   {
    "duration": 21,
    "start_time": "2021-06-19T08:33:14.239Z"
   },
   {
    "duration": 11,
    "start_time": "2021-06-19T08:33:14.262Z"
   },
   {
    "duration": 7,
    "start_time": "2021-06-19T08:33:14.300Z"
   },
   {
    "duration": 7,
    "start_time": "2021-06-19T08:33:14.311Z"
   },
   {
    "duration": 8,
    "start_time": "2021-06-19T08:33:14.320Z"
   },
   {
    "duration": 7,
    "start_time": "2021-06-19T08:33:14.330Z"
   },
   {
    "duration": 8,
    "start_time": "2021-06-19T08:33:14.340Z"
   },
   {
    "duration": 57,
    "start_time": "2021-06-19T08:33:14.350Z"
   },
   {
    "duration": 5,
    "start_time": "2021-06-19T08:33:14.410Z"
   },
   {
    "duration": 8,
    "start_time": "2021-06-19T08:33:14.418Z"
   },
   {
    "duration": 8,
    "start_time": "2021-06-19T08:33:14.429Z"
   },
   {
    "duration": 95,
    "start_time": "2021-06-19T08:33:14.440Z"
   },
   {
    "duration": 17,
    "start_time": "2021-06-19T08:33:14.538Z"
   },
   {
    "duration": 6,
    "start_time": "2021-06-19T08:33:14.561Z"
   },
   {
    "duration": 32,
    "start_time": "2021-06-19T08:33:14.571Z"
   },
   {
    "duration": 15,
    "start_time": "2021-06-19T08:33:14.606Z"
   },
   {
    "duration": 7,
    "start_time": "2021-06-19T08:33:14.624Z"
   },
   {
    "duration": 6,
    "start_time": "2021-06-19T08:33:14.633Z"
   },
   {
    "duration": 7,
    "start_time": "2021-06-19T08:33:14.641Z"
   },
   {
    "duration": 55,
    "start_time": "2021-06-19T08:33:14.651Z"
   },
   {
    "duration": 23,
    "start_time": "2021-06-19T08:33:14.709Z"
   },
   {
    "duration": 12,
    "start_time": "2021-06-19T08:33:14.735Z"
   },
   {
    "duration": 6,
    "start_time": "2021-06-19T08:33:14.749Z"
   },
   {
    "duration": 49,
    "start_time": "2021-06-19T08:33:14.758Z"
   },
   {
    "duration": 16,
    "start_time": "2021-06-19T08:33:14.810Z"
   },
   {
    "duration": 16,
    "start_time": "2021-06-19T08:33:14.828Z"
   },
   {
    "duration": 88,
    "start_time": "2021-06-19T08:33:14.846Z"
   },
   {
    "duration": 6,
    "start_time": "2021-06-19T08:33:14.937Z"
   },
   {
    "duration": 731,
    "start_time": "2021-06-19T08:33:14.945Z"
   },
   {
    "duration": 6,
    "start_time": "2021-06-19T08:33:15.680Z"
   },
   {
    "duration": 37,
    "start_time": "2021-06-19T08:33:15.702Z"
   },
   {
    "duration": 619,
    "start_time": "2021-06-19T08:33:15.742Z"
   },
   {
    "duration": 573,
    "start_time": "2021-06-19T08:33:16.364Z"
   },
   {
    "duration": 595,
    "start_time": "2021-06-19T08:33:16.940Z"
   },
   {
    "duration": 567,
    "start_time": "2021-06-19T08:33:17.537Z"
   },
   {
    "duration": 372,
    "start_time": "2021-06-19T08:33:18.106Z"
   },
   {
    "duration": 19,
    "start_time": "2021-06-19T08:33:18.481Z"
   },
   {
    "duration": 231,
    "start_time": "2021-06-19T08:33:18.503Z"
   },
   {
    "duration": 13,
    "start_time": "2021-06-19T08:33:18.737Z"
   },
   {
    "duration": 431,
    "start_time": "2021-06-19T08:33:18.752Z"
   },
   {
    "duration": 23,
    "start_time": "2021-06-19T08:33:19.186Z"
   },
   {
    "duration": 303,
    "start_time": "2021-06-19T08:33:19.212Z"
   },
   {
    "duration": 15,
    "start_time": "2021-06-19T08:33:19.518Z"
   },
   {
    "duration": 709,
    "start_time": "2021-06-19T08:33:19.535Z"
   },
   {
    "duration": 483,
    "start_time": "2021-06-19T08:33:20.247Z"
   },
   {
    "duration": 255,
    "start_time": "2021-06-19T08:33:20.733Z"
   },
   {
    "duration": 780,
    "start_time": "2021-06-19T08:33:21.001Z"
   },
   {
    "duration": 38,
    "start_time": "2021-06-19T08:33:21.784Z"
   },
   {
    "duration": 5,
    "start_time": "2021-06-19T08:33:21.825Z"
   },
   {
    "duration": 11,
    "start_time": "2021-06-19T08:33:21.833Z"
   },
   {
    "duration": 69,
    "start_time": "2021-06-19T08:33:21.847Z"
   },
   {
    "duration": 362,
    "start_time": "2021-06-19T08:33:21.919Z"
   },
   {
    "duration": -7196010,
    "start_time": "2021-06-19T10:33:18.294Z"
   },
   {
    "duration": -7196091,
    "start_time": "2021-06-19T10:33:18.376Z"
   },
   {
    "duration": -7196171,
    "start_time": "2021-06-19T10:33:18.458Z"
   },
   {
    "duration": -7196231,
    "start_time": "2021-06-19T10:33:18.519Z"
   },
   {
    "duration": -7196243,
    "start_time": "2021-06-19T10:33:18.532Z"
   },
   {
    "duration": -7196251,
    "start_time": "2021-06-19T10:33:18.542Z"
   },
   {
    "duration": -7196259,
    "start_time": "2021-06-19T10:33:18.551Z"
   },
   {
    "duration": -7196264,
    "start_time": "2021-06-19T10:33:18.557Z"
   },
   {
    "duration": -7196268,
    "start_time": "2021-06-19T10:33:18.563Z"
   },
   {
    "duration": -7196273,
    "start_time": "2021-06-19T10:33:18.569Z"
   },
   {
    "duration": -7196278,
    "start_time": "2021-06-19T10:33:18.575Z"
   },
   {
    "duration": -7196282,
    "start_time": "2021-06-19T10:33:18.581Z"
   },
   {
    "duration": 961,
    "start_time": "2021-06-19T08:36:42.700Z"
   },
   {
    "duration": 16,
    "start_time": "2021-06-19T08:36:43.663Z"
   },
   {
    "duration": 24,
    "start_time": "2021-06-19T08:36:43.682Z"
   },
   {
    "duration": 36,
    "start_time": "2021-06-19T08:36:43.709Z"
   },
   {
    "duration": 16,
    "start_time": "2021-06-19T08:36:43.748Z"
   },
   {
    "duration": 9,
    "start_time": "2021-06-19T08:36:43.800Z"
   },
   {
    "duration": 6,
    "start_time": "2021-06-19T08:36:43.812Z"
   },
   {
    "duration": 4,
    "start_time": "2021-06-19T08:36:43.822Z"
   },
   {
    "duration": 10,
    "start_time": "2021-06-19T08:36:43.829Z"
   },
   {
    "duration": 6,
    "start_time": "2021-06-19T08:36:43.842Z"
   },
   {
    "duration": 7,
    "start_time": "2021-06-19T08:36:43.851Z"
   },
   {
    "duration": 6,
    "start_time": "2021-06-19T08:36:43.901Z"
   },
   {
    "duration": 7,
    "start_time": "2021-06-19T08:36:43.910Z"
   },
   {
    "duration": 7,
    "start_time": "2021-06-19T08:36:43.920Z"
   },
   {
    "duration": 8,
    "start_time": "2021-06-19T08:36:43.930Z"
   },
   {
    "duration": 62,
    "start_time": "2021-06-19T08:36:43.941Z"
   },
   {
    "duration": 10,
    "start_time": "2021-06-19T08:36:44.007Z"
   },
   {
    "duration": 7,
    "start_time": "2021-06-19T08:36:44.019Z"
   },
   {
    "duration": 6,
    "start_time": "2021-06-19T08:36:44.029Z"
   },
   {
    "duration": 8,
    "start_time": "2021-06-19T08:36:44.038Z"
   },
   {
    "duration": 94,
    "start_time": "2021-06-19T08:36:44.048Z"
   },
   {
    "duration": 13,
    "start_time": "2021-06-19T08:36:44.145Z"
   },
   {
    "duration": 6,
    "start_time": "2021-06-19T08:36:44.164Z"
   },
   {
    "duration": 30,
    "start_time": "2021-06-19T08:36:44.173Z"
   },
   {
    "duration": 6,
    "start_time": "2021-06-19T08:36:44.206Z"
   },
   {
    "duration": 6,
    "start_time": "2021-06-19T08:36:44.215Z"
   },
   {
    "duration": 7,
    "start_time": "2021-06-19T08:36:44.223Z"
   },
   {
    "duration": 7,
    "start_time": "2021-06-19T08:36:44.232Z"
   },
   {
    "duration": 25,
    "start_time": "2021-06-19T08:36:44.241Z"
   },
   {
    "duration": 21,
    "start_time": "2021-06-19T08:36:44.301Z"
   },
   {
    "duration": 11,
    "start_time": "2021-06-19T08:36:44.325Z"
   },
   {
    "duration": 5,
    "start_time": "2021-06-19T08:36:44.338Z"
   },
   {
    "duration": 11,
    "start_time": "2021-06-19T08:36:44.346Z"
   },
   {
    "duration": 58,
    "start_time": "2021-06-19T08:36:44.359Z"
   },
   {
    "duration": 16,
    "start_time": "2021-06-19T08:36:44.420Z"
   },
   {
    "duration": 86,
    "start_time": "2021-06-19T08:36:44.439Z"
   },
   {
    "duration": 5,
    "start_time": "2021-06-19T08:36:44.528Z"
   },
   {
    "duration": 709,
    "start_time": "2021-06-19T08:36:44.536Z"
   },
   {
    "duration": 7,
    "start_time": "2021-06-19T08:36:45.247Z"
   },
   {
    "duration": 56,
    "start_time": "2021-06-19T08:36:45.256Z"
   },
   {
    "duration": 592,
    "start_time": "2021-06-19T08:36:45.315Z"
   },
   {
    "duration": 561,
    "start_time": "2021-06-19T08:36:45.910Z"
   },
   {
    "duration": 550,
    "start_time": "2021-06-19T08:36:46.473Z"
   },
   {
    "duration": 530,
    "start_time": "2021-06-19T08:36:47.027Z"
   },
   {
    "duration": 373,
    "start_time": "2021-06-19T08:36:47.559Z"
   },
   {
    "duration": 9,
    "start_time": "2021-06-19T08:36:47.934Z"
   },
   {
    "duration": 239,
    "start_time": "2021-06-19T08:36:47.945Z"
   },
   {
    "duration": 21,
    "start_time": "2021-06-19T08:36:48.187Z"
   },
   {
    "duration": 406,
    "start_time": "2021-06-19T08:36:48.211Z"
   },
   {
    "duration": 9,
    "start_time": "2021-06-19T08:36:48.620Z"
   },
   {
    "duration": 304,
    "start_time": "2021-06-19T08:36:48.632Z"
   },
   {
    "duration": 13,
    "start_time": "2021-06-19T08:36:48.938Z"
   },
   {
    "duration": 701,
    "start_time": "2021-06-19T08:36:48.954Z"
   },
   {
    "duration": 468,
    "start_time": "2021-06-19T08:36:49.658Z"
   },
   {
    "duration": 261,
    "start_time": "2021-06-19T08:36:50.128Z"
   },
   {
    "duration": 777,
    "start_time": "2021-06-19T08:36:50.391Z"
   },
   {
    "duration": 42,
    "start_time": "2021-06-19T08:36:51.171Z"
   },
   {
    "duration": 5,
    "start_time": "2021-06-19T08:36:51.215Z"
   },
   {
    "duration": 13,
    "start_time": "2021-06-19T08:36:51.223Z"
   },
   {
    "duration": 64,
    "start_time": "2021-06-19T08:36:51.238Z"
   },
   {
    "duration": 953,
    "start_time": "2021-06-19T08:40:41.533Z"
   },
   {
    "duration": 24,
    "start_time": "2021-06-19T08:40:42.489Z"
   },
   {
    "duration": 13,
    "start_time": "2021-06-19T08:40:42.516Z"
   },
   {
    "duration": 37,
    "start_time": "2021-06-19T08:40:42.532Z"
   },
   {
    "duration": 16,
    "start_time": "2021-06-19T08:40:42.600Z"
   },
   {
    "duration": 15,
    "start_time": "2021-06-19T08:40:42.619Z"
   },
   {
    "duration": 13,
    "start_time": "2021-06-19T08:40:42.636Z"
   },
   {
    "duration": 7,
    "start_time": "2021-06-19T08:40:42.653Z"
   },
   {
    "duration": 38,
    "start_time": "2021-06-19T08:40:42.663Z"
   },
   {
    "duration": 7,
    "start_time": "2021-06-19T08:40:42.703Z"
   },
   {
    "duration": 10,
    "start_time": "2021-06-19T08:40:42.713Z"
   },
   {
    "duration": 8,
    "start_time": "2021-06-19T08:40:42.725Z"
   },
   {
    "duration": 7,
    "start_time": "2021-06-19T08:40:42.735Z"
   },
   {
    "duration": 8,
    "start_time": "2021-06-19T08:40:42.744Z"
   },
   {
    "duration": 49,
    "start_time": "2021-06-19T08:40:42.755Z"
   },
   {
    "duration": 9,
    "start_time": "2021-06-19T08:40:42.808Z"
   },
   {
    "duration": 8,
    "start_time": "2021-06-19T08:40:42.819Z"
   },
   {
    "duration": 6,
    "start_time": "2021-06-19T08:40:42.830Z"
   },
   {
    "duration": 9,
    "start_time": "2021-06-19T08:40:42.839Z"
   },
   {
    "duration": 53,
    "start_time": "2021-06-19T08:40:42.850Z"
   },
   {
    "duration": 47,
    "start_time": "2021-06-19T08:40:42.906Z"
   },
   {
    "duration": 11,
    "start_time": "2021-06-19T08:40:42.956Z"
   },
   {
    "duration": 28,
    "start_time": "2021-06-19T08:40:42.974Z"
   },
   {
    "duration": 6,
    "start_time": "2021-06-19T08:40:43.006Z"
   },
   {
    "duration": 8,
    "start_time": "2021-06-19T08:40:43.014Z"
   },
   {
    "duration": 7,
    "start_time": "2021-06-19T08:40:43.025Z"
   },
   {
    "duration": 6,
    "start_time": "2021-06-19T08:40:43.034Z"
   },
   {
    "duration": 7,
    "start_time": "2021-06-19T08:40:43.043Z"
   },
   {
    "duration": 66,
    "start_time": "2021-06-19T08:40:43.052Z"
   },
   {
    "duration": 20,
    "start_time": "2021-06-19T08:40:43.121Z"
   },
   {
    "duration": 8,
    "start_time": "2021-06-19T08:40:43.143Z"
   },
   {
    "duration": 5,
    "start_time": "2021-06-19T08:40:43.153Z"
   },
   {
    "duration": 44,
    "start_time": "2021-06-19T08:40:43.160Z"
   },
   {
    "duration": 14,
    "start_time": "2021-06-19T08:40:43.207Z"
   },
   {
    "duration": 14,
    "start_time": "2021-06-19T08:40:43.223Z"
   },
   {
    "duration": 82,
    "start_time": "2021-06-19T08:40:43.239Z"
   },
   {
    "duration": 5,
    "start_time": "2021-06-19T08:40:43.325Z"
   },
   {
    "duration": 721,
    "start_time": "2021-06-19T08:40:43.333Z"
   },
   {
    "duration": 7,
    "start_time": "2021-06-19T08:40:44.057Z"
   },
   {
    "duration": 54,
    "start_time": "2021-06-19T08:40:44.066Z"
   },
   {
    "duration": 580,
    "start_time": "2021-06-19T08:40:44.124Z"
   },
   {
    "duration": 561,
    "start_time": "2021-06-19T08:40:44.707Z"
   },
   {
    "duration": 541,
    "start_time": "2021-06-19T08:40:45.271Z"
   },
   {
    "duration": 534,
    "start_time": "2021-06-19T08:40:45.815Z"
   },
   {
    "duration": 368,
    "start_time": "2021-06-19T08:40:46.352Z"
   },
   {
    "duration": 7,
    "start_time": "2021-06-19T08:40:46.723Z"
   },
   {
    "duration": 229,
    "start_time": "2021-06-19T08:40:46.733Z"
   },
   {
    "duration": 13,
    "start_time": "2021-06-19T08:40:46.965Z"
   },
   {
    "duration": 414,
    "start_time": "2021-06-19T08:40:46.980Z"
   },
   {
    "duration": 10,
    "start_time": "2021-06-19T08:40:47.401Z"
   },
   {
    "duration": 290,
    "start_time": "2021-06-19T08:40:47.413Z"
   },
   {
    "duration": 13,
    "start_time": "2021-06-19T08:40:47.706Z"
   },
   {
    "duration": 680,
    "start_time": "2021-06-19T08:40:47.721Z"
   },
   {
    "duration": 455,
    "start_time": "2021-06-19T08:40:48.404Z"
   },
   {
    "duration": 243,
    "start_time": "2021-06-19T08:40:48.862Z"
   },
   {
    "duration": 773,
    "start_time": "2021-06-19T08:40:49.107Z"
   },
   {
    "duration": 36,
    "start_time": "2021-06-19T08:40:49.883Z"
   },
   {
    "duration": 5,
    "start_time": "2021-06-19T08:40:49.922Z"
   },
   {
    "duration": 10,
    "start_time": "2021-06-19T08:40:49.929Z"
   },
   {
    "duration": 65,
    "start_time": "2021-06-19T08:40:49.941Z"
   },
   {
    "duration": 426,
    "start_time": "2021-06-19T08:40:50.008Z"
   },
   {
    "duration": 11,
    "start_time": "2021-06-19T08:40:50.436Z"
   },
   {
    "duration": 68,
    "start_time": "2021-06-19T08:40:50.450Z"
   },
   {
    "duration": 356,
    "start_time": "2021-06-19T08:40:50.520Z"
   },
   {
    "duration": 344,
    "start_time": "2021-06-19T08:40:50.879Z"
   },
   {
    "duration": 411,
    "start_time": "2021-06-19T08:40:51.226Z"
   },
   {
    "duration": 438,
    "start_time": "2021-06-19T08:40:51.640Z"
   },
   {
    "duration": 500,
    "start_time": "2021-06-19T08:40:52.085Z"
   },
   {
    "duration": 280,
    "start_time": "2021-06-19T08:40:52.587Z"
   },
   {
    "duration": 676,
    "start_time": "2021-06-19T08:40:52.870Z"
   },
   {
    "duration": 320,
    "start_time": "2021-06-19T08:40:53.549Z"
   },
   {
    "duration": 323,
    "start_time": "2021-06-19T08:40:53.872Z"
   },
   {
    "duration": 320,
    "start_time": "2021-06-19T08:40:54.201Z"
   },
   {
    "duration": 15334,
    "start_time": "2021-06-19T08:41:21.077Z"
   },
   {
    "duration": 15127,
    "start_time": "2021-06-19T08:41:59.616Z"
   },
   {
    "duration": 15611,
    "start_time": "2021-06-19T08:43:07.237Z"
   },
   {
    "duration": 212,
    "start_time": "2021-06-19T08:51:45.720Z"
   },
   {
    "duration": 16644,
    "start_time": "2021-06-19T08:56:41.997Z"
   },
   {
    "duration": 15075,
    "start_time": "2021-06-19T08:57:47.111Z"
   },
   {
    "duration": 15457,
    "start_time": "2021-06-19T08:58:23.357Z"
   },
   {
    "duration": 15168,
    "start_time": "2021-06-19T08:59:28.271Z"
   },
   {
    "duration": 16921,
    "start_time": "2021-06-19T08:59:54.868Z"
   },
   {
    "duration": 13,
    "start_time": "2021-06-19T09:05:40.849Z"
   },
   {
    "duration": 6748,
    "start_time": "2021-06-19T09:07:04.510Z"
   },
   {
    "duration": 541,
    "start_time": "2021-06-19T09:07:54.459Z"
   },
   {
    "duration": 372,
    "start_time": "2021-06-19T09:08:23.711Z"
   },
   {
    "duration": 516,
    "start_time": "2021-06-19T09:08:37.456Z"
   },
   {
    "duration": 746,
    "start_time": "2021-06-19T09:08:46.579Z"
   },
   {
    "duration": 1162,
    "start_time": "2021-06-19T09:08:54.853Z"
   },
   {
    "duration": 498,
    "start_time": "2021-06-19T09:09:53.039Z"
   },
   {
    "duration": 596,
    "start_time": "2021-06-19T09:10:00.879Z"
   },
   {
    "duration": 522,
    "start_time": "2021-06-19T09:10:12.025Z"
   },
   {
    "duration": 619,
    "start_time": "2021-06-19T09:10:41.348Z"
   },
   {
    "duration": 488,
    "start_time": "2021-06-19T09:10:48.541Z"
   },
   {
    "duration": 528,
    "start_time": "2021-06-19T09:11:01.387Z"
   },
   {
    "duration": 503,
    "start_time": "2021-06-19T09:12:41.471Z"
   },
   {
    "duration": 733,
    "start_time": "2021-06-19T09:13:06.629Z"
   },
   {
    "duration": 985,
    "start_time": "2021-06-19T09:13:13.223Z"
   },
   {
    "duration": 367,
    "start_time": "2021-06-19T09:13:21.537Z"
   },
   {
    "duration": 318,
    "start_time": "2021-06-19T09:13:32.627Z"
   },
   {
    "duration": 506,
    "start_time": "2021-06-19T09:13:53.535Z"
   },
   {
    "duration": 16301,
    "start_time": "2021-06-19T09:14:13.691Z"
   },
   {
    "duration": 537,
    "start_time": "2021-06-19T09:15:27.159Z"
   },
   {
    "duration": 6286,
    "start_time": "2021-06-19T09:17:09.799Z"
   },
   {
    "duration": 16524,
    "start_time": "2021-06-19T09:18:19.605Z"
   },
   {
    "duration": 15305,
    "start_time": "2021-06-19T09:18:45.918Z"
   },
   {
    "duration": 16184,
    "start_time": "2021-06-19T09:19:10.511Z"
   },
   {
    "duration": 15801,
    "start_time": "2021-06-19T09:19:32.474Z"
   },
   {
    "duration": 14853,
    "start_time": "2021-06-19T09:20:18.863Z"
   },
   {
    "duration": 347,
    "start_time": "2021-06-19T09:22:46.518Z"
   },
   {
    "duration": 368,
    "start_time": "2021-06-19T09:23:24.402Z"
   },
   {
    "duration": 376,
    "start_time": "2021-06-19T09:23:50.694Z"
   },
   {
    "duration": 345,
    "start_time": "2021-06-19T09:24:22.827Z"
   },
   {
    "duration": 371,
    "start_time": "2021-06-19T09:25:07.754Z"
   },
   {
    "duration": 17274,
    "start_time": "2021-06-19T09:25:50.510Z"
   },
   {
    "duration": 471,
    "start_time": "2021-06-19T09:26:28.013Z"
   },
   {
    "duration": 349,
    "start_time": "2021-06-19T09:26:37.551Z"
   },
   {
    "duration": 382,
    "start_time": "2021-06-19T09:27:19.559Z"
   },
   {
    "duration": 376,
    "start_time": "2021-06-19T09:28:26.498Z"
   },
   {
    "duration": 911,
    "start_time": "2021-06-19T09:30:41.109Z"
   },
   {
    "duration": 515,
    "start_time": "2021-06-19T09:31:14.505Z"
   },
   {
    "duration": 647,
    "start_time": "2021-06-19T09:31:41.337Z"
   },
   {
    "duration": 393,
    "start_time": "2021-06-19T09:31:52.866Z"
   },
   {
    "duration": 675,
    "start_time": "2021-06-19T09:38:36.304Z"
   },
   {
    "duration": 241,
    "start_time": "2021-06-19T09:39:08.322Z"
   },
   {
    "duration": 11,
    "start_time": "2021-06-19T09:39:13.829Z"
   },
   {
    "duration": 300,
    "start_time": "2021-06-19T09:39:15.584Z"
   },
   {
    "duration": 80,
    "start_time": "2021-06-19T09:39:30.195Z"
   },
   {
    "duration": 267,
    "start_time": "2021-06-19T09:39:35.726Z"
   },
   {
    "duration": 1001,
    "start_time": "2021-06-19T09:40:45.778Z"
   },
   {
    "duration": 31,
    "start_time": "2021-06-19T09:40:46.782Z"
   },
   {
    "duration": 11,
    "start_time": "2021-06-19T09:40:46.816Z"
   },
   {
    "duration": 37,
    "start_time": "2021-06-19T09:40:46.829Z"
   },
   {
    "duration": 42,
    "start_time": "2021-06-19T09:40:46.869Z"
   },
   {
    "duration": 8,
    "start_time": "2021-06-19T09:40:46.913Z"
   },
   {
    "duration": 6,
    "start_time": "2021-06-19T09:40:46.923Z"
   },
   {
    "duration": 4,
    "start_time": "2021-06-19T09:40:46.933Z"
   },
   {
    "duration": 8,
    "start_time": "2021-06-19T09:40:46.940Z"
   },
   {
    "duration": 52,
    "start_time": "2021-06-19T09:40:46.950Z"
   },
   {
    "duration": 13,
    "start_time": "2021-06-19T09:40:47.004Z"
   },
   {
    "duration": 10,
    "start_time": "2021-06-19T09:40:47.020Z"
   },
   {
    "duration": 8,
    "start_time": "2021-06-19T09:40:47.032Z"
   },
   {
    "duration": 8,
    "start_time": "2021-06-19T09:40:47.042Z"
   },
   {
    "duration": 9,
    "start_time": "2021-06-19T09:40:47.052Z"
   },
   {
    "duration": 43,
    "start_time": "2021-06-19T09:40:47.064Z"
   },
   {
    "duration": 10,
    "start_time": "2021-06-19T09:40:47.110Z"
   },
   {
    "duration": 6,
    "start_time": "2021-06-19T09:40:47.123Z"
   },
   {
    "duration": 7,
    "start_time": "2021-06-19T09:40:47.132Z"
   },
   {
    "duration": 61,
    "start_time": "2021-06-19T09:40:47.142Z"
   },
   {
    "duration": 50,
    "start_time": "2021-06-19T09:40:47.206Z"
   },
   {
    "duration": 15,
    "start_time": "2021-06-19T09:40:47.259Z"
   },
   {
    "duration": 8,
    "start_time": "2021-06-19T09:40:47.305Z"
   },
   {
    "duration": 8,
    "start_time": "2021-06-19T09:40:47.317Z"
   },
   {
    "duration": 6,
    "start_time": "2021-06-19T09:40:47.327Z"
   },
   {
    "duration": 11,
    "start_time": "2021-06-19T09:40:47.335Z"
   },
   {
    "duration": 9,
    "start_time": "2021-06-19T09:40:47.349Z"
   },
   {
    "duration": 45,
    "start_time": "2021-06-19T09:40:47.360Z"
   },
   {
    "duration": 22,
    "start_time": "2021-06-19T09:40:47.407Z"
   },
   {
    "duration": 20,
    "start_time": "2021-06-19T09:40:47.431Z"
   },
   {
    "duration": 8,
    "start_time": "2021-06-19T09:40:47.453Z"
   },
   {
    "duration": 41,
    "start_time": "2021-06-19T09:40:47.463Z"
   },
   {
    "duration": 10,
    "start_time": "2021-06-19T09:40:47.506Z"
   },
   {
    "duration": 13,
    "start_time": "2021-06-19T09:40:47.519Z"
   },
   {
    "duration": 13,
    "start_time": "2021-06-19T09:40:47.534Z"
   },
   {
    "duration": 89,
    "start_time": "2021-06-19T09:40:47.550Z"
   },
   {
    "duration": 4,
    "start_time": "2021-06-19T09:40:47.641Z"
   },
   {
    "duration": 721,
    "start_time": "2021-06-19T09:40:47.648Z"
   },
   {
    "duration": 5,
    "start_time": "2021-06-19T09:40:48.372Z"
   },
   {
    "duration": 51,
    "start_time": "2021-06-19T09:40:48.379Z"
   },
   {
    "duration": 600,
    "start_time": "2021-06-19T09:40:48.433Z"
   },
   {
    "duration": 568,
    "start_time": "2021-06-19T09:40:49.035Z"
   },
   {
    "duration": 569,
    "start_time": "2021-06-19T09:40:49.605Z"
   },
   {
    "duration": 552,
    "start_time": "2021-06-19T09:40:50.177Z"
   },
   {
    "duration": 422,
    "start_time": "2021-06-19T09:40:50.732Z"
   },
   {
    "duration": 8,
    "start_time": "2021-06-19T09:40:51.157Z"
   },
   {
    "duration": 265,
    "start_time": "2021-06-19T09:40:51.168Z"
   },
   {
    "duration": 13,
    "start_time": "2021-06-19T09:40:51.436Z"
   },
   {
    "duration": 457,
    "start_time": "2021-06-19T09:40:51.451Z"
   },
   {
    "duration": 10,
    "start_time": "2021-06-19T09:40:51.911Z"
   },
   {
    "duration": 304,
    "start_time": "2021-06-19T09:40:51.923Z"
   },
   {
    "duration": 12,
    "start_time": "2021-06-19T09:40:52.229Z"
   },
   {
    "duration": 698,
    "start_time": "2021-06-19T09:40:52.244Z"
   },
   {
    "duration": 482,
    "start_time": "2021-06-19T09:40:52.944Z"
   },
   {
    "duration": 227,
    "start_time": "2021-06-19T09:40:53.428Z"
   },
   {
    "duration": 775,
    "start_time": "2021-06-19T09:40:53.658Z"
   },
   {
    "duration": 29,
    "start_time": "2021-06-19T09:40:54.436Z"
   },
   {
    "duration": 5,
    "start_time": "2021-06-19T09:40:54.468Z"
   },
   {
    "duration": 30,
    "start_time": "2021-06-19T09:40:54.475Z"
   },
   {
    "duration": 49,
    "start_time": "2021-06-19T09:40:54.507Z"
   },
   {
    "duration": 406,
    "start_time": "2021-06-19T09:40:54.559Z"
   },
   {
    "duration": 414,
    "start_time": "2021-06-19T09:40:54.968Z"
   },
   {
    "duration": 20,
    "start_time": "2021-06-19T09:40:55.385Z"
   },
   {
    "duration": 43,
    "start_time": "2021-06-19T09:40:55.407Z"
   },
   {
    "duration": 368,
    "start_time": "2021-06-19T09:40:55.457Z"
   },
   {
    "duration": 350,
    "start_time": "2021-06-19T09:40:55.829Z"
   },
   {
    "duration": 462,
    "start_time": "2021-06-19T09:40:56.181Z"
   },
   {
    "duration": 384,
    "start_time": "2021-06-19T09:40:56.645Z"
   },
   {
    "duration": 509,
    "start_time": "2021-06-19T09:40:57.032Z"
   },
   {
    "duration": 301,
    "start_time": "2021-06-19T09:40:57.544Z"
   },
   {
    "duration": 718,
    "start_time": "2021-06-19T09:40:57.848Z"
   },
   {
    "duration": 325,
    "start_time": "2021-06-19T09:40:58.569Z"
   },
   {
    "duration": 323,
    "start_time": "2021-06-19T09:40:58.900Z"
   },
   {
    "duration": 328,
    "start_time": "2021-06-19T09:40:59.225Z"
   },
   {
    "duration": 381,
    "start_time": "2021-06-19T09:43:00.371Z"
   },
   {
    "duration": 315,
    "start_time": "2021-06-19T09:43:15.145Z"
   },
   {
    "duration": 292,
    "start_time": "2021-06-19T09:45:01.408Z"
   },
   {
    "duration": 310,
    "start_time": "2021-06-19T09:45:22.394Z"
   },
   {
    "duration": 287,
    "start_time": "2021-06-19T09:49:38.734Z"
   },
   {
    "duration": 10,
    "start_time": "2021-06-19T09:49:50.243Z"
   },
   {
    "duration": 42,
    "start_time": "2021-06-19T09:51:54.483Z"
   },
   {
    "duration": 265,
    "start_time": "2021-06-19T09:53:04.938Z"
   },
   {
    "duration": 16,
    "start_time": "2021-06-19T09:53:18.035Z"
   },
   {
    "duration": 10,
    "start_time": "2021-06-19T09:53:57.620Z"
   },
   {
    "duration": 291,
    "start_time": "2021-06-19T09:54:40.985Z"
   },
   {
    "duration": 10,
    "start_time": "2021-06-19T09:54:55.789Z"
   },
   {
    "duration": 266,
    "start_time": "2021-06-19T09:55:10.085Z"
   },
   {
    "duration": 260,
    "start_time": "2021-06-19T09:55:36.366Z"
   },
   {
    "duration": 272,
    "start_time": "2021-06-19T09:55:43.076Z"
   },
   {
    "duration": 243,
    "start_time": "2021-06-19T09:56:13.975Z"
   },
   {
    "duration": 252,
    "start_time": "2021-06-19T09:57:32.073Z"
   },
   {
    "duration": 312,
    "start_time": "2021-06-19T09:58:25.834Z"
   },
   {
    "duration": 92,
    "start_time": "2021-06-19T09:58:37.245Z"
   },
   {
    "duration": 265,
    "start_time": "2021-06-19T09:58:43.134Z"
   },
   {
    "duration": 253,
    "start_time": "2021-06-19T09:58:54.234Z"
   },
   {
    "duration": 272,
    "start_time": "2021-06-19T09:59:02.616Z"
   },
   {
    "duration": 253,
    "start_time": "2021-06-19T09:59:07.318Z"
   },
   {
    "duration": 247,
    "start_time": "2021-06-19T09:59:10.990Z"
   },
   {
    "duration": 304,
    "start_time": "2021-06-19T09:59:23.840Z"
   },
   {
    "duration": 1007,
    "start_time": "2021-06-19T09:59:41.237Z"
   },
   {
    "duration": 14,
    "start_time": "2021-06-19T09:59:42.247Z"
   },
   {
    "duration": 11,
    "start_time": "2021-06-19T09:59:42.265Z"
   },
   {
    "duration": 36,
    "start_time": "2021-06-19T09:59:42.301Z"
   },
   {
    "duration": 15,
    "start_time": "2021-06-19T09:59:42.339Z"
   },
   {
    "duration": 7,
    "start_time": "2021-06-19T09:59:42.356Z"
   },
   {
    "duration": 39,
    "start_time": "2021-06-19T09:59:42.366Z"
   },
   {
    "duration": 7,
    "start_time": "2021-06-19T09:59:42.408Z"
   },
   {
    "duration": 10,
    "start_time": "2021-06-19T09:59:42.418Z"
   },
   {
    "duration": 7,
    "start_time": "2021-06-19T09:59:42.431Z"
   },
   {
    "duration": 9,
    "start_time": "2021-06-19T09:59:42.441Z"
   },
   {
    "duration": 53,
    "start_time": "2021-06-19T09:59:42.453Z"
   },
   {
    "duration": 8,
    "start_time": "2021-06-19T09:59:42.509Z"
   },
   {
    "duration": 8,
    "start_time": "2021-06-19T09:59:42.519Z"
   },
   {
    "duration": 9,
    "start_time": "2021-06-19T09:59:42.529Z"
   },
   {
    "duration": 11,
    "start_time": "2021-06-19T09:59:42.540Z"
   },
   {
    "duration": 10,
    "start_time": "2021-06-19T09:59:42.601Z"
   },
   {
    "duration": 6,
    "start_time": "2021-06-19T09:59:42.615Z"
   },
   {
    "duration": 6,
    "start_time": "2021-06-19T09:59:42.623Z"
   },
   {
    "duration": 7,
    "start_time": "2021-06-19T09:59:42.631Z"
   },
   {
    "duration": 92,
    "start_time": "2021-06-19T09:59:42.640Z"
   },
   {
    "duration": 11,
    "start_time": "2021-06-19T09:59:42.735Z"
   },
   {
    "duration": 6,
    "start_time": "2021-06-19T09:59:42.754Z"
   },
   {
    "duration": 36,
    "start_time": "2021-06-19T09:59:42.766Z"
   },
   {
    "duration": 6,
    "start_time": "2021-06-19T09:59:42.805Z"
   },
   {
    "duration": 7,
    "start_time": "2021-06-19T09:59:42.814Z"
   },
   {
    "duration": 7,
    "start_time": "2021-06-19T09:59:42.824Z"
   },
   {
    "duration": 7,
    "start_time": "2021-06-19T09:59:42.834Z"
   },
   {
    "duration": 74,
    "start_time": "2021-06-19T09:59:42.844Z"
   },
   {
    "duration": 23,
    "start_time": "2021-06-19T09:59:42.921Z"
   },
   {
    "duration": 8,
    "start_time": "2021-06-19T09:59:42.947Z"
   },
   {
    "duration": 5,
    "start_time": "2021-06-19T09:59:42.957Z"
   },
   {
    "duration": 37,
    "start_time": "2021-06-19T09:59:42.964Z"
   },
   {
    "duration": 17,
    "start_time": "2021-06-19T09:59:43.004Z"
   },
   {
    "duration": 13,
    "start_time": "2021-06-19T09:59:43.023Z"
   },
   {
    "duration": 84,
    "start_time": "2021-06-19T09:59:43.039Z"
   },
   {
    "duration": 4,
    "start_time": "2021-06-19T09:59:43.125Z"
   },
   {
    "duration": 700,
    "start_time": "2021-06-19T09:59:43.131Z"
   },
   {
    "duration": 5,
    "start_time": "2021-06-19T09:59:43.834Z"
   },
   {
    "duration": 37,
    "start_time": "2021-06-19T09:59:43.842Z"
   },
   {
    "duration": 587,
    "start_time": "2021-06-19T09:59:43.901Z"
   },
   {
    "duration": 565,
    "start_time": "2021-06-19T09:59:44.490Z"
   },
   {
    "duration": 562,
    "start_time": "2021-06-19T09:59:45.058Z"
   },
   {
    "duration": 551,
    "start_time": "2021-06-19T09:59:45.622Z"
   },
   {
    "duration": 395,
    "start_time": "2021-06-19T09:59:46.176Z"
   },
   {
    "duration": 26,
    "start_time": "2021-06-19T09:59:46.574Z"
   },
   {
    "duration": 222,
    "start_time": "2021-06-19T09:59:46.602Z"
   },
   {
    "duration": 12,
    "start_time": "2021-06-19T09:59:46.827Z"
   },
   {
    "duration": 429,
    "start_time": "2021-06-19T09:59:46.842Z"
   },
   {
    "duration": 27,
    "start_time": "2021-06-19T09:59:47.274Z"
   },
   {
    "duration": 304,
    "start_time": "2021-06-19T09:59:47.304Z"
   },
   {
    "duration": 13,
    "start_time": "2021-06-19T09:59:47.610Z"
   },
   {
    "duration": 685,
    "start_time": "2021-06-19T09:59:47.625Z"
   },
   {
    "duration": 471,
    "start_time": "2021-06-19T09:59:48.313Z"
   },
   {
    "duration": 220,
    "start_time": "2021-06-19T09:59:48.786Z"
   },
   {
    "duration": 784,
    "start_time": "2021-06-19T09:59:49.009Z"
   },
   {
    "duration": 29,
    "start_time": "2021-06-19T09:59:49.799Z"
   },
   {
    "duration": 4,
    "start_time": "2021-06-19T09:59:49.831Z"
   },
   {
    "duration": 13,
    "start_time": "2021-06-19T09:59:49.837Z"
   },
   {
    "duration": 66,
    "start_time": "2021-06-19T09:59:49.853Z"
   },
   {
    "duration": 399,
    "start_time": "2021-06-19T09:59:49.922Z"
   },
   {
    "duration": 400,
    "start_time": "2021-06-19T09:59:50.324Z"
   },
   {
    "duration": 10,
    "start_time": "2021-06-19T09:59:50.727Z"
   },
   {
    "duration": 62,
    "start_time": "2021-06-19T09:59:50.740Z"
   },
   {
    "duration": 349,
    "start_time": "2021-06-19T09:59:50.804Z"
   },
   {
    "duration": 353,
    "start_time": "2021-06-19T09:59:51.155Z"
   },
   {
    "duration": 442,
    "start_time": "2021-06-19T09:59:51.510Z"
   },
   {
    "duration": 388,
    "start_time": "2021-06-19T09:59:51.959Z"
   },
   {
    "duration": 505,
    "start_time": "2021-06-19T09:59:52.350Z"
   },
   {
    "duration": 276,
    "start_time": "2021-06-19T09:59:52.858Z"
   },
   {
    "duration": 686,
    "start_time": "2021-06-19T09:59:53.136Z"
   },
   {
    "duration": 309,
    "start_time": "2021-06-19T09:59:53.825Z"
   },
   {
    "duration": 334,
    "start_time": "2021-06-19T09:59:54.137Z"
   },
   {
    "duration": 329,
    "start_time": "2021-06-19T09:59:54.474Z"
   },
   {
    "duration": 10,
    "start_time": "2021-06-19T10:00:18.327Z"
   },
   {
    "duration": 22,
    "start_time": "2021-06-19T10:00:37.623Z"
   },
   {
    "duration": 11,
    "start_time": "2021-06-19T10:00:54.470Z"
   },
   {
    "duration": 369,
    "start_time": "2021-06-19T10:01:33.027Z"
   },
   {
    "duration": 11,
    "start_time": "2021-06-19T10:02:05.072Z"
   },
   {
    "duration": 14,
    "start_time": "2021-06-19T10:02:46.452Z"
   },
   {
    "duration": 11,
    "start_time": "2021-06-19T10:02:58.533Z"
   },
   {
    "duration": 12,
    "start_time": "2021-06-19T10:03:06.856Z"
   },
   {
    "duration": 11,
    "start_time": "2021-06-19T10:04:03.945Z"
   },
   {
    "duration": 986,
    "start_time": "2021-06-19T10:04:20.244Z"
   },
   {
    "duration": 26,
    "start_time": "2021-06-19T10:04:21.233Z"
   },
   {
    "duration": 47,
    "start_time": "2021-06-19T10:04:21.263Z"
   },
   {
    "duration": 57,
    "start_time": "2021-06-19T10:04:21.313Z"
   },
   {
    "duration": 45,
    "start_time": "2021-06-19T10:04:21.373Z"
   },
   {
    "duration": 11,
    "start_time": "2021-06-19T10:04:21.421Z"
   },
   {
    "duration": 8,
    "start_time": "2021-06-19T10:04:21.436Z"
   },
   {
    "duration": 5,
    "start_time": "2021-06-19T10:04:21.448Z"
   },
   {
    "duration": 47,
    "start_time": "2021-06-19T10:04:21.456Z"
   },
   {
    "duration": 7,
    "start_time": "2021-06-19T10:04:21.505Z"
   },
   {
    "duration": 8,
    "start_time": "2021-06-19T10:04:21.514Z"
   },
   {
    "duration": 7,
    "start_time": "2021-06-19T10:04:21.525Z"
   },
   {
    "duration": 6,
    "start_time": "2021-06-19T10:04:21.534Z"
   },
   {
    "duration": 13,
    "start_time": "2021-06-19T10:04:21.542Z"
   },
   {
    "duration": 46,
    "start_time": "2021-06-19T10:04:21.557Z"
   },
   {
    "duration": 8,
    "start_time": "2021-06-19T10:04:21.606Z"
   },
   {
    "duration": 9,
    "start_time": "2021-06-19T10:04:21.616Z"
   },
   {
    "duration": 6,
    "start_time": "2021-06-19T10:04:21.628Z"
   },
   {
    "duration": 6,
    "start_time": "2021-06-19T10:04:21.637Z"
   },
   {
    "duration": 10,
    "start_time": "2021-06-19T10:04:21.645Z"
   },
   {
    "duration": 86,
    "start_time": "2021-06-19T10:04:21.658Z"
   },
   {
    "duration": 12,
    "start_time": "2021-06-19T10:04:21.746Z"
   },
   {
    "duration": 6,
    "start_time": "2021-06-19T10:04:21.765Z"
   },
   {
    "duration": 6,
    "start_time": "2021-06-19T10:04:21.802Z"
   },
   {
    "duration": 5,
    "start_time": "2021-06-19T10:04:21.811Z"
   },
   {
    "duration": 6,
    "start_time": "2021-06-19T10:04:21.819Z"
   },
   {
    "duration": 9,
    "start_time": "2021-06-19T10:04:21.827Z"
   },
   {
    "duration": 6,
    "start_time": "2021-06-19T10:04:21.839Z"
   },
   {
    "duration": 67,
    "start_time": "2021-06-19T10:04:21.847Z"
   },
   {
    "duration": 21,
    "start_time": "2021-06-19T10:04:21.916Z"
   },
   {
    "duration": 7,
    "start_time": "2021-06-19T10:04:21.939Z"
   },
   {
    "duration": 9,
    "start_time": "2021-06-19T10:04:21.949Z"
   },
   {
    "duration": 12,
    "start_time": "2021-06-19T10:04:21.960Z"
   },
   {
    "duration": 15,
    "start_time": "2021-06-19T10:04:21.999Z"
   },
   {
    "duration": 14,
    "start_time": "2021-06-19T10:04:22.016Z"
   },
   {
    "duration": 77,
    "start_time": "2021-06-19T10:04:22.033Z"
   },
   {
    "duration": 5,
    "start_time": "2021-06-19T10:04:22.112Z"
   },
   {
    "duration": 735,
    "start_time": "2021-06-19T10:04:22.120Z"
   },
   {
    "duration": 6,
    "start_time": "2021-06-19T10:04:22.857Z"
   },
   {
    "duration": 53,
    "start_time": "2021-06-19T10:04:22.865Z"
   },
   {
    "duration": 606,
    "start_time": "2021-06-19T10:04:22.921Z"
   },
   {
    "duration": 573,
    "start_time": "2021-06-19T10:04:23.530Z"
   },
   {
    "duration": 565,
    "start_time": "2021-06-19T10:04:24.106Z"
   },
   {
    "duration": 962,
    "start_time": "2021-06-19T10:04:24.674Z"
   },
   {
    "duration": 622,
    "start_time": "2021-06-19T10:04:25.640Z"
   },
   {
    "duration": 9,
    "start_time": "2021-06-19T10:04:26.266Z"
   },
   {
    "duration": 246,
    "start_time": "2021-06-19T10:04:26.278Z"
   },
   {
    "duration": 14,
    "start_time": "2021-06-19T10:04:26.526Z"
   },
   {
    "duration": 464,
    "start_time": "2021-06-19T10:04:26.543Z"
   },
   {
    "duration": 12,
    "start_time": "2021-06-19T10:04:27.010Z"
   },
   {
    "duration": 328,
    "start_time": "2021-06-19T10:04:27.025Z"
   },
   {
    "duration": 16,
    "start_time": "2021-06-19T10:04:27.356Z"
   },
   {
    "duration": 738,
    "start_time": "2021-06-19T10:04:27.375Z"
   },
   {
    "duration": 444,
    "start_time": "2021-06-19T10:04:28.116Z"
   },
   {
    "duration": 227,
    "start_time": "2021-06-19T10:04:28.563Z"
   },
   {
    "duration": 787,
    "start_time": "2021-06-19T10:04:28.801Z"
   },
   {
    "duration": 34,
    "start_time": "2021-06-19T10:04:29.591Z"
   },
   {
    "duration": 6,
    "start_time": "2021-06-19T10:04:29.628Z"
   },
   {
    "duration": 8,
    "start_time": "2021-06-19T10:04:29.636Z"
   },
   {
    "duration": 94,
    "start_time": "2021-06-19T10:04:29.646Z"
   },
   {
    "duration": 426,
    "start_time": "2021-06-19T10:04:29.742Z"
   },
   {
    "duration": 452,
    "start_time": "2021-06-19T10:04:30.171Z"
   },
   {
    "duration": 11,
    "start_time": "2021-06-19T10:04:30.625Z"
   },
   {
    "duration": 73,
    "start_time": "2021-06-19T10:04:30.639Z"
   },
   {
    "duration": 381,
    "start_time": "2021-06-19T10:04:30.714Z"
   },
   {
    "duration": 393,
    "start_time": "2021-06-19T10:04:31.102Z"
   },
   {
    "duration": 459,
    "start_time": "2021-06-19T10:04:31.501Z"
   },
   {
    "duration": 388,
    "start_time": "2021-06-19T10:04:31.968Z"
   },
   {
    "duration": 498,
    "start_time": "2021-06-19T10:04:32.359Z"
   },
   {
    "duration": 299,
    "start_time": "2021-06-19T10:04:32.859Z"
   },
   {
    "duration": 711,
    "start_time": "2021-06-19T10:04:33.161Z"
   },
   {
    "duration": 336,
    "start_time": "2021-06-19T10:04:33.874Z"
   },
   {
    "duration": 334,
    "start_time": "2021-06-19T10:04:34.212Z"
   },
   {
    "duration": 395,
    "start_time": "2021-06-19T10:04:34.550Z"
   },
   {
    "duration": 12,
    "start_time": "2021-06-19T10:05:27.769Z"
   },
   {
    "duration": 1006,
    "start_time": "2021-06-19T10:05:34.793Z"
   },
   {
    "duration": 16,
    "start_time": "2021-06-19T10:05:35.803Z"
   },
   {
    "duration": 12,
    "start_time": "2021-06-19T10:05:35.821Z"
   },
   {
    "duration": 71,
    "start_time": "2021-06-19T10:05:35.836Z"
   },
   {
    "duration": 17,
    "start_time": "2021-06-19T10:05:35.910Z"
   },
   {
    "duration": 9,
    "start_time": "2021-06-19T10:05:35.930Z"
   },
   {
    "duration": 6,
    "start_time": "2021-06-19T10:05:35.943Z"
   },
   {
    "duration": 50,
    "start_time": "2021-06-19T10:05:35.953Z"
   },
   {
    "duration": 12,
    "start_time": "2021-06-19T10:05:36.007Z"
   },
   {
    "duration": 8,
    "start_time": "2021-06-19T10:05:36.022Z"
   },
   {
    "duration": 11,
    "start_time": "2021-06-19T10:05:36.033Z"
   },
   {
    "duration": 8,
    "start_time": "2021-06-19T10:05:36.047Z"
   },
   {
    "duration": 46,
    "start_time": "2021-06-19T10:05:36.057Z"
   },
   {
    "duration": 13,
    "start_time": "2021-06-19T10:05:36.106Z"
   },
   {
    "duration": 8,
    "start_time": "2021-06-19T10:05:36.122Z"
   },
   {
    "duration": 8,
    "start_time": "2021-06-19T10:05:36.133Z"
   },
   {
    "duration": 10,
    "start_time": "2021-06-19T10:05:36.143Z"
   },
   {
    "duration": 45,
    "start_time": "2021-06-19T10:05:36.156Z"
   },
   {
    "duration": 5,
    "start_time": "2021-06-19T10:05:36.204Z"
   },
   {
    "duration": 6,
    "start_time": "2021-06-19T10:05:36.212Z"
   },
   {
    "duration": 82,
    "start_time": "2021-06-19T10:05:36.220Z"
   },
   {
    "duration": 13,
    "start_time": "2021-06-19T10:05:36.310Z"
   },
   {
    "duration": 9,
    "start_time": "2021-06-19T10:05:36.328Z"
   },
   {
    "duration": 8,
    "start_time": "2021-06-19T10:05:36.341Z"
   },
   {
    "duration": 7,
    "start_time": "2021-06-19T10:05:36.352Z"
   },
   {
    "duration": 9,
    "start_time": "2021-06-19T10:05:36.402Z"
   },
   {
    "duration": 7,
    "start_time": "2021-06-19T10:05:36.414Z"
   },
   {
    "duration": 29,
    "start_time": "2021-06-19T10:05:36.424Z"
   },
   {
    "duration": 47,
    "start_time": "2021-06-19T10:05:36.456Z"
   },
   {
    "duration": 32,
    "start_time": "2021-06-19T10:05:36.507Z"
   },
   {
    "duration": 13,
    "start_time": "2021-06-19T10:05:36.543Z"
   },
   {
    "duration": 9,
    "start_time": "2021-06-19T10:05:36.560Z"
   },
   {
    "duration": 11,
    "start_time": "2021-06-19T10:05:36.601Z"
   },
   {
    "duration": 23,
    "start_time": "2021-06-19T10:05:36.615Z"
   },
   {
    "duration": 22,
    "start_time": "2021-06-19T10:05:36.641Z"
   },
   {
    "duration": 114,
    "start_time": "2021-06-19T10:05:36.667Z"
   },
   {
    "duration": 20,
    "start_time": "2021-06-19T10:05:36.785Z"
   },
   {
    "duration": 1434,
    "start_time": "2021-06-19T10:05:36.808Z"
   },
   {
    "duration": 7,
    "start_time": "2021-06-19T10:05:38.246Z"
   },
   {
    "duration": 59,
    "start_time": "2021-06-19T10:05:38.256Z"
   },
   {
    "duration": 629,
    "start_time": "2021-06-19T10:05:38.317Z"
   },
   {
    "duration": 570,
    "start_time": "2021-06-19T10:05:38.949Z"
   },
   {
    "duration": 915,
    "start_time": "2021-06-19T10:05:39.522Z"
   },
   {
    "duration": 568,
    "start_time": "2021-06-19T10:05:40.441Z"
   },
   {
    "duration": 395,
    "start_time": "2021-06-19T10:05:41.012Z"
   },
   {
    "duration": 6,
    "start_time": "2021-06-19T10:05:41.410Z"
   },
   {
    "duration": 249,
    "start_time": "2021-06-19T10:05:41.418Z"
   },
   {
    "duration": 13,
    "start_time": "2021-06-19T10:05:41.670Z"
   },
   {
    "duration": 429,
    "start_time": "2021-06-19T10:05:41.701Z"
   },
   {
    "duration": 10,
    "start_time": "2021-06-19T10:05:42.132Z"
   },
   {
    "duration": 357,
    "start_time": "2021-06-19T10:05:42.145Z"
   },
   {
    "duration": 12,
    "start_time": "2021-06-19T10:05:42.505Z"
   },
   {
    "duration": 743,
    "start_time": "2021-06-19T10:05:42.520Z"
   },
   {
    "duration": 489,
    "start_time": "2021-06-19T10:05:43.266Z"
   },
   {
    "duration": 233,
    "start_time": "2021-06-19T10:05:43.758Z"
   },
   {
    "duration": 810,
    "start_time": "2021-06-19T10:05:43.993Z"
   },
   {
    "duration": 31,
    "start_time": "2021-06-19T10:05:44.806Z"
   },
   {
    "duration": 6,
    "start_time": "2021-06-19T10:05:44.839Z"
   },
   {
    "duration": 16,
    "start_time": "2021-06-19T10:05:44.847Z"
   },
   {
    "duration": 71,
    "start_time": "2021-06-19T10:05:44.865Z"
   },
   {
    "duration": 415,
    "start_time": "2021-06-19T10:05:44.939Z"
   },
   {
    "duration": 461,
    "start_time": "2021-06-19T10:05:45.357Z"
   },
   {
    "duration": 16,
    "start_time": "2021-06-19T10:05:45.821Z"
   },
   {
    "duration": 98,
    "start_time": "2021-06-19T10:05:45.841Z"
   },
   {
    "duration": 408,
    "start_time": "2021-06-19T10:05:45.942Z"
   },
   {
    "duration": 601,
    "start_time": "2021-06-19T10:05:46.353Z"
   },
   {
    "duration": 704,
    "start_time": "2021-06-19T10:05:46.966Z"
   },
   {
    "duration": 404,
    "start_time": "2021-06-19T10:05:47.673Z"
   },
   {
    "duration": 524,
    "start_time": "2021-06-19T10:05:48.080Z"
   },
   {
    "duration": 287,
    "start_time": "2021-06-19T10:05:48.606Z"
   },
   {
    "duration": 720,
    "start_time": "2021-06-19T10:05:48.900Z"
   },
   {
    "duration": 340,
    "start_time": "2021-06-19T10:05:49.624Z"
   },
   {
    "duration": 342,
    "start_time": "2021-06-19T10:05:49.967Z"
   },
   {
    "duration": 356,
    "start_time": "2021-06-19T10:05:50.313Z"
   },
   {
    "duration": 363,
    "start_time": "2021-06-19T10:06:37.440Z"
   },
   {
    "duration": 998,
    "start_time": "2021-06-19T10:22:57.398Z"
   },
   {
    "duration": 14,
    "start_time": "2021-06-19T10:22:58.400Z"
   },
   {
    "duration": 11,
    "start_time": "2021-06-19T10:22:58.417Z"
   },
   {
    "duration": 35,
    "start_time": "2021-06-19T10:22:58.431Z"
   },
   {
    "duration": 45,
    "start_time": "2021-06-19T10:22:58.468Z"
   },
   {
    "duration": 9,
    "start_time": "2021-06-19T10:22:58.515Z"
   },
   {
    "duration": 8,
    "start_time": "2021-06-19T10:22:58.527Z"
   },
   {
    "duration": 6,
    "start_time": "2021-06-19T10:22:58.540Z"
   },
   {
    "duration": 55,
    "start_time": "2021-06-19T10:22:58.549Z"
   },
   {
    "duration": 8,
    "start_time": "2021-06-19T10:22:58.607Z"
   },
   {
    "duration": 9,
    "start_time": "2021-06-19T10:22:58.618Z"
   },
   {
    "duration": 9,
    "start_time": "2021-06-19T10:22:58.629Z"
   },
   {
    "duration": 6,
    "start_time": "2021-06-19T10:22:58.641Z"
   },
   {
    "duration": 8,
    "start_time": "2021-06-19T10:22:58.701Z"
   },
   {
    "duration": 8,
    "start_time": "2021-06-19T10:22:58.711Z"
   },
   {
    "duration": 8,
    "start_time": "2021-06-19T10:22:58.722Z"
   },
   {
    "duration": 8,
    "start_time": "2021-06-19T10:22:58.732Z"
   },
   {
    "duration": 5,
    "start_time": "2021-06-19T10:22:58.743Z"
   },
   {
    "duration": 55,
    "start_time": "2021-06-19T10:22:58.750Z"
   },
   {
    "duration": 11,
    "start_time": "2021-06-19T10:22:58.807Z"
   },
   {
    "duration": 47,
    "start_time": "2021-06-19T10:22:58.820Z"
   },
   {
    "duration": 36,
    "start_time": "2021-06-19T10:22:58.869Z"
   },
   {
    "duration": 9,
    "start_time": "2021-06-19T10:22:58.912Z"
   },
   {
    "duration": 5,
    "start_time": "2021-06-19T10:22:58.926Z"
   },
   {
    "duration": 9,
    "start_time": "2021-06-19T10:22:58.933Z"
   },
   {
    "duration": 7,
    "start_time": "2021-06-19T10:22:58.944Z"
   },
   {
    "duration": 6,
    "start_time": "2021-06-19T10:22:58.953Z"
   },
   {
    "duration": 41,
    "start_time": "2021-06-19T10:22:58.961Z"
   },
   {
    "duration": 23,
    "start_time": "2021-06-19T10:22:59.005Z"
   },
   {
    "duration": 22,
    "start_time": "2021-06-19T10:22:59.031Z"
   },
   {
    "duration": 45,
    "start_time": "2021-06-19T10:22:59.055Z"
   },
   {
    "duration": 4,
    "start_time": "2021-06-19T10:22:59.103Z"
   },
   {
    "duration": 12,
    "start_time": "2021-06-19T10:22:59.109Z"
   },
   {
    "duration": 14,
    "start_time": "2021-06-19T10:22:59.124Z"
   },
   {
    "duration": 13,
    "start_time": "2021-06-19T10:22:59.141Z"
   },
   {
    "duration": 82,
    "start_time": "2021-06-19T10:22:59.156Z"
   },
   {
    "duration": 4,
    "start_time": "2021-06-19T10:22:59.240Z"
   },
   {
    "duration": 731,
    "start_time": "2021-06-19T10:22:59.247Z"
   },
   {
    "duration": 5,
    "start_time": "2021-06-19T10:22:59.981Z"
   },
   {
    "duration": 44,
    "start_time": "2021-06-19T10:22:59.988Z"
   },
   {
    "duration": 617,
    "start_time": "2021-06-19T10:23:00.034Z"
   },
   {
    "duration": 571,
    "start_time": "2021-06-19T10:23:00.653Z"
   },
   {
    "duration": 565,
    "start_time": "2021-06-19T10:23:01.226Z"
   },
   {
    "duration": 565,
    "start_time": "2021-06-19T10:23:01.801Z"
   },
   {
    "duration": 392,
    "start_time": "2021-06-19T10:23:02.369Z"
   },
   {
    "duration": 7,
    "start_time": "2021-06-19T10:23:02.764Z"
   },
   {
    "duration": 230,
    "start_time": "2021-06-19T10:23:02.774Z"
   },
   {
    "duration": 13,
    "start_time": "2021-06-19T10:23:03.007Z"
   },
   {
    "duration": 452,
    "start_time": "2021-06-19T10:23:03.023Z"
   },
   {
    "duration": 24,
    "start_time": "2021-06-19T10:23:03.478Z"
   },
   {
    "duration": 299,
    "start_time": "2021-06-19T10:23:03.504Z"
   },
   {
    "duration": 13,
    "start_time": "2021-06-19T10:23:03.805Z"
   },
   {
    "duration": 713,
    "start_time": "2021-06-19T10:23:03.820Z"
   },
   {
    "duration": 496,
    "start_time": "2021-06-19T10:23:04.536Z"
   },
   {
    "duration": 232,
    "start_time": "2021-06-19T10:23:05.035Z"
   },
   {
    "duration": 818,
    "start_time": "2021-06-19T10:23:05.270Z"
   },
   {
    "duration": 40,
    "start_time": "2021-06-19T10:23:06.090Z"
   },
   {
    "duration": 6,
    "start_time": "2021-06-19T10:23:06.133Z"
   },
   {
    "duration": 10,
    "start_time": "2021-06-19T10:23:06.142Z"
   },
   {
    "duration": 77,
    "start_time": "2021-06-19T10:23:06.155Z"
   },
   {
    "duration": 523,
    "start_time": "2021-06-19T10:23:06.235Z"
   },
   {
    "duration": 429,
    "start_time": "2021-06-19T10:23:06.760Z"
   },
   {
    "duration": 15,
    "start_time": "2021-06-19T10:23:07.192Z"
   },
   {
    "duration": 49,
    "start_time": "2021-06-19T10:23:07.209Z"
   },
   {
    "duration": 386,
    "start_time": "2021-06-19T10:23:07.260Z"
   },
   {
    "duration": 383,
    "start_time": "2021-06-19T10:23:07.649Z"
   },
   {
    "duration": 466,
    "start_time": "2021-06-19T10:23:08.034Z"
   },
   {
    "duration": 397,
    "start_time": "2021-06-19T10:23:08.507Z"
   },
   {
    "duration": 525,
    "start_time": "2021-06-19T10:23:08.906Z"
   },
   {
    "duration": 292,
    "start_time": "2021-06-19T10:23:09.433Z"
   },
   {
    "duration": 779,
    "start_time": "2021-06-19T10:23:09.728Z"
   },
   {
    "duration": 318,
    "start_time": "2021-06-19T10:23:10.509Z"
   },
   {
    "duration": 332,
    "start_time": "2021-06-19T10:23:10.830Z"
   },
   {
    "duration": 354,
    "start_time": "2021-06-19T10:23:11.165Z"
   },
   {
    "duration": 211,
    "start_time": "2021-06-19T14:48:42.022Z"
   },
   {
    "duration": 1644,
    "start_time": "2021-06-19T14:48:48.365Z"
   },
   {
    "duration": 10,
    "start_time": "2021-06-19T14:48:50.011Z"
   },
   {
    "duration": 8,
    "start_time": "2021-06-19T14:48:50.023Z"
   },
   {
    "duration": 25,
    "start_time": "2021-06-19T14:48:50.033Z"
   },
   {
    "duration": 26,
    "start_time": "2021-06-19T14:48:50.059Z"
   },
   {
    "duration": 5,
    "start_time": "2021-06-19T14:48:50.087Z"
   },
   {
    "duration": 4,
    "start_time": "2021-06-19T14:48:50.093Z"
   },
   {
    "duration": 5,
    "start_time": "2021-06-19T14:48:50.099Z"
   },
   {
    "duration": 5,
    "start_time": "2021-06-19T14:48:50.106Z"
   },
   {
    "duration": 7,
    "start_time": "2021-06-19T14:48:50.112Z"
   },
   {
    "duration": 6,
    "start_time": "2021-06-19T14:48:50.120Z"
   },
   {
    "duration": 6,
    "start_time": "2021-06-19T14:48:50.128Z"
   },
   {
    "duration": 6,
    "start_time": "2021-06-19T14:48:50.135Z"
   },
   {
    "duration": 6,
    "start_time": "2021-06-19T14:48:50.142Z"
   },
   {
    "duration": 39,
    "start_time": "2021-06-19T14:48:50.149Z"
   },
   {
    "duration": 5,
    "start_time": "2021-06-19T14:48:50.190Z"
   },
   {
    "duration": 5,
    "start_time": "2021-06-19T14:48:50.197Z"
   },
   {
    "duration": 6,
    "start_time": "2021-06-19T14:48:50.204Z"
   },
   {
    "duration": 3,
    "start_time": "2021-06-19T14:48:50.212Z"
   },
   {
    "duration": 6,
    "start_time": "2021-06-19T14:48:50.217Z"
   },
   {
    "duration": 65,
    "start_time": "2021-06-19T14:48:50.224Z"
   },
   {
    "duration": 9,
    "start_time": "2021-06-19T14:48:50.291Z"
   },
   {
    "duration": 11,
    "start_time": "2021-06-19T14:48:50.304Z"
   },
   {
    "duration": 5,
    "start_time": "2021-06-19T14:48:50.318Z"
   },
   {
    "duration": 10,
    "start_time": "2021-06-19T14:48:50.324Z"
   },
   {
    "duration": 6,
    "start_time": "2021-06-19T14:48:50.335Z"
   },
   {
    "duration": 7,
    "start_time": "2021-06-19T14:48:50.342Z"
   },
   {
    "duration": 5,
    "start_time": "2021-06-19T14:48:50.350Z"
   },
   {
    "duration": 37,
    "start_time": "2021-06-19T14:48:50.356Z"
   },
   {
    "duration": 13,
    "start_time": "2021-06-19T14:48:50.395Z"
   },
   {
    "duration": 5,
    "start_time": "2021-06-19T14:48:50.410Z"
   },
   {
    "duration": 4,
    "start_time": "2021-06-19T14:48:50.416Z"
   },
   {
    "duration": 6,
    "start_time": "2021-06-19T14:48:50.422Z"
   },
   {
    "duration": 12,
    "start_time": "2021-06-19T14:48:50.429Z"
   },
   {
    "duration": 9,
    "start_time": "2021-06-19T14:48:50.442Z"
   },
   {
    "duration": 61,
    "start_time": "2021-06-19T14:48:50.452Z"
   },
   {
    "duration": 3,
    "start_time": "2021-06-19T14:48:50.515Z"
   },
   {
    "duration": 424,
    "start_time": "2021-06-19T14:48:50.519Z"
   },
   {
    "duration": 3,
    "start_time": "2021-06-19T14:48:50.945Z"
   },
   {
    "duration": 24,
    "start_time": "2021-06-19T14:48:50.950Z"
   },
   {
    "duration": 384,
    "start_time": "2021-06-19T14:48:50.984Z"
   },
   {
    "duration": 344,
    "start_time": "2021-06-19T14:48:51.369Z"
   },
   {
    "duration": 343,
    "start_time": "2021-06-19T14:48:51.714Z"
   },
   {
    "duration": 338,
    "start_time": "2021-06-19T14:48:52.058Z"
   },
   {
    "duration": 235,
    "start_time": "2021-06-19T14:48:52.397Z"
   },
   {
    "duration": 4,
    "start_time": "2021-06-19T14:48:52.634Z"
   },
   {
    "duration": 147,
    "start_time": "2021-06-19T14:48:52.640Z"
   },
   {
    "duration": 10,
    "start_time": "2021-06-19T14:48:52.788Z"
   },
   {
    "duration": 267,
    "start_time": "2021-06-19T14:48:52.800Z"
   },
   {
    "duration": 16,
    "start_time": "2021-06-19T14:48:53.069Z"
   },
   {
    "duration": 214,
    "start_time": "2021-06-19T14:48:53.086Z"
   },
   {
    "duration": 9,
    "start_time": "2021-06-19T14:48:53.302Z"
   },
   {
    "duration": 442,
    "start_time": "2021-06-19T14:48:53.313Z"
   },
   {
    "duration": 310,
    "start_time": "2021-06-19T14:48:53.756Z"
   },
   {
    "duration": 143,
    "start_time": "2021-06-19T14:48:54.067Z"
   },
   {
    "duration": 498,
    "start_time": "2021-06-19T14:48:54.212Z"
   },
   {
    "duration": 19,
    "start_time": "2021-06-19T14:48:54.712Z"
   },
   {
    "duration": 3,
    "start_time": "2021-06-19T14:48:54.733Z"
   },
   {
    "duration": 6,
    "start_time": "2021-06-19T14:48:54.738Z"
   },
   {
    "duration": 50,
    "start_time": "2021-06-19T14:48:54.745Z"
   },
   {
    "duration": 288,
    "start_time": "2021-06-19T14:48:54.796Z"
   },
   {
    "duration": 269,
    "start_time": "2021-06-19T14:48:55.086Z"
   },
   {
    "duration": 8,
    "start_time": "2021-06-19T14:48:55.356Z"
   },
   {
    "duration": 37,
    "start_time": "2021-06-19T14:48:55.366Z"
   },
   {
    "duration": 240,
    "start_time": "2021-06-19T14:48:55.405Z"
   },
   {
    "duration": 228,
    "start_time": "2021-06-19T14:48:55.646Z"
   },
   {
    "duration": 309,
    "start_time": "2021-06-19T14:48:55.875Z"
   },
   {
    "duration": 247,
    "start_time": "2021-06-19T14:48:56.189Z"
   },
   {
    "duration": 322,
    "start_time": "2021-06-19T14:48:56.438Z"
   },
   {
    "duration": 193,
    "start_time": "2021-06-19T14:48:56.762Z"
   },
   {
    "duration": 486,
    "start_time": "2021-06-19T14:48:56.957Z"
   },
   {
    "duration": 220,
    "start_time": "2021-06-19T14:48:57.445Z"
   },
   {
    "duration": 214,
    "start_time": "2021-06-19T14:48:57.667Z"
   },
   {
    "duration": 206,
    "start_time": "2021-06-19T14:48:57.883Z"
   },
   {
    "duration": 224,
    "start_time": "2021-06-19T14:49:10.822Z"
   },
   {
    "duration": 10069,
    "start_time": "2021-06-19T14:49:37.086Z"
   },
   {
    "duration": 7752,
    "start_time": "2021-06-19T14:52:27.998Z"
   },
   {
    "duration": 16065,
    "start_time": "2021-06-19T14:53:06.784Z"
   },
   {
    "duration": 8201,
    "start_time": "2021-06-19T14:53:48.535Z"
   },
   {
    "duration": 142,
    "start_time": "2021-06-19T15:08:26.265Z"
   },
   {
    "duration": 131,
    "start_time": "2021-06-19T15:08:33.670Z"
   },
   {
    "duration": 131,
    "start_time": "2021-06-19T15:09:16.944Z"
   },
   {
    "duration": 133,
    "start_time": "2021-06-19T15:09:44.790Z"
   },
   {
    "duration": 127,
    "start_time": "2021-06-19T15:10:11.038Z"
   },
   {
    "duration": 125,
    "start_time": "2021-06-19T15:13:19.619Z"
   },
   {
    "duration": 139,
    "start_time": "2021-06-19T15:15:34.202Z"
   },
   {
    "duration": 142,
    "start_time": "2021-06-19T15:15:40.498Z"
   },
   {
    "duration": 11,
    "start_time": "2021-06-19T15:17:48.845Z"
   },
   {
    "duration": 141,
    "start_time": "2021-06-19T15:20:44.966Z"
   },
   {
    "duration": 139,
    "start_time": "2021-06-19T15:20:57.114Z"
   },
   {
    "duration": 141,
    "start_time": "2021-06-19T15:21:12.689Z"
   },
   {
    "duration": 140,
    "start_time": "2021-06-19T15:22:58.786Z"
   },
   {
    "duration": 146,
    "start_time": "2021-06-19T15:23:07.476Z"
   },
   {
    "duration": 9,
    "start_time": "2021-06-19T15:25:10.983Z"
   },
   {
    "duration": 4140,
    "start_time": "2021-06-19T16:21:16.860Z"
   },
   {
    "duration": 729,
    "start_time": "2021-06-19T16:21:34.982Z"
   },
   {
    "duration": 9,
    "start_time": "2021-06-19T16:21:35.713Z"
   },
   {
    "duration": 8,
    "start_time": "2021-06-19T16:21:35.724Z"
   },
   {
    "duration": 27,
    "start_time": "2021-06-19T16:21:35.733Z"
   },
   {
    "duration": 33,
    "start_time": "2021-06-19T16:21:35.761Z"
   },
   {
    "duration": 8,
    "start_time": "2021-06-19T16:21:35.796Z"
   },
   {
    "duration": 6,
    "start_time": "2021-06-19T16:21:35.805Z"
   },
   {
    "duration": 5,
    "start_time": "2021-06-19T16:21:35.814Z"
   },
   {
    "duration": 9,
    "start_time": "2021-06-19T16:21:35.821Z"
   },
   {
    "duration": 6,
    "start_time": "2021-06-19T16:21:35.832Z"
   },
   {
    "duration": 7,
    "start_time": "2021-06-19T16:21:35.839Z"
   },
   {
    "duration": 5,
    "start_time": "2021-06-19T16:21:35.884Z"
   },
   {
    "duration": 8,
    "start_time": "2021-06-19T16:21:35.891Z"
   },
   {
    "duration": 8,
    "start_time": "2021-06-19T16:21:35.901Z"
   },
   {
    "duration": 7,
    "start_time": "2021-06-19T16:21:35.910Z"
   },
   {
    "duration": 6,
    "start_time": "2021-06-19T16:21:35.918Z"
   },
   {
    "duration": 6,
    "start_time": "2021-06-19T16:21:35.926Z"
   },
   {
    "duration": 3,
    "start_time": "2021-06-19T16:21:35.934Z"
   },
   {
    "duration": 4,
    "start_time": "2021-06-19T16:21:35.939Z"
   },
   {
    "duration": 40,
    "start_time": "2021-06-19T16:21:35.945Z"
   },
   {
    "duration": 42,
    "start_time": "2021-06-19T16:21:35.987Z"
   },
   {
    "duration": 9,
    "start_time": "2021-06-19T16:21:36.031Z"
   },
   {
    "duration": 7,
    "start_time": "2021-06-19T16:21:36.043Z"
   },
   {
    "duration": 7,
    "start_time": "2021-06-19T16:21:36.052Z"
   },
   {
    "duration": 33,
    "start_time": "2021-06-19T16:21:36.061Z"
   },
   {
    "duration": 7,
    "start_time": "2021-06-19T16:21:36.096Z"
   },
   {
    "duration": 5,
    "start_time": "2021-06-19T16:21:36.105Z"
   },
   {
    "duration": 5,
    "start_time": "2021-06-19T16:21:36.112Z"
   },
   {
    "duration": 15,
    "start_time": "2021-06-19T16:21:36.119Z"
   },
   {
    "duration": 15,
    "start_time": "2021-06-19T16:21:36.135Z"
   },
   {
    "duration": 38,
    "start_time": "2021-06-19T16:21:36.151Z"
   },
   {
    "duration": 4,
    "start_time": "2021-06-19T16:21:36.191Z"
   },
   {
    "duration": 12,
    "start_time": "2021-06-19T16:21:36.196Z"
   },
   {
    "duration": 13,
    "start_time": "2021-06-19T16:21:36.210Z"
   },
   {
    "duration": 24,
    "start_time": "2021-06-19T16:21:36.224Z"
   },
   {
    "duration": 37,
    "start_time": "2021-06-19T16:21:36.250Z"
   },
   {
    "duration": 3,
    "start_time": "2021-06-19T16:21:36.289Z"
   },
   {
    "duration": 443,
    "start_time": "2021-06-19T16:21:36.293Z"
   },
   {
    "duration": 4,
    "start_time": "2021-06-19T16:21:36.737Z"
   },
   {
    "duration": 24,
    "start_time": "2021-06-19T16:21:36.742Z"
   },
   {
    "duration": 404,
    "start_time": "2021-06-19T16:21:36.767Z"
   },
   {
    "duration": 345,
    "start_time": "2021-06-19T16:21:37.184Z"
   },
   {
    "duration": 341,
    "start_time": "2021-06-19T16:21:37.531Z"
   },
   {
    "duration": 349,
    "start_time": "2021-06-19T16:21:37.874Z"
   },
   {
    "duration": 246,
    "start_time": "2021-06-19T16:21:38.225Z"
   },
   {
    "duration": 5,
    "start_time": "2021-06-19T16:21:38.473Z"
   },
   {
    "duration": 153,
    "start_time": "2021-06-19T16:21:38.485Z"
   },
   {
    "duration": 9,
    "start_time": "2021-06-19T16:21:38.640Z"
   },
   {
    "duration": 274,
    "start_time": "2021-06-19T16:21:38.651Z"
   },
   {
    "duration": 8,
    "start_time": "2021-06-19T16:21:38.926Z"
   },
   {
    "duration": 225,
    "start_time": "2021-06-19T16:21:38.935Z"
   },
   {
    "duration": 9,
    "start_time": "2021-06-19T16:21:39.161Z"
   },
   {
    "duration": 148,
    "start_time": "2021-06-19T16:21:39.171Z"
   },
   {
    "duration": 9,
    "start_time": "2021-06-19T16:21:39.320Z"
   },
   {
    "duration": 165,
    "start_time": "2021-06-19T16:21:39.332Z"
   },
   {
    "duration": 8,
    "start_time": "2021-06-19T16:21:39.500Z"
   },
   {
    "duration": 443,
    "start_time": "2021-06-19T16:21:39.509Z"
   },
   {
    "duration": 301,
    "start_time": "2021-06-19T16:21:39.953Z"
   },
   {
    "duration": 151,
    "start_time": "2021-06-19T16:21:40.256Z"
   },
   {
    "duration": 536,
    "start_time": "2021-06-19T16:21:40.410Z"
   },
   {
    "duration": 21,
    "start_time": "2021-06-19T16:21:40.948Z"
   },
   {
    "duration": 17,
    "start_time": "2021-06-19T16:21:40.971Z"
   },
   {
    "duration": 10,
    "start_time": "2021-06-19T16:21:40.990Z"
   },
   {
    "duration": 38,
    "start_time": "2021-06-19T16:21:41.002Z"
   },
   {
    "duration": 329,
    "start_time": "2021-06-19T16:21:41.041Z"
   },
   {
    "duration": 62987,
    "start_time": "2021-06-19T16:21:41.372Z"
   },
   {
    "duration": 885,
    "start_time": "2021-06-19T16:22:51.450Z"
   },
   {
    "duration": 10,
    "start_time": "2021-06-19T16:22:52.337Z"
   },
   {
    "duration": 7,
    "start_time": "2021-06-19T16:22:52.349Z"
   },
   {
    "duration": 41,
    "start_time": "2021-06-19T16:22:52.358Z"
   },
   {
    "duration": 10,
    "start_time": "2021-06-19T16:22:52.400Z"
   },
   {
    "duration": 5,
    "start_time": "2021-06-19T16:22:52.412Z"
   },
   {
    "duration": 3,
    "start_time": "2021-06-19T16:22:52.419Z"
   },
   {
    "duration": 4,
    "start_time": "2021-06-19T16:22:52.425Z"
   },
   {
    "duration": 6,
    "start_time": "2021-06-19T16:22:52.431Z"
   },
   {
    "duration": 7,
    "start_time": "2021-06-19T16:22:52.438Z"
   },
   {
    "duration": 41,
    "start_time": "2021-06-19T16:22:52.446Z"
   },
   {
    "duration": 4,
    "start_time": "2021-06-19T16:22:52.488Z"
   },
   {
    "duration": 6,
    "start_time": "2021-06-19T16:22:52.494Z"
   },
   {
    "duration": 13,
    "start_time": "2021-06-19T16:22:52.501Z"
   },
   {
    "duration": 11,
    "start_time": "2021-06-19T16:22:52.516Z"
   },
   {
    "duration": 9,
    "start_time": "2021-06-19T16:22:52.528Z"
   },
   {
    "duration": 10,
    "start_time": "2021-06-19T16:22:52.539Z"
   },
   {
    "duration": 9,
    "start_time": "2021-06-19T16:22:52.551Z"
   },
   {
    "duration": 7,
    "start_time": "2021-06-19T16:22:52.561Z"
   },
   {
    "duration": 7,
    "start_time": "2021-06-19T16:22:52.570Z"
   },
   {
    "duration": 48,
    "start_time": "2021-06-19T16:22:52.578Z"
   },
   {
    "duration": 9,
    "start_time": "2021-06-19T16:22:52.627Z"
   },
   {
    "duration": 12,
    "start_time": "2021-06-19T16:22:52.639Z"
   },
   {
    "duration": 11,
    "start_time": "2021-06-19T16:22:52.653Z"
   },
   {
    "duration": 13,
    "start_time": "2021-06-19T16:22:52.665Z"
   },
   {
    "duration": 12,
    "start_time": "2021-06-19T16:22:52.679Z"
   },
   {
    "duration": 12,
    "start_time": "2021-06-19T16:22:52.692Z"
   },
   {
    "duration": 11,
    "start_time": "2021-06-19T16:22:52.705Z"
   },
   {
    "duration": 12,
    "start_time": "2021-06-19T16:22:52.717Z"
   },
   {
    "duration": 13,
    "start_time": "2021-06-19T16:22:52.731Z"
   },
   {
    "duration": 5,
    "start_time": "2021-06-19T16:22:52.746Z"
   },
   {
    "duration": 4,
    "start_time": "2021-06-19T16:22:52.752Z"
   },
   {
    "duration": 7,
    "start_time": "2021-06-19T16:22:52.757Z"
   },
   {
    "duration": 25,
    "start_time": "2021-06-19T16:22:52.766Z"
   },
   {
    "duration": 10,
    "start_time": "2021-06-19T16:22:52.792Z"
   },
   {
    "duration": 32,
    "start_time": "2021-06-19T16:22:52.803Z"
   },
   {
    "duration": 3,
    "start_time": "2021-06-19T16:22:52.837Z"
   },
   {
    "duration": 444,
    "start_time": "2021-06-19T16:22:52.841Z"
   },
   {
    "duration": 4,
    "start_time": "2021-06-19T16:22:53.287Z"
   },
   {
    "duration": 23,
    "start_time": "2021-06-19T16:22:53.293Z"
   },
   {
    "duration": 394,
    "start_time": "2021-06-19T16:22:53.318Z"
   },
   {
    "duration": 366,
    "start_time": "2021-06-19T16:22:53.714Z"
   },
   {
    "duration": 348,
    "start_time": "2021-06-19T16:22:54.082Z"
   },
   {
    "duration": 335,
    "start_time": "2021-06-19T16:22:54.433Z"
   },
   {
    "duration": 246,
    "start_time": "2021-06-19T16:22:54.770Z"
   },
   {
    "duration": 6,
    "start_time": "2021-06-19T16:22:55.018Z"
   },
   {
    "duration": 151,
    "start_time": "2021-06-19T16:22:55.026Z"
   },
   {
    "duration": 13,
    "start_time": "2021-06-19T16:22:55.179Z"
   },
   {
    "duration": 270,
    "start_time": "2021-06-19T16:22:55.194Z"
   },
   {
    "duration": 7,
    "start_time": "2021-06-19T16:22:55.465Z"
   },
   {
    "duration": 195,
    "start_time": "2021-06-19T16:22:55.484Z"
   },
   {
    "duration": 11,
    "start_time": "2021-06-19T16:22:55.681Z"
   },
   {
    "duration": 133,
    "start_time": "2021-06-19T16:22:55.694Z"
   },
   {
    "duration": 8,
    "start_time": "2021-06-19T16:22:55.828Z"
   },
   {
    "duration": 147,
    "start_time": "2021-06-19T16:22:55.838Z"
   },
   {
    "duration": 8,
    "start_time": "2021-06-19T16:22:55.986Z"
   },
   {
    "duration": 438,
    "start_time": "2021-06-19T16:22:55.996Z"
   },
   {
    "duration": 279,
    "start_time": "2021-06-19T16:22:56.435Z"
   },
   {
    "duration": 145,
    "start_time": "2021-06-19T16:22:56.715Z"
   },
   {
    "duration": 516,
    "start_time": "2021-06-19T16:22:56.862Z"
   },
   {
    "duration": 22,
    "start_time": "2021-06-19T16:22:57.380Z"
   },
   {
    "duration": 5,
    "start_time": "2021-06-19T16:22:57.403Z"
   },
   {
    "duration": 9,
    "start_time": "2021-06-19T16:22:57.409Z"
   },
   {
    "duration": 34,
    "start_time": "2021-06-19T16:22:57.420Z"
   },
   {
    "duration": 328,
    "start_time": "2021-06-19T16:22:57.456Z"
   },
   {
    "duration": 62368,
    "start_time": "2021-06-19T16:22:57.786Z"
   },
   {
    "duration": 4198,
    "start_time": "2021-06-19T16:24:00.156Z"
   },
   {
    "duration": 6848,
    "start_time": "2021-06-19T16:23:57.509Z"
   },
   {
    "duration": 6842,
    "start_time": "2021-06-19T16:23:57.516Z"
   },
   {
    "duration": 6835,
    "start_time": "2021-06-19T16:23:57.523Z"
   },
   {
    "duration": 6829,
    "start_time": "2021-06-19T16:23:57.530Z"
   },
   {
    "duration": 6821,
    "start_time": "2021-06-19T16:23:57.539Z"
   },
   {
    "duration": 6815,
    "start_time": "2021-06-19T16:23:57.546Z"
   },
   {
    "duration": 6810,
    "start_time": "2021-06-19T16:23:57.552Z"
   },
   {
    "duration": 6804,
    "start_time": "2021-06-19T16:23:57.559Z"
   },
   {
    "duration": 6799,
    "start_time": "2021-06-19T16:23:57.565Z"
   },
   {
    "duration": 6794,
    "start_time": "2021-06-19T16:23:57.571Z"
   },
   {
    "duration": 6788,
    "start_time": "2021-06-19T16:23:57.578Z"
   },
   {
    "duration": 6783,
    "start_time": "2021-06-19T16:23:57.584Z"
   },
   {
    "duration": 6778,
    "start_time": "2021-06-19T16:23:57.590Z"
   },
   {
    "duration": 6760,
    "start_time": "2021-06-19T16:23:57.609Z"
   },
   {
    "duration": 4118,
    "start_time": "2021-06-19T16:25:06.812Z"
   },
   {
    "duration": 181,
    "start_time": "2021-06-19T16:25:23.878Z"
   },
   {
    "duration": 61,
    "start_time": "2021-06-19T16:27:01.927Z"
   },
   {
    "duration": 184,
    "start_time": "2021-06-19T16:27:48.342Z"
   },
   {
    "duration": 169,
    "start_time": "2021-06-19T16:28:25.104Z"
   },
   {
    "duration": 1834,
    "start_time": "2021-06-19T16:29:10.999Z"
   },
   {
    "duration": 3,
    "start_time": "2021-06-19T16:29:26.507Z"
   },
   {
    "duration": 4215,
    "start_time": "2021-06-19T16:29:49.260Z"
   },
   {
    "duration": 4402,
    "start_time": "2021-06-19T16:30:03.465Z"
   },
   {
    "duration": 4571,
    "start_time": "2021-06-19T16:31:33.508Z"
   },
   {
    "duration": 4037,
    "start_time": "2021-06-19T16:32:47.171Z"
   },
   {
    "duration": 187,
    "start_time": "2021-06-19T16:33:34.059Z"
   },
   {
    "duration": 201,
    "start_time": "2021-06-19T16:36:05.386Z"
   },
   {
    "duration": 989,
    "start_time": "2021-07-05T11:34:19.341Z"
   },
   {
    "duration": 23,
    "start_time": "2021-07-05T11:34:20.333Z"
   },
   {
    "duration": 11,
    "start_time": "2021-07-05T11:34:20.359Z"
   },
   {
    "duration": 37,
    "start_time": "2021-07-05T11:34:20.373Z"
   },
   {
    "duration": 48,
    "start_time": "2021-07-05T11:34:20.412Z"
   },
   {
    "duration": 8,
    "start_time": "2021-07-05T11:34:20.463Z"
   },
   {
    "duration": 6,
    "start_time": "2021-07-05T11:34:20.473Z"
   },
   {
    "duration": 4,
    "start_time": "2021-07-05T11:34:20.482Z"
   },
   {
    "duration": 7,
    "start_time": "2021-07-05T11:34:20.491Z"
   },
   {
    "duration": 8,
    "start_time": "2021-07-05T11:34:20.501Z"
   },
   {
    "duration": 49,
    "start_time": "2021-07-05T11:34:20.512Z"
   },
   {
    "duration": 16,
    "start_time": "2021-07-05T11:34:20.564Z"
   },
   {
    "duration": 8,
    "start_time": "2021-07-05T11:34:20.583Z"
   },
   {
    "duration": 28,
    "start_time": "2021-07-05T11:34:20.593Z"
   },
   {
    "duration": 14,
    "start_time": "2021-07-05T11:34:20.624Z"
   },
   {
    "duration": 23,
    "start_time": "2021-07-05T11:34:20.640Z"
   },
   {
    "duration": 13,
    "start_time": "2021-07-05T11:34:20.665Z"
   },
   {
    "duration": 12,
    "start_time": "2021-07-05T11:34:20.680Z"
   },
   {
    "duration": 5,
    "start_time": "2021-07-05T11:34:20.695Z"
   },
   {
    "duration": 11,
    "start_time": "2021-07-05T11:34:20.703Z"
   },
   {
    "duration": 88,
    "start_time": "2021-07-05T11:34:20.716Z"
   },
   {
    "duration": 12,
    "start_time": "2021-07-05T11:34:20.807Z"
   },
   {
    "duration": 9,
    "start_time": "2021-07-05T11:34:20.821Z"
   },
   {
    "duration": 26,
    "start_time": "2021-07-05T11:34:20.832Z"
   },
   {
    "duration": 13,
    "start_time": "2021-07-05T11:34:20.860Z"
   },
   {
    "duration": 10,
    "start_time": "2021-07-05T11:34:20.875Z"
   },
   {
    "duration": 19,
    "start_time": "2021-07-05T11:34:20.891Z"
   },
   {
    "duration": 10,
    "start_time": "2021-07-05T11:34:20.914Z"
   },
   {
    "duration": 38,
    "start_time": "2021-07-05T11:34:20.927Z"
   },
   {
    "duration": 23,
    "start_time": "2021-07-05T11:34:20.968Z"
   },
   {
    "duration": 9,
    "start_time": "2021-07-05T11:34:20.994Z"
   },
   {
    "duration": 5,
    "start_time": "2021-07-05T11:34:21.005Z"
   },
   {
    "duration": 49,
    "start_time": "2021-07-05T11:34:21.012Z"
   },
   {
    "duration": 16,
    "start_time": "2021-07-05T11:34:21.063Z"
   },
   {
    "duration": 15,
    "start_time": "2021-07-05T11:34:21.081Z"
   },
   {
    "duration": 83,
    "start_time": "2021-07-05T11:34:21.098Z"
   },
   {
    "duration": 4,
    "start_time": "2021-07-05T11:34:21.184Z"
   },
   {
    "duration": 753,
    "start_time": "2021-07-05T11:34:21.190Z"
   },
   {
    "duration": 14,
    "start_time": "2021-07-05T11:34:21.945Z"
   },
   {
    "duration": 38,
    "start_time": "2021-07-05T11:34:21.961Z"
   },
   {
    "duration": 738,
    "start_time": "2021-07-05T11:34:22.002Z"
   },
   {
    "duration": 573,
    "start_time": "2021-07-05T11:34:22.742Z"
   },
   {
    "duration": 570,
    "start_time": "2021-07-05T11:34:23.318Z"
   },
   {
    "duration": 561,
    "start_time": "2021-07-05T11:34:23.891Z"
   },
   {
    "duration": 380,
    "start_time": "2021-07-05T11:34:24.456Z"
   },
   {
    "duration": 17,
    "start_time": "2021-07-05T11:34:24.839Z"
   },
   {
    "duration": 243,
    "start_time": "2021-07-05T11:34:24.858Z"
   },
   {
    "duration": 17,
    "start_time": "2021-07-05T11:34:25.104Z"
   },
   {
    "duration": 449,
    "start_time": "2021-07-05T11:34:25.123Z"
   },
   {
    "duration": 11,
    "start_time": "2021-07-05T11:34:25.576Z"
   },
   {
    "duration": 340,
    "start_time": "2021-07-05T11:34:25.589Z"
   },
   {
    "duration": 12,
    "start_time": "2021-07-05T11:34:25.931Z"
   },
   {
    "duration": 204,
    "start_time": "2021-07-05T11:34:25.957Z"
   },
   {
    "duration": 12,
    "start_time": "2021-07-05T11:34:26.163Z"
   },
   {
    "duration": 227,
    "start_time": "2021-07-05T11:34:26.177Z"
   },
   {
    "duration": 11,
    "start_time": "2021-07-05T11:34:26.406Z"
   },
   {
    "duration": 689,
    "start_time": "2021-07-05T11:34:26.419Z"
   },
   {
    "duration": 467,
    "start_time": "2021-07-05T11:34:27.111Z"
   },
   {
    "duration": 232,
    "start_time": "2021-07-05T11:34:27.581Z"
   },
   {
    "duration": 829,
    "start_time": "2021-07-05T11:34:27.815Z"
   },
   {
    "duration": 37,
    "start_time": "2021-07-05T11:34:28.647Z"
   },
   {
    "duration": 6,
    "start_time": "2021-07-05T11:34:28.686Z"
   },
   {
    "duration": 10,
    "start_time": "2021-07-05T11:34:28.695Z"
   },
   {
    "duration": 78,
    "start_time": "2021-07-05T11:34:28.707Z"
   },
   {
    "duration": 493,
    "start_time": "2021-07-05T11:34:28.788Z"
   },
   {
    "duration": 323,
    "start_time": "2021-07-05T11:34:29.284Z"
   },
   {
    "duration": 14,
    "start_time": "2021-07-05T11:34:29.610Z"
   },
   {
    "duration": 76,
    "start_time": "2021-07-05T11:34:29.628Z"
   },
   {
    "duration": 375,
    "start_time": "2021-07-05T11:34:29.706Z"
   },
   {
    "duration": 486,
    "start_time": "2021-07-05T11:34:30.084Z"
   },
   {
    "duration": 375,
    "start_time": "2021-07-05T11:34:30.573Z"
   },
   {
    "duration": 391,
    "start_time": "2021-07-05T11:34:30.955Z"
   },
   {
    "duration": 506,
    "start_time": "2021-07-05T11:34:31.349Z"
   },
   {
    "duration": 311,
    "start_time": "2021-07-05T11:34:31.857Z"
   },
   {
    "duration": 734,
    "start_time": "2021-07-05T11:34:32.170Z"
   },
   {
    "duration": 337,
    "start_time": "2021-07-05T11:34:32.906Z"
   },
   {
    "duration": 309,
    "start_time": "2021-07-05T11:34:33.246Z"
   },
   {
    "duration": 310,
    "start_time": "2021-07-05T11:34:33.558Z"
   },
   {
    "duration": 5,
    "start_time": "2021-07-05T11:34:40.712Z"
   },
   {
    "duration": 5,
    "start_time": "2021-07-05T11:34:43.010Z"
   },
   {
    "duration": 1029,
    "start_time": "2021-09-15T11:44:23.805Z"
   },
   {
    "duration": 28,
    "start_time": "2021-09-15T11:44:24.838Z"
   },
   {
    "duration": 13,
    "start_time": "2021-09-15T11:44:24.870Z"
   },
   {
    "duration": 40,
    "start_time": "2021-09-15T11:44:24.886Z"
   },
   {
    "duration": 17,
    "start_time": "2021-09-15T11:44:24.955Z"
   },
   {
    "duration": 9,
    "start_time": "2021-09-15T11:44:24.975Z"
   },
   {
    "duration": 5,
    "start_time": "2021-09-15T11:44:24.987Z"
   },
   {
    "duration": 9,
    "start_time": "2021-09-15T11:44:24.996Z"
   },
   {
    "duration": 49,
    "start_time": "2021-09-15T11:44:25.007Z"
   },
   {
    "duration": 8,
    "start_time": "2021-09-15T11:44:25.059Z"
   },
   {
    "duration": 9,
    "start_time": "2021-09-15T11:44:25.070Z"
   },
   {
    "duration": 7,
    "start_time": "2021-09-15T11:44:25.082Z"
   },
   {
    "duration": 8,
    "start_time": "2021-09-15T11:44:25.091Z"
   },
   {
    "duration": 7,
    "start_time": "2021-09-15T11:44:25.101Z"
   },
   {
    "duration": 47,
    "start_time": "2021-09-15T11:44:25.110Z"
   },
   {
    "duration": 8,
    "start_time": "2021-09-15T11:44:25.159Z"
   },
   {
    "duration": 7,
    "start_time": "2021-09-15T11:44:25.169Z"
   },
   {
    "duration": 7,
    "start_time": "2021-09-15T11:44:25.179Z"
   },
   {
    "duration": 5,
    "start_time": "2021-09-15T11:44:25.188Z"
   },
   {
    "duration": 6,
    "start_time": "2021-09-15T11:44:25.196Z"
   },
   {
    "duration": 97,
    "start_time": "2021-09-15T11:44:25.204Z"
   },
   {
    "duration": 12,
    "start_time": "2021-09-15T11:44:25.303Z"
   },
   {
    "duration": 36,
    "start_time": "2021-09-15T11:44:25.322Z"
   },
   {
    "duration": 13,
    "start_time": "2021-09-15T11:44:25.362Z"
   },
   {
    "duration": 16,
    "start_time": "2021-09-15T11:44:25.377Z"
   },
   {
    "duration": 19,
    "start_time": "2021-09-15T11:44:25.395Z"
   },
   {
    "duration": 20,
    "start_time": "2021-09-15T11:44:25.416Z"
   },
   {
    "duration": 21,
    "start_time": "2021-09-15T11:44:25.439Z"
   },
   {
    "duration": 32,
    "start_time": "2021-09-15T11:44:25.463Z"
   },
   {
    "duration": 21,
    "start_time": "2021-09-15T11:44:25.497Z"
   },
   {
    "duration": 8,
    "start_time": "2021-09-15T11:44:25.520Z"
   },
   {
    "duration": 7,
    "start_time": "2021-09-15T11:44:25.554Z"
   },
   {
    "duration": 22,
    "start_time": "2021-09-15T11:44:25.564Z"
   },
   {
    "duration": 19,
    "start_time": "2021-09-15T11:44:25.588Z"
   },
   {
    "duration": 14,
    "start_time": "2021-09-15T11:44:25.610Z"
   },
   {
    "duration": 74,
    "start_time": "2021-09-15T11:44:25.627Z"
   },
   {
    "duration": 4,
    "start_time": "2021-09-15T11:44:25.704Z"
   },
   {
    "duration": 760,
    "start_time": "2021-09-15T11:44:25.710Z"
   },
   {
    "duration": 5,
    "start_time": "2021-09-15T11:44:26.472Z"
   },
   {
    "duration": 40,
    "start_time": "2021-09-15T11:44:26.479Z"
   },
   {
    "duration": 644,
    "start_time": "2021-09-15T11:44:26.521Z"
   },
   {
    "duration": 571,
    "start_time": "2021-09-15T11:44:27.168Z"
   },
   {
    "duration": 558,
    "start_time": "2021-09-15T11:44:27.741Z"
   },
   {
    "duration": 592,
    "start_time": "2021-09-15T11:44:28.301Z"
   },
   {
    "duration": 393,
    "start_time": "2021-09-15T11:44:28.895Z"
   },
   {
    "duration": 7,
    "start_time": "2021-09-15T11:44:29.290Z"
   },
   {
    "duration": 255,
    "start_time": "2021-09-15T11:44:29.299Z"
   },
   {
    "duration": 14,
    "start_time": "2021-09-15T11:44:29.556Z"
   },
   {
    "duration": 443,
    "start_time": "2021-09-15T11:44:29.573Z"
   },
   {
    "duration": 11,
    "start_time": "2021-09-15T11:44:30.020Z"
   },
   {
    "duration": 323,
    "start_time": "2021-09-15T11:44:30.034Z"
   },
   {
    "duration": 13,
    "start_time": "2021-09-15T11:44:30.359Z"
   },
   {
    "duration": 228,
    "start_time": "2021-09-15T11:44:30.375Z"
   },
   {
    "duration": 15,
    "start_time": "2021-09-15T11:44:30.606Z"
   },
   {
    "duration": 234,
    "start_time": "2021-09-15T11:44:30.623Z"
   },
   {
    "duration": 13,
    "start_time": "2021-09-15T11:44:30.859Z"
   },
   {
    "duration": 684,
    "start_time": "2021-09-15T11:44:30.875Z"
   },
   {
    "duration": 482,
    "start_time": "2021-09-15T11:44:31.562Z"
   },
   {
    "duration": 228,
    "start_time": "2021-09-15T11:44:32.046Z"
   },
   {
    "duration": 804,
    "start_time": "2021-09-15T11:44:32.277Z"
   },
   {
    "duration": 31,
    "start_time": "2021-09-15T11:44:33.084Z"
   },
   {
    "duration": 6,
    "start_time": "2021-09-15T11:44:33.118Z"
   },
   {
    "duration": 31,
    "start_time": "2021-09-15T11:44:33.127Z"
   },
   {
    "duration": 45,
    "start_time": "2021-09-15T11:44:33.160Z"
   },
   {
    "duration": 493,
    "start_time": "2021-09-15T11:44:33.207Z"
   },
   {
    "duration": 304,
    "start_time": "2021-09-15T11:44:33.703Z"
   },
   {
    "duration": 10,
    "start_time": "2021-09-15T11:44:34.009Z"
   },
   {
    "duration": 62,
    "start_time": "2021-09-15T11:44:34.026Z"
   },
   {
    "duration": 373,
    "start_time": "2021-09-15T11:44:34.090Z"
   },
   {
    "duration": 577,
    "start_time": "2021-09-15T11:44:34.466Z"
   },
   {
    "duration": 348,
    "start_time": "2021-09-15T11:44:35.045Z"
   },
   {
    "duration": 376,
    "start_time": "2021-09-15T11:44:35.396Z"
   },
   {
    "duration": 602,
    "start_time": "2021-09-15T11:44:35.775Z"
   },
   {
    "duration": 301,
    "start_time": "2021-09-15T11:44:36.380Z"
   },
   {
    "duration": 709,
    "start_time": "2021-09-15T11:44:36.683Z"
   },
   {
    "duration": 341,
    "start_time": "2021-09-15T11:44:37.394Z"
   },
   {
    "duration": 492,
    "start_time": "2021-09-15T11:44:37.738Z"
   },
   {
    "duration": 426,
    "start_time": "2021-09-15T11:44:38.233Z"
   },
   {
    "duration": 6,
    "start_time": "2021-09-15T11:44:55.180Z"
   }
  ],
  "kernelspec": {
   "display_name": "Python 3",
   "language": "python",
   "name": "python3"
  },
  "language_info": {
   "codemirror_mode": {
    "name": "ipython",
    "version": 3
   },
   "file_extension": ".py",
   "mimetype": "text/x-python",
   "name": "python",
   "nbconvert_exporter": "python",
   "pygments_lexer": "ipython3",
   "version": "3.7.8"
  },
  "toc": {
   "base_numbering": 1,
   "nav_menu": {},
   "number_sections": true,
   "sideBar": true,
   "skip_h1_title": true,
   "title_cell": "Содержание",
   "title_sidebar": "Contents",
   "toc_cell": true,
   "toc_position": {
    "height": "calc(100% - 180px)",
    "left": "10px",
    "top": "150px",
    "width": "268.391px"
   },
   "toc_section_display": true,
   "toc_window_display": true
  }
 },
 "nbformat": 4,
 "nbformat_minor": 2
}
