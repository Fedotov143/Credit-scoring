{
 "cells": [
  {
   "cell_type": "markdown",
   "metadata": {
    "toc": true
   },
   "source": [
    "<h1>Содержание<span class=\"tocSkip\"></span></h1>\n",
    "<div class=\"toc\"><ul class=\"toc-item\"><li><span><a href=\"#Изучение-данных-из-файла.\" data-toc-modified-id=\"Изучение-данных-из-файла.-1\"><span class=\"toc-item-num\">1&nbsp;&nbsp;</span>Изучение данных из файла.</a></span><ul class=\"toc-item\"><li><span><a href=\"#Вывод\" data-toc-modified-id=\"Вывод-1.1\"><span class=\"toc-item-num\">1.1&nbsp;&nbsp;</span>Вывод</a></span></li></ul></li><li><span><a href=\"#Предобработка-данных\" data-toc-modified-id=\"Предобработка-данных-2\"><span class=\"toc-item-num\">2&nbsp;&nbsp;</span>Предобработка данных</a></span><ul class=\"toc-item\"><li><span><a href=\"#Исправление-ошибок-в-данных\" data-toc-modified-id=\"Исправление-ошибок-в-данных-2.1\"><span class=\"toc-item-num\">2.1&nbsp;&nbsp;</span>Исправление ошибок в данных</a></span></li><li><span><a href=\"#Расчетные-значения\" data-toc-modified-id=\"Расчетные-значения-2.2\"><span class=\"toc-item-num\">2.2&nbsp;&nbsp;</span>Расчетные значения</a></span></li></ul></li><li><span><a href=\"#Анализ-данных\" data-toc-modified-id=\"Анализ-данных-3\"><span class=\"toc-item-num\">3&nbsp;&nbsp;</span>Анализ данных</a></span><ul class=\"toc-item\"><li><span><a href=\"#Рассчеты-по-тарифу-Ультра\" data-toc-modified-id=\"Рассчеты-по-тарифу-Ультра-3.1\"><span class=\"toc-item-num\">3.1&nbsp;&nbsp;</span>Рассчеты по тарифу Ультра</a></span></li><li><span><a href=\"#Рассчеты-по-тарифу-Смарт\" data-toc-modified-id=\"Рассчеты-по-тарифу-Смарт-3.2\"><span class=\"toc-item-num\">3.2&nbsp;&nbsp;</span>Рассчеты по тарифу Смарт</a></span></li><li><span><a href=\"#Гистаграммы\" data-toc-modified-id=\"Гистаграммы-3.3\"><span class=\"toc-item-num\">3.3&nbsp;&nbsp;</span>Гистаграммы</a></span><ul class=\"toc-item\"><li><span><a href=\"#Выводы-по-гистаграммам\" data-toc-modified-id=\"Выводы-по-гистаграммам-3.3.1\"><span class=\"toc-item-num\">3.3.1&nbsp;&nbsp;</span>Выводы по гистаграммам</a></span></li></ul></li></ul></li><li><span><a href=\"#Проверка-гипотез\" data-toc-modified-id=\"Проверка-гипотез-4\"><span class=\"toc-item-num\">4&nbsp;&nbsp;</span>Проверка гипотез</a></span><ul class=\"toc-item\"><li><span><a href=\"#Проверка-гипотезы:-Средняя-выручка-пользователей-тарифов-«Ультра»-и-«Смарт»-различается\" data-toc-modified-id=\"Проверка-гипотезы:-Средняя-выручка-пользователей-тарифов-«Ультра»-и-«Смарт»-различается-4.1\"><span class=\"toc-item-num\">4.1&nbsp;&nbsp;</span>Проверка гипотезы: Средняя выручка пользователей тарифов «Ультра» и «Смарт» различается</a></span></li><li><span><a href=\"#Проверка-гипотезы:-Cредняя-выручка-пользователей-из-Москвы-отличается-от-выручки-пользователей-из-других-регионов\" data-toc-modified-id=\"Проверка-гипотезы:-Cредняя-выручка-пользователей-из-Москвы-отличается-от-выручки-пользователей-из-других-регионов-4.2\"><span class=\"toc-item-num\">4.2&nbsp;&nbsp;</span>Проверка гипотезы: Cредняя выручка пользователей из Москвы отличается от выручки пользователей из других регионов</a></span></li></ul></li><li><span><a href=\"#Общий-вывод\" data-toc-modified-id=\"Общий-вывод-5\"><span class=\"toc-item-num\">5&nbsp;&nbsp;</span>Общий вывод</a></span></li></ul></div>"
   ]
  },
  {
   "cell_type": "markdown",
   "metadata": {},
   "source": [
    "# Определение перспективного тарифа для телеком компании\n",
    "\n",
    "Предстоит сделать предворительный анализ на небольшой выборке клиентов. Есть данные 500 пользователей компании \"Мегалайн\". Пользователям предлагают 2 тарифа: \"Ультра\" и \"Смарт\". Чтобы скорректировать рекламный бюджет, коммерческий департамент хочет понять, какой тариф приносит больше денег. Нужно проанализировать поведение клиентов и сделать вывод какой тариф лучше."
   ]
  },
  {
   "cell_type": "markdown",
   "metadata": {},
   "source": [
    "Шаг 1. Откройте файл с данными и изучите общую информацию\n",
    "\n",
    "Шаг 2. Подготовьте данные\n",
    "Приведите данные к нужным типам;\n",
    "Найдите и исправьте ошибки в данных.\n",
    "\n",
    "Шаг 3. Проанализируйте данные\n",
    "Опишите поведение клиентов оператора, исходя из выборки. Сколько минут разговора, сколько сообщений и какой объём интернет-трафика требуется пользователям каждого тарифа в месяц? Посчитайте среднее количество, дисперсию и стандартное отклонение. Постройте гистограммы. Опишите распределения.\n",
    "\n",
    "Шаг 4. Проверьте гипотезы\n",
    "средняя выручка пользователей тарифов «Ультра» и «Смарт» различается;\n",
    "средняя выручка пользователей из Москвы отличается от выручки пользователей из других регионов;\n",
    "Пороговое значение alpha задайте самостоятельно.\n",
    "Поясните:\n",
    "как вы формулировали нулевую и альтернативную гипотезы;\n",
    "какой критерий использовали для проверки гипотез и почему.\n",
    "\n",
    "Шаг 5. Напишите общий вывод"
   ]
  },
  {
   "cell_type": "markdown",
   "metadata": {},
   "source": [
    "## Изучение данных из файла."
   ]
  },
  {
   "cell_type": "code",
   "execution_count": 1,
   "metadata": {},
   "outputs": [],
   "source": [
    "import pandas as pd\n",
    "import numpy as np\n",
    "from scipy import stats as st\n",
    "import matplotlib.pyplot as plt\n",
    "import seaborn as sns\n",
    "from functools import reduce"
   ]
  },
  {
   "cell_type": "markdown",
   "metadata": {},
   "source": [
    "Открываем файл звонков и записываем дата фрейм"
   ]
  },
  {
   "cell_type": "code",
   "execution_count": 2,
   "metadata": {},
   "outputs": [
    {
     "data": {
      "text/html": [
       "<div>\n",
       "<style scoped>\n",
       "    .dataframe tbody tr th:only-of-type {\n",
       "        vertical-align: middle;\n",
       "    }\n",
       "\n",
       "    .dataframe tbody tr th {\n",
       "        vertical-align: top;\n",
       "    }\n",
       "\n",
       "    .dataframe thead th {\n",
       "        text-align: right;\n",
       "    }\n",
       "</style>\n",
       "<table border=\"1\" class=\"dataframe\">\n",
       "  <thead>\n",
       "    <tr style=\"text-align: right;\">\n",
       "      <th></th>\n",
       "      <th>id</th>\n",
       "      <th>call_date</th>\n",
       "      <th>duration</th>\n",
       "      <th>user_id</th>\n",
       "    </tr>\n",
       "  </thead>\n",
       "  <tbody>\n",
       "    <tr>\n",
       "      <td>0</td>\n",
       "      <td>1000_0</td>\n",
       "      <td>2018-07-25</td>\n",
       "      <td>0.00</td>\n",
       "      <td>1000</td>\n",
       "    </tr>\n",
       "    <tr>\n",
       "      <td>1</td>\n",
       "      <td>1000_1</td>\n",
       "      <td>2018-08-17</td>\n",
       "      <td>0.00</td>\n",
       "      <td>1000</td>\n",
       "    </tr>\n",
       "    <tr>\n",
       "      <td>2</td>\n",
       "      <td>1000_2</td>\n",
       "      <td>2018-06-11</td>\n",
       "      <td>2.85</td>\n",
       "      <td>1000</td>\n",
       "    </tr>\n",
       "    <tr>\n",
       "      <td>3</td>\n",
       "      <td>1000_3</td>\n",
       "      <td>2018-09-21</td>\n",
       "      <td>13.80</td>\n",
       "      <td>1000</td>\n",
       "    </tr>\n",
       "    <tr>\n",
       "      <td>4</td>\n",
       "      <td>1000_4</td>\n",
       "      <td>2018-12-15</td>\n",
       "      <td>5.18</td>\n",
       "      <td>1000</td>\n",
       "    </tr>\n",
       "    <tr>\n",
       "      <td>...</td>\n",
       "      <td>...</td>\n",
       "      <td>...</td>\n",
       "      <td>...</td>\n",
       "      <td>...</td>\n",
       "    </tr>\n",
       "    <tr>\n",
       "      <td>202602</td>\n",
       "      <td>1499_215</td>\n",
       "      <td>2018-12-26</td>\n",
       "      <td>0.76</td>\n",
       "      <td>1499</td>\n",
       "    </tr>\n",
       "    <tr>\n",
       "      <td>202603</td>\n",
       "      <td>1499_216</td>\n",
       "      <td>2018-10-18</td>\n",
       "      <td>18.83</td>\n",
       "      <td>1499</td>\n",
       "    </tr>\n",
       "    <tr>\n",
       "      <td>202604</td>\n",
       "      <td>1499_217</td>\n",
       "      <td>2018-11-10</td>\n",
       "      <td>10.81</td>\n",
       "      <td>1499</td>\n",
       "    </tr>\n",
       "    <tr>\n",
       "      <td>202605</td>\n",
       "      <td>1499_218</td>\n",
       "      <td>2018-10-06</td>\n",
       "      <td>4.27</td>\n",
       "      <td>1499</td>\n",
       "    </tr>\n",
       "    <tr>\n",
       "      <td>202606</td>\n",
       "      <td>1499_219</td>\n",
       "      <td>2018-12-14</td>\n",
       "      <td>19.62</td>\n",
       "      <td>1499</td>\n",
       "    </tr>\n",
       "  </tbody>\n",
       "</table>\n",
       "<p>202607 rows × 4 columns</p>\n",
       "</div>"
      ],
      "text/plain": [
       "              id   call_date  duration  user_id\n",
       "0         1000_0  2018-07-25      0.00     1000\n",
       "1         1000_1  2018-08-17      0.00     1000\n",
       "2         1000_2  2018-06-11      2.85     1000\n",
       "3         1000_3  2018-09-21     13.80     1000\n",
       "4         1000_4  2018-12-15      5.18     1000\n",
       "...          ...         ...       ...      ...\n",
       "202602  1499_215  2018-12-26      0.76     1499\n",
       "202603  1499_216  2018-10-18     18.83     1499\n",
       "202604  1499_217  2018-11-10     10.81     1499\n",
       "202605  1499_218  2018-10-06      4.27     1499\n",
       "202606  1499_219  2018-12-14     19.62     1499\n",
       "\n",
       "[202607 rows x 4 columns]"
      ]
     },
     "metadata": {},
     "output_type": "display_data"
    },
    {
     "name": "stdout",
     "output_type": "stream",
     "text": [
      "<class 'pandas.core.frame.DataFrame'>\n",
      "RangeIndex: 202607 entries, 0 to 202606\n",
      "Data columns (total 4 columns):\n",
      "id           202607 non-null object\n",
      "call_date    202607 non-null object\n",
      "duration     202607 non-null float64\n",
      "user_id      202607 non-null int64\n",
      "dtypes: float64(1), int64(1), object(2)\n",
      "memory usage: 6.2+ MB\n"
     ]
    }
   ],
   "source": [
    "calls=pd.read_csv('/datasets/calls.csv')\n",
    "display(calls)\n",
    "calls.info()"
   ]
  },
  {
   "cell_type": "markdown",
   "metadata": {},
   "source": [
    "Открываем файл интернета и записываем дата фрейм"
   ]
  },
  {
   "cell_type": "code",
   "execution_count": 3,
   "metadata": {},
   "outputs": [
    {
     "data": {
      "text/html": [
       "<div>\n",
       "<style scoped>\n",
       "    .dataframe tbody tr th:only-of-type {\n",
       "        vertical-align: middle;\n",
       "    }\n",
       "\n",
       "    .dataframe tbody tr th {\n",
       "        vertical-align: top;\n",
       "    }\n",
       "\n",
       "    .dataframe thead th {\n",
       "        text-align: right;\n",
       "    }\n",
       "</style>\n",
       "<table border=\"1\" class=\"dataframe\">\n",
       "  <thead>\n",
       "    <tr style=\"text-align: right;\">\n",
       "      <th></th>\n",
       "      <th>Unnamed: 0</th>\n",
       "      <th>id</th>\n",
       "      <th>mb_used</th>\n",
       "      <th>session_date</th>\n",
       "      <th>user_id</th>\n",
       "    </tr>\n",
       "  </thead>\n",
       "  <tbody>\n",
       "    <tr>\n",
       "      <td>0</td>\n",
       "      <td>0</td>\n",
       "      <td>1000_0</td>\n",
       "      <td>112.95</td>\n",
       "      <td>2018-11-25</td>\n",
       "      <td>1000</td>\n",
       "    </tr>\n",
       "    <tr>\n",
       "      <td>1</td>\n",
       "      <td>1</td>\n",
       "      <td>1000_1</td>\n",
       "      <td>1052.81</td>\n",
       "      <td>2018-09-07</td>\n",
       "      <td>1000</td>\n",
       "    </tr>\n",
       "    <tr>\n",
       "      <td>2</td>\n",
       "      <td>2</td>\n",
       "      <td>1000_2</td>\n",
       "      <td>1197.26</td>\n",
       "      <td>2018-06-25</td>\n",
       "      <td>1000</td>\n",
       "    </tr>\n",
       "    <tr>\n",
       "      <td>3</td>\n",
       "      <td>3</td>\n",
       "      <td>1000_3</td>\n",
       "      <td>550.27</td>\n",
       "      <td>2018-08-22</td>\n",
       "      <td>1000</td>\n",
       "    </tr>\n",
       "    <tr>\n",
       "      <td>4</td>\n",
       "      <td>4</td>\n",
       "      <td>1000_4</td>\n",
       "      <td>302.56</td>\n",
       "      <td>2018-09-24</td>\n",
       "      <td>1000</td>\n",
       "    </tr>\n",
       "    <tr>\n",
       "      <td>...</td>\n",
       "      <td>...</td>\n",
       "      <td>...</td>\n",
       "      <td>...</td>\n",
       "      <td>...</td>\n",
       "      <td>...</td>\n",
       "    </tr>\n",
       "    <tr>\n",
       "      <td>149391</td>\n",
       "      <td>149391</td>\n",
       "      <td>1499_152</td>\n",
       "      <td>318.90</td>\n",
       "      <td>2018-10-03</td>\n",
       "      <td>1499</td>\n",
       "    </tr>\n",
       "    <tr>\n",
       "      <td>149392</td>\n",
       "      <td>149392</td>\n",
       "      <td>1499_153</td>\n",
       "      <td>490.13</td>\n",
       "      <td>2018-12-14</td>\n",
       "      <td>1499</td>\n",
       "    </tr>\n",
       "    <tr>\n",
       "      <td>149393</td>\n",
       "      <td>149393</td>\n",
       "      <td>1499_154</td>\n",
       "      <td>0.00</td>\n",
       "      <td>2018-10-27</td>\n",
       "      <td>1499</td>\n",
       "    </tr>\n",
       "    <tr>\n",
       "      <td>149394</td>\n",
       "      <td>149394</td>\n",
       "      <td>1499_155</td>\n",
       "      <td>1246.32</td>\n",
       "      <td>2018-11-26</td>\n",
       "      <td>1499</td>\n",
       "    </tr>\n",
       "    <tr>\n",
       "      <td>149395</td>\n",
       "      <td>149395</td>\n",
       "      <td>1499_156</td>\n",
       "      <td>544.37</td>\n",
       "      <td>2018-10-26</td>\n",
       "      <td>1499</td>\n",
       "    </tr>\n",
       "  </tbody>\n",
       "</table>\n",
       "<p>149396 rows × 5 columns</p>\n",
       "</div>"
      ],
      "text/plain": [
       "        Unnamed: 0        id  mb_used session_date  user_id\n",
       "0                0    1000_0   112.95   2018-11-25     1000\n",
       "1                1    1000_1  1052.81   2018-09-07     1000\n",
       "2                2    1000_2  1197.26   2018-06-25     1000\n",
       "3                3    1000_3   550.27   2018-08-22     1000\n",
       "4                4    1000_4   302.56   2018-09-24     1000\n",
       "...            ...       ...      ...          ...      ...\n",
       "149391      149391  1499_152   318.90   2018-10-03     1499\n",
       "149392      149392  1499_153   490.13   2018-12-14     1499\n",
       "149393      149393  1499_154     0.00   2018-10-27     1499\n",
       "149394      149394  1499_155  1246.32   2018-11-26     1499\n",
       "149395      149395  1499_156   544.37   2018-10-26     1499\n",
       "\n",
       "[149396 rows x 5 columns]"
      ]
     },
     "metadata": {},
     "output_type": "display_data"
    },
    {
     "name": "stdout",
     "output_type": "stream",
     "text": [
      "<class 'pandas.core.frame.DataFrame'>\n",
      "RangeIndex: 149396 entries, 0 to 149395\n",
      "Data columns (total 5 columns):\n",
      "Unnamed: 0      149396 non-null int64\n",
      "id              149396 non-null object\n",
      "mb_used         149396 non-null float64\n",
      "session_date    149396 non-null object\n",
      "user_id         149396 non-null int64\n",
      "dtypes: float64(1), int64(2), object(2)\n",
      "memory usage: 5.7+ MB\n"
     ]
    }
   ],
   "source": [
    "internet=pd.read_csv('/datasets/internet.csv')\n",
    "display(internet)\n",
    "internet.info()"
   ]
  },
  {
   "cell_type": "markdown",
   "metadata": {},
   "source": [
    "Открываем файл сообщений и записываем дата фрейм"
   ]
  },
  {
   "cell_type": "code",
   "execution_count": 4,
   "metadata": {},
   "outputs": [
    {
     "data": {
      "text/html": [
       "<div>\n",
       "<style scoped>\n",
       "    .dataframe tbody tr th:only-of-type {\n",
       "        vertical-align: middle;\n",
       "    }\n",
       "\n",
       "    .dataframe tbody tr th {\n",
       "        vertical-align: top;\n",
       "    }\n",
       "\n",
       "    .dataframe thead th {\n",
       "        text-align: right;\n",
       "    }\n",
       "</style>\n",
       "<table border=\"1\" class=\"dataframe\">\n",
       "  <thead>\n",
       "    <tr style=\"text-align: right;\">\n",
       "      <th></th>\n",
       "      <th>id</th>\n",
       "      <th>message_date</th>\n",
       "      <th>user_id</th>\n",
       "    </tr>\n",
       "  </thead>\n",
       "  <tbody>\n",
       "    <tr>\n",
       "      <td>0</td>\n",
       "      <td>1000_0</td>\n",
       "      <td>2018-06-27</td>\n",
       "      <td>1000</td>\n",
       "    </tr>\n",
       "    <tr>\n",
       "      <td>1</td>\n",
       "      <td>1000_1</td>\n",
       "      <td>2018-10-08</td>\n",
       "      <td>1000</td>\n",
       "    </tr>\n",
       "    <tr>\n",
       "      <td>2</td>\n",
       "      <td>1000_2</td>\n",
       "      <td>2018-08-04</td>\n",
       "      <td>1000</td>\n",
       "    </tr>\n",
       "    <tr>\n",
       "      <td>3</td>\n",
       "      <td>1000_3</td>\n",
       "      <td>2018-06-16</td>\n",
       "      <td>1000</td>\n",
       "    </tr>\n",
       "    <tr>\n",
       "      <td>4</td>\n",
       "      <td>1000_4</td>\n",
       "      <td>2018-12-05</td>\n",
       "      <td>1000</td>\n",
       "    </tr>\n",
       "    <tr>\n",
       "      <td>...</td>\n",
       "      <td>...</td>\n",
       "      <td>...</td>\n",
       "      <td>...</td>\n",
       "    </tr>\n",
       "    <tr>\n",
       "      <td>123031</td>\n",
       "      <td>1499_179</td>\n",
       "      <td>2018-12-12</td>\n",
       "      <td>1499</td>\n",
       "    </tr>\n",
       "    <tr>\n",
       "      <td>123032</td>\n",
       "      <td>1499_180</td>\n",
       "      <td>2018-09-28</td>\n",
       "      <td>1499</td>\n",
       "    </tr>\n",
       "    <tr>\n",
       "      <td>123033</td>\n",
       "      <td>1499_181</td>\n",
       "      <td>2018-09-27</td>\n",
       "      <td>1499</td>\n",
       "    </tr>\n",
       "    <tr>\n",
       "      <td>123034</td>\n",
       "      <td>1499_182</td>\n",
       "      <td>2018-11-15</td>\n",
       "      <td>1499</td>\n",
       "    </tr>\n",
       "    <tr>\n",
       "      <td>123035</td>\n",
       "      <td>1499_183</td>\n",
       "      <td>2018-11-16</td>\n",
       "      <td>1499</td>\n",
       "    </tr>\n",
       "  </tbody>\n",
       "</table>\n",
       "<p>123036 rows × 3 columns</p>\n",
       "</div>"
      ],
      "text/plain": [
       "              id message_date  user_id\n",
       "0         1000_0   2018-06-27     1000\n",
       "1         1000_1   2018-10-08     1000\n",
       "2         1000_2   2018-08-04     1000\n",
       "3         1000_3   2018-06-16     1000\n",
       "4         1000_4   2018-12-05     1000\n",
       "...          ...          ...      ...\n",
       "123031  1499_179   2018-12-12     1499\n",
       "123032  1499_180   2018-09-28     1499\n",
       "123033  1499_181   2018-09-27     1499\n",
       "123034  1499_182   2018-11-15     1499\n",
       "123035  1499_183   2018-11-16     1499\n",
       "\n",
       "[123036 rows x 3 columns]"
      ]
     },
     "metadata": {},
     "output_type": "display_data"
    },
    {
     "name": "stdout",
     "output_type": "stream",
     "text": [
      "<class 'pandas.core.frame.DataFrame'>\n",
      "RangeIndex: 123036 entries, 0 to 123035\n",
      "Data columns (total 3 columns):\n",
      "id              123036 non-null object\n",
      "message_date    123036 non-null object\n",
      "user_id         123036 non-null int64\n",
      "dtypes: int64(1), object(2)\n",
      "memory usage: 2.8+ MB\n"
     ]
    }
   ],
   "source": [
    "messages=pd.read_csv('/datasets/messages.csv')\n",
    "display(messages)\n",
    "messages.info()"
   ]
  },
  {
   "cell_type": "markdown",
   "metadata": {},
   "source": [
    "Открываем файл тарифов и записываем дата фрейм"
   ]
  },
  {
   "cell_type": "code",
   "execution_count": 5,
   "metadata": {},
   "outputs": [
    {
     "data": {
      "text/html": [
       "<div>\n",
       "<style scoped>\n",
       "    .dataframe tbody tr th:only-of-type {\n",
       "        vertical-align: middle;\n",
       "    }\n",
       "\n",
       "    .dataframe tbody tr th {\n",
       "        vertical-align: top;\n",
       "    }\n",
       "\n",
       "    .dataframe thead th {\n",
       "        text-align: right;\n",
       "    }\n",
       "</style>\n",
       "<table border=\"1\" class=\"dataframe\">\n",
       "  <thead>\n",
       "    <tr style=\"text-align: right;\">\n",
       "      <th></th>\n",
       "      <th>messages_included</th>\n",
       "      <th>mb_per_month_included</th>\n",
       "      <th>minutes_included</th>\n",
       "      <th>rub_monthly_fee</th>\n",
       "      <th>rub_per_gb</th>\n",
       "      <th>rub_per_message</th>\n",
       "      <th>rub_per_minute</th>\n",
       "      <th>tariff_name</th>\n",
       "    </tr>\n",
       "  </thead>\n",
       "  <tbody>\n",
       "    <tr>\n",
       "      <td>0</td>\n",
       "      <td>50</td>\n",
       "      <td>15360</td>\n",
       "      <td>500</td>\n",
       "      <td>550</td>\n",
       "      <td>200</td>\n",
       "      <td>3</td>\n",
       "      <td>3</td>\n",
       "      <td>smart</td>\n",
       "    </tr>\n",
       "    <tr>\n",
       "      <td>1</td>\n",
       "      <td>1000</td>\n",
       "      <td>30720</td>\n",
       "      <td>3000</td>\n",
       "      <td>1950</td>\n",
       "      <td>150</td>\n",
       "      <td>1</td>\n",
       "      <td>1</td>\n",
       "      <td>ultra</td>\n",
       "    </tr>\n",
       "  </tbody>\n",
       "</table>\n",
       "</div>"
      ],
      "text/plain": [
       "   messages_included  mb_per_month_included  minutes_included  \\\n",
       "0                 50                  15360               500   \n",
       "1               1000                  30720              3000   \n",
       "\n",
       "   rub_monthly_fee  rub_per_gb  rub_per_message  rub_per_minute tariff_name  \n",
       "0              550         200                3               3       smart  \n",
       "1             1950         150                1               1       ultra  "
      ]
     },
     "metadata": {},
     "output_type": "display_data"
    },
    {
     "name": "stdout",
     "output_type": "stream",
     "text": [
      "<class 'pandas.core.frame.DataFrame'>\n",
      "RangeIndex: 2 entries, 0 to 1\n",
      "Data columns (total 8 columns):\n",
      "messages_included        2 non-null int64\n",
      "mb_per_month_included    2 non-null int64\n",
      "minutes_included         2 non-null int64\n",
      "rub_monthly_fee          2 non-null int64\n",
      "rub_per_gb               2 non-null int64\n",
      "rub_per_message          2 non-null int64\n",
      "rub_per_minute           2 non-null int64\n",
      "tariff_name              2 non-null object\n",
      "dtypes: int64(7), object(1)\n",
      "memory usage: 256.0+ bytes\n"
     ]
    }
   ],
   "source": [
    "tariffs=pd.read_csv('/datasets/tariffs.csv')\n",
    "display(tariffs)\n",
    "tariffs.info()"
   ]
  },
  {
   "cell_type": "markdown",
   "metadata": {},
   "source": [
    "Открываем файл пользователей и записываем дата фрейм"
   ]
  },
  {
   "cell_type": "code",
   "execution_count": 6,
   "metadata": {},
   "outputs": [
    {
     "data": {
      "text/html": [
       "<div>\n",
       "<style scoped>\n",
       "    .dataframe tbody tr th:only-of-type {\n",
       "        vertical-align: middle;\n",
       "    }\n",
       "\n",
       "    .dataframe tbody tr th {\n",
       "        vertical-align: top;\n",
       "    }\n",
       "\n",
       "    .dataframe thead th {\n",
       "        text-align: right;\n",
       "    }\n",
       "</style>\n",
       "<table border=\"1\" class=\"dataframe\">\n",
       "  <thead>\n",
       "    <tr style=\"text-align: right;\">\n",
       "      <th></th>\n",
       "      <th>user_id</th>\n",
       "      <th>age</th>\n",
       "      <th>churn_date</th>\n",
       "      <th>city</th>\n",
       "      <th>first_name</th>\n",
       "      <th>last_name</th>\n",
       "      <th>reg_date</th>\n",
       "      <th>tariff</th>\n",
       "    </tr>\n",
       "  </thead>\n",
       "  <tbody>\n",
       "    <tr>\n",
       "      <td>0</td>\n",
       "      <td>1000</td>\n",
       "      <td>52</td>\n",
       "      <td>NaN</td>\n",
       "      <td>Краснодар</td>\n",
       "      <td>Рафаил</td>\n",
       "      <td>Верещагин</td>\n",
       "      <td>2018-05-25</td>\n",
       "      <td>ultra</td>\n",
       "    </tr>\n",
       "    <tr>\n",
       "      <td>1</td>\n",
       "      <td>1001</td>\n",
       "      <td>41</td>\n",
       "      <td>NaN</td>\n",
       "      <td>Москва</td>\n",
       "      <td>Иван</td>\n",
       "      <td>Ежов</td>\n",
       "      <td>2018-11-01</td>\n",
       "      <td>smart</td>\n",
       "    </tr>\n",
       "    <tr>\n",
       "      <td>2</td>\n",
       "      <td>1002</td>\n",
       "      <td>59</td>\n",
       "      <td>NaN</td>\n",
       "      <td>Стерлитамак</td>\n",
       "      <td>Евгений</td>\n",
       "      <td>Абрамович</td>\n",
       "      <td>2018-06-17</td>\n",
       "      <td>smart</td>\n",
       "    </tr>\n",
       "    <tr>\n",
       "      <td>3</td>\n",
       "      <td>1003</td>\n",
       "      <td>23</td>\n",
       "      <td>NaN</td>\n",
       "      <td>Москва</td>\n",
       "      <td>Белла</td>\n",
       "      <td>Белякова</td>\n",
       "      <td>2018-08-17</td>\n",
       "      <td>ultra</td>\n",
       "    </tr>\n",
       "    <tr>\n",
       "      <td>4</td>\n",
       "      <td>1004</td>\n",
       "      <td>68</td>\n",
       "      <td>NaN</td>\n",
       "      <td>Новокузнецк</td>\n",
       "      <td>Татьяна</td>\n",
       "      <td>Авдеенко</td>\n",
       "      <td>2018-05-14</td>\n",
       "      <td>ultra</td>\n",
       "    </tr>\n",
       "    <tr>\n",
       "      <td>...</td>\n",
       "      <td>...</td>\n",
       "      <td>...</td>\n",
       "      <td>...</td>\n",
       "      <td>...</td>\n",
       "      <td>...</td>\n",
       "      <td>...</td>\n",
       "      <td>...</td>\n",
       "      <td>...</td>\n",
       "    </tr>\n",
       "    <tr>\n",
       "      <td>495</td>\n",
       "      <td>1495</td>\n",
       "      <td>65</td>\n",
       "      <td>NaN</td>\n",
       "      <td>Иркутск</td>\n",
       "      <td>Авксентий</td>\n",
       "      <td>Фокин</td>\n",
       "      <td>2018-08-28</td>\n",
       "      <td>ultra</td>\n",
       "    </tr>\n",
       "    <tr>\n",
       "      <td>496</td>\n",
       "      <td>1496</td>\n",
       "      <td>36</td>\n",
       "      <td>NaN</td>\n",
       "      <td>Вологда</td>\n",
       "      <td>Трифон</td>\n",
       "      <td>Блохин</td>\n",
       "      <td>2018-01-27</td>\n",
       "      <td>smart</td>\n",
       "    </tr>\n",
       "    <tr>\n",
       "      <td>497</td>\n",
       "      <td>1497</td>\n",
       "      <td>32</td>\n",
       "      <td>NaN</td>\n",
       "      <td>Челябинск</td>\n",
       "      <td>Каролина</td>\n",
       "      <td>Агеева</td>\n",
       "      <td>2018-10-09</td>\n",
       "      <td>smart</td>\n",
       "    </tr>\n",
       "    <tr>\n",
       "      <td>498</td>\n",
       "      <td>1498</td>\n",
       "      <td>68</td>\n",
       "      <td>2018-10-25</td>\n",
       "      <td>Владикавказ</td>\n",
       "      <td>Всеволод</td>\n",
       "      <td>Акимчин</td>\n",
       "      <td>2018-07-19</td>\n",
       "      <td>smart</td>\n",
       "    </tr>\n",
       "    <tr>\n",
       "      <td>499</td>\n",
       "      <td>1499</td>\n",
       "      <td>35</td>\n",
       "      <td>NaN</td>\n",
       "      <td>Пермь</td>\n",
       "      <td>Гектор</td>\n",
       "      <td>Корнилов</td>\n",
       "      <td>2018-09-27</td>\n",
       "      <td>smart</td>\n",
       "    </tr>\n",
       "  </tbody>\n",
       "</table>\n",
       "<p>500 rows × 8 columns</p>\n",
       "</div>"
      ],
      "text/plain": [
       "     user_id  age  churn_date         city first_name  last_name    reg_date  \\\n",
       "0       1000   52         NaN    Краснодар     Рафаил  Верещагин  2018-05-25   \n",
       "1       1001   41         NaN       Москва       Иван       Ежов  2018-11-01   \n",
       "2       1002   59         NaN  Стерлитамак    Евгений  Абрамович  2018-06-17   \n",
       "3       1003   23         NaN       Москва      Белла   Белякова  2018-08-17   \n",
       "4       1004   68         NaN  Новокузнецк    Татьяна   Авдеенко  2018-05-14   \n",
       "..       ...  ...         ...          ...        ...        ...         ...   \n",
       "495     1495   65         NaN      Иркутск  Авксентий      Фокин  2018-08-28   \n",
       "496     1496   36         NaN      Вологда     Трифон     Блохин  2018-01-27   \n",
       "497     1497   32         NaN    Челябинск   Каролина     Агеева  2018-10-09   \n",
       "498     1498   68  2018-10-25  Владикавказ   Всеволод    Акимчин  2018-07-19   \n",
       "499     1499   35         NaN        Пермь     Гектор   Корнилов  2018-09-27   \n",
       "\n",
       "    tariff  \n",
       "0    ultra  \n",
       "1    smart  \n",
       "2    smart  \n",
       "3    ultra  \n",
       "4    ultra  \n",
       "..     ...  \n",
       "495  ultra  \n",
       "496  smart  \n",
       "497  smart  \n",
       "498  smart  \n",
       "499  smart  \n",
       "\n",
       "[500 rows x 8 columns]"
      ]
     },
     "metadata": {},
     "output_type": "display_data"
    },
    {
     "name": "stdout",
     "output_type": "stream",
     "text": [
      "<class 'pandas.core.frame.DataFrame'>\n",
      "RangeIndex: 500 entries, 0 to 499\n",
      "Data columns (total 8 columns):\n",
      "user_id       500 non-null int64\n",
      "age           500 non-null int64\n",
      "churn_date    38 non-null object\n",
      "city          500 non-null object\n",
      "first_name    500 non-null object\n",
      "last_name     500 non-null object\n",
      "reg_date      500 non-null object\n",
      "tariff        500 non-null object\n",
      "dtypes: int64(2), object(6)\n",
      "memory usage: 31.4+ KB\n"
     ]
    }
   ],
   "source": [
    "users=pd.read_csv('/datasets/users.csv')\n",
    "display(users)\n",
    "users.info()"
   ]
  },
  {
   "cell_type": "markdown",
   "metadata": {},
   "source": [
    "Проверим количество пропусков в столбце churn_date"
   ]
  },
  {
   "cell_type": "code",
   "execution_count": 7,
   "metadata": {},
   "outputs": [
    {
     "data": {
      "text/plain": [
       "user_id         0\n",
       "age             0\n",
       "churn_date    462\n",
       "city            0\n",
       "first_name      0\n",
       "last_name       0\n",
       "reg_date        0\n",
       "tariff          0\n",
       "dtype: int64"
      ]
     },
     "execution_count": 7,
     "metadata": {},
     "output_type": "execute_result"
    }
   ],
   "source": [
    "users.isna().sum()"
   ]
  },
  {
   "cell_type": "markdown",
   "metadata": {},
   "source": [
    "В столбце churc_date 462 пропуска"
   ]
  },
  {
   "cell_type": "markdown",
   "metadata": {},
   "source": [
    "### Вывод"
   ]
  },
  {
   "cell_type": "markdown",
   "metadata": {},
   "source": [
    "1. df_call-это данные с звонками всех пользователей. Состоит из 4 столбцов и 202607 строк. Пропущенных значений нет.\n",
    "2. df_internet-это данные с сессиями в интернете всех пользователей. Состоит из 4 столбцов и 149396 строк. Пропущенных значений нет.\n",
    "3. df_messages-это данные с колличеством сообщениями всех пользователей. Состоит из 3 столбцов и 123036 строк. Пропущенных значений нет.\n",
    "4. df_tariffs-это данные с информацией о тарифах. Состоит из 8 столбцов и 2 строк. Пропущенных значений нет.\n",
    "5. df_users-это данные с информацией о пользователях. Состоит из 8 столбцов и 500 строк. Пропущенные значения есть. У столбца churn_date есть 462 пропуска.Это столбец с датой прекращения пользования тарифом. Пропущенные значения появились потому что на момент выгрузки данных тариф еще действовал.\n",
    "\n",
    "Есть проблемы в данных. Надо менять типы данных. Вещественный тип в звонках, потреблении интернета и кл-ве смс переведем в целочисленный. Присутствуют пропуски в churn_date. Есть смысл их просто поменять на 0(значит смены оператора не было). Округлить длительность звонков и потредления интернета к большему."
   ]
  },
  {
   "cell_type": "markdown",
   "metadata": {},
   "source": [
    "## Предобработка данных"
   ]
  },
  {
   "cell_type": "markdown",
   "metadata": {},
   "source": [
    "### Исправление ошибок в данных"
   ]
  },
  {
   "cell_type": "markdown",
   "metadata": {},
   "source": [
    "Меняем тип данных со строчного на временной"
   ]
  },
  {
   "cell_type": "code",
   "execution_count": 8,
   "metadata": {},
   "outputs": [],
   "source": [
    "calls['call_date'] = pd.to_datetime(calls['call_date'], format='%Y-%m-%d')\n",
    "internet['session_date'] = pd.to_datetime(internet['session_date'], format='%Y-%m-%d')\n",
    "messages['message_date'] = pd.to_datetime(messages['message_date'], format='%Y-%m-%d')\n",
    "users['churn_date'] = pd.to_datetime(users['churn_date'], format='%Y-%m-%d')\n",
    "users['reg_date'] = pd.to_datetime(users['reg_date'], format='%Y-%m-%d')"
   ]
  },
  {
   "cell_type": "markdown",
   "metadata": {},
   "source": [
    "Проверим количество звонков с длительностью разговора равной 0"
   ]
  },
  {
   "cell_type": "code",
   "execution_count": 9,
   "metadata": {},
   "outputs": [
    {
     "name": "stdout",
     "output_type": "stream",
     "text": [
      "Количество звонков с длительностью, равной нулю: 39613\n"
     ]
    }
   ],
   "source": [
    "print('Количество звонков с длительностью, равной нулю:', calls.loc[calls['duration'] == 0, 'duration'].value_counts()[0])"
   ]
  },
  {
   "cell_type": "markdown",
   "metadata": {},
   "source": [
    "Избавимся от звонков длительность которых 0 минут, скорее всего это недозвоны."
   ]
  },
  {
   "cell_type": "code",
   "execution_count": 10,
   "metadata": {},
   "outputs": [],
   "source": [
    "calls=calls.query('duration>0')"
   ]
  },
  {
   "cell_type": "code",
   "execution_count": 11,
   "metadata": {},
   "outputs": [],
   "source": [
    "calls['duration'] = np.ceil(calls['duration'])"
   ]
  },
  {
   "cell_type": "markdown",
   "metadata": {},
   "source": [
    "Добавим столбец с месяцем"
   ]
  },
  {
   "cell_type": "code",
   "execution_count": 12,
   "metadata": {},
   "outputs": [],
   "source": [
    "calls['month'] = calls['call_date'].dt.month"
   ]
  },
  {
   "cell_type": "code",
   "execution_count": 13,
   "metadata": {},
   "outputs": [
    {
     "data": {
      "text/html": [
       "<div>\n",
       "<style scoped>\n",
       "    .dataframe tbody tr th:only-of-type {\n",
       "        vertical-align: middle;\n",
       "    }\n",
       "\n",
       "    .dataframe tbody tr th {\n",
       "        vertical-align: top;\n",
       "    }\n",
       "\n",
       "    .dataframe thead th {\n",
       "        text-align: right;\n",
       "    }\n",
       "</style>\n",
       "<table border=\"1\" class=\"dataframe\">\n",
       "  <thead>\n",
       "    <tr style=\"text-align: right;\">\n",
       "      <th></th>\n",
       "      <th>id</th>\n",
       "      <th>call_date</th>\n",
       "      <th>duration</th>\n",
       "      <th>user_id</th>\n",
       "      <th>month</th>\n",
       "    </tr>\n",
       "  </thead>\n",
       "  <tbody>\n",
       "    <tr>\n",
       "      <td>2</td>\n",
       "      <td>1000_2</td>\n",
       "      <td>2018-06-11</td>\n",
       "      <td>3.0</td>\n",
       "      <td>1000</td>\n",
       "      <td>6</td>\n",
       "    </tr>\n",
       "    <tr>\n",
       "      <td>3</td>\n",
       "      <td>1000_3</td>\n",
       "      <td>2018-09-21</td>\n",
       "      <td>14.0</td>\n",
       "      <td>1000</td>\n",
       "      <td>9</td>\n",
       "    </tr>\n",
       "    <tr>\n",
       "      <td>4</td>\n",
       "      <td>1000_4</td>\n",
       "      <td>2018-12-15</td>\n",
       "      <td>6.0</td>\n",
       "      <td>1000</td>\n",
       "      <td>12</td>\n",
       "    </tr>\n",
       "    <tr>\n",
       "      <td>7</td>\n",
       "      <td>1000_7</td>\n",
       "      <td>2018-08-22</td>\n",
       "      <td>19.0</td>\n",
       "      <td>1000</td>\n",
       "      <td>8</td>\n",
       "    </tr>\n",
       "    <tr>\n",
       "      <td>8</td>\n",
       "      <td>1000_8</td>\n",
       "      <td>2018-09-15</td>\n",
       "      <td>19.0</td>\n",
       "      <td>1000</td>\n",
       "      <td>9</td>\n",
       "    </tr>\n",
       "    <tr>\n",
       "      <td>...</td>\n",
       "      <td>...</td>\n",
       "      <td>...</td>\n",
       "      <td>...</td>\n",
       "      <td>...</td>\n",
       "      <td>...</td>\n",
       "    </tr>\n",
       "    <tr>\n",
       "      <td>202602</td>\n",
       "      <td>1499_215</td>\n",
       "      <td>2018-12-26</td>\n",
       "      <td>1.0</td>\n",
       "      <td>1499</td>\n",
       "      <td>12</td>\n",
       "    </tr>\n",
       "    <tr>\n",
       "      <td>202603</td>\n",
       "      <td>1499_216</td>\n",
       "      <td>2018-10-18</td>\n",
       "      <td>19.0</td>\n",
       "      <td>1499</td>\n",
       "      <td>10</td>\n",
       "    </tr>\n",
       "    <tr>\n",
       "      <td>202604</td>\n",
       "      <td>1499_217</td>\n",
       "      <td>2018-11-10</td>\n",
       "      <td>11.0</td>\n",
       "      <td>1499</td>\n",
       "      <td>11</td>\n",
       "    </tr>\n",
       "    <tr>\n",
       "      <td>202605</td>\n",
       "      <td>1499_218</td>\n",
       "      <td>2018-10-06</td>\n",
       "      <td>5.0</td>\n",
       "      <td>1499</td>\n",
       "      <td>10</td>\n",
       "    </tr>\n",
       "    <tr>\n",
       "      <td>202606</td>\n",
       "      <td>1499_219</td>\n",
       "      <td>2018-12-14</td>\n",
       "      <td>20.0</td>\n",
       "      <td>1499</td>\n",
       "      <td>12</td>\n",
       "    </tr>\n",
       "  </tbody>\n",
       "</table>\n",
       "<p>162994 rows × 5 columns</p>\n",
       "</div>"
      ],
      "text/plain": [
       "              id  call_date  duration  user_id  month\n",
       "2         1000_2 2018-06-11       3.0     1000      6\n",
       "3         1000_3 2018-09-21      14.0     1000      9\n",
       "4         1000_4 2018-12-15       6.0     1000     12\n",
       "7         1000_7 2018-08-22      19.0     1000      8\n",
       "8         1000_8 2018-09-15      19.0     1000      9\n",
       "...          ...        ...       ...      ...    ...\n",
       "202602  1499_215 2018-12-26       1.0     1499     12\n",
       "202603  1499_216 2018-10-18      19.0     1499     10\n",
       "202604  1499_217 2018-11-10      11.0     1499     11\n",
       "202605  1499_218 2018-10-06       5.0     1499     10\n",
       "202606  1499_219 2018-12-14      20.0     1499     12\n",
       "\n",
       "[162994 rows x 5 columns]"
      ]
     },
     "metadata": {},
     "output_type": "display_data"
    }
   ],
   "source": [
    "display(calls)"
   ]
  },
  {
   "cell_type": "markdown",
   "metadata": {},
   "source": [
    "Добавим столбец с месяцем"
   ]
  },
  {
   "cell_type": "code",
   "execution_count": 14,
   "metadata": {},
   "outputs": [],
   "source": [
    "internet['month'] = internet['session_date'].dt.month"
   ]
  },
  {
   "cell_type": "code",
   "execution_count": 15,
   "metadata": {},
   "outputs": [
    {
     "data": {
      "text/html": [
       "<div>\n",
       "<style scoped>\n",
       "    .dataframe tbody tr th:only-of-type {\n",
       "        vertical-align: middle;\n",
       "    }\n",
       "\n",
       "    .dataframe tbody tr th {\n",
       "        vertical-align: top;\n",
       "    }\n",
       "\n",
       "    .dataframe thead th {\n",
       "        text-align: right;\n",
       "    }\n",
       "</style>\n",
       "<table border=\"1\" class=\"dataframe\">\n",
       "  <thead>\n",
       "    <tr style=\"text-align: right;\">\n",
       "      <th></th>\n",
       "      <th>Unnamed: 0</th>\n",
       "      <th>id</th>\n",
       "      <th>mb_used</th>\n",
       "      <th>session_date</th>\n",
       "      <th>user_id</th>\n",
       "      <th>month</th>\n",
       "    </tr>\n",
       "  </thead>\n",
       "  <tbody>\n",
       "    <tr>\n",
       "      <td>0</td>\n",
       "      <td>0</td>\n",
       "      <td>1000_0</td>\n",
       "      <td>112.95</td>\n",
       "      <td>2018-11-25</td>\n",
       "      <td>1000</td>\n",
       "      <td>11</td>\n",
       "    </tr>\n",
       "    <tr>\n",
       "      <td>1</td>\n",
       "      <td>1</td>\n",
       "      <td>1000_1</td>\n",
       "      <td>1052.81</td>\n",
       "      <td>2018-09-07</td>\n",
       "      <td>1000</td>\n",
       "      <td>9</td>\n",
       "    </tr>\n",
       "    <tr>\n",
       "      <td>2</td>\n",
       "      <td>2</td>\n",
       "      <td>1000_2</td>\n",
       "      <td>1197.26</td>\n",
       "      <td>2018-06-25</td>\n",
       "      <td>1000</td>\n",
       "      <td>6</td>\n",
       "    </tr>\n",
       "    <tr>\n",
       "      <td>3</td>\n",
       "      <td>3</td>\n",
       "      <td>1000_3</td>\n",
       "      <td>550.27</td>\n",
       "      <td>2018-08-22</td>\n",
       "      <td>1000</td>\n",
       "      <td>8</td>\n",
       "    </tr>\n",
       "    <tr>\n",
       "      <td>4</td>\n",
       "      <td>4</td>\n",
       "      <td>1000_4</td>\n",
       "      <td>302.56</td>\n",
       "      <td>2018-09-24</td>\n",
       "      <td>1000</td>\n",
       "      <td>9</td>\n",
       "    </tr>\n",
       "    <tr>\n",
       "      <td>...</td>\n",
       "      <td>...</td>\n",
       "      <td>...</td>\n",
       "      <td>...</td>\n",
       "      <td>...</td>\n",
       "      <td>...</td>\n",
       "      <td>...</td>\n",
       "    </tr>\n",
       "    <tr>\n",
       "      <td>149391</td>\n",
       "      <td>149391</td>\n",
       "      <td>1499_152</td>\n",
       "      <td>318.90</td>\n",
       "      <td>2018-10-03</td>\n",
       "      <td>1499</td>\n",
       "      <td>10</td>\n",
       "    </tr>\n",
       "    <tr>\n",
       "      <td>149392</td>\n",
       "      <td>149392</td>\n",
       "      <td>1499_153</td>\n",
       "      <td>490.13</td>\n",
       "      <td>2018-12-14</td>\n",
       "      <td>1499</td>\n",
       "      <td>12</td>\n",
       "    </tr>\n",
       "    <tr>\n",
       "      <td>149393</td>\n",
       "      <td>149393</td>\n",
       "      <td>1499_154</td>\n",
       "      <td>0.00</td>\n",
       "      <td>2018-10-27</td>\n",
       "      <td>1499</td>\n",
       "      <td>10</td>\n",
       "    </tr>\n",
       "    <tr>\n",
       "      <td>149394</td>\n",
       "      <td>149394</td>\n",
       "      <td>1499_155</td>\n",
       "      <td>1246.32</td>\n",
       "      <td>2018-11-26</td>\n",
       "      <td>1499</td>\n",
       "      <td>11</td>\n",
       "    </tr>\n",
       "    <tr>\n",
       "      <td>149395</td>\n",
       "      <td>149395</td>\n",
       "      <td>1499_156</td>\n",
       "      <td>544.37</td>\n",
       "      <td>2018-10-26</td>\n",
       "      <td>1499</td>\n",
       "      <td>10</td>\n",
       "    </tr>\n",
       "  </tbody>\n",
       "</table>\n",
       "<p>149396 rows × 6 columns</p>\n",
       "</div>"
      ],
      "text/plain": [
       "        Unnamed: 0        id  mb_used session_date  user_id  month\n",
       "0                0    1000_0   112.95   2018-11-25     1000     11\n",
       "1                1    1000_1  1052.81   2018-09-07     1000      9\n",
       "2                2    1000_2  1197.26   2018-06-25     1000      6\n",
       "3                3    1000_3   550.27   2018-08-22     1000      8\n",
       "4                4    1000_4   302.56   2018-09-24     1000      9\n",
       "...            ...       ...      ...          ...      ...    ...\n",
       "149391      149391  1499_152   318.90   2018-10-03     1499     10\n",
       "149392      149392  1499_153   490.13   2018-12-14     1499     12\n",
       "149393      149393  1499_154     0.00   2018-10-27     1499     10\n",
       "149394      149394  1499_155  1246.32   2018-11-26     1499     11\n",
       "149395      149395  1499_156   544.37   2018-10-26     1499     10\n",
       "\n",
       "[149396 rows x 6 columns]"
      ]
     },
     "execution_count": 15,
     "metadata": {},
     "output_type": "execute_result"
    }
   ],
   "source": [
    "internet"
   ]
  },
  {
   "cell_type": "markdown",
   "metadata": {},
   "source": [
    "Округлим количество траффика"
   ]
  },
  {
   "cell_type": "code",
   "execution_count": 16,
   "metadata": {},
   "outputs": [],
   "source": [
    "# internet['mb_used'] = np.ceil(internet['mb_used']/1024)"
   ]
  },
  {
   "cell_type": "code",
   "execution_count": 17,
   "metadata": {},
   "outputs": [],
   "source": [
    "internet=internet.query('mb_used>0')"
   ]
  },
  {
   "cell_type": "code",
   "execution_count": 18,
   "metadata": {},
   "outputs": [
    {
     "data": {
      "text/html": [
       "<div>\n",
       "<style scoped>\n",
       "    .dataframe tbody tr th:only-of-type {\n",
       "        vertical-align: middle;\n",
       "    }\n",
       "\n",
       "    .dataframe tbody tr th {\n",
       "        vertical-align: top;\n",
       "    }\n",
       "\n",
       "    .dataframe thead th {\n",
       "        text-align: right;\n",
       "    }\n",
       "</style>\n",
       "<table border=\"1\" class=\"dataframe\">\n",
       "  <thead>\n",
       "    <tr style=\"text-align: right;\">\n",
       "      <th></th>\n",
       "      <th>Unnamed: 0</th>\n",
       "      <th>id</th>\n",
       "      <th>mb_used</th>\n",
       "      <th>session_date</th>\n",
       "      <th>user_id</th>\n",
       "      <th>month</th>\n",
       "    </tr>\n",
       "  </thead>\n",
       "  <tbody>\n",
       "    <tr>\n",
       "      <td>0</td>\n",
       "      <td>0</td>\n",
       "      <td>1000_0</td>\n",
       "      <td>112.95</td>\n",
       "      <td>2018-11-25</td>\n",
       "      <td>1000</td>\n",
       "      <td>11</td>\n",
       "    </tr>\n",
       "    <tr>\n",
       "      <td>1</td>\n",
       "      <td>1</td>\n",
       "      <td>1000_1</td>\n",
       "      <td>1052.81</td>\n",
       "      <td>2018-09-07</td>\n",
       "      <td>1000</td>\n",
       "      <td>9</td>\n",
       "    </tr>\n",
       "    <tr>\n",
       "      <td>2</td>\n",
       "      <td>2</td>\n",
       "      <td>1000_2</td>\n",
       "      <td>1197.26</td>\n",
       "      <td>2018-06-25</td>\n",
       "      <td>1000</td>\n",
       "      <td>6</td>\n",
       "    </tr>\n",
       "    <tr>\n",
       "      <td>3</td>\n",
       "      <td>3</td>\n",
       "      <td>1000_3</td>\n",
       "      <td>550.27</td>\n",
       "      <td>2018-08-22</td>\n",
       "      <td>1000</td>\n",
       "      <td>8</td>\n",
       "    </tr>\n",
       "    <tr>\n",
       "      <td>4</td>\n",
       "      <td>4</td>\n",
       "      <td>1000_4</td>\n",
       "      <td>302.56</td>\n",
       "      <td>2018-09-24</td>\n",
       "      <td>1000</td>\n",
       "      <td>9</td>\n",
       "    </tr>\n",
       "    <tr>\n",
       "      <td>...</td>\n",
       "      <td>...</td>\n",
       "      <td>...</td>\n",
       "      <td>...</td>\n",
       "      <td>...</td>\n",
       "      <td>...</td>\n",
       "      <td>...</td>\n",
       "    </tr>\n",
       "    <tr>\n",
       "      <td>149390</td>\n",
       "      <td>149390</td>\n",
       "      <td>1499_151</td>\n",
       "      <td>752.72</td>\n",
       "      <td>2018-10-11</td>\n",
       "      <td>1499</td>\n",
       "      <td>10</td>\n",
       "    </tr>\n",
       "    <tr>\n",
       "      <td>149391</td>\n",
       "      <td>149391</td>\n",
       "      <td>1499_152</td>\n",
       "      <td>318.90</td>\n",
       "      <td>2018-10-03</td>\n",
       "      <td>1499</td>\n",
       "      <td>10</td>\n",
       "    </tr>\n",
       "    <tr>\n",
       "      <td>149392</td>\n",
       "      <td>149392</td>\n",
       "      <td>1499_153</td>\n",
       "      <td>490.13</td>\n",
       "      <td>2018-12-14</td>\n",
       "      <td>1499</td>\n",
       "      <td>12</td>\n",
       "    </tr>\n",
       "    <tr>\n",
       "      <td>149394</td>\n",
       "      <td>149394</td>\n",
       "      <td>1499_155</td>\n",
       "      <td>1246.32</td>\n",
       "      <td>2018-11-26</td>\n",
       "      <td>1499</td>\n",
       "      <td>11</td>\n",
       "    </tr>\n",
       "    <tr>\n",
       "      <td>149395</td>\n",
       "      <td>149395</td>\n",
       "      <td>1499_156</td>\n",
       "      <td>544.37</td>\n",
       "      <td>2018-10-26</td>\n",
       "      <td>1499</td>\n",
       "      <td>10</td>\n",
       "    </tr>\n",
       "  </tbody>\n",
       "</table>\n",
       "<p>129798 rows × 6 columns</p>\n",
       "</div>"
      ],
      "text/plain": [
       "        Unnamed: 0        id  mb_used session_date  user_id  month\n",
       "0                0    1000_0   112.95   2018-11-25     1000     11\n",
       "1                1    1000_1  1052.81   2018-09-07     1000      9\n",
       "2                2    1000_2  1197.26   2018-06-25     1000      6\n",
       "3                3    1000_3   550.27   2018-08-22     1000      8\n",
       "4                4    1000_4   302.56   2018-09-24     1000      9\n",
       "...            ...       ...      ...          ...      ...    ...\n",
       "149390      149390  1499_151   752.72   2018-10-11     1499     10\n",
       "149391      149391  1499_152   318.90   2018-10-03     1499     10\n",
       "149392      149392  1499_153   490.13   2018-12-14     1499     12\n",
       "149394      149394  1499_155  1246.32   2018-11-26     1499     11\n",
       "149395      149395  1499_156   544.37   2018-10-26     1499     10\n",
       "\n",
       "[129798 rows x 6 columns]"
      ]
     },
     "metadata": {},
     "output_type": "display_data"
    }
   ],
   "source": [
    "display(internet)"
   ]
  },
  {
   "cell_type": "code",
   "execution_count": 19,
   "metadata": {},
   "outputs": [
    {
     "data": {
      "text/html": [
       "<div>\n",
       "<style scoped>\n",
       "    .dataframe tbody tr th:only-of-type {\n",
       "        vertical-align: middle;\n",
       "    }\n",
       "\n",
       "    .dataframe tbody tr th {\n",
       "        vertical-align: top;\n",
       "    }\n",
       "\n",
       "    .dataframe thead th {\n",
       "        text-align: right;\n",
       "    }\n",
       "</style>\n",
       "<table border=\"1\" class=\"dataframe\">\n",
       "  <thead>\n",
       "    <tr style=\"text-align: right;\">\n",
       "      <th></th>\n",
       "      <th>Unnamed: 0</th>\n",
       "      <th>id</th>\n",
       "      <th>mb_used</th>\n",
       "      <th>session_date</th>\n",
       "      <th>user_id</th>\n",
       "      <th>month</th>\n",
       "    </tr>\n",
       "  </thead>\n",
       "  <tbody>\n",
       "    <tr>\n",
       "      <td>142028</td>\n",
       "      <td>142028</td>\n",
       "      <td>1476_230</td>\n",
       "      <td>1040.03</td>\n",
       "      <td>2018-05-29</td>\n",
       "      <td>1476</td>\n",
       "      <td>5</td>\n",
       "    </tr>\n",
       "    <tr>\n",
       "      <td>71813</td>\n",
       "      <td>71813</td>\n",
       "      <td>1243_30</td>\n",
       "      <td>668.88</td>\n",
       "      <td>2018-10-21</td>\n",
       "      <td>1243</td>\n",
       "      <td>10</td>\n",
       "    </tr>\n",
       "    <tr>\n",
       "      <td>23240</td>\n",
       "      <td>23240</td>\n",
       "      <td>1078_157</td>\n",
       "      <td>23.76</td>\n",
       "      <td>2018-07-09</td>\n",
       "      <td>1078</td>\n",
       "      <td>7</td>\n",
       "    </tr>\n",
       "    <tr>\n",
       "      <td>143186</td>\n",
       "      <td>143186</td>\n",
       "      <td>1479_261</td>\n",
       "      <td>309.05</td>\n",
       "      <td>2018-07-26</td>\n",
       "      <td>1479</td>\n",
       "      <td>7</td>\n",
       "    </tr>\n",
       "    <tr>\n",
       "      <td>137487</td>\n",
       "      <td>137487</td>\n",
       "      <td>1461_3</td>\n",
       "      <td>270.70</td>\n",
       "      <td>2018-12-07</td>\n",
       "      <td>1461</td>\n",
       "      <td>12</td>\n",
       "    </tr>\n",
       "    <tr>\n",
       "      <td>...</td>\n",
       "      <td>...</td>\n",
       "      <td>...</td>\n",
       "      <td>...</td>\n",
       "      <td>...</td>\n",
       "      <td>...</td>\n",
       "      <td>...</td>\n",
       "    </tr>\n",
       "    <tr>\n",
       "      <td>79152</td>\n",
       "      <td>79152</td>\n",
       "      <td>1266_50</td>\n",
       "      <td>304.53</td>\n",
       "      <td>2018-10-05</td>\n",
       "      <td>1266</td>\n",
       "      <td>10</td>\n",
       "    </tr>\n",
       "    <tr>\n",
       "      <td>46324</td>\n",
       "      <td>46324</td>\n",
       "      <td>1158_161</td>\n",
       "      <td>624.48</td>\n",
       "      <td>2018-12-10</td>\n",
       "      <td>1158</td>\n",
       "      <td>12</td>\n",
       "    </tr>\n",
       "    <tr>\n",
       "      <td>75898</td>\n",
       "      <td>75898</td>\n",
       "      <td>1255_94</td>\n",
       "      <td>786.62</td>\n",
       "      <td>2018-05-14</td>\n",
       "      <td>1255</td>\n",
       "      <td>5</td>\n",
       "    </tr>\n",
       "    <tr>\n",
       "      <td>76299</td>\n",
       "      <td>76299</td>\n",
       "      <td>1256_4</td>\n",
       "      <td>165.56</td>\n",
       "      <td>2018-11-30</td>\n",
       "      <td>1256</td>\n",
       "      <td>11</td>\n",
       "    </tr>\n",
       "    <tr>\n",
       "      <td>22693</td>\n",
       "      <td>22693</td>\n",
       "      <td>1076_333</td>\n",
       "      <td>689.79</td>\n",
       "      <td>2018-09-25</td>\n",
       "      <td>1076</td>\n",
       "      <td>9</td>\n",
       "    </tr>\n",
       "  </tbody>\n",
       "</table>\n",
       "<p>100 rows × 6 columns</p>\n",
       "</div>"
      ],
      "text/plain": [
       "        Unnamed: 0        id  mb_used session_date  user_id  month\n",
       "142028      142028  1476_230  1040.03   2018-05-29     1476      5\n",
       "71813        71813   1243_30   668.88   2018-10-21     1243     10\n",
       "23240        23240  1078_157    23.76   2018-07-09     1078      7\n",
       "143186      143186  1479_261   309.05   2018-07-26     1479      7\n",
       "137487      137487    1461_3   270.70   2018-12-07     1461     12\n",
       "...            ...       ...      ...          ...      ...    ...\n",
       "79152        79152   1266_50   304.53   2018-10-05     1266     10\n",
       "46324        46324  1158_161   624.48   2018-12-10     1158     12\n",
       "75898        75898   1255_94   786.62   2018-05-14     1255      5\n",
       "76299        76299    1256_4   165.56   2018-11-30     1256     11\n",
       "22693        22693  1076_333   689.79   2018-09-25     1076      9\n",
       "\n",
       "[100 rows x 6 columns]"
      ]
     },
     "execution_count": 19,
     "metadata": {},
     "output_type": "execute_result"
    }
   ],
   "source": [
    "internet.sample(100)"
   ]
  },
  {
   "cell_type": "markdown",
   "metadata": {},
   "source": [
    "Добавим столбец с месяцем в данные с сообщениями"
   ]
  },
  {
   "cell_type": "code",
   "execution_count": 20,
   "metadata": {},
   "outputs": [],
   "source": [
    "messages['month'] = messages['message_date'].dt.month"
   ]
  },
  {
   "cell_type": "code",
   "execution_count": 21,
   "metadata": {},
   "outputs": [
    {
     "data": {
      "text/html": [
       "<div>\n",
       "<style scoped>\n",
       "    .dataframe tbody tr th:only-of-type {\n",
       "        vertical-align: middle;\n",
       "    }\n",
       "\n",
       "    .dataframe tbody tr th {\n",
       "        vertical-align: top;\n",
       "    }\n",
       "\n",
       "    .dataframe thead th {\n",
       "        text-align: right;\n",
       "    }\n",
       "</style>\n",
       "<table border=\"1\" class=\"dataframe\">\n",
       "  <thead>\n",
       "    <tr style=\"text-align: right;\">\n",
       "      <th></th>\n",
       "      <th>id</th>\n",
       "      <th>message_date</th>\n",
       "      <th>user_id</th>\n",
       "      <th>month</th>\n",
       "    </tr>\n",
       "  </thead>\n",
       "  <tbody>\n",
       "    <tr>\n",
       "      <td>0</td>\n",
       "      <td>1000_0</td>\n",
       "      <td>2018-06-27</td>\n",
       "      <td>1000</td>\n",
       "      <td>6</td>\n",
       "    </tr>\n",
       "    <tr>\n",
       "      <td>1</td>\n",
       "      <td>1000_1</td>\n",
       "      <td>2018-10-08</td>\n",
       "      <td>1000</td>\n",
       "      <td>10</td>\n",
       "    </tr>\n",
       "    <tr>\n",
       "      <td>2</td>\n",
       "      <td>1000_2</td>\n",
       "      <td>2018-08-04</td>\n",
       "      <td>1000</td>\n",
       "      <td>8</td>\n",
       "    </tr>\n",
       "    <tr>\n",
       "      <td>3</td>\n",
       "      <td>1000_3</td>\n",
       "      <td>2018-06-16</td>\n",
       "      <td>1000</td>\n",
       "      <td>6</td>\n",
       "    </tr>\n",
       "    <tr>\n",
       "      <td>4</td>\n",
       "      <td>1000_4</td>\n",
       "      <td>2018-12-05</td>\n",
       "      <td>1000</td>\n",
       "      <td>12</td>\n",
       "    </tr>\n",
       "    <tr>\n",
       "      <td>...</td>\n",
       "      <td>...</td>\n",
       "      <td>...</td>\n",
       "      <td>...</td>\n",
       "      <td>...</td>\n",
       "    </tr>\n",
       "    <tr>\n",
       "      <td>123031</td>\n",
       "      <td>1499_179</td>\n",
       "      <td>2018-12-12</td>\n",
       "      <td>1499</td>\n",
       "      <td>12</td>\n",
       "    </tr>\n",
       "    <tr>\n",
       "      <td>123032</td>\n",
       "      <td>1499_180</td>\n",
       "      <td>2018-09-28</td>\n",
       "      <td>1499</td>\n",
       "      <td>9</td>\n",
       "    </tr>\n",
       "    <tr>\n",
       "      <td>123033</td>\n",
       "      <td>1499_181</td>\n",
       "      <td>2018-09-27</td>\n",
       "      <td>1499</td>\n",
       "      <td>9</td>\n",
       "    </tr>\n",
       "    <tr>\n",
       "      <td>123034</td>\n",
       "      <td>1499_182</td>\n",
       "      <td>2018-11-15</td>\n",
       "      <td>1499</td>\n",
       "      <td>11</td>\n",
       "    </tr>\n",
       "    <tr>\n",
       "      <td>123035</td>\n",
       "      <td>1499_183</td>\n",
       "      <td>2018-11-16</td>\n",
       "      <td>1499</td>\n",
       "      <td>11</td>\n",
       "    </tr>\n",
       "  </tbody>\n",
       "</table>\n",
       "<p>123036 rows × 4 columns</p>\n",
       "</div>"
      ],
      "text/plain": [
       "              id message_date  user_id  month\n",
       "0         1000_0   2018-06-27     1000      6\n",
       "1         1000_1   2018-10-08     1000     10\n",
       "2         1000_2   2018-08-04     1000      8\n",
       "3         1000_3   2018-06-16     1000      6\n",
       "4         1000_4   2018-12-05     1000     12\n",
       "...          ...          ...      ...    ...\n",
       "123031  1499_179   2018-12-12     1499     12\n",
       "123032  1499_180   2018-09-28     1499      9\n",
       "123033  1499_181   2018-09-27     1499      9\n",
       "123034  1499_182   2018-11-15     1499     11\n",
       "123035  1499_183   2018-11-16     1499     11\n",
       "\n",
       "[123036 rows x 4 columns]"
      ]
     },
     "metadata": {},
     "output_type": "display_data"
    }
   ],
   "source": [
    "display(messages)"
   ]
  },
  {
   "cell_type": "markdown",
   "metadata": {},
   "source": [
    "### Расчетные значения"
   ]
  },
  {
   "cell_type": "markdown",
   "metadata": {},
   "source": [
    "Посчитаем для каждого пользователя:\n",
    "- количество сделанных звонков и израсходованных минут разговора по месяцам;\n",
    "- количество отправленных сообщений по месяцам;\n",
    "- объем израсходованного интернет-трафика по месяцам;"
   ]
  },
  {
   "cell_type": "markdown",
   "metadata": {},
   "source": [
    "Сгенерируем уникальный код состоящий из имени и насенного пункта"
   ]
  },
  {
   "cell_type": "code",
   "execution_count": 22,
   "metadata": {},
   "outputs": [],
   "source": [
    "users['unique_name'] = users['city'] + users['first_name'] + users['last_name']"
   ]
  },
  {
   "cell_type": "markdown",
   "metadata": {},
   "source": [
    "Создадим сводные таблицы для каждого рассчетного параметра"
   ]
  },
  {
   "cell_type": "markdown",
   "metadata": {},
   "source": [
    "Создадим сводную таблицу по звонкам"
   ]
  },
  {
   "cell_type": "code",
   "execution_count": 23,
   "metadata": {},
   "outputs": [],
   "source": [
    "calls_temp = calls.merge(users, on='user_id', how='inner')\n",
    "calls_grouped = calls_temp.pivot_table(values=['unique_name', 'duration'], \n",
    "                       index=['user_id', 'month'], \n",
    "                       aggfunc={'unique_name': 'count', 'duration': 'sum'})\n",
    "calls_grouped.columns = ['duration', 'calls']"
   ]
  },
  {
   "cell_type": "markdown",
   "metadata": {},
   "source": [
    "Создадим сводную таблицу по сообщениям"
   ]
  },
  {
   "cell_type": "code",
   "execution_count": 24,
   "metadata": {},
   "outputs": [],
   "source": [
    "messages_temp = messages.merge(users, on='user_id', how='inner')\n",
    "messages_grouped = messages_temp.pivot_table(values='unique_name', \n",
    "                       index=['user_id', 'month'], \n",
    "                       aggfunc={'unique_name': 'count'})\n",
    "messages_grouped.columns = ['messages']"
   ]
  },
  {
   "cell_type": "markdown",
   "metadata": {},
   "source": [
    "Создадим сводную таблицу по интернет-трафику"
   ]
  },
  {
   "cell_type": "code",
   "execution_count": 25,
   "metadata": {},
   "outputs": [],
   "source": [
    "internet_temp = internet.merge(users, on='user_id', how='inner')\n",
    "internet_grouped = internet_temp.pivot_table(values='mb_used', \n",
    "                       index=['user_id', 'month'], \n",
    "                       aggfunc={'mb_used': 'sum'})\n",
    "internet_grouped.columns = ['mb_used']"
   ]
  },
  {
   "cell_type": "code",
   "execution_count": 26,
   "metadata": {},
   "outputs": [
    {
     "data": {
      "text/html": [
       "<div>\n",
       "<style scoped>\n",
       "    .dataframe tbody tr th:only-of-type {\n",
       "        vertical-align: middle;\n",
       "    }\n",
       "\n",
       "    .dataframe tbody tr th {\n",
       "        vertical-align: top;\n",
       "    }\n",
       "\n",
       "    .dataframe thead th {\n",
       "        text-align: right;\n",
       "    }\n",
       "</style>\n",
       "<table border=\"1\" class=\"dataframe\">\n",
       "  <thead>\n",
       "    <tr style=\"text-align: right;\">\n",
       "      <th></th>\n",
       "      <th></th>\n",
       "      <th>duration</th>\n",
       "      <th>calls</th>\n",
       "      <th>messages</th>\n",
       "      <th>mb_used</th>\n",
       "    </tr>\n",
       "    <tr>\n",
       "      <th>user_id</th>\n",
       "      <th>month</th>\n",
       "      <th></th>\n",
       "      <th></th>\n",
       "      <th></th>\n",
       "      <th></th>\n",
       "    </tr>\n",
       "  </thead>\n",
       "  <tbody>\n",
       "    <tr>\n",
       "      <td rowspan=\"8\" valign=\"top\">1000</td>\n",
       "      <td>5</td>\n",
       "      <td>159.0</td>\n",
       "      <td>17.0</td>\n",
       "      <td>22.0</td>\n",
       "      <td>2253.49</td>\n",
       "    </tr>\n",
       "    <tr>\n",
       "      <td>6</td>\n",
       "      <td>172.0</td>\n",
       "      <td>28.0</td>\n",
       "      <td>60.0</td>\n",
       "      <td>23233.77</td>\n",
       "    </tr>\n",
       "    <tr>\n",
       "      <td>7</td>\n",
       "      <td>340.0</td>\n",
       "      <td>41.0</td>\n",
       "      <td>75.0</td>\n",
       "      <td>14003.64</td>\n",
       "    </tr>\n",
       "    <tr>\n",
       "      <td>8</td>\n",
       "      <td>408.0</td>\n",
       "      <td>42.0</td>\n",
       "      <td>81.0</td>\n",
       "      <td>14055.93</td>\n",
       "    </tr>\n",
       "    <tr>\n",
       "      <td>9</td>\n",
       "      <td>466.0</td>\n",
       "      <td>46.0</td>\n",
       "      <td>57.0</td>\n",
       "      <td>14568.91</td>\n",
       "    </tr>\n",
       "    <tr>\n",
       "      <td>10</td>\n",
       "      <td>350.0</td>\n",
       "      <td>44.0</td>\n",
       "      <td>73.0</td>\n",
       "      <td>14702.49</td>\n",
       "    </tr>\n",
       "    <tr>\n",
       "      <td>11</td>\n",
       "      <td>338.0</td>\n",
       "      <td>37.0</td>\n",
       "      <td>58.0</td>\n",
       "      <td>14756.47</td>\n",
       "    </tr>\n",
       "    <tr>\n",
       "      <td>12</td>\n",
       "      <td>333.0</td>\n",
       "      <td>38.0</td>\n",
       "      <td>70.0</td>\n",
       "      <td>9817.61</td>\n",
       "    </tr>\n",
       "    <tr>\n",
       "      <td rowspan=\"2\" valign=\"top\">1001</td>\n",
       "      <td>11</td>\n",
       "      <td>430.0</td>\n",
       "      <td>45.0</td>\n",
       "      <td>NaN</td>\n",
       "      <td>18429.34</td>\n",
       "    </tr>\n",
       "    <tr>\n",
       "      <td>12</td>\n",
       "      <td>414.0</td>\n",
       "      <td>47.0</td>\n",
       "      <td>NaN</td>\n",
       "      <td>14036.66</td>\n",
       "    </tr>\n",
       "  </tbody>\n",
       "</table>\n",
       "</div>"
      ],
      "text/plain": [
       "               duration  calls  messages   mb_used\n",
       "user_id month                                     \n",
       "1000    5         159.0   17.0      22.0   2253.49\n",
       "        6         172.0   28.0      60.0  23233.77\n",
       "        7         340.0   41.0      75.0  14003.64\n",
       "        8         408.0   42.0      81.0  14055.93\n",
       "        9         466.0   46.0      57.0  14568.91\n",
       "        10        350.0   44.0      73.0  14702.49\n",
       "        11        338.0   37.0      58.0  14756.47\n",
       "        12        333.0   38.0      70.0   9817.61\n",
       "1001    11        430.0   45.0       NaN  18429.34\n",
       "        12        414.0   47.0       NaN  14036.66"
      ]
     },
     "execution_count": 26,
     "metadata": {},
     "output_type": "execute_result"
    }
   ],
   "source": [
    "dfs = [calls_grouped, messages_grouped, internet_grouped]\n",
    "grouped_data = reduce(lambda left,right: pd.merge(left,right,on=['user_id', 'month'], how='outer'), dfs)\n",
    "#grouped_data['mb_used'] = np.ceil(grouped_data['mb_used'])\n",
    "grouped_data.head(10)"
   ]
  },
  {
   "cell_type": "markdown",
   "metadata": {},
   "source": [
    "Пропущенные значения заменяем на 0"
   ]
  },
  {
   "cell_type": "code",
   "execution_count": 27,
   "metadata": {},
   "outputs": [],
   "source": [
    "grouped_data.loc[grouped_data['duration'].isna(), 'duration'] = 0\n",
    "grouped_data.loc[grouped_data['messages'].isna(), 'messages'] = 0\n",
    "grouped_data.loc[grouped_data['mb_used'].isna(), 'mb_used'] = 0"
   ]
  },
  {
   "cell_type": "code",
   "execution_count": 28,
   "metadata": {},
   "outputs": [],
   "source": [
    "for user in grouped_data.index:\n",
    "    grouped_data.loc[user, 'tariff'] = users.loc[user[0]-1000, 'tariff']"
   ]
  },
  {
   "cell_type": "code",
   "execution_count": 29,
   "metadata": {},
   "outputs": [],
   "source": [
    "def income(row):\n",
    "    messages = row['messages']\n",
    "    mb_used = row['mb_used']\n",
    "    tariff = row['tariff']\n",
    "    duration = row['duration']\n",
    "    calls = row['calls']\n",
    "    \n",
    "    if tariff == 'smart':\n",
    "        extra_duration = duration - tariffs.loc[0, 'minutes_included']\n",
    "        extra_mb = mb_used - tariffs.loc[0, 'mb_per_month_included']\n",
    "        extra_messages = messages - tariffs.loc[0, 'messages_included']\n",
    "        \n",
    "        if extra_duration < 0: extra_duration = 0\n",
    "        if extra_mb < 0: extra_mb = 0\n",
    "        if extra_messages < 0: extra_messages = 0\n",
    "        \n",
    "        return (tariffs.loc[0, 'rub_per_message'] * extra_messages + \n",
    "                   (tariffs.loc[0, 'rub_per_gb'] / 1024) * extra_mb + \n",
    "                   tariffs.loc[0, 'rub_per_minute'] * extra_duration + \n",
    "                   tariffs.loc[0, 'rub_monthly_fee']\n",
    "                  ) \n",
    "    else:\n",
    "        extra_duration = duration - tariffs.loc[1, 'minutes_included']\n",
    "        extra_mb = mb_used - tariffs.loc[1, 'mb_per_month_included']\n",
    "        extra_messages = messages - tariffs.loc[1, 'messages_included']\n",
    "        \n",
    "        if extra_duration < 0: extra_duration = 0\n",
    "        if extra_mb < 0: extra_mb = 0\n",
    "        if extra_messages < 0: extra_messages = 0\n",
    "        \n",
    "        return (tariffs.loc[1, 'rub_per_message'] * extra_messages + \n",
    "                   (tariffs.loc[1, 'rub_per_gb'] / 1024) * extra_mb + \n",
    "                   tariffs.loc[1, 'rub_per_minute'] * extra_duration + \n",
    "                   tariffs.loc[1, 'rub_monthly_fee']\n",
    "                  )\n"
   ]
  },
  {
   "cell_type": "code",
   "execution_count": 30,
   "metadata": {},
   "outputs": [],
   "source": [
    "grouped_data['total_income'] = grouped_data.apply(income, axis=1)"
   ]
  },
  {
   "cell_type": "code",
   "execution_count": 31,
   "metadata": {},
   "outputs": [],
   "source": [
    "grouped_data=grouped_data.fillna(0).sort_values(by='user_id')"
   ]
  },
  {
   "cell_type": "code",
   "execution_count": 32,
   "metadata": {},
   "outputs": [
    {
     "data": {
      "text/html": [
       "<div>\n",
       "<style scoped>\n",
       "    .dataframe tbody tr th:only-of-type {\n",
       "        vertical-align: middle;\n",
       "    }\n",
       "\n",
       "    .dataframe tbody tr th {\n",
       "        vertical-align: top;\n",
       "    }\n",
       "\n",
       "    .dataframe thead th {\n",
       "        text-align: right;\n",
       "    }\n",
       "</style>\n",
       "<table border=\"1\" class=\"dataframe\">\n",
       "  <thead>\n",
       "    <tr style=\"text-align: right;\">\n",
       "      <th></th>\n",
       "      <th></th>\n",
       "      <th>duration</th>\n",
       "      <th>calls</th>\n",
       "      <th>messages</th>\n",
       "      <th>mb_used</th>\n",
       "      <th>tariff</th>\n",
       "      <th>total_income</th>\n",
       "    </tr>\n",
       "    <tr>\n",
       "      <th>user_id</th>\n",
       "      <th>month</th>\n",
       "      <th></th>\n",
       "      <th></th>\n",
       "      <th></th>\n",
       "      <th></th>\n",
       "      <th></th>\n",
       "      <th></th>\n",
       "    </tr>\n",
       "  </thead>\n",
       "  <tbody>\n",
       "    <tr>\n",
       "      <td rowspan=\"5\" valign=\"top\">1000</td>\n",
       "      <td>5</td>\n",
       "      <td>159.0</td>\n",
       "      <td>17.0</td>\n",
       "      <td>22.0</td>\n",
       "      <td>2253.49</td>\n",
       "      <td>ultra</td>\n",
       "      <td>1950.000000</td>\n",
       "    </tr>\n",
       "    <tr>\n",
       "      <td>6</td>\n",
       "      <td>172.0</td>\n",
       "      <td>28.0</td>\n",
       "      <td>60.0</td>\n",
       "      <td>23233.77</td>\n",
       "      <td>ultra</td>\n",
       "      <td>1950.000000</td>\n",
       "    </tr>\n",
       "    <tr>\n",
       "      <td>7</td>\n",
       "      <td>340.0</td>\n",
       "      <td>41.0</td>\n",
       "      <td>75.0</td>\n",
       "      <td>14003.64</td>\n",
       "      <td>ultra</td>\n",
       "      <td>1950.000000</td>\n",
       "    </tr>\n",
       "    <tr>\n",
       "      <td>8</td>\n",
       "      <td>408.0</td>\n",
       "      <td>42.0</td>\n",
       "      <td>81.0</td>\n",
       "      <td>14055.93</td>\n",
       "      <td>ultra</td>\n",
       "      <td>1950.000000</td>\n",
       "    </tr>\n",
       "    <tr>\n",
       "      <td>9</td>\n",
       "      <td>466.0</td>\n",
       "      <td>46.0</td>\n",
       "      <td>57.0</td>\n",
       "      <td>14568.91</td>\n",
       "      <td>ultra</td>\n",
       "      <td>1950.000000</td>\n",
       "    </tr>\n",
       "    <tr>\n",
       "      <td>...</td>\n",
       "      <td>...</td>\n",
       "      <td>...</td>\n",
       "      <td>...</td>\n",
       "      <td>...</td>\n",
       "      <td>...</td>\n",
       "      <td>...</td>\n",
       "      <td>...</td>\n",
       "    </tr>\n",
       "    <tr>\n",
       "      <td>1498</td>\n",
       "      <td>10</td>\n",
       "      <td>247.0</td>\n",
       "      <td>30.0</td>\n",
       "      <td>42.0</td>\n",
       "      <td>20579.36</td>\n",
       "      <td>smart</td>\n",
       "      <td>1569.406250</td>\n",
       "    </tr>\n",
       "    <tr>\n",
       "      <td rowspan=\"4\" valign=\"top\">1499</td>\n",
       "      <td>9</td>\n",
       "      <td>70.0</td>\n",
       "      <td>8.0</td>\n",
       "      <td>11.0</td>\n",
       "      <td>1845.75</td>\n",
       "      <td>smart</td>\n",
       "      <td>550.000000</td>\n",
       "    </tr>\n",
       "    <tr>\n",
       "      <td>10</td>\n",
       "      <td>449.0</td>\n",
       "      <td>44.0</td>\n",
       "      <td>48.0</td>\n",
       "      <td>17788.51</td>\n",
       "      <td>smart</td>\n",
       "      <td>1024.318359</td>\n",
       "    </tr>\n",
       "    <tr>\n",
       "      <td>12</td>\n",
       "      <td>492.0</td>\n",
       "      <td>56.0</td>\n",
       "      <td>66.0</td>\n",
       "      <td>13055.58</td>\n",
       "      <td>smart</td>\n",
       "      <td>598.000000</td>\n",
       "    </tr>\n",
       "    <tr>\n",
       "      <td>11</td>\n",
       "      <td>612.0</td>\n",
       "      <td>62.0</td>\n",
       "      <td>59.0</td>\n",
       "      <td>17963.31</td>\n",
       "      <td>smart</td>\n",
       "      <td>1421.458984</td>\n",
       "    </tr>\n",
       "  </tbody>\n",
       "</table>\n",
       "<p>3214 rows × 6 columns</p>\n",
       "</div>"
      ],
      "text/plain": [
       "               duration  calls  messages   mb_used tariff  total_income\n",
       "user_id month                                                          \n",
       "1000    5         159.0   17.0      22.0   2253.49  ultra   1950.000000\n",
       "        6         172.0   28.0      60.0  23233.77  ultra   1950.000000\n",
       "        7         340.0   41.0      75.0  14003.64  ultra   1950.000000\n",
       "        8         408.0   42.0      81.0  14055.93  ultra   1950.000000\n",
       "        9         466.0   46.0      57.0  14568.91  ultra   1950.000000\n",
       "...                 ...    ...       ...       ...    ...           ...\n",
       "1498    10        247.0   30.0      42.0  20579.36  smart   1569.406250\n",
       "1499    9          70.0    8.0      11.0   1845.75  smart    550.000000\n",
       "        10        449.0   44.0      48.0  17788.51  smart   1024.318359\n",
       "        12        492.0   56.0      66.0  13055.58  smart    598.000000\n",
       "        11        612.0   62.0      59.0  17963.31  smart   1421.458984\n",
       "\n",
       "[3214 rows x 6 columns]"
      ]
     },
     "metadata": {},
     "output_type": "display_data"
    }
   ],
   "source": [
    "display(grouped_data)"
   ]
  },
  {
   "cell_type": "code",
   "execution_count": 33,
   "metadata": {},
   "outputs": [
    {
     "name": "stdout",
     "output_type": "stream",
     "text": [
      "<class 'pandas.core.frame.DataFrame'>\n",
      "MultiIndex: 3214 entries, (1000, 5) to (1499, 11)\n",
      "Data columns (total 6 columns):\n",
      "duration        3214 non-null float64\n",
      "calls           3214 non-null float64\n",
      "messages        3214 non-null float64\n",
      "mb_used         3214 non-null float64\n",
      "tariff          3214 non-null object\n",
      "total_income    3214 non-null float64\n",
      "dtypes: float64(5), object(1)\n",
      "memory usage: 164.2+ KB\n"
     ]
    }
   ],
   "source": [
    "grouped_data.info()"
   ]
  },
  {
   "cell_type": "markdown",
   "metadata": {},
   "source": [
    "## Анализ данных"
   ]
  },
  {
   "cell_type": "markdown",
   "metadata": {},
   "source": [
    "Посчитаем сколько минут, сообщений и трафика требуется пользователям тарифов в месяц."
   ]
  },
  {
   "cell_type": "markdown",
   "metadata": {},
   "source": [
    "Тариф Ультра"
   ]
  },
  {
   "cell_type": "code",
   "execution_count": 34,
   "metadata": {},
   "outputs": [],
   "source": [
    "tariff_ultra=(grouped_data.query('tariff==\"ultra\"')).pivot_table(index='month',values=('duration','messages','mb_used'),aggfunc=('sum'))"
   ]
  },
  {
   "cell_type": "code",
   "execution_count": 35,
   "metadata": {},
   "outputs": [
    {
     "data": {
      "text/html": [
       "<div>\n",
       "<style scoped>\n",
       "    .dataframe tbody tr th:only-of-type {\n",
       "        vertical-align: middle;\n",
       "    }\n",
       "\n",
       "    .dataframe tbody tr th {\n",
       "        vertical-align: top;\n",
       "    }\n",
       "\n",
       "    .dataframe thead th {\n",
       "        text-align: right;\n",
       "    }\n",
       "</style>\n",
       "<table border=\"1\" class=\"dataframe\">\n",
       "  <thead>\n",
       "    <tr style=\"text-align: right;\">\n",
       "      <th></th>\n",
       "      <th>duration</th>\n",
       "      <th>mb_used</th>\n",
       "      <th>messages</th>\n",
       "    </tr>\n",
       "    <tr>\n",
       "      <th>month</th>\n",
       "      <th></th>\n",
       "      <th></th>\n",
       "      <th></th>\n",
       "    </tr>\n",
       "  </thead>\n",
       "  <tbody>\n",
       "    <tr>\n",
       "      <td>1</td>\n",
       "      <td>3853.0</td>\n",
       "      <td>118266.13</td>\n",
       "      <td>304.0</td>\n",
       "    </tr>\n",
       "    <tr>\n",
       "      <td>2</td>\n",
       "      <td>7131.0</td>\n",
       "      <td>282622.50</td>\n",
       "      <td>527.0</td>\n",
       "    </tr>\n",
       "    <tr>\n",
       "      <td>3</td>\n",
       "      <td>18117.0</td>\n",
       "      <td>648815.36</td>\n",
       "      <td>1195.0</td>\n",
       "    </tr>\n",
       "    <tr>\n",
       "      <td>4</td>\n",
       "      <td>25191.0</td>\n",
       "      <td>925547.39</td>\n",
       "      <td>1736.0</td>\n",
       "    </tr>\n",
       "    <tr>\n",
       "      <td>5</td>\n",
       "      <td>34192.0</td>\n",
       "      <td>1297331.25</td>\n",
       "      <td>2536.0</td>\n",
       "    </tr>\n",
       "    <tr>\n",
       "      <td>6</td>\n",
       "      <td>40295.0</td>\n",
       "      <td>1589694.90</td>\n",
       "      <td>3505.0</td>\n",
       "    </tr>\n",
       "    <tr>\n",
       "      <td>7</td>\n",
       "      <td>49667.0</td>\n",
       "      <td>1865105.53</td>\n",
       "      <td>4536.0</td>\n",
       "    </tr>\n",
       "    <tr>\n",
       "      <td>8</td>\n",
       "      <td>54653.0</td>\n",
       "      <td>2094637.85</td>\n",
       "      <td>5183.0</td>\n",
       "    </tr>\n",
       "    <tr>\n",
       "      <td>9</td>\n",
       "      <td>62036.0</td>\n",
       "      <td>2208491.87</td>\n",
       "      <td>6013.0</td>\n",
       "    </tr>\n",
       "    <tr>\n",
       "      <td>10</td>\n",
       "      <td>68644.0</td>\n",
       "      <td>2465576.49</td>\n",
       "      <td>7187.0</td>\n",
       "    </tr>\n",
       "    <tr>\n",
       "      <td>11</td>\n",
       "      <td>72545.0</td>\n",
       "      <td>2651432.87</td>\n",
       "      <td>7476.0</td>\n",
       "    </tr>\n",
       "    <tr>\n",
       "      <td>12</td>\n",
       "      <td>82400.0</td>\n",
       "      <td>3029250.99</td>\n",
       "      <td>8425.0</td>\n",
       "    </tr>\n",
       "  </tbody>\n",
       "</table>\n",
       "</div>"
      ],
      "text/plain": [
       "       duration     mb_used  messages\n",
       "month                                \n",
       "1        3853.0   118266.13     304.0\n",
       "2        7131.0   282622.50     527.0\n",
       "3       18117.0   648815.36    1195.0\n",
       "4       25191.0   925547.39    1736.0\n",
       "5       34192.0  1297331.25    2536.0\n",
       "6       40295.0  1589694.90    3505.0\n",
       "7       49667.0  1865105.53    4536.0\n",
       "8       54653.0  2094637.85    5183.0\n",
       "9       62036.0  2208491.87    6013.0\n",
       "10      68644.0  2465576.49    7187.0\n",
       "11      72545.0  2651432.87    7476.0\n",
       "12      82400.0  3029250.99    8425.0"
      ]
     },
     "metadata": {},
     "output_type": "display_data"
    }
   ],
   "source": [
    "display(tariff_ultra)"
   ]
  },
  {
   "cell_type": "code",
   "execution_count": 36,
   "metadata": {},
   "outputs": [],
   "source": [
    "tariff_smart=(grouped_data.query('tariff==\"smart\"')).pivot_table(index='month',values=('duration','messages','mb_used'),aggfunc=('sum'))"
   ]
  },
  {
   "cell_type": "code",
   "execution_count": 37,
   "metadata": {},
   "outputs": [
    {
     "data": {
      "text/html": [
       "<div>\n",
       "<style scoped>\n",
       "    .dataframe tbody tr th:only-of-type {\n",
       "        vertical-align: middle;\n",
       "    }\n",
       "\n",
       "    .dataframe tbody tr th {\n",
       "        vertical-align: top;\n",
       "    }\n",
       "\n",
       "    .dataframe thead th {\n",
       "        text-align: right;\n",
       "    }\n",
       "</style>\n",
       "<table border=\"1\" class=\"dataframe\">\n",
       "  <thead>\n",
       "    <tr style=\"text-align: right;\">\n",
       "      <th></th>\n",
       "      <th>duration</th>\n",
       "      <th>mb_used</th>\n",
       "      <th>messages</th>\n",
       "    </tr>\n",
       "    <tr>\n",
       "      <th>month</th>\n",
       "      <th></th>\n",
       "      <th></th>\n",
       "      <th></th>\n",
       "    </tr>\n",
       "  </thead>\n",
       "  <tbody>\n",
       "    <tr>\n",
       "      <td>1</td>\n",
       "      <td>6931.0</td>\n",
       "      <td>289466.40</td>\n",
       "      <td>620.0</td>\n",
       "    </tr>\n",
       "    <tr>\n",
       "      <td>2</td>\n",
       "      <td>17324.0</td>\n",
       "      <td>672629.15</td>\n",
       "      <td>1397.0</td>\n",
       "    </tr>\n",
       "    <tr>\n",
       "      <td>3</td>\n",
       "      <td>30034.0</td>\n",
       "      <td>1163020.25</td>\n",
       "      <td>2453.0</td>\n",
       "    </tr>\n",
       "    <tr>\n",
       "      <td>4</td>\n",
       "      <td>41119.0</td>\n",
       "      <td>1507764.23</td>\n",
       "      <td>3443.0</td>\n",
       "    </tr>\n",
       "    <tr>\n",
       "      <td>5</td>\n",
       "      <td>54618.0</td>\n",
       "      <td>2228530.99</td>\n",
       "      <td>4762.0</td>\n",
       "    </tr>\n",
       "    <tr>\n",
       "      <td>6</td>\n",
       "      <td>64885.0</td>\n",
       "      <td>2590322.27</td>\n",
       "      <td>5478.0</td>\n",
       "    </tr>\n",
       "    <tr>\n",
       "      <td>7</td>\n",
       "      <td>82079.0</td>\n",
       "      <td>3164373.22</td>\n",
       "      <td>6784.0</td>\n",
       "    </tr>\n",
       "    <tr>\n",
       "      <td>8</td>\n",
       "      <td>99045.0</td>\n",
       "      <td>3903519.22</td>\n",
       "      <td>7905.0</td>\n",
       "    </tr>\n",
       "    <tr>\n",
       "      <td>9</td>\n",
       "      <td>111439.0</td>\n",
       "      <td>4238930.49</td>\n",
       "      <td>8746.0</td>\n",
       "    </tr>\n",
       "    <tr>\n",
       "      <td>10</td>\n",
       "      <td>125284.0</td>\n",
       "      <td>4926594.13</td>\n",
       "      <td>9927.0</td>\n",
       "    </tr>\n",
       "    <tr>\n",
       "      <td>11</td>\n",
       "      <td>137544.0</td>\n",
       "      <td>5339040.14</td>\n",
       "      <td>10768.0</td>\n",
       "    </tr>\n",
       "    <tr>\n",
       "      <td>12</td>\n",
       "      <td>161275.0</td>\n",
       "      <td>6104304.11</td>\n",
       "      <td>12130.0</td>\n",
       "    </tr>\n",
       "  </tbody>\n",
       "</table>\n",
       "</div>"
      ],
      "text/plain": [
       "       duration     mb_used  messages\n",
       "month                                \n",
       "1        6931.0   289466.40     620.0\n",
       "2       17324.0   672629.15    1397.0\n",
       "3       30034.0  1163020.25    2453.0\n",
       "4       41119.0  1507764.23    3443.0\n",
       "5       54618.0  2228530.99    4762.0\n",
       "6       64885.0  2590322.27    5478.0\n",
       "7       82079.0  3164373.22    6784.0\n",
       "8       99045.0  3903519.22    7905.0\n",
       "9      111439.0  4238930.49    8746.0\n",
       "10     125284.0  4926594.13    9927.0\n",
       "11     137544.0  5339040.14   10768.0\n",
       "12     161275.0  6104304.11   12130.0"
      ]
     },
     "metadata": {},
     "output_type": "display_data"
    }
   ],
   "source": [
    "display(tariff_smart)"
   ]
  },
  {
   "cell_type": "markdown",
   "metadata": {},
   "source": [
    "Так же давайте посчитаем сколько денег приносит каждый из тарифов"
   ]
  },
  {
   "cell_type": "markdown",
   "metadata": {},
   "source": [
    "Переведем выручку в int. Почему-то она оказалась в float..."
   ]
  },
  {
   "cell_type": "code",
   "execution_count": 38,
   "metadata": {},
   "outputs": [],
   "source": [
    "grouped_data['total_income']=grouped_data['total_income'].astype('int64')"
   ]
  },
  {
   "cell_type": "code",
   "execution_count": 39,
   "metadata": {},
   "outputs": [
    {
     "data": {
      "text/plain": [
       "tariff\n",
       "smart    2742018\n",
       "ultra    2028903\n",
       "Name: total_income, dtype: int64"
      ]
     },
     "execution_count": 39,
     "metadata": {},
     "output_type": "execute_result"
    }
   ],
   "source": [
    "grouped_data.groupby('tariff')['total_income'].sum()"
   ]
  },
  {
   "cell_type": "markdown",
   "metadata": {},
   "source": [
    "График по трафику по месяцам"
   ]
  },
  {
   "cell_type": "code",
   "execution_count": 40,
   "metadata": {},
   "outputs": [
    {
     "data": {
      "text/plain": [
       "Text(0, 0.5, 'Количество интернет-трафика')"
      ]
     },
     "execution_count": 40,
     "metadata": {},
     "output_type": "execute_result"
    },
    {
     "data": {
      "image/png": "[encoded data removed]",
      "text/plain": [
       "<Figure size 936x432 with 1 Axes>"
      ]
     },
     "metadata": {
      "needs_background": "light"
     },
     "output_type": "display_data"
    }
   ],
   "source": [
    "ax=tariff_ultra.plot(y='mb_used',figsize=(13,6),style='o-',kind='bar',label='ultra')\n",
    "tariff_smart.plot(y='mb_used',grid=True,figsize=(13,6),style='o-',kind='bar',label='smart',alpha=0.5,ax=ax)\n",
    "plt.title('Гистограмма распределия количества интернет-трафика по месяцам по тарифам')\n",
    "plt.xlabel('Месяцы')\n",
    "plt.ylabel('Количество интернет-трафика')"
   ]
  },
  {
   "cell_type": "markdown",
   "metadata": {},
   "source": [
    "График по звонкам по мясяцам"
   ]
  },
  {
   "cell_type": "code",
   "execution_count": 41,
   "metadata": {},
   "outputs": [
    {
     "data": {
      "text/plain": [
       "Text(0, 0.5, 'Количество минут')"
      ]
     },
     "execution_count": 41,
     "metadata": {},
     "output_type": "execute_result"
    },
    {
     "data": {
      "image/png": "[encoded data removed]",
      "text/plain": [
       "<Figure size 936x432 with 1 Axes>"
      ]
     },
     "metadata": {
      "needs_background": "light"
     },
     "output_type": "display_data"
    }
   ],
   "source": [
    "ax=tariff_ultra.plot(y='duration',figsize=(13,6),style='o-',kind='bar',label='ultra')\n",
    "tariff_smart.plot(y='duration',grid=True,figsize=(13,6),style='o-',kind='bar',label='smart',alpha=0.5,ax=ax)\n",
    "plt.title('Гистограмма распределия минут по месяцам по тарифам')\n",
    "plt.xlabel('Месяцы')\n",
    "plt.ylabel('Количество минут')"
   ]
  },
  {
   "cell_type": "markdown",
   "metadata": {},
   "source": [
    "График по сообщениям по месяцам"
   ]
  },
  {
   "cell_type": "code",
   "execution_count": 42,
   "metadata": {},
   "outputs": [
    {
     "data": {
      "text/plain": [
       "Text(0, 0.5, 'Количество сообщений')"
      ]
     },
     "execution_count": 42,
     "metadata": {},
     "output_type": "execute_result"
    },
    {
     "data": {
      "image/png": "[encoded data removed]",
      "text/plain": [
       "<Figure size 936x432 with 1 Axes>"
      ]
     },
     "metadata": {
      "needs_background": "light"
     },
     "output_type": "display_data"
    }
   ],
   "source": [
    "ax=tariff_ultra.plot(y='messages',grid=True,figsize=(13,6),style='o-',kind='bar',label='ultra')\n",
    "\n",
    "tariff_smart.plot(y='messages',grid=True,figsize=(13,6),style='o-',kind='bar',label='smart',alpha=0.5,ax=ax)\n",
    "\n",
    "plt.title('Гистограмма распределия сообщений по месяцам по тарифам')\n",
    "plt.xlabel('Месяцы')\n",
    "plt.ylabel('Количество сообщений')"
   ]
  },
  {
   "cell_type": "markdown",
   "metadata": {},
   "source": [
    "Везде лидирует смарт и декабрь :) Интересные почти линейные зависимости"
   ]
  },
  {
   "cell_type": "markdown",
   "metadata": {},
   "source": [
    "### Рассчеты по тарифу Ультра"
   ]
  },
  {
   "cell_type": "code",
   "execution_count": 43,
   "metadata": {},
   "outputs": [],
   "source": [
    "mean_ultra=(grouped_data\n",
    "     .query('tariff==\"ultra\"')\n",
    "     .pivot_table(index='month',values=('duration','messages','mb_used'),aggfunc=('mean'))    \n",
    ")"
   ]
  },
  {
   "cell_type": "code",
   "execution_count": 44,
   "metadata": {},
   "outputs": [],
   "source": [
    "mean_ultra.set_axis(['mean_duration','mean_mb_used','mean_messages'],axis='columns',inplace=True)"
   ]
  },
  {
   "cell_type": "code",
   "execution_count": 45,
   "metadata": {},
   "outputs": [
    {
     "data": {
      "text/html": [
       "<div>\n",
       "<style scoped>\n",
       "    .dataframe tbody tr th:only-of-type {\n",
       "        vertical-align: middle;\n",
       "    }\n",
       "\n",
       "    .dataframe tbody tr th {\n",
       "        vertical-align: top;\n",
       "    }\n",
       "\n",
       "    .dataframe thead th {\n",
       "        text-align: right;\n",
       "    }\n",
       "</style>\n",
       "<table border=\"1\" class=\"dataframe\">\n",
       "  <thead>\n",
       "    <tr style=\"text-align: right;\">\n",
       "      <th></th>\n",
       "      <th>mean_duration</th>\n",
       "      <th>mean_mb_used</th>\n",
       "      <th>mean_messages</th>\n",
       "    </tr>\n",
       "    <tr>\n",
       "      <th>month</th>\n",
       "      <th></th>\n",
       "      <th></th>\n",
       "      <th></th>\n",
       "    </tr>\n",
       "  </thead>\n",
       "  <tbody>\n",
       "    <tr>\n",
       "      <td>1</td>\n",
       "      <td>428.111111</td>\n",
       "      <td>13140.681111</td>\n",
       "      <td>33.777778</td>\n",
       "    </tr>\n",
       "    <tr>\n",
       "      <td>2</td>\n",
       "      <td>297.125000</td>\n",
       "      <td>11775.937500</td>\n",
       "      <td>21.958333</td>\n",
       "    </tr>\n",
       "    <tr>\n",
       "      <td>3</td>\n",
       "      <td>489.648649</td>\n",
       "      <td>17535.550270</td>\n",
       "      <td>32.297297</td>\n",
       "    </tr>\n",
       "    <tr>\n",
       "      <td>4</td>\n",
       "      <td>458.018182</td>\n",
       "      <td>16828.134364</td>\n",
       "      <td>31.563636</td>\n",
       "    </tr>\n",
       "    <tr>\n",
       "      <td>5</td>\n",
       "      <td>510.328358</td>\n",
       "      <td>19363.152985</td>\n",
       "      <td>37.850746</td>\n",
       "    </tr>\n",
       "    <tr>\n",
       "      <td>6</td>\n",
       "      <td>479.702381</td>\n",
       "      <td>18924.939286</td>\n",
       "      <td>41.726190</td>\n",
       "    </tr>\n",
       "    <tr>\n",
       "      <td>7</td>\n",
       "      <td>545.791209</td>\n",
       "      <td>20495.665165</td>\n",
       "      <td>49.846154</td>\n",
       "    </tr>\n",
       "    <tr>\n",
       "      <td>8</td>\n",
       "      <td>510.775701</td>\n",
       "      <td>19576.054673</td>\n",
       "      <td>48.439252</td>\n",
       "    </tr>\n",
       "    <tr>\n",
       "      <td>9</td>\n",
       "      <td>539.443478</td>\n",
       "      <td>19204.277130</td>\n",
       "      <td>52.286957</td>\n",
       "    </tr>\n",
       "    <tr>\n",
       "      <td>10</td>\n",
       "      <td>558.081301</td>\n",
       "      <td>20045.337317</td>\n",
       "      <td>58.430894</td>\n",
       "    </tr>\n",
       "    <tr>\n",
       "      <td>11</td>\n",
       "      <td>541.380597</td>\n",
       "      <td>19786.812463</td>\n",
       "      <td>55.791045</td>\n",
       "    </tr>\n",
       "    <tr>\n",
       "      <td>12</td>\n",
       "      <td>592.805755</td>\n",
       "      <td>21793.172590</td>\n",
       "      <td>60.611511</td>\n",
       "    </tr>\n",
       "  </tbody>\n",
       "</table>\n",
       "</div>"
      ],
      "text/plain": [
       "       mean_duration  mean_mb_used  mean_messages\n",
       "month                                            \n",
       "1         428.111111  13140.681111      33.777778\n",
       "2         297.125000  11775.937500      21.958333\n",
       "3         489.648649  17535.550270      32.297297\n",
       "4         458.018182  16828.134364      31.563636\n",
       "5         510.328358  19363.152985      37.850746\n",
       "6         479.702381  18924.939286      41.726190\n",
       "7         545.791209  20495.665165      49.846154\n",
       "8         510.775701  19576.054673      48.439252\n",
       "9         539.443478  19204.277130      52.286957\n",
       "10        558.081301  20045.337317      58.430894\n",
       "11        541.380597  19786.812463      55.791045\n",
       "12        592.805755  21793.172590      60.611511"
      ]
     },
     "metadata": {},
     "output_type": "display_data"
    }
   ],
   "source": [
    "display(mean_ultra)"
   ]
  },
  {
   "cell_type": "code",
   "execution_count": 46,
   "metadata": {},
   "outputs": [
    {
     "data": {
      "text/plain": [
       "Text(0, 0.5, 'Среднее количество минут')"
      ]
     },
     "execution_count": 46,
     "metadata": {},
     "output_type": "execute_result"
    },
    {
     "data": {
      "image/png": "[encoded data removed]",
      "text/plain": [
       "<Figure size 936x432 with 1 Axes>"
      ]
     },
     "metadata": {
      "needs_background": "light"
     },
     "output_type": "display_data"
    }
   ],
   "source": [
    "mean_ultra.plot(y='mean_duration',grid=True,figsize=(13,6),style='o-',kind='bar',alpha=0.5)\n",
    "plt.title('Среднее значение минут разговора для пользователей тарифа Ультра')\n",
    "plt.xlabel('Месяцы')\n",
    "plt.ylabel('Среднее количество минут')"
   ]
  },
  {
   "cell_type": "markdown",
   "metadata": {},
   "source": [
    "Посчитаем дисперсию по тарифу Ультра"
   ]
  },
  {
   "cell_type": "markdown",
   "metadata": {},
   "source": [
    "СОздам переменную для подсчета дисперсии"
   ]
  },
  {
   "cell_type": "code",
   "execution_count": 47,
   "metadata": {},
   "outputs": [
    {
     "data": {
      "text/html": [
       "<div>\n",
       "<style scoped>\n",
       "    .dataframe tbody tr th:only-of-type {\n",
       "        vertical-align: middle;\n",
       "    }\n",
       "\n",
       "    .dataframe tbody tr th {\n",
       "        vertical-align: top;\n",
       "    }\n",
       "\n",
       "    .dataframe thead th {\n",
       "        text-align: right;\n",
       "    }\n",
       "</style>\n",
       "<table border=\"1\" class=\"dataframe\">\n",
       "  <thead>\n",
       "    <tr style=\"text-align: right;\">\n",
       "      <th></th>\n",
       "      <th></th>\n",
       "      <th>duration</th>\n",
       "      <th>calls</th>\n",
       "      <th>messages</th>\n",
       "      <th>mb_used</th>\n",
       "      <th>tariff</th>\n",
       "      <th>total_income</th>\n",
       "    </tr>\n",
       "    <tr>\n",
       "      <th>user_id</th>\n",
       "      <th>month</th>\n",
       "      <th></th>\n",
       "      <th></th>\n",
       "      <th></th>\n",
       "      <th></th>\n",
       "      <th></th>\n",
       "      <th></th>\n",
       "    </tr>\n",
       "  </thead>\n",
       "  <tbody>\n",
       "    <tr>\n",
       "      <td rowspan=\"5\" valign=\"top\">1000</td>\n",
       "      <td>5</td>\n",
       "      <td>159.0</td>\n",
       "      <td>17.0</td>\n",
       "      <td>22.0</td>\n",
       "      <td>2253.49</td>\n",
       "      <td>ultra</td>\n",
       "      <td>1950</td>\n",
       "    </tr>\n",
       "    <tr>\n",
       "      <td>6</td>\n",
       "      <td>172.0</td>\n",
       "      <td>28.0</td>\n",
       "      <td>60.0</td>\n",
       "      <td>23233.77</td>\n",
       "      <td>ultra</td>\n",
       "      <td>1950</td>\n",
       "    </tr>\n",
       "    <tr>\n",
       "      <td>7</td>\n",
       "      <td>340.0</td>\n",
       "      <td>41.0</td>\n",
       "      <td>75.0</td>\n",
       "      <td>14003.64</td>\n",
       "      <td>ultra</td>\n",
       "      <td>1950</td>\n",
       "    </tr>\n",
       "    <tr>\n",
       "      <td>8</td>\n",
       "      <td>408.0</td>\n",
       "      <td>42.0</td>\n",
       "      <td>81.0</td>\n",
       "      <td>14055.93</td>\n",
       "      <td>ultra</td>\n",
       "      <td>1950</td>\n",
       "    </tr>\n",
       "    <tr>\n",
       "      <td>9</td>\n",
       "      <td>466.0</td>\n",
       "      <td>46.0</td>\n",
       "      <td>57.0</td>\n",
       "      <td>14568.91</td>\n",
       "      <td>ultra</td>\n",
       "      <td>1950</td>\n",
       "    </tr>\n",
       "  </tbody>\n",
       "</table>\n",
       "</div>"
      ],
      "text/plain": [
       "               duration  calls  messages   mb_used tariff  total_income\n",
       "user_id month                                                          \n",
       "1000    5         159.0   17.0      22.0   2253.49  ultra          1950\n",
       "        6         172.0   28.0      60.0  23233.77  ultra          1950\n",
       "        7         340.0   41.0      75.0  14003.64  ultra          1950\n",
       "        8         408.0   42.0      81.0  14055.93  ultra          1950\n",
       "        9         466.0   46.0      57.0  14568.91  ultra          1950"
      ]
     },
     "execution_count": 47,
     "metadata": {},
     "output_type": "execute_result"
    }
   ],
   "source": [
    "ultra_calls=grouped_data.query('tariff==\"ultra\"')\n",
    "ultra_calls.head()"
   ]
  },
  {
   "cell_type": "markdown",
   "metadata": {},
   "source": [
    "Посчитаем дисперсию по звонкам, сообщениям и трафику"
   ]
  },
  {
   "cell_type": "markdown",
   "metadata": {},
   "source": [
    "ДИсперсия звонков"
   ]
  },
  {
   "cell_type": "code",
   "execution_count": 48,
   "metadata": {},
   "outputs": [],
   "source": [
    "disp_sigma_ultra=ultra_calls.pivot_table(index='month',values='duration',aggfunc=(np.var))"
   ]
  },
  {
   "cell_type": "markdown",
   "metadata": {},
   "source": [
    "Дисперсия сообщений"
   ]
  },
  {
   "cell_type": "code",
   "execution_count": 49,
   "metadata": {},
   "outputs": [],
   "source": [
    "disp_sigma_ultra_messages=ultra_calls.pivot_table(index='month',values='messages',aggfunc=(np.var))"
   ]
  },
  {
   "cell_type": "markdown",
   "metadata": {},
   "source": [
    "Дисперсия трафика"
   ]
  },
  {
   "cell_type": "code",
   "execution_count": 50,
   "metadata": {},
   "outputs": [],
   "source": [
    "disp_sigma_ultra_internet=ultra_calls.pivot_table(index='month',values='mb_used',aggfunc=(np.var))"
   ]
  },
  {
   "cell_type": "markdown",
   "metadata": {},
   "source": [
    "Считаем стандартное отклонение по звонкам, сооьщениям и трафику"
   ]
  },
  {
   "cell_type": "markdown",
   "metadata": {},
   "source": [
    "Стандартное отклонение по звонкам"
   ]
  },
  {
   "cell_type": "code",
   "execution_count": 51,
   "metadata": {},
   "outputs": [],
   "source": [
    "disp_sigma_ultra['sigma']=disp_sigma_ultra['duration'].apply(np.sqrt)"
   ]
  },
  {
   "cell_type": "markdown",
   "metadata": {},
   "source": [
    "Стандартное отклонение по сообщениям"
   ]
  },
  {
   "cell_type": "code",
   "execution_count": 52,
   "metadata": {},
   "outputs": [],
   "source": [
    "disp_sigma_ultra_messages['sigma']=disp_sigma_ultra_messages['messages'].apply(np.sqrt)"
   ]
  },
  {
   "cell_type": "markdown",
   "metadata": {},
   "source": [
    "Стандартное отклонение по трафику"
   ]
  },
  {
   "cell_type": "code",
   "execution_count": 53,
   "metadata": {},
   "outputs": [],
   "source": [
    "disp_sigma_ultra_internet['sigma']=disp_sigma_ultra_internet['mb_used'].apply(np.sqrt)"
   ]
  },
  {
   "cell_type": "markdown",
   "metadata": {},
   "source": [
    "Так же посчитаю среднее, дисперсию и отклонение по тарифу Ультра по прибыли"
   ]
  },
  {
   "cell_type": "code",
   "execution_count": 54,
   "metadata": {},
   "outputs": [],
   "source": [
    "mean_ultra['mean_money']=grouped_data.query('tariff==\"ultra\"').pivot_table(index='month',values='total_income',aggfunc=('mean'))"
   ]
  },
  {
   "cell_type": "code",
   "execution_count": 55,
   "metadata": {},
   "outputs": [],
   "source": [
    "mean_ultra['dispersion_money']=grouped_data.query('tariff==\"ultra\"').pivot_table(index='month',values='total_income',aggfunc=(np.var))"
   ]
  },
  {
   "cell_type": "code",
   "execution_count": 56,
   "metadata": {},
   "outputs": [],
   "source": [
    "mean_ultra['sigma_money']=np.sqrt(mean_ultra['dispersion_money'])"
   ]
  },
  {
   "cell_type": "markdown",
   "metadata": {},
   "source": [
    "Пожалуй сделаем общую таблицу"
   ]
  },
  {
   "cell_type": "markdown",
   "metadata": {},
   "source": [
    "Переименуем столбцы"
   ]
  },
  {
   "cell_type": "code",
   "execution_count": 57,
   "metadata": {},
   "outputs": [],
   "source": [
    "disp_sigma_ultra.set_axis(['dispersion_call','sigma_call'],axis='columns',inplace=True)\n",
    "disp_sigma_ultra_messages.set_axis(['dispersion_message','sigma_message'],axis='columns',inplace=True)\n",
    "disp_sigma_ultra_internet.set_axis(['dispersion_internet','sigma_internet'],axis='columns',inplace=True)"
   ]
  },
  {
   "cell_type": "code",
   "execution_count": 58,
   "metadata": {},
   "outputs": [],
   "source": [
    "disp_sigma_ultra=disp_sigma_ultra.merge(disp_sigma_ultra_messages,on='month')"
   ]
  },
  {
   "cell_type": "code",
   "execution_count": 59,
   "metadata": {},
   "outputs": [],
   "source": [
    "disp_sigma_ultra=disp_sigma_ultra.merge(disp_sigma_ultra_internet,on='month')"
   ]
  },
  {
   "cell_type": "code",
   "execution_count": 60,
   "metadata": {},
   "outputs": [],
   "source": [
    "mean_ultra=mean_ultra.merge(disp_sigma_ultra,on='month')"
   ]
  },
  {
   "cell_type": "code",
   "execution_count": 61,
   "metadata": {},
   "outputs": [
    {
     "data": {
      "text/html": [
       "<div>\n",
       "<style scoped>\n",
       "    .dataframe tbody tr th:only-of-type {\n",
       "        vertical-align: middle;\n",
       "    }\n",
       "\n",
       "    .dataframe tbody tr th {\n",
       "        vertical-align: top;\n",
       "    }\n",
       "\n",
       "    .dataframe thead th {\n",
       "        text-align: right;\n",
       "    }\n",
       "</style>\n",
       "<table border=\"1\" class=\"dataframe\">\n",
       "  <thead>\n",
       "    <tr style=\"text-align: right;\">\n",
       "      <th></th>\n",
       "      <th>mean_duration</th>\n",
       "      <th>mean_mb_used</th>\n",
       "      <th>mean_messages</th>\n",
       "      <th>mean_money</th>\n",
       "      <th>dispersion_money</th>\n",
       "      <th>sigma_money</th>\n",
       "      <th>dispersion_call</th>\n",
       "      <th>sigma_call</th>\n",
       "      <th>dispersion_message</th>\n",
       "      <th>sigma_message</th>\n",
       "      <th>dispersion_internet</th>\n",
       "      <th>sigma_internet</th>\n",
       "    </tr>\n",
       "    <tr>\n",
       "      <th>month</th>\n",
       "      <th></th>\n",
       "      <th></th>\n",
       "      <th></th>\n",
       "      <th></th>\n",
       "      <th></th>\n",
       "      <th></th>\n",
       "      <th></th>\n",
       "      <th></th>\n",
       "      <th></th>\n",
       "      <th></th>\n",
       "      <th></th>\n",
       "      <th></th>\n",
       "    </tr>\n",
       "  </thead>\n",
       "  <tbody>\n",
       "    <tr>\n",
       "      <td>1</td>\n",
       "      <td>428.111111</td>\n",
       "      <td>13140.681111</td>\n",
       "      <td>33.777778</td>\n",
       "      <td>1950.000000</td>\n",
       "      <td>0.000000</td>\n",
       "      <td>0.000000</td>\n",
       "      <td>72769.361111</td>\n",
       "      <td>269.757968</td>\n",
       "      <td>940.694444</td>\n",
       "      <td>30.670742</td>\n",
       "      <td>4.713299e+07</td>\n",
       "      <td>6865.346875</td>\n",
       "    </tr>\n",
       "    <tr>\n",
       "      <td>2</td>\n",
       "      <td>297.125000</td>\n",
       "      <td>11775.937500</td>\n",
       "      <td>21.958333</td>\n",
       "      <td>1972.625000</td>\n",
       "      <td>5880.505435</td>\n",
       "      <td>76.684454</td>\n",
       "      <td>87919.679348</td>\n",
       "      <td>296.512528</td>\n",
       "      <td>716.824275</td>\n",
       "      <td>26.773574</td>\n",
       "      <td>1.133084e+08</td>\n",
       "      <td>10644.643911</td>\n",
       "    </tr>\n",
       "    <tr>\n",
       "      <td>3</td>\n",
       "      <td>489.648649</td>\n",
       "      <td>17535.550270</td>\n",
       "      <td>32.297297</td>\n",
       "      <td>2003.486486</td>\n",
       "      <td>34444.090090</td>\n",
       "      <td>185.591191</td>\n",
       "      <td>111384.900901</td>\n",
       "      <td>333.743765</td>\n",
       "      <td>1732.381381</td>\n",
       "      <td>41.621886</td>\n",
       "      <td>1.199416e+08</td>\n",
       "      <td>10951.785885</td>\n",
       "    </tr>\n",
       "    <tr>\n",
       "      <td>4</td>\n",
       "      <td>458.018182</td>\n",
       "      <td>16828.134364</td>\n",
       "      <td>31.563636</td>\n",
       "      <td>1994.981818</td>\n",
       "      <td>30251.129293</td>\n",
       "      <td>173.928518</td>\n",
       "      <td>71653.870034</td>\n",
       "      <td>267.682405</td>\n",
       "      <td>1407.287542</td>\n",
       "      <td>37.513831</td>\n",
       "      <td>9.445215e+07</td>\n",
       "      <td>9718.649845</td>\n",
       "    </tr>\n",
       "    <tr>\n",
       "      <td>5</td>\n",
       "      <td>510.328358</td>\n",
       "      <td>19363.152985</td>\n",
       "      <td>37.850746</td>\n",
       "      <td>2054.432836</td>\n",
       "      <td>155136.158299</td>\n",
       "      <td>393.873277</td>\n",
       "      <td>83870.193578</td>\n",
       "      <td>289.603511</td>\n",
       "      <td>1624.644052</td>\n",
       "      <td>40.306874</td>\n",
       "      <td>1.009243e+08</td>\n",
       "      <td>10046.110214</td>\n",
       "    </tr>\n",
       "    <tr>\n",
       "      <td>6</td>\n",
       "      <td>479.702381</td>\n",
       "      <td>18924.939286</td>\n",
       "      <td>41.726190</td>\n",
       "      <td>2031.500000</td>\n",
       "      <td>88388.253012</td>\n",
       "      <td>297.301620</td>\n",
       "      <td>91535.946500</td>\n",
       "      <td>302.549081</td>\n",
       "      <td>1986.297619</td>\n",
       "      <td>44.567899</td>\n",
       "      <td>8.635757e+07</td>\n",
       "      <td>9292.877495</td>\n",
       "    </tr>\n",
       "    <tr>\n",
       "      <td>7</td>\n",
       "      <td>545.791209</td>\n",
       "      <td>20495.665165</td>\n",
       "      <td>49.846154</td>\n",
       "      <td>2107.681319</td>\n",
       "      <td>176880.530647</td>\n",
       "      <td>420.571671</td>\n",
       "      <td>94322.278144</td>\n",
       "      <td>307.119322</td>\n",
       "      <td>2372.042735</td>\n",
       "      <td>48.703621</td>\n",
       "      <td>1.013082e+08</td>\n",
       "      <td>10065.197069</td>\n",
       "    </tr>\n",
       "    <tr>\n",
       "      <td>8</td>\n",
       "      <td>510.775701</td>\n",
       "      <td>19576.054673</td>\n",
       "      <td>48.439252</td>\n",
       "      <td>2070.280374</td>\n",
       "      <td>140677.279139</td>\n",
       "      <td>375.069699</td>\n",
       "      <td>97956.496385</td>\n",
       "      <td>312.980026</td>\n",
       "      <td>2171.739199</td>\n",
       "      <td>46.601923</td>\n",
       "      <td>1.097582e+08</td>\n",
       "      <td>10476.556411</td>\n",
       "    </tr>\n",
       "    <tr>\n",
       "      <td>9</td>\n",
       "      <td>539.443478</td>\n",
       "      <td>19204.277130</td>\n",
       "      <td>52.286957</td>\n",
       "      <td>2013.104348</td>\n",
       "      <td>48571.374981</td>\n",
       "      <td>220.389144</td>\n",
       "      <td>105716.775286</td>\n",
       "      <td>325.141162</td>\n",
       "      <td>2152.855530</td>\n",
       "      <td>46.398874</td>\n",
       "      <td>8.998587e+07</td>\n",
       "      <td>9486.088282</td>\n",
       "    </tr>\n",
       "    <tr>\n",
       "      <td>10</td>\n",
       "      <td>558.081301</td>\n",
       "      <td>20045.337317</td>\n",
       "      <td>58.430894</td>\n",
       "      <td>2056.211382</td>\n",
       "      <td>137407.266427</td>\n",
       "      <td>370.684861</td>\n",
       "      <td>106464.583500</td>\n",
       "      <td>326.289110</td>\n",
       "      <td>2697.181661</td>\n",
       "      <td>51.934398</td>\n",
       "      <td>9.610100e+07</td>\n",
       "      <td>9803.111743</td>\n",
       "    </tr>\n",
       "    <tr>\n",
       "      <td>11</td>\n",
       "      <td>541.380597</td>\n",
       "      <td>19786.812463</td>\n",
       "      <td>55.791045</td>\n",
       "      <td>2079.925373</td>\n",
       "      <td>146472.971833</td>\n",
       "      <td>382.717875</td>\n",
       "      <td>96570.057064</td>\n",
       "      <td>310.757232</td>\n",
       "      <td>2476.948491</td>\n",
       "      <td>49.768951</td>\n",
       "      <td>9.815894e+07</td>\n",
       "      <td>9907.519251</td>\n",
       "    </tr>\n",
       "    <tr>\n",
       "      <td>12</td>\n",
       "      <td>592.805755</td>\n",
       "      <td>21793.172590</td>\n",
       "      <td>60.611511</td>\n",
       "      <td>2125.280576</td>\n",
       "      <td>208706.145345</td>\n",
       "      <td>456.843677</td>\n",
       "      <td>117276.331561</td>\n",
       "      <td>342.456321</td>\n",
       "      <td>2681.978417</td>\n",
       "      <td>51.787821</td>\n",
       "      <td>1.077109e+08</td>\n",
       "      <td>10378.386547</td>\n",
       "    </tr>\n",
       "  </tbody>\n",
       "</table>\n",
       "</div>"
      ],
      "text/plain": [
       "       mean_duration  mean_mb_used  mean_messages   mean_money  \\\n",
       "month                                                            \n",
       "1         428.111111  13140.681111      33.777778  1950.000000   \n",
       "2         297.125000  11775.937500      21.958333  1972.625000   \n",
       "3         489.648649  17535.550270      32.297297  2003.486486   \n",
       "4         458.018182  16828.134364      31.563636  1994.981818   \n",
       "5         510.328358  19363.152985      37.850746  2054.432836   \n",
       "6         479.702381  18924.939286      41.726190  2031.500000   \n",
       "7         545.791209  20495.665165      49.846154  2107.681319   \n",
       "8         510.775701  19576.054673      48.439252  2070.280374   \n",
       "9         539.443478  19204.277130      52.286957  2013.104348   \n",
       "10        558.081301  20045.337317      58.430894  2056.211382   \n",
       "11        541.380597  19786.812463      55.791045  2079.925373   \n",
       "12        592.805755  21793.172590      60.611511  2125.280576   \n",
       "\n",
       "       dispersion_money  sigma_money  dispersion_call  sigma_call  \\\n",
       "month                                                               \n",
       "1              0.000000     0.000000     72769.361111  269.757968   \n",
       "2           5880.505435    76.684454     87919.679348  296.512528   \n",
       "3          34444.090090   185.591191    111384.900901  333.743765   \n",
       "4          30251.129293   173.928518     71653.870034  267.682405   \n",
       "5         155136.158299   393.873277     83870.193578  289.603511   \n",
       "6          88388.253012   297.301620     91535.946500  302.549081   \n",
       "7         176880.530647   420.571671     94322.278144  307.119322   \n",
       "8         140677.279139   375.069699     97956.496385  312.980026   \n",
       "9          48571.374981   220.389144    105716.775286  325.141162   \n",
       "10        137407.266427   370.684861    106464.583500  326.289110   \n",
       "11        146472.971833   382.717875     96570.057064  310.757232   \n",
       "12        208706.145345   456.843677    117276.331561  342.456321   \n",
       "\n",
       "       dispersion_message  sigma_message  dispersion_internet  sigma_internet  \n",
       "month                                                                          \n",
       "1              940.694444      30.670742         4.713299e+07     6865.346875  \n",
       "2              716.824275      26.773574         1.133084e+08    10644.643911  \n",
       "3             1732.381381      41.621886         1.199416e+08    10951.785885  \n",
       "4             1407.287542      37.513831         9.445215e+07     9718.649845  \n",
       "5             1624.644052      40.306874         1.009243e+08    10046.110214  \n",
       "6             1986.297619      44.567899         8.635757e+07     9292.877495  \n",
       "7             2372.042735      48.703621         1.013082e+08    10065.197069  \n",
       "8             2171.739199      46.601923         1.097582e+08    10476.556411  \n",
       "9             2152.855530      46.398874         8.998587e+07     9486.088282  \n",
       "10            2697.181661      51.934398         9.610100e+07     9803.111743  \n",
       "11            2476.948491      49.768951         9.815894e+07     9907.519251  \n",
       "12            2681.978417      51.787821         1.077109e+08    10378.386547  "
      ]
     },
     "metadata": {},
     "output_type": "display_data"
    }
   ],
   "source": [
    "display(mean_ultra)"
   ]
  },
  {
   "cell_type": "markdown",
   "metadata": {},
   "source": [
    "### Рассчеты по тарифу Смарт"
   ]
  },
  {
   "cell_type": "markdown",
   "metadata": {},
   "source": [
    "Рассчитаем среднее по звонкам, сообщениям и трафику"
   ]
  },
  {
   "cell_type": "code",
   "execution_count": 62,
   "metadata": {},
   "outputs": [],
   "source": [
    "mean_smart=(grouped_data\n",
    "     .query('tariff==\"smart\"')\n",
    "     .pivot_table(index='month',values=('duration','messages','mb_used'),aggfunc=('mean'))    \n",
    ")"
   ]
  },
  {
   "cell_type": "code",
   "execution_count": 63,
   "metadata": {},
   "outputs": [],
   "source": [
    "mean_smart.set_axis(['mean_duration','mean_mb_used','mean_message'],axis='columns',inplace=True)"
   ]
  },
  {
   "cell_type": "code",
   "execution_count": 64,
   "metadata": {},
   "outputs": [
    {
     "data": {
      "text/html": [
       "<div>\n",
       "<style scoped>\n",
       "    .dataframe tbody tr th:only-of-type {\n",
       "        vertical-align: middle;\n",
       "    }\n",
       "\n",
       "    .dataframe tbody tr th {\n",
       "        vertical-align: top;\n",
       "    }\n",
       "\n",
       "    .dataframe thead th {\n",
       "        text-align: right;\n",
       "    }\n",
       "</style>\n",
       "<table border=\"1\" class=\"dataframe\">\n",
       "  <thead>\n",
       "    <tr style=\"text-align: right;\">\n",
       "      <th></th>\n",
       "      <th>mean_duration</th>\n",
       "      <th>mean_mb_used</th>\n",
       "      <th>mean_message</th>\n",
       "    </tr>\n",
       "    <tr>\n",
       "      <th>month</th>\n",
       "      <th></th>\n",
       "      <th></th>\n",
       "      <th></th>\n",
       "    </tr>\n",
       "  </thead>\n",
       "  <tbody>\n",
       "    <tr>\n",
       "      <td>1</td>\n",
       "      <td>203.852941</td>\n",
       "      <td>8513.717647</td>\n",
       "      <td>18.235294</td>\n",
       "    </tr>\n",
       "    <tr>\n",
       "      <td>2</td>\n",
       "      <td>298.689655</td>\n",
       "      <td>11597.054310</td>\n",
       "      <td>24.086207</td>\n",
       "    </tr>\n",
       "    <tr>\n",
       "      <td>3</td>\n",
       "      <td>390.051948</td>\n",
       "      <td>15104.159091</td>\n",
       "      <td>31.857143</td>\n",
       "    </tr>\n",
       "    <tr>\n",
       "      <td>4</td>\n",
       "      <td>367.133929</td>\n",
       "      <td>13462.180625</td>\n",
       "      <td>30.741071</td>\n",
       "    </tr>\n",
       "    <tr>\n",
       "      <td>5</td>\n",
       "      <td>387.361702</td>\n",
       "      <td>15805.184326</td>\n",
       "      <td>33.773050</td>\n",
       "    </tr>\n",
       "    <tr>\n",
       "      <td>6</td>\n",
       "      <td>395.640244</td>\n",
       "      <td>15794.647988</td>\n",
       "      <td>33.402439</td>\n",
       "    </tr>\n",
       "    <tr>\n",
       "      <td>7</td>\n",
       "      <td>408.353234</td>\n",
       "      <td>15743.150348</td>\n",
       "      <td>33.751244</td>\n",
       "    </tr>\n",
       "    <tr>\n",
       "      <td>8</td>\n",
       "      <td>421.468085</td>\n",
       "      <td>16610.720085</td>\n",
       "      <td>33.638298</td>\n",
       "    </tr>\n",
       "    <tr>\n",
       "      <td>9</td>\n",
       "      <td>428.611538</td>\n",
       "      <td>16303.578808</td>\n",
       "      <td>33.638462</td>\n",
       "    </tr>\n",
       "    <tr>\n",
       "      <td>10</td>\n",
       "      <td>426.136054</td>\n",
       "      <td>16757.122891</td>\n",
       "      <td>33.765306</td>\n",
       "    </tr>\n",
       "    <tr>\n",
       "      <td>11</td>\n",
       "      <td>435.265823</td>\n",
       "      <td>16895.696646</td>\n",
       "      <td>34.075949</td>\n",
       "    </tr>\n",
       "    <tr>\n",
       "      <td>12</td>\n",
       "      <td>478.560831</td>\n",
       "      <td>18113.662047</td>\n",
       "      <td>35.994065</td>\n",
       "    </tr>\n",
       "  </tbody>\n",
       "</table>\n",
       "</div>"
      ],
      "text/plain": [
       "       mean_duration  mean_mb_used  mean_message\n",
       "month                                           \n",
       "1         203.852941   8513.717647     18.235294\n",
       "2         298.689655  11597.054310     24.086207\n",
       "3         390.051948  15104.159091     31.857143\n",
       "4         367.133929  13462.180625     30.741071\n",
       "5         387.361702  15805.184326     33.773050\n",
       "6         395.640244  15794.647988     33.402439\n",
       "7         408.353234  15743.150348     33.751244\n",
       "8         421.468085  16610.720085     33.638298\n",
       "9         428.611538  16303.578808     33.638462\n",
       "10        426.136054  16757.122891     33.765306\n",
       "11        435.265823  16895.696646     34.075949\n",
       "12        478.560831  18113.662047     35.994065"
      ]
     },
     "metadata": {},
     "output_type": "display_data"
    }
   ],
   "source": [
    "display(mean_smart)"
   ]
  },
  {
   "cell_type": "code",
   "execution_count": 65,
   "metadata": {},
   "outputs": [
    {
     "data": {
      "text/plain": [
       "Text(0, 0.5, 'Среднее количество минут')"
      ]
     },
     "execution_count": 65,
     "metadata": {},
     "output_type": "execute_result"
    },
    {
     "data": {
      "image/png": "[encoded data removed]",
      "text/plain": [
       "<Figure size 936x432 with 1 Axes>"
      ]
     },
     "metadata": {
      "needs_background": "light"
     },
     "output_type": "display_data"
    }
   ],
   "source": [
    "mean_smart.plot(y='mean_duration',grid=True,figsize=(13,6),style='o-',kind='bar',alpha=0.5)\n",
    "plt.title('Среднее значение минут разговора для пользователей тарифа Смарт')\n",
    "plt.xlabel('Месяцы')\n",
    "plt.ylabel('Среднее количество минут')"
   ]
  },
  {
   "cell_type": "markdown",
   "metadata": {},
   "source": [
    "Создадим переменную для подсчета дисперсии."
   ]
  },
  {
   "cell_type": "code",
   "execution_count": 66,
   "metadata": {},
   "outputs": [],
   "source": [
    "smart_calls=grouped_data.query('tariff==\"smart\"')"
   ]
  },
  {
   "cell_type": "markdown",
   "metadata": {},
   "source": [
    "Посчитаем дисперсию по звонкам, сообщениям и трафику по тарифу Смарт"
   ]
  },
  {
   "cell_type": "markdown",
   "metadata": {},
   "source": [
    "Дисперсия по звонкам"
   ]
  },
  {
   "cell_type": "code",
   "execution_count": 67,
   "metadata": {},
   "outputs": [],
   "source": [
    "disp_sigma_smart=smart_calls.pivot_table(index='month',values='duration',aggfunc=(np.var))"
   ]
  },
  {
   "cell_type": "markdown",
   "metadata": {},
   "source": [
    "Дисперсия по сообщениям"
   ]
  },
  {
   "cell_type": "code",
   "execution_count": 68,
   "metadata": {},
   "outputs": [],
   "source": [
    "disp_sigma_smart_messages=smart_calls.pivot_table(index='month',values='messages',aggfunc=(np.var))"
   ]
  },
  {
   "cell_type": "markdown",
   "metadata": {},
   "source": [
    "Дисперсия по трафику"
   ]
  },
  {
   "cell_type": "code",
   "execution_count": 69,
   "metadata": {},
   "outputs": [],
   "source": [
    "disp_sigma_smart_internet=smart_calls.pivot_table(index='month',values='mb_used',aggfunc=(np.var))"
   ]
  },
  {
   "cell_type": "markdown",
   "metadata": {},
   "source": [
    "Посчитаем стандартное отклонение по звонкам, сообщениям и трафику по тарифу Смарт"
   ]
  },
  {
   "cell_type": "markdown",
   "metadata": {},
   "source": [
    "Стандартное отклонение по звонкам"
   ]
  },
  {
   "cell_type": "code",
   "execution_count": 70,
   "metadata": {},
   "outputs": [],
   "source": [
    "disp_sigma_smart['sigma']=disp_sigma_smart['duration'].apply(np.sqrt)"
   ]
  },
  {
   "cell_type": "markdown",
   "metadata": {},
   "source": [
    "Стандартное отклонение по сообщениям"
   ]
  },
  {
   "cell_type": "code",
   "execution_count": 71,
   "metadata": {},
   "outputs": [],
   "source": [
    "disp_sigma_smart_messages['sigma']=disp_sigma_smart_messages['messages'].apply(np.sqrt)"
   ]
  },
  {
   "cell_type": "markdown",
   "metadata": {},
   "source": [
    "Стандартное отклонение по трафику"
   ]
  },
  {
   "cell_type": "code",
   "execution_count": 72,
   "metadata": {},
   "outputs": [],
   "source": [
    "disp_sigma_smart_internet['sigma']=disp_sigma_smart_internet['mb_used'].apply(np.sqrt)"
   ]
  },
  {
   "cell_type": "markdown",
   "metadata": {},
   "source": [
    "Так же посчитаю среднее, дисперсию и отклонение по тарифу Смарт по прибыли"
   ]
  },
  {
   "cell_type": "markdown",
   "metadata": {},
   "source": [
    "Среднее по прибыли"
   ]
  },
  {
   "cell_type": "code",
   "execution_count": 73,
   "metadata": {},
   "outputs": [],
   "source": [
    "mean_smart['mean_money']=grouped_data.query('tariff==\"smart\"').pivot_table(index='month',values='total_income',aggfunc=('mean'))"
   ]
  },
  {
   "cell_type": "markdown",
   "metadata": {},
   "source": [
    "Дисперсия по прибыли"
   ]
  },
  {
   "cell_type": "code",
   "execution_count": 74,
   "metadata": {},
   "outputs": [],
   "source": [
    "mean_smart['dispersion_money']=grouped_data.query('tariff==\"smart\"').pivot_table(index='month',values='total_income',aggfunc=(np.var))"
   ]
  },
  {
   "cell_type": "markdown",
   "metadata": {},
   "source": [
    "Стандартное отклонение по прибыли"
   ]
  },
  {
   "cell_type": "code",
   "execution_count": 75,
   "metadata": {},
   "outputs": [],
   "source": [
    "mean_smart['sigma_money']=np.sqrt(mean_smart['dispersion_money'])"
   ]
  },
  {
   "cell_type": "markdown",
   "metadata": {},
   "source": [
    "Сделаем общую табличку по тарифу Смарт"
   ]
  },
  {
   "cell_type": "markdown",
   "metadata": {},
   "source": [
    "Переименуем столбцы"
   ]
  },
  {
   "cell_type": "code",
   "execution_count": 76,
   "metadata": {},
   "outputs": [],
   "source": [
    "disp_sigma_smart.set_axis(['dispersion_call','sigma_call'],axis='columns',inplace=True)\n",
    "disp_sigma_smart_messages.set_axis(['dispersion_message','sigma_message'],axis='columns',inplace=True)\n",
    "disp_sigma_smart_internet.set_axis(['dispersion_internet','sigma_internet'],axis='columns',inplace=True)"
   ]
  },
  {
   "cell_type": "code",
   "execution_count": 77,
   "metadata": {},
   "outputs": [],
   "source": [
    "disp_sigma_smart=disp_sigma_smart.merge(disp_sigma_smart_messages,on='month')"
   ]
  },
  {
   "cell_type": "code",
   "execution_count": 78,
   "metadata": {},
   "outputs": [],
   "source": [
    "disp_sigma_smart=disp_sigma_smart.merge(disp_sigma_smart_internet,on='month')"
   ]
  },
  {
   "cell_type": "code",
   "execution_count": 79,
   "metadata": {},
   "outputs": [],
   "source": [
    "mean_smart=mean_smart.merge(disp_sigma_smart,on='month')"
   ]
  },
  {
   "cell_type": "code",
   "execution_count": 80,
   "metadata": {},
   "outputs": [
    {
     "data": {
      "text/html": [
       "<div>\n",
       "<style scoped>\n",
       "    .dataframe tbody tr th:only-of-type {\n",
       "        vertical-align: middle;\n",
       "    }\n",
       "\n",
       "    .dataframe tbody tr th {\n",
       "        vertical-align: top;\n",
       "    }\n",
       "\n",
       "    .dataframe thead th {\n",
       "        text-align: right;\n",
       "    }\n",
       "</style>\n",
       "<table border=\"1\" class=\"dataframe\">\n",
       "  <thead>\n",
       "    <tr style=\"text-align: right;\">\n",
       "      <th></th>\n",
       "      <th>mean_duration</th>\n",
       "      <th>mean_mb_used</th>\n",
       "      <th>mean_message</th>\n",
       "      <th>mean_money</th>\n",
       "      <th>dispersion_money</th>\n",
       "      <th>sigma_money</th>\n",
       "      <th>dispersion_call</th>\n",
       "      <th>sigma_call</th>\n",
       "      <th>dispersion_message</th>\n",
       "      <th>sigma_message</th>\n",
       "      <th>dispersion_internet</th>\n",
       "      <th>sigma_internet</th>\n",
       "    </tr>\n",
       "    <tr>\n",
       "      <th>month</th>\n",
       "      <th></th>\n",
       "      <th></th>\n",
       "      <th></th>\n",
       "      <th></th>\n",
       "      <th></th>\n",
       "      <th></th>\n",
       "      <th></th>\n",
       "      <th></th>\n",
       "      <th></th>\n",
       "      <th></th>\n",
       "      <th></th>\n",
       "      <th></th>\n",
       "    </tr>\n",
       "  </thead>\n",
       "  <tbody>\n",
       "    <tr>\n",
       "      <td>1</td>\n",
       "      <td>203.852941</td>\n",
       "      <td>8513.717647</td>\n",
       "      <td>18.235294</td>\n",
       "      <td>701.558824</td>\n",
       "      <td>1.750180e+05</td>\n",
       "      <td>418.351541</td>\n",
       "      <td>23787.341355</td>\n",
       "      <td>154.231454</td>\n",
       "      <td>262.367201</td>\n",
       "      <td>16.197753</td>\n",
       "      <td>4.153391e+07</td>\n",
       "      <td>6444.681014</td>\n",
       "    </tr>\n",
       "    <tr>\n",
       "      <td>2</td>\n",
       "      <td>298.689655</td>\n",
       "      <td>11597.054310</td>\n",
       "      <td>24.086207</td>\n",
       "      <td>803.155172</td>\n",
       "      <td>2.614967e+05</td>\n",
       "      <td>511.367510</td>\n",
       "      <td>36412.287961</td>\n",
       "      <td>190.820041</td>\n",
       "      <td>473.097701</td>\n",
       "      <td>21.750809</td>\n",
       "      <td>3.902943e+07</td>\n",
       "      <td>6247.353833</td>\n",
       "    </tr>\n",
       "    <tr>\n",
       "      <td>3</td>\n",
       "      <td>390.051948</td>\n",
       "      <td>15104.159091</td>\n",
       "      <td>31.857143</td>\n",
       "      <td>1115.610390</td>\n",
       "      <td>4.362682e+05</td>\n",
       "      <td>660.505989</td>\n",
       "      <td>36823.155161</td>\n",
       "      <td>191.893604</td>\n",
       "      <td>718.492481</td>\n",
       "      <td>26.804710</td>\n",
       "      <td>3.396835e+07</td>\n",
       "      <td>5828.237537</td>\n",
       "    </tr>\n",
       "    <tr>\n",
       "      <td>4</td>\n",
       "      <td>367.133929</td>\n",
       "      <td>13462.180625</td>\n",
       "      <td>30.741071</td>\n",
       "      <td>920.285714</td>\n",
       "      <td>2.743893e+05</td>\n",
       "      <td>523.821774</td>\n",
       "      <td>34778.207127</td>\n",
       "      <td>186.489161</td>\n",
       "      <td>602.139559</td>\n",
       "      <td>24.538532</td>\n",
       "      <td>3.247004e+07</td>\n",
       "      <td>5698.249092</td>\n",
       "    </tr>\n",
       "    <tr>\n",
       "      <td>5</td>\n",
       "      <td>387.361702</td>\n",
       "      <td>15805.184326</td>\n",
       "      <td>33.773050</td>\n",
       "      <td>1144.042553</td>\n",
       "      <td>4.693601e+05</td>\n",
       "      <td>685.098605</td>\n",
       "      <td>34820.061094</td>\n",
       "      <td>186.601343</td>\n",
       "      <td>730.990983</td>\n",
       "      <td>27.036845</td>\n",
       "      <td>3.573925e+07</td>\n",
       "      <td>5978.231725</td>\n",
       "    </tr>\n",
       "    <tr>\n",
       "      <td>6</td>\n",
       "      <td>395.640244</td>\n",
       "      <td>15794.647988</td>\n",
       "      <td>33.402439</td>\n",
       "      <td>1146.603659</td>\n",
       "      <td>5.034363e+05</td>\n",
       "      <td>709.532427</td>\n",
       "      <td>30742.918861</td>\n",
       "      <td>175.336587</td>\n",
       "      <td>806.806374</td>\n",
       "      <td>28.404337</td>\n",
       "      <td>3.353748e+07</td>\n",
       "      <td>5791.155586</td>\n",
       "    </tr>\n",
       "    <tr>\n",
       "      <td>7</td>\n",
       "      <td>408.353234</td>\n",
       "      <td>15743.150348</td>\n",
       "      <td>33.751244</td>\n",
       "      <td>1164.995025</td>\n",
       "      <td>4.949606e+05</td>\n",
       "      <td>703.534381</td>\n",
       "      <td>32250.269602</td>\n",
       "      <td>179.583601</td>\n",
       "      <td>799.887811</td>\n",
       "      <td>28.282288</td>\n",
       "      <td>3.477643e+07</td>\n",
       "      <td>5897.154446</td>\n",
       "    </tr>\n",
       "    <tr>\n",
       "      <td>8</td>\n",
       "      <td>421.468085</td>\n",
       "      <td>16610.720085</td>\n",
       "      <td>33.638298</td>\n",
       "      <td>1255.068085</td>\n",
       "      <td>5.714799e+05</td>\n",
       "      <td>755.962919</td>\n",
       "      <td>34793.583379</td>\n",
       "      <td>186.530382</td>\n",
       "      <td>838.257501</td>\n",
       "      <td>28.952677</td>\n",
       "      <td>3.128723e+07</td>\n",
       "      <td>5593.499133</td>\n",
       "    </tr>\n",
       "    <tr>\n",
       "      <td>9</td>\n",
       "      <td>428.611538</td>\n",
       "      <td>16303.578808</td>\n",
       "      <td>33.638462</td>\n",
       "      <td>1195.992308</td>\n",
       "      <td>4.855150e+05</td>\n",
       "      <td>696.789067</td>\n",
       "      <td>33535.342723</td>\n",
       "      <td>183.126576</td>\n",
       "      <td>790.617820</td>\n",
       "      <td>28.117927</td>\n",
       "      <td>2.699962e+07</td>\n",
       "      <td>5196.115749</td>\n",
       "    </tr>\n",
       "    <tr>\n",
       "      <td>10</td>\n",
       "      <td>426.136054</td>\n",
       "      <td>16757.122891</td>\n",
       "      <td>33.765306</td>\n",
       "      <td>1301.462585</td>\n",
       "      <td>6.550841e+05</td>\n",
       "      <td>809.372633</td>\n",
       "      <td>35392.336375</td>\n",
       "      <td>188.128510</td>\n",
       "      <td>816.111966</td>\n",
       "      <td>28.567673</td>\n",
       "      <td>3.433239e+07</td>\n",
       "      <td>5859.384492</td>\n",
       "    </tr>\n",
       "    <tr>\n",
       "      <td>11</td>\n",
       "      <td>435.265823</td>\n",
       "      <td>16895.696646</td>\n",
       "      <td>34.075949</td>\n",
       "      <td>1279.835443</td>\n",
       "      <td>5.857650e+05</td>\n",
       "      <td>765.352857</td>\n",
       "      <td>31605.237050</td>\n",
       "      <td>177.778618</td>\n",
       "      <td>805.937071</td>\n",
       "      <td>28.389031</td>\n",
       "      <td>2.851852e+07</td>\n",
       "      <td>5340.273416</td>\n",
       "    </tr>\n",
       "    <tr>\n",
       "      <td>12</td>\n",
       "      <td>478.560831</td>\n",
       "      <td>18113.662047</td>\n",
       "      <td>35.994065</td>\n",
       "      <td>1501.881306</td>\n",
       "      <td>1.028168e+06</td>\n",
       "      <td>1013.986274</td>\n",
       "      <td>39698.622033</td>\n",
       "      <td>199.245131</td>\n",
       "      <td>934.952346</td>\n",
       "      <td>30.576990</td>\n",
       "      <td>3.106594e+07</td>\n",
       "      <td>5573.682673</td>\n",
       "    </tr>\n",
       "  </tbody>\n",
       "</table>\n",
       "</div>"
      ],
      "text/plain": [
       "       mean_duration  mean_mb_used  mean_message   mean_money  \\\n",
       "month                                                           \n",
       "1         203.852941   8513.717647     18.235294   701.558824   \n",
       "2         298.689655  11597.054310     24.086207   803.155172   \n",
       "3         390.051948  15104.159091     31.857143  1115.610390   \n",
       "4         367.133929  13462.180625     30.741071   920.285714   \n",
       "5         387.361702  15805.184326     33.773050  1144.042553   \n",
       "6         395.640244  15794.647988     33.402439  1146.603659   \n",
       "7         408.353234  15743.150348     33.751244  1164.995025   \n",
       "8         421.468085  16610.720085     33.638298  1255.068085   \n",
       "9         428.611538  16303.578808     33.638462  1195.992308   \n",
       "10        426.136054  16757.122891     33.765306  1301.462585   \n",
       "11        435.265823  16895.696646     34.075949  1279.835443   \n",
       "12        478.560831  18113.662047     35.994065  1501.881306   \n",
       "\n",
       "       dispersion_money  sigma_money  dispersion_call  sigma_call  \\\n",
       "month                                                               \n",
       "1          1.750180e+05   418.351541     23787.341355  154.231454   \n",
       "2          2.614967e+05   511.367510     36412.287961  190.820041   \n",
       "3          4.362682e+05   660.505989     36823.155161  191.893604   \n",
       "4          2.743893e+05   523.821774     34778.207127  186.489161   \n",
       "5          4.693601e+05   685.098605     34820.061094  186.601343   \n",
       "6          5.034363e+05   709.532427     30742.918861  175.336587   \n",
       "7          4.949606e+05   703.534381     32250.269602  179.583601   \n",
       "8          5.714799e+05   755.962919     34793.583379  186.530382   \n",
       "9          4.855150e+05   696.789067     33535.342723  183.126576   \n",
       "10         6.550841e+05   809.372633     35392.336375  188.128510   \n",
       "11         5.857650e+05   765.352857     31605.237050  177.778618   \n",
       "12         1.028168e+06  1013.986274     39698.622033  199.245131   \n",
       "\n",
       "       dispersion_message  sigma_message  dispersion_internet  sigma_internet  \n",
       "month                                                                          \n",
       "1              262.367201      16.197753         4.153391e+07     6444.681014  \n",
       "2              473.097701      21.750809         3.902943e+07     6247.353833  \n",
       "3              718.492481      26.804710         3.396835e+07     5828.237537  \n",
       "4              602.139559      24.538532         3.247004e+07     5698.249092  \n",
       "5              730.990983      27.036845         3.573925e+07     5978.231725  \n",
       "6              806.806374      28.404337         3.353748e+07     5791.155586  \n",
       "7              799.887811      28.282288         3.477643e+07     5897.154446  \n",
       "8              838.257501      28.952677         3.128723e+07     5593.499133  \n",
       "9              790.617820      28.117927         2.699962e+07     5196.115749  \n",
       "10             816.111966      28.567673         3.433239e+07     5859.384492  \n",
       "11             805.937071      28.389031         2.851852e+07     5340.273416  \n",
       "12             934.952346      30.576990         3.106594e+07     5573.682673  "
      ]
     },
     "metadata": {},
     "output_type": "display_data"
    }
   ],
   "source": [
    "display(mean_smart)"
   ]
  },
  {
   "cell_type": "markdown",
   "metadata": {},
   "source": [
    "### Гистаграммы"
   ]
  },
  {
   "cell_type": "markdown",
   "metadata": {},
   "source": [
    "Гистограмма распределия длительности звонков пользователей тарифа Ультра"
   ]
  },
  {
   "cell_type": "code",
   "execution_count": 81,
   "metadata": {},
   "outputs": [
    {
     "data": {
      "text/plain": [
       "Text(0, 0.5, 'Частота')"
      ]
     },
     "execution_count": 81,
     "metadata": {},
     "output_type": "execute_result"
    },
    {
     "data": {
      "image/png": "[encoded data removed]",
      "text/plain": [
       "<Figure size 432x288 with 1 Axes>"
      ]
     },
     "metadata": {
      "needs_background": "light"
     },
     "output_type": "display_data"
    }
   ],
   "source": [
    "sns.distplot(ultra_calls['duration'],bins=30)\n",
    "plt.title('Гистограмма распределия длительности звонков пользователей тарифа Ультра')\n",
    "plt.xlabel('Количество минут')\n",
    "plt.ylabel('Частота')"
   ]
  },
  {
   "cell_type": "markdown",
   "metadata": {},
   "source": [
    "Гистограмма распределия длительности звонков пользователей тарифа Смарт"
   ]
  },
  {
   "cell_type": "code",
   "execution_count": 82,
   "metadata": {},
   "outputs": [
    {
     "data": {
      "text/plain": [
       "Text(0, 0.5, 'Частота')"
      ]
     },
     "execution_count": 82,
     "metadata": {},
     "output_type": "execute_result"
    },
    {
     "data": {
      "image/png": "[encoded data removed]",
      "text/plain": [
       "<Figure size 432x288 with 1 Axes>"
      ]
     },
     "metadata": {
      "needs_background": "light"
     },
     "output_type": "display_data"
    }
   ],
   "source": [
    "sns.distplot(smart_calls['duration'],bins=30)\n",
    "plt.title('Гистограмма распределия длительности звонков пользователей тарифа Смарт')\n",
    "plt.xlabel('Количество минут')\n",
    "plt.ylabel('Частота')"
   ]
  },
  {
   "cell_type": "markdown",
   "metadata": {},
   "source": [
    "Гистограмма распределия количества сообщений пользователей тарифа Ультра"
   ]
  },
  {
   "cell_type": "code",
   "execution_count": 83,
   "metadata": {},
   "outputs": [
    {
     "data": {
      "text/plain": [
       "Text(0, 0.5, 'Частота')"
      ]
     },
     "execution_count": 83,
     "metadata": {},
     "output_type": "execute_result"
    },
    {
     "data": {
      "image/png": "[encoded data removed]",
      "text/plain": [
       "<Figure size 432x288 with 1 Axes>"
      ]
     },
     "metadata": {
      "needs_background": "light"
     },
     "output_type": "display_data"
    }
   ],
   "source": [
    "sns.distplot(ultra_calls['messages'],bins=30)\n",
    "plt.title('Гистограмма распределия количества сообщений пользователей тарифа Ультра')\n",
    "plt.xlabel('Количество сообщений')\n",
    "plt.ylabel('Частота')"
   ]
  },
  {
   "cell_type": "markdown",
   "metadata": {},
   "source": [
    "Гистограмма распределия количества сообщений пользователей тарифа Смарт"
   ]
  },
  {
   "cell_type": "code",
   "execution_count": 84,
   "metadata": {},
   "outputs": [
    {
     "data": {
      "text/plain": [
       "Text(0, 0.5, 'Частота')"
      ]
     },
     "execution_count": 84,
     "metadata": {},
     "output_type": "execute_result"
    },
    {
     "data": {
      "image/png": "[encoded data removed]",
      "text/plain": [
       "<Figure size 432x288 with 1 Axes>"
      ]
     },
     "metadata": {
      "needs_background": "light"
     },
     "output_type": "display_data"
    }
   ],
   "source": [
    "sns.distplot(smart_calls['messages'],bins=30)\n",
    "plt.title('Гистограмма распределия количества сообщений пользователей тарифа Смарт')\n",
    "plt.xlabel('Количество сообщений')\n",
    "plt.ylabel('Частота')"
   ]
  },
  {
   "cell_type": "markdown",
   "metadata": {},
   "source": [
    "Гистограмма распределия количества интернет-трафика пользователей тарифа Ультра"
   ]
  },
  {
   "cell_type": "code",
   "execution_count": 85,
   "metadata": {},
   "outputs": [
    {
     "data": {
      "text/plain": [
       "Text(0, 0.5, 'Частота')"
      ]
     },
     "execution_count": 85,
     "metadata": {},
     "output_type": "execute_result"
    },
    {
     "data": {
      "image/png": "[encoded data removed]",
      "text/plain": [
       "<Figure size 432x288 with 1 Axes>"
      ]
     },
     "metadata": {
      "needs_background": "light"
     },
     "output_type": "display_data"
    }
   ],
   "source": [
    "sns.distplot(ultra_calls['mb_used'],bins=30)\n",
    "plt.title('Гистограмма распределия количества интернет-трафика пользователей тарифа Ультра')\n",
    "plt.xlabel('Количество интернет-трафика')\n",
    "plt.ylabel('Частота')"
   ]
  },
  {
   "cell_type": "markdown",
   "metadata": {},
   "source": [
    "Гистограмма распределия количества интернет-трафика пользователей тарифа Смарт"
   ]
  },
  {
   "cell_type": "code",
   "execution_count": 86,
   "metadata": {},
   "outputs": [
    {
     "data": {
      "text/plain": [
       "Text(0, 0.5, 'Частота')"
      ]
     },
     "execution_count": 86,
     "metadata": {},
     "output_type": "execute_result"
    },
    {
     "data": {
      "image/png": "[encoded data removed]",
      "text/plain": [
       "<Figure size 432x288 with 1 Axes>"
      ]
     },
     "metadata": {
      "needs_background": "light"
     },
     "output_type": "display_data"
    }
   ],
   "source": [
    "sns.distplot(smart_calls['mb_used'],bins=30)\n",
    "plt.title('Гистограмма распределия количества интернет-трафика пользователей тарифа Смарт')\n",
    "plt.xlabel('Количество интернет-трафика')\n",
    "plt.ylabel('Частота')"
   ]
  },
  {
   "cell_type": "markdown",
   "metadata": {},
   "source": [
    "#### Выводы по гистаграммам"
   ]
  },
  {
   "cell_type": "markdown",
   "metadata": {},
   "source": [
    "Выводы по тарифу Ультра :\n",
    "- Большинство пользователей разговариет около 600 минут\n",
    "- Большинство пользователей делает около 10 сообщений\n",
    "- Большинство пользователей тратит около 19000 мб трафика"
   ]
  },
  {
   "cell_type": "markdown",
   "metadata": {},
   "source": [
    "Выводы по тарифу Смарт :\n",
    "- Большинство пользователей разговариет около 400 минут\n",
    "- Большинство пользователей делает около 10 сообщений\n",
    "- Большинство пользователей тратит около 16000 мб трафика"
   ]
  },
  {
   "cell_type": "markdown",
   "metadata": {},
   "source": [
    "## Проверка гипотез"
   ]
  },
  {
   "cell_type": "markdown",
   "metadata": {},
   "source": [
    "### Проверка гипотезы: Средняя выручка пользователей тарифов «Ультра» и «Смарт» различается"
   ]
  },
  {
   "cell_type": "markdown",
   "metadata": {},
   "source": [
    "Для проверки этой гипотезы принимаем нудевую гипотезу, которая говорит о том, что средняя выручка ползователей 2 тарифов\n",
    "не различается."
   ]
  },
  {
   "cell_type": "markdown",
   "metadata": {},
   "source": [
    "Выберу альфу"
   ]
  },
  {
   "cell_type": "code",
   "execution_count": 87,
   "metadata": {},
   "outputs": [],
   "source": [
    "alpha = 0.05"
   ]
  },
  {
   "cell_type": "markdown",
   "metadata": {},
   "source": [
    "Поделим пользователей на 2 группы. Соответственно пользователи тарифа Смарт и пользователи тарифа Ультра"
   ]
  },
  {
   "cell_type": "code",
   "execution_count": 88,
   "metadata": {},
   "outputs": [],
   "source": [
    "ultra=grouped_data.query('tariff==\"ultra\"')"
   ]
  },
  {
   "cell_type": "code",
   "execution_count": 89,
   "metadata": {},
   "outputs": [],
   "source": [
    "smart=grouped_data.query('tariff==\"smart\"')"
   ]
  },
  {
   "cell_type": "markdown",
   "metadata": {},
   "source": [
    "Средняя выручка от пользователей тарифа Ультра"
   ]
  },
  {
   "cell_type": "code",
   "execution_count": 90,
   "metadata": {},
   "outputs": [
    {
     "data": {
      "text/plain": [
       "2059.8"
      ]
     },
     "execution_count": 90,
     "metadata": {},
     "output_type": "execute_result"
    }
   ],
   "source": [
    "ultra['total_income'].mean()"
   ]
  },
  {
   "cell_type": "markdown",
   "metadata": {},
   "source": [
    "Средняя выручка от пользователей тарифа Смарт"
   ]
  },
  {
   "cell_type": "code",
   "execution_count": 91,
   "metadata": {},
   "outputs": [
    {
     "data": {
      "text/plain": [
       "1230.156123822342"
      ]
     },
     "execution_count": 91,
     "metadata": {},
     "output_type": "execute_result"
    }
   ],
   "source": [
    "smart['total_income'].mean()"
   ]
  },
  {
   "cell_type": "markdown",
   "metadata": {},
   "source": [
    "Дисперсия выручки от пользователей тарифов Ультра"
   ]
  },
  {
   "cell_type": "code",
   "execution_count": 92,
   "metadata": {},
   "outputs": [
    {
     "data": {
      "text/plain": [
       "125843.21300813007"
      ]
     },
     "execution_count": 92,
     "metadata": {},
     "output_type": "execute_result"
    }
   ],
   "source": [
    "ultra['total_income'].var()"
   ]
  },
  {
   "cell_type": "markdown",
   "metadata": {},
   "source": [
    "Дисперсия выручки от пользователей тарифов Смарт"
   ]
  },
  {
   "cell_type": "code",
   "execution_count": 93,
   "metadata": {},
   "outputs": [
    {
     "data": {
      "text/plain": [
       "617119.3598154893"
      ]
     },
     "execution_count": 93,
     "metadata": {},
     "output_type": "execute_result"
    }
   ],
   "source": [
    "smart['total_income'].var()"
   ]
  },
  {
   "cell_type": "code",
   "execution_count": 94,
   "metadata": {},
   "outputs": [],
   "source": [
    "result=st.ttest_ind(smart['total_income'],ultra['total_income'],equal_var=False)"
   ]
  },
  {
   "cell_type": "code",
   "execution_count": 95,
   "metadata": {},
   "outputs": [
    {
     "data": {
      "text/plain": [
       "9.15685967415715e-299"
      ]
     },
     "execution_count": 95,
     "metadata": {},
     "output_type": "execute_result"
    }
   ],
   "source": [
    "result.pvalue"
   ]
  },
  {
   "cell_type": "code",
   "execution_count": 96,
   "metadata": {},
   "outputs": [
    {
     "name": "stdout",
     "output_type": "stream",
     "text": [
      "Отвергаем нулевую гипотезу\n"
     ]
    }
   ],
   "source": [
    "if (result.pvalue<alpha):\n",
    "    print('Отвергаем нулевую гипотезу')\n",
    "else:\n",
    "    print('Не получилость отвергнуть нулевую гипотезу')"
   ]
  },
  {
   "cell_type": "markdown",
   "metadata": {},
   "source": [
    "Нулевая гипотеза отвергнута"
   ]
  },
  {
   "cell_type": "markdown",
   "metadata": {},
   "source": [
    "Среднее значение относительно которого проверяем"
   ]
  },
  {
   "cell_type": "code",
   "execution_count": 97,
   "metadata": {},
   "outputs": [],
   "source": [
    "interested_value=smart['total_income'].mean()"
   ]
  },
  {
   "cell_type": "code",
   "execution_count": 98,
   "metadata": {},
   "outputs": [],
   "source": [
    "result=st.ttest_1samp(ultra['total_income'],interested_value)"
   ]
  },
  {
   "cell_type": "code",
   "execution_count": 99,
   "metadata": {},
   "outputs": [
    {
     "name": "stdout",
     "output_type": "stream",
     "text": [
      "Не получилость отвергнуть нулевую гипотезу\n"
     ]
    }
   ],
   "source": [
    "if (result.pvalue/2<alpha) and (ultra['total_income'].mean()<=interested_value):\n",
    "     print('Отвергаем нулевую гипотезу')\n",
    "else:\n",
    "    print('Не получилость отвергнуть нулевую гипотезу')"
   ]
  },
  {
   "cell_type": "markdown",
   "metadata": {},
   "source": [
    "При проверке односторонней гипотезы отвергли, если выполнилось два условия:\n",
    "\n",
    "среднее значение выручки Ультра <= предполагаемого(значение Смарт)\n",
    "разница среднего значения и статистической значимости деленой пополам была существенной"
   ]
  },
  {
   "cell_type": "markdown",
   "metadata": {},
   "source": [
    "### Проверка гипотезы: Cредняя выручка пользователей из Москвы отличается от выручки пользователей из других регионов"
   ]
  },
  {
   "cell_type": "markdown",
   "metadata": {},
   "source": [
    "Для проверки этой гипотезы принимаем нудевую гипотезу, которая говорит о том, что средняя выручка пользователей из Москвы не отличается от выручки пользователей из других регионов."
   ]
  },
  {
   "cell_type": "markdown",
   "metadata": {},
   "source": [
    "Добавим столбец с населенным пунктом в наш фрейм"
   ]
  },
  {
   "cell_type": "code",
   "execution_count": 100,
   "metadata": {},
   "outputs": [],
   "source": [
    "for user in grouped_data.index:\n",
    "    grouped_data.loc[user, 'city'] = users.loc[user[0]-1000, 'city']"
   ]
  },
  {
   "cell_type": "code",
   "execution_count": 101,
   "metadata": {},
   "outputs": [
    {
     "data": {
      "text/html": [
       "<div>\n",
       "<style scoped>\n",
       "    .dataframe tbody tr th:only-of-type {\n",
       "        vertical-align: middle;\n",
       "    }\n",
       "\n",
       "    .dataframe tbody tr th {\n",
       "        vertical-align: top;\n",
       "    }\n",
       "\n",
       "    .dataframe thead th {\n",
       "        text-align: right;\n",
       "    }\n",
       "</style>\n",
       "<table border=\"1\" class=\"dataframe\">\n",
       "  <thead>\n",
       "    <tr style=\"text-align: right;\">\n",
       "      <th></th>\n",
       "      <th></th>\n",
       "      <th>duration</th>\n",
       "      <th>calls</th>\n",
       "      <th>messages</th>\n",
       "      <th>mb_used</th>\n",
       "      <th>tariff</th>\n",
       "      <th>total_income</th>\n",
       "      <th>city</th>\n",
       "    </tr>\n",
       "    <tr>\n",
       "      <th>user_id</th>\n",
       "      <th>month</th>\n",
       "      <th></th>\n",
       "      <th></th>\n",
       "      <th></th>\n",
       "      <th></th>\n",
       "      <th></th>\n",
       "      <th></th>\n",
       "      <th></th>\n",
       "    </tr>\n",
       "  </thead>\n",
       "  <tbody>\n",
       "    <tr>\n",
       "      <td rowspan=\"5\" valign=\"top\">1000</td>\n",
       "      <td>5</td>\n",
       "      <td>159.0</td>\n",
       "      <td>17.0</td>\n",
       "      <td>22.0</td>\n",
       "      <td>2253.49</td>\n",
       "      <td>ultra</td>\n",
       "      <td>1950</td>\n",
       "      <td>Краснодар</td>\n",
       "    </tr>\n",
       "    <tr>\n",
       "      <td>6</td>\n",
       "      <td>172.0</td>\n",
       "      <td>28.0</td>\n",
       "      <td>60.0</td>\n",
       "      <td>23233.77</td>\n",
       "      <td>ultra</td>\n",
       "      <td>1950</td>\n",
       "      <td>Краснодар</td>\n",
       "    </tr>\n",
       "    <tr>\n",
       "      <td>7</td>\n",
       "      <td>340.0</td>\n",
       "      <td>41.0</td>\n",
       "      <td>75.0</td>\n",
       "      <td>14003.64</td>\n",
       "      <td>ultra</td>\n",
       "      <td>1950</td>\n",
       "      <td>Краснодар</td>\n",
       "    </tr>\n",
       "    <tr>\n",
       "      <td>8</td>\n",
       "      <td>408.0</td>\n",
       "      <td>42.0</td>\n",
       "      <td>81.0</td>\n",
       "      <td>14055.93</td>\n",
       "      <td>ultra</td>\n",
       "      <td>1950</td>\n",
       "      <td>Краснодар</td>\n",
       "    </tr>\n",
       "    <tr>\n",
       "      <td>9</td>\n",
       "      <td>466.0</td>\n",
       "      <td>46.0</td>\n",
       "      <td>57.0</td>\n",
       "      <td>14568.91</td>\n",
       "      <td>ultra</td>\n",
       "      <td>1950</td>\n",
       "      <td>Краснодар</td>\n",
       "    </tr>\n",
       "    <tr>\n",
       "      <td>...</td>\n",
       "      <td>...</td>\n",
       "      <td>...</td>\n",
       "      <td>...</td>\n",
       "      <td>...</td>\n",
       "      <td>...</td>\n",
       "      <td>...</td>\n",
       "      <td>...</td>\n",
       "      <td>...</td>\n",
       "    </tr>\n",
       "    <tr>\n",
       "      <td>1498</td>\n",
       "      <td>10</td>\n",
       "      <td>247.0</td>\n",
       "      <td>30.0</td>\n",
       "      <td>42.0</td>\n",
       "      <td>20579.36</td>\n",
       "      <td>smart</td>\n",
       "      <td>1569</td>\n",
       "      <td>Владикавказ</td>\n",
       "    </tr>\n",
       "    <tr>\n",
       "      <td rowspan=\"4\" valign=\"top\">1499</td>\n",
       "      <td>9</td>\n",
       "      <td>70.0</td>\n",
       "      <td>8.0</td>\n",
       "      <td>11.0</td>\n",
       "      <td>1845.75</td>\n",
       "      <td>smart</td>\n",
       "      <td>550</td>\n",
       "      <td>Пермь</td>\n",
       "    </tr>\n",
       "    <tr>\n",
       "      <td>10</td>\n",
       "      <td>449.0</td>\n",
       "      <td>44.0</td>\n",
       "      <td>48.0</td>\n",
       "      <td>17788.51</td>\n",
       "      <td>smart</td>\n",
       "      <td>1024</td>\n",
       "      <td>Пермь</td>\n",
       "    </tr>\n",
       "    <tr>\n",
       "      <td>12</td>\n",
       "      <td>492.0</td>\n",
       "      <td>56.0</td>\n",
       "      <td>66.0</td>\n",
       "      <td>13055.58</td>\n",
       "      <td>smart</td>\n",
       "      <td>598</td>\n",
       "      <td>Пермь</td>\n",
       "    </tr>\n",
       "    <tr>\n",
       "      <td>11</td>\n",
       "      <td>612.0</td>\n",
       "      <td>62.0</td>\n",
       "      <td>59.0</td>\n",
       "      <td>17963.31</td>\n",
       "      <td>smart</td>\n",
       "      <td>1421</td>\n",
       "      <td>Пермь</td>\n",
       "    </tr>\n",
       "  </tbody>\n",
       "</table>\n",
       "<p>3214 rows × 7 columns</p>\n",
       "</div>"
      ],
      "text/plain": [
       "               duration  calls  messages   mb_used tariff  total_income  \\\n",
       "user_id month                                                             \n",
       "1000    5         159.0   17.0      22.0   2253.49  ultra          1950   \n",
       "        6         172.0   28.0      60.0  23233.77  ultra          1950   \n",
       "        7         340.0   41.0      75.0  14003.64  ultra          1950   \n",
       "        8         408.0   42.0      81.0  14055.93  ultra          1950   \n",
       "        9         466.0   46.0      57.0  14568.91  ultra          1950   \n",
       "...                 ...    ...       ...       ...    ...           ...   \n",
       "1498    10        247.0   30.0      42.0  20579.36  smart          1569   \n",
       "1499    9          70.0    8.0      11.0   1845.75  smart           550   \n",
       "        10        449.0   44.0      48.0  17788.51  smart          1024   \n",
       "        12        492.0   56.0      66.0  13055.58  smart           598   \n",
       "        11        612.0   62.0      59.0  17963.31  smart          1421   \n",
       "\n",
       "                      city  \n",
       "user_id month               \n",
       "1000    5        Краснодар  \n",
       "        6        Краснодар  \n",
       "        7        Краснодар  \n",
       "        8        Краснодар  \n",
       "        9        Краснодар  \n",
       "...                    ...  \n",
       "1498    10     Владикавказ  \n",
       "1499    9            Пермь  \n",
       "        10           Пермь  \n",
       "        12           Пермь  \n",
       "        11           Пермь  \n",
       "\n",
       "[3214 rows x 7 columns]"
      ]
     },
     "metadata": {},
     "output_type": "display_data"
    }
   ],
   "source": [
    "display(grouped_data)"
   ]
  },
  {
   "cell_type": "code",
   "execution_count": 102,
   "metadata": {},
   "outputs": [],
   "source": [
    "moscow=grouped_data.query('city==\"Москва\"')"
   ]
  },
  {
   "cell_type": "code",
   "execution_count": 103,
   "metadata": {},
   "outputs": [],
   "source": [
    "regions=grouped_data.query('city!=\"Москва\"')"
   ]
  },
  {
   "cell_type": "code",
   "execution_count": 104,
   "metadata": {},
   "outputs": [],
   "source": [
    "alpha=0.05"
   ]
  },
  {
   "cell_type": "markdown",
   "metadata": {},
   "source": [
    "Средняя выручка от пользователей из Москвы"
   ]
  },
  {
   "cell_type": "code",
   "execution_count": 105,
   "metadata": {},
   "outputs": [
    {
     "data": {
      "text/plain": [
       "1505.039279869067"
      ]
     },
     "execution_count": 105,
     "metadata": {},
     "output_type": "execute_result"
    }
   ],
   "source": [
    "moscow['total_income'].mean()"
   ]
  },
  {
   "cell_type": "markdown",
   "metadata": {},
   "source": [
    "Средняя выручка от пользователей из регионов"
   ]
  },
  {
   "cell_type": "code",
   "execution_count": 106,
   "metadata": {},
   "outputs": [
    {
     "data": {
      "text/plain": [
       "1479.5781790242029"
      ]
     },
     "execution_count": 106,
     "metadata": {},
     "output_type": "execute_result"
    }
   ],
   "source": [
    "regions['total_income'].mean()"
   ]
  },
  {
   "cell_type": "markdown",
   "metadata": {},
   "source": [
    "Дисперсия выручки от пользоватей из Москвы"
   ]
  },
  {
   "cell_type": "code",
   "execution_count": 107,
   "metadata": {},
   "outputs": [
    {
     "data": {
      "text/plain": [
       "545867.664028333"
      ]
     },
     "execution_count": 107,
     "metadata": {},
     "output_type": "execute_result"
    }
   ],
   "source": [
    "moscow['total_income'].var()"
   ]
  },
  {
   "cell_type": "markdown",
   "metadata": {},
   "source": [
    "Дисперсия выручки от пользоватей из регионов"
   ]
  },
  {
   "cell_type": "code",
   "execution_count": 108,
   "metadata": {},
   "outputs": [
    {
     "data": {
      "text/plain": [
       "628621.4123138235"
      ]
     },
     "execution_count": 108,
     "metadata": {},
     "output_type": "execute_result"
    }
   ],
   "source": [
    "regions['total_income'].var()"
   ]
  },
  {
   "cell_type": "code",
   "execution_count": 109,
   "metadata": {},
   "outputs": [],
   "source": [
    "result=st.ttest_ind(moscow['total_income'],regions['total_income'])"
   ]
  },
  {
   "cell_type": "code",
   "execution_count": 110,
   "metadata": {},
   "outputs": [
    {
     "data": {
      "text/plain": [
       "0.46944930844814226"
      ]
     },
     "execution_count": 110,
     "metadata": {},
     "output_type": "execute_result"
    }
   ],
   "source": [
    "result.pvalue"
   ]
  },
  {
   "cell_type": "code",
   "execution_count": 111,
   "metadata": {},
   "outputs": [
    {
     "name": "stdout",
     "output_type": "stream",
     "text": [
      "Гипотизу отвергнуть не удалось\n"
     ]
    }
   ],
   "source": [
    "if (result.pvalue<alpha):\n",
    "    print('Отвергаем гипотизу')\n",
    "else:\n",
    "    print('Гипотизу отвергнуть не удалось')"
   ]
  },
  {
   "cell_type": "markdown",
   "metadata": {},
   "source": [
    "Гипотезу отвергаем. Средняя выручка в Москве отличается от средней выручки в регионах."
   ]
  },
  {
   "cell_type": "markdown",
   "metadata": {},
   "source": [
    "## Общий вывод"
   ]
  },
  {
   "cell_type": "markdown",
   "metadata": {},
   "source": [
    "Самые главные выводы, я считаю такие:\n",
    "- Тариф Ультра наиболее прибыльный, чем тариф Смарт\n",
    "- Тариф Смарт оказался наиболее пополярный"
   ]
  },
  {
   "cell_type": "markdown",
   "metadata": {},
   "source": [
    "Выводы по тарифу Ультра :\n",
    "- Большинство пользователей разговариет около 600 минут\n",
    "- Большинство пользователей делает около 10 сообщений\n",
    "- Большинство пользователей тратит около 19000 мб трафика"
   ]
  },
  {
   "cell_type": "markdown",
   "metadata": {},
   "source": [
    "Выводы по тарифу Смарт :\n",
    "- Большинство пользователей разговариет около 400 минут\n",
    "- Большинство пользователей делает около 10 сообщений\n",
    "- Большинство пользователей тратит около 16000 мб трафика"
   ]
  },
  {
   "cell_type": "markdown",
   "metadata": {},
   "source": [
    " 1) Пользователям в общем хватает данных тарифов. В Тарифе Ультра нет смысла давать 3000 минут, пльзователи в среднем выговаривают 600 минут. Думаю 800-1000 минут будет вполне достаточно. Но понижать надо плавно, слишком большой скачок иначе будет, пользователи могут быть недовольны) Так же можно на обоих тарифах понизить кол-во включенных сообщений, их тоже никто не использует. Все пользуются мессенджерами) По трафику по тарифу Ультра тоже можно будет понизить. По смарт у большинства пользователей идет перерасход. Но не большой, не думаю, что стоит повышать включенный в тариф трафик.\n",
    "    \n",
    " 2) Тариф Ультра наиболее прибыльный, но меньше пользователей его использует. Тариф Смарт менее прибыльный но зато больше пользователей его использует\n",
    "    \n",
    " 3) Думаю было бы хорошим решениеи переподключать пользователей, которые уже достаточное количество времени используют тариф Смарт на Тариф Ультра в виде специального предложения."
   ]
  }
 ],
 "metadata": {
  "ExecuteTimeLog": [
   {
    "duration": 1526,
    "start_time": "2021-06-28T11:16:18.731Z"
   },
   {
    "duration": 202,
    "start_time": "2021-06-28T11:18:36.033Z"
   },
   {
    "duration": 218,
    "start_time": "2021-06-28T11:19:10.473Z"
   },
   {
    "duration": 665,
    "start_time": "2021-06-28T11:19:20.094Z"
   },
   {
    "duration": 212,
    "start_time": "2021-06-28T11:19:36.724Z"
   },
   {
    "duration": 234,
    "start_time": "2021-06-28T11:20:11.203Z"
   },
   {
    "duration": 119,
    "start_time": "2021-06-28T11:26:38.341Z"
   },
   {
    "duration": 462,
    "start_time": "2021-06-28T11:34:55.003Z"
   },
   {
    "duration": 198,
    "start_time": "2021-06-28T11:35:05.515Z"
   },
   {
    "duration": 135,
    "start_time": "2021-06-28T11:35:42.304Z"
   },
   {
    "duration": 30,
    "start_time": "2021-06-28T11:36:48.841Z"
   },
   {
    "duration": 49,
    "start_time": "2021-06-28T11:38:48.911Z"
   },
   {
    "duration": 9,
    "start_time": "2021-06-28T11:41:07.671Z"
   },
   {
    "duration": 62,
    "start_time": "2021-06-28T13:01:02.536Z"
   },
   {
    "duration": 16,
    "start_time": "2021-06-28T13:01:34.282Z"
   },
   {
    "duration": 311,
    "start_time": "2021-06-28T13:04:25.429Z"
   },
   {
    "duration": 20,
    "start_time": "2021-06-28T13:04:31.504Z"
   },
   {
    "duration": 6,
    "start_time": "2021-06-28T13:04:51.390Z"
   },
   {
    "duration": 13,
    "start_time": "2021-06-28T13:05:01.636Z"
   },
   {
    "duration": 296,
    "start_time": "2021-06-28T13:06:42.656Z"
   },
   {
    "duration": 34,
    "start_time": "2021-06-28T13:06:50.110Z"
   },
   {
    "duration": 25,
    "start_time": "2021-06-28T13:07:15.869Z"
   },
   {
    "duration": 29,
    "start_time": "2021-06-28T13:07:38.374Z"
   },
   {
    "duration": 7,
    "start_time": "2021-06-28T13:07:57.644Z"
   },
   {
    "duration": 7,
    "start_time": "2021-06-28T13:08:15.670Z"
   },
   {
    "duration": 27,
    "start_time": "2021-06-28T13:13:35.853Z"
   },
   {
    "duration": 32,
    "start_time": "2021-06-28T13:16:09.031Z"
   },
   {
    "duration": 18,
    "start_time": "2021-06-28T13:16:18.819Z"
   },
   {
    "duration": 19,
    "start_time": "2021-06-28T13:16:46.198Z"
   },
   {
    "duration": 21,
    "start_time": "2021-06-28T13:18:23.114Z"
   },
   {
    "duration": 25,
    "start_time": "2021-06-28T13:19:01.131Z"
   },
   {
    "duration": 302,
    "start_time": "2021-06-28T13:20:22.341Z"
   },
   {
    "duration": 25,
    "start_time": "2021-06-28T13:20:37.573Z"
   },
   {
    "duration": 19,
    "start_time": "2021-06-28T13:20:39.623Z"
   },
   {
    "duration": 31,
    "start_time": "2021-06-28T13:21:36.699Z"
   },
   {
    "duration": 20,
    "start_time": "2021-06-28T13:21:47.482Z"
   },
   {
    "duration": 14,
    "start_time": "2021-06-28T13:23:20.935Z"
   },
   {
    "duration": 14,
    "start_time": "2021-06-28T13:24:19.579Z"
   },
   {
    "duration": 5,
    "start_time": "2021-06-28T13:25:15.735Z"
   },
   {
    "duration": 352,
    "start_time": "2021-06-28T13:25:36.159Z"
   },
   {
    "duration": 18,
    "start_time": "2021-06-28T13:25:42.827Z"
   },
   {
    "duration": 8,
    "start_time": "2021-06-28T13:31:28.403Z"
   },
   {
    "duration": 24,
    "start_time": "2021-06-28T13:31:51.924Z"
   },
   {
    "duration": 8,
    "start_time": "2021-06-28T13:33:33.526Z"
   },
   {
    "duration": 19,
    "start_time": "2021-06-28T13:33:35.803Z"
   },
   {
    "duration": 9,
    "start_time": "2021-06-28T13:34:34.917Z"
   },
   {
    "duration": 24,
    "start_time": "2021-06-28T13:34:47.373Z"
   },
   {
    "duration": 20,
    "start_time": "2021-06-28T13:35:36.191Z"
   },
   {
    "duration": 8,
    "start_time": "2021-06-28T14:18:17.135Z"
   },
   {
    "duration": 8082,
    "start_time": "2021-06-28T14:19:18.793Z"
   },
   {
    "duration": 8147,
    "start_time": "2021-06-28T14:19:59.979Z"
   },
   {
    "duration": 9,
    "start_time": "2021-06-28T14:21:39.961Z"
   },
   {
    "duration": 8260,
    "start_time": "2021-06-28T14:21:46.773Z"
   },
   {
    "duration": 8,
    "start_time": "2021-06-28T14:29:28.221Z"
   },
   {
    "duration": 8716,
    "start_time": "2021-06-28T14:29:31.045Z"
   },
   {
    "duration": 11,
    "start_time": "2021-06-28T14:37:29.473Z"
   },
   {
    "duration": 10024,
    "start_time": "2021-06-28T14:37:31.215Z"
   },
   {
    "duration": 8,
    "start_time": "2021-06-28T14:39:08.755Z"
   },
   {
    "duration": 7705,
    "start_time": "2021-06-28T14:39:20.751Z"
   },
   {
    "duration": 8,
    "start_time": "2021-06-28T14:42:12.480Z"
   },
   {
    "duration": 7863,
    "start_time": "2021-06-28T14:42:22.732Z"
   },
   {
    "duration": 8,
    "start_time": "2021-06-28T14:52:29.543Z"
   },
   {
    "duration": 7776,
    "start_time": "2021-06-28T14:52:41.164Z"
   },
   {
    "duration": 8,
    "start_time": "2021-06-28T14:52:56.772Z"
   },
   {
    "duration": 8,
    "start_time": "2021-06-28T14:53:01.227Z"
   },
   {
    "duration": 8217,
    "start_time": "2021-06-28T14:53:03.216Z"
   },
   {
    "duration": 7,
    "start_time": "2021-06-28T15:01:36.558Z"
   },
   {
    "duration": 4,
    "start_time": "2021-06-28T15:01:50.911Z"
   },
   {
    "duration": 285,
    "start_time": "2021-06-28T15:02:06.600Z"
   },
   {
    "duration": 337,
    "start_time": "2021-06-28T15:02:18.997Z"
   },
   {
    "duration": 5,
    "start_time": "2021-06-28T15:02:42.492Z"
   },
   {
    "duration": 6,
    "start_time": "2021-06-28T15:12:32.708Z"
   },
   {
    "duration": 661,
    "start_time": "2021-06-28T15:12:38.040Z"
   },
   {
    "duration": 5,
    "start_time": "2021-06-28T15:13:18.594Z"
   },
   {
    "duration": 584,
    "start_time": "2021-06-28T15:13:20.371Z"
   },
   {
    "duration": 6,
    "start_time": "2021-06-28T15:15:58.335Z"
   },
   {
    "duration": 667,
    "start_time": "2021-06-28T15:15:59.652Z"
   },
   {
    "duration": 7,
    "start_time": "2021-06-28T15:22:12.005Z"
   },
   {
    "duration": 594,
    "start_time": "2021-06-28T15:22:12.920Z"
   },
   {
    "duration": 1434,
    "start_time": "2021-06-28T15:23:26.615Z"
   },
   {
    "duration": 244,
    "start_time": "2021-06-28T15:23:28.052Z"
   },
   {
    "duration": 207,
    "start_time": "2021-06-28T15:23:28.299Z"
   },
   {
    "duration": 143,
    "start_time": "2021-06-28T15:23:28.510Z"
   },
   {
    "duration": 31,
    "start_time": "2021-06-28T15:23:28.655Z"
   },
   {
    "duration": 81,
    "start_time": "2021-06-28T15:23:28.689Z"
   },
   {
    "duration": 8,
    "start_time": "2021-06-28T15:23:28.772Z"
   },
   {
    "duration": 23,
    "start_time": "2021-06-28T15:23:28.784Z"
   },
   {
    "duration": 23,
    "start_time": "2021-06-28T15:23:28.810Z"
   },
   {
    "duration": 31,
    "start_time": "2021-06-28T15:23:28.836Z"
   },
   {
    "duration": 12,
    "start_time": "2021-06-28T15:23:28.870Z"
   },
   {
    "duration": 39,
    "start_time": "2021-06-28T15:23:28.885Z"
   },
   {
    "duration": 60,
    "start_time": "2021-06-28T15:23:28.927Z"
   },
   {
    "duration": 35,
    "start_time": "2021-06-28T15:23:28.989Z"
   },
   {
    "duration": 6,
    "start_time": "2021-06-28T15:23:29.027Z"
   },
   {
    "duration": 31,
    "start_time": "2021-06-28T15:23:29.036Z"
   },
   {
    "duration": 28,
    "start_time": "2021-06-28T15:23:29.069Z"
   },
   {
    "duration": 21,
    "start_time": "2021-06-28T15:23:29.099Z"
   },
   {
    "duration": 50,
    "start_time": "2021-06-28T15:23:29.122Z"
   },
   {
    "duration": 5,
    "start_time": "2021-06-28T15:23:29.174Z"
   },
   {
    "duration": 40,
    "start_time": "2021-06-28T15:23:29.182Z"
   },
   {
    "duration": 42,
    "start_time": "2021-06-28T15:23:29.224Z"
   },
   {
    "duration": 25,
    "start_time": "2021-06-28T15:23:29.271Z"
   },
   {
    "duration": 17,
    "start_time": "2021-06-28T15:23:29.299Z"
   },
   {
    "duration": 55,
    "start_time": "2021-06-28T15:23:29.318Z"
   },
   {
    "duration": 17,
    "start_time": "2021-06-28T15:23:29.376Z"
   },
   {
    "duration": 18,
    "start_time": "2021-06-28T15:23:29.395Z"
   },
   {
    "duration": 14,
    "start_time": "2021-06-28T15:23:29.415Z"
   },
   {
    "duration": 44,
    "start_time": "2021-06-28T15:23:29.432Z"
   },
   {
    "duration": 12,
    "start_time": "2021-06-28T15:23:29.479Z"
   },
   {
    "duration": 7,
    "start_time": "2021-06-28T15:23:29.493Z"
   },
   {
    "duration": 18,
    "start_time": "2021-06-28T15:23:29.503Z"
   },
   {
    "duration": 7,
    "start_time": "2021-06-28T15:23:29.523Z"
   },
   {
    "duration": 724,
    "start_time": "2021-06-28T15:23:29.567Z"
   },
   {
    "duration": -75,
    "start_time": "2021-06-28T15:23:30.368Z"
   },
   {
    "duration": -100,
    "start_time": "2021-06-28T15:23:30.395Z"
   },
   {
    "duration": -103,
    "start_time": "2021-06-28T15:23:30.400Z"
   },
   {
    "duration": 7,
    "start_time": "2021-06-28T15:23:37.967Z"
   },
   {
    "duration": 6,
    "start_time": "2021-06-28T15:23:41.391Z"
   },
   {
    "duration": 7820,
    "start_time": "2021-06-28T15:23:43.625Z"
   },
   {
    "duration": 11,
    "start_time": "2021-06-28T15:25:14.252Z"
   },
   {
    "duration": 7967,
    "start_time": "2021-06-28T15:25:15.082Z"
   },
   {
    "duration": 7,
    "start_time": "2021-06-28T15:32:31.458Z"
   },
   {
    "duration": 8468,
    "start_time": "2021-06-28T15:32:37.767Z"
   },
   {
    "duration": 8,
    "start_time": "2021-06-28T15:33:04.512Z"
   },
   {
    "duration": 7939,
    "start_time": "2021-06-28T15:33:05.894Z"
   },
   {
    "duration": 7584,
    "start_time": "2021-06-28T15:38:56.901Z"
   },
   {
    "duration": 330,
    "start_time": "2021-06-28T16:14:48.483Z"
   },
   {
    "duration": 1475,
    "start_time": "2021-06-28T16:15:04.687Z"
   },
   {
    "duration": 252,
    "start_time": "2021-06-28T16:15:06.164Z"
   },
   {
    "duration": 209,
    "start_time": "2021-06-28T16:15:06.419Z"
   },
   {
    "duration": 147,
    "start_time": "2021-06-28T16:15:06.631Z"
   },
   {
    "duration": 32,
    "start_time": "2021-06-28T16:15:06.780Z"
   },
   {
    "duration": 75,
    "start_time": "2021-06-28T16:15:06.815Z"
   },
   {
    "duration": 9,
    "start_time": "2021-06-28T16:15:06.892Z"
   },
   {
    "duration": 24,
    "start_time": "2021-06-28T16:15:06.907Z"
   },
   {
    "duration": 26,
    "start_time": "2021-06-28T16:15:06.968Z"
   },
   {
    "duration": 5,
    "start_time": "2021-06-28T16:15:06.996Z"
   },
   {
    "duration": 17,
    "start_time": "2021-06-28T16:15:07.004Z"
   },
   {
    "duration": 62,
    "start_time": "2021-06-28T16:15:07.024Z"
   },
   {
    "duration": 26,
    "start_time": "2021-06-28T16:15:07.089Z"
   },
   {
    "duration": 56,
    "start_time": "2021-06-28T16:15:07.118Z"
   },
   {
    "duration": 7,
    "start_time": "2021-06-28T16:15:07.176Z"
   },
   {
    "duration": 9,
    "start_time": "2021-06-28T16:15:07.185Z"
   },
   {
    "duration": 36,
    "start_time": "2021-06-28T16:15:07.197Z"
   },
   {
    "duration": 44,
    "start_time": "2021-06-28T16:15:07.236Z"
   },
   {
    "duration": 25,
    "start_time": "2021-06-28T16:15:07.283Z"
   },
   {
    "duration": 5,
    "start_time": "2021-06-28T16:15:07.311Z"
   },
   {
    "duration": 65,
    "start_time": "2021-06-28T16:15:07.319Z"
   },
   {
    "duration": 18,
    "start_time": "2021-06-28T16:15:07.386Z"
   },
   {
    "duration": 24,
    "start_time": "2021-06-28T16:15:07.411Z"
   },
   {
    "duration": 42,
    "start_time": "2021-06-28T16:15:07.438Z"
   },
   {
    "duration": 34,
    "start_time": "2021-06-28T16:15:07.483Z"
   },
   {
    "duration": 19,
    "start_time": "2021-06-28T16:15:07.519Z"
   },
   {
    "duration": 15,
    "start_time": "2021-06-28T16:15:07.568Z"
   },
   {
    "duration": 16,
    "start_time": "2021-06-28T16:15:07.585Z"
   },
   {
    "duration": 17,
    "start_time": "2021-06-28T16:15:07.603Z"
   },
   {
    "duration": 54,
    "start_time": "2021-06-28T16:15:07.622Z"
   },
   {
    "duration": 7,
    "start_time": "2021-06-28T16:15:07.679Z"
   },
   {
    "duration": 20,
    "start_time": "2021-06-28T16:15:07.688Z"
   },
   {
    "duration": 479,
    "start_time": "2021-06-28T16:15:07.710Z"
   },
   {
    "duration": -10,
    "start_time": "2021-06-28T16:15:08.203Z"
   },
   {
    "duration": -12,
    "start_time": "2021-06-28T16:15:08.206Z"
   },
   {
    "duration": 308,
    "start_time": "2021-06-28T16:16:18.774Z"
   },
   {
    "duration": 331,
    "start_time": "2021-06-28T16:17:30.087Z"
   },
   {
    "duration": 294,
    "start_time": "2021-06-28T16:17:49.265Z"
   },
   {
    "duration": 8117,
    "start_time": "2021-06-28T16:18:06.483Z"
   },
   {
    "duration": 318,
    "start_time": "2021-06-28T16:19:23.618Z"
   },
   {
    "duration": 7849,
    "start_time": "2021-06-28T16:20:03.104Z"
   },
   {
    "duration": 397,
    "start_time": "2021-06-28T16:27:35.875Z"
   },
   {
    "duration": 425,
    "start_time": "2021-06-28T16:28:01.618Z"
   },
   {
    "duration": 314,
    "start_time": "2021-06-28T16:28:13.452Z"
   },
   {
    "duration": 1973,
    "start_time": "2021-06-28T16:29:57.512Z"
   },
   {
    "duration": 13,
    "start_time": "2021-06-28T16:32:56.884Z"
   },
   {
    "duration": 15,
    "start_time": "2021-06-28T16:32:57.448Z"
   },
   {
    "duration": 17,
    "start_time": "2021-06-28T16:32:57.805Z"
   },
   {
    "duration": 13,
    "start_time": "2021-06-28T16:32:58.980Z"
   },
   {
    "duration": 8,
    "start_time": "2021-06-28T16:32:59.924Z"
   },
   {
    "duration": 19,
    "start_time": "2021-06-28T16:33:01.005Z"
   },
   {
    "duration": 8769,
    "start_time": "2021-06-28T16:33:04.817Z"
   },
   {
    "duration": 8,
    "start_time": "2021-06-28T16:36:33.265Z"
   },
   {
    "duration": 7928,
    "start_time": "2021-06-28T16:36:46.215Z"
   },
   {
    "duration": 1483,
    "start_time": "2021-06-29T07:51:42.849Z"
   },
   {
    "duration": 248,
    "start_time": "2021-06-29T07:51:44.335Z"
   },
   {
    "duration": 210,
    "start_time": "2021-06-29T07:51:44.586Z"
   },
   {
    "duration": 144,
    "start_time": "2021-06-29T07:51:44.799Z"
   },
   {
    "duration": 32,
    "start_time": "2021-06-29T07:51:44.946Z"
   },
   {
    "duration": 67,
    "start_time": "2021-06-29T07:51:44.982Z"
   },
   {
    "duration": 12,
    "start_time": "2021-06-29T07:51:45.056Z"
   },
   {
    "duration": 34,
    "start_time": "2021-06-29T07:51:45.075Z"
   },
   {
    "duration": 69,
    "start_time": "2021-06-29T07:51:45.113Z"
   },
   {
    "duration": 7,
    "start_time": "2021-06-29T07:51:45.185Z"
   },
   {
    "duration": 15,
    "start_time": "2021-06-29T07:51:45.195Z"
   },
   {
    "duration": 54,
    "start_time": "2021-06-29T07:51:45.212Z"
   },
   {
    "duration": 25,
    "start_time": "2021-06-29T07:51:45.269Z"
   },
   {
    "duration": 31,
    "start_time": "2021-06-29T07:51:45.297Z"
   },
   {
    "duration": 27,
    "start_time": "2021-06-29T07:51:45.330Z"
   },
   {
    "duration": 9,
    "start_time": "2021-06-29T07:51:45.360Z"
   },
   {
    "duration": 29,
    "start_time": "2021-06-29T07:51:45.372Z"
   },
   {
    "duration": 22,
    "start_time": "2021-06-29T07:51:45.403Z"
   },
   {
    "duration": 49,
    "start_time": "2021-06-29T07:51:45.427Z"
   },
   {
    "duration": 5,
    "start_time": "2021-06-29T07:51:45.478Z"
   },
   {
    "duration": 39,
    "start_time": "2021-06-29T07:51:45.486Z"
   },
   {
    "duration": 42,
    "start_time": "2021-06-29T07:51:45.527Z"
   },
   {
    "duration": 29,
    "start_time": "2021-06-29T07:51:45.574Z"
   },
   {
    "duration": 18,
    "start_time": "2021-06-29T07:51:45.605Z"
   },
   {
    "duration": 31,
    "start_time": "2021-06-29T07:51:45.654Z"
   },
   {
    "duration": 19,
    "start_time": "2021-06-29T07:51:45.687Z"
   },
   {
    "duration": 15,
    "start_time": "2021-06-29T07:51:45.708Z"
   },
   {
    "duration": 15,
    "start_time": "2021-06-29T07:51:45.755Z"
   },
   {
    "duration": 16,
    "start_time": "2021-06-29T07:51:45.772Z"
   },
   {
    "duration": 12,
    "start_time": "2021-06-29T07:51:45.790Z"
   },
   {
    "duration": 49,
    "start_time": "2021-06-29T07:51:45.805Z"
   },
   {
    "duration": 21,
    "start_time": "2021-06-29T07:51:45.857Z"
   },
   {
    "duration": 87,
    "start_time": "2021-06-29T07:51:45.881Z"
   },
   {
    "duration": -1308,
    "start_time": "2021-06-29T07:51:47.279Z"
   },
   {
    "duration": 86,
    "start_time": "2021-06-29T07:52:09.872Z"
   },
   {
    "duration": 651,
    "start_time": "2021-06-29T07:52:23.631Z"
   },
   {
    "duration": 7,
    "start_time": "2021-06-29T07:52:46.758Z"
   },
   {
    "duration": 571,
    "start_time": "2021-06-29T07:52:49.995Z"
   },
   {
    "duration": 8,
    "start_time": "2021-06-29T07:53:45.613Z"
   },
   {
    "duration": 6456,
    "start_time": "2021-06-29T07:53:48.842Z"
   },
   {
    "duration": 6233,
    "start_time": "2021-06-29T07:55:33.621Z"
   },
   {
    "duration": 7,
    "start_time": "2021-06-29T07:55:52.667Z"
   },
   {
    "duration": 6457,
    "start_time": "2021-06-29T07:55:55.380Z"
   },
   {
    "duration": 22,
    "start_time": "2021-06-29T08:16:40.402Z"
   },
   {
    "duration": 91,
    "start_time": "2021-06-29T08:19:44.530Z"
   },
   {
    "duration": 9,
    "start_time": "2021-06-29T08:19:50.728Z"
   },
   {
    "duration": 8,
    "start_time": "2021-06-29T08:21:27.043Z"
   },
   {
    "duration": 299,
    "start_time": "2021-06-29T08:23:07.519Z"
   },
   {
    "duration": 683,
    "start_time": "2021-06-29T08:23:19.239Z"
   },
   {
    "duration": 5,
    "start_time": "2021-06-29T08:24:19.951Z"
   },
   {
    "duration": 29,
    "start_time": "2021-06-29T08:24:44.501Z"
   },
   {
    "duration": 21,
    "start_time": "2021-06-29T08:26:13.929Z"
   },
   {
    "duration": 17,
    "start_time": "2021-06-29T08:27:37.711Z"
   },
   {
    "duration": 5,
    "start_time": "2021-06-29T08:27:38.600Z"
   },
   {
    "duration": 16,
    "start_time": "2021-06-29T08:28:09.943Z"
   },
   {
    "duration": 5,
    "start_time": "2021-06-29T08:28:10.382Z"
   },
   {
    "duration": 19,
    "start_time": "2021-06-29T08:28:11.008Z"
   },
   {
    "duration": 23,
    "start_time": "2021-06-29T08:31:12.405Z"
   },
   {
    "duration": 6788,
    "start_time": "2021-06-29T08:31:16.217Z"
   },
   {
    "duration": -1335,
    "start_time": "2021-06-29T08:31:24.343Z"
   },
   {
    "duration": -1337,
    "start_time": "2021-06-29T08:31:24.346Z"
   },
   {
    "duration": -1338,
    "start_time": "2021-06-29T08:31:24.349Z"
   },
   {
    "duration": 6344,
    "start_time": "2021-06-29T08:31:35.948Z"
   },
   {
    "duration": 17,
    "start_time": "2021-06-29T08:31:48.666Z"
   },
   {
    "duration": 5,
    "start_time": "2021-06-29T08:31:49.125Z"
   },
   {
    "duration": 21,
    "start_time": "2021-06-29T08:31:49.621Z"
   },
   {
    "duration": 22,
    "start_time": "2021-06-29T08:32:27.847Z"
   },
   {
    "duration": 6699,
    "start_time": "2021-06-29T08:32:28.957Z"
   },
   {
    "duration": 1509,
    "start_time": "2021-06-29T08:32:51.334Z"
   },
   {
    "duration": 239,
    "start_time": "2021-06-29T08:32:52.846Z"
   },
   {
    "duration": 200,
    "start_time": "2021-06-29T08:32:53.088Z"
   },
   {
    "duration": 139,
    "start_time": "2021-06-29T08:32:53.291Z"
   },
   {
    "duration": 32,
    "start_time": "2021-06-29T08:32:53.433Z"
   },
   {
    "duration": 49,
    "start_time": "2021-06-29T08:32:53.467Z"
   },
   {
    "duration": 8,
    "start_time": "2021-06-29T08:32:53.519Z"
   },
   {
    "duration": 126,
    "start_time": "2021-06-29T08:32:53.530Z"
   },
   {
    "duration": 9,
    "start_time": "2021-06-29T08:32:53.660Z"
   },
   {
    "duration": 30,
    "start_time": "2021-06-29T08:32:53.672Z"
   },
   {
    "duration": 6,
    "start_time": "2021-06-29T08:32:53.705Z"
   },
   {
    "duration": 54,
    "start_time": "2021-06-29T08:32:53.714Z"
   },
   {
    "duration": 26,
    "start_time": "2021-06-29T09:05:27.557Z"
   },
   {
    "duration": 25,
    "start_time": "2021-06-29T09:07:29.156Z"
   },
   {
    "duration": 19,
    "start_time": "2021-06-29T09:07:30.006Z"
   },
   {
    "duration": 25,
    "start_time": "2021-06-29T09:08:22.403Z"
   },
   {
    "duration": 19,
    "start_time": "2021-06-29T09:08:22.925Z"
   },
   {
    "duration": 89,
    "start_time": "2021-06-29T09:08:32.258Z"
   },
   {
    "duration": 25,
    "start_time": "2021-06-29T09:08:36.984Z"
   },
   {
    "duration": 5,
    "start_time": "2021-06-29T09:08:52.914Z"
   },
   {
    "duration": 22,
    "start_time": "2021-06-29T09:09:35.002Z"
   },
   {
    "duration": 20,
    "start_time": "2021-06-29T09:09:46.884Z"
   },
   {
    "duration": 21,
    "start_time": "2021-06-29T09:14:31.256Z"
   },
   {
    "duration": 18,
    "start_time": "2021-06-29T09:14:57.386Z"
   },
   {
    "duration": 6,
    "start_time": "2021-06-29T09:16:11.363Z"
   },
   {
    "duration": 413,
    "start_time": "2021-06-29T09:17:54.954Z"
   },
   {
    "duration": 334,
    "start_time": "2021-06-29T09:18:03.391Z"
   },
   {
    "duration": 154,
    "start_time": "2021-06-29T09:18:13.764Z"
   },
   {
    "duration": 102,
    "start_time": "2021-06-29T09:19:09.519Z"
   },
   {
    "duration": 106,
    "start_time": "2021-06-29T09:19:53.614Z"
   },
   {
    "duration": 276,
    "start_time": "2021-06-29T09:20:10.617Z"
   },
   {
    "duration": 4,
    "start_time": "2021-06-29T09:20:51.291Z"
   },
   {
    "duration": 39,
    "start_time": "2021-06-29T09:20:55.131Z"
   },
   {
    "duration": 34,
    "start_time": "2021-06-29T09:22:04.581Z"
   },
   {
    "duration": 259,
    "start_time": "2021-06-29T09:22:36.023Z"
   },
   {
    "duration": 260,
    "start_time": "2021-06-29T09:22:43.170Z"
   },
   {
    "duration": 3116,
    "start_time": "2021-06-29T09:22:48.538Z"
   },
   {
    "duration": 10,
    "start_time": "2021-06-29T09:23:09.193Z"
   },
   {
    "duration": 79,
    "start_time": "2021-06-29T09:23:37.430Z"
   },
   {
    "duration": 513,
    "start_time": "2021-06-29T09:23:46.249Z"
   },
   {
    "duration": 6,
    "start_time": "2021-06-29T09:24:11.011Z"
   },
   {
    "duration": 494,
    "start_time": "2021-06-29T09:24:16.067Z"
   },
   {
    "duration": 31,
    "start_time": "2021-06-29T09:24:59.660Z"
   },
   {
    "duration": 1519,
    "start_time": "2021-06-29T09:25:10.117Z"
   },
   {
    "duration": 259,
    "start_time": "2021-06-29T09:25:11.639Z"
   },
   {
    "duration": 210,
    "start_time": "2021-06-29T09:25:11.902Z"
   },
   {
    "duration": 148,
    "start_time": "2021-06-29T09:25:12.115Z"
   },
   {
    "duration": 438,
    "start_time": "2021-06-29T09:25:12.265Z"
   },
   {
    "duration": -1321,
    "start_time": "2021-06-29T09:25:14.029Z"
   },
   {
    "duration": -1325,
    "start_time": "2021-06-29T09:25:14.035Z"
   },
   {
    "duration": -1328,
    "start_time": "2021-06-29T09:25:14.040Z"
   },
   {
    "duration": -1331,
    "start_time": "2021-06-29T09:25:14.045Z"
   },
   {
    "duration": -1332,
    "start_time": "2021-06-29T09:25:14.048Z"
   },
   {
    "duration": -1338,
    "start_time": "2021-06-29T09:25:14.056Z"
   },
   {
    "duration": -1340,
    "start_time": "2021-06-29T09:25:14.060Z"
   },
   {
    "duration": -1341,
    "start_time": "2021-06-29T09:25:14.064Z"
   },
   {
    "duration": -1341,
    "start_time": "2021-06-29T09:25:14.066Z"
   },
   {
    "duration": -1343,
    "start_time": "2021-06-29T09:25:14.070Z"
   },
   {
    "duration": -1343,
    "start_time": "2021-06-29T09:25:14.072Z"
   },
   {
    "duration": -1346,
    "start_time": "2021-06-29T09:25:14.077Z"
   },
   {
    "duration": -1346,
    "start_time": "2021-06-29T09:25:14.079Z"
   },
   {
    "duration": -1346,
    "start_time": "2021-06-29T09:25:14.082Z"
   },
   {
    "duration": -1348,
    "start_time": "2021-06-29T09:25:14.086Z"
   },
   {
    "duration": -1350,
    "start_time": "2021-06-29T09:25:14.090Z"
   },
   {
    "duration": -1351,
    "start_time": "2021-06-29T09:25:14.093Z"
   },
   {
    "duration": -1351,
    "start_time": "2021-06-29T09:25:14.095Z"
   },
   {
    "duration": -1345,
    "start_time": "2021-06-29T09:25:14.098Z"
   },
   {
    "duration": -1346,
    "start_time": "2021-06-29T09:25:14.101Z"
   },
   {
    "duration": -1347,
    "start_time": "2021-06-29T09:25:14.104Z"
   },
   {
    "duration": -1357,
    "start_time": "2021-06-29T09:25:14.117Z"
   },
   {
    "duration": -1358,
    "start_time": "2021-06-29T09:25:14.120Z"
   },
   {
    "duration": 1443,
    "start_time": "2021-06-29T09:25:31.998Z"
   },
   {
    "duration": 242,
    "start_time": "2021-06-29T09:25:33.444Z"
   },
   {
    "duration": 208,
    "start_time": "2021-06-29T09:25:33.689Z"
   },
   {
    "duration": 145,
    "start_time": "2021-06-29T09:25:33.900Z"
   },
   {
    "duration": 417,
    "start_time": "2021-06-29T09:25:34.047Z"
   },
   {
    "duration": -1394,
    "start_time": "2021-06-29T09:25:35.862Z"
   },
   {
    "duration": -1411,
    "start_time": "2021-06-29T09:25:35.880Z"
   },
   {
    "duration": -1432,
    "start_time": "2021-06-29T09:25:35.903Z"
   },
   {
    "duration": -1443,
    "start_time": "2021-06-29T09:25:35.915Z"
   },
   {
    "duration": -1460,
    "start_time": "2021-06-29T09:25:35.933Z"
   },
   {
    "duration": -1480,
    "start_time": "2021-06-29T09:25:35.954Z"
   },
   {
    "duration": -1483,
    "start_time": "2021-06-29T09:25:35.958Z"
   },
   {
    "duration": -1488,
    "start_time": "2021-06-29T09:25:35.964Z"
   },
   {
    "duration": -1492,
    "start_time": "2021-06-29T09:25:35.969Z"
   },
   {
    "duration": -1495,
    "start_time": "2021-06-29T09:25:35.973Z"
   },
   {
    "duration": -1499,
    "start_time": "2021-06-29T09:25:35.978Z"
   },
   {
    "duration": -1506,
    "start_time": "2021-06-29T09:25:35.986Z"
   },
   {
    "duration": -1509,
    "start_time": "2021-06-29T09:25:35.991Z"
   },
   {
    "duration": -1511,
    "start_time": "2021-06-29T09:25:35.994Z"
   },
   {
    "duration": -1513,
    "start_time": "2021-06-29T09:25:35.998Z"
   },
   {
    "duration": -1518,
    "start_time": "2021-06-29T09:25:36.004Z"
   },
   {
    "duration": -1520,
    "start_time": "2021-06-29T09:25:36.007Z"
   },
   {
    "duration": -1523,
    "start_time": "2021-06-29T09:25:36.011Z"
   },
   {
    "duration": -1524,
    "start_time": "2021-06-29T09:25:36.014Z"
   },
   {
    "duration": -1528,
    "start_time": "2021-06-29T09:25:36.019Z"
   },
   {
    "duration": -1530,
    "start_time": "2021-06-29T09:25:36.022Z"
   },
   {
    "duration": -1532,
    "start_time": "2021-06-29T09:25:36.025Z"
   },
   {
    "duration": -1533,
    "start_time": "2021-06-29T09:25:36.028Z"
   },
   {
    "duration": 1881,
    "start_time": "2021-06-29T09:25:47.570Z"
   },
   {
    "duration": 365,
    "start_time": "2021-06-29T09:25:49.456Z"
   },
   {
    "duration": 328,
    "start_time": "2021-06-29T09:25:49.826Z"
   },
   {
    "duration": 208,
    "start_time": "2021-06-29T09:25:50.158Z"
   },
   {
    "duration": 41,
    "start_time": "2021-06-29T09:25:50.369Z"
   },
   {
    "duration": 79,
    "start_time": "2021-06-29T09:25:50.413Z"
   },
   {
    "duration": 8,
    "start_time": "2021-06-29T09:25:50.494Z"
   },
   {
    "duration": 143,
    "start_time": "2021-06-29T09:25:50.504Z"
   },
   {
    "duration": 12,
    "start_time": "2021-06-29T09:25:50.656Z"
   },
   {
    "duration": 35,
    "start_time": "2021-06-29T09:25:50.673Z"
   },
   {
    "duration": 6,
    "start_time": "2021-06-29T09:25:50.712Z"
   },
   {
    "duration": 58,
    "start_time": "2021-06-29T09:25:50.721Z"
   },
   {
    "duration": 23,
    "start_time": "2021-06-29T09:25:50.783Z"
   },
   {
    "duration": 50,
    "start_time": "2021-06-29T09:25:50.809Z"
   },
   {
    "duration": 5,
    "start_time": "2021-06-29T09:25:50.861Z"
   },
   {
    "duration": 27,
    "start_time": "2021-06-29T09:25:50.869Z"
   },
   {
    "duration": 21,
    "start_time": "2021-06-29T09:25:50.899Z"
   },
   {
    "duration": 48,
    "start_time": "2021-06-29T09:25:50.922Z"
   },
   {
    "duration": 18,
    "start_time": "2021-06-29T09:25:50.972Z"
   },
   {
    "duration": 12,
    "start_time": "2021-06-29T09:25:50.992Z"
   },
   {
    "duration": 185,
    "start_time": "2021-06-29T09:25:51.006Z"
   },
   {
    "duration": 113,
    "start_time": "2021-06-29T09:25:51.194Z"
   },
   {
    "duration": 117,
    "start_time": "2021-06-29T09:25:51.310Z"
   },
   {
    "duration": 44,
    "start_time": "2021-06-29T09:25:51.429Z"
   },
   {
    "duration": 34,
    "start_time": "2021-06-29T09:25:51.476Z"
   },
   {
    "duration": 399,
    "start_time": "2021-06-29T09:25:51.512Z"
   },
   {
    "duration": -1295,
    "start_time": "2021-06-29T09:25:53.208Z"
   },
   {
    "duration": -1308,
    "start_time": "2021-06-29T09:25:53.223Z"
   },
   {
    "duration": 255,
    "start_time": "2021-06-29T09:26:03.554Z"
   },
   {
    "duration": 3343,
    "start_time": "2021-06-29T09:26:14.839Z"
   },
   {
    "duration": 9,
    "start_time": "2021-06-29T09:26:18.184Z"
   },
   {
    "duration": 6927,
    "start_time": "2021-06-29T09:26:18.196Z"
   },
   {
    "duration": 243,
    "start_time": "2021-06-29T09:28:24.977Z"
   },
   {
    "duration": 215,
    "start_time": "2021-06-29T09:28:33.408Z"
   },
   {
    "duration": 144,
    "start_time": "2021-06-29T09:28:40.614Z"
   },
   {
    "duration": 30,
    "start_time": "2021-06-29T09:28:44.193Z"
   },
   {
    "duration": 66,
    "start_time": "2021-06-29T09:28:52.228Z"
   },
   {
    "duration": 8,
    "start_time": "2021-06-29T09:28:56.324Z"
   },
   {
    "duration": 92,
    "start_time": "2021-06-29T09:29:23.670Z"
   },
   {
    "duration": 300,
    "start_time": "2021-06-29T09:29:32.488Z"
   },
   {
    "duration": 11,
    "start_time": "2021-06-29T09:29:47.543Z"
   },
   {
    "duration": 19,
    "start_time": "2021-06-29T09:29:54.693Z"
   },
   {
    "duration": 8,
    "start_time": "2021-06-29T09:29:59.199Z"
   },
   {
    "duration": 6,
    "start_time": "2021-06-29T09:30:04.887Z"
   },
   {
    "duration": 21,
    "start_time": "2021-06-29T09:30:07.547Z"
   },
   {
    "duration": 5,
    "start_time": "2021-06-29T09:30:08.128Z"
   },
   {
    "duration": 27,
    "start_time": "2021-06-29T09:30:17.574Z"
   },
   {
    "duration": 20,
    "start_time": "2021-06-29T09:30:18.396Z"
   },
   {
    "duration": 26,
    "start_time": "2021-06-29T09:30:26.924Z"
   },
   {
    "duration": 5,
    "start_time": "2021-06-29T09:30:33.079Z"
   },
   {
    "duration": 18,
    "start_time": "2021-06-29T09:30:38.004Z"
   },
   {
    "duration": 21,
    "start_time": "2021-06-29T09:30:41.206Z"
   },
   {
    "duration": 15,
    "start_time": "2021-06-29T09:30:48.221Z"
   },
   {
    "duration": 22,
    "start_time": "2021-06-29T09:30:49.674Z"
   },
   {
    "duration": 18,
    "start_time": "2021-06-29T09:30:50.173Z"
   },
   {
    "duration": 6,
    "start_time": "2021-06-29T09:31:02.047Z"
   },
   {
    "duration": 158,
    "start_time": "2021-06-29T09:31:10.975Z"
   },
   {
    "duration": 102,
    "start_time": "2021-06-29T09:31:18.152Z"
   },
   {
    "duration": 92,
    "start_time": "2021-06-29T09:31:23.858Z"
   },
   {
    "duration": 38,
    "start_time": "2021-06-29T09:31:26.801Z"
   },
   {
    "duration": 35,
    "start_time": "2021-06-29T09:31:31.178Z"
   },
   {
    "duration": 3186,
    "start_time": "2021-06-29T09:31:32.294Z"
   },
   {
    "duration": 11,
    "start_time": "2021-06-29T09:31:35.483Z"
   },
   {
    "duration": 6383,
    "start_time": "2021-06-29T09:31:35.497Z"
   },
   {
    "duration": 1450,
    "start_time": "2021-06-29T09:31:53.788Z"
   },
   {
    "duration": 245,
    "start_time": "2021-06-29T09:31:55.241Z"
   },
   {
    "duration": 203,
    "start_time": "2021-06-29T09:31:55.489Z"
   },
   {
    "duration": 140,
    "start_time": "2021-06-29T09:31:55.695Z"
   },
   {
    "duration": 29,
    "start_time": "2021-06-29T09:31:55.838Z"
   },
   {
    "duration": 59,
    "start_time": "2021-06-29T09:31:55.869Z"
   },
   {
    "duration": 8,
    "start_time": "2021-06-29T09:31:55.930Z"
   },
   {
    "duration": 113,
    "start_time": "2021-06-29T09:31:55.942Z"
   },
   {
    "duration": 9,
    "start_time": "2021-06-29T09:31:56.058Z"
   },
   {
    "duration": 27,
    "start_time": "2021-06-29T09:31:56.070Z"
   },
   {
    "duration": 7,
    "start_time": "2021-06-29T09:31:56.100Z"
   },
   {
    "duration": 61,
    "start_time": "2021-06-29T09:31:56.110Z"
   },
   {
    "duration": 20,
    "start_time": "2021-06-29T09:31:56.173Z"
   },
   {
    "duration": 28,
    "start_time": "2021-06-29T09:31:56.195Z"
   },
   {
    "duration": 5,
    "start_time": "2021-06-29T09:31:56.225Z"
   },
   {
    "duration": 20,
    "start_time": "2021-06-29T09:31:56.255Z"
   },
   {
    "duration": 20,
    "start_time": "2021-06-29T09:31:56.277Z"
   },
   {
    "duration": 26,
    "start_time": "2021-06-29T09:31:56.299Z"
   },
   {
    "duration": 41,
    "start_time": "2021-06-29T09:31:56.327Z"
   },
   {
    "duration": 8,
    "start_time": "2021-06-29T09:31:56.371Z"
   },
   {
    "duration": 183,
    "start_time": "2021-06-29T09:31:56.381Z"
   },
   {
    "duration": 116,
    "start_time": "2021-06-29T09:31:56.567Z"
   },
   {
    "duration": 116,
    "start_time": "2021-06-29T09:31:56.688Z"
   },
   {
    "duration": 36,
    "start_time": "2021-06-29T09:31:56.806Z"
   },
   {
    "duration": 42,
    "start_time": "2021-06-29T09:31:56.844Z"
   },
   {
    "duration": 384,
    "start_time": "2021-06-29T09:31:56.889Z"
   },
   {
    "duration": -1291,
    "start_time": "2021-06-29T09:31:58.567Z"
   },
   {
    "duration": -1298,
    "start_time": "2021-06-29T09:31:58.575Z"
   },
   {
    "duration": 3216,
    "start_time": "2021-06-29T09:32:07.590Z"
   },
   {
    "duration": 9,
    "start_time": "2021-06-29T09:32:12.687Z"
   },
   {
    "duration": 7117,
    "start_time": "2021-06-29T09:32:13.599Z"
   },
   {
    "duration": 1482,
    "start_time": "2021-06-29T09:32:27.655Z"
   },
   {
    "duration": 244,
    "start_time": "2021-06-29T09:32:29.140Z"
   },
   {
    "duration": 221,
    "start_time": "2021-06-29T09:32:29.387Z"
   },
   {
    "duration": 201,
    "start_time": "2021-06-29T09:32:29.612Z"
   },
   {
    "duration": 40,
    "start_time": "2021-06-29T09:32:29.816Z"
   },
   {
    "duration": 60,
    "start_time": "2021-06-29T09:32:29.858Z"
   },
   {
    "duration": 9,
    "start_time": "2021-06-29T09:32:29.920Z"
   },
   {
    "duration": 111,
    "start_time": "2021-06-29T09:32:29.933Z"
   },
   {
    "duration": 9,
    "start_time": "2021-06-29T09:32:30.047Z"
   },
   {
    "duration": 52,
    "start_time": "2021-06-29T09:32:30.058Z"
   },
   {
    "duration": 7,
    "start_time": "2021-06-29T09:32:30.113Z"
   },
   {
    "duration": 46,
    "start_time": "2021-06-29T09:32:30.122Z"
   },
   {
    "duration": 28,
    "start_time": "2021-06-29T09:32:30.171Z"
   },
   {
    "duration": 39,
    "start_time": "2021-06-29T09:32:30.201Z"
   },
   {
    "duration": 14,
    "start_time": "2021-06-29T09:32:30.242Z"
   },
   {
    "duration": 50,
    "start_time": "2021-06-29T09:32:30.258Z"
   },
   {
    "duration": 22,
    "start_time": "2021-06-29T09:32:30.311Z"
   },
   {
    "duration": 56,
    "start_time": "2021-06-29T09:32:30.335Z"
   },
   {
    "duration": 41,
    "start_time": "2021-06-29T09:32:30.393Z"
   },
   {
    "duration": 47,
    "start_time": "2021-06-29T09:32:30.437Z"
   },
   {
    "duration": 210,
    "start_time": "2021-06-29T09:32:30.486Z"
   },
   {
    "duration": 118,
    "start_time": "2021-06-29T09:32:30.699Z"
   },
   {
    "duration": 124,
    "start_time": "2021-06-29T09:32:30.821Z"
   },
   {
    "duration": 41,
    "start_time": "2021-06-29T09:32:30.948Z"
   },
   {
    "duration": 35,
    "start_time": "2021-06-29T09:32:30.992Z"
   },
   {
    "duration": 423,
    "start_time": "2021-06-29T09:32:31.029Z"
   },
   {
    "duration": -1304,
    "start_time": "2021-06-29T09:32:32.759Z"
   },
   {
    "duration": -1317,
    "start_time": "2021-06-29T09:32:32.773Z"
   },
   {
    "duration": 3179,
    "start_time": "2021-06-29T09:32:42.538Z"
   },
   {
    "duration": 9,
    "start_time": "2021-06-29T09:32:45.720Z"
   },
   {
    "duration": 6534,
    "start_time": "2021-06-29T09:32:47.825Z"
   },
   {
    "duration": 1557,
    "start_time": "2021-06-29T09:33:01.854Z"
   },
   {
    "duration": 254,
    "start_time": "2021-06-29T09:33:03.414Z"
   },
   {
    "duration": 206,
    "start_time": "2021-06-29T09:33:03.671Z"
   },
   {
    "duration": 151,
    "start_time": "2021-06-29T09:33:03.880Z"
   },
   {
    "duration": 33,
    "start_time": "2021-06-29T09:33:04.033Z"
   },
   {
    "duration": 72,
    "start_time": "2021-06-29T09:33:04.068Z"
   },
   {
    "duration": 9,
    "start_time": "2021-06-29T09:33:04.142Z"
   },
   {
    "duration": 133,
    "start_time": "2021-06-29T09:33:04.153Z"
   },
   {
    "duration": 10,
    "start_time": "2021-06-29T09:33:04.290Z"
   },
   {
    "duration": 35,
    "start_time": "2021-06-29T09:33:04.304Z"
   },
   {
    "duration": 12,
    "start_time": "2021-06-29T09:33:04.342Z"
   },
   {
    "duration": 41,
    "start_time": "2021-06-29T09:33:04.357Z"
   },
   {
    "duration": 21,
    "start_time": "2021-06-29T09:33:04.401Z"
   },
   {
    "duration": 49,
    "start_time": "2021-06-29T09:33:04.424Z"
   },
   {
    "duration": 4,
    "start_time": "2021-06-29T09:33:04.476Z"
   },
   {
    "duration": 43,
    "start_time": "2021-06-29T09:33:04.483Z"
   },
   {
    "duration": 39,
    "start_time": "2021-06-29T09:33:04.529Z"
   },
   {
    "duration": 40,
    "start_time": "2021-06-29T09:33:04.571Z"
   },
   {
    "duration": 29,
    "start_time": "2021-06-29T09:33:04.614Z"
   },
   {
    "duration": 55,
    "start_time": "2021-06-29T09:33:04.647Z"
   },
   {
    "duration": 186,
    "start_time": "2021-06-29T09:33:04.705Z"
   },
   {
    "duration": 117,
    "start_time": "2021-06-29T09:33:04.894Z"
   },
   {
    "duration": 126,
    "start_time": "2021-06-29T09:33:05.014Z"
   },
   {
    "duration": 41,
    "start_time": "2021-06-29T09:33:05.143Z"
   },
   {
    "duration": 34,
    "start_time": "2021-06-29T09:33:05.187Z"
   },
   {
    "duration": 3239,
    "start_time": "2021-06-29T09:33:05.224Z"
   },
   {
    "duration": 9,
    "start_time": "2021-06-29T09:33:08.468Z"
   },
   {
    "duration": 6779,
    "start_time": "2021-06-29T09:33:08.480Z"
   },
   {
    "duration": 7417,
    "start_time": "2021-06-29T09:34:25.375Z"
   },
   {
    "duration": 249,
    "start_time": "2021-06-29T09:34:43.665Z"
   },
   {
    "duration": 255,
    "start_time": "2021-06-29T09:34:52.374Z"
   },
   {
    "duration": 7866,
    "start_time": "2021-06-29T09:35:04.096Z"
   },
   {
    "duration": 6901,
    "start_time": "2021-06-29T09:35:47.283Z"
   },
   {
    "duration": 10,
    "start_time": "2021-06-29T09:37:24.218Z"
   },
   {
    "duration": 1267,
    "start_time": "2021-06-29T09:37:25.132Z"
   },
   {
    "duration": 29,
    "start_time": "2021-06-29T09:37:50.355Z"
   },
   {
    "duration": 4,
    "start_time": "2021-06-29T09:40:14.292Z"
   },
   {
    "duration": 1417,
    "start_time": "2021-06-29T09:40:20.902Z"
   },
   {
    "duration": 235,
    "start_time": "2021-06-29T09:40:22.322Z"
   },
   {
    "duration": 204,
    "start_time": "2021-06-29T09:40:22.560Z"
   },
   {
    "duration": 142,
    "start_time": "2021-06-29T09:40:22.767Z"
   },
   {
    "duration": 31,
    "start_time": "2021-06-29T09:40:22.912Z"
   },
   {
    "duration": 58,
    "start_time": "2021-06-29T09:40:22.946Z"
   },
   {
    "duration": 8,
    "start_time": "2021-06-29T09:40:23.007Z"
   },
   {
    "duration": 107,
    "start_time": "2021-06-29T09:40:23.019Z"
   },
   {
    "duration": 10,
    "start_time": "2021-06-29T09:40:23.128Z"
   },
   {
    "duration": 40,
    "start_time": "2021-06-29T09:40:23.140Z"
   },
   {
    "duration": 5,
    "start_time": "2021-06-29T09:40:23.182Z"
   },
   {
    "duration": 26,
    "start_time": "2021-06-29T09:40:23.190Z"
   },
   {
    "duration": 49,
    "start_time": "2021-06-29T09:40:23.219Z"
   },
   {
    "duration": 24,
    "start_time": "2021-06-29T09:40:23.271Z"
   },
   {
    "duration": 4,
    "start_time": "2021-06-29T09:40:23.298Z"
   },
   {
    "duration": 51,
    "start_time": "2021-06-29T09:40:23.304Z"
   },
   {
    "duration": 20,
    "start_time": "2021-06-29T09:40:23.357Z"
   },
   {
    "duration": 22,
    "start_time": "2021-06-29T09:40:23.379Z"
   },
   {
    "duration": 16,
    "start_time": "2021-06-29T09:40:23.404Z"
   },
   {
    "duration": 36,
    "start_time": "2021-06-29T09:40:23.422Z"
   },
   {
    "duration": 175,
    "start_time": "2021-06-29T09:40:23.460Z"
   },
   {
    "duration": 128,
    "start_time": "2021-06-29T09:40:23.637Z"
   },
   {
    "duration": 124,
    "start_time": "2021-06-29T09:40:23.769Z"
   },
   {
    "duration": 35,
    "start_time": "2021-06-29T09:40:23.896Z"
   },
   {
    "duration": 37,
    "start_time": "2021-06-29T09:40:23.933Z"
   },
   {
    "duration": 3431,
    "start_time": "2021-06-29T09:40:23.973Z"
   },
   {
    "duration": 10,
    "start_time": "2021-06-29T09:40:27.406Z"
   },
   {
    "duration": 1105,
    "start_time": "2021-06-29T09:40:27.418Z"
   },
   {
    "duration": 39,
    "start_time": "2021-06-29T09:40:28.525Z"
   },
   {
    "duration": 484,
    "start_time": "2021-06-29T09:41:22.137Z"
   },
   {
    "duration": 245,
    "start_time": "2021-06-29T09:41:41.941Z"
   },
   {
    "duration": 7324,
    "start_time": "2021-06-29T09:41:50.198Z"
   },
   {
    "duration": 7870,
    "start_time": "2021-06-29T09:42:12.814Z"
   },
   {
    "duration": 7824,
    "start_time": "2021-06-29T09:43:40.884Z"
   },
   {
    "duration": 7,
    "start_time": "2021-06-29T09:44:25.910Z"
   },
   {
    "duration": 7030,
    "start_time": "2021-06-29T09:44:31.444Z"
   },
   {
    "duration": 7166,
    "start_time": "2021-06-29T09:47:12.817Z"
   },
   {
    "duration": 11,
    "start_time": "2021-06-29T09:47:21.637Z"
   },
   {
    "duration": 1107,
    "start_time": "2021-06-29T09:47:24.551Z"
   },
   {
    "duration": 58,
    "start_time": "2021-06-29T09:47:27.643Z"
   },
   {
    "duration": 29,
    "start_time": "2021-06-29T09:47:33.529Z"
   },
   {
    "duration": 1123,
    "start_time": "2021-06-29T09:47:42.709Z"
   },
   {
    "duration": 30,
    "start_time": "2021-06-29T09:47:48.342Z"
   },
   {
    "duration": 1445,
    "start_time": "2021-06-29T09:47:59.910Z"
   },
   {
    "duration": 268,
    "start_time": "2021-06-29T09:48:01.358Z"
   },
   {
    "duration": 225,
    "start_time": "2021-06-29T09:48:01.630Z"
   },
   {
    "duration": 148,
    "start_time": "2021-06-29T09:48:01.858Z"
   },
   {
    "duration": 34,
    "start_time": "2021-06-29T09:48:02.009Z"
   },
   {
    "duration": 83,
    "start_time": "2021-06-29T09:48:02.053Z"
   },
   {
    "duration": 9,
    "start_time": "2021-06-29T09:48:02.138Z"
   },
   {
    "duration": 141,
    "start_time": "2021-06-29T09:48:02.149Z"
   },
   {
    "duration": 10,
    "start_time": "2021-06-29T09:48:02.294Z"
   },
   {
    "duration": 42,
    "start_time": "2021-06-29T09:48:02.307Z"
   },
   {
    "duration": 19,
    "start_time": "2021-06-29T09:48:02.352Z"
   },
   {
    "duration": 46,
    "start_time": "2021-06-29T09:48:02.374Z"
   },
   {
    "duration": 24,
    "start_time": "2021-06-29T09:48:02.423Z"
   },
   {
    "duration": 41,
    "start_time": "2021-06-29T09:48:02.449Z"
   },
   {
    "duration": 8,
    "start_time": "2021-06-29T09:48:02.493Z"
   },
   {
    "duration": 41,
    "start_time": "2021-06-29T09:48:02.503Z"
   },
   {
    "duration": 26,
    "start_time": "2021-06-29T09:48:02.547Z"
   },
   {
    "duration": 41,
    "start_time": "2021-06-29T09:48:02.576Z"
   },
   {
    "duration": 21,
    "start_time": "2021-06-29T09:48:02.619Z"
   },
   {
    "duration": 26,
    "start_time": "2021-06-29T09:48:02.643Z"
   },
   {
    "duration": 176,
    "start_time": "2021-06-29T09:48:02.671Z"
   },
   {
    "duration": 118,
    "start_time": "2021-06-29T09:48:02.850Z"
   },
   {
    "duration": 122,
    "start_time": "2021-06-29T09:48:02.971Z"
   },
   {
    "duration": 39,
    "start_time": "2021-06-29T09:48:03.096Z"
   },
   {
    "duration": 50,
    "start_time": "2021-06-29T09:48:03.137Z"
   },
   {
    "duration": 3214,
    "start_time": "2021-06-29T09:48:03.190Z"
   },
   {
    "duration": 9,
    "start_time": "2021-06-29T09:48:06.408Z"
   },
   {
    "duration": 1061,
    "start_time": "2021-06-29T09:48:06.420Z"
   },
   {
    "duration": 28,
    "start_time": "2021-06-29T09:48:07.483Z"
   },
   {
    "duration": 95,
    "start_time": "2021-06-29T11:00:37.118Z"
   },
   {
    "duration": 1447,
    "start_time": "2021-06-29T11:00:44.963Z"
   },
   {
    "duration": 248,
    "start_time": "2021-06-29T11:00:46.413Z"
   },
   {
    "duration": 205,
    "start_time": "2021-06-29T11:00:46.664Z"
   },
   {
    "duration": 142,
    "start_time": "2021-06-29T11:00:46.872Z"
   },
   {
    "duration": 37,
    "start_time": "2021-06-29T11:00:47.017Z"
   },
   {
    "duration": 60,
    "start_time": "2021-06-29T11:00:47.056Z"
   },
   {
    "duration": 9,
    "start_time": "2021-06-29T11:00:47.119Z"
   },
   {
    "duration": 102,
    "start_time": "2021-06-29T11:00:47.132Z"
   },
   {
    "duration": 17,
    "start_time": "2021-06-29T11:00:47.237Z"
   },
   {
    "duration": 27,
    "start_time": "2021-06-29T11:00:47.257Z"
   },
   {
    "duration": 5,
    "start_time": "2021-06-29T11:00:47.287Z"
   },
   {
    "duration": 31,
    "start_time": "2021-06-29T11:00:47.295Z"
   },
   {
    "duration": 44,
    "start_time": "2021-06-29T11:00:47.329Z"
   },
   {
    "duration": 26,
    "start_time": "2021-06-29T11:00:47.376Z"
   },
   {
    "duration": 4,
    "start_time": "2021-06-29T11:00:47.405Z"
   },
   {
    "duration": 50,
    "start_time": "2021-06-29T11:00:47.411Z"
   },
   {
    "duration": 21,
    "start_time": "2021-06-29T11:00:47.464Z"
   },
   {
    "duration": 24,
    "start_time": "2021-06-29T11:00:47.488Z"
   },
   {
    "duration": 46,
    "start_time": "2021-06-29T11:00:47.515Z"
   },
   {
    "duration": 7,
    "start_time": "2021-06-29T11:00:47.564Z"
   },
   {
    "duration": 176,
    "start_time": "2021-06-29T11:00:47.573Z"
   },
   {
    "duration": 117,
    "start_time": "2021-06-29T11:00:47.754Z"
   },
   {
    "duration": 116,
    "start_time": "2021-06-29T11:00:47.876Z"
   },
   {
    "duration": 38,
    "start_time": "2021-06-29T11:00:47.995Z"
   },
   {
    "duration": 51,
    "start_time": "2021-06-29T11:00:48.036Z"
   },
   {
    "duration": 3145,
    "start_time": "2021-06-29T11:00:48.090Z"
   },
   {
    "duration": 9,
    "start_time": "2021-06-29T11:00:51.238Z"
   },
   {
    "duration": 1069,
    "start_time": "2021-06-29T11:00:51.254Z"
   },
   {
    "duration": 39,
    "start_time": "2021-06-29T11:00:52.325Z"
   },
   {
    "duration": 109,
    "start_time": "2021-06-29T11:00:52.367Z"
   },
   {
    "duration": 108,
    "start_time": "2021-06-29T11:01:04.206Z"
   },
   {
    "duration": 96,
    "start_time": "2021-06-29T11:01:15.002Z"
   },
   {
    "duration": 81,
    "start_time": "2021-06-29T11:01:37.789Z"
   },
   {
    "duration": 51,
    "start_time": "2021-06-29T11:01:41.298Z"
   },
   {
    "duration": 410,
    "start_time": "2021-06-29T11:03:17.934Z"
   },
   {
    "duration": 1521,
    "start_time": "2021-06-29T11:03:53.414Z"
   },
   {
    "duration": 256,
    "start_time": "2021-06-29T11:03:54.937Z"
   },
   {
    "duration": 208,
    "start_time": "2021-06-29T11:03:55.195Z"
   },
   {
    "duration": 152,
    "start_time": "2021-06-29T11:03:55.405Z"
   },
   {
    "duration": 31,
    "start_time": "2021-06-29T11:03:55.559Z"
   },
   {
    "duration": 50,
    "start_time": "2021-06-29T11:03:55.593Z"
   },
   {
    "duration": 14,
    "start_time": "2021-06-29T11:03:55.645Z"
   },
   {
    "duration": 118,
    "start_time": "2021-06-29T11:03:55.663Z"
   },
   {
    "duration": 9,
    "start_time": "2021-06-29T11:03:55.784Z"
   },
   {
    "duration": 37,
    "start_time": "2021-06-29T11:03:55.796Z"
   },
   {
    "duration": 5,
    "start_time": "2021-06-29T11:03:55.836Z"
   },
   {
    "duration": 41,
    "start_time": "2021-06-29T11:03:55.843Z"
   },
   {
    "duration": 21,
    "start_time": "2021-06-29T11:03:55.887Z"
   },
   {
    "duration": 51,
    "start_time": "2021-06-29T11:03:55.910Z"
   },
   {
    "duration": 5,
    "start_time": "2021-06-29T11:03:55.963Z"
   },
   {
    "duration": 29,
    "start_time": "2021-06-29T11:03:55.970Z"
   },
   {
    "duration": 18,
    "start_time": "2021-06-29T11:03:56.002Z"
   },
   {
    "duration": 47,
    "start_time": "2021-06-29T11:03:56.022Z"
   },
   {
    "duration": 17,
    "start_time": "2021-06-29T11:03:56.071Z"
   },
   {
    "duration": 22,
    "start_time": "2021-06-29T11:03:56.090Z"
   },
   {
    "duration": 180,
    "start_time": "2021-06-29T11:03:56.114Z"
   },
   {
    "duration": 117,
    "start_time": "2021-06-29T11:03:56.296Z"
   },
   {
    "duration": 118,
    "start_time": "2021-06-29T11:03:56.417Z"
   },
   {
    "duration": 42,
    "start_time": "2021-06-29T11:03:56.538Z"
   },
   {
    "duration": 35,
    "start_time": "2021-06-29T11:03:56.582Z"
   },
   {
    "duration": 3159,
    "start_time": "2021-06-29T11:03:56.619Z"
   },
   {
    "duration": 10,
    "start_time": "2021-06-29T11:03:59.780Z"
   },
   {
    "duration": 1098,
    "start_time": "2021-06-29T11:03:59.793Z"
   },
   {
    "duration": 29,
    "start_time": "2021-06-29T11:04:00.894Z"
   },
   {
    "duration": 465,
    "start_time": "2021-06-29T11:04:00.925Z"
   },
   {
    "duration": 38,
    "start_time": "2021-06-29T11:09:09.095Z"
   },
   {
    "duration": 1378,
    "start_time": "2021-06-29T11:09:16.192Z"
   },
   {
    "duration": 245,
    "start_time": "2021-06-29T11:09:17.572Z"
   },
   {
    "duration": 210,
    "start_time": "2021-06-29T11:09:17.820Z"
   },
   {
    "duration": 146,
    "start_time": "2021-06-29T11:09:18.033Z"
   },
   {
    "duration": 32,
    "start_time": "2021-06-29T11:09:18.181Z"
   },
   {
    "duration": 59,
    "start_time": "2021-06-29T11:09:18.215Z"
   },
   {
    "duration": 8,
    "start_time": "2021-06-29T11:09:18.276Z"
   },
   {
    "duration": 122,
    "start_time": "2021-06-29T11:09:18.288Z"
   },
   {
    "duration": 9,
    "start_time": "2021-06-29T11:09:18.414Z"
   },
   {
    "duration": 40,
    "start_time": "2021-06-29T11:09:18.426Z"
   },
   {
    "duration": 6,
    "start_time": "2021-06-29T11:09:18.468Z"
   },
   {
    "duration": 40,
    "start_time": "2021-06-29T11:09:18.477Z"
   },
   {
    "duration": 20,
    "start_time": "2021-06-29T11:09:18.520Z"
   },
   {
    "duration": 24,
    "start_time": "2021-06-29T11:09:18.556Z"
   },
   {
    "duration": 5,
    "start_time": "2021-06-29T11:09:18.583Z"
   },
   {
    "duration": 27,
    "start_time": "2021-06-29T11:09:18.591Z"
   },
   {
    "duration": 48,
    "start_time": "2021-06-29T11:09:18.621Z"
   },
   {
    "duration": 24,
    "start_time": "2021-06-29T11:09:18.672Z"
   },
   {
    "duration": 18,
    "start_time": "2021-06-29T11:09:18.698Z"
   },
   {
    "duration": 36,
    "start_time": "2021-06-29T11:09:18.718Z"
   },
   {
    "duration": 177,
    "start_time": "2021-06-29T11:09:18.757Z"
   },
   {
    "duration": 123,
    "start_time": "2021-06-29T11:09:18.937Z"
   },
   {
    "duration": 122,
    "start_time": "2021-06-29T11:09:19.064Z"
   },
   {
    "duration": 37,
    "start_time": "2021-06-29T11:09:19.189Z"
   },
   {
    "duration": 49,
    "start_time": "2021-06-29T11:09:19.228Z"
   },
   {
    "duration": 3221,
    "start_time": "2021-06-29T11:09:19.279Z"
   },
   {
    "duration": 10,
    "start_time": "2021-06-29T11:09:22.502Z"
   },
   {
    "duration": 1067,
    "start_time": "2021-06-29T11:09:22.514Z"
   },
   {
    "duration": 29,
    "start_time": "2021-06-29T11:09:23.584Z"
   },
   {
    "duration": 381,
    "start_time": "2021-06-29T11:09:23.615Z"
   },
   {
    "duration": 28,
    "start_time": "2021-06-29T11:10:20.512Z"
   },
   {
    "duration": 12,
    "start_time": "2021-06-29T11:11:51.818Z"
   },
   {
    "duration": 243,
    "start_time": "2021-06-29T11:14:07.133Z"
   },
   {
    "duration": 8,
    "start_time": "2021-06-29T11:14:13.717Z"
   },
   {
    "duration": 27,
    "start_time": "2021-06-29T11:14:15.574Z"
   },
   {
    "duration": 12,
    "start_time": "2021-06-29T11:14:19.508Z"
   },
   {
    "duration": 302,
    "start_time": "2021-06-29T11:14:35.890Z"
   },
   {
    "duration": 21,
    "start_time": "2021-06-29T11:14:48.431Z"
   },
   {
    "duration": 13,
    "start_time": "2021-06-29T11:15:05.800Z"
   },
   {
    "duration": 12,
    "start_time": "2021-06-29T11:15:53.914Z"
   },
   {
    "duration": 18,
    "start_time": "2021-06-29T11:16:25.488Z"
   },
   {
    "duration": 12,
    "start_time": "2021-06-29T11:16:35.862Z"
   },
   {
    "duration": 11,
    "start_time": "2021-06-29T11:17:59.952Z"
   },
   {
    "duration": 88,
    "start_time": "2021-06-29T11:19:19.050Z"
   },
   {
    "duration": 6,
    "start_time": "2021-06-29T11:19:59.930Z"
   },
   {
    "duration": 10,
    "start_time": "2021-06-29T11:20:01.669Z"
   },
   {
    "duration": 486,
    "start_time": "2021-06-29T11:21:40.829Z"
   },
   {
    "duration": 93,
    "start_time": "2021-06-29T11:22:08.518Z"
   },
   {
    "duration": 475,
    "start_time": "2021-06-29T11:22:22.332Z"
   },
   {
    "duration": 80,
    "start_time": "2021-06-29T11:23:35.871Z"
   },
   {
    "duration": 455,
    "start_time": "2021-06-29T11:23:43.777Z"
   },
   {
    "duration": 266,
    "start_time": "2021-06-29T11:28:02.624Z"
   },
   {
    "duration": 271,
    "start_time": "2021-06-29T11:28:14.431Z"
   },
   {
    "duration": 259,
    "start_time": "2021-06-29T11:28:31.354Z"
   },
   {
    "duration": 20,
    "start_time": "2021-06-29T11:28:37.895Z"
   },
   {
    "duration": 5,
    "start_time": "2021-06-29T11:29:00.028Z"
   },
   {
    "duration": 18,
    "start_time": "2021-06-29T11:29:23.498Z"
   },
   {
    "duration": 4,
    "start_time": "2021-06-29T11:29:23.958Z"
   },
   {
    "duration": 12,
    "start_time": "2021-06-29T11:29:24.419Z"
   },
   {
    "duration": 438,
    "start_time": "2021-06-29T11:29:50.648Z"
   },
   {
    "duration": 432,
    "start_time": "2021-06-29T11:31:20.059Z"
   },
   {
    "duration": 260,
    "start_time": "2021-06-29T11:35:12.396Z"
   },
   {
    "duration": 21,
    "start_time": "2021-06-29T11:35:30.921Z"
   },
   {
    "duration": 13,
    "start_time": "2021-06-29T11:36:55.196Z"
   },
   {
    "duration": 13,
    "start_time": "2021-06-29T11:37:35.301Z"
   },
   {
    "duration": 12,
    "start_time": "2021-06-29T11:38:01.878Z"
   },
   {
    "duration": 6,
    "start_time": "2021-06-29T11:39:02.115Z"
   },
   {
    "duration": 6319,
    "start_time": "2021-06-29T11:39:33.309Z"
   },
   {
    "duration": 5,
    "start_time": "2021-06-29T11:39:42.420Z"
   },
   {
    "duration": 5,
    "start_time": "2021-06-29T11:40:05.945Z"
   },
   {
    "duration": 268,
    "start_time": "2021-06-29T11:41:46.632Z"
   },
   {
    "duration": 5,
    "start_time": "2021-06-29T11:42:07.275Z"
   },
   {
    "duration": 241,
    "start_time": "2021-06-29T11:43:30.851Z"
   },
   {
    "duration": 329,
    "start_time": "2021-06-29T11:43:46.928Z"
   },
   {
    "duration": 19,
    "start_time": "2021-06-29T11:44:00.269Z"
   },
   {
    "duration": 247,
    "start_time": "2021-06-29T11:45:35.171Z"
   },
   {
    "duration": 20,
    "start_time": "2021-06-29T11:45:42.104Z"
   },
   {
    "duration": 5,
    "start_time": "2021-06-29T11:46:02.789Z"
   },
   {
    "duration": 9,
    "start_time": "2021-06-29T11:47:12.602Z"
   },
   {
    "duration": 11,
    "start_time": "2021-06-29T11:47:20.970Z"
   },
   {
    "duration": 12,
    "start_time": "2021-06-29T11:47:32.000Z"
   },
   {
    "duration": 22,
    "start_time": "2021-06-29T11:47:56.477Z"
   },
   {
    "duration": 10,
    "start_time": "2021-06-29T11:48:24.823Z"
   },
   {
    "duration": 20,
    "start_time": "2021-06-29T11:49:40.117Z"
   },
   {
    "duration": 18,
    "start_time": "2021-06-29T11:49:40.892Z"
   },
   {
    "duration": 5,
    "start_time": "2021-06-29T11:49:41.203Z"
   },
   {
    "duration": 955,
    "start_time": "2021-06-29T11:49:43.247Z"
   },
   {
    "duration": -1326,
    "start_time": "2021-06-29T11:49:45.530Z"
   },
   {
    "duration": 10,
    "start_time": "2021-06-29T11:49:44.308Z"
   },
   {
    "duration": 10,
    "start_time": "2021-06-29T11:49:45.294Z"
   },
   {
    "duration": 37,
    "start_time": "2021-06-29T11:49:46.023Z"
   },
   {
    "duration": 1008,
    "start_time": "2021-06-29T11:49:59.569Z"
   },
   {
    "duration": 19,
    "start_time": "2021-06-29T11:50:22.621Z"
   },
   {
    "duration": 21,
    "start_time": "2021-06-29T11:50:23.171Z"
   },
   {
    "duration": 5,
    "start_time": "2021-06-29T11:50:23.785Z"
   },
   {
    "duration": 1033,
    "start_time": "2021-06-29T11:50:25.669Z"
   },
   {
    "duration": 5,
    "start_time": "2021-06-29T11:54:31.588Z"
   },
   {
    "duration": 960,
    "start_time": "2021-06-29T11:54:36.177Z"
   },
   {
    "duration": 1026,
    "start_time": "2021-06-29T11:55:01.105Z"
   },
   {
    "duration": 10,
    "start_time": "2021-06-29T11:55:33.224Z"
   },
   {
    "duration": 9,
    "start_time": "2021-06-29T11:55:33.912Z"
   },
   {
    "duration": 12,
    "start_time": "2021-06-29T11:55:34.273Z"
   },
   {
    "duration": 35,
    "start_time": "2021-06-29T11:55:34.913Z"
   },
   {
    "duration": 290,
    "start_time": "2021-06-29T11:57:10.969Z"
   },
   {
    "duration": 257,
    "start_time": "2021-06-29T11:57:32.051Z"
   },
   {
    "duration": 19,
    "start_time": "2021-06-29T11:57:45.132Z"
   },
   {
    "duration": 19,
    "start_time": "2021-06-29T11:58:15.920Z"
   },
   {
    "duration": 5,
    "start_time": "2021-06-29T11:58:16.596Z"
   },
   {
    "duration": 1423,
    "start_time": "2021-06-29T11:58:29.672Z"
   },
   {
    "duration": 1430,
    "start_time": "2021-06-29T11:58:54.396Z"
   },
   {
    "duration": 244,
    "start_time": "2021-06-29T11:58:55.829Z"
   },
   {
    "duration": 210,
    "start_time": "2021-06-29T11:58:56.076Z"
   },
   {
    "duration": 142,
    "start_time": "2021-06-29T11:58:56.288Z"
   },
   {
    "duration": 32,
    "start_time": "2021-06-29T11:58:56.433Z"
   },
   {
    "duration": 60,
    "start_time": "2021-06-29T11:58:56.467Z"
   },
   {
    "duration": 8,
    "start_time": "2021-06-29T11:58:56.529Z"
   },
   {
    "duration": 112,
    "start_time": "2021-06-29T11:58:56.542Z"
   },
   {
    "duration": 10,
    "start_time": "2021-06-29T11:58:56.657Z"
   },
   {
    "duration": 26,
    "start_time": "2021-06-29T11:58:56.669Z"
   },
   {
    "duration": 4,
    "start_time": "2021-06-29T11:58:56.698Z"
   },
   {
    "duration": 54,
    "start_time": "2021-06-29T11:58:56.704Z"
   },
   {
    "duration": 19,
    "start_time": "2021-06-29T11:58:56.761Z"
   },
   {
    "duration": 25,
    "start_time": "2021-06-29T11:58:56.782Z"
   },
   {
    "duration": 5,
    "start_time": "2021-06-29T11:58:56.809Z"
   },
   {
    "duration": 53,
    "start_time": "2021-06-29T11:58:56.816Z"
   },
   {
    "duration": 19,
    "start_time": "2021-06-29T11:58:56.872Z"
   },
   {
    "duration": 24,
    "start_time": "2021-06-29T11:58:56.893Z"
   },
   {
    "duration": 43,
    "start_time": "2021-06-29T11:58:56.920Z"
   },
   {
    "duration": 9,
    "start_time": "2021-06-29T11:58:56.966Z"
   },
   {
    "duration": 189,
    "start_time": "2021-06-29T11:58:56.977Z"
   },
   {
    "duration": 121,
    "start_time": "2021-06-29T11:58:57.168Z"
   },
   {
    "duration": 120,
    "start_time": "2021-06-29T11:58:57.292Z"
   },
   {
    "duration": 49,
    "start_time": "2021-06-29T11:58:57.415Z"
   },
   {
    "duration": 35,
    "start_time": "2021-06-29T11:58:57.466Z"
   },
   {
    "duration": 3187,
    "start_time": "2021-06-29T11:58:57.507Z"
   },
   {
    "duration": 10,
    "start_time": "2021-06-29T11:59:00.697Z"
   },
   {
    "duration": 1110,
    "start_time": "2021-06-29T11:59:00.710Z"
   },
   {
    "duration": 8,
    "start_time": "2021-06-29T11:59:01.822Z"
   },
   {
    "duration": 46,
    "start_time": "2021-06-29T11:59:01.833Z"
   },
   {
    "duration": 20,
    "start_time": "2021-06-29T11:59:01.882Z"
   },
   {
    "duration": 105,
    "start_time": "2021-06-29T11:59:01.904Z"
   },
   {
    "duration": -1337,
    "start_time": "2021-06-29T11:59:03.349Z"
   },
   {
    "duration": -1342,
    "start_time": "2021-06-29T11:59:03.355Z"
   },
   {
    "duration": -1344,
    "start_time": "2021-06-29T11:59:03.359Z"
   },
   {
    "duration": -1350,
    "start_time": "2021-06-29T11:59:03.366Z"
   },
   {
    "duration": -1352,
    "start_time": "2021-06-29T11:59:03.370Z"
   },
   {
    "duration": -1355,
    "start_time": "2021-06-29T11:59:03.374Z"
   },
   {
    "duration": -1371,
    "start_time": "2021-06-29T11:59:03.391Z"
   },
   {
    "duration": -1379,
    "start_time": "2021-06-29T11:59:03.401Z"
   },
   {
    "duration": -1382,
    "start_time": "2021-06-29T11:59:03.405Z"
   },
   {
    "duration": -1384,
    "start_time": "2021-06-29T11:59:03.409Z"
   },
   {
    "duration": -1387,
    "start_time": "2021-06-29T11:59:03.413Z"
   },
   {
    "duration": -1392,
    "start_time": "2021-06-29T11:59:03.419Z"
   },
   {
    "duration": -1394,
    "start_time": "2021-06-29T11:59:03.423Z"
   },
   {
    "duration": -1397,
    "start_time": "2021-06-29T11:59:03.427Z"
   },
   {
    "duration": -1401,
    "start_time": "2021-06-29T11:59:03.433Z"
   },
   {
    "duration": -1404,
    "start_time": "2021-06-29T11:59:03.437Z"
   },
   {
    "duration": -1407,
    "start_time": "2021-06-29T11:59:03.441Z"
   },
   {
    "duration": -1409,
    "start_time": "2021-06-29T11:59:03.445Z"
   },
   {
    "duration": -1413,
    "start_time": "2021-06-29T11:59:03.451Z"
   },
   {
    "duration": -1416,
    "start_time": "2021-06-29T11:59:03.455Z"
   },
   {
    "duration": -1419,
    "start_time": "2021-06-29T11:59:03.459Z"
   },
   {
    "duration": -1423,
    "start_time": "2021-06-29T11:59:03.464Z"
   },
   {
    "duration": -1425,
    "start_time": "2021-06-29T11:59:03.468Z"
   },
   {
    "duration": -1429,
    "start_time": "2021-06-29T11:59:03.473Z"
   },
   {
    "duration": -1432,
    "start_time": "2021-06-29T11:59:03.477Z"
   },
   {
    "duration": -1435,
    "start_time": "2021-06-29T11:59:03.482Z"
   },
   {
    "duration": -1438,
    "start_time": "2021-06-29T11:59:03.486Z"
   },
   {
    "duration": -1440,
    "start_time": "2021-06-29T11:59:03.490Z"
   },
   {
    "duration": -1456,
    "start_time": "2021-06-29T11:59:03.510Z"
   },
   {
    "duration": -1463,
    "start_time": "2021-06-29T11:59:03.518Z"
   },
   {
    "duration": 1408,
    "start_time": "2021-06-29T11:59:19.986Z"
   },
   {
    "duration": 243,
    "start_time": "2021-06-29T11:59:21.397Z"
   },
   {
    "duration": 211,
    "start_time": "2021-06-29T11:59:21.643Z"
   },
   {
    "duration": 138,
    "start_time": "2021-06-29T11:59:21.857Z"
   },
   {
    "duration": 31,
    "start_time": "2021-06-29T11:59:21.998Z"
   },
   {
    "duration": 57,
    "start_time": "2021-06-29T11:59:22.031Z"
   },
   {
    "duration": 7,
    "start_time": "2021-06-29T11:59:22.091Z"
   },
   {
    "duration": 113,
    "start_time": "2021-06-29T11:59:22.102Z"
   },
   {
    "duration": 10,
    "start_time": "2021-06-29T11:59:22.218Z"
   },
   {
    "duration": 42,
    "start_time": "2021-06-29T11:59:22.230Z"
   },
   {
    "duration": 5,
    "start_time": "2021-06-29T11:59:22.274Z"
   },
   {
    "duration": 42,
    "start_time": "2021-06-29T11:59:22.281Z"
   },
   {
    "duration": 31,
    "start_time": "2021-06-29T11:59:22.325Z"
   },
   {
    "duration": 28,
    "start_time": "2021-06-29T11:59:22.358Z"
   },
   {
    "duration": 6,
    "start_time": "2021-06-29T11:59:22.388Z"
   },
   {
    "duration": 40,
    "start_time": "2021-06-29T11:59:22.396Z"
   },
   {
    "duration": 29,
    "start_time": "2021-06-29T11:59:22.439Z"
   },
   {
    "duration": 37,
    "start_time": "2021-06-29T11:59:22.471Z"
   },
   {
    "duration": 17,
    "start_time": "2021-06-29T11:59:22.511Z"
   },
   {
    "duration": 24,
    "start_time": "2021-06-29T11:59:22.531Z"
   },
   {
    "duration": 184,
    "start_time": "2021-06-29T11:59:22.558Z"
   },
   {
    "duration": 112,
    "start_time": "2021-06-29T11:59:22.745Z"
   },
   {
    "duration": 121,
    "start_time": "2021-06-29T11:59:22.863Z"
   },
   {
    "duration": 36,
    "start_time": "2021-06-29T11:59:22.988Z"
   },
   {
    "duration": 55,
    "start_time": "2021-06-29T11:59:23.026Z"
   },
   {
    "duration": 3206,
    "start_time": "2021-06-29T11:59:23.084Z"
   },
   {
    "duration": 9,
    "start_time": "2021-06-29T11:59:26.293Z"
   },
   {
    "duration": 1108,
    "start_time": "2021-06-29T11:59:26.305Z"
   },
   {
    "duration": 7,
    "start_time": "2021-06-29T11:59:27.415Z"
   },
   {
    "duration": 41,
    "start_time": "2021-06-29T11:59:27.425Z"
   },
   {
    "duration": 11,
    "start_time": "2021-06-29T11:59:27.469Z"
   },
   {
    "duration": 21,
    "start_time": "2021-06-29T11:59:27.482Z"
   },
   {
    "duration": 49,
    "start_time": "2021-06-29T11:59:27.506Z"
   },
   {
    "duration": 17,
    "start_time": "2021-06-29T11:59:27.557Z"
   },
   {
    "duration": 14,
    "start_time": "2021-06-29T11:59:27.577Z"
   },
   {
    "duration": 16,
    "start_time": "2021-06-29T11:59:27.594Z"
   },
   {
    "duration": 15,
    "start_time": "2021-06-29T11:59:27.612Z"
   },
   {
    "duration": 508,
    "start_time": "2021-06-29T11:59:27.655Z"
   },
   {
    "duration": 86,
    "start_time": "2021-06-29T11:59:28.166Z"
   },
   {
    "duration": -1290,
    "start_time": "2021-06-29T11:59:29.544Z"
   },
   {
    "duration": -1305,
    "start_time": "2021-06-29T11:59:29.561Z"
   },
   {
    "duration": -1309,
    "start_time": "2021-06-29T11:59:29.566Z"
   },
   {
    "duration": -1313,
    "start_time": "2021-06-29T11:59:29.572Z"
   },
   {
    "duration": -1316,
    "start_time": "2021-06-29T11:59:29.576Z"
   },
   {
    "duration": -1318,
    "start_time": "2021-06-29T11:59:29.580Z"
   },
   {
    "duration": -1321,
    "start_time": "2021-06-29T11:59:29.584Z"
   },
   {
    "duration": -1323,
    "start_time": "2021-06-29T11:59:29.588Z"
   },
   {
    "duration": -1326,
    "start_time": "2021-06-29T11:59:29.592Z"
   },
   {
    "duration": -1328,
    "start_time": "2021-06-29T11:59:29.596Z"
   },
   {
    "duration": -1331,
    "start_time": "2021-06-29T11:59:29.600Z"
   },
   {
    "duration": -1334,
    "start_time": "2021-06-29T11:59:29.604Z"
   },
   {
    "duration": -1336,
    "start_time": "2021-06-29T11:59:29.608Z"
   },
   {
    "duration": -1338,
    "start_time": "2021-06-29T11:59:29.611Z"
   },
   {
    "duration": -1340,
    "start_time": "2021-06-29T11:59:29.615Z"
   },
   {
    "duration": -1343,
    "start_time": "2021-06-29T11:59:29.619Z"
   },
   {
    "duration": -1347,
    "start_time": "2021-06-29T11:59:29.624Z"
   },
   {
    "duration": -1349,
    "start_time": "2021-06-29T11:59:29.628Z"
   },
   {
    "duration": -1365,
    "start_time": "2021-06-29T11:59:29.645Z"
   },
   {
    "duration": -1369,
    "start_time": "2021-06-29T11:59:29.651Z"
   },
   {
    "duration": -1374,
    "start_time": "2021-06-29T11:59:29.657Z"
   },
   {
    "duration": -1376,
    "start_time": "2021-06-29T11:59:29.660Z"
   },
   {
    "duration": 1425,
    "start_time": "2021-06-29T11:59:46.700Z"
   },
   {
    "duration": 241,
    "start_time": "2021-06-29T11:59:48.127Z"
   },
   {
    "duration": 208,
    "start_time": "2021-06-29T11:59:48.371Z"
   },
   {
    "duration": 146,
    "start_time": "2021-06-29T11:59:48.581Z"
   },
   {
    "duration": 31,
    "start_time": "2021-06-29T11:59:48.730Z"
   },
   {
    "duration": 70,
    "start_time": "2021-06-29T11:59:48.763Z"
   },
   {
    "duration": 8,
    "start_time": "2021-06-29T11:59:48.835Z"
   },
   {
    "duration": 118,
    "start_time": "2021-06-29T11:59:48.847Z"
   },
   {
    "duration": 9,
    "start_time": "2021-06-29T11:59:48.968Z"
   },
   {
    "duration": 37,
    "start_time": "2021-06-29T11:59:48.979Z"
   },
   {
    "duration": 4,
    "start_time": "2021-06-29T11:59:49.019Z"
   },
   {
    "duration": 50,
    "start_time": "2021-06-29T11:59:49.026Z"
   },
   {
    "duration": 20,
    "start_time": "2021-06-29T11:59:49.078Z"
   },
   {
    "duration": 46,
    "start_time": "2021-06-29T11:59:49.100Z"
   },
   {
    "duration": 12,
    "start_time": "2021-06-29T11:59:49.148Z"
   },
   {
    "duration": 52,
    "start_time": "2021-06-29T11:59:49.162Z"
   },
   {
    "duration": 32,
    "start_time": "2021-06-29T11:59:49.217Z"
   },
   {
    "duration": 43,
    "start_time": "2021-06-29T11:59:49.251Z"
   },
   {
    "duration": 25,
    "start_time": "2021-06-29T11:59:49.297Z"
   },
   {
    "duration": 30,
    "start_time": "2021-06-29T11:59:49.325Z"
   },
   {
    "duration": 207,
    "start_time": "2021-06-29T11:59:49.357Z"
   },
   {
    "duration": 118,
    "start_time": "2021-06-29T11:59:49.567Z"
   },
   {
    "duration": 126,
    "start_time": "2021-06-29T11:59:49.691Z"
   },
   {
    "duration": 47,
    "start_time": "2021-06-29T11:59:49.821Z"
   },
   {
    "duration": 35,
    "start_time": "2021-06-29T11:59:49.870Z"
   },
   {
    "duration": 3274,
    "start_time": "2021-06-29T11:59:49.908Z"
   },
   {
    "duration": 9,
    "start_time": "2021-06-29T11:59:53.185Z"
   },
   {
    "duration": 1098,
    "start_time": "2021-06-29T11:59:53.196Z"
   },
   {
    "duration": 7,
    "start_time": "2021-06-29T11:59:54.296Z"
   },
   {
    "duration": 32,
    "start_time": "2021-06-29T11:59:54.305Z"
   },
   {
    "duration": 22,
    "start_time": "2021-06-29T11:59:54.339Z"
   },
   {
    "duration": 24,
    "start_time": "2021-06-29T11:59:54.363Z"
   },
   {
    "duration": 33,
    "start_time": "2021-06-29T11:59:54.389Z"
   },
   {
    "duration": 37,
    "start_time": "2021-06-29T11:59:54.424Z"
   },
   {
    "duration": 12,
    "start_time": "2021-06-29T11:59:54.464Z"
   },
   {
    "duration": 41,
    "start_time": "2021-06-29T11:59:54.479Z"
   },
   {
    "duration": 24,
    "start_time": "2021-06-29T11:59:54.523Z"
   },
   {
    "duration": 487,
    "start_time": "2021-06-29T11:59:54.549Z"
   },
   {
    "duration": 492,
    "start_time": "2021-06-29T11:59:55.039Z"
   },
   {
    "duration": 85,
    "start_time": "2021-06-29T11:59:55.534Z"
   },
   {
    "duration": -1303,
    "start_time": "2021-06-29T11:59:56.924Z"
   },
   {
    "duration": -1309,
    "start_time": "2021-06-29T11:59:56.931Z"
   },
   {
    "duration": -1311,
    "start_time": "2021-06-29T11:59:56.935Z"
   },
   {
    "duration": -1327,
    "start_time": "2021-06-29T11:59:56.952Z"
   },
   {
    "duration": -1349,
    "start_time": "2021-06-29T11:59:56.976Z"
   },
   {
    "duration": -1359,
    "start_time": "2021-06-29T11:59:56.987Z"
   },
   {
    "duration": -1362,
    "start_time": "2021-06-29T11:59:56.992Z"
   },
   {
    "duration": -1376,
    "start_time": "2021-06-29T11:59:57.007Z"
   },
   {
    "duration": -1381,
    "start_time": "2021-06-29T11:59:57.013Z"
   },
   {
    "duration": -1394,
    "start_time": "2021-06-29T11:59:57.028Z"
   },
   {
    "duration": -1406,
    "start_time": "2021-06-29T11:59:57.041Z"
   },
   {
    "duration": -1420,
    "start_time": "2021-06-29T11:59:57.056Z"
   },
   {
    "duration": -1451,
    "start_time": "2021-06-29T11:59:57.089Z"
   },
   {
    "duration": -1457,
    "start_time": "2021-06-29T11:59:57.096Z"
   },
   {
    "duration": -1472,
    "start_time": "2021-06-29T11:59:57.112Z"
   },
   {
    "duration": -1487,
    "start_time": "2021-06-29T11:59:57.129Z"
   },
   {
    "duration": -1503,
    "start_time": "2021-06-29T11:59:57.146Z"
   },
   {
    "duration": -1517,
    "start_time": "2021-06-29T11:59:57.161Z"
   },
   {
    "duration": -1528,
    "start_time": "2021-06-29T11:59:57.174Z"
   },
   {
    "duration": -1543,
    "start_time": "2021-06-29T11:59:57.190Z"
   },
   {
    "duration": 1543,
    "start_time": "2021-06-29T12:00:09.288Z"
   },
   {
    "duration": 256,
    "start_time": "2021-06-29T12:00:10.834Z"
   },
   {
    "duration": 213,
    "start_time": "2021-06-29T12:00:11.093Z"
   },
   {
    "duration": 151,
    "start_time": "2021-06-29T12:00:11.309Z"
   },
   {
    "duration": 31,
    "start_time": "2021-06-29T12:00:11.462Z"
   },
   {
    "duration": 75,
    "start_time": "2021-06-29T12:00:11.496Z"
   },
   {
    "duration": 9,
    "start_time": "2021-06-29T12:00:11.573Z"
   },
   {
    "duration": 138,
    "start_time": "2021-06-29T12:00:11.586Z"
   },
   {
    "duration": 10,
    "start_time": "2021-06-29T12:00:11.727Z"
   },
   {
    "duration": 48,
    "start_time": "2021-06-29T12:00:11.739Z"
   },
   {
    "duration": 20,
    "start_time": "2021-06-29T12:00:11.790Z"
   },
   {
    "duration": 62,
    "start_time": "2021-06-29T12:00:11.812Z"
   },
   {
    "duration": 24,
    "start_time": "2021-06-29T12:00:11.876Z"
   },
   {
    "duration": 55,
    "start_time": "2021-06-29T12:00:11.903Z"
   },
   {
    "duration": 28,
    "start_time": "2021-06-29T12:00:11.961Z"
   },
   {
    "duration": 46,
    "start_time": "2021-06-29T12:00:11.992Z"
   },
   {
    "duration": 32,
    "start_time": "2021-06-29T12:00:12.040Z"
   },
   {
    "duration": 49,
    "start_time": "2021-06-29T12:00:12.075Z"
   },
   {
    "duration": 31,
    "start_time": "2021-06-29T12:00:12.126Z"
   },
   {
    "duration": 40,
    "start_time": "2021-06-29T12:00:12.159Z"
   },
   {
    "duration": 189,
    "start_time": "2021-06-29T12:00:12.202Z"
   },
   {
    "duration": 122,
    "start_time": "2021-06-29T12:00:12.394Z"
   },
   {
    "duration": 122,
    "start_time": "2021-06-29T12:00:12.519Z"
   },
   {
    "duration": 38,
    "start_time": "2021-06-29T12:00:12.644Z"
   },
   {
    "duration": 33,
    "start_time": "2021-06-29T12:00:12.684Z"
   },
   {
    "duration": 3244,
    "start_time": "2021-06-29T12:00:12.724Z"
   },
   {
    "duration": 9,
    "start_time": "2021-06-29T12:00:15.972Z"
   },
   {
    "duration": 1105,
    "start_time": "2021-06-29T12:00:15.983Z"
   },
   {
    "duration": 7,
    "start_time": "2021-06-29T12:00:17.090Z"
   },
   {
    "duration": 46,
    "start_time": "2021-06-29T12:00:17.099Z"
   },
   {
    "duration": 17,
    "start_time": "2021-06-29T12:00:17.154Z"
   },
   {
    "duration": 39,
    "start_time": "2021-06-29T12:00:17.174Z"
   },
   {
    "duration": 23,
    "start_time": "2021-06-29T12:00:17.215Z"
   },
   {
    "duration": 29,
    "start_time": "2021-06-29T12:00:17.241Z"
   },
   {
    "duration": 17,
    "start_time": "2021-06-29T12:00:17.273Z"
   },
   {
    "duration": 26,
    "start_time": "2021-06-29T12:00:17.292Z"
   },
   {
    "duration": 37,
    "start_time": "2021-06-29T12:00:17.321Z"
   },
   {
    "duration": 493,
    "start_time": "2021-06-29T12:00:17.361Z"
   },
   {
    "duration": 506,
    "start_time": "2021-06-29T12:00:17.857Z"
   },
   {
    "duration": 488,
    "start_time": "2021-06-29T12:00:18.366Z"
   },
   {
    "duration": 19,
    "start_time": "2021-06-29T12:00:18.857Z"
   },
   {
    "duration": 6,
    "start_time": "2021-06-29T12:00:18.879Z"
   },
   {
    "duration": 14,
    "start_time": "2021-06-29T12:00:18.888Z"
   },
   {
    "duration": 462,
    "start_time": "2021-06-29T12:00:18.904Z"
   },
   {
    "duration": 20,
    "start_time": "2021-06-29T12:00:19.368Z"
   },
   {
    "duration": 30,
    "start_time": "2021-06-29T12:00:19.391Z"
   },
   {
    "duration": 18,
    "start_time": "2021-06-29T12:00:19.423Z"
   },
   {
    "duration": 21,
    "start_time": "2021-06-29T12:00:19.443Z"
   },
   {
    "duration": 7,
    "start_time": "2021-06-29T12:00:19.467Z"
   },
   {
    "duration": 6,
    "start_time": "2021-06-29T12:00:19.477Z"
   },
   {
    "duration": 10,
    "start_time": "2021-06-29T12:00:19.486Z"
   },
   {
    "duration": 63,
    "start_time": "2021-06-29T12:00:19.499Z"
   },
   {
    "duration": 23,
    "start_time": "2021-06-29T12:00:19.565Z"
   },
   {
    "duration": 5,
    "start_time": "2021-06-29T12:00:19.590Z"
   },
   {
    "duration": 10,
    "start_time": "2021-06-29T12:00:19.597Z"
   },
   {
    "duration": 13,
    "start_time": "2021-06-29T12:00:19.609Z"
   },
   {
    "duration": 34,
    "start_time": "2021-06-29T12:00:19.625Z"
   },
   {
    "duration": 16,
    "start_time": "2021-06-29T12:00:19.663Z"
   },
   {
    "duration": 24,
    "start_time": "2021-06-29T12:00:19.681Z"
   },
   {
    "duration": 496,
    "start_time": "2021-06-29T12:00:29.128Z"
   },
   {
    "duration": 552,
    "start_time": "2021-06-29T12:00:32.324Z"
   },
   {
    "duration": 391,
    "start_time": "2021-06-29T12:03:25.702Z"
   },
   {
    "duration": 264,
    "start_time": "2021-06-29T12:03:44.995Z"
   },
   {
    "duration": 18,
    "start_time": "2021-06-29T12:03:51.420Z"
   },
   {
    "duration": 4,
    "start_time": "2021-06-29T12:04:16.227Z"
   },
   {
    "duration": 15,
    "start_time": "2021-06-29T12:04:33.715Z"
   },
   {
    "duration": 487,
    "start_time": "2021-06-29T12:04:44.345Z"
   },
   {
    "duration": 442,
    "start_time": "2021-06-29T12:05:04.497Z"
   },
   {
    "duration": 8,
    "start_time": "2021-06-29T12:06:11.762Z"
   },
   {
    "duration": 12,
    "start_time": "2021-06-29T12:07:46.838Z"
   },
   {
    "duration": 271,
    "start_time": "2021-06-29T12:07:57.520Z"
   },
   {
    "duration": 13,
    "start_time": "2021-06-29T12:08:06.024Z"
   },
   {
    "duration": 244,
    "start_time": "2021-06-29T12:08:12.651Z"
   },
   {
    "duration": 13,
    "start_time": "2021-06-29T12:08:18.794Z"
   },
   {
    "duration": 13,
    "start_time": "2021-06-29T12:09:29.766Z"
   },
   {
    "duration": 5,
    "start_time": "2021-06-29T12:09:52.068Z"
   },
   {
    "duration": 5,
    "start_time": "2021-06-29T12:10:23.383Z"
   },
   {
    "duration": 5,
    "start_time": "2021-06-29T12:10:41.227Z"
   },
   {
    "duration": 252,
    "start_time": "2021-06-29T12:11:31.720Z"
   },
   {
    "duration": 252,
    "start_time": "2021-06-29T12:11:43.488Z"
   },
   {
    "duration": 18,
    "start_time": "2021-06-29T12:11:58.531Z"
   },
   {
    "duration": 261,
    "start_time": "2021-06-29T12:13:02.859Z"
   },
   {
    "duration": 17,
    "start_time": "2021-06-29T12:13:17.829Z"
   },
   {
    "duration": 5,
    "start_time": "2021-06-29T12:13:39.965Z"
   },
   {
    "duration": 5,
    "start_time": "2021-06-29T12:14:17.757Z"
   },
   {
    "duration": 13,
    "start_time": "2021-06-29T12:14:29.732Z"
   },
   {
    "duration": 19,
    "start_time": "2021-06-29T12:14:50.032Z"
   },
   {
    "duration": 1498,
    "start_time": "2021-06-29T12:15:17.207Z"
   },
   {
    "duration": 259,
    "start_time": "2021-06-29T12:15:18.709Z"
   },
   {
    "duration": 214,
    "start_time": "2021-06-29T12:15:18.975Z"
   },
   {
    "duration": 149,
    "start_time": "2021-06-29T12:15:19.192Z"
   },
   {
    "duration": 42,
    "start_time": "2021-06-29T12:15:19.343Z"
   },
   {
    "duration": 61,
    "start_time": "2021-06-29T12:15:19.387Z"
   },
   {
    "duration": 10,
    "start_time": "2021-06-29T12:15:19.453Z"
   },
   {
    "duration": 178,
    "start_time": "2021-06-29T12:15:19.468Z"
   },
   {
    "duration": 11,
    "start_time": "2021-06-29T12:15:19.649Z"
   },
   {
    "duration": 32,
    "start_time": "2021-06-29T12:15:19.663Z"
   },
   {
    "duration": 6,
    "start_time": "2021-06-29T12:15:19.698Z"
   },
   {
    "duration": 58,
    "start_time": "2021-06-29T12:15:19.707Z"
   },
   {
    "duration": 19,
    "start_time": "2021-06-29T12:15:19.768Z"
   },
   {
    "duration": 36,
    "start_time": "2021-06-29T12:15:19.789Z"
   },
   {
    "duration": 5,
    "start_time": "2021-06-29T12:15:19.828Z"
   },
   {
    "duration": 33,
    "start_time": "2021-06-29T12:15:19.854Z"
   },
   {
    "duration": 20,
    "start_time": "2021-06-29T12:15:19.890Z"
   },
   {
    "duration": 42,
    "start_time": "2021-06-29T12:15:19.913Z"
   },
   {
    "duration": 19,
    "start_time": "2021-06-29T12:15:19.958Z"
   },
   {
    "duration": 26,
    "start_time": "2021-06-29T12:15:19.979Z"
   },
   {
    "duration": 183,
    "start_time": "2021-06-29T12:15:20.008Z"
   },
   {
    "duration": 123,
    "start_time": "2021-06-29T12:15:20.197Z"
   },
   {
    "duration": 130,
    "start_time": "2021-06-29T12:15:20.324Z"
   },
   {
    "duration": 38,
    "start_time": "2021-06-29T12:15:20.457Z"
   },
   {
    "duration": 61,
    "start_time": "2021-06-29T12:15:20.498Z"
   },
   {
    "duration": 3195,
    "start_time": "2021-06-29T12:15:20.562Z"
   },
   {
    "duration": 9,
    "start_time": "2021-06-29T12:15:23.760Z"
   },
   {
    "duration": 1209,
    "start_time": "2021-06-29T12:15:23.772Z"
   },
   {
    "duration": 7,
    "start_time": "2021-06-29T12:15:24.983Z"
   },
   {
    "duration": 39,
    "start_time": "2021-06-29T12:15:24.993Z"
   },
   {
    "duration": 25,
    "start_time": "2021-06-29T12:15:25.035Z"
   },
   {
    "duration": 20,
    "start_time": "2021-06-29T12:15:25.063Z"
   },
   {
    "duration": 17,
    "start_time": "2021-06-29T12:15:25.086Z"
   },
   {
    "duration": 48,
    "start_time": "2021-06-29T12:15:25.106Z"
   },
   {
    "duration": 13,
    "start_time": "2021-06-29T12:15:25.157Z"
   },
   {
    "duration": 20,
    "start_time": "2021-06-29T12:15:25.173Z"
   },
   {
    "duration": 19,
    "start_time": "2021-06-29T12:15:25.195Z"
   },
   {
    "duration": 507,
    "start_time": "2021-06-29T12:15:25.216Z"
   },
   {
    "duration": 514,
    "start_time": "2021-06-29T12:15:25.726Z"
   },
   {
    "duration": 497,
    "start_time": "2021-06-29T12:15:26.243Z"
   },
   {
    "duration": 25,
    "start_time": "2021-06-29T12:15:26.742Z"
   },
   {
    "duration": 25,
    "start_time": "2021-06-29T12:15:26.769Z"
   },
   {
    "duration": 27,
    "start_time": "2021-06-29T12:15:26.797Z"
   },
   {
    "duration": 465,
    "start_time": "2021-06-29T12:15:26.826Z"
   },
   {
    "duration": 26,
    "start_time": "2021-06-29T12:15:27.294Z"
   },
   {
    "duration": 40,
    "start_time": "2021-06-29T12:15:27.322Z"
   },
   {
    "duration": 33,
    "start_time": "2021-06-29T12:15:27.365Z"
   },
   {
    "duration": 40,
    "start_time": "2021-06-29T12:15:27.400Z"
   },
   {
    "duration": 28,
    "start_time": "2021-06-29T12:15:27.443Z"
   },
   {
    "duration": 35,
    "start_time": "2021-06-29T12:15:27.474Z"
   },
   {
    "duration": 20,
    "start_time": "2021-06-29T12:15:27.512Z"
   },
   {
    "duration": 36,
    "start_time": "2021-06-29T12:15:27.535Z"
   },
   {
    "duration": 28,
    "start_time": "2021-06-29T12:15:27.574Z"
   },
   {
    "duration": 23,
    "start_time": "2021-06-29T12:15:27.604Z"
   },
   {
    "duration": 47,
    "start_time": "2021-06-29T12:15:27.629Z"
   },
   {
    "duration": 21,
    "start_time": "2021-06-29T12:15:27.679Z"
   },
   {
    "duration": 46,
    "start_time": "2021-06-29T12:15:27.702Z"
   },
   {
    "duration": 34,
    "start_time": "2021-06-29T12:15:27.751Z"
   },
   {
    "duration": 53,
    "start_time": "2021-06-29T12:15:27.787Z"
   },
   {
    "duration": 55,
    "start_time": "2021-06-29T12:15:27.842Z"
   },
   {
    "duration": 24,
    "start_time": "2021-06-29T12:15:27.900Z"
   },
   {
    "duration": 45,
    "start_time": "2021-06-29T12:15:27.927Z"
   },
   {
    "duration": 460,
    "start_time": "2021-06-29T12:15:27.976Z"
   },
   {
    "duration": 18,
    "start_time": "2021-06-29T12:15:28.438Z"
   },
   {
    "duration": 26,
    "start_time": "2021-06-29T12:15:28.459Z"
   },
   {
    "duration": 19,
    "start_time": "2021-06-29T12:15:28.487Z"
   },
   {
    "duration": 12,
    "start_time": "2021-06-29T12:15:28.513Z"
   },
   {
    "duration": 6,
    "start_time": "2021-06-29T12:15:28.527Z"
   },
   {
    "duration": 26,
    "start_time": "2021-06-29T12:15:28.535Z"
   },
   {
    "duration": 31,
    "start_time": "2021-06-29T12:15:28.564Z"
   },
   {
    "duration": 48,
    "start_time": "2021-06-29T12:15:28.597Z"
   },
   {
    "duration": 18,
    "start_time": "2021-06-29T12:15:28.648Z"
   },
   {
    "duration": 11,
    "start_time": "2021-06-29T12:15:28.668Z"
   },
   {
    "duration": 19,
    "start_time": "2021-06-29T12:15:28.682Z"
   },
   {
    "duration": 14,
    "start_time": "2021-06-29T12:15:28.704Z"
   },
   {
    "duration": 30,
    "start_time": "2021-06-29T12:15:28.720Z"
   },
   {
    "duration": 10,
    "start_time": "2021-06-29T12:16:15.159Z"
   },
   {
    "duration": 10,
    "start_time": "2021-06-29T12:16:24.921Z"
   },
   {
    "duration": 12,
    "start_time": "2021-06-29T12:16:25.928Z"
   },
   {
    "duration": 27,
    "start_time": "2021-06-29T12:16:26.621Z"
   },
   {
    "duration": 1198,
    "start_time": "2021-06-29T12:16:30.547Z"
   },
   {
    "duration": 1522,
    "start_time": "2021-06-29T12:16:45.609Z"
   },
   {
    "duration": 246,
    "start_time": "2021-06-29T12:16:47.134Z"
   },
   {
    "duration": 206,
    "start_time": "2021-06-29T12:16:47.383Z"
   },
   {
    "duration": 147,
    "start_time": "2021-06-29T12:16:47.592Z"
   },
   {
    "duration": 31,
    "start_time": "2021-06-29T12:16:47.742Z"
   },
   {
    "duration": 63,
    "start_time": "2021-06-29T12:16:47.775Z"
   },
   {
    "duration": 8,
    "start_time": "2021-06-29T12:16:47.840Z"
   },
   {
    "duration": 104,
    "start_time": "2021-06-29T12:16:47.852Z"
   },
   {
    "duration": 9,
    "start_time": "2021-06-29T12:16:47.959Z"
   },
   {
    "duration": 28,
    "start_time": "2021-06-29T12:16:47.971Z"
   },
   {
    "duration": 4,
    "start_time": "2021-06-29T12:16:48.002Z"
   },
   {
    "duration": 52,
    "start_time": "2021-06-29T12:16:48.009Z"
   },
   {
    "duration": 20,
    "start_time": "2021-06-29T12:16:48.064Z"
   },
   {
    "duration": 25,
    "start_time": "2021-06-29T12:16:48.086Z"
   },
   {
    "duration": 5,
    "start_time": "2021-06-29T12:16:48.113Z"
   },
   {
    "duration": 49,
    "start_time": "2021-06-29T12:16:48.120Z"
   },
   {
    "duration": 20,
    "start_time": "2021-06-29T12:16:48.171Z"
   },
   {
    "duration": 23,
    "start_time": "2021-06-29T12:16:48.193Z"
   },
   {
    "duration": 47,
    "start_time": "2021-06-29T12:16:48.219Z"
   },
   {
    "duration": 7,
    "start_time": "2021-06-29T12:16:48.268Z"
   },
   {
    "duration": 188,
    "start_time": "2021-06-29T12:16:48.277Z"
   },
   {
    "duration": 119,
    "start_time": "2021-06-29T12:16:48.468Z"
   },
   {
    "duration": 123,
    "start_time": "2021-06-29T12:16:48.593Z"
   },
   {
    "duration": 48,
    "start_time": "2021-06-29T12:16:48.720Z"
   },
   {
    "duration": 35,
    "start_time": "2021-06-29T12:16:48.771Z"
   },
   {
    "duration": 3255,
    "start_time": "2021-06-29T12:16:48.809Z"
   },
   {
    "duration": 10,
    "start_time": "2021-06-29T12:16:52.066Z"
   },
   {
    "duration": 1128,
    "start_time": "2021-06-29T12:16:52.079Z"
   },
   {
    "duration": 9,
    "start_time": "2021-06-29T12:16:53.210Z"
   },
   {
    "duration": 50,
    "start_time": "2021-06-29T12:16:53.221Z"
   },
   {
    "duration": 12,
    "start_time": "2021-06-29T12:16:53.274Z"
   },
   {
    "duration": 18,
    "start_time": "2021-06-29T12:16:53.289Z"
   },
   {
    "duration": 47,
    "start_time": "2021-06-29T12:16:53.309Z"
   },
   {
    "duration": 18,
    "start_time": "2021-06-29T12:16:53.359Z"
   },
   {
    "duration": 25,
    "start_time": "2021-06-29T12:16:53.380Z"
   },
   {
    "duration": 20,
    "start_time": "2021-06-29T12:16:53.408Z"
   },
   {
    "duration": 26,
    "start_time": "2021-06-29T12:16:53.430Z"
   },
   {
    "duration": 484,
    "start_time": "2021-06-29T12:16:53.459Z"
   },
   {
    "duration": 632,
    "start_time": "2021-06-29T12:16:53.946Z"
   },
   {
    "duration": 490,
    "start_time": "2021-06-29T12:16:54.581Z"
   },
   {
    "duration": 17,
    "start_time": "2021-06-29T12:16:55.074Z"
   },
   {
    "duration": 4,
    "start_time": "2021-06-29T12:16:55.094Z"
   },
   {
    "duration": 16,
    "start_time": "2021-06-29T12:16:55.100Z"
   },
   {
    "duration": 470,
    "start_time": "2021-06-29T12:16:55.119Z"
   },
   {
    "duration": 21,
    "start_time": "2021-06-29T12:16:55.592Z"
   },
   {
    "duration": 40,
    "start_time": "2021-06-29T12:16:55.615Z"
   },
   {
    "duration": 13,
    "start_time": "2021-06-29T12:16:55.658Z"
   },
   {
    "duration": 12,
    "start_time": "2021-06-29T12:16:55.674Z"
   },
   {
    "duration": 8,
    "start_time": "2021-06-29T12:16:55.688Z"
   },
   {
    "duration": 15,
    "start_time": "2021-06-29T12:16:55.698Z"
   },
   {
    "duration": 11,
    "start_time": "2021-06-29T12:16:55.716Z"
   },
   {
    "duration": 37,
    "start_time": "2021-06-29T12:16:55.729Z"
   },
   {
    "duration": 18,
    "start_time": "2021-06-29T12:16:55.768Z"
   },
   {
    "duration": 7,
    "start_time": "2021-06-29T12:16:55.789Z"
   },
   {
    "duration": 9,
    "start_time": "2021-06-29T12:16:55.798Z"
   },
   {
    "duration": 19,
    "start_time": "2021-06-29T12:16:55.809Z"
   },
   {
    "duration": 31,
    "start_time": "2021-06-29T12:16:55.830Z"
   },
   {
    "duration": 36,
    "start_time": "2021-06-29T12:16:55.864Z"
   },
   {
    "duration": 32,
    "start_time": "2021-06-29T12:16:55.902Z"
   },
   {
    "duration": 40,
    "start_time": "2021-06-29T12:16:55.936Z"
   },
   {
    "duration": 5,
    "start_time": "2021-06-29T12:16:55.978Z"
   },
   {
    "duration": 27,
    "start_time": "2021-06-29T12:16:55.985Z"
   },
   {
    "duration": 421,
    "start_time": "2021-06-29T12:16:56.014Z"
   },
   {
    "duration": 21,
    "start_time": "2021-06-29T12:16:56.438Z"
   },
   {
    "duration": 22,
    "start_time": "2021-06-29T12:16:56.461Z"
   },
   {
    "duration": 25,
    "start_time": "2021-06-29T12:16:56.485Z"
   },
   {
    "duration": 17,
    "start_time": "2021-06-29T12:16:56.513Z"
   },
   {
    "duration": 6,
    "start_time": "2021-06-29T12:16:56.537Z"
   },
   {
    "duration": 15,
    "start_time": "2021-06-29T12:16:56.545Z"
   },
   {
    "duration": 19,
    "start_time": "2021-06-29T12:16:56.562Z"
   },
   {
    "duration": 43,
    "start_time": "2021-06-29T12:16:56.584Z"
   },
   {
    "duration": 17,
    "start_time": "2021-06-29T12:16:56.630Z"
   },
   {
    "duration": 14,
    "start_time": "2021-06-29T12:16:56.649Z"
   },
   {
    "duration": 18,
    "start_time": "2021-06-29T12:16:56.666Z"
   },
   {
    "duration": 21,
    "start_time": "2021-06-29T12:16:56.687Z"
   },
   {
    "duration": 21,
    "start_time": "2021-06-29T12:16:56.711Z"
   },
   {
    "duration": 13,
    "start_time": "2021-06-29T12:16:56.735Z"
   },
   {
    "duration": 24,
    "start_time": "2021-06-29T12:16:56.751Z"
   },
   {
    "duration": 371,
    "start_time": "2021-06-29T12:18:16.091Z"
   },
   {
    "duration": 594,
    "start_time": "2021-06-29T12:18:27.170Z"
   },
   {
    "duration": 79,
    "start_time": "2021-06-29T12:23:38.028Z"
   },
   {
    "duration": 393,
    "start_time": "2021-06-29T12:24:26.444Z"
   },
   {
    "duration": 384,
    "start_time": "2021-06-29T12:25:46.143Z"
   },
   {
    "duration": 489,
    "start_time": "2021-06-29T12:26:26.311Z"
   },
   {
    "duration": 396,
    "start_time": "2021-06-29T12:27:19.510Z"
   },
   {
    "duration": 383,
    "start_time": "2021-06-29T12:27:53.258Z"
   },
   {
    "duration": 1521,
    "start_time": "2021-06-29T12:29:15.326Z"
   },
   {
    "duration": 246,
    "start_time": "2021-06-29T12:29:16.850Z"
   },
   {
    "duration": 209,
    "start_time": "2021-06-29T12:29:17.099Z"
   },
   {
    "duration": 150,
    "start_time": "2021-06-29T12:29:17.311Z"
   },
   {
    "duration": 35,
    "start_time": "2021-06-29T12:29:17.463Z"
   },
   {
    "duration": 56,
    "start_time": "2021-06-29T12:29:17.501Z"
   },
   {
    "duration": 9,
    "start_time": "2021-06-29T12:29:17.559Z"
   },
   {
    "duration": 125,
    "start_time": "2021-06-29T12:29:17.572Z"
   },
   {
    "duration": 9,
    "start_time": "2021-06-29T12:29:17.700Z"
   },
   {
    "duration": 44,
    "start_time": "2021-06-29T12:29:17.711Z"
   },
   {
    "duration": 5,
    "start_time": "2021-06-29T12:29:17.757Z"
   },
   {
    "duration": 29,
    "start_time": "2021-06-29T12:29:17.765Z"
   },
   {
    "duration": 20,
    "start_time": "2021-06-29T12:29:17.796Z"
   },
   {
    "duration": 63,
    "start_time": "2021-06-29T12:29:17.819Z"
   },
   {
    "duration": 5,
    "start_time": "2021-06-29T12:29:17.885Z"
   },
   {
    "duration": 39,
    "start_time": "2021-06-29T12:29:17.892Z"
   },
   {
    "duration": 22,
    "start_time": "2021-06-29T12:29:17.933Z"
   },
   {
    "duration": 33,
    "start_time": "2021-06-29T12:29:17.957Z"
   },
   {
    "duration": 21,
    "start_time": "2021-06-29T12:29:17.992Z"
   },
   {
    "duration": 17,
    "start_time": "2021-06-29T12:29:18.016Z"
   },
   {
    "duration": 213,
    "start_time": "2021-06-29T12:29:18.035Z"
   },
   {
    "duration": 126,
    "start_time": "2021-06-29T12:29:18.250Z"
   },
   {
    "duration": 129,
    "start_time": "2021-06-29T12:29:18.384Z"
   },
   {
    "duration": 48,
    "start_time": "2021-06-29T12:29:18.517Z"
   },
   {
    "duration": 37,
    "start_time": "2021-06-29T12:29:18.567Z"
   },
   {
    "duration": 3251,
    "start_time": "2021-06-29T12:29:18.606Z"
   },
   {
    "duration": 10,
    "start_time": "2021-06-29T12:29:21.859Z"
   },
   {
    "duration": 1143,
    "start_time": "2021-06-29T12:29:21.871Z"
   },
   {
    "duration": 7,
    "start_time": "2021-06-29T12:29:23.016Z"
   },
   {
    "duration": 46,
    "start_time": "2021-06-29T12:29:23.025Z"
   },
   {
    "duration": 10,
    "start_time": "2021-06-29T12:29:23.073Z"
   },
   {
    "duration": 19,
    "start_time": "2021-06-29T12:29:23.085Z"
   },
   {
    "duration": 11,
    "start_time": "2021-06-29T12:29:23.107Z"
   },
   {
    "duration": 43,
    "start_time": "2021-06-29T12:29:23.120Z"
   },
   {
    "duration": 18,
    "start_time": "2021-06-29T12:29:23.166Z"
   },
   {
    "duration": 26,
    "start_time": "2021-06-29T12:29:23.186Z"
   },
   {
    "duration": 19,
    "start_time": "2021-06-29T12:29:23.215Z"
   },
   {
    "duration": 499,
    "start_time": "2021-06-29T12:29:23.236Z"
   },
   {
    "duration": 551,
    "start_time": "2021-06-29T12:29:23.738Z"
   },
   {
    "duration": 502,
    "start_time": "2021-06-29T12:29:24.293Z"
   },
   {
    "duration": 17,
    "start_time": "2021-06-29T12:29:24.798Z"
   },
   {
    "duration": 7,
    "start_time": "2021-06-29T12:29:24.817Z"
   },
   {
    "duration": 37,
    "start_time": "2021-06-29T12:29:24.826Z"
   },
   {
    "duration": 433,
    "start_time": "2021-06-29T12:29:24.866Z"
   },
   {
    "duration": 20,
    "start_time": "2021-06-29T12:29:25.302Z"
   },
   {
    "duration": 36,
    "start_time": "2021-06-29T12:29:25.325Z"
   },
   {
    "duration": 12,
    "start_time": "2021-06-29T12:29:25.364Z"
   },
   {
    "duration": 15,
    "start_time": "2021-06-29T12:29:25.380Z"
   },
   {
    "duration": 6,
    "start_time": "2021-06-29T12:29:25.397Z"
   },
   {
    "duration": 8,
    "start_time": "2021-06-29T12:29:25.405Z"
   },
   {
    "duration": 39,
    "start_time": "2021-06-29T12:29:25.415Z"
   },
   {
    "duration": 21,
    "start_time": "2021-06-29T12:29:25.457Z"
   },
   {
    "duration": 19,
    "start_time": "2021-06-29T12:29:25.481Z"
   },
   {
    "duration": 12,
    "start_time": "2021-06-29T12:29:25.503Z"
   },
   {
    "duration": 7,
    "start_time": "2021-06-29T12:29:25.517Z"
   },
   {
    "duration": 33,
    "start_time": "2021-06-29T12:29:25.526Z"
   },
   {
    "duration": 13,
    "start_time": "2021-06-29T12:29:25.562Z"
   },
   {
    "duration": 16,
    "start_time": "2021-06-29T12:29:25.577Z"
   },
   {
    "duration": 26,
    "start_time": "2021-06-29T12:29:25.595Z"
   },
   {
    "duration": 42,
    "start_time": "2021-06-29T12:29:25.623Z"
   },
   {
    "duration": 4,
    "start_time": "2021-06-29T12:29:25.667Z"
   },
   {
    "duration": 17,
    "start_time": "2021-06-29T12:29:25.673Z"
   },
   {
    "duration": 454,
    "start_time": "2021-06-29T12:29:25.692Z"
   },
   {
    "duration": 8,
    "start_time": "2021-06-29T12:29:26.154Z"
   },
   {
    "duration": 15,
    "start_time": "2021-06-29T12:29:26.165Z"
   },
   {
    "duration": 12,
    "start_time": "2021-06-29T12:29:26.182Z"
   },
   {
    "duration": 12,
    "start_time": "2021-06-29T12:29:26.197Z"
   },
   {
    "duration": 37,
    "start_time": "2021-06-29T12:29:26.217Z"
   },
   {
    "duration": 8,
    "start_time": "2021-06-29T12:29:26.257Z"
   },
   {
    "duration": 7,
    "start_time": "2021-06-29T12:29:26.267Z"
   },
   {
    "duration": 27,
    "start_time": "2021-06-29T12:29:26.276Z"
   },
   {
    "duration": 18,
    "start_time": "2021-06-29T12:29:26.306Z"
   },
   {
    "duration": 5,
    "start_time": "2021-06-29T12:29:26.354Z"
   },
   {
    "duration": 12,
    "start_time": "2021-06-29T12:29:26.362Z"
   },
   {
    "duration": 16,
    "start_time": "2021-06-29T12:29:26.376Z"
   },
   {
    "duration": 12,
    "start_time": "2021-06-29T12:29:26.395Z"
   },
   {
    "duration": 13,
    "start_time": "2021-06-29T12:29:26.409Z"
   },
   {
    "duration": 44,
    "start_time": "2021-06-29T12:29:26.424Z"
   },
   {
    "duration": 449,
    "start_time": "2021-06-29T12:29:26.471Z"
   },
   {
    "duration": 396,
    "start_time": "2021-06-29T12:29:26.923Z"
   },
   {
    "duration": 400,
    "start_time": "2021-06-29T12:29:27.322Z"
   },
   {
    "duration": 430,
    "start_time": "2021-06-29T12:29:27.724Z"
   },
   {
    "duration": 410,
    "start_time": "2021-06-29T12:29:28.157Z"
   },
   {
    "duration": 568,
    "start_time": "2021-06-29T12:29:28.569Z"
   },
   {
    "duration": 1421,
    "start_time": "2021-06-29T12:35:45.310Z"
   },
   {
    "duration": 240,
    "start_time": "2021-06-29T12:35:46.734Z"
   },
   {
    "duration": 206,
    "start_time": "2021-06-29T12:35:46.977Z"
   },
   {
    "duration": 135,
    "start_time": "2021-06-29T12:35:47.186Z"
   },
   {
    "duration": 35,
    "start_time": "2021-06-29T12:35:47.323Z"
   },
   {
    "duration": 68,
    "start_time": "2021-06-29T12:35:47.361Z"
   },
   {
    "duration": 8,
    "start_time": "2021-06-29T12:35:47.431Z"
   },
   {
    "duration": 107,
    "start_time": "2021-06-29T12:35:47.443Z"
   },
   {
    "duration": 8,
    "start_time": "2021-06-29T12:35:47.554Z"
   },
   {
    "duration": 26,
    "start_time": "2021-06-29T12:35:47.565Z"
   },
   {
    "duration": 5,
    "start_time": "2021-06-29T12:35:47.594Z"
   },
   {
    "duration": 55,
    "start_time": "2021-06-29T12:35:47.601Z"
   },
   {
    "duration": 30,
    "start_time": "2021-06-29T12:35:47.659Z"
   },
   {
    "duration": 26,
    "start_time": "2021-06-29T12:35:47.692Z"
   },
   {
    "duration": 6,
    "start_time": "2021-06-29T12:35:47.720Z"
   },
   {
    "duration": 48,
    "start_time": "2021-06-29T12:35:47.728Z"
   },
   {
    "duration": 21,
    "start_time": "2021-06-29T12:35:47.778Z"
   },
   {
    "duration": 59,
    "start_time": "2021-06-29T12:35:47.801Z"
   },
   {
    "duration": 16,
    "start_time": "2021-06-29T12:35:47.863Z"
   },
   {
    "duration": 20,
    "start_time": "2021-06-29T12:35:47.881Z"
   },
   {
    "duration": 169,
    "start_time": "2021-06-29T12:35:47.904Z"
   },
   {
    "duration": 121,
    "start_time": "2021-06-29T12:35:48.076Z"
   },
   {
    "duration": 119,
    "start_time": "2021-06-29T12:35:48.203Z"
   },
   {
    "duration": 50,
    "start_time": "2021-06-29T12:35:48.325Z"
   },
   {
    "duration": 33,
    "start_time": "2021-06-29T12:35:48.377Z"
   },
   {
    "duration": 3172,
    "start_time": "2021-06-29T12:35:48.413Z"
   },
   {
    "duration": 9,
    "start_time": "2021-06-29T12:35:51.588Z"
   },
   {
    "duration": 1091,
    "start_time": "2021-06-29T12:35:51.600Z"
   },
   {
    "duration": 8,
    "start_time": "2021-06-29T12:35:52.693Z"
   },
   {
    "duration": 43,
    "start_time": "2021-06-29T12:35:52.703Z"
   },
   {
    "duration": 22,
    "start_time": "2021-06-29T12:35:52.748Z"
   },
   {
    "duration": 16,
    "start_time": "2021-06-29T12:35:52.773Z"
   },
   {
    "duration": 21,
    "start_time": "2021-06-29T12:35:52.792Z"
   },
   {
    "duration": 39,
    "start_time": "2021-06-29T12:35:52.815Z"
   },
   {
    "duration": 12,
    "start_time": "2021-06-29T12:35:52.856Z"
   },
   {
    "duration": 18,
    "start_time": "2021-06-29T12:35:52.870Z"
   },
   {
    "duration": 23,
    "start_time": "2021-06-29T12:35:52.891Z"
   },
   {
    "duration": 495,
    "start_time": "2021-06-29T12:35:52.916Z"
   },
   {
    "duration": 526,
    "start_time": "2021-06-29T12:35:53.413Z"
   },
   {
    "duration": 508,
    "start_time": "2021-06-29T12:35:53.942Z"
   },
   {
    "duration": 22,
    "start_time": "2021-06-29T12:35:54.455Z"
   },
   {
    "duration": 4,
    "start_time": "2021-06-29T12:35:54.479Z"
   },
   {
    "duration": 22,
    "start_time": "2021-06-29T12:35:54.485Z"
   },
   {
    "duration": 456,
    "start_time": "2021-06-29T12:35:54.510Z"
   },
   {
    "duration": 20,
    "start_time": "2021-06-29T12:35:54.969Z"
   },
   {
    "duration": 18,
    "start_time": "2021-06-29T12:35:54.991Z"
   },
   {
    "duration": 12,
    "start_time": "2021-06-29T12:35:55.012Z"
   },
   {
    "duration": 13,
    "start_time": "2021-06-29T12:35:55.055Z"
   },
   {
    "duration": 14,
    "start_time": "2021-06-29T12:35:55.070Z"
   },
   {
    "duration": 13,
    "start_time": "2021-06-29T12:35:55.086Z"
   },
   {
    "duration": 14,
    "start_time": "2021-06-29T12:35:55.102Z"
   },
   {
    "duration": 36,
    "start_time": "2021-06-29T12:35:55.118Z"
   },
   {
    "duration": 17,
    "start_time": "2021-06-29T12:35:55.157Z"
   },
   {
    "duration": 13,
    "start_time": "2021-06-29T12:35:55.177Z"
   },
   {
    "duration": 9,
    "start_time": "2021-06-29T12:35:55.193Z"
   },
   {
    "duration": 14,
    "start_time": "2021-06-29T12:35:55.205Z"
   },
   {
    "duration": 34,
    "start_time": "2021-06-29T12:35:55.221Z"
   },
   {
    "duration": 16,
    "start_time": "2021-06-29T12:35:55.257Z"
   },
   {
    "duration": 26,
    "start_time": "2021-06-29T12:35:55.275Z"
   },
   {
    "duration": 17,
    "start_time": "2021-06-29T12:35:55.304Z"
   },
   {
    "duration": 5,
    "start_time": "2021-06-29T12:35:55.324Z"
   },
   {
    "duration": 12,
    "start_time": "2021-06-29T12:35:55.355Z"
   },
   {
    "duration": 444,
    "start_time": "2021-06-29T12:35:55.369Z"
   },
   {
    "duration": 8,
    "start_time": "2021-06-29T12:35:55.816Z"
   },
   {
    "duration": 31,
    "start_time": "2021-06-29T12:35:55.826Z"
   },
   {
    "duration": 12,
    "start_time": "2021-06-29T12:35:55.859Z"
   },
   {
    "duration": 12,
    "start_time": "2021-06-29T12:35:55.874Z"
   },
   {
    "duration": 6,
    "start_time": "2021-06-29T12:35:55.895Z"
   },
   {
    "duration": 8,
    "start_time": "2021-06-29T12:35:55.904Z"
   },
   {
    "duration": 40,
    "start_time": "2021-06-29T12:35:55.914Z"
   },
   {
    "duration": 18,
    "start_time": "2021-06-29T12:35:55.957Z"
   },
   {
    "duration": 18,
    "start_time": "2021-06-29T12:35:55.977Z"
   },
   {
    "duration": 8,
    "start_time": "2021-06-29T12:35:55.998Z"
   },
   {
    "duration": 8,
    "start_time": "2021-06-29T12:35:56.008Z"
   },
   {
    "duration": 12,
    "start_time": "2021-06-29T12:35:56.054Z"
   },
   {
    "duration": 17,
    "start_time": "2021-06-29T12:35:56.068Z"
   },
   {
    "duration": 16,
    "start_time": "2021-06-29T12:35:56.088Z"
   },
   {
    "duration": 25,
    "start_time": "2021-06-29T12:35:56.106Z"
   },
   {
    "duration": 453,
    "start_time": "2021-06-29T12:35:56.154Z"
   },
   {
    "duration": 416,
    "start_time": "2021-06-29T12:35:56.609Z"
   },
   {
    "duration": 513,
    "start_time": "2021-06-29T12:35:57.028Z"
   },
   {
    "duration": 414,
    "start_time": "2021-06-29T12:35:57.543Z"
   },
   {
    "duration": 404,
    "start_time": "2021-06-29T12:35:57.960Z"
   },
   {
    "duration": 454,
    "start_time": "2021-06-29T12:35:58.367Z"
   },
   {
    "duration": 1536,
    "start_time": "2021-06-30T08:58:24.517Z"
   },
   {
    "duration": 250,
    "start_time": "2021-06-30T08:58:26.055Z"
   },
   {
    "duration": 212,
    "start_time": "2021-06-30T08:58:26.308Z"
   },
   {
    "duration": 148,
    "start_time": "2021-06-30T08:58:26.523Z"
   },
   {
    "duration": 30,
    "start_time": "2021-06-30T08:58:26.674Z"
   },
   {
    "duration": 83,
    "start_time": "2021-06-30T08:58:26.707Z"
   },
   {
    "duration": 11,
    "start_time": "2021-06-30T08:58:26.793Z"
   },
   {
    "duration": 145,
    "start_time": "2021-06-30T08:58:26.810Z"
   },
   {
    "duration": 10,
    "start_time": "2021-06-30T08:58:26.962Z"
   },
   {
    "duration": 26,
    "start_time": "2021-06-30T08:58:26.975Z"
   },
   {
    "duration": 6,
    "start_time": "2021-06-30T08:58:27.004Z"
   },
   {
    "duration": 66,
    "start_time": "2021-06-30T08:58:27.013Z"
   },
   {
    "duration": 21,
    "start_time": "2021-06-30T08:58:27.081Z"
   },
   {
    "duration": 25,
    "start_time": "2021-06-30T08:58:27.104Z"
   },
   {
    "duration": 34,
    "start_time": "2021-06-30T08:58:27.131Z"
   },
   {
    "duration": 24,
    "start_time": "2021-06-30T08:58:27.168Z"
   },
   {
    "duration": 20,
    "start_time": "2021-06-30T08:58:27.195Z"
   },
   {
    "duration": 56,
    "start_time": "2021-06-30T08:58:27.217Z"
   },
   {
    "duration": 16,
    "start_time": "2021-06-30T08:58:27.276Z"
   },
   {
    "duration": 8,
    "start_time": "2021-06-30T08:58:27.295Z"
   },
   {
    "duration": 209,
    "start_time": "2021-06-30T08:58:27.305Z"
   },
   {
    "duration": 127,
    "start_time": "2021-06-30T08:58:27.517Z"
   },
   {
    "duration": 136,
    "start_time": "2021-06-30T08:58:27.650Z"
   },
   {
    "duration": 39,
    "start_time": "2021-06-30T08:58:27.790Z"
   },
   {
    "duration": 63,
    "start_time": "2021-06-30T08:58:27.831Z"
   },
   {
    "duration": 3301,
    "start_time": "2021-06-30T08:58:27.896Z"
   },
   {
    "duration": 10,
    "start_time": "2021-06-30T08:58:31.199Z"
   },
   {
    "duration": 1149,
    "start_time": "2021-06-30T08:58:31.212Z"
   },
   {
    "duration": 6,
    "start_time": "2021-06-30T08:58:32.364Z"
   },
   {
    "duration": 42,
    "start_time": "2021-06-30T08:58:32.373Z"
   },
   {
    "duration": 9,
    "start_time": "2021-06-30T08:58:32.417Z"
   },
   {
    "duration": 44,
    "start_time": "2021-06-30T08:58:32.429Z"
   },
   {
    "duration": 11,
    "start_time": "2021-06-30T08:58:32.475Z"
   },
   {
    "duration": 16,
    "start_time": "2021-06-30T08:58:32.488Z"
   },
   {
    "duration": 12,
    "start_time": "2021-06-30T08:58:32.506Z"
   },
   {
    "duration": 43,
    "start_time": "2021-06-30T08:58:32.520Z"
   },
   {
    "duration": 9,
    "start_time": "2021-06-30T08:58:32.565Z"
   },
   {
    "duration": 507,
    "start_time": "2021-06-30T08:58:32.576Z"
   },
   {
    "duration": 517,
    "start_time": "2021-06-30T08:58:33.086Z"
   },
   {
    "duration": 502,
    "start_time": "2021-06-30T08:58:33.605Z"
   },
   {
    "duration": 16,
    "start_time": "2021-06-30T08:58:34.110Z"
   },
   {
    "duration": 4,
    "start_time": "2021-06-30T08:58:34.129Z"
   },
   {
    "duration": 12,
    "start_time": "2021-06-30T08:58:34.162Z"
   },
   {
    "duration": 446,
    "start_time": "2021-06-30T08:58:34.176Z"
   },
   {
    "duration": 39,
    "start_time": "2021-06-30T08:58:34.624Z"
   },
   {
    "duration": 12,
    "start_time": "2021-06-30T08:58:34.665Z"
   },
   {
    "duration": 14,
    "start_time": "2021-06-30T08:58:34.679Z"
   },
   {
    "duration": 15,
    "start_time": "2021-06-30T08:58:34.695Z"
   },
   {
    "duration": 5,
    "start_time": "2021-06-30T08:58:34.712Z"
   },
   {
    "duration": 14,
    "start_time": "2021-06-30T08:58:34.719Z"
   },
   {
    "duration": 6,
    "start_time": "2021-06-30T08:58:34.761Z"
   },
   {
    "duration": 18,
    "start_time": "2021-06-30T08:58:34.769Z"
   },
   {
    "duration": 18,
    "start_time": "2021-06-30T08:58:34.789Z"
   },
   {
    "duration": 53,
    "start_time": "2021-06-30T08:58:34.809Z"
   },
   {
    "duration": 5,
    "start_time": "2021-06-30T08:58:34.865Z"
   },
   {
    "duration": 11,
    "start_time": "2021-06-30T08:58:34.872Z"
   },
   {
    "duration": 11,
    "start_time": "2021-06-30T08:58:34.886Z"
   },
   {
    "duration": 11,
    "start_time": "2021-06-30T08:58:34.899Z"
   },
   {
    "duration": 65,
    "start_time": "2021-06-30T08:58:34.913Z"
   },
   {
    "duration": 23,
    "start_time": "2021-06-30T08:58:34.981Z"
   },
   {
    "duration": 6,
    "start_time": "2021-06-30T08:58:35.007Z"
   },
   {
    "duration": 52,
    "start_time": "2021-06-30T08:58:35.015Z"
   },
   {
    "duration": 607,
    "start_time": "2021-06-30T08:58:35.070Z"
   },
   {
    "duration": 9,
    "start_time": "2021-06-30T08:58:35.680Z"
   },
   {
    "duration": 27,
    "start_time": "2021-06-30T08:58:35.692Z"
   },
   {
    "duration": 13,
    "start_time": "2021-06-30T08:58:35.722Z"
   },
   {
    "duration": 12,
    "start_time": "2021-06-30T08:58:35.762Z"
   },
   {
    "duration": 5,
    "start_time": "2021-06-30T08:58:35.782Z"
   },
   {
    "duration": 8,
    "start_time": "2021-06-30T08:58:35.790Z"
   },
   {
    "duration": 8,
    "start_time": "2021-06-30T08:58:35.801Z"
   },
   {
    "duration": 62,
    "start_time": "2021-06-30T08:58:35.811Z"
   },
   {
    "duration": 17,
    "start_time": "2021-06-30T08:58:35.876Z"
   },
   {
    "duration": 7,
    "start_time": "2021-06-30T08:58:35.896Z"
   },
   {
    "duration": 11,
    "start_time": "2021-06-30T08:58:35.905Z"
   },
   {
    "duration": 12,
    "start_time": "2021-06-30T08:58:35.919Z"
   },
   {
    "duration": 35,
    "start_time": "2021-06-30T08:58:35.933Z"
   },
   {
    "duration": 11,
    "start_time": "2021-06-30T08:58:35.971Z"
   },
   {
    "duration": 24,
    "start_time": "2021-06-30T08:58:35.985Z"
   },
   {
    "duration": 459,
    "start_time": "2021-06-30T08:58:36.011Z"
   },
   {
    "duration": 381,
    "start_time": "2021-06-30T08:58:36.472Z"
   },
   {
    "duration": 383,
    "start_time": "2021-06-30T08:58:36.856Z"
   },
   {
    "duration": 407,
    "start_time": "2021-06-30T08:58:37.242Z"
   },
   {
    "duration": 413,
    "start_time": "2021-06-30T08:58:37.652Z"
   },
   {
    "duration": 385,
    "start_time": "2021-06-30T08:58:38.067Z"
   },
   {
    "duration": 4,
    "start_time": "2021-06-30T09:07:22.363Z"
   },
   {
    "duration": 8,
    "start_time": "2021-06-30T09:09:14.007Z"
   },
   {
    "duration": 8,
    "start_time": "2021-06-30T09:09:35.533Z"
   },
   {
    "duration": 8598,
    "start_time": "2021-06-30T09:09:46.080Z"
   },
   {
    "duration": 7,
    "start_time": "2021-06-30T09:10:10.324Z"
   },
   {
    "duration": 6,
    "start_time": "2021-06-30T09:10:46.363Z"
   },
   {
    "duration": 6,
    "start_time": "2021-06-30T09:14:58.969Z"
   },
   {
    "duration": 6,
    "start_time": "2021-06-30T09:15:59.594Z"
   },
   {
    "duration": 6,
    "start_time": "2021-06-30T09:16:11.381Z"
   },
   {
    "duration": 323,
    "start_time": "2021-06-30T09:17:16.321Z"
   },
   {
    "duration": 5,
    "start_time": "2021-06-30T09:17:24.277Z"
   },
   {
    "duration": 6,
    "start_time": "2021-06-30T09:18:11.368Z"
   },
   {
    "duration": 5,
    "start_time": "2021-06-30T09:18:23.400Z"
   },
   {
    "duration": 403,
    "start_time": "2021-06-30T09:19:34.355Z"
   },
   {
    "duration": 4,
    "start_time": "2021-06-30T09:19:40.712Z"
   },
   {
    "duration": 345,
    "start_time": "2021-06-30T09:20:29.664Z"
   },
   {
    "duration": 5,
    "start_time": "2021-06-30T09:20:35.544Z"
   },
   {
    "duration": 324,
    "start_time": "2021-06-30T09:21:06.734Z"
   },
   {
    "duration": 6,
    "start_time": "2021-06-30T09:21:14.814Z"
   },
   {
    "duration": 355,
    "start_time": "2021-06-30T09:28:26.968Z"
   },
   {
    "duration": 1552,
    "start_time": "2021-06-30T09:30:35.602Z"
   },
   {
    "duration": 244,
    "start_time": "2021-06-30T09:30:37.156Z"
   },
   {
    "duration": 212,
    "start_time": "2021-06-30T09:30:37.403Z"
   },
   {
    "duration": 146,
    "start_time": "2021-06-30T09:30:37.618Z"
   },
   {
    "duration": 38,
    "start_time": "2021-06-30T09:30:37.766Z"
   },
   {
    "duration": 70,
    "start_time": "2021-06-30T09:30:37.807Z"
   },
   {
    "duration": 9,
    "start_time": "2021-06-30T09:30:37.881Z"
   },
   {
    "duration": 136,
    "start_time": "2021-06-30T09:30:37.896Z"
   },
   {
    "duration": 9,
    "start_time": "2021-06-30T09:30:38.036Z"
   },
   {
    "duration": 40,
    "start_time": "2021-06-30T09:30:38.047Z"
   },
   {
    "duration": 6,
    "start_time": "2021-06-30T09:30:38.089Z"
   },
   {
    "duration": 29,
    "start_time": "2021-06-30T09:30:38.097Z"
   },
   {
    "duration": 48,
    "start_time": "2021-06-30T09:30:38.128Z"
   },
   {
    "duration": 25,
    "start_time": "2021-06-30T09:30:38.179Z"
   },
   {
    "duration": 5,
    "start_time": "2021-06-30T09:30:38.206Z"
   },
   {
    "duration": 56,
    "start_time": "2021-06-30T09:30:38.213Z"
   },
   {
    "duration": 21,
    "start_time": "2021-06-30T09:30:38.272Z"
   },
   {
    "duration": 25,
    "start_time": "2021-06-30T09:30:38.296Z"
   },
   {
    "duration": 41,
    "start_time": "2021-06-30T09:30:38.323Z"
   },
   {
    "duration": 5,
    "start_time": "2021-06-30T09:30:38.366Z"
   },
   {
    "duration": 572,
    "start_time": "2021-06-30T09:30:38.373Z"
   },
   {
    "duration": -3920,
    "start_time": "2021-06-30T09:30:42.871Z"
   },
   {
    "duration": -3925,
    "start_time": "2021-06-30T09:30:42.877Z"
   },
   {
    "duration": -3929,
    "start_time": "2021-06-30T09:30:42.883Z"
   },
   {
    "duration": -3933,
    "start_time": "2021-06-30T09:30:42.889Z"
   },
   {
    "duration": -3986,
    "start_time": "2021-06-30T09:30:42.943Z"
   },
   {
    "duration": -3993,
    "start_time": "2021-06-30T09:30:42.951Z"
   },
   {
    "duration": -3998,
    "start_time": "2021-06-30T09:30:42.958Z"
   },
   {
    "duration": -4003,
    "start_time": "2021-06-30T09:30:42.964Z"
   },
   {
    "duration": -4008,
    "start_time": "2021-06-30T09:30:42.970Z"
   },
   {
    "duration": -4012,
    "start_time": "2021-06-30T09:30:42.976Z"
   },
   {
    "duration": -4018,
    "start_time": "2021-06-30T09:30:42.983Z"
   },
   {
    "duration": -4023,
    "start_time": "2021-06-30T09:30:42.989Z"
   },
   {
    "duration": -4028,
    "start_time": "2021-06-30T09:30:42.995Z"
   },
   {
    "duration": -4031,
    "start_time": "2021-06-30T09:30:43.000Z"
   },
   {
    "duration": -4038,
    "start_time": "2021-06-30T09:30:43.008Z"
   },
   {
    "duration": -4043,
    "start_time": "2021-06-30T09:30:43.014Z"
   },
   {
    "duration": -4048,
    "start_time": "2021-06-30T09:30:43.020Z"
   },
   {
    "duration": -4052,
    "start_time": "2021-06-30T09:30:43.025Z"
   },
   {
    "duration": -4057,
    "start_time": "2021-06-30T09:30:43.031Z"
   },
   {
    "duration": -4061,
    "start_time": "2021-06-30T09:30:43.037Z"
   },
   {
    "duration": -4079,
    "start_time": "2021-06-30T09:30:43.056Z"
   },
   {
    "duration": -4084,
    "start_time": "2021-06-30T09:30:43.062Z"
   },
   {
    "duration": -4088,
    "start_time": "2021-06-30T09:30:43.068Z"
   },
   {
    "duration": -4128,
    "start_time": "2021-06-30T09:30:43.109Z"
   },
   {
    "duration": -4134,
    "start_time": "2021-06-30T09:30:43.116Z"
   },
   {
    "duration": -4140,
    "start_time": "2021-06-30T09:30:43.123Z"
   },
   {
    "duration": -4147,
    "start_time": "2021-06-30T09:30:43.131Z"
   },
   {
    "duration": -4152,
    "start_time": "2021-06-30T09:30:43.138Z"
   },
   {
    "duration": -4158,
    "start_time": "2021-06-30T09:30:43.145Z"
   },
   {
    "duration": -4163,
    "start_time": "2021-06-30T09:30:43.151Z"
   },
   {
    "duration": -4180,
    "start_time": "2021-06-30T09:30:43.169Z"
   },
   {
    "duration": -4185,
    "start_time": "2021-06-30T09:30:43.176Z"
   },
   {
    "duration": -4190,
    "start_time": "2021-06-30T09:30:43.182Z"
   },
   {
    "duration": -4196,
    "start_time": "2021-06-30T09:30:43.189Z"
   },
   {
    "duration": -4201,
    "start_time": "2021-06-30T09:30:43.195Z"
   },
   {
    "duration": -4206,
    "start_time": "2021-06-30T09:30:43.201Z"
   },
   {
    "duration": -4209,
    "start_time": "2021-06-30T09:30:43.206Z"
   },
   {
    "duration": -4215,
    "start_time": "2021-06-30T09:30:43.213Z"
   },
   {
    "duration": -4219,
    "start_time": "2021-06-30T09:30:43.218Z"
   },
   {
    "duration": -4224,
    "start_time": "2021-06-30T09:30:43.224Z"
   },
   {
    "duration": -4168,
    "start_time": "2021-06-30T09:30:43.230Z"
   },
   {
    "duration": -4173,
    "start_time": "2021-06-30T09:30:43.237Z"
   },
   {
    "duration": -4178,
    "start_time": "2021-06-30T09:30:43.243Z"
   },
   {
    "duration": -4182,
    "start_time": "2021-06-30T09:30:43.249Z"
   },
   {
    "duration": -4186,
    "start_time": "2021-06-30T09:30:43.255Z"
   },
   {
    "duration": -4190,
    "start_time": "2021-06-30T09:30:43.261Z"
   },
   {
    "duration": -4194,
    "start_time": "2021-06-30T09:30:43.267Z"
   },
   {
    "duration": -4215,
    "start_time": "2021-06-30T09:30:43.289Z"
   },
   {
    "duration": -4218,
    "start_time": "2021-06-30T09:30:43.294Z"
   },
   {
    "duration": -4224,
    "start_time": "2021-06-30T09:30:43.301Z"
   },
   {
    "duration": -4228,
    "start_time": "2021-06-30T09:30:43.307Z"
   },
   {
    "duration": -4233,
    "start_time": "2021-06-30T09:30:43.313Z"
   },
   {
    "duration": -4236,
    "start_time": "2021-06-30T09:30:43.318Z"
   },
   {
    "duration": -4242,
    "start_time": "2021-06-30T09:30:43.325Z"
   },
   {
    "duration": -4245,
    "start_time": "2021-06-30T09:30:43.330Z"
   },
   {
    "duration": -4249,
    "start_time": "2021-06-30T09:30:43.336Z"
   },
   {
    "duration": -4253,
    "start_time": "2021-06-30T09:30:43.342Z"
   },
   {
    "duration": -4257,
    "start_time": "2021-06-30T09:30:43.348Z"
   },
   {
    "duration": -4261,
    "start_time": "2021-06-30T09:30:43.354Z"
   },
   {
    "duration": -4264,
    "start_time": "2021-06-30T09:30:43.359Z"
   },
   {
    "duration": -4268,
    "start_time": "2021-06-30T09:30:43.365Z"
   },
   {
    "duration": -4272,
    "start_time": "2021-06-30T09:30:43.371Z"
   },
   {
    "duration": -4212,
    "start_time": "2021-06-30T09:30:43.377Z"
   },
   {
    "duration": -4215,
    "start_time": "2021-06-30T09:30:43.382Z"
   },
   {
    "duration": -4219,
    "start_time": "2021-06-30T09:30:43.388Z"
   },
   {
    "duration": -4234,
    "start_time": "2021-06-30T09:30:43.406Z"
   },
   {
    "duration": -4238,
    "start_time": "2021-06-30T09:30:43.412Z"
   },
   {
    "duration": -4242,
    "start_time": "2021-06-30T09:30:43.418Z"
   },
   {
    "duration": -4238,
    "start_time": "2021-06-30T09:30:43.424Z"
   },
   {
    "duration": 398,
    "start_time": "2021-06-30T09:30:39.730Z"
   },
   {
    "duration": -3323,
    "start_time": "2021-06-30T09:30:43.453Z"
   },
   {
    "duration": -3328,
    "start_time": "2021-06-30T09:30:43.460Z"
   },
   {
    "duration": -3332,
    "start_time": "2021-06-30T09:30:43.465Z"
   },
   {
    "duration": 395,
    "start_time": "2021-06-30T09:30:40.322Z"
   },
   {
    "duration": -2920,
    "start_time": "2021-06-30T09:30:43.640Z"
   },
   {
    "duration": -2928,
    "start_time": "2021-06-30T09:30:43.649Z"
   },
   {
    "duration": -2933,
    "start_time": "2021-06-30T09:30:43.656Z"
   },
   {
    "duration": 1619,
    "start_time": "2021-06-30T09:31:41.738Z"
   },
   {
    "duration": 257,
    "start_time": "2021-06-30T09:31:43.359Z"
   },
   {
    "duration": 218,
    "start_time": "2021-06-30T09:31:43.619Z"
   },
   {
    "duration": 151,
    "start_time": "2021-06-30T09:31:43.840Z"
   },
   {
    "duration": 30,
    "start_time": "2021-06-30T09:31:43.994Z"
   },
   {
    "duration": 62,
    "start_time": "2021-06-30T09:31:44.026Z"
   },
   {
    "duration": 8,
    "start_time": "2021-06-30T09:31:44.090Z"
   },
   {
    "duration": 129,
    "start_time": "2021-06-30T09:31:44.101Z"
   },
   {
    "duration": 11,
    "start_time": "2021-06-30T09:31:44.233Z"
   },
   {
    "duration": 27,
    "start_time": "2021-06-30T09:31:44.263Z"
   },
   {
    "duration": 5,
    "start_time": "2021-06-30T09:31:44.293Z"
   },
   {
    "duration": 30,
    "start_time": "2021-06-30T09:31:44.301Z"
   },
   {
    "duration": 44,
    "start_time": "2021-06-30T09:31:44.334Z"
   },
   {
    "duration": 25,
    "start_time": "2021-06-30T09:31:44.381Z"
   },
   {
    "duration": 5,
    "start_time": "2021-06-30T09:31:44.408Z"
   },
   {
    "duration": 50,
    "start_time": "2021-06-30T09:31:44.416Z"
   },
   {
    "duration": 21,
    "start_time": "2021-06-30T09:31:44.469Z"
   },
   {
    "duration": 23,
    "start_time": "2021-06-30T09:31:44.493Z"
   },
   {
    "duration": 57,
    "start_time": "2021-06-30T09:31:44.519Z"
   },
   {
    "duration": 26,
    "start_time": "2021-06-30T09:31:44.578Z"
   },
   {
    "duration": 175,
    "start_time": "2021-06-30T09:31:44.607Z"
   },
   {
    "duration": 118,
    "start_time": "2021-06-30T09:31:44.784Z"
   },
   {
    "duration": 126,
    "start_time": "2021-06-30T09:31:44.908Z"
   },
   {
    "duration": 46,
    "start_time": "2021-06-30T09:31:45.038Z"
   },
   {
    "duration": 33,
    "start_time": "2021-06-30T09:31:45.086Z"
   },
   {
    "duration": 3388,
    "start_time": "2021-06-30T09:31:45.121Z"
   },
   {
    "duration": 8,
    "start_time": "2021-06-30T09:31:48.512Z"
   },
   {
    "duration": 1103,
    "start_time": "2021-06-30T09:31:48.522Z"
   },
   {
    "duration": 7,
    "start_time": "2021-06-30T09:31:49.628Z"
   },
   {
    "duration": 42,
    "start_time": "2021-06-30T09:31:49.637Z"
   },
   {
    "duration": 10,
    "start_time": "2021-06-30T09:31:49.681Z"
   },
   {
    "duration": 17,
    "start_time": "2021-06-30T09:31:49.693Z"
   },
   {
    "duration": 12,
    "start_time": "2021-06-30T09:31:49.713Z"
   },
   {
    "duration": 46,
    "start_time": "2021-06-30T09:31:49.727Z"
   },
   {
    "duration": 13,
    "start_time": "2021-06-30T09:31:49.775Z"
   },
   {
    "duration": 11,
    "start_time": "2021-06-30T09:31:49.790Z"
   },
   {
    "duration": 13,
    "start_time": "2021-06-30T09:31:49.804Z"
   },
   {
    "duration": 508,
    "start_time": "2021-06-30T09:31:49.819Z"
   },
   {
    "duration": 537,
    "start_time": "2021-06-30T09:31:50.329Z"
   },
   {
    "duration": 500,
    "start_time": "2021-06-30T09:31:50.868Z"
   },
   {
    "duration": 16,
    "start_time": "2021-06-30T09:31:51.370Z"
   },
   {
    "duration": 11,
    "start_time": "2021-06-30T09:31:51.388Z"
   },
   {
    "duration": 25,
    "start_time": "2021-06-30T09:31:51.401Z"
   },
   {
    "duration": 439,
    "start_time": "2021-06-30T09:31:51.428Z"
   },
   {
    "duration": 19,
    "start_time": "2021-06-30T09:31:51.870Z"
   },
   {
    "duration": 46,
    "start_time": "2021-06-30T09:31:51.891Z"
   },
   {
    "duration": 18,
    "start_time": "2021-06-30T09:31:51.939Z"
   },
   {
    "duration": 11,
    "start_time": "2021-06-30T09:31:51.960Z"
   },
   {
    "duration": 18,
    "start_time": "2021-06-30T09:31:51.974Z"
   },
   {
    "duration": 10,
    "start_time": "2021-06-30T09:31:51.994Z"
   },
   {
    "duration": 17,
    "start_time": "2021-06-30T09:31:52.006Z"
   },
   {
    "duration": 29,
    "start_time": "2021-06-30T09:31:52.025Z"
   },
   {
    "duration": 22,
    "start_time": "2021-06-30T09:31:52.057Z"
   },
   {
    "duration": 6,
    "start_time": "2021-06-30T09:31:52.082Z"
   },
   {
    "duration": 14,
    "start_time": "2021-06-30T09:31:52.091Z"
   },
   {
    "duration": 26,
    "start_time": "2021-06-30T09:31:52.108Z"
   },
   {
    "duration": 25,
    "start_time": "2021-06-30T09:31:52.136Z"
   },
   {
    "duration": 19,
    "start_time": "2021-06-30T09:31:52.163Z"
   },
   {
    "duration": 42,
    "start_time": "2021-06-30T09:31:52.185Z"
   },
   {
    "duration": 29,
    "start_time": "2021-06-30T09:31:52.229Z"
   },
   {
    "duration": 13,
    "start_time": "2021-06-30T09:31:52.261Z"
   },
   {
    "duration": 35,
    "start_time": "2021-06-30T09:31:52.276Z"
   },
   {
    "duration": 443,
    "start_time": "2021-06-30T09:31:52.314Z"
   },
   {
    "duration": 8,
    "start_time": "2021-06-30T09:31:52.762Z"
   },
   {
    "duration": 36,
    "start_time": "2021-06-30T09:31:52.772Z"
   },
   {
    "duration": 29,
    "start_time": "2021-06-30T09:31:52.810Z"
   },
   {
    "duration": 23,
    "start_time": "2021-06-30T09:31:52.841Z"
   },
   {
    "duration": 19,
    "start_time": "2021-06-30T09:31:52.873Z"
   },
   {
    "duration": 23,
    "start_time": "2021-06-30T09:31:52.895Z"
   },
   {
    "duration": 27,
    "start_time": "2021-06-30T09:31:52.921Z"
   },
   {
    "duration": 41,
    "start_time": "2021-06-30T09:31:52.951Z"
   },
   {
    "duration": 31,
    "start_time": "2021-06-30T09:31:52.995Z"
   },
   {
    "duration": 5,
    "start_time": "2021-06-30T09:31:53.029Z"
   },
   {
    "duration": 38,
    "start_time": "2021-06-30T09:31:53.036Z"
   },
   {
    "duration": 41,
    "start_time": "2021-06-30T09:31:53.076Z"
   },
   {
    "duration": 30,
    "start_time": "2021-06-30T09:31:53.119Z"
   },
   {
    "duration": 38,
    "start_time": "2021-06-30T09:31:53.152Z"
   },
   {
    "duration": 45,
    "start_time": "2021-06-30T09:31:53.192Z"
   },
   {
    "duration": 450,
    "start_time": "2021-06-30T09:31:53.240Z"
   },
   {
    "duration": 411,
    "start_time": "2021-06-30T09:31:53.693Z"
   },
   {
    "duration": 405,
    "start_time": "2021-06-30T09:31:54.107Z"
   },
   {
    "duration": 423,
    "start_time": "2021-06-30T09:31:54.514Z"
   },
   {
    "duration": 445,
    "start_time": "2021-06-30T09:31:54.940Z"
   },
   {
    "duration": 392,
    "start_time": "2021-06-30T09:31:55.388Z"
   },
   {
    "duration": 4,
    "start_time": "2021-06-30T09:31:55.782Z"
   },
   {
    "duration": 29,
    "start_time": "2021-06-30T09:31:55.788Z"
   },
   {
    "duration": 12,
    "start_time": "2021-06-30T09:31:55.820Z"
   },
   {
    "duration": 8,
    "start_time": "2021-06-30T09:31:55.834Z"
   },
   {
    "duration": 22,
    "start_time": "2021-06-30T09:31:55.844Z"
   },
   {
    "duration": 11,
    "start_time": "2021-06-30T09:31:55.869Z"
   },
   {
    "duration": 11,
    "start_time": "2021-06-30T09:31:55.882Z"
   },
   {
    "duration": 8,
    "start_time": "2021-06-30T09:31:55.895Z"
   },
   {
    "duration": 10,
    "start_time": "2021-06-30T09:31:55.905Z"
   },
   {
    "duration": 9,
    "start_time": "2021-06-30T09:31:55.917Z"
   },
   {
    "duration": 37,
    "start_time": "2021-06-30T09:31:55.928Z"
   },
   {
    "duration": 12,
    "start_time": "2021-06-30T09:31:55.967Z"
   },
   {
    "duration": 8,
    "start_time": "2021-06-30T09:31:55.981Z"
   },
   {
    "duration": 571,
    "start_time": "2021-06-30T09:31:55.991Z"
   },
   {
    "duration": 4874,
    "start_time": "2021-06-30T09:32:40.367Z"
   },
   {
    "duration": 43,
    "start_time": "2021-06-30T09:33:06.810Z"
   },
   {
    "duration": 3273,
    "start_time": "2021-06-30T09:33:57.455Z"
   },
   {
    "duration": 45,
    "start_time": "2021-06-30T09:34:03.253Z"
   },
   {
    "duration": 12,
    "start_time": "2021-06-30T09:34:23.882Z"
   },
   {
    "duration": 12,
    "start_time": "2021-06-30T09:34:50.814Z"
   },
   {
    "duration": 4,
    "start_time": "2021-06-30T09:35:01.568Z"
   },
   {
    "duration": 6,
    "start_time": "2021-06-30T09:35:59.566Z"
   },
   {
    "duration": 6,
    "start_time": "2021-06-30T09:36:36.529Z"
   },
   {
    "duration": 7,
    "start_time": "2021-06-30T09:37:39.646Z"
   },
   {
    "duration": 7,
    "start_time": "2021-06-30T09:38:11.321Z"
   },
   {
    "duration": 5,
    "start_time": "2021-06-30T09:38:55.831Z"
   },
   {
    "duration": 5,
    "start_time": "2021-06-30T09:39:03.786Z"
   },
   {
    "duration": 6,
    "start_time": "2021-06-30T09:39:12.020Z"
   },
   {
    "duration": 1483,
    "start_time": "2021-06-30T09:45:37.164Z"
   },
   {
    "duration": 268,
    "start_time": "2021-06-30T09:45:38.650Z"
   },
   {
    "duration": 214,
    "start_time": "2021-06-30T09:45:38.921Z"
   },
   {
    "duration": 146,
    "start_time": "2021-06-30T09:45:39.137Z"
   },
   {
    "duration": 30,
    "start_time": "2021-06-30T09:45:39.285Z"
   },
   {
    "duration": 53,
    "start_time": "2021-06-30T09:45:39.318Z"
   },
   {
    "duration": 8,
    "start_time": "2021-06-30T09:45:39.373Z"
   },
   {
    "duration": 126,
    "start_time": "2021-06-30T09:45:39.384Z"
   },
   {
    "duration": 9,
    "start_time": "2021-06-30T09:45:39.514Z"
   },
   {
    "duration": 43,
    "start_time": "2021-06-30T09:45:39.525Z"
   },
   {
    "duration": 5,
    "start_time": "2021-06-30T09:45:39.570Z"
   },
   {
    "duration": 29,
    "start_time": "2021-06-30T09:45:39.577Z"
   },
   {
    "duration": 22,
    "start_time": "2021-06-30T09:45:39.609Z"
   },
   {
    "duration": 26,
    "start_time": "2021-06-30T09:45:39.661Z"
   },
   {
    "duration": 4,
    "start_time": "2021-06-30T09:45:39.690Z"
   },
   {
    "duration": 25,
    "start_time": "2021-06-30T09:45:39.697Z"
   },
   {
    "duration": 50,
    "start_time": "2021-06-30T09:45:39.724Z"
   },
   {
    "duration": 30,
    "start_time": "2021-06-30T09:45:39.777Z"
   },
   {
    "duration": 23,
    "start_time": "2021-06-30T09:45:39.810Z"
   },
   {
    "duration": 10,
    "start_time": "2021-06-30T09:45:39.863Z"
   },
   {
    "duration": 230,
    "start_time": "2021-06-30T09:45:39.876Z"
   },
   {
    "duration": 160,
    "start_time": "2021-06-30T09:45:40.110Z"
   },
   {
    "duration": 163,
    "start_time": "2021-06-30T09:45:40.279Z"
   },
   {
    "duration": 58,
    "start_time": "2021-06-30T09:45:40.448Z"
   },
   {
    "duration": 69,
    "start_time": "2021-06-30T09:45:40.509Z"
   },
   {
    "duration": 3340,
    "start_time": "2021-06-30T09:45:40.581Z"
   },
   {
    "duration": 9,
    "start_time": "2021-06-30T09:45:43.924Z"
   },
   {
    "duration": 1112,
    "start_time": "2021-06-30T09:45:43.936Z"
   },
   {
    "duration": 12,
    "start_time": "2021-06-30T09:45:45.050Z"
   },
   {
    "duration": 38,
    "start_time": "2021-06-30T09:45:45.064Z"
   },
   {
    "duration": 18,
    "start_time": "2021-06-30T09:45:45.104Z"
   },
   {
    "duration": 37,
    "start_time": "2021-06-30T09:45:45.125Z"
   },
   {
    "duration": 13,
    "start_time": "2021-06-30T09:45:45.164Z"
   },
   {
    "duration": 33,
    "start_time": "2021-06-30T09:45:45.179Z"
   },
   {
    "duration": 12,
    "start_time": "2021-06-30T09:45:45.214Z"
   },
   {
    "duration": 18,
    "start_time": "2021-06-30T09:45:45.228Z"
   },
   {
    "duration": 18,
    "start_time": "2021-06-30T09:45:45.248Z"
   },
   {
    "duration": 488,
    "start_time": "2021-06-30T09:45:45.269Z"
   },
   {
    "duration": 526,
    "start_time": "2021-06-30T09:45:45.762Z"
   },
   {
    "duration": 525,
    "start_time": "2021-06-30T09:45:46.290Z"
   },
   {
    "duration": 17,
    "start_time": "2021-06-30T09:45:46.817Z"
   },
   {
    "duration": 26,
    "start_time": "2021-06-30T09:45:46.836Z"
   },
   {
    "duration": 16,
    "start_time": "2021-06-30T09:45:46.865Z"
   },
   {
    "duration": 465,
    "start_time": "2021-06-30T09:45:46.884Z"
   },
   {
    "duration": 24,
    "start_time": "2021-06-30T09:45:47.352Z"
   },
   {
    "duration": 13,
    "start_time": "2021-06-30T09:45:47.379Z"
   },
   {
    "duration": 15,
    "start_time": "2021-06-30T09:45:47.395Z"
   },
   {
    "duration": 26,
    "start_time": "2021-06-30T09:45:47.413Z"
   },
   {
    "duration": 6,
    "start_time": "2021-06-30T09:45:47.463Z"
   },
   {
    "duration": 11,
    "start_time": "2021-06-30T09:45:47.473Z"
   },
   {
    "duration": 10,
    "start_time": "2021-06-30T09:45:47.486Z"
   },
   {
    "duration": 21,
    "start_time": "2021-06-30T09:45:47.498Z"
   },
   {
    "duration": 47,
    "start_time": "2021-06-30T09:45:47.521Z"
   },
   {
    "duration": 6,
    "start_time": "2021-06-30T09:45:47.570Z"
   },
   {
    "duration": 13,
    "start_time": "2021-06-30T09:45:47.578Z"
   },
   {
    "duration": 22,
    "start_time": "2021-06-30T09:45:47.594Z"
   },
   {
    "duration": 15,
    "start_time": "2021-06-30T09:45:47.618Z"
   },
   {
    "duration": 26,
    "start_time": "2021-06-30T09:45:47.636Z"
   },
   {
    "duration": 28,
    "start_time": "2021-06-30T09:45:47.665Z"
   },
   {
    "duration": 20,
    "start_time": "2021-06-30T09:45:47.696Z"
   },
   {
    "duration": 11,
    "start_time": "2021-06-30T09:45:47.719Z"
   },
   {
    "duration": 32,
    "start_time": "2021-06-30T09:45:47.733Z"
   },
   {
    "duration": 451,
    "start_time": "2021-06-30T09:45:47.767Z"
   },
   {
    "duration": 8,
    "start_time": "2021-06-30T09:45:48.221Z"
   },
   {
    "duration": 35,
    "start_time": "2021-06-30T09:45:48.231Z"
   },
   {
    "duration": 13,
    "start_time": "2021-06-30T09:45:48.268Z"
   },
   {
    "duration": 20,
    "start_time": "2021-06-30T09:45:48.283Z"
   },
   {
    "duration": 8,
    "start_time": "2021-06-30T09:45:48.313Z"
   },
   {
    "duration": 11,
    "start_time": "2021-06-30T09:45:48.325Z"
   },
   {
    "duration": 29,
    "start_time": "2021-06-30T09:45:48.339Z"
   },
   {
    "duration": 27,
    "start_time": "2021-06-30T09:45:48.371Z"
   },
   {
    "duration": 19,
    "start_time": "2021-06-30T09:45:48.400Z"
   },
   {
    "duration": 4,
    "start_time": "2021-06-30T09:45:48.422Z"
   },
   {
    "duration": 9,
    "start_time": "2021-06-30T09:45:48.428Z"
   },
   {
    "duration": 14,
    "start_time": "2021-06-30T09:45:48.463Z"
   },
   {
    "duration": 11,
    "start_time": "2021-06-30T09:45:48.479Z"
   },
   {
    "duration": 12,
    "start_time": "2021-06-30T09:45:48.493Z"
   },
   {
    "duration": 29,
    "start_time": "2021-06-30T09:45:48.507Z"
   },
   {
    "duration": 481,
    "start_time": "2021-06-30T09:45:48.539Z"
   },
   {
    "duration": 421,
    "start_time": "2021-06-30T09:45:49.023Z"
   },
   {
    "duration": 392,
    "start_time": "2021-06-30T09:45:49.447Z"
   },
   {
    "duration": 400,
    "start_time": "2021-06-30T09:45:49.842Z"
   },
   {
    "duration": 424,
    "start_time": "2021-06-30T09:45:50.245Z"
   },
   {
    "duration": 422,
    "start_time": "2021-06-30T09:45:50.672Z"
   },
   {
    "duration": 4,
    "start_time": "2021-06-30T09:45:51.096Z"
   },
   {
    "duration": 28,
    "start_time": "2021-06-30T09:45:51.102Z"
   },
   {
    "duration": 25,
    "start_time": "2021-06-30T09:45:51.132Z"
   },
   {
    "duration": 22,
    "start_time": "2021-06-30T09:45:51.159Z"
   },
   {
    "duration": 24,
    "start_time": "2021-06-30T09:45:51.183Z"
   },
   {
    "duration": 18,
    "start_time": "2021-06-30T09:45:51.210Z"
   },
   {
    "duration": 23,
    "start_time": "2021-06-30T09:45:51.230Z"
   },
   {
    "duration": 45,
    "start_time": "2021-06-30T09:45:51.255Z"
   },
   {
    "duration": 25,
    "start_time": "2021-06-30T09:45:51.303Z"
   },
   {
    "duration": 23,
    "start_time": "2021-06-30T09:45:51.331Z"
   },
   {
    "duration": 19,
    "start_time": "2021-06-30T09:45:51.357Z"
   },
   {
    "duration": 26,
    "start_time": "2021-06-30T09:45:51.379Z"
   },
   {
    "duration": 19,
    "start_time": "2021-06-30T09:45:51.408Z"
   },
   {
    "duration": 3732,
    "start_time": "2021-06-30T09:45:51.429Z"
   },
   {
    "duration": 29,
    "start_time": "2021-06-30T09:45:55.164Z"
   },
   {
    "duration": 9,
    "start_time": "2021-06-30T09:45:55.195Z"
   },
   {
    "duration": 20,
    "start_time": "2021-06-30T09:45:55.206Z"
   },
   {
    "duration": 10,
    "start_time": "2021-06-30T09:45:55.229Z"
   },
   {
    "duration": 24,
    "start_time": "2021-06-30T09:45:55.241Z"
   },
   {
    "duration": 14,
    "start_time": "2021-06-30T09:45:55.267Z"
   },
   {
    "duration": 20,
    "start_time": "2021-06-30T09:45:55.283Z"
   },
   {
    "duration": 14,
    "start_time": "2021-06-30T09:45:55.306Z"
   },
   {
    "duration": 15,
    "start_time": "2021-06-30T09:45:55.322Z"
   },
   {
    "duration": 18,
    "start_time": "2021-06-30T09:45:55.339Z"
   },
   {
    "duration": 10,
    "start_time": "2021-06-30T09:45:55.359Z"
   },
   {
    "duration": 398,
    "start_time": "2021-06-30T09:49:01.606Z"
   },
   {
    "duration": 410,
    "start_time": "2021-06-30T09:49:25.609Z"
   },
   {
    "duration": 431,
    "start_time": "2021-06-30T09:49:59.563Z"
   },
   {
    "duration": 437,
    "start_time": "2021-06-30T09:50:10.265Z"
   },
   {
    "duration": 548,
    "start_time": "2021-06-30T09:50:37.875Z"
   },
   {
    "duration": 433,
    "start_time": "2021-06-30T09:50:47.898Z"
   },
   {
    "duration": 527,
    "start_time": "2021-06-30T09:51:37.206Z"
   },
   {
    "duration": 536,
    "start_time": "2021-06-30T09:51:54.642Z"
   },
   {
    "duration": 510,
    "start_time": "2021-06-30T09:52:02.682Z"
   },
   {
    "duration": 521,
    "start_time": "2021-06-30T09:52:49.997Z"
   },
   {
    "duration": 765,
    "start_time": "2021-06-30T09:53:11.232Z"
   },
   {
    "duration": 516,
    "start_time": "2021-06-30T09:53:21.173Z"
   },
   {
    "duration": 467,
    "start_time": "2021-06-30T09:54:55.240Z"
   },
   {
    "duration": 461,
    "start_time": "2021-06-30T09:55:28.838Z"
   },
   {
    "duration": 1425,
    "start_time": "2021-06-30T09:55:49.111Z"
   },
   {
    "duration": 266,
    "start_time": "2021-06-30T09:55:50.539Z"
   },
   {
    "duration": 230,
    "start_time": "2021-06-30T09:55:50.808Z"
   },
   {
    "duration": 153,
    "start_time": "2021-06-30T09:55:51.041Z"
   },
   {
    "duration": 30,
    "start_time": "2021-06-30T09:55:51.196Z"
   },
   {
    "duration": 59,
    "start_time": "2021-06-30T09:55:51.228Z"
   },
   {
    "duration": 8,
    "start_time": "2021-06-30T09:55:51.289Z"
   },
   {
    "duration": 125,
    "start_time": "2021-06-30T09:55:51.300Z"
   },
   {
    "duration": 9,
    "start_time": "2021-06-30T09:55:51.428Z"
   },
   {
    "duration": 41,
    "start_time": "2021-06-30T09:55:51.439Z"
   },
   {
    "duration": 5,
    "start_time": "2021-06-30T09:55:51.482Z"
   },
   {
    "duration": 34,
    "start_time": "2021-06-30T09:55:51.489Z"
   },
   {
    "duration": 40,
    "start_time": "2021-06-30T09:55:51.525Z"
   },
   {
    "duration": 39,
    "start_time": "2021-06-30T09:55:51.568Z"
   },
   {
    "duration": 6,
    "start_time": "2021-06-30T09:55:51.609Z"
   },
   {
    "duration": 30,
    "start_time": "2021-06-30T09:55:51.617Z"
   },
   {
    "duration": 29,
    "start_time": "2021-06-30T09:55:51.650Z"
   },
   {
    "duration": 31,
    "start_time": "2021-06-30T09:55:51.681Z"
   },
   {
    "duration": 17,
    "start_time": "2021-06-30T09:55:51.714Z"
   },
   {
    "duration": 31,
    "start_time": "2021-06-30T09:55:51.733Z"
   },
   {
    "duration": 178,
    "start_time": "2021-06-30T09:55:51.767Z"
   },
   {
    "duration": 117,
    "start_time": "2021-06-30T09:55:51.947Z"
   },
   {
    "duration": 128,
    "start_time": "2021-06-30T09:55:52.069Z"
   },
   {
    "duration": 38,
    "start_time": "2021-06-30T09:55:52.201Z"
   },
   {
    "duration": 51,
    "start_time": "2021-06-30T09:55:52.241Z"
   },
   {
    "duration": 3233,
    "start_time": "2021-06-30T09:55:52.294Z"
   },
   {
    "duration": 10,
    "start_time": "2021-06-30T09:55:55.529Z"
   },
   {
    "duration": 1120,
    "start_time": "2021-06-30T09:55:55.542Z"
   },
   {
    "duration": 7,
    "start_time": "2021-06-30T09:55:56.665Z"
   },
   {
    "duration": 35,
    "start_time": "2021-06-30T09:55:56.674Z"
   },
   {
    "duration": 23,
    "start_time": "2021-06-30T09:55:56.712Z"
   },
   {
    "duration": 31,
    "start_time": "2021-06-30T09:55:56.738Z"
   },
   {
    "duration": 12,
    "start_time": "2021-06-30T09:55:56.772Z"
   },
   {
    "duration": 27,
    "start_time": "2021-06-30T09:55:56.787Z"
   },
   {
    "duration": 11,
    "start_time": "2021-06-30T09:55:56.817Z"
   },
   {
    "duration": 31,
    "start_time": "2021-06-30T09:55:56.830Z"
   },
   {
    "duration": 11,
    "start_time": "2021-06-30T09:55:56.864Z"
   },
   {
    "duration": 534,
    "start_time": "2021-06-30T09:55:56.878Z"
   },
   {
    "duration": 531,
    "start_time": "2021-06-30T09:55:57.414Z"
   },
   {
    "duration": 535,
    "start_time": "2021-06-30T09:55:57.947Z"
   },
   {
    "duration": 17,
    "start_time": "2021-06-30T09:55:58.485Z"
   },
   {
    "duration": 14,
    "start_time": "2021-06-30T09:55:58.504Z"
   },
   {
    "duration": 26,
    "start_time": "2021-06-30T09:55:58.520Z"
   },
   {
    "duration": 477,
    "start_time": "2021-06-30T09:55:58.548Z"
   },
   {
    "duration": 37,
    "start_time": "2021-06-30T09:55:59.027Z"
   },
   {
    "duration": 13,
    "start_time": "2021-06-30T09:55:59.068Z"
   },
   {
    "duration": 15,
    "start_time": "2021-06-30T09:55:59.084Z"
   },
   {
    "duration": 13,
    "start_time": "2021-06-30T09:55:59.101Z"
   },
   {
    "duration": 45,
    "start_time": "2021-06-30T09:55:59.117Z"
   },
   {
    "duration": 7,
    "start_time": "2021-06-30T09:55:59.164Z"
   },
   {
    "duration": 9,
    "start_time": "2021-06-30T09:55:59.174Z"
   },
   {
    "duration": 21,
    "start_time": "2021-06-30T09:55:59.186Z"
   },
   {
    "duration": 57,
    "start_time": "2021-06-30T09:55:59.209Z"
   },
   {
    "duration": 6,
    "start_time": "2021-06-30T09:55:59.268Z"
   },
   {
    "duration": 13,
    "start_time": "2021-06-30T09:55:59.277Z"
   },
   {
    "duration": 15,
    "start_time": "2021-06-30T09:55:59.292Z"
   },
   {
    "duration": 14,
    "start_time": "2021-06-30T09:55:59.310Z"
   },
   {
    "duration": 37,
    "start_time": "2021-06-30T09:55:59.327Z"
   },
   {
    "duration": 27,
    "start_time": "2021-06-30T09:55:59.366Z"
   },
   {
    "duration": 16,
    "start_time": "2021-06-30T09:55:59.396Z"
   },
   {
    "duration": 4,
    "start_time": "2021-06-30T09:55:59.415Z"
   },
   {
    "duration": 45,
    "start_time": "2021-06-30T09:55:59.421Z"
   },
   {
    "duration": 454,
    "start_time": "2021-06-30T09:55:59.469Z"
   },
   {
    "duration": 8,
    "start_time": "2021-06-30T09:55:59.925Z"
   },
   {
    "duration": 32,
    "start_time": "2021-06-30T09:55:59.935Z"
   },
   {
    "duration": 23,
    "start_time": "2021-06-30T09:55:59.970Z"
   },
   {
    "duration": 28,
    "start_time": "2021-06-30T09:55:59.996Z"
   },
   {
    "duration": 8,
    "start_time": "2021-06-30T09:56:00.034Z"
   },
   {
    "duration": 17,
    "start_time": "2021-06-30T09:56:00.047Z"
   },
   {
    "duration": 23,
    "start_time": "2021-06-30T09:56:00.066Z"
   },
   {
    "duration": 52,
    "start_time": "2021-06-30T09:56:00.091Z"
   },
   {
    "duration": 20,
    "start_time": "2021-06-30T09:56:00.146Z"
   },
   {
    "duration": 11,
    "start_time": "2021-06-30T09:56:00.169Z"
   },
   {
    "duration": 15,
    "start_time": "2021-06-30T09:56:00.183Z"
   },
   {
    "duration": 30,
    "start_time": "2021-06-30T09:56:00.201Z"
   },
   {
    "duration": 13,
    "start_time": "2021-06-30T09:56:00.234Z"
   },
   {
    "duration": 15,
    "start_time": "2021-06-30T09:56:00.250Z"
   },
   {
    "duration": 102,
    "start_time": "2021-06-30T09:56:00.268Z"
   },
   {
    "duration": 404,
    "start_time": "2021-06-30T09:56:00.373Z"
   },
   {
    "duration": 444,
    "start_time": "2021-06-30T09:56:00.779Z"
   },
   {
    "duration": 484,
    "start_time": "2021-06-30T09:56:01.226Z"
   },
   {
    "duration": 456,
    "start_time": "2021-06-30T09:56:01.713Z"
   },
   {
    "duration": 440,
    "start_time": "2021-06-30T09:56:02.172Z"
   },
   {
    "duration": 561,
    "start_time": "2021-06-30T09:56:02.614Z"
   },
   {
    "duration": 3,
    "start_time": "2021-06-30T09:56:03.177Z"
   },
   {
    "duration": 10,
    "start_time": "2021-06-30T09:56:03.182Z"
   },
   {
    "duration": 11,
    "start_time": "2021-06-30T09:56:03.195Z"
   },
   {
    "duration": 11,
    "start_time": "2021-06-30T09:56:03.208Z"
   },
   {
    "duration": 8,
    "start_time": "2021-06-30T09:56:03.221Z"
   },
   {
    "duration": 34,
    "start_time": "2021-06-30T09:56:03.231Z"
   },
   {
    "duration": 6,
    "start_time": "2021-06-30T09:56:03.267Z"
   },
   {
    "duration": 7,
    "start_time": "2021-06-30T09:56:03.276Z"
   },
   {
    "duration": 16,
    "start_time": "2021-06-30T09:56:03.286Z"
   },
   {
    "duration": 7,
    "start_time": "2021-06-30T09:56:03.305Z"
   },
   {
    "duration": 9,
    "start_time": "2021-06-30T09:56:03.314Z"
   },
   {
    "duration": 7,
    "start_time": "2021-06-30T09:56:03.325Z"
   },
   {
    "duration": 6,
    "start_time": "2021-06-30T09:56:03.335Z"
   },
   {
    "duration": 3916,
    "start_time": "2021-06-30T09:56:03.344Z"
   },
   {
    "duration": 31,
    "start_time": "2021-06-30T09:56:07.263Z"
   },
   {
    "duration": 12,
    "start_time": "2021-06-30T09:56:07.297Z"
   },
   {
    "duration": 13,
    "start_time": "2021-06-30T09:56:07.312Z"
   },
   {
    "duration": 8,
    "start_time": "2021-06-30T09:56:07.361Z"
   },
   {
    "duration": 14,
    "start_time": "2021-06-30T09:56:07.371Z"
   },
   {
    "duration": 6,
    "start_time": "2021-06-30T09:56:07.388Z"
   },
   {
    "duration": 7,
    "start_time": "2021-06-30T09:56:07.396Z"
   },
   {
    "duration": 7,
    "start_time": "2021-06-30T09:56:07.406Z"
   },
   {
    "duration": 9,
    "start_time": "2021-06-30T09:56:07.415Z"
   },
   {
    "duration": 5,
    "start_time": "2021-06-30T09:56:07.462Z"
   },
   {
    "duration": 8,
    "start_time": "2021-06-30T09:56:07.469Z"
   },
   {
    "duration": 1621,
    "start_time": "2021-06-30T12:05:39.640Z"
   },
   {
    "duration": 277,
    "start_time": "2021-06-30T12:05:41.264Z"
   },
   {
    "duration": 219,
    "start_time": "2021-06-30T12:05:41.546Z"
   },
   {
    "duration": 151,
    "start_time": "2021-06-30T12:05:41.769Z"
   },
   {
    "duration": 34,
    "start_time": "2021-06-30T12:05:41.927Z"
   },
   {
    "duration": 50,
    "start_time": "2021-06-30T12:05:41.965Z"
   },
   {
    "duration": 9,
    "start_time": "2021-06-30T12:05:42.017Z"
   },
   {
    "duration": 127,
    "start_time": "2021-06-30T12:05:42.030Z"
   },
   {
    "duration": 9,
    "start_time": "2021-06-30T12:05:42.160Z"
   },
   {
    "duration": 46,
    "start_time": "2021-06-30T12:05:42.172Z"
   },
   {
    "duration": 5,
    "start_time": "2021-06-30T12:05:42.224Z"
   },
   {
    "duration": 35,
    "start_time": "2021-06-30T12:05:42.232Z"
   },
   {
    "duration": 20,
    "start_time": "2021-06-30T12:05:42.269Z"
   },
   {
    "duration": 57,
    "start_time": "2021-06-30T12:05:42.291Z"
   },
   {
    "duration": 6,
    "start_time": "2021-06-30T12:05:42.350Z"
   },
   {
    "duration": 35,
    "start_time": "2021-06-30T12:05:42.358Z"
   },
   {
    "duration": 44,
    "start_time": "2021-06-30T12:05:42.395Z"
   },
   {
    "duration": 25,
    "start_time": "2021-06-30T12:05:42.442Z"
   },
   {
    "duration": 54,
    "start_time": "2021-06-30T12:05:42.470Z"
   },
   {
    "duration": 8,
    "start_time": "2021-06-30T12:05:42.528Z"
   },
   {
    "duration": 260,
    "start_time": "2021-06-30T12:05:42.539Z"
   },
   {
    "duration": 170,
    "start_time": "2021-06-30T12:05:42.802Z"
   },
   {
    "duration": 168,
    "start_time": "2021-06-30T12:05:42.983Z"
   },
   {
    "duration": 70,
    "start_time": "2021-06-30T12:05:43.156Z"
   },
   {
    "duration": 53,
    "start_time": "2021-06-30T12:05:43.229Z"
   },
   {
    "duration": 5307,
    "start_time": "2021-06-30T12:05:43.285Z"
   },
   {
    "duration": 15,
    "start_time": "2021-06-30T12:05:48.595Z"
   },
   {
    "duration": 1981,
    "start_time": "2021-06-30T12:05:48.614Z"
   },
   {
    "duration": 10,
    "start_time": "2021-06-30T12:05:50.598Z"
   },
   {
    "duration": 53,
    "start_time": "2021-06-30T12:05:50.611Z"
   },
   {
    "duration": 15,
    "start_time": "2021-06-30T12:05:50.666Z"
   },
   {
    "duration": 17,
    "start_time": "2021-06-30T12:05:50.683Z"
   },
   {
    "duration": 29,
    "start_time": "2021-06-30T12:05:50.703Z"
   },
   {
    "duration": 17,
    "start_time": "2021-06-30T12:05:50.734Z"
   },
   {
    "duration": 12,
    "start_time": "2021-06-30T12:05:50.754Z"
   },
   {
    "duration": 35,
    "start_time": "2021-06-30T12:05:50.768Z"
   },
   {
    "duration": 23,
    "start_time": "2021-06-30T12:05:50.806Z"
   },
   {
    "duration": 537,
    "start_time": "2021-06-30T12:05:50.832Z"
   },
   {
    "duration": 534,
    "start_time": "2021-06-30T12:05:51.371Z"
   },
   {
    "duration": 645,
    "start_time": "2021-06-30T12:05:51.908Z"
   },
   {
    "duration": 18,
    "start_time": "2021-06-30T12:05:52.555Z"
   },
   {
    "duration": 18,
    "start_time": "2021-06-30T12:05:52.576Z"
   },
   {
    "duration": 16,
    "start_time": "2021-06-30T12:05:52.597Z"
   },
   {
    "duration": 452,
    "start_time": "2021-06-30T12:05:52.624Z"
   },
   {
    "duration": 21,
    "start_time": "2021-06-30T12:05:53.079Z"
   },
   {
    "duration": 38,
    "start_time": "2021-06-30T12:05:53.102Z"
   },
   {
    "duration": 12,
    "start_time": "2021-06-30T12:05:53.143Z"
   },
   {
    "duration": 16,
    "start_time": "2021-06-30T12:05:53.158Z"
   },
   {
    "duration": 10,
    "start_time": "2021-06-30T12:05:53.176Z"
   },
   {
    "duration": 12,
    "start_time": "2021-06-30T12:05:53.189Z"
   },
   {
    "duration": 23,
    "start_time": "2021-06-30T12:05:53.204Z"
   },
   {
    "duration": 26,
    "start_time": "2021-06-30T12:05:53.230Z"
   },
   {
    "duration": 22,
    "start_time": "2021-06-30T12:05:53.259Z"
   },
   {
    "duration": 6,
    "start_time": "2021-06-30T12:05:53.284Z"
   },
   {
    "duration": 41,
    "start_time": "2021-06-30T12:05:53.292Z"
   },
   {
    "duration": 13,
    "start_time": "2021-06-30T12:05:53.339Z"
   },
   {
    "duration": 17,
    "start_time": "2021-06-30T12:05:53.355Z"
   },
   {
    "duration": 18,
    "start_time": "2021-06-30T12:05:53.375Z"
   },
   {
    "duration": 47,
    "start_time": "2021-06-30T12:05:53.396Z"
   },
   {
    "duration": 18,
    "start_time": "2021-06-30T12:05:53.445Z"
   },
   {
    "duration": 4,
    "start_time": "2021-06-30T12:05:53.465Z"
   },
   {
    "duration": 22,
    "start_time": "2021-06-30T12:05:53.472Z"
   },
   {
    "duration": 488,
    "start_time": "2021-06-30T12:05:53.525Z"
   },
   {
    "duration": 14,
    "start_time": "2021-06-30T12:05:54.016Z"
   },
   {
    "duration": 14,
    "start_time": "2021-06-30T12:05:54.032Z"
   },
   {
    "duration": 13,
    "start_time": "2021-06-30T12:05:54.048Z"
   },
   {
    "duration": 15,
    "start_time": "2021-06-30T12:05:54.064Z"
   },
   {
    "duration": 37,
    "start_time": "2021-06-30T12:05:54.088Z"
   },
   {
    "duration": 10,
    "start_time": "2021-06-30T12:05:54.129Z"
   },
   {
    "duration": 9,
    "start_time": "2021-06-30T12:05:54.142Z"
   },
   {
    "duration": 19,
    "start_time": "2021-06-30T12:05:54.153Z"
   },
   {
    "duration": 19,
    "start_time": "2021-06-30T12:05:54.175Z"
   },
   {
    "duration": 5,
    "start_time": "2021-06-30T12:05:54.225Z"
   },
   {
    "duration": 17,
    "start_time": "2021-06-30T12:05:54.233Z"
   },
   {
    "duration": 15,
    "start_time": "2021-06-30T12:05:54.253Z"
   },
   {
    "duration": 13,
    "start_time": "2021-06-30T12:05:54.271Z"
   },
   {
    "duration": 13,
    "start_time": "2021-06-30T12:05:54.286Z"
   },
   {
    "duration": 131,
    "start_time": "2021-06-30T12:05:54.301Z"
   },
   {
    "duration": 410,
    "start_time": "2021-06-30T12:05:54.434Z"
   },
   {
    "duration": 460,
    "start_time": "2021-06-30T12:05:54.847Z"
   },
   {
    "duration": 428,
    "start_time": "2021-06-30T12:05:55.310Z"
   },
   {
    "duration": 447,
    "start_time": "2021-06-30T12:05:55.741Z"
   },
   {
    "duration": 454,
    "start_time": "2021-06-30T12:05:56.192Z"
   },
   {
    "duration": 470,
    "start_time": "2021-06-30T12:05:56.649Z"
   },
   {
    "duration": 4,
    "start_time": "2021-06-30T12:05:57.125Z"
   },
   {
    "duration": 13,
    "start_time": "2021-06-30T12:05:57.132Z"
   },
   {
    "duration": 15,
    "start_time": "2021-06-30T12:05:57.148Z"
   },
   {
    "duration": 8,
    "start_time": "2021-06-30T12:05:57.166Z"
   },
   {
    "duration": 7,
    "start_time": "2021-06-30T12:05:57.177Z"
   },
   {
    "duration": 43,
    "start_time": "2021-06-30T12:05:57.187Z"
   },
   {
    "duration": 6,
    "start_time": "2021-06-30T12:05:57.233Z"
   },
   {
    "duration": 6,
    "start_time": "2021-06-30T12:05:57.242Z"
   },
   {
    "duration": 12,
    "start_time": "2021-06-30T12:05:57.250Z"
   },
   {
    "duration": 8,
    "start_time": "2021-06-30T12:05:57.265Z"
   },
   {
    "duration": 48,
    "start_time": "2021-06-30T12:05:57.276Z"
   },
   {
    "duration": 5,
    "start_time": "2021-06-30T12:05:57.327Z"
   },
   {
    "duration": 6,
    "start_time": "2021-06-30T12:05:57.335Z"
   },
   {
    "duration": 3346,
    "start_time": "2021-06-30T12:05:57.344Z"
   },
   {
    "duration": 37,
    "start_time": "2021-06-30T12:06:00.693Z"
   },
   {
    "duration": 9,
    "start_time": "2021-06-30T12:06:00.732Z"
   },
   {
    "duration": 19,
    "start_time": "2021-06-30T12:06:00.744Z"
   },
   {
    "duration": 8,
    "start_time": "2021-06-30T12:06:00.766Z"
   },
   {
    "duration": 9,
    "start_time": "2021-06-30T12:06:00.776Z"
   },
   {
    "duration": 38,
    "start_time": "2021-06-30T12:06:00.787Z"
   },
   {
    "duration": 5,
    "start_time": "2021-06-30T12:06:00.828Z"
   },
   {
    "duration": 14,
    "start_time": "2021-06-30T12:06:00.836Z"
   },
   {
    "duration": 7,
    "start_time": "2021-06-30T12:06:00.853Z"
   },
   {
    "duration": 25,
    "start_time": "2021-06-30T12:06:00.864Z"
   },
   {
    "duration": 9,
    "start_time": "2021-06-30T12:06:00.891Z"
   },
   {
    "duration": 3041,
    "start_time": "2021-06-30T15:29:19.005Z"
   },
   {
    "duration": 646,
    "start_time": "2021-06-30T15:29:22.050Z"
   },
   {
    "duration": 374,
    "start_time": "2021-06-30T15:29:22.701Z"
   },
   {
    "duration": 253,
    "start_time": "2021-06-30T15:29:23.079Z"
   },
   {
    "duration": 40,
    "start_time": "2021-06-30T15:29:23.335Z"
   },
   {
    "duration": 71,
    "start_time": "2021-06-30T15:29:23.378Z"
   },
   {
    "duration": 11,
    "start_time": "2021-06-30T15:29:23.452Z"
   },
   {
    "duration": 205,
    "start_time": "2021-06-30T15:29:23.469Z"
   },
   {
    "duration": 14,
    "start_time": "2021-06-30T15:29:23.678Z"
   },
   {
    "duration": 66,
    "start_time": "2021-06-30T15:29:23.695Z"
   },
   {
    "duration": 7,
    "start_time": "2021-06-30T15:29:23.764Z"
   },
   {
    "duration": 54,
    "start_time": "2021-06-30T15:29:23.774Z"
   },
   {
    "duration": 31,
    "start_time": "2021-06-30T15:29:23.831Z"
   },
   {
    "duration": 60,
    "start_time": "2021-06-30T15:29:23.865Z"
   },
   {
    "duration": 6,
    "start_time": "2021-06-30T15:29:23.928Z"
   },
   {
    "duration": 50,
    "start_time": "2021-06-30T15:29:23.937Z"
   },
   {
    "duration": 45,
    "start_time": "2021-06-30T15:29:23.991Z"
   },
   {
    "duration": 39,
    "start_time": "2021-06-30T15:29:24.039Z"
   },
   {
    "duration": 47,
    "start_time": "2021-06-30T15:29:24.082Z"
   },
   {
    "duration": 9,
    "start_time": "2021-06-30T15:29:24.132Z"
   },
   {
    "duration": 204,
    "start_time": "2021-06-30T15:29:24.144Z"
   },
   {
    "duration": 121,
    "start_time": "2021-06-30T15:29:24.350Z"
   },
   {
    "duration": 125,
    "start_time": "2021-06-30T15:29:24.477Z"
   },
   {
    "duration": 41,
    "start_time": "2021-06-30T15:29:24.606Z"
   },
   {
    "duration": 35,
    "start_time": "2021-06-30T15:29:24.650Z"
   },
   {
    "duration": 5012,
    "start_time": "2021-06-30T15:29:24.687Z"
   },
   {
    "duration": 9,
    "start_time": "2021-06-30T15:29:29.702Z"
   },
   {
    "duration": 1297,
    "start_time": "2021-06-30T15:29:29.714Z"
   },
   {
    "duration": 16,
    "start_time": "2021-06-30T15:29:31.014Z"
   },
   {
    "duration": 40,
    "start_time": "2021-06-30T15:29:31.033Z"
   },
   {
    "duration": 15,
    "start_time": "2021-06-30T15:29:31.076Z"
   },
   {
    "duration": 41,
    "start_time": "2021-06-30T15:29:31.093Z"
   },
   {
    "duration": 20,
    "start_time": "2021-06-30T15:29:31.136Z"
   },
   {
    "duration": 24,
    "start_time": "2021-06-30T15:29:31.158Z"
   },
   {
    "duration": 49,
    "start_time": "2021-06-30T15:29:31.185Z"
   },
   {
    "duration": 16,
    "start_time": "2021-06-30T15:29:31.236Z"
   },
   {
    "duration": 14,
    "start_time": "2021-06-30T15:29:31.254Z"
   },
   {
    "duration": 590,
    "start_time": "2021-06-30T15:29:31.270Z"
   },
   {
    "duration": 544,
    "start_time": "2021-06-30T15:29:31.863Z"
   },
   {
    "duration": 721,
    "start_time": "2021-06-30T15:29:32.409Z"
   },
   {
    "duration": 19,
    "start_time": "2021-06-30T15:29:33.133Z"
   },
   {
    "duration": 14,
    "start_time": "2021-06-30T15:29:33.155Z"
   },
   {
    "duration": 55,
    "start_time": "2021-06-30T15:29:33.171Z"
   },
   {
    "duration": 498,
    "start_time": "2021-06-30T15:29:33.229Z"
   },
   {
    "duration": 24,
    "start_time": "2021-06-30T15:29:33.729Z"
   },
   {
    "duration": 13,
    "start_time": "2021-06-30T15:29:33.756Z"
   },
   {
    "duration": 54,
    "start_time": "2021-06-30T15:29:33.772Z"
   },
   {
    "duration": 13,
    "start_time": "2021-06-30T15:29:33.829Z"
   },
   {
    "duration": 9,
    "start_time": "2021-06-30T15:29:33.845Z"
   },
   {
    "duration": 6,
    "start_time": "2021-06-30T15:29:33.857Z"
   },
   {
    "duration": 24,
    "start_time": "2021-06-30T15:29:33.865Z"
   },
   {
    "duration": 45,
    "start_time": "2021-06-30T15:29:33.891Z"
   },
   {
    "duration": 21,
    "start_time": "2021-06-30T15:29:33.938Z"
   },
   {
    "duration": 5,
    "start_time": "2021-06-30T15:29:33.962Z"
   },
   {
    "duration": 6,
    "start_time": "2021-06-30T15:29:33.970Z"
   },
   {
    "duration": 51,
    "start_time": "2021-06-30T15:29:33.979Z"
   },
   {
    "duration": 12,
    "start_time": "2021-06-30T15:29:34.033Z"
   },
   {
    "duration": 18,
    "start_time": "2021-06-30T15:29:34.047Z"
   },
   {
    "duration": 26,
    "start_time": "2021-06-30T15:29:34.067Z"
   },
   {
    "duration": 18,
    "start_time": "2021-06-30T15:29:34.125Z"
   },
   {
    "duration": 3,
    "start_time": "2021-06-30T15:29:34.146Z"
   },
   {
    "duration": 11,
    "start_time": "2021-06-30T15:29:34.152Z"
   },
   {
    "duration": 519,
    "start_time": "2021-06-30T15:29:34.165Z"
   },
   {
    "duration": 8,
    "start_time": "2021-06-30T15:29:34.687Z"
   },
   {
    "duration": 37,
    "start_time": "2021-06-30T15:29:34.698Z"
   },
   {
    "duration": 15,
    "start_time": "2021-06-30T15:29:34.737Z"
   },
   {
    "duration": 12,
    "start_time": "2021-06-30T15:29:34.755Z"
   },
   {
    "duration": 6,
    "start_time": "2021-06-30T15:29:34.775Z"
   },
   {
    "duration": 44,
    "start_time": "2021-06-30T15:29:34.784Z"
   },
   {
    "duration": 8,
    "start_time": "2021-06-30T15:29:34.831Z"
   },
   {
    "duration": 21,
    "start_time": "2021-06-30T15:29:34.842Z"
   },
   {
    "duration": 62,
    "start_time": "2021-06-30T15:29:34.866Z"
   },
   {
    "duration": 7,
    "start_time": "2021-06-30T15:29:34.931Z"
   },
   {
    "duration": 8,
    "start_time": "2021-06-30T15:29:34.940Z"
   },
   {
    "duration": 20,
    "start_time": "2021-06-30T15:29:34.950Z"
   },
   {
    "duration": 60,
    "start_time": "2021-06-30T15:29:34.973Z"
   },
   {
    "duration": 14,
    "start_time": "2021-06-30T15:29:35.036Z"
   },
   {
    "duration": 29,
    "start_time": "2021-06-30T15:29:35.053Z"
   },
   {
    "duration": 616,
    "start_time": "2021-06-30T15:29:35.085Z"
   },
   {
    "duration": 475,
    "start_time": "2021-06-30T15:29:35.705Z"
   },
   {
    "duration": 426,
    "start_time": "2021-06-30T15:29:36.183Z"
   },
   {
    "duration": 451,
    "start_time": "2021-06-30T15:29:36.612Z"
   },
   {
    "duration": 742,
    "start_time": "2021-06-30T15:29:37.065Z"
   },
   {
    "duration": 573,
    "start_time": "2021-06-30T15:29:37.810Z"
   },
   {
    "duration": 4,
    "start_time": "2021-06-30T15:29:38.386Z"
   },
   {
    "duration": 37,
    "start_time": "2021-06-30T15:29:38.393Z"
   },
   {
    "duration": 31,
    "start_time": "2021-06-30T15:29:38.432Z"
   },
   {
    "duration": 20,
    "start_time": "2021-06-30T15:29:38.466Z"
   },
   {
    "duration": 15,
    "start_time": "2021-06-30T15:29:38.489Z"
   },
   {
    "duration": 24,
    "start_time": "2021-06-30T15:29:38.507Z"
   },
   {
    "duration": 12,
    "start_time": "2021-06-30T15:29:38.534Z"
   },
   {
    "duration": 20,
    "start_time": "2021-06-30T15:29:38.548Z"
   },
   {
    "duration": 15,
    "start_time": "2021-06-30T15:29:38.572Z"
   },
   {
    "duration": 12,
    "start_time": "2021-06-30T15:29:38.590Z"
   },
   {
    "duration": 7,
    "start_time": "2021-06-30T15:29:38.631Z"
   },
   {
    "duration": 15,
    "start_time": "2021-06-30T15:29:38.641Z"
   },
   {
    "duration": 24,
    "start_time": "2021-06-30T15:29:38.659Z"
   },
   {
    "duration": 5362,
    "start_time": "2021-06-30T15:29:38.687Z"
   },
   {
    "duration": 42,
    "start_time": "2021-06-30T15:29:44.053Z"
   },
   {
    "duration": 34,
    "start_time": "2021-06-30T15:29:44.098Z"
   },
   {
    "duration": 25,
    "start_time": "2021-06-30T15:29:44.135Z"
   },
   {
    "duration": 12,
    "start_time": "2021-06-30T15:29:44.163Z"
   },
   {
    "duration": 16,
    "start_time": "2021-06-30T15:29:44.178Z"
   },
   {
    "duration": 28,
    "start_time": "2021-06-30T15:29:44.197Z"
   },
   {
    "duration": 8,
    "start_time": "2021-06-30T15:29:44.228Z"
   },
   {
    "duration": 25,
    "start_time": "2021-06-30T15:29:44.238Z"
   },
   {
    "duration": 21,
    "start_time": "2021-06-30T15:29:44.266Z"
   },
   {
    "duration": 21,
    "start_time": "2021-06-30T15:29:44.290Z"
   },
   {
    "duration": 24,
    "start_time": "2021-06-30T15:29:44.313Z"
   },
   {
    "duration": 17,
    "start_time": "2021-06-30T15:34:20.992Z"
   },
   {
    "duration": 369,
    "start_time": "2021-06-30T16:32:27.704Z"
   },
   {
    "duration": 1870,
    "start_time": "2021-06-30T16:32:39.315Z"
   },
   {
    "duration": 246,
    "start_time": "2021-06-30T16:32:41.188Z"
   },
   {
    "duration": 208,
    "start_time": "2021-06-30T16:32:41.438Z"
   },
   {
    "duration": 142,
    "start_time": "2021-06-30T16:32:41.649Z"
   },
   {
    "duration": 32,
    "start_time": "2021-06-30T16:32:41.793Z"
   },
   {
    "duration": 49,
    "start_time": "2021-06-30T16:32:41.827Z"
   },
   {
    "duration": 9,
    "start_time": "2021-06-30T16:32:41.879Z"
   },
   {
    "duration": 120,
    "start_time": "2021-06-30T16:32:41.892Z"
   },
   {
    "duration": 10,
    "start_time": "2021-06-30T16:32:42.015Z"
   },
   {
    "duration": 30,
    "start_time": "2021-06-30T16:32:42.028Z"
   },
   {
    "duration": 26,
    "start_time": "2021-06-30T16:32:42.060Z"
   },
   {
    "duration": 27,
    "start_time": "2021-06-30T16:32:42.089Z"
   },
   {
    "duration": 19,
    "start_time": "2021-06-30T16:32:42.118Z"
   },
   {
    "duration": 56,
    "start_time": "2021-06-30T16:32:42.140Z"
   },
   {
    "duration": 4,
    "start_time": "2021-06-30T16:32:42.199Z"
   },
   {
    "duration": 23,
    "start_time": "2021-06-30T16:32:42.205Z"
   },
   {
    "duration": 20,
    "start_time": "2021-06-30T16:32:42.230Z"
   },
   {
    "duration": 51,
    "start_time": "2021-06-30T16:32:42.253Z"
   },
   {
    "duration": 17,
    "start_time": "2021-06-30T16:32:42.307Z"
   },
   {
    "duration": 10,
    "start_time": "2021-06-30T16:32:42.327Z"
   },
   {
    "duration": 300,
    "start_time": "2021-06-30T16:32:42.339Z"
   },
   {
    "duration": 117,
    "start_time": "2021-06-30T16:32:42.642Z"
   },
   {
    "duration": 125,
    "start_time": "2021-06-30T16:32:42.767Z"
   },
   {
    "duration": 38,
    "start_time": "2021-06-30T16:32:42.897Z"
   },
   {
    "duration": 66,
    "start_time": "2021-06-30T16:32:42.938Z"
   },
   {
    "duration": 3162,
    "start_time": "2021-06-30T16:32:43.007Z"
   },
   {
    "duration": 19,
    "start_time": "2021-06-30T16:32:46.172Z"
   },
   {
    "duration": 1157,
    "start_time": "2021-06-30T16:32:46.193Z"
   },
   {
    "duration": 7,
    "start_time": "2021-06-30T16:32:47.353Z"
   },
   {
    "duration": 41,
    "start_time": "2021-06-30T16:32:47.362Z"
   },
   {
    "duration": 9,
    "start_time": "2021-06-30T16:32:47.406Z"
   },
   {
    "duration": 21,
    "start_time": "2021-06-30T16:32:47.417Z"
   },
   {
    "duration": 18,
    "start_time": "2021-06-30T16:32:47.440Z"
   },
   {
    "duration": 39,
    "start_time": "2021-06-30T16:32:47.462Z"
   },
   {
    "duration": 23,
    "start_time": "2021-06-30T16:32:47.504Z"
   },
   {
    "duration": 19,
    "start_time": "2021-06-30T16:32:47.530Z"
   },
   {
    "duration": 14,
    "start_time": "2021-06-30T16:32:47.551Z"
   },
   {
    "duration": 540,
    "start_time": "2021-06-30T16:32:47.568Z"
   },
   {
    "duration": 530,
    "start_time": "2021-06-30T16:32:48.111Z"
   },
   {
    "duration": 519,
    "start_time": "2021-06-30T16:32:48.645Z"
   },
   {
    "duration": 25,
    "start_time": "2021-06-30T16:32:49.166Z"
   },
   {
    "duration": 4,
    "start_time": "2021-06-30T16:32:49.193Z"
   },
   {
    "duration": 16,
    "start_time": "2021-06-30T16:32:49.200Z"
   },
   {
    "duration": 460,
    "start_time": "2021-06-30T16:32:49.218Z"
   },
   {
    "duration": 19,
    "start_time": "2021-06-30T16:32:49.681Z"
   },
   {
    "duration": 14,
    "start_time": "2021-06-30T16:32:49.703Z"
   },
   {
    "duration": 15,
    "start_time": "2021-06-30T16:32:49.720Z"
   },
   {
    "duration": 13,
    "start_time": "2021-06-30T16:32:49.738Z"
   },
   {
    "duration": 35,
    "start_time": "2021-06-30T16:32:49.754Z"
   },
   {
    "duration": 12,
    "start_time": "2021-06-30T16:32:49.792Z"
   },
   {
    "duration": 9,
    "start_time": "2021-06-30T16:32:49.807Z"
   },
   {
    "duration": 21,
    "start_time": "2021-06-30T16:32:49.818Z"
   },
   {
    "duration": 44,
    "start_time": "2021-06-30T16:32:49.841Z"
   },
   {
    "duration": 5,
    "start_time": "2021-06-30T16:32:49.888Z"
   },
   {
    "duration": 10,
    "start_time": "2021-06-30T16:32:49.895Z"
   },
   {
    "duration": 13,
    "start_time": "2021-06-30T16:32:49.907Z"
   },
   {
    "duration": 15,
    "start_time": "2021-06-30T16:32:49.922Z"
   },
   {
    "duration": 18,
    "start_time": "2021-06-30T16:32:49.939Z"
   },
   {
    "duration": 42,
    "start_time": "2021-06-30T16:32:49.960Z"
   },
   {
    "duration": 22,
    "start_time": "2021-06-30T16:32:50.004Z"
   },
   {
    "duration": 8,
    "start_time": "2021-06-30T16:32:50.028Z"
   },
   {
    "duration": 13,
    "start_time": "2021-06-30T16:32:50.039Z"
   },
   {
    "duration": 463,
    "start_time": "2021-06-30T16:32:50.055Z"
   },
   {
    "duration": 9,
    "start_time": "2021-06-30T16:32:50.521Z"
   },
   {
    "duration": 14,
    "start_time": "2021-06-30T16:32:50.532Z"
   },
   {
    "duration": 38,
    "start_time": "2021-06-30T16:32:50.549Z"
   },
   {
    "duration": 14,
    "start_time": "2021-06-30T16:32:50.590Z"
   },
   {
    "duration": 5,
    "start_time": "2021-06-30T16:32:50.613Z"
   },
   {
    "duration": 11,
    "start_time": "2021-06-30T16:32:50.621Z"
   },
   {
    "duration": 12,
    "start_time": "2021-06-30T16:32:50.635Z"
   },
   {
    "duration": 40,
    "start_time": "2021-06-30T16:32:50.650Z"
   },
   {
    "duration": 17,
    "start_time": "2021-06-30T16:32:50.693Z"
   },
   {
    "duration": 12,
    "start_time": "2021-06-30T16:32:50.712Z"
   },
   {
    "duration": 14,
    "start_time": "2021-06-30T16:32:50.726Z"
   },
   {
    "duration": 15,
    "start_time": "2021-06-30T16:32:50.743Z"
   },
   {
    "duration": 28,
    "start_time": "2021-06-30T16:32:50.760Z"
   },
   {
    "duration": 21,
    "start_time": "2021-06-30T16:32:50.791Z"
   },
   {
    "duration": 29,
    "start_time": "2021-06-30T16:32:50.814Z"
   },
   {
    "duration": 471,
    "start_time": "2021-06-30T16:32:50.846Z"
   },
   {
    "duration": 425,
    "start_time": "2021-06-30T16:32:51.320Z"
   },
   {
    "duration": 415,
    "start_time": "2021-06-30T16:32:51.748Z"
   },
   {
    "duration": 426,
    "start_time": "2021-06-30T16:32:52.165Z"
   },
   {
    "duration": 435,
    "start_time": "2021-06-30T16:32:52.593Z"
   },
   {
    "duration": 424,
    "start_time": "2021-06-30T16:32:53.031Z"
   },
   {
    "duration": 3,
    "start_time": "2021-06-30T16:32:53.458Z"
   },
   {
    "duration": 25,
    "start_time": "2021-06-30T16:32:53.464Z"
   },
   {
    "duration": 10,
    "start_time": "2021-06-30T16:32:53.491Z"
   },
   {
    "duration": 10,
    "start_time": "2021-06-30T16:32:53.504Z"
   },
   {
    "duration": 7,
    "start_time": "2021-06-30T16:32:53.516Z"
   },
   {
    "duration": 10,
    "start_time": "2021-06-30T16:32:53.526Z"
   },
   {
    "duration": 13,
    "start_time": "2021-06-30T16:32:53.538Z"
   },
   {
    "duration": 34,
    "start_time": "2021-06-30T16:32:53.553Z"
   },
   {
    "duration": 7,
    "start_time": "2021-06-30T16:32:53.590Z"
   },
   {
    "duration": 12,
    "start_time": "2021-06-30T16:32:53.599Z"
   },
   {
    "duration": 10,
    "start_time": "2021-06-30T16:32:53.613Z"
   },
   {
    "duration": 10,
    "start_time": "2021-06-30T16:32:53.625Z"
   },
   {
    "duration": 10,
    "start_time": "2021-06-30T16:32:53.637Z"
   },
   {
    "duration": 3373,
    "start_time": "2021-06-30T16:32:53.650Z"
   },
   {
    "duration": 31,
    "start_time": "2021-06-30T16:32:57.026Z"
   },
   {
    "duration": 15,
    "start_time": "2021-06-30T16:32:57.059Z"
   },
   {
    "duration": 11,
    "start_time": "2021-06-30T16:32:57.077Z"
   },
   {
    "duration": 4,
    "start_time": "2021-06-30T16:32:57.091Z"
   },
   {
    "duration": 8,
    "start_time": "2021-06-30T16:32:57.097Z"
   },
   {
    "duration": 7,
    "start_time": "2021-06-30T16:32:57.108Z"
   },
   {
    "duration": 10,
    "start_time": "2021-06-30T16:32:57.117Z"
   },
   {
    "duration": 9,
    "start_time": "2021-06-30T16:32:57.130Z"
   },
   {
    "duration": 11,
    "start_time": "2021-06-30T16:32:57.141Z"
   },
   {
    "duration": 11,
    "start_time": "2021-06-30T16:32:57.155Z"
   },
   {
    "duration": 9,
    "start_time": "2021-06-30T16:32:57.168Z"
   },
   {
    "duration": 1918,
    "start_time": "2021-07-01T09:50:10.360Z"
   },
   {
    "duration": 337,
    "start_time": "2021-07-01T09:50:12.282Z"
   },
   {
    "duration": 285,
    "start_time": "2021-07-01T09:50:12.622Z"
   },
   {
    "duration": 190,
    "start_time": "2021-07-01T09:50:12.910Z"
   },
   {
    "duration": 39,
    "start_time": "2021-07-01T09:50:13.103Z"
   },
   {
    "duration": 60,
    "start_time": "2021-07-01T09:50:13.155Z"
   },
   {
    "duration": 8,
    "start_time": "2021-07-01T09:50:13.218Z"
   },
   {
    "duration": 101,
    "start_time": "2021-07-01T09:50:13.230Z"
   },
   {
    "duration": 9,
    "start_time": "2021-07-01T09:50:13.334Z"
   },
   {
    "duration": 36,
    "start_time": "2021-07-01T09:50:13.345Z"
   },
   {
    "duration": 5,
    "start_time": "2021-07-01T09:50:13.384Z"
   },
   {
    "duration": 33,
    "start_time": "2021-07-01T09:50:13.392Z"
   },
   {
    "duration": 37,
    "start_time": "2021-07-01T09:50:13.427Z"
   },
   {
    "duration": 33,
    "start_time": "2021-07-01T09:50:13.466Z"
   },
   {
    "duration": 7637,
    "start_time": "2021-07-01T09:50:13.501Z"
   },
   {
    "duration": -3782,
    "start_time": "2021-07-01T09:50:24.927Z"
   },
   {
    "duration": -3790,
    "start_time": "2021-07-01T09:50:24.936Z"
   },
   {
    "duration": -3799,
    "start_time": "2021-07-01T09:50:24.947Z"
   },
   {
    "duration": -3806,
    "start_time": "2021-07-01T09:50:24.956Z"
   },
   {
    "duration": -3815,
    "start_time": "2021-07-01T09:50:24.967Z"
   },
   {
    "duration": -3823,
    "start_time": "2021-07-01T09:50:24.977Z"
   },
   {
    "duration": -3861,
    "start_time": "2021-07-01T09:50:25.017Z"
   },
   {
    "duration": -3865,
    "start_time": "2021-07-01T09:50:25.023Z"
   },
   {
    "duration": -3885,
    "start_time": "2021-07-01T09:50:25.045Z"
   },
   {
    "duration": -3904,
    "start_time": "2021-07-01T09:50:25.066Z"
   },
   {
    "duration": -3947,
    "start_time": "2021-07-01T09:50:25.111Z"
   },
   {
    "duration": -3987,
    "start_time": "2021-07-01T09:50:25.152Z"
   },
   {
    "duration": -4049,
    "start_time": "2021-07-01T09:50:25.216Z"
   },
   {
    "duration": -4059,
    "start_time": "2021-07-01T09:50:25.228Z"
   },
   {
    "duration": -4066,
    "start_time": "2021-07-01T09:50:25.237Z"
   },
   {
    "duration": -4074,
    "start_time": "2021-07-01T09:50:25.247Z"
   },
   {
    "duration": -4081,
    "start_time": "2021-07-01T09:50:25.256Z"
   },
   {
    "duration": -4090,
    "start_time": "2021-07-01T09:50:25.266Z"
   },
   {
    "duration": -4100,
    "start_time": "2021-07-01T09:50:25.278Z"
   },
   {
    "duration": -4106,
    "start_time": "2021-07-01T09:50:25.286Z"
   },
   {
    "duration": -4115,
    "start_time": "2021-07-01T09:50:25.296Z"
   },
   {
    "duration": -4120,
    "start_time": "2021-07-01T09:50:25.303Z"
   },
   {
    "duration": -4143,
    "start_time": "2021-07-01T09:50:25.328Z"
   },
   {
    "duration": -4152,
    "start_time": "2021-07-01T09:50:25.338Z"
   },
   {
    "duration": -4159,
    "start_time": "2021-07-01T09:50:25.347Z"
   },
   {
    "duration": -4164,
    "start_time": "2021-07-01T09:50:25.354Z"
   },
   {
    "duration": -4170,
    "start_time": "2021-07-01T09:50:25.362Z"
   },
   {
    "duration": -4177,
    "start_time": "2021-07-01T09:50:25.370Z"
   },
   {
    "duration": -4183,
    "start_time": "2021-07-01T09:50:25.378Z"
   },
   {
    "duration": -4189,
    "start_time": "2021-07-01T09:50:25.386Z"
   },
   {
    "duration": -4195,
    "start_time": "2021-07-01T09:50:25.394Z"
   },
   {
    "duration": -4149,
    "start_time": "2021-07-01T09:50:25.402Z"
   },
   {
    "duration": -4156,
    "start_time": "2021-07-01T09:50:25.411Z"
   },
   {
    "duration": -4161,
    "start_time": "2021-07-01T09:50:25.419Z"
   },
   {
    "duration": -4259,
    "start_time": "2021-07-01T09:50:25.518Z"
   },
   {
    "duration": -4264,
    "start_time": "2021-07-01T09:50:25.525Z"
   },
   {
    "duration": -4270,
    "start_time": "2021-07-01T09:50:25.533Z"
   },
   {
    "duration": -4274,
    "start_time": "2021-07-01T09:50:25.539Z"
   },
   {
    "duration": -4298,
    "start_time": "2021-07-01T09:50:25.565Z"
   },
   {
    "duration": -4305,
    "start_time": "2021-07-01T09:50:25.574Z"
   },
   {
    "duration": -4311,
    "start_time": "2021-07-01T09:50:25.582Z"
   },
   {
    "duration": -4619,
    "start_time": "2021-07-01T09:50:25.891Z"
   },
   {
    "duration": -4625,
    "start_time": "2021-07-01T09:50:25.899Z"
   },
   {
    "duration": -4774,
    "start_time": "2021-07-01T09:50:26.050Z"
   },
   {
    "duration": -4781,
    "start_time": "2021-07-01T09:50:26.059Z"
   },
   {
    "duration": -4785,
    "start_time": "2021-07-01T09:50:26.065Z"
   },
   {
    "duration": -4792,
    "start_time": "2021-07-01T09:50:26.073Z"
   },
   {
    "duration": -4798,
    "start_time": "2021-07-01T09:50:26.081Z"
   },
   {
    "duration": -4804,
    "start_time": "2021-07-01T09:50:26.089Z"
   },
   {
    "duration": -4811,
    "start_time": "2021-07-01T09:50:26.097Z"
   },
   {
    "duration": -4817,
    "start_time": "2021-07-01T09:50:26.105Z"
   },
   {
    "duration": -4822,
    "start_time": "2021-07-01T09:50:26.112Z"
   },
   {
    "duration": -4828,
    "start_time": "2021-07-01T09:50:26.120Z"
   },
   {
    "duration": -4770,
    "start_time": "2021-07-01T09:50:26.128Z"
   },
   {
    "duration": -4775,
    "start_time": "2021-07-01T09:50:26.135Z"
   },
   {
    "duration": -4783,
    "start_time": "2021-07-01T09:50:26.145Z"
   },
   {
    "duration": -4801,
    "start_time": "2021-07-01T09:50:26.165Z"
   },
   {
    "duration": -4805,
    "start_time": "2021-07-01T09:50:26.171Z"
   },
   {
    "duration": -4812,
    "start_time": "2021-07-01T09:50:26.180Z"
   },
   {
    "duration": -4818,
    "start_time": "2021-07-01T09:50:26.187Z"
   },
   {
    "duration": -4823,
    "start_time": "2021-07-01T09:50:26.194Z"
   },
   {
    "duration": -5014,
    "start_time": "2021-07-01T09:50:26.387Z"
   },
   {
    "duration": -5019,
    "start_time": "2021-07-01T09:50:26.394Z"
   },
   {
    "duration": -5035,
    "start_time": "2021-07-01T09:50:26.412Z"
   },
   {
    "duration": -5041,
    "start_time": "2021-07-01T09:50:26.419Z"
   },
   {
    "duration": -5045,
    "start_time": "2021-07-01T09:50:26.425Z"
   },
   {
    "duration": -5050,
    "start_time": "2021-07-01T09:50:26.432Z"
   },
   {
    "duration": -5055,
    "start_time": "2021-07-01T09:50:26.439Z"
   },
   {
    "duration": -5090,
    "start_time": "2021-07-01T09:50:26.476Z"
   },
   {
    "duration": -5094,
    "start_time": "2021-07-01T09:50:26.482Z"
   },
   {
    "duration": -5100,
    "start_time": "2021-07-01T09:50:26.489Z"
   },
   {
    "duration": -5104,
    "start_time": "2021-07-01T09:50:26.495Z"
   },
   {
    "duration": -5049,
    "start_time": "2021-07-01T09:50:26.502Z"
   },
   {
    "duration": -5052,
    "start_time": "2021-07-01T09:50:26.508Z"
   },
   {
    "duration": -5070,
    "start_time": "2021-07-01T09:50:26.528Z"
   },
   {
    "duration": -5075,
    "start_time": "2021-07-01T09:50:26.535Z"
   },
   {
    "duration": -5081,
    "start_time": "2021-07-01T09:50:26.542Z"
   },
   {
    "duration": -5086,
    "start_time": "2021-07-01T09:50:26.549Z"
   },
   {
    "duration": -5091,
    "start_time": "2021-07-01T09:50:26.556Z"
   },
   {
    "duration": -5095,
    "start_time": "2021-07-01T09:50:26.562Z"
   },
   {
    "duration": -5121,
    "start_time": "2021-07-01T09:50:26.589Z"
   },
   {
    "duration": -5126,
    "start_time": "2021-07-01T09:50:26.596Z"
   },
   {
    "duration": -5130,
    "start_time": "2021-07-01T09:50:26.602Z"
   },
   {
    "duration": -5136,
    "start_time": "2021-07-01T09:50:26.609Z"
   },
   {
    "duration": -5141,
    "start_time": "2021-07-01T09:50:26.616Z"
   },
   {
    "duration": -5145,
    "start_time": "2021-07-01T09:50:26.622Z"
   },
   {
    "duration": -5163,
    "start_time": "2021-07-01T09:50:26.642Z"
   },
   {
    "duration": -5172,
    "start_time": "2021-07-01T09:50:26.652Z"
   },
   {
    "duration": -5177,
    "start_time": "2021-07-01T09:50:26.659Z"
   },
   {
    "duration": -5180,
    "start_time": "2021-07-01T09:50:26.665Z"
   },
   {
    "duration": -5185,
    "start_time": "2021-07-01T09:50:26.672Z"
   },
   {
    "duration": -5190,
    "start_time": "2021-07-01T09:50:26.679Z"
   },
   {
    "duration": -5196,
    "start_time": "2021-07-01T09:50:26.686Z"
   },
   {
    "duration": -5200,
    "start_time": "2021-07-01T09:50:26.692Z"
   },
   {
    "duration": 6613,
    "start_time": "2021-07-01T09:50:49.328Z"
   },
   {
    "duration": 6,
    "start_time": "2021-07-01T09:51:08.505Z"
   },
   {
    "duration": 1986,
    "start_time": "2021-07-01T09:51:14.941Z"
   },
   {
    "duration": 350,
    "start_time": "2021-07-01T09:51:16.931Z"
   },
   {
    "duration": 287,
    "start_time": "2021-07-01T09:51:17.285Z"
   },
   {
    "duration": 141,
    "start_time": "2021-07-01T09:51:17.575Z"
   },
   {
    "duration": 35,
    "start_time": "2021-07-01T09:51:17.719Z"
   },
   {
    "duration": 68,
    "start_time": "2021-07-01T09:51:17.757Z"
   },
   {
    "duration": 10,
    "start_time": "2021-07-01T09:51:17.828Z"
   },
   {
    "duration": 114,
    "start_time": "2021-07-01T09:51:17.842Z"
   },
   {
    "duration": 9,
    "start_time": "2021-07-01T09:51:17.960Z"
   },
   {
    "duration": 39,
    "start_time": "2021-07-01T09:51:17.971Z"
   },
   {
    "duration": 5,
    "start_time": "2021-07-01T09:51:18.012Z"
   },
   {
    "duration": 46,
    "start_time": "2021-07-01T09:51:18.020Z"
   },
   {
    "duration": 19,
    "start_time": "2021-07-01T09:51:18.068Z"
   },
   {
    "duration": 37,
    "start_time": "2021-07-01T09:51:18.090Z"
   },
   {
    "duration": 8,
    "start_time": "2021-07-01T09:51:18.129Z"
   },
   {
    "duration": 21,
    "start_time": "2021-07-01T09:51:18.155Z"
   },
   {
    "duration": 24,
    "start_time": "2021-07-01T09:51:18.179Z"
   },
   {
    "duration": 48,
    "start_time": "2021-07-01T09:51:18.206Z"
   },
   {
    "duration": 19,
    "start_time": "2021-07-01T09:51:18.256Z"
   },
   {
    "duration": 27,
    "start_time": "2021-07-01T09:51:18.277Z"
   },
   {
    "duration": 177,
    "start_time": "2021-07-01T09:51:18.307Z"
   },
   {
    "duration": 114,
    "start_time": "2021-07-01T09:51:18.486Z"
   },
   {
    "duration": 121,
    "start_time": "2021-07-01T09:51:18.606Z"
   },
   {
    "duration": 46,
    "start_time": "2021-07-01T09:51:18.731Z"
   },
   {
    "duration": 37,
    "start_time": "2021-07-01T09:51:18.779Z"
   },
   {
    "duration": 3257,
    "start_time": "2021-07-01T09:51:18.819Z"
   },
   {
    "duration": 9,
    "start_time": "2021-07-01T09:51:22.078Z"
   },
   {
    "duration": 1098,
    "start_time": "2021-07-01T09:51:22.090Z"
   },
   {
    "duration": 7,
    "start_time": "2021-07-01T09:51:23.191Z"
   },
   {
    "duration": 56,
    "start_time": "2021-07-01T09:51:23.200Z"
   },
   {
    "duration": 23,
    "start_time": "2021-07-01T09:51:23.258Z"
   },
   {
    "duration": 31,
    "start_time": "2021-07-01T09:51:23.284Z"
   },
   {
    "duration": 15,
    "start_time": "2021-07-01T09:51:23.318Z"
   },
   {
    "duration": 35,
    "start_time": "2021-07-01T09:51:23.335Z"
   },
   {
    "duration": 27,
    "start_time": "2021-07-01T09:51:23.372Z"
   },
   {
    "duration": 25,
    "start_time": "2021-07-01T09:51:23.402Z"
   },
   {
    "duration": 16,
    "start_time": "2021-07-01T09:51:23.430Z"
   },
   {
    "duration": 513,
    "start_time": "2021-07-01T09:51:23.449Z"
   },
   {
    "duration": 530,
    "start_time": "2021-07-01T09:51:23.965Z"
   },
   {
    "duration": 519,
    "start_time": "2021-07-01T09:51:24.499Z"
   },
   {
    "duration": 36,
    "start_time": "2021-07-01T09:51:25.021Z"
   },
   {
    "duration": 5,
    "start_time": "2021-07-01T09:51:25.060Z"
   },
   {
    "duration": 33,
    "start_time": "2021-07-01T09:51:25.068Z"
   },
   {
    "duration": 621,
    "start_time": "2021-07-01T09:51:25.104Z"
   },
   {
    "duration": 31,
    "start_time": "2021-07-01T09:51:25.728Z"
   },
   {
    "duration": 32,
    "start_time": "2021-07-01T09:51:25.762Z"
   },
   {
    "duration": 25,
    "start_time": "2021-07-01T09:51:25.798Z"
   },
   {
    "duration": 29,
    "start_time": "2021-07-01T09:51:25.825Z"
   },
   {
    "duration": 6,
    "start_time": "2021-07-01T09:51:25.857Z"
   },
   {
    "duration": 20,
    "start_time": "2021-07-01T09:51:25.866Z"
   },
   {
    "duration": 23,
    "start_time": "2021-07-01T09:51:25.889Z"
   },
   {
    "duration": 27,
    "start_time": "2021-07-01T09:51:25.915Z"
   },
   {
    "duration": 19,
    "start_time": "2021-07-01T09:51:25.945Z"
   },
   {
    "duration": 11,
    "start_time": "2021-07-01T09:51:25.967Z"
   },
   {
    "duration": 22,
    "start_time": "2021-07-01T09:51:25.981Z"
   },
   {
    "duration": 24,
    "start_time": "2021-07-01T09:51:26.006Z"
   },
   {
    "duration": 37,
    "start_time": "2021-07-01T09:51:26.034Z"
   },
   {
    "duration": 32,
    "start_time": "2021-07-01T09:51:26.075Z"
   },
   {
    "duration": 56,
    "start_time": "2021-07-01T09:51:26.111Z"
   },
   {
    "duration": 33,
    "start_time": "2021-07-01T09:51:26.170Z"
   },
   {
    "duration": 7,
    "start_time": "2021-07-01T09:51:26.205Z"
   },
   {
    "duration": 30,
    "start_time": "2021-07-01T09:51:26.214Z"
   },
   {
    "duration": 484,
    "start_time": "2021-07-01T09:51:26.247Z"
   },
   {
    "duration": 10,
    "start_time": "2021-07-01T09:51:26.734Z"
   },
   {
    "duration": 23,
    "start_time": "2021-07-01T09:51:26.756Z"
   },
   {
    "duration": 26,
    "start_time": "2021-07-01T09:51:26.782Z"
   },
   {
    "duration": 23,
    "start_time": "2021-07-01T09:51:26.811Z"
   },
   {
    "duration": 7,
    "start_time": "2021-07-01T09:51:26.847Z"
   },
   {
    "duration": 40,
    "start_time": "2021-07-01T09:51:26.858Z"
   },
   {
    "duration": 24,
    "start_time": "2021-07-01T09:51:26.900Z"
   },
   {
    "duration": 38,
    "start_time": "2021-07-01T09:51:26.927Z"
   },
   {
    "duration": 24,
    "start_time": "2021-07-01T09:51:26.968Z"
   },
   {
    "duration": 39,
    "start_time": "2021-07-01T09:51:26.996Z"
   },
   {
    "duration": 52,
    "start_time": "2021-07-01T09:51:27.037Z"
   },
   {
    "duration": 33,
    "start_time": "2021-07-01T09:51:27.092Z"
   },
   {
    "duration": 38,
    "start_time": "2021-07-01T09:51:27.129Z"
   },
   {
    "duration": 43,
    "start_time": "2021-07-01T09:51:27.170Z"
   },
   {
    "duration": 124,
    "start_time": "2021-07-01T09:51:27.216Z"
   },
   {
    "duration": 434,
    "start_time": "2021-07-01T09:51:27.343Z"
   },
   {
    "duration": 426,
    "start_time": "2021-07-01T09:51:27.780Z"
   },
   {
    "duration": 570,
    "start_time": "2021-07-01T09:51:28.209Z"
   },
   {
    "duration": 430,
    "start_time": "2021-07-01T09:51:28.782Z"
   },
   {
    "duration": 535,
    "start_time": "2021-07-01T09:51:29.214Z"
   },
   {
    "duration": 426,
    "start_time": "2021-07-01T09:51:29.754Z"
   },
   {
    "duration": 4,
    "start_time": "2021-07-01T09:51:30.183Z"
   },
   {
    "duration": 33,
    "start_time": "2021-07-01T09:51:30.189Z"
   },
   {
    "duration": 25,
    "start_time": "2021-07-01T09:51:30.224Z"
   },
   {
    "duration": 16,
    "start_time": "2021-07-01T09:51:30.252Z"
   },
   {
    "duration": 29,
    "start_time": "2021-07-01T09:51:30.270Z"
   },
   {
    "duration": 20,
    "start_time": "2021-07-01T09:51:30.302Z"
   },
   {
    "duration": 32,
    "start_time": "2021-07-01T09:51:30.325Z"
   },
   {
    "duration": 26,
    "start_time": "2021-07-01T09:51:30.360Z"
   },
   {
    "duration": 31,
    "start_time": "2021-07-01T09:51:30.388Z"
   },
   {
    "duration": 14,
    "start_time": "2021-07-01T09:51:30.423Z"
   },
   {
    "duration": 38,
    "start_time": "2021-07-01T09:51:30.440Z"
   },
   {
    "duration": 28,
    "start_time": "2021-07-01T09:51:30.481Z"
   },
   {
    "duration": 29,
    "start_time": "2021-07-01T09:51:30.512Z"
   },
   {
    "duration": 3244,
    "start_time": "2021-07-01T09:51:30.544Z"
   },
   {
    "duration": 28,
    "start_time": "2021-07-01T09:51:33.790Z"
   },
   {
    "duration": 35,
    "start_time": "2021-07-01T09:51:33.820Z"
   },
   {
    "duration": 14,
    "start_time": "2021-07-01T09:51:33.858Z"
   },
   {
    "duration": 5,
    "start_time": "2021-07-01T09:51:33.874Z"
   },
   {
    "duration": 20,
    "start_time": "2021-07-01T09:51:33.882Z"
   },
   {
    "duration": 11,
    "start_time": "2021-07-01T09:51:33.905Z"
   },
   {
    "duration": 10,
    "start_time": "2021-07-01T09:51:33.918Z"
   },
   {
    "duration": 26,
    "start_time": "2021-07-01T09:51:33.930Z"
   },
   {
    "duration": 10,
    "start_time": "2021-07-01T09:51:33.958Z"
   },
   {
    "duration": 16,
    "start_time": "2021-07-01T09:51:33.970Z"
   },
   {
    "duration": 14,
    "start_time": "2021-07-01T09:51:33.989Z"
   },
   {
    "duration": 37,
    "start_time": "2021-07-01T09:56:51.238Z"
   },
   {
    "duration": 37,
    "start_time": "2021-07-01T09:56:57.478Z"
   },
   {
    "duration": 38,
    "start_time": "2021-07-01T09:57:04.304Z"
   },
   {
    "duration": 27,
    "start_time": "2021-07-01T09:59:11.305Z"
   },
   {
    "duration": 20,
    "start_time": "2021-07-01T09:59:13.544Z"
   },
   {
    "duration": 22,
    "start_time": "2021-07-01T09:59:14.442Z"
   },
   {
    "duration": 222,
    "start_time": "2021-07-01T09:59:38.532Z"
   },
   {
    "duration": 426,
    "start_time": "2021-07-01T10:00:17.059Z"
   },
   {
    "duration": 1509,
    "start_time": "2021-07-01T10:00:28.706Z"
   },
   {
    "duration": 256,
    "start_time": "2021-07-01T10:00:30.218Z"
   },
   {
    "duration": 202,
    "start_time": "2021-07-01T10:00:30.477Z"
   },
   {
    "duration": 149,
    "start_time": "2021-07-01T10:00:30.682Z"
   },
   {
    "duration": 32,
    "start_time": "2021-07-01T10:00:30.834Z"
   },
   {
    "duration": 71,
    "start_time": "2021-07-01T10:00:30.869Z"
   },
   {
    "duration": 9,
    "start_time": "2021-07-01T10:00:30.942Z"
   },
   {
    "duration": 119,
    "start_time": "2021-07-01T10:00:30.955Z"
   },
   {
    "duration": 9,
    "start_time": "2021-07-01T10:00:31.078Z"
   },
   {
    "duration": 37,
    "start_time": "2021-07-01T10:00:31.090Z"
   },
   {
    "duration": 5,
    "start_time": "2021-07-01T10:00:31.130Z"
   },
   {
    "duration": 41,
    "start_time": "2021-07-01T10:00:31.138Z"
   },
   {
    "duration": 20,
    "start_time": "2021-07-01T10:00:31.181Z"
   },
   {
    "duration": 51,
    "start_time": "2021-07-01T10:00:31.204Z"
   },
   {
    "duration": 3,
    "start_time": "2021-07-01T10:00:31.258Z"
   },
   {
    "duration": 36,
    "start_time": "2021-07-01T10:00:31.264Z"
   },
   {
    "duration": 20,
    "start_time": "2021-07-01T10:00:31.303Z"
   },
   {
    "duration": 41,
    "start_time": "2021-07-01T10:00:31.326Z"
   },
   {
    "duration": 21,
    "start_time": "2021-07-01T10:00:31.370Z"
   },
   {
    "duration": 22,
    "start_time": "2021-07-01T10:00:31.393Z"
   },
   {
    "duration": 174,
    "start_time": "2021-07-01T10:00:31.417Z"
   },
   {
    "duration": 115,
    "start_time": "2021-07-01T10:00:31.594Z"
   },
   {
    "duration": 114,
    "start_time": "2021-07-01T10:00:31.715Z"
   },
   {
    "duration": 44,
    "start_time": "2021-07-01T10:00:31.832Z"
   },
   {
    "duration": 40,
    "start_time": "2021-07-01T10:00:31.879Z"
   },
   {
    "duration": 3242,
    "start_time": "2021-07-01T10:00:31.922Z"
   },
   {
    "duration": 9,
    "start_time": "2021-07-01T10:00:35.166Z"
   },
   {
    "duration": 1093,
    "start_time": "2021-07-01T10:00:35.178Z"
   },
   {
    "duration": 9,
    "start_time": "2021-07-01T10:00:36.274Z"
   },
   {
    "duration": 40,
    "start_time": "2021-07-01T10:00:36.285Z"
   },
   {
    "duration": 29,
    "start_time": "2021-07-01T10:00:36.327Z"
   },
   {
    "duration": 17,
    "start_time": "2021-07-01T10:00:36.358Z"
   },
   {
    "duration": 20,
    "start_time": "2021-07-01T10:00:36.377Z"
   },
   {
    "duration": 27,
    "start_time": "2021-07-01T10:00:36.399Z"
   },
   {
    "duration": 28,
    "start_time": "2021-07-01T10:00:36.428Z"
   },
   {
    "duration": 16,
    "start_time": "2021-07-01T10:00:36.459Z"
   },
   {
    "duration": 11,
    "start_time": "2021-07-01T10:00:36.477Z"
   },
   {
    "duration": 531,
    "start_time": "2021-07-01T10:00:36.491Z"
   },
   {
    "duration": 536,
    "start_time": "2021-07-01T10:00:37.025Z"
   },
   {
    "duration": 511,
    "start_time": "2021-07-01T10:00:37.563Z"
   },
   {
    "duration": 17,
    "start_time": "2021-07-01T10:00:38.076Z"
   },
   {
    "duration": 23,
    "start_time": "2021-07-01T10:00:38.096Z"
   },
   {
    "duration": 27,
    "start_time": "2021-07-01T10:00:38.122Z"
   },
   {
    "duration": 450,
    "start_time": "2021-07-01T10:00:38.151Z"
   },
   {
    "duration": 20,
    "start_time": "2021-07-01T10:00:38.603Z"
   },
   {
    "duration": 40,
    "start_time": "2021-07-01T10:00:38.626Z"
   },
   {
    "duration": 28,
    "start_time": "2021-07-01T10:00:38.668Z"
   },
   {
    "duration": 30,
    "start_time": "2021-07-01T10:00:38.698Z"
   },
   {
    "duration": 10,
    "start_time": "2021-07-01T10:00:38.731Z"
   },
   {
    "duration": 33,
    "start_time": "2021-07-01T10:00:38.743Z"
   },
   {
    "duration": 29,
    "start_time": "2021-07-01T10:00:38.778Z"
   },
   {
    "duration": 28,
    "start_time": "2021-07-01T10:00:38.810Z"
   },
   {
    "duration": 26,
    "start_time": "2021-07-01T10:00:38.841Z"
   },
   {
    "duration": 13,
    "start_time": "2021-07-01T10:00:38.869Z"
   },
   {
    "duration": 17,
    "start_time": "2021-07-01T10:00:38.884Z"
   },
   {
    "duration": 29,
    "start_time": "2021-07-01T10:00:38.903Z"
   },
   {
    "duration": 26,
    "start_time": "2021-07-01T10:00:38.935Z"
   },
   {
    "duration": 30,
    "start_time": "2021-07-01T10:00:38.963Z"
   },
   {
    "duration": 37,
    "start_time": "2021-07-01T10:00:38.996Z"
   },
   {
    "duration": 26,
    "start_time": "2021-07-01T10:00:39.037Z"
   },
   {
    "duration": 10,
    "start_time": "2021-07-01T10:00:39.065Z"
   },
   {
    "duration": 34,
    "start_time": "2021-07-01T10:00:39.078Z"
   },
   {
    "duration": 543,
    "start_time": "2021-07-01T10:00:39.115Z"
   },
   {
    "duration": 10,
    "start_time": "2021-07-01T10:00:39.661Z"
   },
   {
    "duration": 23,
    "start_time": "2021-07-01T10:00:39.674Z"
   },
   {
    "duration": 29,
    "start_time": "2021-07-01T10:00:39.700Z"
   },
   {
    "duration": 25,
    "start_time": "2021-07-01T10:00:39.731Z"
   },
   {
    "duration": 12,
    "start_time": "2021-07-01T10:00:39.765Z"
   },
   {
    "duration": 23,
    "start_time": "2021-07-01T10:00:39.780Z"
   },
   {
    "duration": 23,
    "start_time": "2021-07-01T10:00:39.806Z"
   },
   {
    "duration": 33,
    "start_time": "2021-07-01T10:00:39.831Z"
   },
   {
    "duration": 19,
    "start_time": "2021-07-01T10:00:39.867Z"
   },
   {
    "duration": 7,
    "start_time": "2021-07-01T10:00:39.888Z"
   },
   {
    "duration": 20,
    "start_time": "2021-07-01T10:00:39.898Z"
   },
   {
    "duration": 30,
    "start_time": "2021-07-01T10:00:39.920Z"
   },
   {
    "duration": 20,
    "start_time": "2021-07-01T10:00:39.953Z"
   },
   {
    "duration": 27,
    "start_time": "2021-07-01T10:00:39.975Z"
   },
   {
    "duration": 50,
    "start_time": "2021-07-01T10:00:40.004Z"
   },
   {
    "duration": 487,
    "start_time": "2021-07-01T10:00:40.056Z"
   },
   {
    "duration": 458,
    "start_time": "2021-07-01T10:00:40.545Z"
   },
   {
    "duration": 471,
    "start_time": "2021-07-01T10:00:41.006Z"
   },
   {
    "duration": 470,
    "start_time": "2021-07-01T10:00:41.480Z"
   },
   {
    "duration": 434,
    "start_time": "2021-07-01T10:00:41.954Z"
   },
   {
    "duration": 578,
    "start_time": "2021-07-01T10:00:42.391Z"
   },
   {
    "duration": 4,
    "start_time": "2021-07-01T10:00:42.972Z"
   },
   {
    "duration": 57,
    "start_time": "2021-07-01T10:00:42.982Z"
   },
   {
    "duration": 15,
    "start_time": "2021-07-01T10:00:43.047Z"
   },
   {
    "duration": 26,
    "start_time": "2021-07-01T10:00:43.067Z"
   },
   {
    "duration": 19,
    "start_time": "2021-07-01T10:00:43.095Z"
   },
   {
    "duration": 10,
    "start_time": "2021-07-01T10:00:43.117Z"
   },
   {
    "duration": 27,
    "start_time": "2021-07-01T10:00:43.130Z"
   },
   {
    "duration": 23,
    "start_time": "2021-07-01T10:00:43.160Z"
   },
   {
    "duration": 20,
    "start_time": "2021-07-01T10:00:43.186Z"
   },
   {
    "duration": 14,
    "start_time": "2021-07-01T10:00:43.208Z"
   },
   {
    "duration": 18,
    "start_time": "2021-07-01T10:00:43.225Z"
   },
   {
    "duration": 19,
    "start_time": "2021-07-01T10:00:43.246Z"
   },
   {
    "duration": 15,
    "start_time": "2021-07-01T10:00:43.268Z"
   },
   {
    "duration": 3328,
    "start_time": "2021-07-01T10:00:43.286Z"
   },
   {
    "duration": 40,
    "start_time": "2021-07-01T10:00:46.616Z"
   },
   {
    "duration": 21,
    "start_time": "2021-07-01T10:00:46.659Z"
   },
   {
    "duration": 15,
    "start_time": "2021-07-01T10:00:46.682Z"
   },
   {
    "duration": 14,
    "start_time": "2021-07-01T10:00:46.699Z"
   },
   {
    "duration": 31,
    "start_time": "2021-07-01T10:00:46.716Z"
   },
   {
    "duration": 19,
    "start_time": "2021-07-01T10:00:46.750Z"
   },
   {
    "duration": 18,
    "start_time": "2021-07-01T10:00:46.771Z"
   },
   {
    "duration": 11,
    "start_time": "2021-07-01T10:00:46.791Z"
   },
   {
    "duration": 29,
    "start_time": "2021-07-01T10:00:46.804Z"
   },
   {
    "duration": 28,
    "start_time": "2021-07-01T10:00:46.836Z"
   },
   {
    "duration": 23,
    "start_time": "2021-07-01T10:00:46.866Z"
   },
   {
    "duration": 39,
    "start_time": "2021-07-01T10:00:58.135Z"
   },
   {
    "duration": 44,
    "start_time": "2021-07-01T10:01:39.437Z"
   },
   {
    "duration": 1478,
    "start_time": "2021-07-01T10:06:38.701Z"
   },
   {
    "duration": 235,
    "start_time": "2021-07-01T10:06:40.182Z"
   },
   {
    "duration": 207,
    "start_time": "2021-07-01T10:06:40.420Z"
   },
   {
    "duration": 144,
    "start_time": "2021-07-01T10:06:40.631Z"
   },
   {
    "duration": 35,
    "start_time": "2021-07-01T10:06:40.778Z"
   },
   {
    "duration": 62,
    "start_time": "2021-07-01T10:06:40.817Z"
   },
   {
    "duration": 8,
    "start_time": "2021-07-01T10:06:40.881Z"
   },
   {
    "duration": 128,
    "start_time": "2021-07-01T10:06:40.893Z"
   },
   {
    "duration": 11,
    "start_time": "2021-07-01T10:06:41.024Z"
   },
   {
    "duration": 47,
    "start_time": "2021-07-01T10:06:41.038Z"
   },
   {
    "duration": 5,
    "start_time": "2021-07-01T10:06:41.087Z"
   },
   {
    "duration": 31,
    "start_time": "2021-07-01T10:06:41.095Z"
   },
   {
    "duration": 34,
    "start_time": "2021-07-01T10:06:41.128Z"
   },
   {
    "duration": 30,
    "start_time": "2021-07-01T10:06:41.164Z"
   },
   {
    "duration": 5,
    "start_time": "2021-07-01T10:06:41.197Z"
   },
   {
    "duration": 49,
    "start_time": "2021-07-01T10:06:41.205Z"
   },
   {
    "duration": 20,
    "start_time": "2021-07-01T10:06:41.257Z"
   },
   {
    "duration": 24,
    "start_time": "2021-07-01T10:06:41.279Z"
   },
   {
    "duration": 17,
    "start_time": "2021-07-01T10:06:41.305Z"
   },
   {
    "duration": 7,
    "start_time": "2021-07-01T10:06:41.354Z"
   },
   {
    "duration": 176,
    "start_time": "2021-07-01T10:06:41.363Z"
   },
   {
    "duration": 118,
    "start_time": "2021-07-01T10:06:41.542Z"
   },
   {
    "duration": 117,
    "start_time": "2021-07-01T10:06:41.666Z"
   },
   {
    "duration": 36,
    "start_time": "2021-07-01T10:06:41.787Z"
   },
   {
    "duration": 54,
    "start_time": "2021-07-01T10:06:41.826Z"
   },
   {
    "duration": 3287,
    "start_time": "2021-07-01T10:06:41.883Z"
   },
   {
    "duration": 10,
    "start_time": "2021-07-01T10:06:45.172Z"
   },
   {
    "duration": 1118,
    "start_time": "2021-07-01T10:06:45.185Z"
   },
   {
    "duration": 6,
    "start_time": "2021-07-01T10:06:46.306Z"
   },
   {
    "duration": 44,
    "start_time": "2021-07-01T10:06:46.315Z"
   },
   {
    "duration": 10,
    "start_time": "2021-07-01T10:06:46.361Z"
   },
   {
    "duration": 28,
    "start_time": "2021-07-01T10:06:46.373Z"
   },
   {
    "duration": 19,
    "start_time": "2021-07-01T10:06:46.403Z"
   },
   {
    "duration": 30,
    "start_time": "2021-07-01T10:06:46.424Z"
   },
   {
    "duration": 13,
    "start_time": "2021-07-01T10:06:46.457Z"
   },
   {
    "duration": 22,
    "start_time": "2021-07-01T10:06:46.472Z"
   },
   {
    "duration": 27,
    "start_time": "2021-07-01T10:06:46.497Z"
   },
   {
    "duration": 504,
    "start_time": "2021-07-01T10:06:46.526Z"
   },
   {
    "duration": 526,
    "start_time": "2021-07-01T10:06:47.032Z"
   },
   {
    "duration": 529,
    "start_time": "2021-07-01T10:06:47.560Z"
   },
   {
    "duration": 16,
    "start_time": "2021-07-01T10:06:48.092Z"
   },
   {
    "duration": 21,
    "start_time": "2021-07-01T10:06:48.110Z"
   },
   {
    "duration": 38,
    "start_time": "2021-07-01T10:06:48.134Z"
   },
   {
    "duration": 454,
    "start_time": "2021-07-01T10:06:48.174Z"
   },
   {
    "duration": 28,
    "start_time": "2021-07-01T10:06:48.631Z"
   },
   {
    "duration": 12,
    "start_time": "2021-07-01T10:06:48.662Z"
   },
   {
    "duration": 12,
    "start_time": "2021-07-01T10:06:48.677Z"
   },
   {
    "duration": 11,
    "start_time": "2021-07-01T10:06:48.692Z"
   },
   {
    "duration": 11,
    "start_time": "2021-07-01T10:06:48.706Z"
   },
   {
    "duration": 44,
    "start_time": "2021-07-01T10:06:48.719Z"
   },
   {
    "duration": 8,
    "start_time": "2021-07-01T10:06:48.765Z"
   },
   {
    "duration": 21,
    "start_time": "2021-07-01T10:06:48.775Z"
   },
   {
    "duration": 19,
    "start_time": "2021-07-01T10:06:48.798Z"
   },
   {
    "duration": 9,
    "start_time": "2021-07-01T10:06:48.819Z"
   },
   {
    "duration": 26,
    "start_time": "2021-07-01T10:06:48.830Z"
   },
   {
    "duration": 11,
    "start_time": "2021-07-01T10:06:48.859Z"
   },
   {
    "duration": 15,
    "start_time": "2021-07-01T10:06:48.873Z"
   },
   {
    "duration": 14,
    "start_time": "2021-07-01T10:06:48.890Z"
   },
   {
    "duration": 50,
    "start_time": "2021-07-01T10:06:48.906Z"
   },
   {
    "duration": 17,
    "start_time": "2021-07-01T10:06:48.958Z"
   },
   {
    "duration": 5,
    "start_time": "2021-07-01T10:06:48.978Z"
   },
   {
    "duration": 19,
    "start_time": "2021-07-01T10:06:48.985Z"
   },
   {
    "duration": 466,
    "start_time": "2021-07-01T10:06:49.006Z"
   },
   {
    "duration": 8,
    "start_time": "2021-07-01T10:06:49.475Z"
   },
   {
    "duration": 25,
    "start_time": "2021-07-01T10:06:49.486Z"
   },
   {
    "duration": 28,
    "start_time": "2021-07-01T10:06:49.514Z"
   },
   {
    "duration": 17,
    "start_time": "2021-07-01T10:06:49.545Z"
   },
   {
    "duration": 5,
    "start_time": "2021-07-01T10:06:49.572Z"
   },
   {
    "duration": 6,
    "start_time": "2021-07-01T10:06:49.580Z"
   },
   {
    "duration": 15,
    "start_time": "2021-07-01T10:06:49.589Z"
   },
   {
    "duration": 47,
    "start_time": "2021-07-01T10:06:49.607Z"
   },
   {
    "duration": 17,
    "start_time": "2021-07-01T10:06:49.657Z"
   },
   {
    "duration": 7,
    "start_time": "2021-07-01T10:06:49.676Z"
   },
   {
    "duration": 9,
    "start_time": "2021-07-01T10:06:49.686Z"
   },
   {
    "duration": 12,
    "start_time": "2021-07-01T10:06:49.697Z"
   },
   {
    "duration": 45,
    "start_time": "2021-07-01T10:06:49.712Z"
   },
   {
    "duration": 12,
    "start_time": "2021-07-01T10:06:49.760Z"
   },
   {
    "duration": 112,
    "start_time": "2021-07-01T10:06:49.775Z"
   },
   {
    "duration": 404,
    "start_time": "2021-07-01T10:06:49.890Z"
   },
   {
    "duration": 433,
    "start_time": "2021-07-01T10:06:50.297Z"
   },
   {
    "duration": 425,
    "start_time": "2021-07-01T10:06:50.733Z"
   },
   {
    "duration": 432,
    "start_time": "2021-07-01T10:06:51.161Z"
   },
   {
    "duration": 455,
    "start_time": "2021-07-01T10:06:51.596Z"
   },
   {
    "duration": 418,
    "start_time": "2021-07-01T10:06:52.055Z"
   },
   {
    "duration": 4,
    "start_time": "2021-07-01T10:06:52.476Z"
   },
   {
    "duration": 18,
    "start_time": "2021-07-01T10:06:52.483Z"
   },
   {
    "duration": 11,
    "start_time": "2021-07-01T10:06:52.503Z"
   },
   {
    "duration": 37,
    "start_time": "2021-07-01T10:06:52.517Z"
   },
   {
    "duration": 7,
    "start_time": "2021-07-01T10:06:52.556Z"
   },
   {
    "duration": 10,
    "start_time": "2021-07-01T10:06:52.566Z"
   },
   {
    "duration": 7,
    "start_time": "2021-07-01T10:06:52.579Z"
   },
   {
    "duration": 6,
    "start_time": "2021-07-01T10:06:52.588Z"
   },
   {
    "duration": 16,
    "start_time": "2021-07-01T10:06:52.596Z"
   },
   {
    "duration": 5,
    "start_time": "2021-07-01T10:06:52.654Z"
   },
   {
    "duration": 10,
    "start_time": "2021-07-01T10:06:52.661Z"
   },
   {
    "duration": 7,
    "start_time": "2021-07-01T10:06:52.673Z"
   },
   {
    "duration": 8,
    "start_time": "2021-07-01T10:06:52.683Z"
   },
   {
    "duration": 3387,
    "start_time": "2021-07-01T10:06:52.693Z"
   },
   {
    "duration": 31,
    "start_time": "2021-07-01T10:06:56.082Z"
   },
   {
    "duration": 11,
    "start_time": "2021-07-01T10:06:56.115Z"
   },
   {
    "duration": 31,
    "start_time": "2021-07-01T10:06:56.128Z"
   },
   {
    "duration": 8,
    "start_time": "2021-07-01T10:06:56.162Z"
   },
   {
    "duration": 8,
    "start_time": "2021-07-01T10:06:56.172Z"
   },
   {
    "duration": 20,
    "start_time": "2021-07-01T10:06:56.182Z"
   },
   {
    "duration": 23,
    "start_time": "2021-07-01T10:06:56.204Z"
   },
   {
    "duration": 30,
    "start_time": "2021-07-01T10:06:56.229Z"
   },
   {
    "duration": 17,
    "start_time": "2021-07-01T10:06:56.261Z"
   },
   {
    "duration": 9,
    "start_time": "2021-07-01T10:06:56.280Z"
   },
   {
    "duration": 10,
    "start_time": "2021-07-01T10:06:56.291Z"
   },
   {
    "duration": 6,
    "start_time": "2021-07-01T10:08:03.840Z"
   },
   {
    "duration": 16,
    "start_time": "2021-07-01T10:08:05.355Z"
   },
   {
    "duration": 22,
    "start_time": "2021-07-01T10:08:07.816Z"
   },
   {
    "duration": 1463,
    "start_time": "2021-07-01T10:09:10.102Z"
   },
   {
    "duration": 248,
    "start_time": "2021-07-01T10:09:11.571Z"
   },
   {
    "duration": 204,
    "start_time": "2021-07-01T10:09:11.822Z"
   },
   {
    "duration": 151,
    "start_time": "2021-07-01T10:09:12.029Z"
   },
   {
    "duration": 32,
    "start_time": "2021-07-01T10:09:12.182Z"
   },
   {
    "duration": 68,
    "start_time": "2021-07-01T10:09:12.217Z"
   },
   {
    "duration": 8,
    "start_time": "2021-07-01T10:09:12.287Z"
   },
   {
    "duration": 120,
    "start_time": "2021-07-01T10:09:12.299Z"
   },
   {
    "duration": 10,
    "start_time": "2021-07-01T10:09:12.422Z"
   },
   {
    "duration": 36,
    "start_time": "2021-07-01T10:09:12.434Z"
   },
   {
    "duration": 5,
    "start_time": "2021-07-01T10:09:12.473Z"
   },
   {
    "duration": 29,
    "start_time": "2021-07-01T10:09:12.481Z"
   },
   {
    "duration": 44,
    "start_time": "2021-07-01T10:09:12.513Z"
   },
   {
    "duration": 39,
    "start_time": "2021-07-01T10:09:12.559Z"
   },
   {
    "duration": 6,
    "start_time": "2021-07-01T10:09:12.601Z"
   },
   {
    "duration": 37,
    "start_time": "2021-07-01T10:09:12.610Z"
   },
   {
    "duration": 22,
    "start_time": "2021-07-01T10:09:12.649Z"
   },
   {
    "duration": 34,
    "start_time": "2021-07-01T10:09:12.673Z"
   },
   {
    "duration": 19,
    "start_time": "2021-07-01T10:09:12.709Z"
   },
   {
    "duration": 24,
    "start_time": "2021-07-01T10:09:12.730Z"
   },
   {
    "duration": 172,
    "start_time": "2021-07-01T10:09:12.757Z"
   },
   {
    "duration": 118,
    "start_time": "2021-07-01T10:09:12.932Z"
   },
   {
    "duration": 117,
    "start_time": "2021-07-01T10:09:13.053Z"
   },
   {
    "duration": 37,
    "start_time": "2021-07-01T10:09:13.172Z"
   },
   {
    "duration": 55,
    "start_time": "2021-07-01T10:09:13.211Z"
   },
   {
    "duration": 3381,
    "start_time": "2021-07-01T10:09:13.273Z"
   },
   {
    "duration": 10,
    "start_time": "2021-07-01T10:09:16.658Z"
   },
   {
    "duration": 1102,
    "start_time": "2021-07-01T10:09:16.670Z"
   },
   {
    "duration": 7,
    "start_time": "2021-07-01T10:09:17.775Z"
   },
   {
    "duration": 34,
    "start_time": "2021-07-01T10:09:17.785Z"
   },
   {
    "duration": 10,
    "start_time": "2021-07-01T10:09:17.822Z"
   },
   {
    "duration": 16,
    "start_time": "2021-07-01T10:09:17.856Z"
   },
   {
    "duration": 12,
    "start_time": "2021-07-01T10:09:17.875Z"
   },
   {
    "duration": 20,
    "start_time": "2021-07-01T10:09:17.889Z"
   },
   {
    "duration": 46,
    "start_time": "2021-07-01T10:09:17.911Z"
   },
   {
    "duration": 9,
    "start_time": "2021-07-01T10:09:17.960Z"
   },
   {
    "duration": 31,
    "start_time": "2021-07-01T10:09:17.971Z"
   },
   {
    "duration": 519,
    "start_time": "2021-07-01T10:09:18.004Z"
   },
   {
    "duration": 520,
    "start_time": "2021-07-01T10:09:18.525Z"
   },
   {
    "duration": 553,
    "start_time": "2021-07-01T10:09:19.048Z"
   },
   {
    "duration": 16,
    "start_time": "2021-07-01T10:09:19.604Z"
   },
   {
    "duration": 4,
    "start_time": "2021-07-01T10:09:19.623Z"
   },
   {
    "duration": 29,
    "start_time": "2021-07-01T10:09:19.630Z"
   },
   {
    "duration": 452,
    "start_time": "2021-07-01T10:09:19.662Z"
   },
   {
    "duration": 20,
    "start_time": "2021-07-01T10:09:20.116Z"
   },
   {
    "duration": 12,
    "start_time": "2021-07-01T10:09:20.154Z"
   },
   {
    "duration": 13,
    "start_time": "2021-07-01T10:09:20.169Z"
   },
   {
    "duration": 12,
    "start_time": "2021-07-01T10:09:20.185Z"
   },
   {
    "duration": 12,
    "start_time": "2021-07-01T10:09:20.200Z"
   },
   {
    "duration": 11,
    "start_time": "2021-07-01T10:09:20.215Z"
   },
   {
    "duration": 25,
    "start_time": "2021-07-01T10:09:20.229Z"
   },
   {
    "duration": 27,
    "start_time": "2021-07-01T10:09:20.257Z"
   },
   {
    "duration": 17,
    "start_time": "2021-07-01T10:09:20.287Z"
   },
   {
    "duration": 5,
    "start_time": "2021-07-01T10:09:20.307Z"
   },
   {
    "duration": 8,
    "start_time": "2021-07-01T10:09:20.314Z"
   },
   {
    "duration": 34,
    "start_time": "2021-07-01T10:09:20.325Z"
   },
   {
    "duration": 11,
    "start_time": "2021-07-01T10:09:20.362Z"
   },
   {
    "duration": 19,
    "start_time": "2021-07-01T10:09:20.375Z"
   },
   {
    "duration": 25,
    "start_time": "2021-07-01T10:09:20.396Z"
   },
   {
    "duration": 39,
    "start_time": "2021-07-01T10:09:20.423Z"
   },
   {
    "duration": 4,
    "start_time": "2021-07-01T10:09:20.464Z"
   },
   {
    "duration": 16,
    "start_time": "2021-07-01T10:09:20.470Z"
   },
   {
    "duration": 448,
    "start_time": "2021-07-01T10:09:20.488Z"
   },
   {
    "duration": 17,
    "start_time": "2021-07-01T10:09:20.938Z"
   },
   {
    "duration": 15,
    "start_time": "2021-07-01T10:09:20.958Z"
   },
   {
    "duration": 13,
    "start_time": "2021-07-01T10:09:20.976Z"
   },
   {
    "duration": 12,
    "start_time": "2021-07-01T10:09:20.992Z"
   },
   {
    "duration": 12,
    "start_time": "2021-07-01T10:09:21.006Z"
   },
   {
    "duration": 33,
    "start_time": "2021-07-01T10:09:21.021Z"
   },
   {
    "duration": 12,
    "start_time": "2021-07-01T10:09:21.058Z"
   },
   {
    "duration": 96,
    "start_time": "2021-07-01T10:09:21.073Z"
   },
   {
    "duration": 19,
    "start_time": "2021-07-01T10:09:21.172Z"
   },
   {
    "duration": 5,
    "start_time": "2021-07-01T10:09:21.194Z"
   },
   {
    "duration": 20,
    "start_time": "2021-07-01T10:09:21.202Z"
   },
   {
    "duration": 31,
    "start_time": "2021-07-01T10:09:21.225Z"
   },
   {
    "duration": 29,
    "start_time": "2021-07-01T10:09:21.258Z"
   },
   {
    "duration": 19,
    "start_time": "2021-07-01T10:09:21.290Z"
   },
   {
    "duration": 31,
    "start_time": "2021-07-01T10:09:21.312Z"
   },
   {
    "duration": 399,
    "start_time": "2021-07-01T10:09:21.346Z"
   },
   {
    "duration": 419,
    "start_time": "2021-07-01T10:09:21.762Z"
   },
   {
    "duration": 414,
    "start_time": "2021-07-01T10:09:22.184Z"
   },
   {
    "duration": 424,
    "start_time": "2021-07-01T10:09:22.600Z"
   },
   {
    "duration": 423,
    "start_time": "2021-07-01T10:09:23.027Z"
   },
   {
    "duration": 411,
    "start_time": "2021-07-01T10:09:23.455Z"
   },
   {
    "duration": 4,
    "start_time": "2021-07-01T10:09:23.868Z"
   },
   {
    "duration": 11,
    "start_time": "2021-07-01T10:09:23.874Z"
   },
   {
    "duration": 13,
    "start_time": "2021-07-01T10:09:23.887Z"
   },
   {
    "duration": 10,
    "start_time": "2021-07-01T10:09:23.903Z"
   },
   {
    "duration": 7,
    "start_time": "2021-07-01T10:09:23.915Z"
   },
   {
    "duration": 34,
    "start_time": "2021-07-01T10:09:23.924Z"
   },
   {
    "duration": 14,
    "start_time": "2021-07-01T10:09:23.960Z"
   },
   {
    "duration": 17,
    "start_time": "2021-07-01T10:09:23.977Z"
   },
   {
    "duration": 16,
    "start_time": "2021-07-01T10:09:23.997Z"
   },
   {
    "duration": 9,
    "start_time": "2021-07-01T10:09:24.016Z"
   },
   {
    "duration": 7,
    "start_time": "2021-07-01T10:09:24.028Z"
   },
   {
    "duration": 17,
    "start_time": "2021-07-01T10:09:24.038Z"
   },
   {
    "duration": 6,
    "start_time": "2021-07-01T10:09:24.057Z"
   },
   {
    "duration": 3373,
    "start_time": "2021-07-01T10:09:24.066Z"
   },
   {
    "duration": 36,
    "start_time": "2021-07-01T10:09:27.442Z"
   },
   {
    "duration": 28,
    "start_time": "2021-07-01T10:09:27.480Z"
   },
   {
    "duration": 19,
    "start_time": "2021-07-01T10:09:27.511Z"
   },
   {
    "duration": 16,
    "start_time": "2021-07-01T10:09:27.533Z"
   },
   {
    "duration": 29,
    "start_time": "2021-07-01T10:09:27.552Z"
   },
   {
    "duration": 10,
    "start_time": "2021-07-01T10:09:27.583Z"
   },
   {
    "duration": 27,
    "start_time": "2021-07-01T10:09:27.595Z"
   },
   {
    "duration": 15,
    "start_time": "2021-07-01T10:09:27.624Z"
   },
   {
    "duration": 25,
    "start_time": "2021-07-01T10:09:27.642Z"
   },
   {
    "duration": 12,
    "start_time": "2021-07-01T10:09:27.669Z"
   },
   {
    "duration": 25,
    "start_time": "2021-07-01T10:09:27.684Z"
   },
   {
    "duration": 83,
    "start_time": "2021-07-01T10:14:23.806Z"
   },
   {
    "duration": 1510,
    "start_time": "2021-07-01T10:34:54.018Z"
   },
   {
    "duration": 279,
    "start_time": "2021-07-01T10:34:55.531Z"
   },
   {
    "duration": 223,
    "start_time": "2021-07-01T10:34:55.814Z"
   },
   {
    "duration": 152,
    "start_time": "2021-07-01T10:34:56.040Z"
   },
   {
    "duration": 31,
    "start_time": "2021-07-01T10:34:56.195Z"
   },
   {
    "duration": 63,
    "start_time": "2021-07-01T10:34:56.228Z"
   },
   {
    "duration": 10,
    "start_time": "2021-07-01T10:34:56.294Z"
   },
   {
    "duration": 125,
    "start_time": "2021-07-01T10:34:56.309Z"
   },
   {
    "duration": 18,
    "start_time": "2021-07-01T10:34:56.437Z"
   },
   {
    "duration": 29,
    "start_time": "2021-07-01T10:34:56.458Z"
   },
   {
    "duration": 4,
    "start_time": "2021-07-01T10:34:56.489Z"
   },
   {
    "duration": 44,
    "start_time": "2021-07-01T10:34:56.496Z"
   },
   {
    "duration": 30,
    "start_time": "2021-07-01T10:34:56.542Z"
   },
   {
    "duration": 38,
    "start_time": "2021-07-01T10:34:56.575Z"
   },
   {
    "duration": 6,
    "start_time": "2021-07-01T10:34:56.615Z"
   },
   {
    "duration": 45,
    "start_time": "2021-07-01T10:34:56.624Z"
   },
   {
    "duration": 31,
    "start_time": "2021-07-01T10:34:56.672Z"
   },
   {
    "duration": 52,
    "start_time": "2021-07-01T10:34:56.707Z"
   },
   {
    "duration": 22,
    "start_time": "2021-07-01T10:34:56.762Z"
   },
   {
    "duration": 20,
    "start_time": "2021-07-01T10:34:56.786Z"
   },
   {
    "duration": 185,
    "start_time": "2021-07-01T10:34:56.809Z"
   },
   {
    "duration": 146,
    "start_time": "2021-07-01T10:34:56.997Z"
   },
   {
    "duration": 129,
    "start_time": "2021-07-01T10:34:57.147Z"
   },
   {
    "duration": 37,
    "start_time": "2021-07-01T10:34:57.278Z"
   },
   {
    "duration": 57,
    "start_time": "2021-07-01T10:34:57.318Z"
   },
   {
    "duration": 3437,
    "start_time": "2021-07-01T10:34:57.384Z"
   },
   {
    "duration": 10,
    "start_time": "2021-07-01T10:35:00.825Z"
   },
   {
    "duration": 1258,
    "start_time": "2021-07-01T10:35:00.838Z"
   },
   {
    "duration": 9,
    "start_time": "2021-07-01T10:35:02.100Z"
   },
   {
    "duration": 53,
    "start_time": "2021-07-01T10:35:02.112Z"
   },
   {
    "duration": 13,
    "start_time": "2021-07-01T10:35:02.171Z"
   },
   {
    "duration": 33,
    "start_time": "2021-07-01T10:35:02.188Z"
   },
   {
    "duration": 30,
    "start_time": "2021-07-01T10:35:02.224Z"
   },
   {
    "duration": 34,
    "start_time": "2021-07-01T10:35:02.257Z"
   },
   {
    "duration": 49,
    "start_time": "2021-07-01T10:35:02.293Z"
   },
   {
    "duration": 27,
    "start_time": "2021-07-01T10:35:02.344Z"
   },
   {
    "duration": 33,
    "start_time": "2021-07-01T10:35:02.373Z"
   },
   {
    "duration": 554,
    "start_time": "2021-07-01T10:35:02.408Z"
   },
   {
    "duration": 601,
    "start_time": "2021-07-01T10:35:02.965Z"
   },
   {
    "duration": 549,
    "start_time": "2021-07-01T10:35:03.568Z"
   },
   {
    "duration": 17,
    "start_time": "2021-07-01T10:35:04.119Z"
   },
   {
    "duration": 29,
    "start_time": "2021-07-01T10:35:04.138Z"
   },
   {
    "duration": 30,
    "start_time": "2021-07-01T10:35:04.170Z"
   },
   {
    "duration": 480,
    "start_time": "2021-07-01T10:35:04.204Z"
   },
   {
    "duration": 21,
    "start_time": "2021-07-01T10:35:04.687Z"
   },
   {
    "duration": 30,
    "start_time": "2021-07-01T10:35:04.711Z"
   },
   {
    "duration": 29,
    "start_time": "2021-07-01T10:35:04.744Z"
   },
   {
    "duration": 26,
    "start_time": "2021-07-01T10:35:04.777Z"
   },
   {
    "duration": 32,
    "start_time": "2021-07-01T10:35:04.806Z"
   },
   {
    "duration": 16,
    "start_time": "2021-07-01T10:35:04.841Z"
   },
   {
    "duration": 24,
    "start_time": "2021-07-01T10:35:04.862Z"
   },
   {
    "duration": 42,
    "start_time": "2021-07-01T10:35:04.889Z"
   },
   {
    "duration": 22,
    "start_time": "2021-07-01T10:35:04.934Z"
   },
   {
    "duration": 15,
    "start_time": "2021-07-01T10:35:04.959Z"
   },
   {
    "duration": 12,
    "start_time": "2021-07-01T10:35:04.980Z"
   },
   {
    "duration": 26,
    "start_time": "2021-07-01T10:35:04.995Z"
   },
   {
    "duration": 36,
    "start_time": "2021-07-01T10:35:05.023Z"
   },
   {
    "duration": 13,
    "start_time": "2021-07-01T10:35:05.062Z"
   },
   {
    "duration": 38,
    "start_time": "2021-07-01T10:35:05.078Z"
   },
   {
    "duration": 37,
    "start_time": "2021-07-01T10:35:05.118Z"
   },
   {
    "duration": 12,
    "start_time": "2021-07-01T10:35:05.158Z"
   },
   {
    "duration": 26,
    "start_time": "2021-07-01T10:35:05.173Z"
   },
   {
    "duration": 479,
    "start_time": "2021-07-01T10:35:05.202Z"
   },
   {
    "duration": 10,
    "start_time": "2021-07-01T10:35:05.684Z"
   },
   {
    "duration": 21,
    "start_time": "2021-07-01T10:35:05.696Z"
   },
   {
    "duration": 18,
    "start_time": "2021-07-01T10:35:05.719Z"
   },
   {
    "duration": 34,
    "start_time": "2021-07-01T10:35:05.740Z"
   },
   {
    "duration": 8,
    "start_time": "2021-07-01T10:35:05.777Z"
   },
   {
    "duration": 21,
    "start_time": "2021-07-01T10:35:05.787Z"
   },
   {
    "duration": 14,
    "start_time": "2021-07-01T10:35:05.811Z"
   },
   {
    "duration": 118,
    "start_time": "2021-07-01T10:35:05.827Z"
   },
   {
    "duration": 30,
    "start_time": "2021-07-01T10:35:05.948Z"
   },
   {
    "duration": 21,
    "start_time": "2021-07-01T10:35:05.980Z"
   },
   {
    "duration": 15,
    "start_time": "2021-07-01T10:35:06.003Z"
   },
   {
    "duration": 26,
    "start_time": "2021-07-01T10:35:06.020Z"
   },
   {
    "duration": 24,
    "start_time": "2021-07-01T10:35:06.049Z"
   },
   {
    "duration": 25,
    "start_time": "2021-07-01T10:35:06.077Z"
   },
   {
    "duration": 53,
    "start_time": "2021-07-01T10:35:06.105Z"
   },
   {
    "duration": 411,
    "start_time": "2021-07-01T10:35:06.161Z"
   },
   {
    "duration": 437,
    "start_time": "2021-07-01T10:35:06.586Z"
   },
   {
    "duration": 455,
    "start_time": "2021-07-01T10:35:07.027Z"
   },
   {
    "duration": 459,
    "start_time": "2021-07-01T10:35:07.484Z"
   },
   {
    "duration": 443,
    "start_time": "2021-07-01T10:35:07.946Z"
   },
   {
    "duration": 611,
    "start_time": "2021-07-01T10:35:08.391Z"
   },
   {
    "duration": 4,
    "start_time": "2021-07-01T10:35:09.005Z"
   },
   {
    "duration": 26,
    "start_time": "2021-07-01T10:35:09.012Z"
   },
   {
    "duration": 22,
    "start_time": "2021-07-01T10:35:09.041Z"
   },
   {
    "duration": 18,
    "start_time": "2021-07-01T10:35:09.066Z"
   },
   {
    "duration": 16,
    "start_time": "2021-07-01T10:35:09.086Z"
   },
   {
    "duration": 24,
    "start_time": "2021-07-01T10:35:09.105Z"
   },
   {
    "duration": 15,
    "start_time": "2021-07-01T10:35:09.132Z"
   },
   {
    "duration": 18,
    "start_time": "2021-07-01T10:35:09.150Z"
   },
   {
    "duration": 27,
    "start_time": "2021-07-01T10:35:09.170Z"
   },
   {
    "duration": 35,
    "start_time": "2021-07-01T10:35:09.200Z"
   },
   {
    "duration": 26,
    "start_time": "2021-07-01T10:35:09.238Z"
   },
   {
    "duration": 18,
    "start_time": "2021-07-01T10:35:09.266Z"
   },
   {
    "duration": 24,
    "start_time": "2021-07-01T10:35:09.287Z"
   },
   {
    "duration": 3293,
    "start_time": "2021-07-01T10:35:09.314Z"
   },
   {
    "duration": 31,
    "start_time": "2021-07-01T10:35:12.609Z"
   },
   {
    "duration": 9,
    "start_time": "2021-07-01T10:35:12.657Z"
   },
   {
    "duration": 13,
    "start_time": "2021-07-01T10:35:12.668Z"
   },
   {
    "duration": 17,
    "start_time": "2021-07-01T10:35:12.684Z"
   },
   {
    "duration": 16,
    "start_time": "2021-07-01T10:35:12.704Z"
   },
   {
    "duration": 23,
    "start_time": "2021-07-01T10:35:12.722Z"
   },
   {
    "duration": 22,
    "start_time": "2021-07-01T10:35:12.747Z"
   },
   {
    "duration": 14,
    "start_time": "2021-07-01T10:35:12.771Z"
   },
   {
    "duration": 18,
    "start_time": "2021-07-01T10:35:12.788Z"
   },
   {
    "duration": 8,
    "start_time": "2021-07-01T10:35:12.809Z"
   },
   {
    "duration": 15,
    "start_time": "2021-07-01T10:35:12.819Z"
   },
   {
    "duration": 109,
    "start_time": "2021-07-01T11:41:48.164Z"
   },
   {
    "duration": 341,
    "start_time": "2021-07-01T11:42:18.134Z"
   },
   {
    "duration": 1572,
    "start_time": "2021-07-01T11:42:22.717Z"
   },
   {
    "duration": 246,
    "start_time": "2021-07-01T11:42:24.291Z"
   },
   {
    "duration": 207,
    "start_time": "2021-07-01T11:42:24.541Z"
   },
   {
    "duration": 150,
    "start_time": "2021-07-01T11:42:24.751Z"
   },
   {
    "duration": 36,
    "start_time": "2021-07-01T11:42:24.903Z"
   },
   {
    "duration": 50,
    "start_time": "2021-07-01T11:42:24.941Z"
   },
   {
    "duration": 7,
    "start_time": "2021-07-01T11:42:24.994Z"
   },
   {
    "duration": 123,
    "start_time": "2021-07-01T11:42:25.005Z"
   },
   {
    "duration": 9,
    "start_time": "2021-07-01T11:42:25.130Z"
   },
   {
    "duration": 26,
    "start_time": "2021-07-01T11:42:25.141Z"
   },
   {
    "duration": 4,
    "start_time": "2021-07-01T11:42:25.169Z"
   },
   {
    "duration": 59,
    "start_time": "2021-07-01T11:42:25.176Z"
   },
   {
    "duration": 20,
    "start_time": "2021-07-01T11:42:25.237Z"
   },
   {
    "duration": 26,
    "start_time": "2021-07-01T11:42:25.259Z"
   },
   {
    "duration": 7,
    "start_time": "2021-07-01T11:42:25.287Z"
   },
   {
    "duration": 88,
    "start_time": "2021-07-01T11:42:25.324Z"
   },
   {
    "duration": 38426,
    "start_time": "2021-07-01T11:41:46.992Z"
   },
   {
    "duration": 38421,
    "start_time": "2021-07-01T11:41:46.998Z"
   },
   {
    "duration": 38416,
    "start_time": "2021-07-01T11:41:47.005Z"
   },
   {
    "duration": 38337,
    "start_time": "2021-07-01T11:41:47.085Z"
   },
   {
    "duration": 38330,
    "start_time": "2021-07-01T11:41:47.093Z"
   },
   {
    "duration": 38325,
    "start_time": "2021-07-01T11:41:47.099Z"
   },
   {
    "duration": 38321,
    "start_time": "2021-07-01T11:41:47.105Z"
   },
   {
    "duration": 38313,
    "start_time": "2021-07-01T11:41:47.114Z"
   },
   {
    "duration": 38306,
    "start_time": "2021-07-01T11:41:47.122Z"
   },
   {
    "duration": 38300,
    "start_time": "2021-07-01T11:41:47.130Z"
   },
   {
    "duration": 38294,
    "start_time": "2021-07-01T11:41:47.137Z"
   },
   {
    "duration": 38291,
    "start_time": "2021-07-01T11:41:47.142Z"
   },
   {
    "duration": 38287,
    "start_time": "2021-07-01T11:41:47.147Z"
   },
   {
    "duration": 38283,
    "start_time": "2021-07-01T11:41:47.152Z"
   },
   {
    "duration": 38278,
    "start_time": "2021-07-01T11:41:47.158Z"
   },
   {
    "duration": 38275,
    "start_time": "2021-07-01T11:41:47.163Z"
   },
   {
    "duration": 38271,
    "start_time": "2021-07-01T11:41:47.168Z"
   },
   {
    "duration": 38268,
    "start_time": "2021-07-01T11:41:47.172Z"
   },
   {
    "duration": 38263,
    "start_time": "2021-07-01T11:41:47.178Z"
   },
   {
    "duration": 38260,
    "start_time": "2021-07-01T11:41:47.183Z"
   },
   {
    "duration": 38248,
    "start_time": "2021-07-01T11:41:47.196Z"
   },
   {
    "duration": 38243,
    "start_time": "2021-07-01T11:41:47.202Z"
   },
   {
    "duration": 38237,
    "start_time": "2021-07-01T11:41:47.209Z"
   },
   {
    "duration": 38049,
    "start_time": "2021-07-01T11:41:47.399Z"
   },
   {
    "duration": 38044,
    "start_time": "2021-07-01T11:41:47.405Z"
   },
   {
    "duration": 38032,
    "start_time": "2021-07-01T11:41:47.418Z"
   },
   {
    "duration": 38024,
    "start_time": "2021-07-01T11:41:47.428Z"
   },
   {
    "duration": 38018,
    "start_time": "2021-07-01T11:41:47.435Z"
   },
   {
    "duration": 38013,
    "start_time": "2021-07-01T11:41:47.441Z"
   },
   {
    "duration": 38009,
    "start_time": "2021-07-01T11:41:47.447Z"
   },
   {
    "duration": 38003,
    "start_time": "2021-07-01T11:41:47.454Z"
   },
   {
    "duration": 37998,
    "start_time": "2021-07-01T11:41:47.460Z"
   },
   {
    "duration": 37992,
    "start_time": "2021-07-01T11:41:47.467Z"
   },
   {
    "duration": 37988,
    "start_time": "2021-07-01T11:41:47.472Z"
   },
   {
    "duration": 37861,
    "start_time": "2021-07-01T11:41:47.601Z"
   },
   {
    "duration": 37857,
    "start_time": "2021-07-01T11:41:47.606Z"
   },
   {
    "duration": 37912,
    "start_time": "2021-07-01T11:41:47.612Z"
   },
   {
    "duration": 37908,
    "start_time": "2021-07-01T11:41:47.617Z"
   },
   {
    "duration": 37902,
    "start_time": "2021-07-01T11:41:47.624Z"
   },
   {
    "duration": 37890,
    "start_time": "2021-07-01T11:41:47.638Z"
   },
   {
    "duration": 37885,
    "start_time": "2021-07-01T11:41:47.644Z"
   },
   {
    "duration": 37880,
    "start_time": "2021-07-01T11:41:47.650Z"
   },
   {
    "duration": 37875,
    "start_time": "2021-07-01T11:41:47.656Z"
   },
   {
    "duration": 37806,
    "start_time": "2021-07-01T11:41:47.727Z"
   },
   {
    "duration": 37800,
    "start_time": "2021-07-01T11:41:47.734Z"
   },
   {
    "duration": 37788,
    "start_time": "2021-07-01T11:41:47.747Z"
   },
   {
    "duration": 37783,
    "start_time": "2021-07-01T11:41:47.753Z"
   },
   {
    "duration": 37748,
    "start_time": "2021-07-01T11:41:47.789Z"
   },
   {
    "duration": 37743,
    "start_time": "2021-07-01T11:41:47.795Z"
   },
   {
    "duration": 37740,
    "start_time": "2021-07-01T11:41:47.800Z"
   },
   {
    "duration": 37706,
    "start_time": "2021-07-01T11:41:47.835Z"
   },
   {
    "duration": 37702,
    "start_time": "2021-07-01T11:41:47.840Z"
   },
   {
    "duration": 37689,
    "start_time": "2021-07-01T11:41:47.854Z"
   },
   {
    "duration": 37685,
    "start_time": "2021-07-01T11:41:47.860Z"
   },
   {
    "duration": 37680,
    "start_time": "2021-07-01T11:41:47.866Z"
   },
   {
    "duration": 37675,
    "start_time": "2021-07-01T11:41:47.872Z"
   },
   {
    "duration": 37670,
    "start_time": "2021-07-01T11:41:47.878Z"
   },
   {
    "duration": 37665,
    "start_time": "2021-07-01T11:41:47.884Z"
   },
   {
    "duration": 37661,
    "start_time": "2021-07-01T11:41:47.889Z"
   },
   {
    "duration": 37657,
    "start_time": "2021-07-01T11:41:47.895Z"
   },
   {
    "duration": 37590,
    "start_time": "2021-07-01T11:41:47.963Z"
   },
   {
    "duration": 37584,
    "start_time": "2021-07-01T11:41:47.970Z"
   },
   {
    "duration": 37523,
    "start_time": "2021-07-01T11:41:48.032Z"
   },
   {
    "duration": 37520,
    "start_time": "2021-07-01T11:41:48.037Z"
   },
   {
    "duration": 37514,
    "start_time": "2021-07-01T11:41:48.044Z"
   },
   {
    "duration": 37510,
    "start_time": "2021-07-01T11:41:48.049Z"
   },
   {
    "duration": 37569,
    "start_time": "2021-07-01T11:41:48.055Z"
   },
   {
    "duration": 37564,
    "start_time": "2021-07-01T11:41:48.061Z"
   },
   {
    "duration": 37534,
    "start_time": "2021-07-01T11:41:48.093Z"
   },
   {
    "duration": 37529,
    "start_time": "2021-07-01T11:41:48.099Z"
   },
   {
    "duration": 37507,
    "start_time": "2021-07-01T11:41:48.122Z"
   },
   {
    "duration": 37503,
    "start_time": "2021-07-01T11:41:48.128Z"
   },
   {
    "duration": 37498,
    "start_time": "2021-07-01T11:41:48.134Z"
   },
   {
    "duration": 37492,
    "start_time": "2021-07-01T11:41:48.141Z"
   },
   {
    "duration": 37487,
    "start_time": "2021-07-01T11:41:48.147Z"
   },
   {
    "duration": 37301,
    "start_time": "2021-07-01T11:41:48.335Z"
   },
   {
    "duration": 37262,
    "start_time": "2021-07-01T11:41:48.375Z"
   },
   {
    "duration": 37258,
    "start_time": "2021-07-01T11:41:48.380Z"
   },
   {
    "duration": 37254,
    "start_time": "2021-07-01T11:41:48.385Z"
   },
   {
    "duration": 37249,
    "start_time": "2021-07-01T11:41:48.391Z"
   },
   {
    "duration": 37239,
    "start_time": "2021-07-01T11:41:48.402Z"
   },
   {
    "duration": 37234,
    "start_time": "2021-07-01T11:41:48.408Z"
   },
   {
    "duration": 37229,
    "start_time": "2021-07-01T11:41:48.414Z"
   },
   {
    "duration": 37226,
    "start_time": "2021-07-01T11:41:48.420Z"
   },
   {
    "duration": 37221,
    "start_time": "2021-07-01T11:41:48.426Z"
   },
   {
    "duration": 37217,
    "start_time": "2021-07-01T11:41:48.431Z"
   },
   {
    "duration": 37213,
    "start_time": "2021-07-01T11:41:48.436Z"
   },
   {
    "duration": 37208,
    "start_time": "2021-07-01T11:41:48.442Z"
   },
   {
    "duration": 37204,
    "start_time": "2021-07-01T11:41:48.448Z"
   },
   {
    "duration": 37200,
    "start_time": "2021-07-01T11:41:48.453Z"
   },
   {
    "duration": 37195,
    "start_time": "2021-07-01T11:41:48.459Z"
   },
   {
    "duration": 37191,
    "start_time": "2021-07-01T11:41:48.464Z"
   },
   {
    "duration": 37186,
    "start_time": "2021-07-01T11:41:48.471Z"
   },
   {
    "duration": 37181,
    "start_time": "2021-07-01T11:41:48.477Z"
   },
   {
    "duration": 1576,
    "start_time": "2021-07-01T11:43:42.940Z"
   },
   {
    "duration": 257,
    "start_time": "2021-07-01T11:43:44.518Z"
   },
   {
    "duration": 328,
    "start_time": "2021-07-01T11:43:44.778Z"
   },
   {
    "duration": 153,
    "start_time": "2021-07-01T11:43:45.109Z"
   },
   {
    "duration": 33,
    "start_time": "2021-07-01T11:43:45.264Z"
   },
   {
    "duration": 57,
    "start_time": "2021-07-01T11:43:45.300Z"
   },
   {
    "duration": 9,
    "start_time": "2021-07-01T11:43:45.359Z"
   },
   {
    "duration": 136,
    "start_time": "2021-07-01T11:43:45.372Z"
   },
   {
    "duration": 18,
    "start_time": "2021-07-01T11:43:45.511Z"
   },
   {
    "duration": 26,
    "start_time": "2021-07-01T11:43:45.532Z"
   },
   {
    "duration": 4,
    "start_time": "2021-07-01T11:43:45.561Z"
   },
   {
    "duration": 63,
    "start_time": "2021-07-01T11:43:45.568Z"
   },
   {
    "duration": 19,
    "start_time": "2021-07-01T11:43:45.633Z"
   },
   {
    "duration": 38,
    "start_time": "2021-07-01T11:43:45.655Z"
   },
   {
    "duration": 29,
    "start_time": "2021-07-01T11:43:45.695Z"
   },
   {
    "duration": 22,
    "start_time": "2021-07-01T11:43:45.726Z"
   },
   {
    "duration": 20,
    "start_time": "2021-07-01T11:43:45.751Z"
   },
   {
    "duration": 56,
    "start_time": "2021-07-01T11:43:45.774Z"
   },
   {
    "duration": 18,
    "start_time": "2021-07-01T11:43:45.832Z"
   },
   {
    "duration": 18,
    "start_time": "2021-07-01T11:43:45.853Z"
   },
   {
    "duration": 249,
    "start_time": "2021-07-01T11:43:45.874Z"
   },
   {
    "duration": 161,
    "start_time": "2021-07-01T11:43:46.126Z"
   },
   {
    "duration": 121,
    "start_time": "2021-07-01T11:43:46.293Z"
   },
   {
    "duration": 43,
    "start_time": "2021-07-01T11:43:46.418Z"
   },
   {
    "duration": 61,
    "start_time": "2021-07-01T11:43:46.463Z"
   },
   {
    "duration": 3421,
    "start_time": "2021-07-01T11:43:46.527Z"
   },
   {
    "duration": 10,
    "start_time": "2021-07-01T11:43:49.950Z"
   },
   {
    "duration": 1198,
    "start_time": "2021-07-01T11:43:49.962Z"
   },
   {
    "duration": 7,
    "start_time": "2021-07-01T11:43:51.162Z"
   },
   {
    "duration": 29,
    "start_time": "2021-07-01T11:43:51.172Z"
   },
   {
    "duration": 12,
    "start_time": "2021-07-01T11:43:51.224Z"
   },
   {
    "duration": 23,
    "start_time": "2021-07-01T11:43:51.238Z"
   },
   {
    "duration": 13,
    "start_time": "2021-07-01T11:43:51.263Z"
   },
   {
    "duration": 50,
    "start_time": "2021-07-01T11:43:51.279Z"
   },
   {
    "duration": 13,
    "start_time": "2021-07-01T11:43:51.331Z"
   },
   {
    "duration": 8,
    "start_time": "2021-07-01T11:43:51.346Z"
   },
   {
    "duration": 12,
    "start_time": "2021-07-01T11:43:51.357Z"
   },
   {
    "duration": 556,
    "start_time": "2021-07-01T11:43:51.371Z"
   },
   {
    "duration": 540,
    "start_time": "2021-07-01T11:43:51.929Z"
   },
   {
    "duration": 555,
    "start_time": "2021-07-01T11:43:52.472Z"
   },
   {
    "duration": 20,
    "start_time": "2021-07-01T11:43:53.030Z"
   },
   {
    "duration": 5,
    "start_time": "2021-07-01T11:43:53.053Z"
   },
   {
    "duration": 31,
    "start_time": "2021-07-01T11:43:53.060Z"
   },
   {
    "duration": 514,
    "start_time": "2021-07-01T11:43:53.094Z"
   },
   {
    "duration": 26,
    "start_time": "2021-07-01T11:43:53.611Z"
   },
   {
    "duration": 13,
    "start_time": "2021-07-01T11:43:53.640Z"
   },
   {
    "duration": 16,
    "start_time": "2021-07-01T11:43:53.656Z"
   },
   {
    "duration": 49,
    "start_time": "2021-07-01T11:43:53.675Z"
   },
   {
    "duration": 6,
    "start_time": "2021-07-01T11:43:53.727Z"
   },
   {
    "duration": 10,
    "start_time": "2021-07-01T11:43:53.736Z"
   },
   {
    "duration": 17,
    "start_time": "2021-07-01T11:43:53.748Z"
   },
   {
    "duration": 20,
    "start_time": "2021-07-01T11:43:53.767Z"
   },
   {
    "duration": 38,
    "start_time": "2021-07-01T11:43:53.789Z"
   },
   {
    "duration": 8,
    "start_time": "2021-07-01T11:43:53.829Z"
   },
   {
    "duration": 7,
    "start_time": "2021-07-01T11:43:53.840Z"
   },
   {
    "duration": 11,
    "start_time": "2021-07-01T11:43:53.850Z"
   },
   {
    "duration": 12,
    "start_time": "2021-07-01T11:43:53.864Z"
   },
   {
    "duration": 46,
    "start_time": "2021-07-01T11:43:53.878Z"
   },
   {
    "duration": 33,
    "start_time": "2021-07-01T11:43:53.927Z"
   },
   {
    "duration": 18,
    "start_time": "2021-07-01T11:43:53.962Z"
   },
   {
    "duration": 15,
    "start_time": "2021-07-01T11:43:53.983Z"
   },
   {
    "duration": 31,
    "start_time": "2021-07-01T11:43:54.002Z"
   },
   {
    "duration": 450,
    "start_time": "2021-07-01T11:43:54.036Z"
   },
   {
    "duration": 9,
    "start_time": "2021-07-01T11:43:54.489Z"
   },
   {
    "duration": 39,
    "start_time": "2021-07-01T11:43:54.501Z"
   },
   {
    "duration": 17,
    "start_time": "2021-07-01T11:43:54.544Z"
   },
   {
    "duration": 25,
    "start_time": "2021-07-01T11:43:54.564Z"
   },
   {
    "duration": 7,
    "start_time": "2021-07-01T11:43:54.625Z"
   },
   {
    "duration": 7,
    "start_time": "2021-07-01T11:43:54.637Z"
   },
   {
    "duration": 6,
    "start_time": "2021-07-01T11:43:54.646Z"
   },
   {
    "duration": 19,
    "start_time": "2021-07-01T11:43:54.654Z"
   },
   {
    "duration": 51,
    "start_time": "2021-07-01T11:43:54.676Z"
   },
   {
    "duration": 5,
    "start_time": "2021-07-01T11:43:54.730Z"
   },
   {
    "duration": 8,
    "start_time": "2021-07-01T11:43:54.738Z"
   },
   {
    "duration": 19,
    "start_time": "2021-07-01T11:43:54.748Z"
   },
   {
    "duration": 23,
    "start_time": "2021-07-01T11:43:54.769Z"
   },
   {
    "duration": 35,
    "start_time": "2021-07-01T11:43:54.796Z"
   },
   {
    "duration": 150,
    "start_time": "2021-07-01T11:43:54.834Z"
   },
   {
    "duration": 645,
    "start_time": "2021-07-01T11:43:54.988Z"
   },
   {
    "duration": 688,
    "start_time": "2021-07-01T11:43:55.636Z"
   },
   {
    "duration": 668,
    "start_time": "2021-07-01T11:43:56.327Z"
   },
   {
    "duration": 680,
    "start_time": "2021-07-01T11:43:56.998Z"
   },
   {
    "duration": 412,
    "start_time": "2021-07-01T11:43:57.680Z"
   },
   {
    "duration": 417,
    "start_time": "2021-07-01T11:43:58.095Z"
   },
   {
    "duration": 10,
    "start_time": "2021-07-01T11:43:58.515Z"
   },
   {
    "duration": 9,
    "start_time": "2021-07-01T11:43:58.528Z"
   },
   {
    "duration": 10,
    "start_time": "2021-07-01T11:43:58.539Z"
   },
   {
    "duration": 6,
    "start_time": "2021-07-01T11:43:58.551Z"
   },
   {
    "duration": 14,
    "start_time": "2021-07-01T11:43:58.560Z"
   },
   {
    "duration": 12,
    "start_time": "2021-07-01T11:43:58.576Z"
   },
   {
    "duration": 6,
    "start_time": "2021-07-01T11:43:58.623Z"
   },
   {
    "duration": 7,
    "start_time": "2021-07-01T11:43:58.631Z"
   },
   {
    "duration": 17,
    "start_time": "2021-07-01T11:43:58.640Z"
   },
   {
    "duration": 25,
    "start_time": "2021-07-01T11:43:58.661Z"
   },
   {
    "duration": 6,
    "start_time": "2021-07-01T11:43:58.689Z"
   },
   {
    "duration": 6,
    "start_time": "2021-07-01T11:43:58.698Z"
   },
   {
    "duration": 5,
    "start_time": "2021-07-01T11:43:58.724Z"
   },
   {
    "duration": 3619,
    "start_time": "2021-07-01T11:43:58.731Z"
   },
   {
    "duration": 30,
    "start_time": "2021-07-01T11:44:02.353Z"
   },
   {
    "duration": 22,
    "start_time": "2021-07-01T11:44:02.385Z"
   },
   {
    "duration": 22,
    "start_time": "2021-07-01T11:44:02.410Z"
   },
   {
    "duration": 6,
    "start_time": "2021-07-01T11:44:02.434Z"
   },
   {
    "duration": 29,
    "start_time": "2021-07-01T11:44:02.443Z"
   },
   {
    "duration": 14,
    "start_time": "2021-07-01T11:44:02.474Z"
   },
   {
    "duration": 16,
    "start_time": "2021-07-01T11:44:02.490Z"
   },
   {
    "duration": 18,
    "start_time": "2021-07-01T11:44:02.508Z"
   },
   {
    "duration": 11,
    "start_time": "2021-07-01T11:44:02.529Z"
   },
   {
    "duration": 9,
    "start_time": "2021-07-01T11:44:02.543Z"
   },
   {
    "duration": 7,
    "start_time": "2021-07-01T11:44:02.554Z"
   },
   {
    "duration": 17,
    "start_time": "2021-07-01T11:44:45.633Z"
   },
   {
    "duration": 18,
    "start_time": "2021-07-01T11:44:50.196Z"
   },
   {
    "duration": 36,
    "start_time": "2021-07-01T11:44:55.791Z"
   },
   {
    "duration": 1460,
    "start_time": "2021-07-01T11:45:20.446Z"
   },
   {
    "duration": 260,
    "start_time": "2021-07-01T11:45:21.909Z"
   },
   {
    "duration": 225,
    "start_time": "2021-07-01T11:45:22.172Z"
   },
   {
    "duration": 158,
    "start_time": "2021-07-01T11:45:22.399Z"
   },
   {
    "duration": 32,
    "start_time": "2021-07-01T11:45:22.561Z"
   },
   {
    "duration": 33,
    "start_time": "2021-07-01T11:45:22.624Z"
   },
   {
    "duration": 9,
    "start_time": "2021-07-01T11:45:23.058Z"
   },
   {
    "duration": 101,
    "start_time": "2021-07-01T11:45:37.277Z"
   },
   {
    "duration": 10,
    "start_time": "2021-07-01T11:45:37.618Z"
   },
   {
    "duration": 26,
    "start_time": "2021-07-01T11:45:37.974Z"
   },
   {
    "duration": 5,
    "start_time": "2021-07-01T11:45:38.318Z"
   },
   {
    "duration": 26,
    "start_time": "2021-07-01T11:45:39.241Z"
   },
   {
    "duration": 19,
    "start_time": "2021-07-01T11:45:39.463Z"
   },
   {
    "duration": 26,
    "start_time": "2021-07-01T11:45:39.835Z"
   },
   {
    "duration": 6,
    "start_time": "2021-07-01T11:45:40.561Z"
   },
   {
    "duration": 21,
    "start_time": "2021-07-01T11:45:46.975Z"
   },
   {
    "duration": 1511,
    "start_time": "2021-07-01T11:46:04.398Z"
   },
   {
    "duration": 300,
    "start_time": "2021-07-01T11:46:05.912Z"
   },
   {
    "duration": 347,
    "start_time": "2021-07-01T11:46:06.217Z"
   },
   {
    "duration": 233,
    "start_time": "2021-07-01T11:46:06.567Z"
   },
   {
    "duration": 43,
    "start_time": "2021-07-01T11:46:06.803Z"
   },
   {
    "duration": 52,
    "start_time": "2021-07-01T11:46:06.849Z"
   },
   {
    "duration": 7,
    "start_time": "2021-07-01T11:46:06.904Z"
   },
   {
    "duration": 96,
    "start_time": "2021-07-01T11:46:09.055Z"
   },
   {
    "duration": 9,
    "start_time": "2021-07-01T11:46:09.796Z"
   },
   {
    "duration": 26,
    "start_time": "2021-07-01T11:46:10.164Z"
   },
   {
    "duration": 5,
    "start_time": "2021-07-01T11:46:10.493Z"
   },
   {
    "duration": 26,
    "start_time": "2021-07-01T11:46:14.045Z"
   },
   {
    "duration": 19,
    "start_time": "2021-07-01T11:46:14.484Z"
   },
   {
    "duration": 29,
    "start_time": "2021-07-01T11:46:15.421Z"
   },
   {
    "duration": 21,
    "start_time": "2021-07-01T11:46:19.734Z"
   },
   {
    "duration": 19,
    "start_time": "2021-07-01T11:46:39.143Z"
   },
   {
    "duration": 21,
    "start_time": "2021-07-01T11:46:39.574Z"
   },
   {
    "duration": 26,
    "start_time": "2021-07-01T11:46:40.784Z"
   },
   {
    "duration": 22,
    "start_time": "2021-07-01T11:46:56.170Z"
   },
   {
    "duration": 17,
    "start_time": "2021-07-01T11:46:56.347Z"
   },
   {
    "duration": 7,
    "start_time": "2021-07-01T11:46:57.186Z"
   },
   {
    "duration": 162,
    "start_time": "2021-07-01T11:46:57.729Z"
   },
   {
    "duration": 108,
    "start_time": "2021-07-01T11:46:58.088Z"
   },
   {
    "duration": 118,
    "start_time": "2021-07-01T11:46:58.813Z"
   },
   {
    "duration": 19,
    "start_time": "2021-07-01T11:47:04.537Z"
   },
   {
    "duration": 1445,
    "start_time": "2021-07-01T11:57:15.172Z"
   },
   {
    "duration": 246,
    "start_time": "2021-07-01T11:57:16.620Z"
   },
   {
    "duration": 204,
    "start_time": "2021-07-01T11:57:16.869Z"
   },
   {
    "duration": 145,
    "start_time": "2021-07-01T11:57:17.076Z"
   },
   {
    "duration": 34,
    "start_time": "2021-07-01T11:57:17.225Z"
   },
   {
    "duration": 52,
    "start_time": "2021-07-01T11:57:17.262Z"
   },
   {
    "duration": 8,
    "start_time": "2021-07-01T11:57:17.323Z"
   },
   {
    "duration": 117,
    "start_time": "2021-07-01T11:57:17.337Z"
   },
   {
    "duration": 11,
    "start_time": "2021-07-01T11:57:17.458Z"
   },
   {
    "duration": 27,
    "start_time": "2021-07-01T11:57:17.472Z"
   },
   {
    "duration": 26,
    "start_time": "2021-07-01T11:57:17.501Z"
   },
   {
    "duration": 28,
    "start_time": "2021-07-01T11:57:17.530Z"
   },
   {
    "duration": 19,
    "start_time": "2021-07-01T11:57:17.561Z"
   },
   {
    "duration": 56,
    "start_time": "2021-07-01T11:57:17.583Z"
   },
   {
    "duration": 21,
    "start_time": "2021-07-01T11:57:17.642Z"
   },
   {
    "duration": 5,
    "start_time": "2021-07-01T11:57:17.666Z"
   },
   {
    "duration": 22,
    "start_time": "2021-07-01T11:57:17.673Z"
   },
   {
    "duration": 48,
    "start_time": "2021-07-01T11:57:17.697Z"
   },
   {
    "duration": 26,
    "start_time": "2021-07-01T11:57:17.749Z"
   },
   {
    "duration": 59,
    "start_time": "2021-07-01T11:57:17.777Z"
   },
   {
    "duration": 17,
    "start_time": "2021-07-01T11:57:17.839Z"
   },
   {
    "duration": 22,
    "start_time": "2021-07-01T11:57:17.858Z"
   },
   {
    "duration": 181,
    "start_time": "2021-07-01T11:57:17.885Z"
   },
   {
    "duration": 119,
    "start_time": "2021-07-01T11:57:18.069Z"
   },
   {
    "duration": 122,
    "start_time": "2021-07-01T11:57:18.191Z"
   },
   {
    "duration": 42,
    "start_time": "2021-07-01T11:57:18.316Z"
   },
   {
    "duration": 36,
    "start_time": "2021-07-01T11:57:18.361Z"
   },
   {
    "duration": 3256,
    "start_time": "2021-07-01T11:57:18.400Z"
   },
   {
    "duration": 9,
    "start_time": "2021-07-01T11:57:21.659Z"
   },
   {
    "duration": 1058,
    "start_time": "2021-07-01T11:57:21.670Z"
   },
   {
    "duration": 7,
    "start_time": "2021-07-01T11:57:22.730Z"
   },
   {
    "duration": 32,
    "start_time": "2021-07-01T11:57:22.739Z"
   },
   {
    "duration": 24,
    "start_time": "2021-07-01T11:57:22.774Z"
   },
   {
    "duration": 33,
    "start_time": "2021-07-01T11:57:22.801Z"
   },
   {
    "duration": 16,
    "start_time": "2021-07-01T11:57:22.837Z"
   },
   {
    "duration": 20,
    "start_time": "2021-07-01T11:57:22.856Z"
   },
   {
    "duration": 15,
    "start_time": "2021-07-01T11:57:22.878Z"
   },
   {
    "duration": 33,
    "start_time": "2021-07-01T11:57:22.896Z"
   },
   {
    "duration": 15,
    "start_time": "2021-07-01T11:57:22.932Z"
   },
   {
    "duration": 542,
    "start_time": "2021-07-01T11:57:22.950Z"
   },
   {
    "duration": 526,
    "start_time": "2021-07-01T11:57:23.495Z"
   },
   {
    "duration": 503,
    "start_time": "2021-07-01T11:57:24.024Z"
   },
   {
    "duration": 16,
    "start_time": "2021-07-01T11:57:24.530Z"
   },
   {
    "duration": 3,
    "start_time": "2021-07-01T11:57:24.549Z"
   },
   {
    "duration": 12,
    "start_time": "2021-07-01T11:57:24.555Z"
   },
   {
    "duration": 473,
    "start_time": "2021-07-01T11:57:24.570Z"
   },
   {
    "duration": 20,
    "start_time": "2021-07-01T11:57:25.046Z"
   },
   {
    "duration": 13,
    "start_time": "2021-07-01T11:57:25.069Z"
   },
   {
    "duration": 42,
    "start_time": "2021-07-01T11:57:25.085Z"
   },
   {
    "duration": 12,
    "start_time": "2021-07-01T11:57:25.129Z"
   },
   {
    "duration": 7,
    "start_time": "2021-07-01T11:57:25.143Z"
   },
   {
    "duration": 8,
    "start_time": "2021-07-01T11:57:25.153Z"
   },
   {
    "duration": 10,
    "start_time": "2021-07-01T11:57:25.163Z"
   },
   {
    "duration": 19,
    "start_time": "2021-07-01T11:57:25.175Z"
   },
   {
    "duration": 43,
    "start_time": "2021-07-01T11:57:25.196Z"
   },
   {
    "duration": 5,
    "start_time": "2021-07-01T11:57:25.241Z"
   },
   {
    "duration": 9,
    "start_time": "2021-07-01T11:57:25.248Z"
   },
   {
    "duration": 17,
    "start_time": "2021-07-01T11:57:25.259Z"
   },
   {
    "duration": 12,
    "start_time": "2021-07-01T11:57:25.279Z"
   },
   {
    "duration": 40,
    "start_time": "2021-07-01T11:57:25.294Z"
   },
   {
    "duration": 24,
    "start_time": "2021-07-01T11:57:25.337Z"
   },
   {
    "duration": 18,
    "start_time": "2021-07-01T11:57:25.364Z"
   },
   {
    "duration": 4,
    "start_time": "2021-07-01T11:57:25.385Z"
   },
   {
    "duration": 47,
    "start_time": "2021-07-01T11:57:25.391Z"
   },
   {
    "duration": 453,
    "start_time": "2021-07-01T11:57:25.441Z"
   },
   {
    "duration": 9,
    "start_time": "2021-07-01T11:57:25.896Z"
   },
   {
    "duration": 25,
    "start_time": "2021-07-01T11:57:25.908Z"
   },
   {
    "duration": 13,
    "start_time": "2021-07-01T11:57:25.942Z"
   },
   {
    "duration": 12,
    "start_time": "2021-07-01T11:57:25.958Z"
   },
   {
    "duration": 20,
    "start_time": "2021-07-01T11:57:25.973Z"
   },
   {
    "duration": 28,
    "start_time": "2021-07-01T11:57:25.996Z"
   },
   {
    "duration": 10,
    "start_time": "2021-07-01T11:57:26.027Z"
   },
   {
    "duration": 20,
    "start_time": "2021-07-01T11:57:26.040Z"
   },
   {
    "duration": 21,
    "start_time": "2021-07-01T11:57:26.063Z"
   },
   {
    "duration": 5,
    "start_time": "2021-07-01T11:57:26.087Z"
   },
   {
    "duration": 35,
    "start_time": "2021-07-01T11:57:26.094Z"
   },
   {
    "duration": 12,
    "start_time": "2021-07-01T11:57:26.132Z"
   },
   {
    "duration": 12,
    "start_time": "2021-07-01T11:57:26.146Z"
   },
   {
    "duration": 110,
    "start_time": "2021-07-01T11:57:26.160Z"
   },
   {
    "duration": 28,
    "start_time": "2021-07-01T11:57:26.272Z"
   },
   {
    "duration": 395,
    "start_time": "2021-07-01T11:57:26.302Z"
   },
   {
    "duration": 427,
    "start_time": "2021-07-01T11:57:26.700Z"
   },
   {
    "duration": 410,
    "start_time": "2021-07-01T11:57:27.129Z"
   },
   {
    "duration": 514,
    "start_time": "2021-07-01T11:57:27.542Z"
   },
   {
    "duration": 415,
    "start_time": "2021-07-01T11:57:28.058Z"
   },
   {
    "duration": 439,
    "start_time": "2021-07-01T11:57:28.475Z"
   },
   {
    "duration": 8,
    "start_time": "2021-07-01T11:57:28.916Z"
   },
   {
    "duration": 21,
    "start_time": "2021-07-01T11:57:28.928Z"
   },
   {
    "duration": 15,
    "start_time": "2021-07-01T11:57:28.951Z"
   },
   {
    "duration": 15,
    "start_time": "2021-07-01T11:57:28.969Z"
   },
   {
    "duration": 15,
    "start_time": "2021-07-01T11:57:28.987Z"
   },
   {
    "duration": 20,
    "start_time": "2021-07-01T11:57:29.005Z"
   },
   {
    "duration": 18,
    "start_time": "2021-07-01T11:57:29.028Z"
   },
   {
    "duration": 23,
    "start_time": "2021-07-01T11:57:29.048Z"
   },
   {
    "duration": 26,
    "start_time": "2021-07-01T11:57:29.074Z"
   },
   {
    "duration": 19,
    "start_time": "2021-07-01T11:57:29.103Z"
   },
   {
    "duration": 15,
    "start_time": "2021-07-01T11:57:29.124Z"
   },
   {
    "duration": 17,
    "start_time": "2021-07-01T11:57:29.141Z"
   },
   {
    "duration": 11,
    "start_time": "2021-07-01T11:57:29.161Z"
   },
   {
    "duration": 3316,
    "start_time": "2021-07-01T11:57:29.174Z"
   },
   {
    "duration": 53,
    "start_time": "2021-07-01T11:57:32.493Z"
   },
   {
    "duration": 8,
    "start_time": "2021-07-01T11:57:32.549Z"
   },
   {
    "duration": 13,
    "start_time": "2021-07-01T11:57:32.560Z"
   },
   {
    "duration": 5,
    "start_time": "2021-07-01T11:57:32.576Z"
   },
   {
    "duration": 51,
    "start_time": "2021-07-01T11:57:32.584Z"
   },
   {
    "duration": 7,
    "start_time": "2021-07-01T11:57:32.638Z"
   },
   {
    "duration": 7,
    "start_time": "2021-07-01T11:57:32.647Z"
   },
   {
    "duration": 19,
    "start_time": "2021-07-01T11:57:32.656Z"
   },
   {
    "duration": 12,
    "start_time": "2021-07-01T11:57:32.678Z"
   },
   {
    "duration": 8,
    "start_time": "2021-07-01T11:57:32.692Z"
   },
   {
    "duration": 50,
    "start_time": "2021-07-01T11:57:32.702Z"
   },
   {
    "duration": 1580,
    "start_time": "2021-08-23T09:57:27.545Z"
   },
   {
    "duration": 231,
    "start_time": "2021-08-23T09:57:29.127Z"
   },
   {
    "duration": 199,
    "start_time": "2021-08-23T09:57:29.360Z"
   },
   {
    "duration": 131,
    "start_time": "2021-08-23T09:57:29.561Z"
   },
   {
    "duration": 32,
    "start_time": "2021-08-23T09:57:29.695Z"
   },
   {
    "duration": 52,
    "start_time": "2021-08-23T09:57:29.729Z"
   },
   {
    "duration": 10,
    "start_time": "2021-08-23T09:57:29.784Z"
   },
   {
    "duration": 115,
    "start_time": "2021-08-23T09:57:29.799Z"
   },
   {
    "duration": 9,
    "start_time": "2021-08-23T09:57:29.917Z"
   },
   {
    "duration": 29,
    "start_time": "2021-08-23T09:57:29.929Z"
   },
   {
    "duration": 4,
    "start_time": "2021-08-23T09:57:29.961Z"
   },
   {
    "duration": 28,
    "start_time": "2021-08-23T09:57:29.984Z"
   },
   {
    "duration": 20,
    "start_time": "2021-08-23T09:57:30.014Z"
   },
   {
    "duration": 56,
    "start_time": "2021-08-23T09:57:30.036Z"
   },
   {
    "duration": 24,
    "start_time": "2021-08-23T09:57:30.094Z"
   },
   {
    "duration": 12,
    "start_time": "2021-08-23T09:57:30.120Z"
   },
   {
    "duration": 49,
    "start_time": "2021-08-23T09:57:30.135Z"
   },
   {
    "duration": 32,
    "start_time": "2021-08-23T09:57:30.187Z"
   },
   {
    "duration": 48,
    "start_time": "2021-08-23T09:57:30.222Z"
   },
   {
    "duration": 30,
    "start_time": "2021-08-23T09:57:30.273Z"
   },
   {
    "duration": 17,
    "start_time": "2021-08-23T09:57:30.306Z"
   },
   {
    "duration": 55,
    "start_time": "2021-08-23T09:57:30.326Z"
   },
   {
    "duration": 182,
    "start_time": "2021-08-23T09:57:30.387Z"
   },
   {
    "duration": 112,
    "start_time": "2021-08-23T09:57:30.573Z"
   },
   {
    "duration": 119,
    "start_time": "2021-08-23T09:57:30.688Z"
   },
   {
    "duration": 36,
    "start_time": "2021-08-23T09:57:30.809Z"
   },
   {
    "duration": 51,
    "start_time": "2021-08-23T09:57:30.847Z"
   },
   {
    "duration": 3409,
    "start_time": "2021-08-23T09:57:30.901Z"
   },
   {
    "duration": 11,
    "start_time": "2021-08-23T09:57:34.313Z"
   },
   {
    "duration": 1400,
    "start_time": "2021-08-23T09:57:34.327Z"
   },
   {
    "duration": 8,
    "start_time": "2021-08-23T09:57:35.730Z"
   },
   {
    "duration": 128,
    "start_time": "2021-08-23T09:57:35.741Z"
   },
   {
    "duration": 45,
    "start_time": "2021-08-23T09:57:35.872Z"
   },
   {
    "duration": 48,
    "start_time": "2021-08-23T09:57:35.920Z"
   },
   {
    "duration": 15,
    "start_time": "2021-08-23T09:57:35.971Z"
   },
   {
    "duration": 30,
    "start_time": "2021-08-23T09:57:35.989Z"
   },
   {
    "duration": 14,
    "start_time": "2021-08-23T09:57:36.021Z"
   },
   {
    "duration": 18,
    "start_time": "2021-08-23T09:57:36.038Z"
   },
   {
    "duration": 32,
    "start_time": "2021-08-23T09:57:36.058Z"
   },
   {
    "duration": 510,
    "start_time": "2021-08-23T09:57:36.092Z"
   },
   {
    "duration": 546,
    "start_time": "2021-08-23T09:57:36.605Z"
   },
   {
    "duration": 517,
    "start_time": "2021-08-23T09:57:37.154Z"
   },
   {
    "duration": 28,
    "start_time": "2021-08-23T09:57:37.674Z"
   },
   {
    "duration": 24,
    "start_time": "2021-08-23T09:57:37.704Z"
   },
   {
    "duration": 14,
    "start_time": "2021-08-23T09:57:37.731Z"
   },
   {
    "duration": 454,
    "start_time": "2021-08-23T09:57:37.748Z"
   },
   {
    "duration": 22,
    "start_time": "2021-08-23T09:57:38.205Z"
   },
   {
    "duration": 26,
    "start_time": "2021-08-23T09:57:38.230Z"
   },
   {
    "duration": 34,
    "start_time": "2021-08-23T09:57:38.259Z"
   },
   {
    "duration": 23,
    "start_time": "2021-08-23T09:57:38.295Z"
   },
   {
    "duration": 17,
    "start_time": "2021-08-23T09:57:38.320Z"
   },
   {
    "duration": 13,
    "start_time": "2021-08-23T09:57:38.340Z"
   },
   {
    "duration": 20,
    "start_time": "2021-08-23T09:57:38.355Z"
   },
   {
    "duration": 37,
    "start_time": "2021-08-23T09:57:38.377Z"
   },
   {
    "duration": 20,
    "start_time": "2021-08-23T09:57:38.417Z"
   },
   {
    "duration": 5,
    "start_time": "2021-08-23T09:57:38.439Z"
   },
   {
    "duration": 11,
    "start_time": "2021-08-23T09:57:38.446Z"
   },
   {
    "duration": 12,
    "start_time": "2021-08-23T09:57:38.460Z"
   },
   {
    "duration": 14,
    "start_time": "2021-08-23T09:57:38.474Z"
   },
   {
    "duration": 18,
    "start_time": "2021-08-23T09:57:38.490Z"
   },
   {
    "duration": 26,
    "start_time": "2021-08-23T09:57:38.510Z"
   },
   {
    "duration": 17,
    "start_time": "2021-08-23T09:57:38.538Z"
   },
   {
    "duration": 4,
    "start_time": "2021-08-23T09:57:38.558Z"
   },
   {
    "duration": 11,
    "start_time": "2021-08-23T09:57:38.586Z"
   },
   {
    "duration": 513,
    "start_time": "2021-08-23T09:57:38.600Z"
   },
   {
    "duration": 11,
    "start_time": "2021-08-23T09:57:39.116Z"
   },
   {
    "duration": 55,
    "start_time": "2021-08-23T09:57:39.130Z"
   },
   {
    "duration": 21,
    "start_time": "2021-08-23T09:57:39.196Z"
   },
   {
    "duration": 12,
    "start_time": "2021-08-23T09:57:39.221Z"
   },
   {
    "duration": 13,
    "start_time": "2021-08-23T09:57:39.235Z"
   },
   {
    "duration": 15,
    "start_time": "2021-08-23T09:57:39.250Z"
   },
   {
    "duration": 20,
    "start_time": "2021-08-23T09:57:39.267Z"
   },
   {
    "duration": 33,
    "start_time": "2021-08-23T09:57:39.289Z"
   },
   {
    "duration": 17,
    "start_time": "2021-08-23T09:57:39.325Z"
   },
   {
    "duration": 19,
    "start_time": "2021-08-23T09:57:39.345Z"
   },
   {
    "duration": 13,
    "start_time": "2021-08-23T09:57:39.366Z"
   },
   {
    "duration": 22,
    "start_time": "2021-08-23T09:57:39.381Z"
   },
   {
    "duration": 23,
    "start_time": "2021-08-23T09:57:39.406Z"
   },
   {
    "duration": 82,
    "start_time": "2021-08-23T09:57:39.432Z"
   },
   {
    "duration": 34,
    "start_time": "2021-08-23T09:57:39.516Z"
   },
   {
    "duration": 417,
    "start_time": "2021-08-23T09:57:39.553Z"
   },
   {
    "duration": 438,
    "start_time": "2021-08-23T09:57:39.973Z"
   },
   {
    "duration": 420,
    "start_time": "2021-08-23T09:57:40.414Z"
   },
   {
    "duration": 441,
    "start_time": "2021-08-23T09:57:40.836Z"
   },
   {
    "duration": 420,
    "start_time": "2021-08-23T09:57:41.279Z"
   },
   {
    "duration": 434,
    "start_time": "2021-08-23T09:57:41.702Z"
   },
   {
    "duration": 3,
    "start_time": "2021-08-23T09:57:42.139Z"
   },
   {
    "duration": 132,
    "start_time": "2021-08-23T09:57:42.144Z"
   },
   {
    "duration": 9,
    "start_time": "2021-08-23T09:57:42.279Z"
   },
   {
    "duration": 9,
    "start_time": "2021-08-23T09:57:42.290Z"
   },
   {
    "duration": 8,
    "start_time": "2021-08-23T09:57:42.302Z"
   },
   {
    "duration": 10,
    "start_time": "2021-08-23T09:57:42.313Z"
   },
   {
    "duration": 15,
    "start_time": "2021-08-23T09:57:42.326Z"
   },
   {
    "duration": 7,
    "start_time": "2021-08-23T09:57:42.343Z"
   },
   {
    "duration": 37,
    "start_time": "2021-08-23T09:57:42.352Z"
   },
   {
    "duration": 11,
    "start_time": "2021-08-23T09:57:42.392Z"
   },
   {
    "duration": 10,
    "start_time": "2021-08-23T09:57:42.406Z"
   },
   {
    "duration": 9,
    "start_time": "2021-08-23T09:57:42.419Z"
   },
   {
    "duration": 9,
    "start_time": "2021-08-23T09:57:42.431Z"
   },
   {
    "duration": 3366,
    "start_time": "2021-08-23T09:57:42.443Z"
   },
   {
    "duration": 31,
    "start_time": "2021-08-23T09:57:45.813Z"
   },
   {
    "duration": 10,
    "start_time": "2021-08-23T09:57:45.847Z"
   },
   {
    "duration": 11,
    "start_time": "2021-08-23T09:57:45.886Z"
   },
   {
    "duration": 8,
    "start_time": "2021-08-23T09:57:45.899Z"
   },
   {
    "duration": 9,
    "start_time": "2021-08-23T09:57:45.909Z"
   },
   {
    "duration": 8,
    "start_time": "2021-08-23T09:57:45.921Z"
   },
   {
    "duration": 7,
    "start_time": "2021-08-23T09:57:45.931Z"
   },
   {
    "duration": 47,
    "start_time": "2021-08-23T09:57:45.940Z"
   },
   {
    "duration": 13,
    "start_time": "2021-08-23T09:57:45.989Z"
   },
   {
    "duration": 8,
    "start_time": "2021-08-23T09:57:46.005Z"
   },
   {
    "duration": 7,
    "start_time": "2021-08-23T09:57:46.015Z"
   }
  ],
  "kernelspec": {
   "display_name": "Python 3",
   "language": "python",
   "name": "python3"
  },
  "language_info": {
   "codemirror_mode": {
    "name": "ipython",
    "version": 3
   },
   "file_extension": ".py",
   "mimetype": "text/x-python",
   "name": "python",
   "nbconvert_exporter": "python",
   "pygments_lexer": "ipython3",
   "version": "3.7.8"
  },
  "toc": {
   "base_numbering": "1",
   "nav_menu": {
    "height": "123px",
    "width": "160px"
   },
   "number_sections": true,
   "sideBar": true,
   "skip_h1_title": true,
   "title_cell": "Содержание",
   "title_sidebar": "Contents",
   "toc_cell": true,
   "toc_position": {
    "height": "calc(100% - 180px)",
    "left": "10px",
    "top": "150px",
    "width": "292.391px"
   },
   "toc_section_display": true,
   "toc_window_display": true
  }
 },
 "nbformat": 4,
 "nbformat_minor": 2
}
