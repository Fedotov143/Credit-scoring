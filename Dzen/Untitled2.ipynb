{
 "cells": [
  {
   "cell_type": "code",
   "execution_count": 15,
   "metadata": {},
   "outputs": [],
   "source": [
    "# импортируем библиотеки\n",
    "import pandas as pd\n",
    "from sqlalchemy import create_engine\n",
    "\n",
    "db_config = {'user': 'praktikum_student', # имя пользователя\n",
    "            'pwd': 'Sdf4$2;d-d30pp', # пароль\n",
    "            'host': 'rc1b-wcoijxj3yxfsf3fs.mdb.yandexcloud.net',\n",
    "            'port': 6432, # порт подключения\n",
    "            'db': 'data-analyst-zen-project-db'} # название базы данных\n",
    "\n",
    "connection_string = 'postgresql://{}:{}@{}:{}/{}'.format(db_config['user'],\n",
    "                                                db_config['pwd'],\n",
    "                                                db_config['host'],\n",
    "                                                db_config['port'],\n",
    "                                                db_config['db'])\n",
    "\n",
    "engine = create_engine(connection_string) "
   ]
  },
  {
   "cell_type": "code",
   "execution_count": 16,
   "metadata": {},
   "outputs": [],
   "source": [
    "query = '''\n",
    "                SELECT * FROM dash_visits\n",
    "        '''"
   ]
  },
  {
   "cell_type": "code",
   "execution_count": 17,
   "metadata": {},
   "outputs": [],
   "source": [
    "dash_visits = pd.io.sql.read_sql(query, con = engine)\n",
    "dash_visits.to_csv('dash_visits.csv')"
   ]
  }
 ],
 "metadata": {
  "ExecuteTimeLog": [
   {
    "duration": 595,
    "start_time": "2021-10-05T12:43:13.192Z"
   },
   {
    "duration": 699,
    "start_time": "2021-10-05T12:46:20.296Z"
   },
   {
    "duration": 995,
    "start_time": "2021-10-05T12:46:31.797Z"
   },
   {
    "duration": 777,
    "start_time": "2021-10-05T12:46:33.300Z"
   },
   {
    "duration": 1708,
    "start_time": "2021-10-05T12:47:22.308Z"
   },
   {
    "duration": 794,
    "start_time": "2021-10-05T12:48:33.955Z"
   },
   {
    "duration": 4,
    "start_time": "2021-10-05T12:54:52.565Z"
   },
   {
    "duration": 2,
    "start_time": "2021-10-05T12:54:53.397Z"
   },
   {
    "duration": 832,
    "start_time": "2021-10-05T12:54:54.101Z"
   },
   {
    "duration": 3081,
    "start_time": "2021-10-05T12:55:19.658Z"
   },
   {
    "duration": 2263,
    "start_time": "2021-10-05T12:56:03.626Z"
   },
   {
    "duration": 587,
    "start_time": "2021-10-05T12:56:46.498Z"
   },
   {
    "duration": 2,
    "start_time": "2021-10-05T12:56:47.087Z"
   },
   {
    "duration": 816,
    "start_time": "2021-10-05T12:56:47.091Z"
   },
   {
    "duration": 696,
    "start_time": "2021-10-05T13:05:36.325Z"
   },
   {
    "duration": 2224,
    "start_time": "2021-10-05T13:12:48.362Z"
   },
   {
    "duration": 2069,
    "start_time": "2021-10-05T13:13:26.426Z"
   },
   {
    "duration": 70,
    "start_time": "2021-10-05T13:15:39.544Z"
   },
   {
    "duration": 3,
    "start_time": "2021-10-05T13:15:51.684Z"
   },
   {
    "duration": 2,
    "start_time": "2021-10-05T13:15:53.060Z"
   },
   {
    "duration": 2,
    "start_time": "2021-10-05T13:15:53.424Z"
   },
   {
    "duration": 2009,
    "start_time": "2021-10-05T13:15:53.952Z"
   },
   {
    "duration": 613,
    "start_time": "2021-10-05T13:18:49.371Z"
   },
   {
    "duration": 2091,
    "start_time": "2021-10-05T13:19:52.856Z"
   },
   {
    "duration": 116,
    "start_time": "2021-10-05T13:20:28.502Z"
   },
   {
    "duration": 4,
    "start_time": "2021-10-05T13:20:51.541Z"
   },
   {
    "duration": 2,
    "start_time": "2021-10-05T13:20:52.921Z"
   },
   {
    "duration": 869,
    "start_time": "2021-10-05T13:20:53.985Z"
   },
   {
    "duration": 111,
    "start_time": "2021-10-05T13:20:57.300Z"
   },
   {
    "duration": 2904,
    "start_time": "2021-10-05T13:21:02.918Z"
   }
  ],
  "kernelspec": {
   "display_name": "Python 3",
   "language": "python",
   "name": "python3"
  },
  "language_info": {
   "codemirror_mode": {
    "name": "ipython",
    "version": 3
   },
   "file_extension": ".py",
   "mimetype": "text/x-python",
   "name": "python",
   "nbconvert_exporter": "python",
   "pygments_lexer": "ipython3",
   "version": "3.7.8"
  },
  "toc": {
   "base_numbering": 1,
   "nav_menu": {},
   "number_sections": true,
   "sideBar": true,
   "skip_h1_title": true,
   "title_cell": "Table of Contents",
   "title_sidebar": "Contents",
   "toc_cell": false,
   "toc_position": {},
   "toc_section_display": true,
   "toc_window_display": false
  }
 },
 "nbformat": 4,
 "nbformat_minor": 2
}
