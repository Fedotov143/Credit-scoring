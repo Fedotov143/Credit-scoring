{
 "cells": [
  {
   "cell_type": "markdown",
   "metadata": {
    "toc": true
   },
   "source": [
    "<h1>Содержание<span class=\"tocSkip\"></span></h1>\n",
    "<div class=\"toc\"><ul class=\"toc-item\"><li><span><a href=\"#Изучение-данных\" data-toc-modified-id=\"Изучение-данных-1\"><span class=\"toc-item-num\">1&nbsp;&nbsp;</span>Изучение данных</a></span></li><li><span><a href=\"#Исследуемые-параметры-и-графики\" data-toc-modified-id=\"Исследуемые-параметры-и-графики-2\"><span class=\"toc-item-num\">2&nbsp;&nbsp;</span>Исследуемые параметры и графики</a></span><ul class=\"toc-item\"><li><span><a href=\"#Топ-10-городов-по-количеству-рейсов\" data-toc-modified-id=\"Топ-10-городов-по-количеству-рейсов-2.1\"><span class=\"toc-item-num\">2.1&nbsp;&nbsp;</span>Топ 10 городов по количеству рейсов</a></span></li><li><span><a href=\"#Графики\" data-toc-modified-id=\"Графики-2.2\"><span class=\"toc-item-num\">2.2&nbsp;&nbsp;</span>Графики</a></span><ul class=\"toc-item\"><li><span><a href=\"#Зависимость-количества-полетов-от-медели-самолета\" data-toc-modified-id=\"Зависимость-количества-полетов-от-медели-самолета-2.2.1\"><span class=\"toc-item-num\">2.2.1&nbsp;&nbsp;</span>Зависимость количества полетов от медели самолета</a></span></li><li><span><a href=\"#Зависимость-количества-полетов-от-городов\" data-toc-modified-id=\"Зависимость-количества-полетов-от-городов-2.2.2\"><span class=\"toc-item-num\">2.2.2&nbsp;&nbsp;</span>Зависимость количества полетов от городов</a></span></li><li><span><a href=\"#Зависимость-количества-полетов-от-городов-топ-10\" data-toc-modified-id=\"Зависимость-количества-полетов-от-городов-топ-10-2.2.3\"><span class=\"toc-item-num\">2.2.3&nbsp;&nbsp;</span>Зависимость количества полетов от городов топ 10</a></span></li></ul></li></ul></li><li><span><a href=\"#Вывод\" data-toc-modified-id=\"Вывод-3\"><span class=\"toc-item-num\">3&nbsp;&nbsp;</span>Вывод</a></span></li></ul></div>"
   ]
  },
  {
   "cell_type": "markdown",
   "metadata": {},
   "source": [
    "# Аналитика в авиакомпании"
   ]
  },
  {
   "cell_type": "markdown",
   "metadata": {},
   "source": [
    "Получены файлы, в которых содержатся результаты запросов из предыдущих этапов проекта.\n",
    "\n",
    "/datasets/query_1.csv — результат первого запроса. В нём содержится информация о:\n",
    "\n",
    "- model — модели самолета\n",
    "- flights_amount — количество рейсов для каждой модели самолетов model в сентябре 2018 года\n",
    "\n",
    "/datasets/query_3.csv — результат третьего запроса. В нём содержится информация о:\n",
    "\n",
    "- city — городах\n",
    "- average_flights — среднем количестве рейсов, прибывающих в город за день в сентябре 2018 года\n",
    "\n",
    "\n",
    "Для этих двух наборов данных нужно:\n",
    "\n",
    "- импортировать файлы;\n",
    "- изучить данные в них;\n",
    "- проверить типы данных на корректность;\n",
    "- выбрать топ-10 городов по количеству рейсов;\n",
    "- построить графики: модели самолетов и количество рейсов, города и количество рейсов, топ-10 городов и количество рейсов;\n",
    "- проверить гипотезу о влиянии фестевалей на средний спрос на авиабилеты."
   ]
  },
  {
   "cell_type": "markdown",
   "metadata": {},
   "source": [
    "## Изучение данных"
   ]
  },
  {
   "cell_type": "code",
   "execution_count": 1,
   "metadata": {},
   "outputs": [],
   "source": [
    "import pandas as pd\n",
    "import matplotlib\n",
    "import matplotlib.pyplot as plt \n",
    "import seaborn as sns"
   ]
  },
  {
   "cell_type": "code",
   "execution_count": 2,
   "metadata": {},
   "outputs": [
    {
     "name": "stdout",
     "output_type": "stream",
     "text": [
      "<class 'pandas.core.frame.DataFrame'>\n",
      "RangeIndex: 8 entries, 0 to 7\n",
      "Data columns (total 2 columns):\n",
      "model             8 non-null object\n",
      "flights_amount    8 non-null int64\n",
      "dtypes: int64(1), object(1)\n",
      "memory usage: 256.0+ bytes\n"
     ]
    }
   ],
   "source": [
    "query_1 = pd.read_csv('/datasets/query_1.csv')\n",
    "query_1.info()"
   ]
  },
  {
   "cell_type": "code",
   "execution_count": 3,
   "metadata": {},
   "outputs": [
    {
     "data": {
      "text/html": [
       "<div>\n",
       "<style scoped>\n",
       "    .dataframe tbody tr th:only-of-type {\n",
       "        vertical-align: middle;\n",
       "    }\n",
       "\n",
       "    .dataframe tbody tr th {\n",
       "        vertical-align: top;\n",
       "    }\n",
       "\n",
       "    .dataframe thead th {\n",
       "        text-align: right;\n",
       "    }\n",
       "</style>\n",
       "<table border=\"1\" class=\"dataframe\">\n",
       "  <thead>\n",
       "    <tr style=\"text-align: right;\">\n",
       "      <th></th>\n",
       "      <th>model</th>\n",
       "      <th>flights_amount</th>\n",
       "    </tr>\n",
       "  </thead>\n",
       "  <tbody>\n",
       "    <tr>\n",
       "      <td>0</td>\n",
       "      <td>Airbus A319-100</td>\n",
       "      <td>607</td>\n",
       "    </tr>\n",
       "    <tr>\n",
       "      <td>1</td>\n",
       "      <td>Airbus A321-200</td>\n",
       "      <td>960</td>\n",
       "    </tr>\n",
       "    <tr>\n",
       "      <td>2</td>\n",
       "      <td>Boeing 737-300</td>\n",
       "      <td>630</td>\n",
       "    </tr>\n",
       "    <tr>\n",
       "      <td>3</td>\n",
       "      <td>Boeing 767-300</td>\n",
       "      <td>600</td>\n",
       "    </tr>\n",
       "    <tr>\n",
       "      <td>4</td>\n",
       "      <td>Boeing 777-300</td>\n",
       "      <td>300</td>\n",
       "    </tr>\n",
       "    <tr>\n",
       "      <td>5</td>\n",
       "      <td>Bombardier CRJ-200</td>\n",
       "      <td>4446</td>\n",
       "    </tr>\n",
       "    <tr>\n",
       "      <td>6</td>\n",
       "      <td>Cessna 208 Caravan</td>\n",
       "      <td>4557</td>\n",
       "    </tr>\n",
       "    <tr>\n",
       "      <td>7</td>\n",
       "      <td>Sukhoi SuperJet-100</td>\n",
       "      <td>4185</td>\n",
       "    </tr>\n",
       "  </tbody>\n",
       "</table>\n",
       "</div>"
      ],
      "text/plain": [
       "                 model  flights_amount\n",
       "0      Airbus A319-100             607\n",
       "1      Airbus A321-200             960\n",
       "2       Boeing 737-300             630\n",
       "3       Boeing 767-300             600\n",
       "4       Boeing 777-300             300\n",
       "5   Bombardier CRJ-200            4446\n",
       "6   Cessna 208 Caravan            4557\n",
       "7  Sukhoi SuperJet-100            4185"
      ]
     },
     "metadata": {},
     "output_type": "display_data"
    }
   ],
   "source": [
    "display(query_1)"
   ]
  },
  {
   "cell_type": "code",
   "execution_count": 4,
   "metadata": {},
   "outputs": [
    {
     "name": "stdout",
     "output_type": "stream",
     "text": [
      "<class 'pandas.core.frame.DataFrame'>\n",
      "RangeIndex: 101 entries, 0 to 100\n",
      "Data columns (total 2 columns):\n",
      "city               101 non-null object\n",
      "average_flights    101 non-null float64\n",
      "dtypes: float64(1), object(1)\n",
      "memory usage: 1.7+ KB\n"
     ]
    }
   ],
   "source": [
    "query_3 = pd.read_csv('/datasets/query_3.csv')\n",
    "query_3.info()"
   ]
  },
  {
   "cell_type": "code",
   "execution_count": 5,
   "metadata": {},
   "outputs": [
    {
     "data": {
      "text/html": [
       "<div>\n",
       "<style scoped>\n",
       "    .dataframe tbody tr th:only-of-type {\n",
       "        vertical-align: middle;\n",
       "    }\n",
       "\n",
       "    .dataframe tbody tr th {\n",
       "        vertical-align: top;\n",
       "    }\n",
       "\n",
       "    .dataframe thead th {\n",
       "        text-align: right;\n",
       "    }\n",
       "</style>\n",
       "<table border=\"1\" class=\"dataframe\">\n",
       "  <thead>\n",
       "    <tr style=\"text-align: right;\">\n",
       "      <th></th>\n",
       "      <th>city</th>\n",
       "      <th>average_flights</th>\n",
       "    </tr>\n",
       "  </thead>\n",
       "  <tbody>\n",
       "    <tr>\n",
       "      <td>0</td>\n",
       "      <td>Абакан</td>\n",
       "      <td>3.870968</td>\n",
       "    </tr>\n",
       "    <tr>\n",
       "      <td>1</td>\n",
       "      <td>Анадырь</td>\n",
       "      <td>1.000000</td>\n",
       "    </tr>\n",
       "    <tr>\n",
       "      <td>2</td>\n",
       "      <td>Анапа</td>\n",
       "      <td>2.161290</td>\n",
       "    </tr>\n",
       "    <tr>\n",
       "      <td>3</td>\n",
       "      <td>Архангельск</td>\n",
       "      <td>5.354839</td>\n",
       "    </tr>\n",
       "    <tr>\n",
       "      <td>4</td>\n",
       "      <td>Астрахань</td>\n",
       "      <td>2.451613</td>\n",
       "    </tr>\n",
       "    <tr>\n",
       "      <td>...</td>\n",
       "      <td>...</td>\n",
       "      <td>...</td>\n",
       "    </tr>\n",
       "    <tr>\n",
       "      <td>96</td>\n",
       "      <td>Чита</td>\n",
       "      <td>1.580645</td>\n",
       "    </tr>\n",
       "    <tr>\n",
       "      <td>97</td>\n",
       "      <td>Элиста</td>\n",
       "      <td>4.870968</td>\n",
       "    </tr>\n",
       "    <tr>\n",
       "      <td>98</td>\n",
       "      <td>Южно-Сахалинск</td>\n",
       "      <td>4.290323</td>\n",
       "    </tr>\n",
       "    <tr>\n",
       "      <td>99</td>\n",
       "      <td>Якутск</td>\n",
       "      <td>2.741935</td>\n",
       "    </tr>\n",
       "    <tr>\n",
       "      <td>100</td>\n",
       "      <td>Ярославль</td>\n",
       "      <td>1.322581</td>\n",
       "    </tr>\n",
       "  </tbody>\n",
       "</table>\n",
       "<p>101 rows × 2 columns</p>\n",
       "</div>"
      ],
      "text/plain": [
       "               city  average_flights\n",
       "0            Абакан         3.870968\n",
       "1           Анадырь         1.000000\n",
       "2             Анапа         2.161290\n",
       "3       Архангельск         5.354839\n",
       "4         Астрахань         2.451613\n",
       "..              ...              ...\n",
       "96             Чита         1.580645\n",
       "97           Элиста         4.870968\n",
       "98   Южно-Сахалинск         4.290323\n",
       "99           Якутск         2.741935\n",
       "100       Ярославль         1.322581\n",
       "\n",
       "[101 rows x 2 columns]"
      ]
     },
     "metadata": {},
     "output_type": "display_data"
    }
   ],
   "source": [
    "display(query_3)"
   ]
  },
  {
   "cell_type": "code",
   "execution_count": 6,
   "metadata": {},
   "outputs": [
    {
     "data": {
      "text/html": [
       "<div>\n",
       "<style scoped>\n",
       "    .dataframe tbody tr th:only-of-type {\n",
       "        vertical-align: middle;\n",
       "    }\n",
       "\n",
       "    .dataframe tbody tr th {\n",
       "        vertical-align: top;\n",
       "    }\n",
       "\n",
       "    .dataframe thead th {\n",
       "        text-align: right;\n",
       "    }\n",
       "</style>\n",
       "<table border=\"1\" class=\"dataframe\">\n",
       "  <thead>\n",
       "    <tr style=\"text-align: right;\">\n",
       "      <th></th>\n",
       "      <th>average_flights</th>\n",
       "    </tr>\n",
       "  </thead>\n",
       "  <tbody>\n",
       "    <tr>\n",
       "      <td>count</td>\n",
       "      <td>101.000000</td>\n",
       "    </tr>\n",
       "    <tr>\n",
       "      <td>mean</td>\n",
       "      <td>5.494189</td>\n",
       "    </tr>\n",
       "    <tr>\n",
       "      <td>std</td>\n",
       "      <td>13.119790</td>\n",
       "    </tr>\n",
       "    <tr>\n",
       "      <td>min</td>\n",
       "      <td>1.000000</td>\n",
       "    </tr>\n",
       "    <tr>\n",
       "      <td>25%</td>\n",
       "      <td>2.000000</td>\n",
       "    </tr>\n",
       "    <tr>\n",
       "      <td>50%</td>\n",
       "      <td>3.000000</td>\n",
       "    </tr>\n",
       "    <tr>\n",
       "      <td>75%</td>\n",
       "      <td>5.870968</td>\n",
       "    </tr>\n",
       "    <tr>\n",
       "      <td>max</td>\n",
       "      <td>129.774194</td>\n",
       "    </tr>\n",
       "  </tbody>\n",
       "</table>\n",
       "</div>"
      ],
      "text/plain": [
       "       average_flights\n",
       "count       101.000000\n",
       "mean          5.494189\n",
       "std          13.119790\n",
       "min           1.000000\n",
       "25%           2.000000\n",
       "50%           3.000000\n",
       "75%           5.870968\n",
       "max         129.774194"
      ]
     },
     "execution_count": 6,
     "metadata": {},
     "output_type": "execute_result"
    }
   ],
   "source": [
    "query_3.describe()"
   ]
  },
  {
   "cell_type": "code",
   "execution_count": 7,
   "metadata": {},
   "outputs": [
    {
     "data": {
      "text/plain": [
       "0"
      ]
     },
     "execution_count": 7,
     "metadata": {},
     "output_type": "execute_result"
    }
   ],
   "source": [
    "query_3.duplicated().sum()"
   ]
  },
  {
   "cell_type": "code",
   "execution_count": 8,
   "metadata": {},
   "outputs": [
    {
     "data": {
      "text/html": [
       "<div>\n",
       "<style scoped>\n",
       "    .dataframe tbody tr th:only-of-type {\n",
       "        vertical-align: middle;\n",
       "    }\n",
       "\n",
       "    .dataframe tbody tr th {\n",
       "        vertical-align: top;\n",
       "    }\n",
       "\n",
       "    .dataframe thead th {\n",
       "        text-align: right;\n",
       "    }\n",
       "</style>\n",
       "<table border=\"1\" class=\"dataframe\">\n",
       "  <thead>\n",
       "    <tr style=\"text-align: right;\">\n",
       "      <th></th>\n",
       "      <th>flights_amount</th>\n",
       "    </tr>\n",
       "  </thead>\n",
       "  <tbody>\n",
       "    <tr>\n",
       "      <td>count</td>\n",
       "      <td>8.000000</td>\n",
       "    </tr>\n",
       "    <tr>\n",
       "      <td>mean</td>\n",
       "      <td>2035.625000</td>\n",
       "    </tr>\n",
       "    <tr>\n",
       "      <td>std</td>\n",
       "      <td>1965.203947</td>\n",
       "    </tr>\n",
       "    <tr>\n",
       "      <td>min</td>\n",
       "      <td>300.000000</td>\n",
       "    </tr>\n",
       "    <tr>\n",
       "      <td>25%</td>\n",
       "      <td>605.250000</td>\n",
       "    </tr>\n",
       "    <tr>\n",
       "      <td>50%</td>\n",
       "      <td>795.000000</td>\n",
       "    </tr>\n",
       "    <tr>\n",
       "      <td>75%</td>\n",
       "      <td>4250.250000</td>\n",
       "    </tr>\n",
       "    <tr>\n",
       "      <td>max</td>\n",
       "      <td>4557.000000</td>\n",
       "    </tr>\n",
       "  </tbody>\n",
       "</table>\n",
       "</div>"
      ],
      "text/plain": [
       "       flights_amount\n",
       "count        8.000000\n",
       "mean      2035.625000\n",
       "std       1965.203947\n",
       "min        300.000000\n",
       "25%        605.250000\n",
       "50%        795.000000\n",
       "75%       4250.250000\n",
       "max       4557.000000"
      ]
     },
     "execution_count": 8,
     "metadata": {},
     "output_type": "execute_result"
    }
   ],
   "source": [
    "query_1.describe()"
   ]
  },
  {
   "cell_type": "code",
   "execution_count": 9,
   "metadata": {},
   "outputs": [
    {
     "data": {
      "text/plain": [
       "0"
      ]
     },
     "execution_count": 9,
     "metadata": {},
     "output_type": "execute_result"
    }
   ],
   "source": [
    "query_1.duplicated().sum()"
   ]
  },
  {
   "cell_type": "code",
   "execution_count": 10,
   "metadata": {},
   "outputs": [
    {
     "data": {
      "text/html": [
       "<div>\n",
       "<style scoped>\n",
       "    .dataframe tbody tr th:only-of-type {\n",
       "        vertical-align: middle;\n",
       "    }\n",
       "\n",
       "    .dataframe tbody tr th {\n",
       "        vertical-align: top;\n",
       "    }\n",
       "\n",
       "    .dataframe thead th {\n",
       "        text-align: right;\n",
       "    }\n",
       "</style>\n",
       "<table border=\"1\" class=\"dataframe\">\n",
       "  <thead>\n",
       "    <tr style=\"text-align: right;\">\n",
       "      <th></th>\n",
       "      <th>city</th>\n",
       "      <th>average_flights</th>\n",
       "    </tr>\n",
       "  </thead>\n",
       "  <tbody>\n",
       "    <tr>\n",
       "      <td>0</td>\n",
       "      <td>Абакан</td>\n",
       "      <td>3.870968</td>\n",
       "    </tr>\n",
       "    <tr>\n",
       "      <td>1</td>\n",
       "      <td>Анадырь</td>\n",
       "      <td>1.000000</td>\n",
       "    </tr>\n",
       "    <tr>\n",
       "      <td>2</td>\n",
       "      <td>Анапа</td>\n",
       "      <td>2.161290</td>\n",
       "    </tr>\n",
       "    <tr>\n",
       "      <td>3</td>\n",
       "      <td>Архангельск</td>\n",
       "      <td>5.354839</td>\n",
       "    </tr>\n",
       "    <tr>\n",
       "      <td>4</td>\n",
       "      <td>Астрахань</td>\n",
       "      <td>2.451613</td>\n",
       "    </tr>\n",
       "    <tr>\n",
       "      <td>...</td>\n",
       "      <td>...</td>\n",
       "      <td>...</td>\n",
       "    </tr>\n",
       "    <tr>\n",
       "      <td>96</td>\n",
       "      <td>Чита</td>\n",
       "      <td>1.580645</td>\n",
       "    </tr>\n",
       "    <tr>\n",
       "      <td>97</td>\n",
       "      <td>Элиста</td>\n",
       "      <td>4.870968</td>\n",
       "    </tr>\n",
       "    <tr>\n",
       "      <td>98</td>\n",
       "      <td>Южно-Сахалинск</td>\n",
       "      <td>4.290323</td>\n",
       "    </tr>\n",
       "    <tr>\n",
       "      <td>99</td>\n",
       "      <td>Якутск</td>\n",
       "      <td>2.741935</td>\n",
       "    </tr>\n",
       "    <tr>\n",
       "      <td>100</td>\n",
       "      <td>Ярославль</td>\n",
       "      <td>1.322581</td>\n",
       "    </tr>\n",
       "  </tbody>\n",
       "</table>\n",
       "<p>101 rows × 2 columns</p>\n",
       "</div>"
      ],
      "text/plain": [
       "               city  average_flights\n",
       "0            Абакан         3.870968\n",
       "1           Анадырь         1.000000\n",
       "2             Анапа         2.161290\n",
       "3       Архангельск         5.354839\n",
       "4         Астрахань         2.451613\n",
       "..              ...              ...\n",
       "96             Чита         1.580645\n",
       "97           Элиста         4.870968\n",
       "98   Южно-Сахалинск         4.290323\n",
       "99           Якутск         2.741935\n",
       "100       Ярославль         1.322581\n",
       "\n",
       "[101 rows x 2 columns]"
      ]
     },
     "metadata": {},
     "output_type": "display_data"
    }
   ],
   "source": [
    "display(query_3)"
   ]
  },
  {
   "cell_type": "markdown",
   "metadata": {},
   "source": [
    "## Исследуемые параметры и графики"
   ]
  },
  {
   "cell_type": "markdown",
   "metadata": {},
   "source": [
    "### Топ 10 городов по количеству рейсов"
   ]
  },
  {
   "cell_type": "code",
   "execution_count": 11,
   "metadata": {},
   "outputs": [],
   "source": [
    "top10_cities=query_3.sort_values(by='average_flights', ascending=False).head(10)"
   ]
  },
  {
   "cell_type": "code",
   "execution_count": 12,
   "metadata": {},
   "outputs": [
    {
     "data": {
      "text/html": [
       "<div>\n",
       "<style scoped>\n",
       "    .dataframe tbody tr th:only-of-type {\n",
       "        vertical-align: middle;\n",
       "    }\n",
       "\n",
       "    .dataframe tbody tr th {\n",
       "        vertical-align: top;\n",
       "    }\n",
       "\n",
       "    .dataframe thead th {\n",
       "        text-align: right;\n",
       "    }\n",
       "</style>\n",
       "<table border=\"1\" class=\"dataframe\">\n",
       "  <thead>\n",
       "    <tr style=\"text-align: right;\">\n",
       "      <th></th>\n",
       "      <th>city</th>\n",
       "      <th>average_flights</th>\n",
       "    </tr>\n",
       "  </thead>\n",
       "  <tbody>\n",
       "    <tr>\n",
       "      <td>43</td>\n",
       "      <td>Москва</td>\n",
       "      <td>129.774194</td>\n",
       "    </tr>\n",
       "    <tr>\n",
       "      <td>70</td>\n",
       "      <td>Санкт-Петербург</td>\n",
       "      <td>31.161290</td>\n",
       "    </tr>\n",
       "    <tr>\n",
       "      <td>54</td>\n",
       "      <td>Новосибирск</td>\n",
       "      <td>17.322581</td>\n",
       "    </tr>\n",
       "    <tr>\n",
       "      <td>33</td>\n",
       "      <td>Красноярск</td>\n",
       "      <td>11.580645</td>\n",
       "    </tr>\n",
       "    <tr>\n",
       "      <td>20</td>\n",
       "      <td>Екатеринбург</td>\n",
       "      <td>11.322581</td>\n",
       "    </tr>\n",
       "    <tr>\n",
       "      <td>67</td>\n",
       "      <td>Ростов-на-Дону</td>\n",
       "      <td>10.193548</td>\n",
       "    </tr>\n",
       "    <tr>\n",
       "      <td>63</td>\n",
       "      <td>Пермь</td>\n",
       "      <td>10.129032</td>\n",
       "    </tr>\n",
       "    <tr>\n",
       "      <td>10</td>\n",
       "      <td>Брянск</td>\n",
       "      <td>10.000000</td>\n",
       "    </tr>\n",
       "    <tr>\n",
       "      <td>74</td>\n",
       "      <td>Сочи</td>\n",
       "      <td>9.612903</td>\n",
       "    </tr>\n",
       "    <tr>\n",
       "      <td>84</td>\n",
       "      <td>Ульяновск</td>\n",
       "      <td>9.580645</td>\n",
       "    </tr>\n",
       "  </tbody>\n",
       "</table>\n",
       "</div>"
      ],
      "text/plain": [
       "               city  average_flights\n",
       "43           Москва       129.774194\n",
       "70  Санкт-Петербург        31.161290\n",
       "54      Новосибирск        17.322581\n",
       "33       Красноярск        11.580645\n",
       "20     Екатеринбург        11.322581\n",
       "67   Ростов-на-Дону        10.193548\n",
       "63            Пермь        10.129032\n",
       "10           Брянск        10.000000\n",
       "74             Сочи         9.612903\n",
       "84        Ульяновск         9.580645"
      ]
     },
     "execution_count": 12,
     "metadata": {},
     "output_type": "execute_result"
    }
   ],
   "source": [
    "top10_cities"
   ]
  },
  {
   "cell_type": "markdown",
   "metadata": {},
   "source": [
    "### Графики"
   ]
  },
  {
   "cell_type": "markdown",
   "metadata": {},
   "source": [
    "#### Зависимость количества полетов от медели самолета"
   ]
  },
  {
   "cell_type": "code",
   "execution_count": 13,
   "metadata": {},
   "outputs": [
    {
     "data": {
      "image/png": "[encoded data removed]",
      "text/plain": [
       "<Figure size 432x288 with 1 Axes>"
      ]
     },
     "metadata": {
      "needs_background": "light"
     },
     "output_type": "display_data"
    }
   ],
   "source": [
    "sort1 = query_1.sort_values(by='flights_amount')\n",
    "sns.barplot(x='model', y='flights_amount', data=sort1, label=\"line\")\n",
    "plt.title('Зависимость количества полетов от медели самолета', fontsize=20)\n",
    "plt.xlabel('Модель самолета', fontsize=14)\n",
    "plt.ylabel('Количество рейсов', fontsize=14)\n",
    "plt.xticks(rotation=40)\n",
    "plt.show()"
   ]
  },
  {
   "cell_type": "markdown",
   "metadata": {},
   "source": [
    "Cessna 208, bombardier crj-200, superjet-100 совершают в разы больше перелетов, чем остальные самолеты"
   ]
  },
  {
   "cell_type": "markdown",
   "metadata": {},
   "source": [
    "#### Зависимость количества полетов от городов"
   ]
  },
  {
   "cell_type": "markdown",
   "metadata": {},
   "source": [
    "Считаю, что целесообразнее брать топ-10 городов, потому что остальные города с очень не большим кол-вом полетов будут только усложнять чтение графика."
   ]
  },
  {
   "cell_type": "code",
   "execution_count": 14,
   "metadata": {},
   "outputs": [],
   "source": [
    "sort2 = query_3.sort_values(by='average_flights')"
   ]
  },
  {
   "cell_type": "code",
   "execution_count": 15,
   "metadata": {},
   "outputs": [
    {
     "data": {
      "image/png": "[encoded data removed]",
      "text/plain": [
       "<Figure size 1080x1800 with 1 Axes>"
      ]
     },
     "metadata": {
      "needs_background": "light"
     },
     "output_type": "display_data"
    }
   ],
   "source": [
    "plt.figure(figsize=(15, 25))\n",
    "sns.barplot(x='average_flights', y='city', data=sort2)\n",
    "plt.title('Зависимость количества полетов от города', fontsize=20)\n",
    "plt.xlabel('Название города', fontsize=14)\n",
    "plt.ylabel('Количество рейсов', fontsize=14)\n",
    "sns.despine(left=True)\n",
    "plt.show()"
   ]
  },
  {
   "cell_type": "markdown",
   "metadata": {},
   "source": [
    "Москва впереди планеты всей) Это очевидно, далее Питер и Новосибирск"
   ]
  },
  {
   "cell_type": "markdown",
   "metadata": {},
   "source": [
    "#### Зависимость количества полетов от городов топ 10"
   ]
  },
  {
   "cell_type": "code",
   "execution_count": 16,
   "metadata": {},
   "outputs": [
    {
     "data": {
      "text/plain": [
       "(array([0, 1, 2, 3, 4, 5, 6, 7, 8, 9]), <a list of 10 Text xticklabel objects>)"
      ]
     },
     "execution_count": 16,
     "metadata": {},
     "output_type": "execute_result"
    },
    {
     "data": {
      "image/png": "[encoded data removed]",
      "text/plain": [
       "<Figure size 1080x1080 with 1 Axes>"
      ]
     },
     "metadata": {
      "needs_background": "light"
     },
     "output_type": "display_data"
    }
   ],
   "source": [
    "plt.figure(figsize=(15, 15))\n",
    "sns.barplot(x='city', y='average_flights', data=top10_cities)\n",
    "plt.title('Зависимость количества полетов от города', fontsize=20)\n",
    "plt.xlabel('Название города', fontsize=14)\n",
    "plt.ylabel('Количество рейсов', fontsize=14)\n",
    "plt.xticks(rotation=50)"
   ]
  },
  {
   "cell_type": "markdown",
   "metadata": {},
   "source": [
    "Москва, Питер, Новосибирск топ 3"
   ]
  },
  {
   "cell_type": "markdown",
   "metadata": {},
   "source": [
    "- Москва и Питер наиболее большие города России. Москва вообще, как государство в государстве. Плотность населения в этих городах намного выше, поэтому и рейсов намного больше.\n",
    "    \n",
    "- Недаром Новосибирск-это столица Сибири, да и Красноярск большой город. И расстояния между городами в Сибири больше и дороги не такие хорошие, как в Европейской части России, поэтому кроме, как на самолете до некоторых мест не доберешься.\n",
    "    \n",
    "- Да, в 2018 году был Чемпионат Мира по футболу. Скорее всего Ростов попал сюда именно поэтому. Остальные города в топе, мне кажется, вполне заслуженно.\n",
    "    \n",
    "- Скорее всего по Сибири как, раз рентабельно посылать в рейсы более маленькие самолеты. Плотность населения, не такая большая, чтобы посылать в рейсы большие самолеты."
   ]
  },
  {
   "cell_type": "markdown",
   "metadata": {},
   "source": [
    "## Вывод"
   ]
  },
  {
   "cell_type": "markdown",
   "metadata": {},
   "source": [
    "Самые распространенные самолеты по колличеству рейсов :\n",
    " 1. Cessna 208\n",
    " 2. Bombardier crj-200\n",
    " 3. Superjet-100"
   ]
  },
  {
   "cell_type": "markdown",
   "metadata": {},
   "source": [
    "Топ-5 городов по колличеству рейсов:\n",
    "1. Москва\n",
    "2. Санкт-Петербург\n",
    "3. Новосибирск\n",
    "4. Екатеринбург\n",
    "5. Красноярск"
   ]
  },
  {
   "cell_type": "markdown",
   "metadata": {},
   "source": [
    "Москва, Санкт-Петербург и Новосибирск имеют самое большое колличество рейсов, далее колличество рейсов по городам различается не на много."
   ]
  }
 ],
 "metadata": {
  "ExecuteTimeLog": [
   {
    "duration": 1026,
    "start_time": "2021-07-26T09:48:18.031Z"
   },
   {
    "duration": 22,
    "start_time": "2021-07-26T09:48:28.086Z"
   },
   {
    "duration": 21,
    "start_time": "2021-07-26T09:48:45.535Z"
   },
   {
    "duration": 19,
    "start_time": "2021-07-26T09:49:00.283Z"
   },
   {
    "duration": 6,
    "start_time": "2021-07-26T09:49:13.370Z"
   },
   {
    "duration": 18,
    "start_time": "2021-07-26T09:49:40.320Z"
   },
   {
    "duration": 9,
    "start_time": "2021-07-26T09:49:49.406Z"
   },
   {
    "duration": 4,
    "start_time": "2021-07-26T09:51:16.132Z"
   },
   {
    "duration": 9,
    "start_time": "2021-07-26T09:51:27.162Z"
   },
   {
    "duration": 4,
    "start_time": "2021-07-26T09:52:07.624Z"
   },
   {
    "duration": 6,
    "start_time": "2021-07-26T09:52:12.094Z"
   },
   {
    "duration": 3,
    "start_time": "2021-07-26T09:57:40.800Z"
   },
   {
    "duration": 376,
    "start_time": "2021-07-26T09:58:16.165Z"
   },
   {
    "duration": 163,
    "start_time": "2021-07-26T09:58:24.567Z"
   },
   {
    "duration": 162,
    "start_time": "2021-07-26T09:58:34.922Z"
   },
   {
    "duration": 160,
    "start_time": "2021-07-26T09:58:47.372Z"
   },
   {
    "duration": 360,
    "start_time": "2021-07-26T09:59:09.034Z"
   },
   {
    "duration": 367,
    "start_time": "2021-07-26T09:59:27.375Z"
   },
   {
    "duration": 271,
    "start_time": "2021-07-26T09:59:47.904Z"
   },
   {
    "duration": 187,
    "start_time": "2021-07-26T10:00:45.788Z"
   },
   {
    "duration": 352,
    "start_time": "2021-07-26T10:01:06.779Z"
   },
   {
    "duration": 188,
    "start_time": "2021-07-26T10:07:39.621Z"
   },
   {
    "duration": 185,
    "start_time": "2021-07-26T10:08:03.438Z"
   },
   {
    "duration": 188,
    "start_time": "2021-07-26T10:08:17.792Z"
   },
   {
    "duration": 186,
    "start_time": "2021-07-26T10:08:25.904Z"
   },
   {
    "duration": 199,
    "start_time": "2021-07-26T10:09:06.436Z"
   },
   {
    "duration": 1150,
    "start_time": "2021-07-26T10:11:59.797Z"
   },
   {
    "duration": 20,
    "start_time": "2021-07-26T10:12:00.949Z"
   },
   {
    "duration": 12,
    "start_time": "2021-07-26T10:12:00.971Z"
   },
   {
    "duration": 33,
    "start_time": "2021-07-26T10:12:00.984Z"
   },
   {
    "duration": 10,
    "start_time": "2021-07-26T10:12:01.019Z"
   },
   {
    "duration": 26,
    "start_time": "2021-07-26T10:12:01.030Z"
   },
   {
    "duration": 16,
    "start_time": "2021-07-26T10:12:01.058Z"
   },
   {
    "duration": 18,
    "start_time": "2021-07-26T10:12:01.076Z"
   },
   {
    "duration": 15,
    "start_time": "2021-07-26T10:12:01.096Z"
   },
   {
    "duration": 310,
    "start_time": "2021-07-26T10:12:01.113Z"
   },
   {
    "duration": 187,
    "start_time": "2021-07-26T10:12:39.015Z"
   },
   {
    "duration": 181,
    "start_time": "2021-07-26T10:13:35.766Z"
   },
   {
    "duration": 177,
    "start_time": "2021-07-26T10:13:55.542Z"
   },
   {
    "duration": 181,
    "start_time": "2021-07-26T10:15:37.602Z"
   },
   {
    "duration": 4,
    "start_time": "2021-07-26T10:16:00.430Z"
   },
   {
    "duration": 1404,
    "start_time": "2021-07-26T10:16:21.402Z"
   },
   {
    "duration": 1347,
    "start_time": "2021-07-26T10:16:38.644Z"
   },
   {
    "duration": 1319,
    "start_time": "2021-07-26T10:17:02.085Z"
   },
   {
    "duration": 2075,
    "start_time": "2021-07-26T10:17:26.799Z"
   },
   {
    "duration": 1855,
    "start_time": "2021-07-26T10:17:47.529Z"
   },
   {
    "duration": 508,
    "start_time": "2021-07-26T10:19:14.946Z"
   },
   {
    "duration": 365,
    "start_time": "2021-07-26T10:19:23.462Z"
   },
   {
    "duration": 373,
    "start_time": "2021-07-26T10:19:39.496Z"
   },
   {
    "duration": 345,
    "start_time": "2021-07-26T11:00:26.655Z"
   },
   {
    "duration": 333,
    "start_time": "2021-07-26T11:00:38.717Z"
   },
   {
    "duration": 280,
    "start_time": "2021-07-26T11:01:58.529Z"
   },
   {
    "duration": 267,
    "start_time": "2021-07-26T11:02:15.568Z"
   },
   {
    "duration": 3,
    "start_time": "2021-07-26T11:05:15.633Z"
   },
   {
    "duration": 1563,
    "start_time": "2021-07-26T11:05:22.307Z"
   },
   {
    "duration": 2047,
    "start_time": "2021-07-26T11:05:32.196Z"
   },
   {
    "duration": 1871,
    "start_time": "2021-07-26T11:05:40.850Z"
   },
   {
    "duration": 1948,
    "start_time": "2021-07-26T11:05:53.921Z"
   },
   {
    "duration": 2194,
    "start_time": "2021-07-26T11:06:08.113Z"
   },
   {
    "duration": 595,
    "start_time": "2021-07-26T11:07:14.065Z"
   },
   {
    "duration": 381,
    "start_time": "2021-07-26T11:07:18.675Z"
   },
   {
    "duration": 1125,
    "start_time": "2021-07-26T11:13:41.273Z"
   },
   {
    "duration": 19,
    "start_time": "2021-07-26T11:13:42.399Z"
   },
   {
    "duration": 11,
    "start_time": "2021-07-26T11:13:42.420Z"
   },
   {
    "duration": 19,
    "start_time": "2021-07-26T11:13:42.432Z"
   },
   {
    "duration": 8,
    "start_time": "2021-07-26T11:13:42.453Z"
   },
   {
    "duration": 4,
    "start_time": "2021-07-26T11:13:42.463Z"
   },
   {
    "duration": 17,
    "start_time": "2021-07-26T11:13:42.469Z"
   },
   {
    "duration": 4,
    "start_time": "2021-07-26T11:13:42.488Z"
   },
   {
    "duration": 11,
    "start_time": "2021-07-26T11:13:42.494Z"
   },
   {
    "duration": 200,
    "start_time": "2021-07-26T11:13:42.507Z"
   },
   {
    "duration": 4,
    "start_time": "2021-07-26T11:13:42.708Z"
   },
   {
    "duration": 1842,
    "start_time": "2021-07-26T11:13:42.714Z"
   },
   {
    "duration": 399,
    "start_time": "2021-07-26T11:13:44.558Z"
   },
   {
    "duration": 1147,
    "start_time": "2021-07-26T11:29:58.952Z"
   },
   {
    "duration": 29,
    "start_time": "2021-07-26T11:30:00.101Z"
   },
   {
    "duration": 9,
    "start_time": "2021-07-26T11:30:00.132Z"
   },
   {
    "duration": 36,
    "start_time": "2021-07-26T11:30:00.143Z"
   },
   {
    "duration": 11,
    "start_time": "2021-07-26T11:30:00.181Z"
   },
   {
    "duration": 16,
    "start_time": "2021-07-26T11:30:00.194Z"
   },
   {
    "duration": 34,
    "start_time": "2021-07-26T11:30:00.211Z"
   },
   {
    "duration": 12,
    "start_time": "2021-07-26T11:30:00.247Z"
   },
   {
    "duration": 34,
    "start_time": "2021-07-26T11:30:00.260Z"
   },
   {
    "duration": 238,
    "start_time": "2021-07-26T11:30:00.296Z"
   },
   {
    "duration": 5,
    "start_time": "2021-07-26T11:30:00.536Z"
   },
   {
    "duration": 1898,
    "start_time": "2021-07-26T11:30:00.543Z"
   },
   {
    "duration": 410,
    "start_time": "2021-07-26T11:30:02.442Z"
   },
   {
    "duration": 1433,
    "start_time": "2021-07-26T18:12:26.016Z"
   },
   {
    "duration": 24,
    "start_time": "2021-07-26T18:12:27.453Z"
   },
   {
    "duration": 17,
    "start_time": "2021-07-26T18:12:27.481Z"
   },
   {
    "duration": 24,
    "start_time": "2021-07-26T18:12:27.502Z"
   },
   {
    "duration": 14,
    "start_time": "2021-07-26T18:12:27.529Z"
   },
   {
    "duration": 6,
    "start_time": "2021-07-26T18:12:27.545Z"
   },
   {
    "duration": 44,
    "start_time": "2021-07-26T18:12:27.553Z"
   },
   {
    "duration": 9,
    "start_time": "2021-07-26T18:12:27.600Z"
   },
   {
    "duration": 13,
    "start_time": "2021-07-26T18:12:27.612Z"
   },
   {
    "duration": 351,
    "start_time": "2021-07-26T18:12:27.628Z"
   },
   {
    "duration": 5,
    "start_time": "2021-07-26T18:12:27.986Z"
   },
   {
    "duration": 3297,
    "start_time": "2021-07-26T18:12:27.994Z"
   },
   {
    "duration": 716,
    "start_time": "2021-07-26T18:12:31.294Z"
   },
   {
    "duration": 452,
    "start_time": "2021-07-27T06:44:46.815Z"
   },
   {
    "duration": 1506,
    "start_time": "2021-07-27T06:45:02.036Z"
   },
   {
    "duration": 24,
    "start_time": "2021-07-27T06:45:03.544Z"
   },
   {
    "duration": 22,
    "start_time": "2021-07-27T06:45:03.572Z"
   },
   {
    "duration": 23,
    "start_time": "2021-07-27T06:45:03.600Z"
   },
   {
    "duration": 19,
    "start_time": "2021-07-27T06:45:03.626Z"
   },
   {
    "duration": 412,
    "start_time": "2021-07-27T06:45:03.648Z"
   },
   {
    "duration": -3610,
    "start_time": "2021-07-27T06:45:07.674Z"
   },
   {
    "duration": -3614,
    "start_time": "2021-07-27T06:45:07.679Z"
   },
   {
    "duration": -3615,
    "start_time": "2021-07-27T06:45:07.682Z"
   },
   {
    "duration": -3616,
    "start_time": "2021-07-27T06:45:07.685Z"
   },
   {
    "duration": -3617,
    "start_time": "2021-07-27T06:45:07.689Z"
   },
   {
    "duration": -3619,
    "start_time": "2021-07-27T06:45:07.693Z"
   },
   {
    "duration": -3620,
    "start_time": "2021-07-27T06:45:07.696Z"
   },
   {
    "duration": -3621,
    "start_time": "2021-07-27T06:45:07.699Z"
   },
   {
    "duration": 24,
    "start_time": "2021-07-27T06:45:48.625Z"
   },
   {
    "duration": 280,
    "start_time": "2021-07-27T06:46:10.964Z"
   },
   {
    "duration": 327,
    "start_time": "2021-07-27T06:46:29.018Z"
   },
   {
    "duration": 15,
    "start_time": "2021-07-27T06:46:38.125Z"
   },
   {
    "duration": 7,
    "start_time": "2021-07-27T06:50:00.655Z"
   },
   {
    "duration": 17,
    "start_time": "2021-07-27T06:50:25.588Z"
   },
   {
    "duration": 18,
    "start_time": "2021-07-27T06:50:30.009Z"
   },
   {
    "duration": 13,
    "start_time": "2021-07-27T06:50:47.080Z"
   },
   {
    "duration": 7,
    "start_time": "2021-07-27T06:50:51.880Z"
   },
   {
    "duration": 338,
    "start_time": "2021-07-27T07:14:25.889Z"
   },
   {
    "duration": 1413,
    "start_time": "2021-07-27T07:18:45.637Z"
   },
   {
    "duration": 25,
    "start_time": "2021-07-27T07:18:47.053Z"
   },
   {
    "duration": 19,
    "start_time": "2021-07-27T07:18:47.083Z"
   },
   {
    "duration": 23,
    "start_time": "2021-07-27T07:18:47.106Z"
   },
   {
    "duration": 17,
    "start_time": "2021-07-27T07:18:47.132Z"
   },
   {
    "duration": 22,
    "start_time": "2021-07-27T07:18:47.151Z"
   },
   {
    "duration": 38,
    "start_time": "2021-07-27T07:18:47.175Z"
   },
   {
    "duration": 18,
    "start_time": "2021-07-27T07:18:47.215Z"
   },
   {
    "duration": 7,
    "start_time": "2021-07-27T07:18:47.237Z"
   },
   {
    "duration": 16,
    "start_time": "2021-07-27T07:18:47.246Z"
   },
   {
    "duration": 36,
    "start_time": "2021-07-27T07:18:47.265Z"
   },
   {
    "duration": 11,
    "start_time": "2021-07-27T07:18:47.303Z"
   },
   {
    "duration": 349,
    "start_time": "2021-07-27T07:18:47.316Z"
   },
   {
    "duration": 4,
    "start_time": "2021-07-27T07:18:47.668Z"
   },
   {
    "duration": 3236,
    "start_time": "2021-07-27T07:18:47.674Z"
   },
   {
    "duration": 817,
    "start_time": "2021-07-27T07:18:50.912Z"
   },
   {
    "duration": 4102,
    "start_time": "2021-07-27T07:45:23.384Z"
   },
   {
    "duration": 3441,
    "start_time": "2021-07-27T07:48:26.000Z"
   },
   {
    "duration": 3022,
    "start_time": "2021-07-27T07:49:26.621Z"
   },
   {
    "duration": 3242,
    "start_time": "2021-07-27T07:49:46.912Z"
   },
   {
    "duration": 2981,
    "start_time": "2021-07-27T07:51:29.421Z"
   },
   {
    "duration": 1501,
    "start_time": "2021-09-15T11:59:29.516Z"
   },
   {
    "duration": 32,
    "start_time": "2021-09-15T11:59:31.020Z"
   },
   {
    "duration": 14,
    "start_time": "2021-09-15T11:59:31.056Z"
   },
   {
    "duration": 33,
    "start_time": "2021-09-15T11:59:31.072Z"
   },
   {
    "duration": 21,
    "start_time": "2021-09-15T11:59:31.108Z"
   },
   {
    "duration": 36,
    "start_time": "2021-09-15T11:59:31.131Z"
   },
   {
    "duration": 13,
    "start_time": "2021-09-15T11:59:31.169Z"
   },
   {
    "duration": 21,
    "start_time": "2021-09-15T11:59:31.186Z"
   },
   {
    "duration": 19,
    "start_time": "2021-09-15T11:59:31.210Z"
   },
   {
    "duration": 29,
    "start_time": "2021-09-15T11:59:31.231Z"
   },
   {
    "duration": 19,
    "start_time": "2021-09-15T11:59:31.263Z"
   },
   {
    "duration": 32,
    "start_time": "2021-09-15T11:59:31.284Z"
   },
   {
    "duration": 321,
    "start_time": "2021-09-15T11:59:31.318Z"
   },
   {
    "duration": 13,
    "start_time": "2021-09-15T11:59:31.641Z"
   },
   {
    "duration": 3088,
    "start_time": "2021-09-15T11:59:31.656Z"
   },
   {
    "duration": 687,
    "start_time": "2021-09-15T11:59:34.746Z"
   }
  ],
  "kernelspec": {
   "display_name": "Python 3",
   "language": "python",
   "name": "python3"
  },
  "language_info": {
   "codemirror_mode": {
    "name": "ipython",
    "version": 3
   },
   "file_extension": ".py",
   "mimetype": "text/x-python",
   "name": "python",
   "nbconvert_exporter": "python",
   "pygments_lexer": "ipython3",
   "version": "3.7.8"
  },
  "toc": {
   "base_numbering": 1,
   "nav_menu": {},
   "number_sections": true,
   "sideBar": true,
   "skip_h1_title": true,
   "title_cell": "Содержание",
   "title_sidebar": "Contents",
   "toc_cell": true,
   "toc_position": {
    "height": "calc(100% - 180px)",
    "left": "10px",
    "top": "150px",
    "width": "289.6px"
   },
   "toc_section_display": true,
   "toc_window_display": true
  }
 },
 "nbformat": 4,
 "nbformat_minor": 2
}
